{
 "cells": [
  {
   "cell_type": "code",
   "execution_count": 1,
   "metadata": {},
   "outputs": [
    {
     "name": "stderr",
     "output_type": "stream",
     "text": [
      "C:\\ProgramData\\Anaconda3\\lib\\site-packages\\statsmodels\\compat\\pandas.py:56: FutureWarning: The pandas.core.datetools module is deprecated and will be removed in a future version. Please use the pandas.tseries module instead.\n",
      "  from pandas.core import datetools\n"
     ]
    }
   ],
   "source": [
    "import dero\n",
    "import pandas as pd"
   ]
  },
  {
   "cell_type": "code",
   "execution_count": 2,
   "metadata": {},
   "outputs": [
    {
     "data": {
      "text/plain": [
       "'0.8.18'"
      ]
     },
     "execution_count": 2,
     "metadata": {},
     "output_type": "execute_result"
    }
   ],
   "source": [
    "dero.__version__"
   ]
  },
  {
   "cell_type": "code",
   "execution_count": null,
   "metadata": {
    "collapsed": true
   },
   "outputs": [],
   "source": [
    "df_extra = pd.DataFrame([\n",
    "                                (10516, 'a', '1/1/2000', 1.01),\n",
    "                                (10516, 'a', '1/2/2000', 1.02),\n",
    "                                (10516, 'a', '1/2/2000', 1.02),\n",
    "                                (10516, 'a', '1/3/2000', 1.03),\n",
    "                                (10516, 'a', '1/4/2000', 1.04),\n",
    "                                (10516, 'b', '1/1/2000', 1.05),\n",
    "                                (10516, 'b', '1/2/2000', 1.06),\n",
    "                                (10516, 'b', '1/3/2000', 1.07),\n",
    "                                (10516, 'b', '1/4/2000', 1.08),\n",
    "                                (10517, 'a', '1/1/2000', 1.09),\n",
    "                                (10517, 'a', '1/2/2000', 1.10),\n",
    "                                (10517, 'a', '1/3/2000', 1.11),\n",
    "                                (10517, 'a', '1/4/2000', 1.12),\n",
    "                               ], columns = ['PERMNO','byvar','Date', 'RET'])"
   ]
  },
  {
   "cell_type": "code",
   "execution_count": 11,
   "metadata": {
    "collapsed": true
   },
   "outputs": [],
   "source": [
    "df = pd.DataFrame([\n",
    "                                (10516, 'a', '1/1/2000', 1.01),\n",
    "                                (10516, 'a', '1/2/2000', 1.02),\n",
    "                                (10516, 'a', '1/3/2000', 1.03),\n",
    "                                (10516, 'a', '1/4/2000', 1.04),\n",
    "                                (10516, 'b', '1/1/2000', 1.05),\n",
    "                                (10516, 'b', '1/2/2000', 1.06),\n",
    "                                (10516, 'b', '1/3/2000', 1.07),\n",
    "                                (10516, 'b', '1/4/2000', 1.08),\n",
    "                                (10517, 'a', '1/1/2000', 1.09),\n",
    "                                (10517, 'a', '1/2/2000', 1.10),\n",
    "                                (10517, 'a', '1/3/2000', 1.11),\n",
    "                                (10517, 'a', '1/4/2000', 1.12),\n",
    "                               ], columns = ['PERMNO','byvar','Date', 'RET'])   \n",
    "\n",
    "df_datetime = df.copy()\n",
    "df_datetime['Date'] = pd.to_datetime(df_datetime['Date'])"
   ]
  },
  {
   "cell_type": "code",
   "execution_count": 7,
   "metadata": {
    "collapsed": true
   },
   "outputs": [],
   "source": [
    "df_extra_dates = pd.DataFrame([\n",
    "                                (10516, 'a', '1/1/2000', 1.01),\n",
    "                                (10516, 'a', '1/2/2000', 1.02),\n",
    "                                (10516, 'a', '1/3/2000', 1.03),\n",
    "                                (10516, 'a', '1/4/2000', 1.04),\n",
    "                                (10516, 'a', '1/5/2000', 1.05),\n",
    "                                (10516, 'a', '1/6/2000', 1.06),\n",
    "                                (10516, 'b', '1/1/2000', 1.05),\n",
    "                                (10516, 'b', '1/2/2000', 1.06),\n",
    "                                (10516, 'b', '1/3/2000', 1.07),\n",
    "                                (10516, 'b', '1/4/2000', 1.08),\n",
    "                                (10517, 'a', '1/1/2000', 1.09),\n",
    "                                (10517, 'a', '1/2/2000', 1.10),\n",
    "                                (10517, 'a', '1/3/2000', 1.11),\n",
    "                                (10517, 'a', '1/4/2000', 1.12),\n",
    "                                (10517, 'a', '1/5/2000', 1.13),\n",
    "                                (10517, 'a', '1/6/2000', 1.14),\n",
    "\n",
    "                               ], columns = ['PERMNO','byvar','Date', 'RET'])   \n",
    "\n",
    "    \n",
    "df_extra_datetime = df_extra_dates.copy()\n",
    "df_extra_datetime['Date'] = pd.to_datetime(df_extra_datetime['Date'])"
   ]
  },
  {
   "cell_type": "code",
   "execution_count": 12,
   "metadata": {},
   "outputs": [
    {
     "name": "stdout",
     "output_type": "stream",
     "text": [
      "2017-12-10 12:34:09: Initializing pull_crsp function\n",
      "2017-12-10 12:34:09: Checking inputs.\n",
      "2017-12-10 12:34:09: Loading CRSP dataframe...\n",
      "2017-12-10 12:34:09: Loaded.\n",
      "2017-12-10 12:34:09: Converting SAS date to Pandas format.\n",
      "2017-12-10 12:34:09: Converted.\n",
      "2017-12-10 12:34:09: Generating key.\n",
      "2017-12-10 12:34:09: Abret detected.\n",
      "2017-12-10 12:34:09: Creating abret window periods.\n",
      "2017-12-10 12:34:09: Initializing expand_time for periods [0, -1, -2, -3, -4, -5, -6, -7, -8, -9, -10, -11, -12, -13, -14, -15, -16, -17, -18, -19, -20, -21, -22, -23, -24, -25, -26, -27, -28, -29, -30, -31, -32, -33, -34, -35, -36].\n",
      "2017-12-10 12:34:09: Calculating number of rows.\n",
      "2017-12-10 12:34:09: Calculating number of duplicates.\n",
      "2017-12-10 12:34:09: Duplicating observations 36 times.\n",
      "2017-12-10 12:34:09: Duplicated.\n",
      "2017-12-10 12:34:09: Creating shift variable.\n",
      "2017-12-10 12:34:09: Creating shifted date.\n",
      "2017-12-10 12:34:09: expand_time completed.\n",
      "2017-12-10 12:34:09: Merging with CRSP to get abret window data as well as regular data.\n",
      "2017-12-10 12:34:09: Merging CRSP to dataframe.\n",
      "2017-12-10 12:34:09: Completed merge.\n",
      "2017-12-10 12:34:09: Getting Fama-French factors, then running regressions.\n",
      "> c:\\users\\derobertisna.ufad\\dropbox (personal)\\python\\dero\\dero\\data.py(681)get_abret()\n",
      "-> if not includefac:\n",
      "(Pdb) c\n",
      "2017-12-10 12:34:11: Dropping unneeded observations (abret window dates).\n",
      "2017-12-10 12:34:11: Reshaping long to wide.\n"
     ]
    }
   ],
   "source": [
    "crsp = dero.data.GetCRSP(debug=True)\n",
    "result = crsp.pull_crsp(df_datetime, get=['RET'],\n",
    "                                        other_byvars='byvar', abret=5, window=36)"
   ]
  },
  {
   "cell_type": "markdown",
   "metadata": {},
   "source": [
    "Monthly"
   ]
  },
  {
   "cell_type": "code",
   "execution_count": 17,
   "metadata": {},
   "outputs": [
    {
     "name": "stdout",
     "output_type": "stream",
     "text": [
      "2017-12-10 13:01:17: Initializing pull_crsp function\n",
      "2017-12-10 13:01:17: Checking inputs.\n",
      "2017-12-10 13:01:17: Generating key.\n",
      "2017-12-10 13:01:17: Abret detected.\n",
      "2017-12-10 13:01:17: Creating abret window periods.\n",
      "2017-12-10 13:01:17: Initializing expand_time for periods [0, -1, -2, -3, -4, -5, -6, -7, -8, -9, -10, -11, -12, -13, -14, -15, -16, -17, -18, -19, -20, -21, -22, -23, -24, -25, -26, -27, -28, -29, -30].\n",
      "2017-12-10 13:01:17: Daily frequency, getting trading day calendar.\n",
      "2017-12-10 13:01:18: Calculating number of rows.\n",
      "2017-12-10 13:01:18: Calculating number of duplicates.\n",
      "2017-12-10 13:01:18: Duplicating observations 30 times.\n",
      "2017-12-10 13:01:18: Duplicated.\n",
      "2017-12-10 13:01:18: Creating shift variable.\n",
      "2017-12-10 13:01:18: Creating shifted date.\n",
      "2017-12-10 13:01:18: expand_time completed.\n",
      "2017-12-10 13:01:18: Merging with CRSP to get abret window data as well as regular data.\n",
      "2017-12-10 13:01:18: Merging CRSP to dataframe.\n",
      "2017-12-10 13:01:18: Completed merge.\n",
      "2017-12-10 13:01:18: Getting Fama-French factors, then running regressions.\n",
      "> c:\\users\\derobertisna.ufad\\dropbox (personal)\\python\\dero\\dero\\data.py(681)get_abret()\n",
      "-> return out\n",
      "(Pdb) c\n",
      "2017-12-10 13:01:20: Dropping unneeded observations (abret window dates).\n",
      "2017-12-10 13:01:20: Reshaping long to wide.\n"
     ]
    }
   ],
   "source": [
    "result = crsp.pull_crsp(df_datetime, freq='d', get=['RET'],\n",
    "                                        other_byvars='byvar', abret=3, window=30)"
   ]
  },
  {
   "cell_type": "code",
   "execution_count": 18,
   "metadata": {},
   "outputs": [
    {
     "data": {
      "text/plain": [
       "PERMNO             object\n",
       "byvar              object\n",
       "Date       datetime64[ns]\n",
       "RET_old           float64\n",
       "RET               float64\n",
       "ABRET             float64\n",
       "dtype: object"
      ]
     },
     "execution_count": 18,
     "metadata": {},
     "output_type": "execute_result"
    }
   ],
   "source": [
    "result.dtypes"
   ]
  },
  {
   "cell_type": "code",
   "execution_count": 19,
   "metadata": {},
   "outputs": [
    {
     "name": "stdout",
     "output_type": "stream",
     "text": [
      "pd.DataFrame(data = [\n",
      "(10516, 'a', Timestamp('2000-01-03 00:00:00'), 1.03, -0.010309278033673763, -0.017147875523782847),\n",
      "(10516, 'a', Timestamp('2000-01-04 00:00:00'), 1.04, -0.010416666977107523, -0.005220015181566345),\n",
      "(10516, 'b', Timestamp('2000-01-03 00:00:00'), 1.07, -0.010309278033673763, -0.017147875523782847),\n",
      "(10516, 'b', Timestamp('2000-01-04 00:00:00'), 1.08, -0.010416666977107523, -0.005220015181566345),\n",
      "(10517, 'a', Timestamp('2000-01-03 00:00:00'), 1.11, -0.034246575087308884, -0.01889417133577246),\n",
      "(10517, 'a', Timestamp('2000-01-04 00:00:00'), 1.12, -0.0035460991784930225, 0.02276294919810182),\n",
      "], columns = ['PERMNO', 'byvar', 'Date', 'RET_old', 'RET', 'ABRET'])\n"
     ]
    }
   ],
   "source": [
    "dero.pandas.to_copy_paste(result)"
   ]
  }
 ],
 "metadata": {
  "kernelspec": {
   "display_name": "Python 3",
   "language": "python",
   "name": "python3"
  }
 },
 "nbformat": 4,
 "nbformat_minor": 1
}
