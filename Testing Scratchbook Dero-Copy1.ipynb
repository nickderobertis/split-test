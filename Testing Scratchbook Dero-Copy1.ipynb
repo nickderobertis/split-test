{
 "cells": [
  {
   "cell_type": "code",
   "execution_count": 1,
   "metadata": {
    "collapsed": false
   },
   "outputs": [],
   "source": [
    "import dero\n",
    "import pandas as pd"
   ]
  },
  {
   "cell_type": "code",
   "execution_count": 2,
   "metadata": {
    "collapsed": false
   },
   "outputs": [],
   "source": [
    "df = pd.DataFrame([\n",
    "                                (10516, 'a', '1/1/2000', 1.01),\n",
    "                                (10516, 'a', '1/2/2000', 1.02),\n",
    "                                (10516, 'a', '1/3/2000', 1.03),\n",
    "                                (10516, 'a', '1/4/2000', 1.04),\n",
    "                                (10516, 'b', '1/1/2000', 1.05),\n",
    "                                (10516, 'b', '1/2/2000', 1.06),\n",
    "                                (10516, 'b', '1/3/2000', 1.07),\n",
    "                                (10516, 'b', '1/4/2000', 1.08),\n",
    "                                (10517, 'a', '1/1/2000', 1.09),\n",
    "                                (10517, 'a', '1/2/2000', 1.10),\n",
    "                                (10517, 'a', '1/3/2000', 1.11),\n",
    "                                (10517, 'a', '1/4/2000', 1.12),\n",
    "                               ], columns = ['PERMNO','byvar','Date', 'RET'])"
   ]
  },
  {
   "cell_type": "code",
   "execution_count": 30,
   "metadata": {
    "collapsed": false
   },
   "outputs": [],
   "source": [
    "df_extra = pd.DataFrame([\n",
    "                                (10516, 'a', '1/1/2000', 1.01),\n",
    "                                (10516, 'a', '1/2/2000', 1.02),\n",
    "                                (10516, 'a', '1/2/2000', 1.02),\n",
    "                                (10516, 'a', '1/3/2000', 1.03),\n",
    "                                (10516, 'a', '1/4/2000', 1.04),\n",
    "                                (10516, 'b', '1/1/2000', 1.05),\n",
    "                                (10516, 'b', '1/2/2000', 1.06),\n",
    "                                (10516, 'b', '1/3/2000', 1.07),\n",
    "                                (10516, 'b', '1/4/2000', 1.08),\n",
    "                                (10517, 'a', '1/1/2000', 1.09),\n",
    "                                (10517, 'a', '1/2/2000', 1.10),\n",
    "                                (10517, 'a', '1/3/2000', 1.11),\n",
    "                                (10517, 'a', '1/4/2000', 1.12),\n",
    "                               ], columns = ['PERMNO','byvar','Date', 'RET'])"
   ]
  },
  {
   "cell_type": "code",
   "execution_count": 2,
   "metadata": {
    "collapsed": true
   },
   "outputs": [],
   "source": [
    "df_weight = pd.DataFrame(data = [\n",
    "        (10516, 'a', '1/1/2000', 1.01, 0),\n",
    "        (10516, 'a', '1/2/2000', 1.02, 1),\n",
    "        (10516, 'a', '1/3/2000', 1.03, 1),\n",
    "        (10516, 'a', '1/4/2000', 1.04, 0),\n",
    "        (10516, 'b', '1/1/2000', 1.05, 1),\n",
    "        (10516, 'b', '1/2/2000', 1.06, 1),\n",
    "        (10516, 'b', '1/3/2000', 1.07, 1),\n",
    "        (10516, 'b', '1/4/2000', 1.08, 1),\n",
    "        (10517, 'a', '1/1/2000', 1.09, 0),\n",
    "        (10517, 'a', '1/2/2000', 1.1, 0),\n",
    "        (10517, 'a', '1/3/2000', 1.11, 0),\n",
    "        (10517, 'a', '1/4/2000', 1.12, 1),\n",
    "        ], columns = ['PERMNO', 'byvar', 'Date', 'RET', 'weight'])"
   ]
  },
  {
   "cell_type": "code",
   "execution_count": 3,
   "metadata": {
    "collapsed": false
   },
   "outputs": [],
   "source": [
    "from pandas import Timestamp\n",
    "ticker_df = pd.DataFrame(data = [\n",
    "        ('a', Timestamp('2000-01-01 00:00:00'), 'ADM'),\n",
    "        ('a', Timestamp('2000-01-02 00:00:00'), 'ADM'),\n",
    "        ('a', Timestamp('2000-01-03 00:00:00'), 'ADM'),\n",
    "        ('a', Timestamp('2000-01-04 00:00:00'), 'ADM'),\n",
    "        ('b', Timestamp('2000-01-01 00:00:00'), 'ADM'),\n",
    "        ('b', Timestamp('2000-01-02 00:00:00'), 'ADM'),\n",
    "        ('b', Timestamp('2000-01-03 00:00:00'), 'ADM'),\n",
    "        ('b', Timestamp('2000-01-04 00:00:00'), 'ADM'),\n",
    "        ('a', Timestamp('2008-01-01 00:00:00'), 'AAN'),\n",
    "        ('a', Timestamp('2009-01-02 00:00:00'), 'AAN'),\n",
    "        ('a', Timestamp('2010-01-03 00:00:00'), 'AAN'),\n",
    "        ('a', Timestamp('2011-01-04 00:00:00'), 'AAN'),\n",
    "        ], columns = ['byvar', 'Date', 'TICKER'])"
   ]
  },
  {
   "cell_type": "code",
   "execution_count": 10,
   "metadata": {
    "collapsed": false
   },
   "outputs": [],
   "source": [
    "from numpy import nan\n",
    "permno_df_with_nan = pd.DataFrame(data = [\n",
    "        ('a', Timestamp('2000-01-01 00:00:00'), 10516.0),\n",
    "        ('a', Timestamp('2000-01-02 00:00:00'), 10516.0),\n",
    "        ('a', Timestamp('2000-01-03 00:00:00'), 10516.0),\n",
    "        ('a', Timestamp('2000-01-04 00:00:00'), 10516.0),\n",
    "        ('b', Timestamp('2000-01-01 00:00:00'), 10516.0),\n",
    "        ('b', Timestamp('2000-01-02 00:00:00'), 10516.0),\n",
    "        ('b', Timestamp('2000-01-03 00:00:00'), 10516.0),\n",
    "        ('b', Timestamp('2000-01-04 00:00:00'), 10516.0),\n",
    "        ('a', Timestamp('2008-01-01 00:00:00'), nan),\n",
    "        ('a', Timestamp('2009-01-02 00:00:00'), nan),\n",
    "        ('a', Timestamp('2010-01-03 00:00:00'), 78049.0),\n",
    "        ('a', Timestamp('2011-01-04 00:00:00'), 10517.0),\n",
    "        ], columns = ['byvar', 'Date', 'PERMNO'])"
   ]
  },
  {
   "cell_type": "code",
   "execution_count": null,
   "metadata": {
    "collapsed": true
   },
   "outputs": [],
   "source": [
    "from pandas import Timestamp\n",
    "df_ticker_extra_cols_year_month = pd.DataFrame(data = [\n",
    "        ('a', Timestamp('2000-01-01 00:00:00'), 'ADM', 1.01, 2000, 1),\n",
    "        ('a', Timestamp('2000-01-02 00:00:00'), 'ADM', 1.02, 2000, 1),\n",
    "        ('a', Timestamp('2000-01-03 00:00:00'), 'ADM', 1.03, 2000, 1),\n",
    "        ('a', Timestamp('2000-01-04 00:00:00'), 'ADM', 1.04, 2000, 1),\n",
    "        ('b', Timestamp('2000-01-01 00:00:00'), 'ADM', 1.05, 2000, 1),\n",
    "        ('b', Timestamp('2000-01-02 00:00:00'), 'ADM', 1.06, 2000, 1),\n",
    "        ('b', Timestamp('2000-01-03 00:00:00'), 'ADM', 1.07, 2000, 1),\n",
    "        ('b', Timestamp('2000-01-04 00:00:00'), 'ADM', 1.08, 2000, 1),\n",
    "        ('a', Timestamp('2008-01-01 00:00:00'), 'AAN', 1.09, 2008, 1),\n",
    "        ('a', Timestamp('2009-01-02 00:00:00'), 'AAN', 1.1, 2009, 1),\n",
    "        ('a', Timestamp('2010-01-03 00:00:00'), 'AAN', 1.11, 2010, 1),\n",
    "        ('a', Timestamp('2011-01-04 00:00:00'), 'AAN', 1.12, 2011, 1),\n",
    "        ], columns = ['byvar', 'Date', 'TICKER', 'other', 'Year', 'Month'])"
   ]
  },
  {
   "cell_type": "code",
   "execution_count": 3,
   "metadata": {
    "collapsed": false
   },
   "outputs": [],
   "source": [
    "from numpy import nan\n",
    "df_nan_byvar = pd.DataFrame(data = [\n",
    "                                ('a', 1),\n",
    "                                (nan, 2),\n",
    "                                ('b', 3),\n",
    "                                ('b', 4),\n",
    "                                ], columns = ['byvar', 'val'])"
   ]
  },
  {
   "cell_type": "code",
   "execution_count": 2,
   "metadata": {
    "collapsed": false
   },
   "outputs": [],
   "source": [
    "from numpy import nan\n",
    "df_nan_byvar_and_val = pd.DataFrame(data = [\n",
    "                                ('a', 1),\n",
    "                                (nan, 2),\n",
    "                                ('b', nan),\n",
    "                                ('b', 4),\n",
    "                                ], columns = ['byvar', 'val'])"
   ]
  },
  {
   "cell_type": "code",
   "execution_count": 2,
   "metadata": {
    "collapsed": false
   },
   "outputs": [],
   "source": [
    "from numpy import nan\n",
    "df_nan_byvar_and_val_nonstandard_index = pd.DataFrame(data = [\n",
    "                                ('a', 1),\n",
    "                                (nan, 2),\n",
    "                                ('b', nan),\n",
    "                                ('b', 4),\n",
    "                                ], columns = ['byvar', 'val'],\n",
    "                                index=[5,6,7,8])"
   ]
  },
  {
   "cell_type": "code",
   "execution_count": 1,
   "metadata": {
    "collapsed": false
   },
   "outputs": [],
   "source": [
    "import dero"
   ]
  },
  {
   "cell_type": "code",
   "execution_count": 2,
   "metadata": {
    "collapsed": false
   },
   "outputs": [
    {
     "data": {
      "text/plain": [
       "['__builtins__',\n",
       " '__cached__',\n",
       " '__dero_version__',\n",
       " '__doc__',\n",
       " '__file__',\n",
       " '__loader__',\n",
       " '__name__',\n",
       " '__package__',\n",
       " '__path__',\n",
       " '__spec__',\n",
       " '__version__',\n",
       " '__version_info__',\n",
       " 'core',\n",
       " 'data',\n",
       " 'decorators',\n",
       " 'dero',\n",
       " 'latex',\n",
       " 'logging',\n",
       " 'matplotlib',\n",
       " 'multiprocessing',\n",
       " 'pandas',\n",
       " 'pdf',\n",
       " 'selenium',\n",
       " 'sympy',\n",
       " 'sys',\n",
       " 'time']"
      ]
     },
     "execution_count": 2,
     "metadata": {},
     "output_type": "execute_result"
    }
   ],
   "source": [
    "dir(dero)"
   ]
  },
  {
   "cell_type": "code",
   "execution_count": null,
   "metadata": {
    "collapsed": true
   },
   "outputs": [],
   "source": [
    "dero.pandas."
   ]
  },
  {
   "cell_type": "code",
   "execution_count": 2,
   "metadata": {
    "collapsed": false
   },
   "outputs": [],
   "source": [
    "import testing_rename\n"
   ]
  },
  {
   "cell_type": "code",
   "execution_count": 3,
   "metadata": {
    "collapsed": true
   },
   "outputs": [],
   "source": [
    "testing_rename.time2.sleep(3)"
   ]
  },
  {
   "cell_type": "code",
   "execution_count": 5,
   "metadata": {
    "collapsed": false
   },
   "outputs": [],
   "source": [
    "import time"
   ]
  },
  {
   "cell_type": "code",
   "execution_count": 1,
   "metadata": {
    "collapsed": false
   },
   "outputs": [
    {
     "ename": "ImportError",
     "evalue": "No module named 'time2'",
     "output_type": "error",
     "traceback": [
      "\u001b[1;31m---------------------------------------------------------------------------\u001b[0m",
      "\u001b[1;31mImportError\u001b[0m                               Traceback (most recent call last)",
      "\u001b[1;32m<ipython-input-1-25cc662a2852>\u001b[0m in \u001b[0;36m<module>\u001b[1;34m()\u001b[0m\n\u001b[1;32m----> 1\u001b[1;33m \u001b[1;32mimport\u001b[0m \u001b[0mtime2\u001b[0m\u001b[1;33m\u001b[0m\u001b[0m\n\u001b[0m",
      "\u001b[1;31mImportError\u001b[0m: No module named 'time2'"
     ]
    }
   ],
   "source": [
    "import time2"
   ]
  },
  {
   "cell_type": "code",
   "execution_count": 1,
   "metadata": {
    "collapsed": false
   },
   "outputs": [
    {
     "name": "stdout",
     "output_type": "stream",
     "text": [
      "Overwriting testing_rename.py\n"
     ]
    }
   ],
   "source": [
    "%%writefile testing_rename.py\n",
    "\n",
    "import sys, time\n",
    "\n",
    "sys.modules['time2'] = time\n",
    "\n",
    "import time2\n",
    "\n",
    "del time\n",
    "del sys.modules['time2']"
   ]
  },
  {
   "cell_type": "code",
   "execution_count": 4,
   "metadata": {
    "collapsed": false
   },
   "outputs": [
    {
     "ename": "NameError",
     "evalue": "name 'time2' is not defined",
     "output_type": "error",
     "traceback": [
      "\u001b[1;31m---------------------------------------------------------------------------\u001b[0m",
      "\u001b[1;31mNameError\u001b[0m                                 Traceback (most recent call last)",
      "\u001b[1;32m<ipython-input-4-4fadb8701146>\u001b[0m in \u001b[0;36m<module>\u001b[1;34m()\u001b[0m\n\u001b[1;32m----> 1\u001b[1;33m \u001b[0mtime2\u001b[0m\u001b[1;33m\u001b[0m\u001b[0m\n\u001b[0m",
      "\u001b[1;31mNameError\u001b[0m: name 'time2' is not defined"
     ]
    }
   ],
   "source": [
    "time2"
   ]
  },
  {
   "cell_type": "code",
   "execution_count": 2,
   "metadata": {
    "collapsed": false
   },
   "outputs": [
    {
     "data": {
      "text/plain": [
       "['__builtins__',\n",
       " '__cached__',\n",
       " '__dero_version__',\n",
       " '__doc__',\n",
       " '__file__',\n",
       " '__loader__',\n",
       " '__name__',\n",
       " '__package__',\n",
       " '__path__',\n",
       " '__spec__',\n",
       " '__version__',\n",
       " '__version_info__',\n",
       " 'core',\n",
       " 'data',\n",
       " 'decorators',\n",
       " 'dero',\n",
       " 'ext_logging',\n",
       " 'ext_matplotlib',\n",
       " 'ext_multiprocessing',\n",
       " 'ext_pandas',\n",
       " 'ext_selenium',\n",
       " 'ext_sympy',\n",
       " 'ext_time',\n",
       " 'latex',\n",
       " 'pdf',\n",
       " 'sys']"
      ]
     },
     "execution_count": 2,
     "metadata": {},
     "output_type": "execute_result"
    }
   ],
   "source": [
    "dir(dero)"
   ]
  },
  {
   "cell_type": "code",
   "execution_count": 11,
   "metadata": {
    "collapsed": false
   },
   "outputs": [
    {
     "data": {
      "text/html": [
       "<div>\n",
       "<table border=\"1\" class=\"dataframe\">\n",
       "  <thead>\n",
       "    <tr style=\"text-align: right;\">\n",
       "      <th></th>\n",
       "      <th>byvar</th>\n",
       "      <th>val</th>\n",
       "    </tr>\n",
       "  </thead>\n",
       "  <tbody>\n",
       "    <tr>\n",
       "      <th>0</th>\n",
       "      <td>a</td>\n",
       "      <td>1.0</td>\n",
       "    </tr>\n",
       "    <tr>\n",
       "      <th>1</th>\n",
       "      <td>NaN</td>\n",
       "      <td>2.0</td>\n",
       "    </tr>\n",
       "    <tr>\n",
       "      <th>2</th>\n",
       "      <td>b</td>\n",
       "      <td>NaN</td>\n",
       "    </tr>\n",
       "    <tr>\n",
       "      <th>3</th>\n",
       "      <td>b</td>\n",
       "      <td>4.0</td>\n",
       "    </tr>\n",
       "  </tbody>\n",
       "</table>\n",
       "</div>"
      ],
      "text/plain": [
       "  byvar  val\n",
       "0     a  1.0\n",
       "1   NaN  2.0\n",
       "2     b  NaN\n",
       "3     b  4.0"
      ]
     },
     "execution_count": 11,
     "metadata": {},
     "output_type": "execute_result"
    }
   ],
   "source": [
    "df_nan_byvar_and_val"
   ]
  },
  {
   "cell_type": "code",
   "execution_count": 13,
   "metadata": {
    "collapsed": false
   },
   "outputs": [
    {
     "ename": "ValueError",
     "evalue": "could not convert string to float: 'sdf'",
     "output_type": "error",
     "traceback": [
      "\u001b[1;31m---------------------------------------------------------------------------\u001b[0m",
      "\u001b[1;31mValueError\u001b[0m                                Traceback (most recent call last)",
      "\u001b[1;32m<ipython-input-13-344e3101653f>\u001b[0m in \u001b[0;36m<module>\u001b[1;34m()\u001b[0m\n\u001b[1;32m----> 1\u001b[1;33m \u001b[0mfloat\u001b[0m\u001b[1;33m(\u001b[0m\u001b[1;34m'sdf'\u001b[0m\u001b[1;33m)\u001b[0m\u001b[1;33m\u001b[0m\u001b[0m\n\u001b[0m",
      "\u001b[1;31mValueError\u001b[0m: could not convert string to float: 'sdf'"
     ]
    }
   ],
   "source": [
    "float('sdf')"
   ]
  },
  {
   "cell_type": "code",
   "execution_count": 14,
   "metadata": {
    "collapsed": true
   },
   "outputs": [],
   "source": [
    "def is_numeric(x):\n",
    "    try:\n",
    "        float(x)\n",
    "        return True\n",
    "    except ValueError:\n",
    "        return False"
   ]
  },
  {
   "cell_type": "code",
   "execution_count": 16,
   "metadata": {
    "collapsed": true
   },
   "outputs": [],
   "source": [
    "def testfunc(x):\n",
    "    return x + 1\n",
    "\n",
    "@dero.decorators.simple_decorator\n",
    "def func_or_nan(func):\n",
    "    "
   ]
  },
  {
   "cell_type": "code",
   "execution_count": 21,
   "metadata": {
    "collapsed": false
   },
   "outputs": [],
   "source": [
    "g = df_nan_byvar_and_val.groupby('byvar')\n",
    "g.transform??"
   ]
  },
  {
   "cell_type": "code",
   "execution_count": 61,
   "metadata": {
    "collapsed": false
   },
   "outputs": [],
   "source": [
    "subset = ['val','byvar']\n",
    "any_nan_subset_mask = pd.Series([all(i) for i in (zip(*[~pd.isnull(df_nan_byvar_and_val[col]) for col in subset]))])\n",
    "df_nanvals_removed = df_nan_byvar_and_val[any_nan_subset_mask]\n",
    "df_removed = df_nan_byvar_and_val[~any_nan_subset_mask]"
   ]
  },
  {
   "cell_type": "code",
   "execution_count": 65,
   "metadata": {
    "collapsed": false
   },
   "outputs": [
    {
     "data": {
      "text/html": [
       "<div>\n",
       "<table border=\"1\" class=\"dataframe\">\n",
       "  <thead>\n",
       "    <tr style=\"text-align: right;\">\n",
       "      <th></th>\n",
       "      <th>byvar</th>\n",
       "      <th>val</th>\n",
       "    </tr>\n",
       "  </thead>\n",
       "  <tbody>\n",
       "    <tr>\n",
       "      <th>0</th>\n",
       "      <td>a</td>\n",
       "      <td>1.0</td>\n",
       "    </tr>\n",
       "    <tr>\n",
       "      <th>1</th>\n",
       "      <td>NaN</td>\n",
       "      <td>NaN</td>\n",
       "    </tr>\n",
       "    <tr>\n",
       "      <th>2</th>\n",
       "      <td>NaN</td>\n",
       "      <td>NaN</td>\n",
       "    </tr>\n",
       "    <tr>\n",
       "      <th>3</th>\n",
       "      <td>b</td>\n",
       "      <td>4.0</td>\n",
       "    </tr>\n",
       "  </tbody>\n",
       "</table>\n",
       "</div>"
      ],
      "text/plain": [
       "  byvar  val\n",
       "0     a  1.0\n",
       "1   NaN  NaN\n",
       "2   NaN  NaN\n",
       "3     b  4.0"
      ]
     },
     "execution_count": 65,
     "metadata": {},
     "output_type": "execute_result"
    }
   ],
   "source": [
    "df_nanvals_removed.reindex(df_nan_byvar_and_val.index)"
   ]
  },
  {
   "cell_type": "code",
   "execution_count": 63,
   "metadata": {
    "collapsed": false
   },
   "outputs": [
    {
     "data": {
      "text/html": [
       "<div>\n",
       "<table border=\"1\" class=\"dataframe\">\n",
       "  <thead>\n",
       "    <tr style=\"text-align: right;\">\n",
       "      <th></th>\n",
       "      <th>byvar</th>\n",
       "      <th>val</th>\n",
       "    </tr>\n",
       "  </thead>\n",
       "  <tbody>\n",
       "    <tr>\n",
       "      <th>1</th>\n",
       "      <td>NaN</td>\n",
       "      <td>2.0</td>\n",
       "    </tr>\n",
       "    <tr>\n",
       "      <th>2</th>\n",
       "      <td>b</td>\n",
       "      <td>NaN</td>\n",
       "    </tr>\n",
       "  </tbody>\n",
       "</table>\n",
       "</div>"
      ],
      "text/plain": [
       "  byvar  val\n",
       "1   NaN  2.0\n",
       "2     b  NaN"
      ]
     },
     "execution_count": 63,
     "metadata": {},
     "output_type": "execute_result"
    }
   ],
   "source": [
    "df_removed"
   ]
  },
  {
   "cell_type": "code",
   "execution_count": 60,
   "metadata": {
    "collapsed": false
   },
   "outputs": [
    {
     "data": {
      "text/plain": [
       "0     True\n",
       "1    False\n",
       "2    False\n",
       "3     True\n",
       "dtype: bool"
      ]
     },
     "execution_count": 60,
     "metadata": {},
     "output_type": "execute_result"
    }
   ],
   "source": [
    "pd.Series([all(i) for i in (zip(*[~pd.isnull(df_nan_byvar_and_val[col]) for col in ['val','byvar']]))])"
   ]
  },
  {
   "cell_type": "code",
   "execution_count": 29,
   "metadata": {
    "collapsed": false
   },
   "outputs": [
    {
     "data": {
      "text/html": [
       "<div>\n",
       "<table border=\"1\" class=\"dataframe\">\n",
       "  <thead>\n",
       "    <tr style=\"text-align: right;\">\n",
       "      <th></th>\n",
       "      <th>byvar</th>\n",
       "      <th>val</th>\n",
       "    </tr>\n",
       "  </thead>\n",
       "  <tbody>\n",
       "    <tr>\n",
       "      <th>0</th>\n",
       "      <td>a</td>\n",
       "      <td>1.0</td>\n",
       "    </tr>\n",
       "    <tr>\n",
       "      <th>1</th>\n",
       "      <td>NaN</td>\n",
       "      <td>2.0</td>\n",
       "    </tr>\n",
       "    <tr>\n",
       "      <th>2</th>\n",
       "      <td>b</td>\n",
       "      <td>NaN</td>\n",
       "    </tr>\n",
       "    <tr>\n",
       "      <th>3</th>\n",
       "      <td>b</td>\n",
       "      <td>4.0</td>\n",
       "    </tr>\n",
       "  </tbody>\n",
       "</table>\n",
       "</div>"
      ],
      "text/plain": [
       "  byvar  val\n",
       "0     a  1.0\n",
       "1   NaN  2.0\n",
       "2     b  NaN\n",
       "3     b  4.0"
      ]
     },
     "execution_count": 29,
     "metadata": {},
     "output_type": "execute_result"
    }
   ],
   "source": [
    "df_nanvals_removed"
   ]
  },
  {
   "cell_type": "code",
   "execution_count": 22,
   "metadata": {
    "collapsed": false
   },
   "outputs": [
    {
     "data": {
      "text/plain": [
       "nan"
      ]
     },
     "execution_count": 22,
     "metadata": {},
     "output_type": "execute_result"
    }
   ],
   "source": [
    "testfunc(nan)"
   ]
  },
  {
   "cell_type": "code",
   "execution_count": null,
   "metadata": {
    "collapsed": true
   },
   "outputs": [],
   "source": [
    "df_nan_byvar_and_val.groupby('byvar').transform"
   ]
  },
  {
   "cell_type": "code",
   "execution_count": 26,
   "metadata": {
    "collapsed": false
   },
   "outputs": [
    {
     "data": {
      "text/html": [
       "<div>\n",
       "<table border=\"1\" class=\"dataframe\">\n",
       "  <thead>\n",
       "    <tr style=\"text-align: right;\">\n",
       "      <th></th>\n",
       "      <th>byvar</th>\n",
       "      <th>val</th>\n",
       "    </tr>\n",
       "  </thead>\n",
       "  <tbody>\n",
       "    <tr>\n",
       "      <th>0</th>\n",
       "      <td>a</td>\n",
       "      <td>1.0</td>\n",
       "    </tr>\n",
       "    <tr>\n",
       "      <th>1</th>\n",
       "      <td>NaN</td>\n",
       "      <td>2.0</td>\n",
       "    </tr>\n",
       "    <tr>\n",
       "      <th>3</th>\n",
       "      <td>b</td>\n",
       "      <td>4.0</td>\n",
       "    </tr>\n",
       "  </tbody>\n",
       "</table>\n",
       "</div>"
      ],
      "text/plain": [
       "  byvar  val\n",
       "0     a  1.0\n",
       "1   NaN  2.0\n",
       "3     b  4.0"
      ]
     },
     "execution_count": 26,
     "metadata": {},
     "output_type": "execute_result"
    }
   ],
   "source": [
    "df_nanvals_removed"
   ]
  },
  {
   "cell_type": "code",
   "execution_count": 27,
   "metadata": {
    "collapsed": false
   },
   "outputs": [
    {
     "data": {
      "text/html": [
       "<div>\n",
       "<table border=\"1\" class=\"dataframe\">\n",
       "  <thead>\n",
       "    <tr style=\"text-align: right;\">\n",
       "      <th></th>\n",
       "      <th>val</th>\n",
       "    </tr>\n",
       "  </thead>\n",
       "  <tbody>\n",
       "    <tr>\n",
       "      <th>0</th>\n",
       "      <td>1.0</td>\n",
       "    </tr>\n",
       "    <tr>\n",
       "      <th>1</th>\n",
       "      <td>2.0</td>\n",
       "    </tr>\n",
       "    <tr>\n",
       "      <th>3</th>\n",
       "      <td>4.0</td>\n",
       "    </tr>\n",
       "  </tbody>\n",
       "</table>\n",
       "</div>"
      ],
      "text/plain": [
       "   val\n",
       "0  1.0\n",
       "1  2.0\n",
       "3  4.0"
      ]
     },
     "execution_count": 27,
     "metadata": {},
     "output_type": "execute_result"
    }
   ],
   "source": [
    "df_nanvals_removed.fillna('__tempnan__').groupby('byvar').transform(lambda x: x)"
   ]
  },
  {
   "cell_type": "code",
   "execution_count": 12,
   "metadata": {
    "collapsed": false
   },
   "outputs": [
    {
     "data": {
      "text/html": [
       "<div>\n",
       "<table border=\"1\" class=\"dataframe\">\n",
       "  <thead>\n",
       "    <tr style=\"text-align: right;\">\n",
       "      <th></th>\n",
       "      <th>byvar</th>\n",
       "      <th>val</th>\n",
       "    </tr>\n",
       "  </thead>\n",
       "  <tbody>\n",
       "    <tr>\n",
       "      <th>0</th>\n",
       "      <td>a</td>\n",
       "      <td>1</td>\n",
       "    </tr>\n",
       "    <tr>\n",
       "      <th>1</th>\n",
       "      <td>__tempnan__</td>\n",
       "      <td>2</td>\n",
       "    </tr>\n",
       "    <tr>\n",
       "      <th>2</th>\n",
       "      <td>b</td>\n",
       "      <td>__tempnan__</td>\n",
       "    </tr>\n",
       "    <tr>\n",
       "      <th>3</th>\n",
       "      <td>b</td>\n",
       "      <td>4</td>\n",
       "    </tr>\n",
       "  </tbody>\n",
       "</table>\n",
       "</div>"
      ],
      "text/plain": [
       "         byvar          val\n",
       "0            a            1\n",
       "1  __tempnan__            2\n",
       "2            b  __tempnan__\n",
       "3            b            4"
      ]
     },
     "execution_count": 12,
     "metadata": {},
     "output_type": "execute_result"
    }
   ],
   "source": [
    "df_nan_byvar_and_val[['byvar','val']] = df_nan_byvar_and_val[['byvar','val']].fillna('__tempnan__')\n",
    "df_nan_byvar_and_val"
   ]
  },
  {
   "cell_type": "code",
   "execution_count": 3,
   "metadata": {
    "collapsed": false
   },
   "outputs": [
    {
     "data": {
      "text/html": [
       "<div>\n",
       "<table border=\"1\" class=\"dataframe\">\n",
       "  <thead>\n",
       "    <tr style=\"text-align: right;\">\n",
       "      <th></th>\n",
       "      <th>byvar</th>\n",
       "      <th>val</th>\n",
       "      <th>val_transform</th>\n",
       "    </tr>\n",
       "  </thead>\n",
       "  <tbody>\n",
       "    <tr>\n",
       "      <th>5</th>\n",
       "      <td>a</td>\n",
       "      <td>1.0</td>\n",
       "      <td>1.0</td>\n",
       "    </tr>\n",
       "    <tr>\n",
       "      <th>6</th>\n",
       "      <td>NaN</td>\n",
       "      <td>2.0</td>\n",
       "      <td>2.0</td>\n",
       "    </tr>\n",
       "    <tr>\n",
       "      <th>7</th>\n",
       "      <td>b</td>\n",
       "      <td>NaN</td>\n",
       "      <td>NaN</td>\n",
       "    </tr>\n",
       "    <tr>\n",
       "      <th>8</th>\n",
       "      <td>b</td>\n",
       "      <td>4.0</td>\n",
       "      <td>4.0</td>\n",
       "    </tr>\n",
       "  </tbody>\n",
       "</table>\n",
       "</div>"
      ],
      "text/plain": [
       "  byvar  val  val_transform\n",
       "5     a  1.0            1.0\n",
       "6   NaN  2.0            2.0\n",
       "7     b  NaN            NaN\n",
       "8     b  4.0            4.0"
      ]
     },
     "execution_count": 3,
     "metadata": {},
     "output_type": "execute_result"
    }
   ],
   "source": [
    "dero.pandas.groupby_merge(df_nan_byvar_and_val_nonstandard_index, 'byvar', 'transform', (lambda x: x))"
   ]
  },
  {
   "cell_type": "code",
   "execution_count": 4,
   "metadata": {
    "collapsed": false
   },
   "outputs": [
    {
     "name": "stdout",
     "output_type": "stream",
     "text": [
      "> c:\\anaconda3\\lib\\site-packages\\pandas\\core\\internals.py(2635)set_axis()\n",
      "-> (old_len, new_len))\n",
      "(Pdb) u\n",
      "> c:\\anaconda3\\lib\\site-packages\\pandas\\core\\generic.py(428)_set_axis()\n",
      "-> self._data.set_axis(axis, labels)\n",
      "(Pdb) u\n",
      "> c:\\users\\derobertisna.ufad\\dropbox\\python\\dero\\pandas\\src\\properties.pyx(65)pandas.lib.AxisProperty.__set__ (pandas\\lib.c:45018)()\n",
      "(Pdb) u\n",
      "> c:\\anaconda3\\lib\\site-packages\\pandas\\core\\generic.py(2685)__setattr__()\n",
      "-> return object.__setattr__(self, name, value)\n",
      "(Pdb) u\n",
      "> c:\\anaconda3\\lib\\site-packages\\pandas\\core\\generic.py(425)set_axis()\n",
      "-> setattr(self, self._get_axis_name(axis), labels)\n",
      "(Pdb) u\n",
      "> c:\\anaconda3\\lib\\site-packages\\pandas\\core\\groupby.py(483)_set_result_index_ordered()\n",
      "-> result.set_axis(self.axis, self.obj._get_axis(self.axis))\n",
      "(Pdb) u\n",
      "> c:\\anaconda3\\lib\\site-packages\\pandas\\core\\groupby.py(3423)_transform_general()\n",
      "-> return self._set_result_index_ordered(concatenated)\n",
      "(Pdb) u\n",
      "> c:\\anaconda3\\lib\\site-packages\\pandas\\core\\groupby.py(3457)transform()\n",
      "-> return self._transform_general(func, *args, **kwargs)\n",
      "(Pdb) u\n",
      "> c:\\users\\derobertisna.ufad\\dropbox\\python\\dero\\dero\\ext_pandas.py(774)groupby_merge()\n",
      "-> grouped = func(*func_args)[subset] #apply the class method and select subset columns\n",
      "(Pdb) u\n",
      "> <ipython-input-3-f1619c317988>(1)<module>()\n",
      "-> dero.pandas.groupby_merge(df_nan_byvar_and_val, 'byvar', 'transform', (lambda x: x))\n",
      "(Pdb) d\n",
      "> c:\\users\\derobertisna.ufad\\dropbox\\python\\dero\\dero\\ext_pandas.py(774)groupby_merge()\n",
      "-> grouped = func(*func_args)[subset] #apply the class method and select subset columns\n",
      "(Pdb) grouped.count()\n",
      "       val\n",
      "byvar     \n",
      "a        1\n",
      "b        1\n",
      "(Pdb) no_nans\n",
      "  byvar  val\n",
      "0     a  1.0\n",
      "1   NaN  2.0\n",
      "3     b  4.0\n",
      "(Pdb) df\n",
      "  byvar  val\n",
      "0     a  1.0\n",
      "1   NaN  2.0\n",
      "2     b  NaN\n",
      "3     b  4.0\n",
      "(Pdb) q\n"
     ]
    }
   ],
   "source": [
    "import pdb; pdb.pm()"
   ]
  },
  {
   "cell_type": "code",
   "execution_count": 96,
   "metadata": {
    "collapsed": false
   },
   "outputs": [
    {
     "data": {
      "text/plain": [
       "<module 'dero' from 'c:\\\\users\\\\derobertisna.ufad\\\\dropbox\\\\python\\\\dero\\\\dero\\\\__init__.py'>"
      ]
     },
     "execution_count": 96,
     "metadata": {},
     "output_type": "execute_result"
    }
   ],
   "source": [
    "import imp; imp.reload(dero)"
   ]
  },
  {
   "cell_type": "code",
   "execution_count": 10,
   "metadata": {
    "collapsed": false
   },
   "outputs": [
    {
     "data": {
      "text/plain": [
       "[1, 2]"
      ]
     },
     "execution_count": 10,
     "metadata": {},
     "output_type": "execute_result"
    }
   ],
   "source": [
    "[i for i in range(1,3)]"
   ]
  },
  {
   "cell_type": "code",
   "execution_count": 8,
   "metadata": {
    "collapsed": false
   },
   "outputs": [
    {
     "ename": "NameError",
     "evalue": "name 'aadfs' is not defined",
     "output_type": "error",
     "traceback": [
      "\u001b[1;31m---------------------------------------------------------------------------\u001b[0m",
      "\u001b[1;31mNameError\u001b[0m                                 Traceback (most recent call last)",
      "\u001b[1;32m<ipython-input-8-c08955944246>\u001b[0m in \u001b[0;36m<module>\u001b[1;34m()\u001b[0m\n\u001b[1;32m----> 1\u001b[1;33m \u001b[1;32mdel\u001b[0m \u001b[0maadfs\u001b[0m\u001b[1;33m\u001b[0m\u001b[0m\n\u001b[0m",
      "\u001b[1;31mNameError\u001b[0m: name 'aadfs' is not defined"
     ]
    }
   ],
   "source": [
    "del aadfs"
   ]
  },
  {
   "cell_type": "code",
   "execution_count": 68,
   "metadata": {
    "collapsed": true
   },
   "outputs": [],
   "source": [
    "dero.pandas.groupby_merge?"
   ]
  },
  {
   "cell_type": "code",
   "execution_count": 63,
   "metadata": {
    "collapsed": false
   },
   "outputs": [
    {
     "data": {
      "text/plain": [
       "PERMNO     True\n",
       "byvar     False\n",
       "Date      False\n",
       "RET       False\n",
       "dtype: bool"
      ]
     },
     "execution_count": 63,
     "metadata": {},
     "output_type": "execute_result"
    }
   ],
   "source": [
    "df.dtypes == np.int64"
   ]
  },
  {
   "cell_type": "code",
   "execution_count": 49,
   "metadata": {
    "collapsed": true
   },
   "outputs": [],
   "source": [
    "np.number?"
   ]
  },
  {
   "cell_type": "code",
   "execution_count": 6,
   "metadata": {
    "collapsed": true
   },
   "outputs": [],
   "source": [
    "f.close()"
   ]
  },
  {
   "cell_type": "code",
   "execution_count": 10,
   "metadata": {
    "collapsed": true
   },
   "outputs": [],
   "source": [
    "%load_ext memory_profiler"
   ]
  },
  {
   "cell_type": "code",
   "execution_count": 4,
   "metadata": {
    "collapsed": false,
    "scrolled": false
   },
   "outputs": [
    {
     "name": "stdout",
     "output_type": "stream",
     "text": [
      "2016-05-31 12:48:50: Initializing pull_crsp function\n",
      "2016-05-31 12:48:50: Checking inputs.\n",
      "2016-05-31 12:48:50: Company ID is not PERMNO. Getting PERMNO.\n",
      "2016-05-31 12:48:53: Pulled PERMNO from dsenames.\n",
      "2016-05-31 12:48:53: Loading CRSP dataframe...\n",
      "2016-05-31 12:48:53: Loaded.\n",
      "2016-05-31 12:48:53: Converting SAS date to Pandas format.\n",
      "2016-05-31 12:48:53: Converted.\n",
      "2016-05-31 12:48:53: Time detected.\n",
      "2016-05-31 12:48:53: Cumret detected, will generate intermediate periods.\n",
      "2016-05-31 12:48:53: Generating periods [0, 3] + itermediate\n",
      "2016-05-31 12:48:53: Initializing expand_time for periods [0, 1, 2, 3].\n",
      "2016-05-31 12:48:53: Calculating number of rows.\n",
      "2016-05-31 12:48:53: Calculating number of duplicates.\n",
      "2016-05-31 12:48:53: Duplicating observations 3 times.\n",
      "2016-05-31 12:48:53: Duplicated.\n",
      "2016-05-31 12:48:53: Creating shift variable.\n",
      "2016-05-31 12:48:53: Creating shifted date.\n",
      "2016-05-31 12:48:53: expand_time completed.\n",
      "2016-05-31 12:48:53: Finished generating periods. Generating key.\n",
      "2016-05-31 12:48:53: Merging CRSP to dataframe.\n",
      "2016-05-31 12:48:53: Completed merge.\n",
      "2016-05-31 12:48:53: Cumret detected.\n",
      "2016-05-31 12:48:53: Cumulating returns with method between for time [0, 3].\n",
      "2016-05-31 12:48:53: Initializing cumulate.\n",
      "2016-05-31 12:48:53: Creating by groups.\n",
      "2016-05-31 12:48:53: Reshaping long to wide.\n"
     ]
    }
   ],
   "source": [
    "# %%mprun -f crsp.pull_crsp\n",
    "crsp = dero.data.GetCRSP(debug=True)\n",
    "# df['Date'] = pd.to_datetime(df['Date'])\n",
    "a = crsp.pull_crsp(ticker_df, coid='TICKER', get='RET', time=[0,3], cumret='between', other_byvars='byvar',\n",
    "                  drop_first=True)\n",
    "# a = crsp.pull_crsp(df, get='RET', time=[0, 3], cumret='between', other_byvars='byvar', drop_first=True)\n",
    "# dero.pandas.to_copy_paste(a)\n",
    "# a\n"
   ]
  },
  {
   "cell_type": "code",
   "execution_count": 3,
   "metadata": {
    "collapsed": false
   },
   "outputs": [
    {
     "name": "stdout",
     "output_type": "stream",
     "text": [
      "2016-05-30 17:47:54: Initializing pull_crsp function\n",
      "2016-05-30 17:47:54: Checking inputs.\n",
      "2016-05-30 17:47:54: Loading CRSP dataframe...\n",
      "2016-05-30 17:47:54: Loaded.\n",
      "2016-05-30 17:47:54: Converting SAS date to Pandas format.\n",
      "2016-05-30 17:47:54: Converted.\n",
      "2016-05-30 17:47:54: Merging CRSP to dataframe.\n",
      "2016-05-30 17:47:54: Completed merge.\n",
      "2016-05-30 17:47:54: Initializing pull_crsp function\n",
      "2016-05-30 17:47:54: Checking inputs.\n",
      "2016-05-30 17:47:54: Loading CRSP dataframe...\n",
      "2016-05-30 17:47:54: Loaded.\n",
      "2016-05-30 17:47:54: Converting SAS date to Pandas format.\n",
      "2016-05-30 17:47:54: Converted.\n",
      "2016-05-30 17:47:54: Merging CRSP to dataframe.\n",
      "2016-05-30 17:47:54: Completed merge.\n"
     ]
    },
    {
     "data": {
      "text/html": [
       "<div>\n",
       "<table border=\"1\" class=\"dataframe\">\n",
       "  <thead>\n",
       "    <tr style=\"text-align: right;\">\n",
       "      <th></th>\n",
       "      <th>PERMNO</th>\n",
       "      <th>byvar</th>\n",
       "      <th>Date</th>\n",
       "      <th>RET</th>\n",
       "      <th>PRC</th>\n",
       "      <th>SHROUT</th>\n",
       "    </tr>\n",
       "  </thead>\n",
       "  <tbody>\n",
       "    <tr>\n",
       "      <th>0</th>\n",
       "      <td>10516</td>\n",
       "      <td>a</td>\n",
       "      <td>2000-01-01</td>\n",
       "      <td>1.01</td>\n",
       "      <td>NaN</td>\n",
       "      <td>NaN</td>\n",
       "    </tr>\n",
       "    <tr>\n",
       "      <th>1</th>\n",
       "      <td>10516</td>\n",
       "      <td>a</td>\n",
       "      <td>2000-01-02</td>\n",
       "      <td>1.02</td>\n",
       "      <td>NaN</td>\n",
       "      <td>NaN</td>\n",
       "    </tr>\n",
       "    <tr>\n",
       "      <th>2</th>\n",
       "      <td>10516</td>\n",
       "      <td>a</td>\n",
       "      <td>2000-01-03</td>\n",
       "      <td>1.03</td>\n",
       "      <td>12.0000</td>\n",
       "      <td>608360.0</td>\n",
       "    </tr>\n",
       "    <tr>\n",
       "      <th>3</th>\n",
       "      <td>10516</td>\n",
       "      <td>a</td>\n",
       "      <td>2000-01-04</td>\n",
       "      <td>1.04</td>\n",
       "      <td>11.8750</td>\n",
       "      <td>608360.0</td>\n",
       "    </tr>\n",
       "    <tr>\n",
       "      <th>4</th>\n",
       "      <td>10516</td>\n",
       "      <td>b</td>\n",
       "      <td>2000-01-01</td>\n",
       "      <td>1.05</td>\n",
       "      <td>NaN</td>\n",
       "      <td>NaN</td>\n",
       "    </tr>\n",
       "    <tr>\n",
       "      <th>5</th>\n",
       "      <td>10516</td>\n",
       "      <td>b</td>\n",
       "      <td>2000-01-02</td>\n",
       "      <td>1.06</td>\n",
       "      <td>NaN</td>\n",
       "      <td>NaN</td>\n",
       "    </tr>\n",
       "    <tr>\n",
       "      <th>6</th>\n",
       "      <td>10516</td>\n",
       "      <td>b</td>\n",
       "      <td>2000-01-03</td>\n",
       "      <td>1.07</td>\n",
       "      <td>12.0000</td>\n",
       "      <td>608360.0</td>\n",
       "    </tr>\n",
       "    <tr>\n",
       "      <th>7</th>\n",
       "      <td>10516</td>\n",
       "      <td>b</td>\n",
       "      <td>2000-01-04</td>\n",
       "      <td>1.08</td>\n",
       "      <td>11.8750</td>\n",
       "      <td>608360.0</td>\n",
       "    </tr>\n",
       "    <tr>\n",
       "      <th>8</th>\n",
       "      <td>10517</td>\n",
       "      <td>a</td>\n",
       "      <td>2000-01-01</td>\n",
       "      <td>1.09</td>\n",
       "      <td>NaN</td>\n",
       "      <td>NaN</td>\n",
       "    </tr>\n",
       "    <tr>\n",
       "      <th>9</th>\n",
       "      <td>10517</td>\n",
       "      <td>a</td>\n",
       "      <td>2000-01-02</td>\n",
       "      <td>1.10</td>\n",
       "      <td>NaN</td>\n",
       "      <td>NaN</td>\n",
       "    </tr>\n",
       "    <tr>\n",
       "      <th>10</th>\n",
       "      <td>10517</td>\n",
       "      <td>a</td>\n",
       "      <td>2000-01-03</td>\n",
       "      <td>1.11</td>\n",
       "      <td>17.6250</td>\n",
       "      <td>3830.0</td>\n",
       "    </tr>\n",
       "    <tr>\n",
       "      <th>11</th>\n",
       "      <td>10517</td>\n",
       "      <td>a</td>\n",
       "      <td>2000-01-04</td>\n",
       "      <td>1.12</td>\n",
       "      <td>17.5625</td>\n",
       "      <td>3830.0</td>\n",
       "    </tr>\n",
       "  </tbody>\n",
       "</table>\n",
       "</div>"
      ],
      "text/plain": [
       "    PERMNO byvar       Date   RET      PRC    SHROUT\n",
       "0    10516     a 2000-01-01  1.01      NaN       NaN\n",
       "1    10516     a 2000-01-02  1.02      NaN       NaN\n",
       "2    10516     a 2000-01-03  1.03  12.0000  608360.0\n",
       "3    10516     a 2000-01-04  1.04  11.8750  608360.0\n",
       "4    10516     b 2000-01-01  1.05      NaN       NaN\n",
       "5    10516     b 2000-01-02  1.06      NaN       NaN\n",
       "6    10516     b 2000-01-03  1.07  12.0000  608360.0\n",
       "7    10516     b 2000-01-04  1.08  11.8750  608360.0\n",
       "8    10517     a 2000-01-01  1.09      NaN       NaN\n",
       "9    10517     a 2000-01-02  1.10      NaN       NaN\n",
       "10   10517     a 2000-01-03  1.11  17.6250    3830.0\n",
       "11   10517     a 2000-01-04  1.12  17.5625    3830.0"
      ]
     },
     "execution_count": 3,
     "metadata": {},
     "output_type": "execute_result"
    }
   ],
   "source": [
    "df['Date'] = pd.to_datetime(df['Date'])\n",
    "crsp = dero.data.GetCRSP(debug=True)\n",
    "# crsp.pull_crsp(df, get='RET', abret=4, window=36, freq='m', other_byvars='byvar')\n",
    "crsp.pull_crsp(df)\n",
    "crsp.pull_crsp(df, freq='d')"
   ]
  },
  {
   "cell_type": "code",
   "execution_count": 13,
   "metadata": {
    "collapsed": true
   },
   "outputs": [],
   "source": [
    "dero.data.get_gvkey_or_permno?"
   ]
  },
  {
   "cell_type": "code",
   "execution_count": 14,
   "metadata": {
    "collapsed": false
   },
   "outputs": [
    {
     "data": {
      "text/html": [
       "<div>\n",
       "<table border=\"1\" class=\"dataframe\">\n",
       "  <thead>\n",
       "    <tr style=\"text-align: right;\">\n",
       "      <th></th>\n",
       "      <th>byvar</th>\n",
       "      <th>Date</th>\n",
       "      <th>PERMNO</th>\n",
       "      <th>GVKEY</th>\n",
       "    </tr>\n",
       "  </thead>\n",
       "  <tbody>\n",
       "    <tr>\n",
       "      <th>0</th>\n",
       "      <td>a</td>\n",
       "      <td>2000-01-01</td>\n",
       "      <td>10516.0</td>\n",
       "      <td>1722.0</td>\n",
       "    </tr>\n",
       "    <tr>\n",
       "      <th>1</th>\n",
       "      <td>a</td>\n",
       "      <td>2000-01-02</td>\n",
       "      <td>10516.0</td>\n",
       "      <td>1722.0</td>\n",
       "    </tr>\n",
       "    <tr>\n",
       "      <th>2</th>\n",
       "      <td>a</td>\n",
       "      <td>2000-01-03</td>\n",
       "      <td>10516.0</td>\n",
       "      <td>1722.0</td>\n",
       "    </tr>\n",
       "    <tr>\n",
       "      <th>3</th>\n",
       "      <td>a</td>\n",
       "      <td>2000-01-04</td>\n",
       "      <td>10516.0</td>\n",
       "      <td>1722.0</td>\n",
       "    </tr>\n",
       "    <tr>\n",
       "      <th>4</th>\n",
       "      <td>b</td>\n",
       "      <td>2000-01-01</td>\n",
       "      <td>10516.0</td>\n",
       "      <td>1722.0</td>\n",
       "    </tr>\n",
       "    <tr>\n",
       "      <th>5</th>\n",
       "      <td>b</td>\n",
       "      <td>2000-01-02</td>\n",
       "      <td>10516.0</td>\n",
       "      <td>1722.0</td>\n",
       "    </tr>\n",
       "    <tr>\n",
       "      <th>6</th>\n",
       "      <td>b</td>\n",
       "      <td>2000-01-03</td>\n",
       "      <td>10516.0</td>\n",
       "      <td>1722.0</td>\n",
       "    </tr>\n",
       "    <tr>\n",
       "      <th>7</th>\n",
       "      <td>b</td>\n",
       "      <td>2000-01-04</td>\n",
       "      <td>10516.0</td>\n",
       "      <td>1722.0</td>\n",
       "    </tr>\n",
       "    <tr>\n",
       "      <th>8</th>\n",
       "      <td>a</td>\n",
       "      <td>2008-01-01</td>\n",
       "      <td>NaN</td>\n",
       "      <td>NaN</td>\n",
       "    </tr>\n",
       "    <tr>\n",
       "      <th>9</th>\n",
       "      <td>a</td>\n",
       "      <td>2009-01-02</td>\n",
       "      <td>NaN</td>\n",
       "      <td>NaN</td>\n",
       "    </tr>\n",
       "    <tr>\n",
       "      <th>10</th>\n",
       "      <td>a</td>\n",
       "      <td>2010-01-03</td>\n",
       "      <td>78049.0</td>\n",
       "      <td>1076.0</td>\n",
       "    </tr>\n",
       "    <tr>\n",
       "      <th>11</th>\n",
       "      <td>a</td>\n",
       "      <td>2011-01-04</td>\n",
       "      <td>10517.0</td>\n",
       "      <td>1076.0</td>\n",
       "    </tr>\n",
       "  </tbody>\n",
       "</table>\n",
       "</div>"
      ],
      "text/plain": [
       "   byvar       Date   PERMNO   GVKEY\n",
       "0      a 2000-01-01  10516.0  1722.0\n",
       "1      a 2000-01-02  10516.0  1722.0\n",
       "2      a 2000-01-03  10516.0  1722.0\n",
       "3      a 2000-01-04  10516.0  1722.0\n",
       "4      b 2000-01-01  10516.0  1722.0\n",
       "5      b 2000-01-02  10516.0  1722.0\n",
       "6      b 2000-01-03  10516.0  1722.0\n",
       "7      b 2000-01-04  10516.0  1722.0\n",
       "8      a 2008-01-01      NaN     NaN\n",
       "9      a 2009-01-02      NaN     NaN\n",
       "10     a 2010-01-03  78049.0  1076.0\n",
       "11     a 2011-01-04  10517.0  1076.0"
      ]
     },
     "execution_count": 14,
     "metadata": {},
     "output_type": "execute_result"
    }
   ],
   "source": [
    "dero.data.get_gvkey_or_permno(permno_df_with_nan, 'Date', other_byvars='byvar')"
   ]
  },
  {
   "cell_type": "code",
   "execution_count": 3,
   "metadata": {
    "collapsed": false
   },
   "outputs": [
    {
     "data": {
      "text/html": [
       "<div>\n",
       "<table border=\"1\" class=\"dataframe\">\n",
       "  <thead>\n",
       "    <tr style=\"text-align: right;\">\n",
       "      <th></th>\n",
       "      <th>PERMNO</th>\n",
       "      <th>byvar</th>\n",
       "      <th>Date</th>\n",
       "      <th>RET</th>\n",
       "      <th>weight</th>\n",
       "    </tr>\n",
       "  </thead>\n",
       "  <tbody>\n",
       "    <tr>\n",
       "      <th>0</th>\n",
       "      <td>10516</td>\n",
       "      <td>a</td>\n",
       "      <td>1/1/2000</td>\n",
       "      <td>1.01</td>\n",
       "      <td>0</td>\n",
       "    </tr>\n",
       "    <tr>\n",
       "      <th>1</th>\n",
       "      <td>10516</td>\n",
       "      <td>a</td>\n",
       "      <td>1/2/2000</td>\n",
       "      <td>1.02</td>\n",
       "      <td>1</td>\n",
       "    </tr>\n",
       "    <tr>\n",
       "      <th>2</th>\n",
       "      <td>10516</td>\n",
       "      <td>a</td>\n",
       "      <td>1/3/2000</td>\n",
       "      <td>1.03</td>\n",
       "      <td>1</td>\n",
       "    </tr>\n",
       "    <tr>\n",
       "      <th>3</th>\n",
       "      <td>10516</td>\n",
       "      <td>a</td>\n",
       "      <td>1/4/2000</td>\n",
       "      <td>1.04</td>\n",
       "      <td>0</td>\n",
       "    </tr>\n",
       "    <tr>\n",
       "      <th>4</th>\n",
       "      <td>10516</td>\n",
       "      <td>b</td>\n",
       "      <td>1/1/2000</td>\n",
       "      <td>1.05</td>\n",
       "      <td>1</td>\n",
       "    </tr>\n",
       "    <tr>\n",
       "      <th>5</th>\n",
       "      <td>10516</td>\n",
       "      <td>b</td>\n",
       "      <td>1/2/2000</td>\n",
       "      <td>1.06</td>\n",
       "      <td>1</td>\n",
       "    </tr>\n",
       "    <tr>\n",
       "      <th>6</th>\n",
       "      <td>10516</td>\n",
       "      <td>b</td>\n",
       "      <td>1/3/2000</td>\n",
       "      <td>1.07</td>\n",
       "      <td>1</td>\n",
       "    </tr>\n",
       "    <tr>\n",
       "      <th>7</th>\n",
       "      <td>10516</td>\n",
       "      <td>b</td>\n",
       "      <td>1/4/2000</td>\n",
       "      <td>1.08</td>\n",
       "      <td>1</td>\n",
       "    </tr>\n",
       "    <tr>\n",
       "      <th>8</th>\n",
       "      <td>10517</td>\n",
       "      <td>a</td>\n",
       "      <td>1/1/2000</td>\n",
       "      <td>1.09</td>\n",
       "      <td>0</td>\n",
       "    </tr>\n",
       "    <tr>\n",
       "      <th>9</th>\n",
       "      <td>10517</td>\n",
       "      <td>a</td>\n",
       "      <td>1/2/2000</td>\n",
       "      <td>1.10</td>\n",
       "      <td>0</td>\n",
       "    </tr>\n",
       "    <tr>\n",
       "      <th>10</th>\n",
       "      <td>10517</td>\n",
       "      <td>a</td>\n",
       "      <td>1/3/2000</td>\n",
       "      <td>1.11</td>\n",
       "      <td>0</td>\n",
       "    </tr>\n",
       "    <tr>\n",
       "      <th>11</th>\n",
       "      <td>10517</td>\n",
       "      <td>a</td>\n",
       "      <td>1/4/2000</td>\n",
       "      <td>1.12</td>\n",
       "      <td>1</td>\n",
       "    </tr>\n",
       "  </tbody>\n",
       "</table>\n",
       "</div>"
      ],
      "text/plain": [
       "    PERMNO byvar      Date   RET  weight\n",
       "0    10516     a  1/1/2000  1.01       0\n",
       "1    10516     a  1/2/2000  1.02       1\n",
       "2    10516     a  1/3/2000  1.03       1\n",
       "3    10516     a  1/4/2000  1.04       0\n",
       "4    10516     b  1/1/2000  1.05       1\n",
       "5    10516     b  1/2/2000  1.06       1\n",
       "6    10516     b  1/3/2000  1.07       1\n",
       "7    10516     b  1/4/2000  1.08       1\n",
       "8    10517     a  1/1/2000  1.09       0\n",
       "9    10517     a  1/2/2000  1.10       0\n",
       "10   10517     a  1/3/2000  1.11       0\n",
       "11   10517     a  1/4/2000  1.12       1"
      ]
     },
     "execution_count": 3,
     "metadata": {},
     "output_type": "execute_result"
    }
   ],
   "source": [
    "df_weight"
   ]
  },
  {
   "cell_type": "code",
   "execution_count": 4,
   "metadata": {
    "collapsed": false
   },
   "outputs": [
    {
     "name": "stdout",
     "output_type": "stream",
     "text": [
      "pd.DataFrame(data = [\n",
      "(0.48774684748988806, '10516_a'),\n",
      "(0.9388636664168903, '10516_b'),\n",
      "(0.22929206076239614, '10517_a'),\n",
      "], columns = ['coef_RET', 'key'])\n"
     ]
    }
   ],
   "source": [
    "df_weight['key'] = df_weight['PERMNO'].astype(str) + '_' + df_weight['byvar']\n",
    "a = dero.pandas.reg_by(df_weight, 'weight', 'RET', 'key')\n",
    "dero.pandas.to_copy_paste(a)"
   ]
  },
  {
   "cell_type": "code",
   "execution_count": 7,
   "metadata": {
    "collapsed": false
   },
   "outputs": [
    {
     "name": "stdout",
     "output_type": "stream",
     "text": [
      "> c:\\anaconda3\\lib\\site-packages\\pandas\\core\\ops.py(592)na_op()\n",
      "-> result[mask] = op(x[mask], y)\n",
      "(Pdb) u\n",
      "> c:\\anaconda3\\lib\\site-packages\\pandas\\core\\ops.py(651)wrapper()\n",
      "-> return left._constructor(wrap_results(na_op(lvalues, rvalues)),\n",
      "(Pdb) u\n",
      "> <ipython-input-6-9a0f81226f55>(1)<module>()\n",
      "-> df_weight['key'] = df_weight['PERMNO'] + '_' + df_weight['byvar']\n",
      "(Pdb) u\n",
      "> c:\\anaconda3\\lib\\site-packages\\ipython\\core\\interactiveshell.py(2885)run_code()\n",
      "-> exec(code_obj, self.user_global_ns, self.user_ns)\n",
      "(Pdb) d\n",
      "> <ipython-input-6-9a0f81226f55>(1)<module>()\n",
      "-> df_weight['key'] = df_weight['PERMNO'] + '_' + df_weight['byvar']\n",
      "(Pdb) q\n"
     ]
    }
   ],
   "source": [
    "import pdb; pdb.pm()"
   ]
  },
  {
   "cell_type": "code",
   "execution_count": 1,
   "metadata": {
    "collapsed": false
   },
   "outputs": [],
   "source": [
    "import os\n",
    "import dero\n",
    "import pandas as pd\n",
    "import dill\n",
    "\n",
    "os.chdir(r'C:\\Users\\derobertisna.UFAD\\Dropbox\\Python\\Testing\\package')\n",
    "\n",
    "df = dill.load(open('reg_by_fail_full_df.p','rb'))"
   ]
  },
  {
   "cell_type": "code",
   "execution_count": 3,
   "metadata": {
    "collapsed": false
   },
   "outputs": [
    {
     "data": {
      "text/html": [
       "<div>\n",
       "<table border=\"1\" class=\"dataframe\">\n",
       "  <thead>\n",
       "    <tr style=\"text-align: right;\">\n",
       "      <th></th>\n",
       "      <th>mktrf</th>\n",
       "      <th>smb</th>\n",
       "      <th>hml</th>\n",
       "      <th>umd</th>\n",
       "    </tr>\n",
       "  </thead>\n",
       "  <tbody>\n",
       "  </tbody>\n",
       "</table>\n",
       "</div>"
      ],
      "text/plain": [
       "Empty DataFrame\n",
       "Columns: [mktrf, smb, hml, umd]\n",
       "Index: []"
      ]
     },
     "execution_count": 3,
     "metadata": {},
     "output_type": "execute_result"
    }
   ],
   "source": [
    "X"
   ]
  },
  {
   "cell_type": "code",
   "execution_count": 7,
   "metadata": {
    "collapsed": false
   },
   "outputs": [],
   "source": [
    "import statsmodels.api as sm\n",
    "\n",
    "model = sm.OLS(y[1:], X.iloc[1:,:])\n",
    "result = model.fit()"
   ]
  },
  {
   "cell_type": "code",
   "execution_count": 10,
   "metadata": {
    "collapsed": false
   },
   "outputs": [
    {
     "data": {
      "text/html": [
       "<table class=\"simpletable\">\n",
       "<caption>OLS Regression Results</caption>\n",
       "<tr>\n",
       "  <th>Dep. Variable:</th>           <td>RET</td>       <th>  R-squared:         </th> <td>   0.449</td>\n",
       "</tr>\n",
       "<tr>\n",
       "  <th>Model:</th>                   <td>OLS</td>       <th>  Adj. R-squared:    </th> <td>   0.380</td>\n",
       "</tr>\n",
       "<tr>\n",
       "  <th>Method:</th>             <td>Least Squares</td>  <th>  F-statistic:       </th> <td>   6.516</td>\n",
       "</tr>\n",
       "<tr>\n",
       "  <th>Date:</th>             <td>Wed, 01 Jun 2016</td> <th>  Prob (F-statistic):</th> <td>0.000592</td>\n",
       "</tr>\n",
       "<tr>\n",
       "  <th>Time:</th>                 <td>17:16:37</td>     <th>  Log-Likelihood:    </th> <td>  58.906</td>\n",
       "</tr>\n",
       "<tr>\n",
       "  <th>No. Observations:</th>      <td>    36</td>      <th>  AIC:               </th> <td>  -109.8</td>\n",
       "</tr>\n",
       "<tr>\n",
       "  <th>Df Residuals:</th>          <td>    32</td>      <th>  BIC:               </th> <td>  -103.5</td>\n",
       "</tr>\n",
       "<tr>\n",
       "  <th>Df Model:</th>              <td>     4</td>      <th>                     </th>     <td> </td>   \n",
       "</tr>\n",
       "<tr>\n",
       "  <th>Covariance Type:</th>      <td>nonrobust</td>    <th>                     </th>     <td> </td>   \n",
       "</tr>\n",
       "</table>\n",
       "<table class=\"simpletable\">\n",
       "<tr>\n",
       "    <td></td>       <th>coef</th>     <th>std err</th>      <th>t</th>      <th>P>|t|</th> <th>[95.0% Conf. Int.]</th> \n",
       "</tr>\n",
       "<tr>\n",
       "  <th>mktrf</th> <td>    0.8907</td> <td>    0.282</td> <td>    3.160</td> <td> 0.003</td> <td>    0.317     1.465</td>\n",
       "</tr>\n",
       "<tr>\n",
       "  <th>smb</th>   <td>   -0.4281</td> <td>    0.436</td> <td>   -0.983</td> <td> 0.333</td> <td>   -1.315     0.459</td>\n",
       "</tr>\n",
       "<tr>\n",
       "  <th>hml</th>   <td>   -0.5855</td> <td>    0.518</td> <td>   -1.129</td> <td> 0.267</td> <td>   -1.642     0.471</td>\n",
       "</tr>\n",
       "<tr>\n",
       "  <th>umd</th>   <td>   -1.1429</td> <td>    0.361</td> <td>   -3.162</td> <td> 0.003</td> <td>   -1.879    -0.407</td>\n",
       "</tr>\n",
       "</table>\n",
       "<table class=\"simpletable\">\n",
       "<tr>\n",
       "  <th>Omnibus:</th>       <td> 5.802</td> <th>  Durbin-Watson:     </th> <td>   1.242</td>\n",
       "</tr>\n",
       "<tr>\n",
       "  <th>Prob(Omnibus):</th> <td> 0.055</td> <th>  Jarque-Bera (JB):  </th> <td>   5.157</td>\n",
       "</tr>\n",
       "<tr>\n",
       "  <th>Skew:</th>          <td> 0.927</td> <th>  Prob(JB):          </th> <td>  0.0759</td>\n",
       "</tr>\n",
       "<tr>\n",
       "  <th>Kurtosis:</th>      <td> 3.007</td> <th>  Cond. No.          </th> <td>    2.17</td>\n",
       "</tr>\n",
       "</table>"
      ],
      "text/plain": [
       "<class 'statsmodels.iolib.summary.Summary'>\n",
       "\"\"\"\n",
       "                            OLS Regression Results                            \n",
       "==============================================================================\n",
       "Dep. Variable:                    RET   R-squared:                       0.449\n",
       "Model:                            OLS   Adj. R-squared:                  0.380\n",
       "Method:                 Least Squares   F-statistic:                     6.516\n",
       "Date:                Wed, 01 Jun 2016   Prob (F-statistic):           0.000592\n",
       "Time:                        17:16:37   Log-Likelihood:                 58.906\n",
       "No. Observations:                  36   AIC:                            -109.8\n",
       "Df Residuals:                      32   BIC:                            -103.5\n",
       "Df Model:                           4                                         \n",
       "Covariance Type:            nonrobust                                         \n",
       "==============================================================================\n",
       "                 coef    std err          t      P>|t|      [95.0% Conf. Int.]\n",
       "------------------------------------------------------------------------------\n",
       "mktrf          0.8907      0.282      3.160      0.003         0.317     1.465\n",
       "smb           -0.4281      0.436     -0.983      0.333        -1.315     0.459\n",
       "hml           -0.5855      0.518     -1.129      0.267        -1.642     0.471\n",
       "umd           -1.1429      0.361     -3.162      0.003        -1.879    -0.407\n",
       "==============================================================================\n",
       "Omnibus:                        5.802   Durbin-Watson:                   1.242\n",
       "Prob(Omnibus):                  0.055   Jarque-Bera (JB):                5.157\n",
       "Skew:                           0.927   Prob(JB):                       0.0759\n",
       "Kurtosis:                       3.007   Cond. No.                         2.17\n",
       "==============================================================================\n",
       "\n",
       "Warnings:\n",
       "[1] Standard Errors assume that the covariance matrix of the errors is correctly specified.\n",
       "\"\"\""
      ]
     },
     "execution_count": 10,
     "metadata": {},
     "output_type": "execute_result"
    }
   ],
   "source": [
    "result.summary()"
   ]
  },
  {
   "cell_type": "code",
   "execution_count": 5,
   "metadata": {
    "collapsed": false
   },
   "outputs": [
    {
     "data": {
      "text/plain": [
       "197137   -0.086755\n",
       "197138    0.033413\n",
       "197139    0.041641\n",
       "197140   -0.031306\n",
       "197141    0.015253\n",
       "197142    0.100739\n",
       "197143    0.094049\n",
       "197144    0.012621\n",
       "197145    0.046620\n",
       "197146    0.096252\n",
       "197147    0.022589\n",
       "197148    0.082785\n",
       "197149    0.106139\n",
       "197150    0.039914\n",
       "197151    0.141626\n",
       "197152    0.054545\n",
       "197153   -0.027673\n",
       "197154    0.016624\n",
       "197155   -0.080000\n",
       "197156    0.003529\n",
       "197157   -0.002347\n",
       "197158    0.000000\n",
       "197159   -0.032805\n",
       "197160    0.018433\n",
       "197161    0.032105\n",
       "197162   -0.018670\n",
       "197163   -0.028797\n",
       "197164    0.034463\n",
       "197165    0.014168\n",
       "197166   -0.032000\n",
       "197167    0.023392\n",
       "197168   -0.118191\n",
       "197169   -0.028942\n",
       "197170   -0.014749\n",
       "197171    0.003937\n",
       "197172    0.174567\n",
       "Name: RET, dtype: float64"
      ]
     },
     "execution_count": 5,
     "metadata": {},
     "output_type": "execute_result"
    }
   ],
   "source": [
    "y[1:]"
   ]
  },
  {
   "cell_type": "code",
   "execution_count": 6,
   "metadata": {
    "collapsed": false
   },
   "outputs": [
    {
     "data": {
      "text/html": [
       "<div>\n",
       "<table border=\"1\" class=\"dataframe\">\n",
       "  <thead>\n",
       "    <tr style=\"text-align: right;\">\n",
       "      <th></th>\n",
       "      <th>mktrf</th>\n",
       "      <th>smb</th>\n",
       "      <th>hml</th>\n",
       "      <th>umd</th>\n",
       "    </tr>\n",
       "  </thead>\n",
       "  <tbody>\n",
       "    <tr>\n",
       "      <th>197137</th>\n",
       "      <td>-0.0006</td>\n",
       "      <td>0.0257</td>\n",
       "      <td>0.0153</td>\n",
       "      <td>0.0105</td>\n",
       "    </tr>\n",
       "    <tr>\n",
       "      <th>197138</th>\n",
       "      <td>0.0254</td>\n",
       "      <td>-0.0214</td>\n",
       "      <td>-0.0342</td>\n",
       "      <td>0.0113</td>\n",
       "    </tr>\n",
       "    <tr>\n",
       "      <th>197139</th>\n",
       "      <td>0.0252</td>\n",
       "      <td>0.0417</td>\n",
       "      <td>-0.0189</td>\n",
       "      <td>0.0010</td>\n",
       "    </tr>\n",
       "    <tr>\n",
       "      <th>197140</th>\n",
       "      <td>-0.0197</td>\n",
       "      <td>-0.0380</td>\n",
       "      <td>-0.0161</td>\n",
       "      <td>0.0058</td>\n",
       "    </tr>\n",
       "    <tr>\n",
       "      <th>197141</th>\n",
       "      <td>0.0423</td>\n",
       "      <td>0.0049</td>\n",
       "      <td>-0.0075</td>\n",
       "      <td>0.0074</td>\n",
       "    </tr>\n",
       "    <tr>\n",
       "      <th>197142</th>\n",
       "      <td>-0.0204</td>\n",
       "      <td>-0.0428</td>\n",
       "      <td>0.0001</td>\n",
       "      <td>-0.0027</td>\n",
       "    </tr>\n",
       "    <tr>\n",
       "      <th>197143</th>\n",
       "      <td>0.0261</td>\n",
       "      <td>0.0299</td>\n",
       "      <td>-0.0066</td>\n",
       "      <td>0.0061</td>\n",
       "    </tr>\n",
       "    <tr>\n",
       "      <th>197144</th>\n",
       "      <td>0.0206</td>\n",
       "      <td>-0.0187</td>\n",
       "      <td>-0.0038</td>\n",
       "      <td>0.0099</td>\n",
       "    </tr>\n",
       "    <tr>\n",
       "      <th>197145</th>\n",
       "      <td>-0.0019</td>\n",
       "      <td>-0.0419</td>\n",
       "      <td>0.0157</td>\n",
       "      <td>-0.0390</td>\n",
       "    </tr>\n",
       "    <tr>\n",
       "      <th>197146</th>\n",
       "      <td>0.0043</td>\n",
       "      <td>-0.0183</td>\n",
       "      <td>0.0467</td>\n",
       "      <td>-0.0324</td>\n",
       "    </tr>\n",
       "    <tr>\n",
       "      <th>197147</th>\n",
       "      <td>0.0465</td>\n",
       "      <td>0.0032</td>\n",
       "      <td>-0.0048</td>\n",
       "      <td>0.0207</td>\n",
       "    </tr>\n",
       "    <tr>\n",
       "      <th>197148</th>\n",
       "      <td>-0.0332</td>\n",
       "      <td>0.0084</td>\n",
       "      <td>-0.0186</td>\n",
       "      <td>0.0172</td>\n",
       "    </tr>\n",
       "    <tr>\n",
       "      <th>197149</th>\n",
       "      <td>0.0281</td>\n",
       "      <td>-0.0043</td>\n",
       "      <td>-0.0015</td>\n",
       "      <td>0.0011</td>\n",
       "    </tr>\n",
       "    <tr>\n",
       "      <th>197150</th>\n",
       "      <td>0.0312</td>\n",
       "      <td>0.0134</td>\n",
       "      <td>-0.0033</td>\n",
       "      <td>0.0048</td>\n",
       "    </tr>\n",
       "    <tr>\n",
       "      <th>197151</th>\n",
       "      <td>0.0418</td>\n",
       "      <td>-0.0157</td>\n",
       "      <td>0.0130</td>\n",
       "      <td>0.0020</td>\n",
       "    </tr>\n",
       "    <tr>\n",
       "      <th>197152</th>\n",
       "      <td>0.0377</td>\n",
       "      <td>0.0285</td>\n",
       "      <td>-0.0159</td>\n",
       "      <td>0.0299</td>\n",
       "    </tr>\n",
       "    <tr>\n",
       "      <th>197153</th>\n",
       "      <td>-0.0271</td>\n",
       "      <td>0.0029</td>\n",
       "      <td>-0.0246</td>\n",
       "      <td>0.0007</td>\n",
       "    </tr>\n",
       "    <tr>\n",
       "      <th>197154</th>\n",
       "      <td>0.0565</td>\n",
       "      <td>0.0187</td>\n",
       "      <td>0.0074</td>\n",
       "      <td>0.0172</td>\n",
       "    </tr>\n",
       "    <tr>\n",
       "      <th>197155</th>\n",
       "      <td>-0.0120</td>\n",
       "      <td>0.0123</td>\n",
       "      <td>-0.0044</td>\n",
       "      <td>0.0066</td>\n",
       "    </tr>\n",
       "    <tr>\n",
       "      <th>197156</th>\n",
       "      <td>0.0280</td>\n",
       "      <td>0.0195</td>\n",
       "      <td>0.0132</td>\n",
       "      <td>-0.0188</td>\n",
       "    </tr>\n",
       "    <tr>\n",
       "      <th>197157</th>\n",
       "      <td>0.0156</td>\n",
       "      <td>-0.0240</td>\n",
       "      <td>0.0041</td>\n",
       "      <td>0.0035</td>\n",
       "    </tr>\n",
       "    <tr>\n",
       "      <th>197158</th>\n",
       "      <td>0.0403</td>\n",
       "      <td>0.0083</td>\n",
       "      <td>-0.0006</td>\n",
       "      <td>0.0209</td>\n",
       "    </tr>\n",
       "    <tr>\n",
       "      <th>197159</th>\n",
       "      <td>0.0129</td>\n",
       "      <td>-0.0039</td>\n",
       "      <td>0.0029</td>\n",
       "      <td>0.0147</td>\n",
       "    </tr>\n",
       "    <tr>\n",
       "      <th>197160</th>\n",
       "      <td>0.0557</td>\n",
       "      <td>0.0047</td>\n",
       "      <td>0.0131</td>\n",
       "      <td>-0.0191</td>\n",
       "    </tr>\n",
       "    <tr>\n",
       "      <th>197161</th>\n",
       "      <td>0.0118</td>\n",
       "      <td>0.0162</td>\n",
       "      <td>0.0325</td>\n",
       "      <td>-0.0296</td>\n",
       "    </tr>\n",
       "    <tr>\n",
       "      <th>197162</th>\n",
       "      <td>0.0078</td>\n",
       "      <td>0.0067</td>\n",
       "      <td>-0.0110</td>\n",
       "      <td>0.0033</td>\n",
       "    </tr>\n",
       "    <tr>\n",
       "      <th>197163</th>\n",
       "      <td>-0.0176</td>\n",
       "      <td>-0.0107</td>\n",
       "      <td>0.0414</td>\n",
       "      <td>0.0010</td>\n",
       "    </tr>\n",
       "    <tr>\n",
       "      <th>197164</th>\n",
       "      <td>0.0273</td>\n",
       "      <td>0.0049</td>\n",
       "      <td>0.0157</td>\n",
       "      <td>-0.0102</td>\n",
       "    </tr>\n",
       "    <tr>\n",
       "      <th>197165</th>\n",
       "      <td>0.0255</td>\n",
       "      <td>0.0071</td>\n",
       "      <td>0.0055</td>\n",
       "      <td>-0.0246</td>\n",
       "    </tr>\n",
       "    <tr>\n",
       "      <th>197166</th>\n",
       "      <td>0.0079</td>\n",
       "      <td>-0.0260</td>\n",
       "      <td>0.0002</td>\n",
       "      <td>0.0306</td>\n",
       "    </tr>\n",
       "    <tr>\n",
       "      <th>197167</th>\n",
       "      <td>0.0389</td>\n",
       "      <td>0.0082</td>\n",
       "      <td>0.0048</td>\n",
       "      <td>-0.0116</td>\n",
       "    </tr>\n",
       "    <tr>\n",
       "      <th>197168</th>\n",
       "      <td>-0.0619</td>\n",
       "      <td>-0.0012</td>\n",
       "      <td>0.0011</td>\n",
       "      <td>0.0664</td>\n",
       "    </tr>\n",
       "    <tr>\n",
       "      <th>197169</th>\n",
       "      <td>-0.0085</td>\n",
       "      <td>-0.0062</td>\n",
       "      <td>-0.0017</td>\n",
       "      <td>0.0381</td>\n",
       "    </tr>\n",
       "    <tr>\n",
       "      <th>197170</th>\n",
       "      <td>0.0311</td>\n",
       "      <td>-0.0024</td>\n",
       "      <td>-0.0006</td>\n",
       "      <td>0.0145</td>\n",
       "    </tr>\n",
       "    <tr>\n",
       "      <th>197171</th>\n",
       "      <td>0.0442</td>\n",
       "      <td>-0.0164</td>\n",
       "      <td>0.0004</td>\n",
       "      <td>-0.0039</td>\n",
       "    </tr>\n",
       "    <tr>\n",
       "      <th>197172</th>\n",
       "      <td>0.0505</td>\n",
       "      <td>0.0253</td>\n",
       "      <td>-0.0216</td>\n",
       "      <td>-0.0794</td>\n",
       "    </tr>\n",
       "  </tbody>\n",
       "</table>\n",
       "</div>"
      ],
      "text/plain": [
       "         mktrf     smb     hml     umd\n",
       "197137 -0.0006  0.0257  0.0153  0.0105\n",
       "197138  0.0254 -0.0214 -0.0342  0.0113\n",
       "197139  0.0252  0.0417 -0.0189  0.0010\n",
       "197140 -0.0197 -0.0380 -0.0161  0.0058\n",
       "197141  0.0423  0.0049 -0.0075  0.0074\n",
       "197142 -0.0204 -0.0428  0.0001 -0.0027\n",
       "197143  0.0261  0.0299 -0.0066  0.0061\n",
       "197144  0.0206 -0.0187 -0.0038  0.0099\n",
       "197145 -0.0019 -0.0419  0.0157 -0.0390\n",
       "197146  0.0043 -0.0183  0.0467 -0.0324\n",
       "197147  0.0465  0.0032 -0.0048  0.0207\n",
       "197148 -0.0332  0.0084 -0.0186  0.0172\n",
       "197149  0.0281 -0.0043 -0.0015  0.0011\n",
       "197150  0.0312  0.0134 -0.0033  0.0048\n",
       "197151  0.0418 -0.0157  0.0130  0.0020\n",
       "197152  0.0377  0.0285 -0.0159  0.0299\n",
       "197153 -0.0271  0.0029 -0.0246  0.0007\n",
       "197154  0.0565  0.0187  0.0074  0.0172\n",
       "197155 -0.0120  0.0123 -0.0044  0.0066\n",
       "197156  0.0280  0.0195  0.0132 -0.0188\n",
       "197157  0.0156 -0.0240  0.0041  0.0035\n",
       "197158  0.0403  0.0083 -0.0006  0.0209\n",
       "197159  0.0129 -0.0039  0.0029  0.0147\n",
       "197160  0.0557  0.0047  0.0131 -0.0191\n",
       "197161  0.0118  0.0162  0.0325 -0.0296\n",
       "197162  0.0078  0.0067 -0.0110  0.0033\n",
       "197163 -0.0176 -0.0107  0.0414  0.0010\n",
       "197164  0.0273  0.0049  0.0157 -0.0102\n",
       "197165  0.0255  0.0071  0.0055 -0.0246\n",
       "197166  0.0079 -0.0260  0.0002  0.0306\n",
       "197167  0.0389  0.0082  0.0048 -0.0116\n",
       "197168 -0.0619 -0.0012  0.0011  0.0664\n",
       "197169 -0.0085 -0.0062 -0.0017  0.0381\n",
       "197170  0.0311 -0.0024 -0.0006  0.0145\n",
       "197171  0.0442 -0.0164  0.0004 -0.0039\n",
       "197172  0.0505  0.0253 -0.0216 -0.0794"
      ]
     },
     "execution_count": 6,
     "metadata": {},
     "output_type": "execute_result"
    }
   ],
   "source": [
    "X.iloc[1:,:]"
   ]
  },
  {
   "cell_type": "code",
   "execution_count": null,
   "metadata": {
    "collapsed": true
   },
   "outputs": [],
   "source": []
  },
  {
   "cell_type": "code",
   "execution_count": 14,
   "metadata": {
    "collapsed": false
   },
   "outputs": [
    {
     "name": "stdout",
     "output_type": "stream",
     "text": [
      "The memory_profiler extension is already loaded. To reload it, use:\n",
      "  %reload_ext memory_profiler\n"
     ]
    }
   ],
   "source": [
    "%load_ext memory_profiler"
   ]
  },
  {
   "cell_type": "code",
   "execution_count": 17,
   "metadata": {
    "collapsed": false
   },
   "outputs": [
    {
     "name": "stdout",
     "output_type": "stream",
     "text": [
      "2016-05-31 14:16:39: Initializing cumulate.\n",
      "*** KeyboardInterrupt exception caught in code being profiled.\n"
     ]
    }
   ],
   "source": [
    "%%mprun -f dero.pandas.cumulate\n",
    "cumvars = ['RET']\n",
    "byvars = ['TICKER', 'Date']\n",
    "time=[-12, -1, 12, 24, 36, 48, 60]\n",
    "dero.pandas.cumulate(long_df, cumvars, periodvar='Shift Date', method='between',\n",
    "                       byvars=byvars, time=time, grossify=True)"
   ]
  },
  {
   "cell_type": "code",
   "execution_count": null,
   "metadata": {
    "collapsed": true
   },
   "outputs": [],
   "source": []
  },
  {
   "cell_type": "code",
   "execution_count": null,
   "metadata": {
    "collapsed": true
   },
   "outputs": [],
   "source": []
  },
  {
   "cell_type": "code",
   "execution_count": null,
   "metadata": {
    "collapsed": true
   },
   "outputs": [],
   "source": []
  },
  {
   "cell_type": "code",
   "execution_count": null,
   "metadata": {
    "collapsed": true
   },
   "outputs": [],
   "source": []
  },
  {
   "cell_type": "code",
   "execution_count": 44,
   "metadata": {
    "collapsed": true
   },
   "outputs": [],
   "source": [
    "firms = ltw['TICKER'].unique().tolist()\n",
    "ten_firms = firms[:10]\n",
    "ltw_test = ltw[ltw['TICKER'].isin(ten_firms)].copy()"
   ]
  },
  {
   "cell_type": "code",
   "execution_count": 3,
   "metadata": {
    "collapsed": false
   },
   "outputs": [
    {
     "data": {
      "text/plain": [
       "5412"
      ]
     },
     "execution_count": 3,
     "metadata": {},
     "output_type": "execute_result"
    }
   ],
   "source": [
    "len(ltw_test)"
   ]
  },
  {
   "cell_type": "code",
   "execution_count": 6,
   "metadata": {
    "collapsed": false
   },
   "outputs": [
    {
     "data": {
      "text/plain": [
       "False"
      ]
     },
     "execution_count": 6,
     "metadata": {},
     "output_type": "execute_result"
    }
   ],
   "source": [
    "ltw_test.duplicated().any()"
   ]
  },
  {
   "cell_type": "code",
   "execution_count": 11,
   "metadata": {
    "collapsed": false
   },
   "outputs": [],
   "source": [
    "ltw_test2 = ltw_test.drop(['cum_RET', '__key__'], axis=1)"
   ]
  },
  {
   "cell_type": "code",
   "execution_count": 36,
   "metadata": {
    "collapsed": false
   },
   "outputs": [
    {
     "data": {
      "text/html": [
       "<div>\n",
       "<table border=\"1\" class=\"dataframe\">\n",
       "  <thead>\n",
       "    <tr style=\"text-align: right;\">\n",
       "      <th></th>\n",
       "      <th>volume</th>\n",
       "      <th>TICKER</th>\n",
       "      <th>Date</th>\n",
       "      <th>PERMNO</th>\n",
       "      <th>Shift</th>\n",
       "      <th>RET</th>\n",
       "    </tr>\n",
       "  </thead>\n",
       "  <tbody>\n",
       "    <tr>\n",
       "      <th>65614</th>\n",
       "      <td>2375.238095</td>\n",
       "      <td>AATI</td>\n",
       "      <td>2011-10-01</td>\n",
       "      <td>90854.0</td>\n",
       "      <td>48</td>\n",
       "      <td>NaN</td>\n",
       "    </tr>\n",
       "    <tr>\n",
       "      <th>65626</th>\n",
       "      <td>2375.238095</td>\n",
       "      <td>AATI</td>\n",
       "      <td>2011-10-01</td>\n",
       "      <td>90854.0</td>\n",
       "      <td>60</td>\n",
       "      <td>NaN</td>\n",
       "    </tr>\n",
       "    <tr>\n",
       "      <th>65638</th>\n",
       "      <td>2520.238095</td>\n",
       "      <td>AATI</td>\n",
       "      <td>2011-11-01</td>\n",
       "      <td>90854.0</td>\n",
       "      <td>-1</td>\n",
       "      <td>0.006928</td>\n",
       "    </tr>\n",
       "    <tr>\n",
       "      <th>65651</th>\n",
       "      <td>2520.238095</td>\n",
       "      <td>AATI</td>\n",
       "      <td>2011-11-01</td>\n",
       "      <td>90854.0</td>\n",
       "      <td>12</td>\n",
       "      <td>NaN</td>\n",
       "    </tr>\n",
       "    <tr>\n",
       "      <th>65663</th>\n",
       "      <td>2520.238095</td>\n",
       "      <td>AATI</td>\n",
       "      <td>2011-11-01</td>\n",
       "      <td>90854.0</td>\n",
       "      <td>24</td>\n",
       "      <td>NaN</td>\n",
       "    </tr>\n",
       "    <tr>\n",
       "      <th>65675</th>\n",
       "      <td>2520.238095</td>\n",
       "      <td>AATI</td>\n",
       "      <td>2011-11-01</td>\n",
       "      <td>90854.0</td>\n",
       "      <td>36</td>\n",
       "      <td>NaN</td>\n",
       "    </tr>\n",
       "    <tr>\n",
       "      <th>65687</th>\n",
       "      <td>2520.238095</td>\n",
       "      <td>AATI</td>\n",
       "      <td>2011-11-01</td>\n",
       "      <td>90854.0</td>\n",
       "      <td>48</td>\n",
       "      <td>NaN</td>\n",
       "    </tr>\n",
       "    <tr>\n",
       "      <th>65699</th>\n",
       "      <td>2520.238095</td>\n",
       "      <td>AATI</td>\n",
       "      <td>2011-11-01</td>\n",
       "      <td>90854.0</td>\n",
       "      <td>60</td>\n",
       "      <td>NaN</td>\n",
       "    </tr>\n",
       "    <tr>\n",
       "      <th>65711</th>\n",
       "      <td>2744.642857</td>\n",
       "      <td>AATI</td>\n",
       "      <td>2011-12-01</td>\n",
       "      <td>90854.0</td>\n",
       "      <td>-1</td>\n",
       "      <td>0.317660</td>\n",
       "    </tr>\n",
       "    <tr>\n",
       "      <th>65724</th>\n",
       "      <td>2744.642857</td>\n",
       "      <td>AATI</td>\n",
       "      <td>2011-12-01</td>\n",
       "      <td>90854.0</td>\n",
       "      <td>12</td>\n",
       "      <td>NaN</td>\n",
       "    </tr>\n",
       "    <tr>\n",
       "      <th>65736</th>\n",
       "      <td>2744.642857</td>\n",
       "      <td>AATI</td>\n",
       "      <td>2011-12-01</td>\n",
       "      <td>90854.0</td>\n",
       "      <td>24</td>\n",
       "      <td>NaN</td>\n",
       "    </tr>\n",
       "    <tr>\n",
       "      <th>65748</th>\n",
       "      <td>2744.642857</td>\n",
       "      <td>AATI</td>\n",
       "      <td>2011-12-01</td>\n",
       "      <td>90854.0</td>\n",
       "      <td>36</td>\n",
       "      <td>NaN</td>\n",
       "    </tr>\n",
       "    <tr>\n",
       "      <th>65760</th>\n",
       "      <td>2744.642857</td>\n",
       "      <td>AATI</td>\n",
       "      <td>2011-12-01</td>\n",
       "      <td>90854.0</td>\n",
       "      <td>48</td>\n",
       "      <td>NaN</td>\n",
       "    </tr>\n",
       "    <tr>\n",
       "      <th>65772</th>\n",
       "      <td>2744.642857</td>\n",
       "      <td>AATI</td>\n",
       "      <td>2011-12-01</td>\n",
       "      <td>90854.0</td>\n",
       "      <td>60</td>\n",
       "      <td>NaN</td>\n",
       "    </tr>\n",
       "    <tr>\n",
       "      <th>65784</th>\n",
       "      <td>2844.761905</td>\n",
       "      <td>AATI</td>\n",
       "      <td>2012-01-01</td>\n",
       "      <td>90854.0</td>\n",
       "      <td>-1</td>\n",
       "      <td>0.006092</td>\n",
       "    </tr>\n",
       "    <tr>\n",
       "      <th>65797</th>\n",
       "      <td>2844.761905</td>\n",
       "      <td>AATI</td>\n",
       "      <td>2012-01-01</td>\n",
       "      <td>90854.0</td>\n",
       "      <td>12</td>\n",
       "      <td>NaN</td>\n",
       "    </tr>\n",
       "    <tr>\n",
       "      <th>65809</th>\n",
       "      <td>2844.761905</td>\n",
       "      <td>AATI</td>\n",
       "      <td>2012-01-01</td>\n",
       "      <td>90854.0</td>\n",
       "      <td>24</td>\n",
       "      <td>NaN</td>\n",
       "    </tr>\n",
       "    <tr>\n",
       "      <th>65821</th>\n",
       "      <td>2844.761905</td>\n",
       "      <td>AATI</td>\n",
       "      <td>2012-01-01</td>\n",
       "      <td>90854.0</td>\n",
       "      <td>36</td>\n",
       "      <td>NaN</td>\n",
       "    </tr>\n",
       "    <tr>\n",
       "      <th>65833</th>\n",
       "      <td>2844.761905</td>\n",
       "      <td>AATI</td>\n",
       "      <td>2012-01-01</td>\n",
       "      <td>90854.0</td>\n",
       "      <td>48</td>\n",
       "      <td>NaN</td>\n",
       "    </tr>\n",
       "    <tr>\n",
       "      <th>65845</th>\n",
       "      <td>2844.761905</td>\n",
       "      <td>AATI</td>\n",
       "      <td>2012-01-01</td>\n",
       "      <td>90854.0</td>\n",
       "      <td>60</td>\n",
       "      <td>NaN</td>\n",
       "    </tr>\n",
       "  </tbody>\n",
       "</table>\n",
       "</div>"
      ],
      "text/plain": [
       "            volume TICKER       Date   PERMNO  Shift       RET\n",
       "65614  2375.238095   AATI 2011-10-01  90854.0     48       NaN\n",
       "65626  2375.238095   AATI 2011-10-01  90854.0     60       NaN\n",
       "65638  2520.238095   AATI 2011-11-01  90854.0     -1  0.006928\n",
       "65651  2520.238095   AATI 2011-11-01  90854.0     12       NaN\n",
       "65663  2520.238095   AATI 2011-11-01  90854.0     24       NaN\n",
       "65675  2520.238095   AATI 2011-11-01  90854.0     36       NaN\n",
       "65687  2520.238095   AATI 2011-11-01  90854.0     48       NaN\n",
       "65699  2520.238095   AATI 2011-11-01  90854.0     60       NaN\n",
       "65711  2744.642857   AATI 2011-12-01  90854.0     -1  0.317660\n",
       "65724  2744.642857   AATI 2011-12-01  90854.0     12       NaN\n",
       "65736  2744.642857   AATI 2011-12-01  90854.0     24       NaN\n",
       "65748  2744.642857   AATI 2011-12-01  90854.0     36       NaN\n",
       "65760  2744.642857   AATI 2011-12-01  90854.0     48       NaN\n",
       "65772  2744.642857   AATI 2011-12-01  90854.0     60       NaN\n",
       "65784  2844.761905   AATI 2012-01-01  90854.0     -1  0.006092\n",
       "65797  2844.761905   AATI 2012-01-01  90854.0     12       NaN\n",
       "65809  2844.761905   AATI 2012-01-01  90854.0     24       NaN\n",
       "65821  2844.761905   AATI 2012-01-01  90854.0     36       NaN\n",
       "65833  2844.761905   AATI 2012-01-01  90854.0     48       NaN\n",
       "65845  2844.761905   AATI 2012-01-01  90854.0     60       NaN"
      ]
     },
     "execution_count": 36,
     "metadata": {},
     "output_type": "execute_result"
    }
   ],
   "source": [
    "ltw_test2.tail(20)"
   ]
  },
  {
   "cell_type": "code",
   "execution_count": 46,
   "metadata": {
    "collapsed": false
   },
   "outputs": [
    {
     "name": "stdout",
     "output_type": "stream",
     "text": [
      "528\n"
     ]
    },
    {
     "data": {
      "text/html": [
       "<div>\n",
       "<table border=\"1\" class=\"dataframe\">\n",
       "  <thead>\n",
       "    <tr style=\"text-align: right;\">\n",
       "      <th></th>\n",
       "      <th>volume</th>\n",
       "      <th>TICKER</th>\n",
       "      <th>Date</th>\n",
       "      <th>PERMNO</th>\n",
       "      <th>Shift</th>\n",
       "      <th>RET</th>\n",
       "    </tr>\n",
       "  </thead>\n",
       "  <tbody>\n",
       "    <tr>\n",
       "      <th>24904</th>\n",
       "      <td>26790.874525</td>\n",
       "      <td>AAN</td>\n",
       "      <td>2009-05-01</td>\n",
       "      <td>10517.0</td>\n",
       "      <td>-1</td>\n",
       "      <td>0.301282</td>\n",
       "    </tr>\n",
       "    <tr>\n",
       "      <th>24917</th>\n",
       "      <td>26790.874525</td>\n",
       "      <td>AAN</td>\n",
       "      <td>2009-05-01</td>\n",
       "      <td>10517.0</td>\n",
       "      <td>12</td>\n",
       "      <td>-0.146588</td>\n",
       "    </tr>\n",
       "    <tr>\n",
       "      <th>24929</th>\n",
       "      <td>26790.874525</td>\n",
       "      <td>AAN</td>\n",
       "      <td>2009-05-01</td>\n",
       "      <td>10517.0</td>\n",
       "      <td>24</td>\n",
       "      <td>-0.020146</td>\n",
       "    </tr>\n",
       "    <tr>\n",
       "      <th>24941</th>\n",
       "      <td>26790.874525</td>\n",
       "      <td>AAN</td>\n",
       "      <td>2009-05-01</td>\n",
       "      <td>10517.0</td>\n",
       "      <td>36</td>\n",
       "      <td>-0.022819</td>\n",
       "    </tr>\n",
       "    <tr>\n",
       "      <th>24953</th>\n",
       "      <td>26790.874525</td>\n",
       "      <td>AAN</td>\n",
       "      <td>2009-05-01</td>\n",
       "      <td>10517.0</td>\n",
       "      <td>48</td>\n",
       "      <td>-0.021595</td>\n",
       "    </tr>\n",
       "  </tbody>\n",
       "</table>\n",
       "</div>"
      ],
      "text/plain": [
       "             volume TICKER       Date   PERMNO  Shift       RET\n",
       "24904  26790.874525    AAN 2009-05-01  10517.0     -1  0.301282\n",
       "24917  26790.874525    AAN 2009-05-01  10517.0     12 -0.146588\n",
       "24929  26790.874525    AAN 2009-05-01  10517.0     24 -0.020146\n",
       "24941  26790.874525    AAN 2009-05-01  10517.0     36 -0.022819\n",
       "24953  26790.874525    AAN 2009-05-01  10517.0     48 -0.021595"
      ]
     },
     "execution_count": 46,
     "metadata": {},
     "output_type": "execute_result"
    }
   ],
   "source": [
    "# ltw_test3 = ltw_test2.iloc[-12:,:].copy()\n",
    "ltw_test3 = ltw_test2.loc[ltw_test2['TICKER'] == 'AAN', :].copy()\n",
    "print(len(ltw_test3))\n",
    "ltw_test3.head() # this one works`"
   ]
  },
  {
   "cell_type": "code",
   "execution_count": 26,
   "metadata": {
    "collapsed": false
   },
   "outputs": [
    {
     "data": {
      "text/html": [
       "<div>\n",
       "<table border=\"1\" class=\"dataframe\">\n",
       "  <thead>\n",
       "    <tr style=\"text-align: right;\">\n",
       "      <th></th>\n",
       "      <th>TICKER</th>\n",
       "      <th>Date</th>\n",
       "      <th>RET</th>\n",
       "      <th>Shift</th>\n",
       "    </tr>\n",
       "  </thead>\n",
       "  <tbody>\n",
       "    <tr>\n",
       "      <th>11</th>\n",
       "      <td>AA</td>\n",
       "      <td>2004-01-01</td>\n",
       "      <td>0.158183</td>\n",
       "      <td>-1</td>\n",
       "    </tr>\n",
       "    <tr>\n",
       "      <th>24</th>\n",
       "      <td>AA</td>\n",
       "      <td>2004-01-01</td>\n",
       "      <td>-0.060789</td>\n",
       "      <td>12</td>\n",
       "    </tr>\n",
       "    <tr>\n",
       "      <th>36</th>\n",
       "      <td>AA</td>\n",
       "      <td>2004-01-01</td>\n",
       "      <td>0.065269</td>\n",
       "      <td>24</td>\n",
       "    </tr>\n",
       "    <tr>\n",
       "      <th>48</th>\n",
       "      <td>AA</td>\n",
       "      <td>2004-01-01</td>\n",
       "      <td>0.081973</td>\n",
       "      <td>36</td>\n",
       "    </tr>\n",
       "    <tr>\n",
       "      <th>60</th>\n",
       "      <td>AA</td>\n",
       "      <td>2004-01-01</td>\n",
       "      <td>-0.094665</td>\n",
       "      <td>48</td>\n",
       "    </tr>\n",
       "  </tbody>\n",
       "</table>\n",
       "</div>"
      ],
      "text/plain": [
       "   TICKER       Date       RET  Shift\n",
       "11     AA 2004-01-01  0.158183     -1\n",
       "24     AA 2004-01-01 -0.060789     12\n",
       "36     AA 2004-01-01  0.065269     24\n",
       "48     AA 2004-01-01  0.081973     36\n",
       "60     AA 2004-01-01 -0.094665     48"
      ]
     },
     "execution_count": 26,
     "metadata": {},
     "output_type": "execute_result"
    }
   ],
   "source": [
    "ltw_test4 = ltw_test2.loc[:,['TICKER','Date','RET','Shift']].copy()\n",
    "ltw_test4.head()"
   ]
  },
  {
   "cell_type": "code",
   "execution_count": 10,
   "metadata": {
    "collapsed": false
   },
   "outputs": [
    {
     "data": {
      "text/html": [
       "<div>\n",
       "<table border=\"1\" class=\"dataframe\">\n",
       "  <thead>\n",
       "    <tr style=\"text-align: right;\">\n",
       "      <th></th>\n",
       "      <th>volume</th>\n",
       "      <th>TICKER</th>\n",
       "      <th>Date</th>\n",
       "      <th>PERMNO</th>\n",
       "      <th>Shift</th>\n",
       "      <th>RET</th>\n",
       "      <th>__key__</th>\n",
       "    </tr>\n",
       "  </thead>\n",
       "  <tbody>\n",
       "    <tr>\n",
       "      <th>11</th>\n",
       "      <td>2.198232e+06</td>\n",
       "      <td>AA</td>\n",
       "      <td>2004-01-01</td>\n",
       "      <td>24643.0</td>\n",
       "      <td>-1</td>\n",
       "      <td>0.158183</td>\n",
       "      <td>AA_2004-01-01</td>\n",
       "    </tr>\n",
       "    <tr>\n",
       "      <th>24</th>\n",
       "      <td>2.198232e+06</td>\n",
       "      <td>AA</td>\n",
       "      <td>2004-01-01</td>\n",
       "      <td>24643.0</td>\n",
       "      <td>12</td>\n",
       "      <td>-0.060789</td>\n",
       "      <td>AA_2004-01-01</td>\n",
       "    </tr>\n",
       "    <tr>\n",
       "      <th>36</th>\n",
       "      <td>2.198232e+06</td>\n",
       "      <td>AA</td>\n",
       "      <td>2004-01-01</td>\n",
       "      <td>24643.0</td>\n",
       "      <td>24</td>\n",
       "      <td>0.065269</td>\n",
       "      <td>AA_2004-01-01</td>\n",
       "    </tr>\n",
       "    <tr>\n",
       "      <th>48</th>\n",
       "      <td>2.198232e+06</td>\n",
       "      <td>AA</td>\n",
       "      <td>2004-01-01</td>\n",
       "      <td>24643.0</td>\n",
       "      <td>36</td>\n",
       "      <td>0.081973</td>\n",
       "      <td>AA_2004-01-01</td>\n",
       "    </tr>\n",
       "    <tr>\n",
       "      <th>60</th>\n",
       "      <td>2.198232e+06</td>\n",
       "      <td>AA</td>\n",
       "      <td>2004-01-01</td>\n",
       "      <td>24643.0</td>\n",
       "      <td>48</td>\n",
       "      <td>-0.094665</td>\n",
       "      <td>AA_2004-01-01</td>\n",
       "    </tr>\n",
       "  </tbody>\n",
       "</table>\n",
       "</div>"
      ],
      "text/plain": [
       "          volume TICKER       Date   PERMNO  Shift       RET        __key__\n",
       "11  2.198232e+06     AA 2004-01-01  24643.0     -1  0.158183  AA_2004-01-01\n",
       "24  2.198232e+06     AA 2004-01-01  24643.0     12 -0.060789  AA_2004-01-01\n",
       "36  2.198232e+06     AA 2004-01-01  24643.0     24  0.065269  AA_2004-01-01\n",
       "48  2.198232e+06     AA 2004-01-01  24643.0     36  0.081973  AA_2004-01-01\n",
       "60  2.198232e+06     AA 2004-01-01  24643.0     48 -0.094665  AA_2004-01-01"
      ]
     },
     "execution_count": 10,
     "metadata": {},
     "output_type": "execute_result"
    }
   ],
   "source": [
    "ltw_test2.head()"
   ]
  },
  {
   "cell_type": "code",
   "execution_count": 48,
   "metadata": {
    "collapsed": true
   },
   "outputs": [],
   "source": [
    "dero.pandas.show_df(ltw_test3)"
   ]
  },
  {
   "cell_type": "code",
   "execution_count": 47,
   "metadata": {
    "collapsed": false
   },
   "outputs": [
    {
     "ename": "ValueError",
     "evalue": "Index contains duplicate entries, cannot reshape",
     "output_type": "error",
     "traceback": [
      "\u001b[1;31m---------------------------------------------------------------------------\u001b[0m",
      "\u001b[1;31mValueError\u001b[0m                                Traceback (most recent call last)",
      "\u001b[1;32m<ipython-input-47-85d67892cb84>\u001b[0m in \u001b[0;36m<module>\u001b[1;34m()\u001b[0m\n\u001b[0;32m      1\u001b[0m \u001b[1;31m# dero.pandas.long_to_wide(ltw_test, groupvars=['TICKER','Date'], values=['RET','cum_RET'], colindex='Shift')\u001b[0m\u001b[1;33m\u001b[0m\u001b[1;33m\u001b[0m\u001b[0m\n\u001b[1;32m----> 2\u001b[1;33m \u001b[0mdero\u001b[0m\u001b[1;33m.\u001b[0m\u001b[0mpandas\u001b[0m\u001b[1;33m.\u001b[0m\u001b[0mlong_to_wide\u001b[0m\u001b[1;33m(\u001b[0m\u001b[0mltw_test3\u001b[0m\u001b[1;33m,\u001b[0m \u001b[0mgroupvars\u001b[0m\u001b[1;33m=\u001b[0m\u001b[1;33m[\u001b[0m\u001b[1;34m'TICKER'\u001b[0m\u001b[1;33m,\u001b[0m\u001b[1;34m'Date'\u001b[0m\u001b[1;33m]\u001b[0m\u001b[1;33m,\u001b[0m \u001b[0mvalues\u001b[0m\u001b[1;33m=\u001b[0m\u001b[1;33m[\u001b[0m\u001b[1;34m'RET'\u001b[0m\u001b[1;33m]\u001b[0m\u001b[1;33m,\u001b[0m \u001b[0mcolindex\u001b[0m\u001b[1;33m=\u001b[0m\u001b[1;34m'Shift'\u001b[0m\u001b[1;33m)\u001b[0m\u001b[1;33m\u001b[0m\u001b[0m\n\u001b[0m",
      "\u001b[1;32mC:\\Users\\derobertisna.UFAD\\Dropbox\\Python\\Dero\\dero\\pandas.py\u001b[0m in \u001b[0;36mlong_to_wide\u001b[1;34m(df, groupvars, values, colindex)\u001b[0m\n\u001b[0;32m    384\u001b[0m             \u001b[0mcombined\u001b[0m \u001b[1;33m=\u001b[0m \u001b[0mdf\u001b[0m\u001b[1;33m.\u001b[0m\u001b[0mcopy\u001b[0m\u001b[1;33m(\u001b[0m\u001b[1;33m)\u001b[0m\u001b[1;33m\u001b[0m\u001b[0m\n\u001b[0;32m    385\u001b[0m         \u001b[1;31m#Create wide dataset\u001b[0m\u001b[1;33m\u001b[0m\u001b[1;33m\u001b[0m\u001b[0m\n\u001b[1;32m--> 386\u001b[1;33m         \u001b[0mraw_wide\u001b[0m \u001b[1;33m=\u001b[0m \u001b[0mdf\u001b[0m\u001b[1;33m.\u001b[0m\u001b[0mpivot\u001b[0m\u001b[1;33m(\u001b[0m\u001b[0mindex\u001b[0m\u001b[1;33m=\u001b[0m\u001b[1;34m'__key__'\u001b[0m\u001b[1;33m,\u001b[0m \u001b[0mcolumns\u001b[0m\u001b[1;33m=\u001b[0m\u001b[0mcolindex\u001b[0m\u001b[1;33m,\u001b[0m \u001b[0mvalues\u001b[0m\u001b[1;33m=\u001b[0m\u001b[0mvalue\u001b[0m\u001b[1;33m)\u001b[0m\u001b[1;33m\u001b[0m\u001b[0m\n\u001b[0m\u001b[0;32m    387\u001b[0m         \u001b[0mraw_wide\u001b[0m\u001b[1;33m.\u001b[0m\u001b[0mcolumns\u001b[0m \u001b[1;33m=\u001b[0m \u001b[1;33m[\u001b[0m\u001b[0mvalue\u001b[0m \u001b[1;33m+\u001b[0m \u001b[0mstr\u001b[0m\u001b[1;33m(\u001b[0m\u001b[0mcol\u001b[0m\u001b[1;33m)\u001b[0m \u001b[1;32mfor\u001b[0m \u001b[0mcol\u001b[0m \u001b[1;32min\u001b[0m \u001b[0mraw_wide\u001b[0m\u001b[1;33m.\u001b[0m\u001b[0mcolumns\u001b[0m\u001b[1;33m]\u001b[0m\u001b[1;33m\u001b[0m\u001b[0m\n\u001b[0;32m    388\u001b[0m         \u001b[0mwide\u001b[0m \u001b[1;33m=\u001b[0m \u001b[0mraw_wide\u001b[0m\u001b[1;33m.\u001b[0m\u001b[0mreset_index\u001b[0m\u001b[1;33m(\u001b[0m\u001b[1;33m)\u001b[0m\u001b[1;33m\u001b[0m\u001b[0m\n",
      "\u001b[1;32mC:\\Anaconda3\\lib\\site-packages\\pandas\\core\\frame.py\u001b[0m in \u001b[0;36mpivot\u001b[1;34m(self, index, columns, values)\u001b[0m\n\u001b[0;32m   3844\u001b[0m         \"\"\"\n\u001b[0;32m   3845\u001b[0m         \u001b[1;32mfrom\u001b[0m \u001b[0mpandas\u001b[0m\u001b[1;33m.\u001b[0m\u001b[0mcore\u001b[0m\u001b[1;33m.\u001b[0m\u001b[0mreshape\u001b[0m \u001b[1;32mimport\u001b[0m \u001b[0mpivot\u001b[0m\u001b[1;33m\u001b[0m\u001b[0m\n\u001b[1;32m-> 3846\u001b[1;33m         \u001b[1;32mreturn\u001b[0m \u001b[0mpivot\u001b[0m\u001b[1;33m(\u001b[0m\u001b[0mself\u001b[0m\u001b[1;33m,\u001b[0m \u001b[0mindex\u001b[0m\u001b[1;33m=\u001b[0m\u001b[0mindex\u001b[0m\u001b[1;33m,\u001b[0m \u001b[0mcolumns\u001b[0m\u001b[1;33m=\u001b[0m\u001b[0mcolumns\u001b[0m\u001b[1;33m,\u001b[0m \u001b[0mvalues\u001b[0m\u001b[1;33m=\u001b[0m\u001b[0mvalues\u001b[0m\u001b[1;33m)\u001b[0m\u001b[1;33m\u001b[0m\u001b[0m\n\u001b[0m\u001b[0;32m   3847\u001b[0m \u001b[1;33m\u001b[0m\u001b[0m\n\u001b[0;32m   3848\u001b[0m     \u001b[1;32mdef\u001b[0m \u001b[0mstack\u001b[0m\u001b[1;33m(\u001b[0m\u001b[0mself\u001b[0m\u001b[1;33m,\u001b[0m \u001b[0mlevel\u001b[0m\u001b[1;33m=\u001b[0m\u001b[1;33m-\u001b[0m\u001b[1;36m1\u001b[0m\u001b[1;33m,\u001b[0m \u001b[0mdropna\u001b[0m\u001b[1;33m=\u001b[0m\u001b[1;32mTrue\u001b[0m\u001b[1;33m)\u001b[0m\u001b[1;33m:\u001b[0m\u001b[1;33m\u001b[0m\u001b[0m\n",
      "\u001b[1;32mC:\\Anaconda3\\lib\\site-packages\\pandas\\core\\reshape.py\u001b[0m in \u001b[0;36mpivot\u001b[1;34m(self, index, columns, values)\u001b[0m\n\u001b[0;32m    330\u001b[0m         indexed = Series(self[values].values,\n\u001b[0;32m    331\u001b[0m                          index=MultiIndex.from_arrays([index, self[columns]]))\n\u001b[1;32m--> 332\u001b[1;33m         \u001b[1;32mreturn\u001b[0m \u001b[0mindexed\u001b[0m\u001b[1;33m.\u001b[0m\u001b[0munstack\u001b[0m\u001b[1;33m(\u001b[0m\u001b[0mcolumns\u001b[0m\u001b[1;33m)\u001b[0m\u001b[1;33m\u001b[0m\u001b[0m\n\u001b[0m\u001b[0;32m    333\u001b[0m \u001b[1;33m\u001b[0m\u001b[0m\n\u001b[0;32m    334\u001b[0m \u001b[1;33m\u001b[0m\u001b[0m\n",
      "\u001b[1;32mC:\\Anaconda3\\lib\\site-packages\\pandas\\core\\series.py\u001b[0m in \u001b[0;36munstack\u001b[1;34m(self, level, fill_value)\u001b[0m\n\u001b[0;32m   2041\u001b[0m         \"\"\"\n\u001b[0;32m   2042\u001b[0m         \u001b[1;32mfrom\u001b[0m \u001b[0mpandas\u001b[0m\u001b[1;33m.\u001b[0m\u001b[0mcore\u001b[0m\u001b[1;33m.\u001b[0m\u001b[0mreshape\u001b[0m \u001b[1;32mimport\u001b[0m \u001b[0munstack\u001b[0m\u001b[1;33m\u001b[0m\u001b[0m\n\u001b[1;32m-> 2043\u001b[1;33m         \u001b[1;32mreturn\u001b[0m \u001b[0munstack\u001b[0m\u001b[1;33m(\u001b[0m\u001b[0mself\u001b[0m\u001b[1;33m,\u001b[0m \u001b[0mlevel\u001b[0m\u001b[1;33m,\u001b[0m \u001b[0mfill_value\u001b[0m\u001b[1;33m)\u001b[0m\u001b[1;33m\u001b[0m\u001b[0m\n\u001b[0m\u001b[0;32m   2044\u001b[0m \u001b[1;33m\u001b[0m\u001b[0m\n\u001b[0;32m   2045\u001b[0m     \u001b[1;31m# ----------------------------------------------------------------------\u001b[0m\u001b[1;33m\u001b[0m\u001b[1;33m\u001b[0m\u001b[0m\n",
      "\u001b[1;32mC:\\Anaconda3\\lib\\site-packages\\pandas\\core\\reshape.py\u001b[0m in \u001b[0;36munstack\u001b[1;34m(obj, level, fill_value)\u001b[0m\n\u001b[0;32m    405\u001b[0m     \u001b[1;32melse\u001b[0m\u001b[1;33m:\u001b[0m\u001b[1;33m\u001b[0m\u001b[0m\n\u001b[0;32m    406\u001b[0m         unstacker = _Unstacker(obj.values, obj.index, level=level,\n\u001b[1;32m--> 407\u001b[1;33m                                fill_value=fill_value)\n\u001b[0m\u001b[0;32m    408\u001b[0m         \u001b[1;32mreturn\u001b[0m \u001b[0munstacker\u001b[0m\u001b[1;33m.\u001b[0m\u001b[0mget_result\u001b[0m\u001b[1;33m(\u001b[0m\u001b[1;33m)\u001b[0m\u001b[1;33m\u001b[0m\u001b[0m\n\u001b[0;32m    409\u001b[0m \u001b[1;33m\u001b[0m\u001b[0m\n",
      "\u001b[1;32mC:\\Anaconda3\\lib\\site-packages\\pandas\\core\\reshape.py\u001b[0m in \u001b[0;36m__init__\u001b[1;34m(self, values, index, level, value_columns, fill_value)\u001b[0m\n\u001b[0;32m     99\u001b[0m \u001b[1;33m\u001b[0m\u001b[0m\n\u001b[0;32m    100\u001b[0m         \u001b[0mself\u001b[0m\u001b[1;33m.\u001b[0m\u001b[0m_make_sorted_values_labels\u001b[0m\u001b[1;33m(\u001b[0m\u001b[1;33m)\u001b[0m\u001b[1;33m\u001b[0m\u001b[0m\n\u001b[1;32m--> 101\u001b[1;33m         \u001b[0mself\u001b[0m\u001b[1;33m.\u001b[0m\u001b[0m_make_selectors\u001b[0m\u001b[1;33m(\u001b[0m\u001b[1;33m)\u001b[0m\u001b[1;33m\u001b[0m\u001b[0m\n\u001b[0m\u001b[0;32m    102\u001b[0m \u001b[1;33m\u001b[0m\u001b[0m\n\u001b[0;32m    103\u001b[0m     \u001b[1;32mdef\u001b[0m \u001b[0m_make_sorted_values_labels\u001b[0m\u001b[1;33m(\u001b[0m\u001b[0mself\u001b[0m\u001b[1;33m)\u001b[0m\u001b[1;33m:\u001b[0m\u001b[1;33m\u001b[0m\u001b[0m\n",
      "\u001b[1;32mC:\\Anaconda3\\lib\\site-packages\\pandas\\core\\reshape.py\u001b[0m in \u001b[0;36m_make_selectors\u001b[1;34m(self)\u001b[0m\n\u001b[0;32m    137\u001b[0m \u001b[1;33m\u001b[0m\u001b[0m\n\u001b[0;32m    138\u001b[0m         \u001b[1;32mif\u001b[0m \u001b[0mmask\u001b[0m\u001b[1;33m.\u001b[0m\u001b[0msum\u001b[0m\u001b[1;33m(\u001b[0m\u001b[1;33m)\u001b[0m \u001b[1;33m<\u001b[0m \u001b[0mlen\u001b[0m\u001b[1;33m(\u001b[0m\u001b[0mself\u001b[0m\u001b[1;33m.\u001b[0m\u001b[0mindex\u001b[0m\u001b[1;33m)\u001b[0m\u001b[1;33m:\u001b[0m\u001b[1;33m\u001b[0m\u001b[0m\n\u001b[1;32m--> 139\u001b[1;33m             raise ValueError('Index contains duplicate entries, '\n\u001b[0m\u001b[0;32m    140\u001b[0m                              'cannot reshape')\n\u001b[0;32m    141\u001b[0m \u001b[1;33m\u001b[0m\u001b[0m\n",
      "\u001b[1;31mValueError\u001b[0m: Index contains duplicate entries, cannot reshape"
     ]
    }
   ],
   "source": [
    "# dero.pandas.long_to_wide(ltw_test, groupvars=['TICKER','Date'], values=['RET','cum_RET'], colindex='Shift')\n",
    "dero.pandas.long_to_wide(ltw_test3, groupvars=['TICKER','Date'], values=['RET'], colindex='Shift')"
   ]
  },
  {
   "cell_type": "code",
   "execution_count": 45,
   "metadata": {
    "collapsed": false
   },
   "outputs": [
    {
     "name": "stdout",
     "output_type": "stream",
     "text": [
      "AA\n",
      "AAII\n",
      "AAIT\n",
      "AAL\n",
      "AAME\n",
      "AAN\n"
     ]
    },
    {
     "ename": "ValueError",
     "evalue": "Index contains duplicate entries, cannot reshape",
     "output_type": "error",
     "traceback": [
      "\u001b[1;31m---------------------------------------------------------------------------\u001b[0m",
      "\u001b[1;31mValueError\u001b[0m                                Traceback (most recent call last)",
      "\u001b[1;32m<ipython-input-45-f3f36e63dc17>\u001b[0m in \u001b[0;36m<module>\u001b[1;34m()\u001b[0m\n\u001b[0;32m      2\u001b[0m     \u001b[0mtemp_df\u001b[0m \u001b[1;33m=\u001b[0m \u001b[0mltw_test\u001b[0m\u001b[1;33m[\u001b[0m\u001b[0mltw_test\u001b[0m\u001b[1;33m[\u001b[0m\u001b[1;34m'TICKER'\u001b[0m\u001b[1;33m]\u001b[0m \u001b[1;33m==\u001b[0m \u001b[0mfirm\u001b[0m\u001b[1;33m]\u001b[0m\u001b[1;33m.\u001b[0m\u001b[0mcopy\u001b[0m\u001b[1;33m(\u001b[0m\u001b[1;33m)\u001b[0m\u001b[1;33m\u001b[0m\u001b[0m\n\u001b[0;32m      3\u001b[0m     \u001b[0mprint\u001b[0m\u001b[1;33m(\u001b[0m\u001b[0mfirm\u001b[0m\u001b[1;33m)\u001b[0m\u001b[1;33m\u001b[0m\u001b[0m\n\u001b[1;32m----> 4\u001b[1;33m     \u001b[0mdero\u001b[0m\u001b[1;33m.\u001b[0m\u001b[0mpandas\u001b[0m\u001b[1;33m.\u001b[0m\u001b[0mlong_to_wide\u001b[0m\u001b[1;33m(\u001b[0m\u001b[0mtemp_df\u001b[0m\u001b[1;33m,\u001b[0m \u001b[0mgroupvars\u001b[0m\u001b[1;33m=\u001b[0m\u001b[1;33m[\u001b[0m\u001b[1;34m'TICKER'\u001b[0m\u001b[1;33m,\u001b[0m\u001b[1;34m'Date'\u001b[0m\u001b[1;33m]\u001b[0m\u001b[1;33m,\u001b[0m \u001b[0mvalues\u001b[0m\u001b[1;33m=\u001b[0m\u001b[1;33m[\u001b[0m\u001b[1;34m'RET'\u001b[0m\u001b[1;33m,\u001b[0m\u001b[1;34m'cum_RET'\u001b[0m\u001b[1;33m]\u001b[0m\u001b[1;33m,\u001b[0m \u001b[0mcolindex\u001b[0m\u001b[1;33m=\u001b[0m\u001b[1;34m'Shift'\u001b[0m\u001b[1;33m)\u001b[0m\u001b[1;33m\u001b[0m\u001b[0m\n\u001b[0m",
      "\u001b[1;32mC:\\Users\\derobertisna.UFAD\\Dropbox\\Python\\Dero\\dero\\pandas.py\u001b[0m in \u001b[0;36mlong_to_wide\u001b[1;34m(df, groupvars, values, colindex)\u001b[0m\n\u001b[0;32m    384\u001b[0m             \u001b[0mcombined\u001b[0m \u001b[1;33m=\u001b[0m \u001b[0mdf\u001b[0m\u001b[1;33m.\u001b[0m\u001b[0mcopy\u001b[0m\u001b[1;33m(\u001b[0m\u001b[1;33m)\u001b[0m\u001b[1;33m\u001b[0m\u001b[0m\n\u001b[0;32m    385\u001b[0m         \u001b[1;31m#Create wide dataset\u001b[0m\u001b[1;33m\u001b[0m\u001b[1;33m\u001b[0m\u001b[0m\n\u001b[1;32m--> 386\u001b[1;33m         \u001b[0mraw_wide\u001b[0m \u001b[1;33m=\u001b[0m \u001b[0mdf\u001b[0m\u001b[1;33m.\u001b[0m\u001b[0mpivot\u001b[0m\u001b[1;33m(\u001b[0m\u001b[0mindex\u001b[0m\u001b[1;33m=\u001b[0m\u001b[1;34m'__key__'\u001b[0m\u001b[1;33m,\u001b[0m \u001b[0mcolumns\u001b[0m\u001b[1;33m=\u001b[0m\u001b[0mcolindex\u001b[0m\u001b[1;33m,\u001b[0m \u001b[0mvalues\u001b[0m\u001b[1;33m=\u001b[0m\u001b[0mvalue\u001b[0m\u001b[1;33m)\u001b[0m\u001b[1;33m\u001b[0m\u001b[0m\n\u001b[0m\u001b[0;32m    387\u001b[0m         \u001b[0mraw_wide\u001b[0m\u001b[1;33m.\u001b[0m\u001b[0mcolumns\u001b[0m \u001b[1;33m=\u001b[0m \u001b[1;33m[\u001b[0m\u001b[0mvalue\u001b[0m \u001b[1;33m+\u001b[0m \u001b[0mstr\u001b[0m\u001b[1;33m(\u001b[0m\u001b[0mcol\u001b[0m\u001b[1;33m)\u001b[0m \u001b[1;32mfor\u001b[0m \u001b[0mcol\u001b[0m \u001b[1;32min\u001b[0m \u001b[0mraw_wide\u001b[0m\u001b[1;33m.\u001b[0m\u001b[0mcolumns\u001b[0m\u001b[1;33m]\u001b[0m\u001b[1;33m\u001b[0m\u001b[0m\n\u001b[0;32m    388\u001b[0m         \u001b[0mwide\u001b[0m \u001b[1;33m=\u001b[0m \u001b[0mraw_wide\u001b[0m\u001b[1;33m.\u001b[0m\u001b[0mreset_index\u001b[0m\u001b[1;33m(\u001b[0m\u001b[1;33m)\u001b[0m\u001b[1;33m\u001b[0m\u001b[0m\n",
      "\u001b[1;32mC:\\Anaconda3\\lib\\site-packages\\pandas\\core\\frame.py\u001b[0m in \u001b[0;36mpivot\u001b[1;34m(self, index, columns, values)\u001b[0m\n\u001b[0;32m   3844\u001b[0m         \"\"\"\n\u001b[0;32m   3845\u001b[0m         \u001b[1;32mfrom\u001b[0m \u001b[0mpandas\u001b[0m\u001b[1;33m.\u001b[0m\u001b[0mcore\u001b[0m\u001b[1;33m.\u001b[0m\u001b[0mreshape\u001b[0m \u001b[1;32mimport\u001b[0m \u001b[0mpivot\u001b[0m\u001b[1;33m\u001b[0m\u001b[0m\n\u001b[1;32m-> 3846\u001b[1;33m         \u001b[1;32mreturn\u001b[0m \u001b[0mpivot\u001b[0m\u001b[1;33m(\u001b[0m\u001b[0mself\u001b[0m\u001b[1;33m,\u001b[0m \u001b[0mindex\u001b[0m\u001b[1;33m=\u001b[0m\u001b[0mindex\u001b[0m\u001b[1;33m,\u001b[0m \u001b[0mcolumns\u001b[0m\u001b[1;33m=\u001b[0m\u001b[0mcolumns\u001b[0m\u001b[1;33m,\u001b[0m \u001b[0mvalues\u001b[0m\u001b[1;33m=\u001b[0m\u001b[0mvalues\u001b[0m\u001b[1;33m)\u001b[0m\u001b[1;33m\u001b[0m\u001b[0m\n\u001b[0m\u001b[0;32m   3847\u001b[0m \u001b[1;33m\u001b[0m\u001b[0m\n\u001b[0;32m   3848\u001b[0m     \u001b[1;32mdef\u001b[0m \u001b[0mstack\u001b[0m\u001b[1;33m(\u001b[0m\u001b[0mself\u001b[0m\u001b[1;33m,\u001b[0m \u001b[0mlevel\u001b[0m\u001b[1;33m=\u001b[0m\u001b[1;33m-\u001b[0m\u001b[1;36m1\u001b[0m\u001b[1;33m,\u001b[0m \u001b[0mdropna\u001b[0m\u001b[1;33m=\u001b[0m\u001b[1;32mTrue\u001b[0m\u001b[1;33m)\u001b[0m\u001b[1;33m:\u001b[0m\u001b[1;33m\u001b[0m\u001b[0m\n",
      "\u001b[1;32mC:\\Anaconda3\\lib\\site-packages\\pandas\\core\\reshape.py\u001b[0m in \u001b[0;36mpivot\u001b[1;34m(self, index, columns, values)\u001b[0m\n\u001b[0;32m    330\u001b[0m         indexed = Series(self[values].values,\n\u001b[0;32m    331\u001b[0m                          index=MultiIndex.from_arrays([index, self[columns]]))\n\u001b[1;32m--> 332\u001b[1;33m         \u001b[1;32mreturn\u001b[0m \u001b[0mindexed\u001b[0m\u001b[1;33m.\u001b[0m\u001b[0munstack\u001b[0m\u001b[1;33m(\u001b[0m\u001b[0mcolumns\u001b[0m\u001b[1;33m)\u001b[0m\u001b[1;33m\u001b[0m\u001b[0m\n\u001b[0m\u001b[0;32m    333\u001b[0m \u001b[1;33m\u001b[0m\u001b[0m\n\u001b[0;32m    334\u001b[0m \u001b[1;33m\u001b[0m\u001b[0m\n",
      "\u001b[1;32mC:\\Anaconda3\\lib\\site-packages\\pandas\\core\\series.py\u001b[0m in \u001b[0;36munstack\u001b[1;34m(self, level, fill_value)\u001b[0m\n\u001b[0;32m   2041\u001b[0m         \"\"\"\n\u001b[0;32m   2042\u001b[0m         \u001b[1;32mfrom\u001b[0m \u001b[0mpandas\u001b[0m\u001b[1;33m.\u001b[0m\u001b[0mcore\u001b[0m\u001b[1;33m.\u001b[0m\u001b[0mreshape\u001b[0m \u001b[1;32mimport\u001b[0m \u001b[0munstack\u001b[0m\u001b[1;33m\u001b[0m\u001b[0m\n\u001b[1;32m-> 2043\u001b[1;33m         \u001b[1;32mreturn\u001b[0m \u001b[0munstack\u001b[0m\u001b[1;33m(\u001b[0m\u001b[0mself\u001b[0m\u001b[1;33m,\u001b[0m \u001b[0mlevel\u001b[0m\u001b[1;33m,\u001b[0m \u001b[0mfill_value\u001b[0m\u001b[1;33m)\u001b[0m\u001b[1;33m\u001b[0m\u001b[0m\n\u001b[0m\u001b[0;32m   2044\u001b[0m \u001b[1;33m\u001b[0m\u001b[0m\n\u001b[0;32m   2045\u001b[0m     \u001b[1;31m# ----------------------------------------------------------------------\u001b[0m\u001b[1;33m\u001b[0m\u001b[1;33m\u001b[0m\u001b[0m\n",
      "\u001b[1;32mC:\\Anaconda3\\lib\\site-packages\\pandas\\core\\reshape.py\u001b[0m in \u001b[0;36munstack\u001b[1;34m(obj, level, fill_value)\u001b[0m\n\u001b[0;32m    405\u001b[0m     \u001b[1;32melse\u001b[0m\u001b[1;33m:\u001b[0m\u001b[1;33m\u001b[0m\u001b[0m\n\u001b[0;32m    406\u001b[0m         unstacker = _Unstacker(obj.values, obj.index, level=level,\n\u001b[1;32m--> 407\u001b[1;33m                                fill_value=fill_value)\n\u001b[0m\u001b[0;32m    408\u001b[0m         \u001b[1;32mreturn\u001b[0m \u001b[0munstacker\u001b[0m\u001b[1;33m.\u001b[0m\u001b[0mget_result\u001b[0m\u001b[1;33m(\u001b[0m\u001b[1;33m)\u001b[0m\u001b[1;33m\u001b[0m\u001b[0m\n\u001b[0;32m    409\u001b[0m \u001b[1;33m\u001b[0m\u001b[0m\n",
      "\u001b[1;32mC:\\Anaconda3\\lib\\site-packages\\pandas\\core\\reshape.py\u001b[0m in \u001b[0;36m__init__\u001b[1;34m(self, values, index, level, value_columns, fill_value)\u001b[0m\n\u001b[0;32m     99\u001b[0m \u001b[1;33m\u001b[0m\u001b[0m\n\u001b[0;32m    100\u001b[0m         \u001b[0mself\u001b[0m\u001b[1;33m.\u001b[0m\u001b[0m_make_sorted_values_labels\u001b[0m\u001b[1;33m(\u001b[0m\u001b[1;33m)\u001b[0m\u001b[1;33m\u001b[0m\u001b[0m\n\u001b[1;32m--> 101\u001b[1;33m         \u001b[0mself\u001b[0m\u001b[1;33m.\u001b[0m\u001b[0m_make_selectors\u001b[0m\u001b[1;33m(\u001b[0m\u001b[1;33m)\u001b[0m\u001b[1;33m\u001b[0m\u001b[0m\n\u001b[0m\u001b[0;32m    102\u001b[0m \u001b[1;33m\u001b[0m\u001b[0m\n\u001b[0;32m    103\u001b[0m     \u001b[1;32mdef\u001b[0m \u001b[0m_make_sorted_values_labels\u001b[0m\u001b[1;33m(\u001b[0m\u001b[0mself\u001b[0m\u001b[1;33m)\u001b[0m\u001b[1;33m:\u001b[0m\u001b[1;33m\u001b[0m\u001b[0m\n",
      "\u001b[1;32mC:\\Anaconda3\\lib\\site-packages\\pandas\\core\\reshape.py\u001b[0m in \u001b[0;36m_make_selectors\u001b[1;34m(self)\u001b[0m\n\u001b[0;32m    137\u001b[0m \u001b[1;33m\u001b[0m\u001b[0m\n\u001b[0;32m    138\u001b[0m         \u001b[1;32mif\u001b[0m \u001b[0mmask\u001b[0m\u001b[1;33m.\u001b[0m\u001b[0msum\u001b[0m\u001b[1;33m(\u001b[0m\u001b[1;33m)\u001b[0m \u001b[1;33m<\u001b[0m \u001b[0mlen\u001b[0m\u001b[1;33m(\u001b[0m\u001b[0mself\u001b[0m\u001b[1;33m.\u001b[0m\u001b[0mindex\u001b[0m\u001b[1;33m)\u001b[0m\u001b[1;33m:\u001b[0m\u001b[1;33m\u001b[0m\u001b[0m\n\u001b[1;32m--> 139\u001b[1;33m             raise ValueError('Index contains duplicate entries, '\n\u001b[0m\u001b[0;32m    140\u001b[0m                              'cannot reshape')\n\u001b[0;32m    141\u001b[0m \u001b[1;33m\u001b[0m\u001b[0m\n",
      "\u001b[1;31mValueError\u001b[0m: Index contains duplicate entries, cannot reshape"
     ]
    }
   ],
   "source": [
    "for firm in ten_firms:\n",
    "    temp_df = ltw_test[ltw_test['TICKER'] == firm].copy()\n",
    "    print(firm)\n",
    "    dero.pandas.long_to_wide(temp_df, groupvars=['TICKER','Date'], values=['RET','cum_RET'], colindex='Shift')"
   ]
  },
  {
   "cell_type": "code",
   "execution_count": 52,
   "metadata": {
    "collapsed": false
   },
   "outputs": [
    {
     "name": "stdout",
     "output_type": "stream",
     "text": [
      "pd.DataFrame(data = [\n",
      "(10516, 'a', '1/1/2000'),\n",
      "(10516, 'a', '1/2/2000'),\n",
      "(10516, 'a', '1/3/2000'),\n",
      "(10516, 'a', '1/4/2000'),\n",
      "(10516, 'b', '1/1/2000'),\n",
      "(10516, 'b', '1/2/2000'),\n",
      "(10516, 'b', '1/3/2000'),\n",
      "(10516, 'b', '1/4/2000'),\n",
      "(10517, 'a', '1/1/2000'),\n",
      "(10517, 'a', '1/2/2000'),\n",
      "(10517, 'a', '1/3/2000'),\n",
      "(10517, 'a', '1/4/2000'),\n",
      "], columns = ['PERMNO', 'byvar', 'Date'])\n"
     ]
    }
   ],
   "source": []
  },
  {
   "cell_type": "code",
   "execution_count": 56,
   "metadata": {
    "collapsed": false
   },
   "outputs": [
    {
     "name": "stdout",
     "output_type": "stream",
     "text": [
      "pd.DataFrame(data = [\n",
      "('a', Timestamp('2000-01-01 00:00:00'), 'ADM'),\n",
      "('a', Timestamp('2000-01-02 00:00:00'), 'ADM'),\n",
      "('a', Timestamp('2000-01-03 00:00:00'), 'ADM'),\n",
      "('a', Timestamp('2000-01-04 00:00:00'), 'ADM'),\n",
      "('b', Timestamp('2000-01-01 00:00:00'), 'ADM'),\n",
      "('b', Timestamp('2000-01-02 00:00:00'), 'ADM'),\n",
      "('b', Timestamp('2000-01-03 00:00:00'), 'ADM'),\n",
      "('b', Timestamp('2000-01-04 00:00:00'), 'ADM'),\n",
      "('a', Timestamp('2000-01-01 00:00:00'), 'RNT'),\n",
      "('a', Timestamp('2000-01-02 00:00:00'), 'RNT'),\n",
      "('a', Timestamp('2000-01-03 00:00:00'), 'RNT'),\n",
      "('a', Timestamp('2000-01-04 00:00:00'), 'RNT'),\n",
      "], columns = ['byvar', 'Date', 'TICKER'])\n"
     ]
    }
   ],
   "source": [
    "df['Date'] = pd.to_datetime(df['Date'])\n",
    "df2 = dero.data.merge_dsenames(df, on='PERMNO', get='TICKER')\n",
    "\n",
    "dero.pandas.to_copy_paste(df2.drop(['RET','PERMNO'], axis=1))"
   ]
  },
  {
   "cell_type": "code",
   "execution_count": 3,
   "metadata": {
    "collapsed": false
   },
   "outputs": [],
   "source": [
    "from pandas import Timestamp\n",
    "dse_df = pd.DataFrame(data = [\n",
    "('a', Timestamp('2000-01-01 00:00:00'), 'ADM'),\n",
    "('a', Timestamp('2000-01-02 00:00:00'), 'ADM'),\n",
    "('a', Timestamp('2000-01-03 00:00:00'), 'ADM'),\n",
    "('a', Timestamp('2000-01-04 00:00:00'), 'ADM'),\n",
    "('b', Timestamp('2000-01-01 00:00:00'), 'ADM'),\n",
    "('b', Timestamp('2000-01-02 00:00:00'), 'ADM'),\n",
    "('b', Timestamp('2000-01-03 00:00:00'), 'ADM'),\n",
    "('b', Timestamp('2000-01-04 00:00:00'), 'ADM'),\n",
    "('a', Timestamp('2008-01-01 00:00:00'), 'AAN'),\n",
    "('a', Timestamp('2009-01-02 00:00:00'), 'AAN'),\n",
    "('a', Timestamp('2010-01-03 00:00:00'), 'AAN'),\n",
    "('a', Timestamp('2011-01-04 00:00:00'), 'AAN'),\n",
    "], columns = ['byvar', 'Date', 'TICKER'])"
   ]
  },
  {
   "cell_type": "code",
   "execution_count": 12,
   "metadata": {
    "collapsed": false
   },
   "outputs": [
    {
     "data": {
      "text/html": [
       "<div>\n",
       "<table border=\"1\" class=\"dataframe\">\n",
       "  <thead>\n",
       "    <tr style=\"text-align: right;\">\n",
       "      <th></th>\n",
       "      <th>byvar</th>\n",
       "      <th>Date</th>\n",
       "      <th>TICKER</th>\n",
       "      <th>PERMNO</th>\n",
       "    </tr>\n",
       "  </thead>\n",
       "  <tbody>\n",
       "    <tr>\n",
       "      <th>0</th>\n",
       "      <td>a</td>\n",
       "      <td>2000-01-01</td>\n",
       "      <td>ADM</td>\n",
       "      <td>10516.0</td>\n",
       "    </tr>\n",
       "    <tr>\n",
       "      <th>1</th>\n",
       "      <td>a</td>\n",
       "      <td>2000-01-02</td>\n",
       "      <td>ADM</td>\n",
       "      <td>10516.0</td>\n",
       "    </tr>\n",
       "    <tr>\n",
       "      <th>2</th>\n",
       "      <td>a</td>\n",
       "      <td>2000-01-03</td>\n",
       "      <td>ADM</td>\n",
       "      <td>10516.0</td>\n",
       "    </tr>\n",
       "    <tr>\n",
       "      <th>3</th>\n",
       "      <td>a</td>\n",
       "      <td>2000-01-04</td>\n",
       "      <td>ADM</td>\n",
       "      <td>10516.0</td>\n",
       "    </tr>\n",
       "    <tr>\n",
       "      <th>4</th>\n",
       "      <td>b</td>\n",
       "      <td>2000-01-01</td>\n",
       "      <td>ADM</td>\n",
       "      <td>10516.0</td>\n",
       "    </tr>\n",
       "    <tr>\n",
       "      <th>5</th>\n",
       "      <td>b</td>\n",
       "      <td>2000-01-02</td>\n",
       "      <td>ADM</td>\n",
       "      <td>10516.0</td>\n",
       "    </tr>\n",
       "    <tr>\n",
       "      <th>6</th>\n",
       "      <td>b</td>\n",
       "      <td>2000-01-03</td>\n",
       "      <td>ADM</td>\n",
       "      <td>10516.0</td>\n",
       "    </tr>\n",
       "    <tr>\n",
       "      <th>7</th>\n",
       "      <td>b</td>\n",
       "      <td>2000-01-04</td>\n",
       "      <td>ADM</td>\n",
       "      <td>10516.0</td>\n",
       "    </tr>\n",
       "    <tr>\n",
       "      <th>8</th>\n",
       "      <td>a</td>\n",
       "      <td>2008-01-01</td>\n",
       "      <td>AAN</td>\n",
       "      <td>NaN</td>\n",
       "    </tr>\n",
       "    <tr>\n",
       "      <th>9</th>\n",
       "      <td>a</td>\n",
       "      <td>2009-01-02</td>\n",
       "      <td>AAN</td>\n",
       "      <td>NaN</td>\n",
       "    </tr>\n",
       "    <tr>\n",
       "      <th>11</th>\n",
       "      <td>a</td>\n",
       "      <td>2010-01-03</td>\n",
       "      <td>AAN</td>\n",
       "      <td>78049.0</td>\n",
       "    </tr>\n",
       "    <tr>\n",
       "      <th>12</th>\n",
       "      <td>a</td>\n",
       "      <td>2011-01-04</td>\n",
       "      <td>AAN</td>\n",
       "      <td>10517.0</td>\n",
       "    </tr>\n",
       "  </tbody>\n",
       "</table>\n",
       "</div>"
      ],
      "text/plain": [
       "   byvar       Date TICKER   PERMNO\n",
       "0      a 2000-01-01    ADM  10516.0\n",
       "1      a 2000-01-02    ADM  10516.0\n",
       "2      a 2000-01-03    ADM  10516.0\n",
       "3      a 2000-01-04    ADM  10516.0\n",
       "4      b 2000-01-01    ADM  10516.0\n",
       "5      b 2000-01-02    ADM  10516.0\n",
       "6      b 2000-01-03    ADM  10516.0\n",
       "7      b 2000-01-04    ADM  10516.0\n",
       "8      a 2008-01-01    AAN      NaN\n",
       "9      a 2009-01-02    AAN      NaN\n",
       "11     a 2010-01-03    AAN  78049.0\n",
       "12     a 2011-01-04    AAN  10517.0"
      ]
     },
     "execution_count": 12,
     "metadata": {},
     "output_type": "execute_result"
    }
   ],
   "source": [
    "import dero\n",
    "import pandas as pd\n",
    "from dero.data import load_sas\n",
    "from dero.pandas import convert_sas_date_to_pandas_date\n",
    "import datetime, os\n",
    "\n",
    "def merge_dsenames(df, on='TICKER', get='PERMNO', date='Date', \n",
    "                   other_byvars=None, \n",
    "                   crsp_dir=r'C:\\Users\\derobertisna.UFAD\\Desktop\\Data\\CRSP'):\n",
    "    '''\n",
    "    Merges with dsenames file on on variable (TICKER, PERMNO, PERMCO, NCUSIP), to get get variable (same list).\n",
    "    Must have a Date variable in df.\n",
    "    \n",
    "    Default is to match on TICKER and pull PERMNO.\n",
    "    \n",
    "    Required inputs:\n",
    "    df: pandas dataframe containing any of (TICKER, PERMNO, PERMCO, NCUSIP)\n",
    "    \n",
    "    Optional inputs:\n",
    "    on: str, column name to merge on, one of (TICKER, PERMNO, PERMCO, NCUSIP)\n",
    "    get: str or list, column or columns to get from dsenames, any of (TICKER, PERMNO, PERMCO, NCUSIP)\n",
    "         that aren't already in on\n",
    "    date: str, column name of date variable\n",
    "    other_byvars: any other variables signifying groups in the data, prevents from collapsing those groups\n",
    "    '''\n",
    "    #Make get a list\n",
    "    if isinstance(get, str):\n",
    "        get = [get]\n",
    "    assert isinstance(get, list)\n",
    "    \n",
    "    #Make other byvars a list\n",
    "    if not other_byvars:\n",
    "        other_byvars = []\n",
    "    if isinstance(other_byvars, str):\n",
    "        other_byvars = [other_byvars]\n",
    "    assert isinstance(other_byvars, list)\n",
    "    \n",
    "    assert on not in get #can't get what we already have\n",
    "    \n",
    "    #Pull from CRSP dsenames file\n",
    "    file = 'dsenames'\n",
    "    fullpath = os.path.join(crsp_dir, file + '.sas7bdat')\n",
    "    names_df = load_sas(fullpath)\n",
    "    names_df['start'] = convert_sas_date_to_pandas_date(names_df['NAMEDT'])\n",
    "    names_df['end'] = convert_sas_date_to_pandas_date(names_df['NAMEENDT'])\n",
    "    names_df['end'] = names_df['end'].fillna(datetime.date.today())\n",
    "    \n",
    "#     pdb.set_trace()\n",
    "    \n",
    "    #Now perform merge\n",
    "    merged = df.merge(names_df[['start','end', on] + get], how='left', on=on)\n",
    "    #Drop out observations not in name date range\n",
    "    valid = (merged[date] >= merged['start']) & (merged[date] <= merged['end'])\n",
    "    #However if there is not a match, doing merged[valid] would drop the observation instead of leaving nan\n",
    "    #Therefore, take merged[valid] and merge back again to original\n",
    "    new_merged = df.merge(merged[valid].drop(['start','end'],axis=1), how='left', on=[on, date] + other_byvars)\n",
    "    new_merged = new_merged.reset_index(drop=True)\n",
    "    \n",
    "    if 'PERMNO' in get:\n",
    "        #Dsenames has no record of which permno is the primary link when a firm has multiple share classes.\n",
    "        #To get this information, we must merge ccmxpf_linktable. We want to keep only primary links.\n",
    "        dups = new_merged[[date, on] + other_byvars].duplicated(keep=False) #series of True or False of whether duplicated row\n",
    "        if dups.any(): #this means we got more than one permno for a single period/firm/byvars\n",
    "            duplicated = new_merged[dups].reset_index() #puts index in a column for later use\n",
    "            not_duplicated = new_merged[~dups]\n",
    "            \n",
    "            #Take duplicated, merge to ccmxpf_linktable to get gvkey, and the ones which do not have gvkeys are\n",
    "            #the non-primary links\n",
    "            with_gvkey = get_gvkey_or_permno(duplicated, date) #default is to get gvkey with permno\n",
    "            removed_duplicates = with_gvkey[~pd.isnull(with_gvkey['GVKEY'])].drop('GVKEY', axis=1)\n",
    "            \n",
    "            #Set index back\n",
    "            removed_duplicates.set_index('index', inplace=True)\n",
    "            \n",
    "            #Now append back together and sort\n",
    "            full = not_duplicated.append(removed_duplicates)\n",
    "            new_merged = full.sort_index()\n",
    "    \n",
    "    return new_merged\n",
    "\n",
    "a = merge_dsenames(dse_df, other_byvars='byvar')\n",
    "a\n",
    "# dero.pandas.to_copy_paste(a.drop('TICKER',axis=1))"
   ]
  },
  {
   "cell_type": "code",
   "execution_count": 111,
   "metadata": {
    "collapsed": false
   },
   "outputs": [
    {
     "data": {
      "text/html": [
       "<div>\n",
       "<table border=\"1\" class=\"dataframe\">\n",
       "  <thead>\n",
       "    <tr style=\"text-align: right;\">\n",
       "      <th></th>\n",
       "      <th>Date</th>\n",
       "      <th>TICKER</th>\n",
       "      <th>byvar</th>\n",
       "      <th>PERMNO</th>\n",
       "      <th>GVKEY</th>\n",
       "    </tr>\n",
       "  </thead>\n",
       "  <tbody>\n",
       "    <tr>\n",
       "      <th>1</th>\n",
       "      <td>2010-01-03</td>\n",
       "      <td>AAN</td>\n",
       "      <td>a</td>\n",
       "      <td>78049.0</td>\n",
       "      <td>1076.0</td>\n",
       "    </tr>\n",
       "  </tbody>\n",
       "</table>\n",
       "</div>"
      ],
      "text/plain": [
       "        Date TICKER byvar   PERMNO   GVKEY\n",
       "1 2010-01-03    AAN     a  78049.0  1076.0"
      ]
     },
     "execution_count": 111,
     "metadata": {},
     "output_type": "execute_result"
    }
   ],
   "source": [
    "dups = a[['Date','TICKER', 'byvar']].duplicated(keep=False)\n",
    "d = a[['Date','TICKER', 'byvar','PERMNO']][dups]\n",
    "e = get_gvkey_or_permno(d, 'Date')\n",
    "e[~pd.isnull(e['GVKEY'])]"
   ]
  },
  {
   "cell_type": "code",
   "execution_count": 4,
   "metadata": {
    "collapsed": false
   },
   "outputs": [
    {
     "ename": "NameError",
     "evalue": "name 'a' is not defined",
     "output_type": "error",
     "traceback": [
      "\u001b[1;31m---------------------------------------------------------------------------\u001b[0m",
      "\u001b[1;31mNameError\u001b[0m                                 Traceback (most recent call last)",
      "\u001b[1;32m<ipython-input-4-c0e4e1b4f96c>\u001b[0m in \u001b[0;36m<module>\u001b[1;34m()\u001b[0m\n\u001b[0;32m     47\u001b[0m     \u001b[1;32mreturn\u001b[0m \u001b[0mnew_merged\u001b[0m\u001b[1;33m\u001b[0m\u001b[0m\n\u001b[0;32m     48\u001b[0m \u001b[1;33m\u001b[0m\u001b[0m\n\u001b[1;32m---> 49\u001b[1;33m \u001b[0mget_gvkey_or_permno\u001b[0m\u001b[1;33m(\u001b[0m\u001b[0ma\u001b[0m\u001b[1;33m,\u001b[0m \u001b[0mdatevar\u001b[0m\u001b[1;33m=\u001b[0m\u001b[1;34m'Date'\u001b[0m\u001b[1;33m,\u001b[0m \u001b[0mother_byvars\u001b[0m\u001b[1;33m=\u001b[0m\u001b[1;34m'byvar'\u001b[0m\u001b[1;33m)\u001b[0m\u001b[1;33m\u001b[0m\u001b[0m\n\u001b[0m",
      "\u001b[1;31mNameError\u001b[0m: name 'a' is not defined"
     ]
    }
   ],
   "source": [
    "def get_gvkey_or_permno(df, datevar, get='GVKEY', other_byvars=None,\n",
    "                        crsp_dir=r'C:\\Users\\derobertisna.UFAD\\Desktop\\Data\\CRSP'):\n",
    "    \"\"\"\n",
    "    Takes a dataframe containing either GVKEY or PERMNO and merges to the CRSP linktable to get the other one.\n",
    "    \"\"\"    \n",
    "    if get == 'GVKEY':\n",
    "        rename_get = 'gvkey'\n",
    "        l_on = 'PERMNO'\n",
    "        r_on = 'lpermno'\n",
    "    elif get == 'PERMNO':\n",
    "        rename_get = 'lpermno'\n",
    "        l_on = 'GVKEY'\n",
    "        r_on = 'gvkey'\n",
    "    else:\n",
    "        raise ValueError('Need get=\"GVKEY\" or \"PERMNO\"')\n",
    "        \n",
    "    #Make other byvars a list\n",
    "    if not other_byvars:\n",
    "        other_byvars = []\n",
    "    if isinstance(other_byvars, str):\n",
    "        other_byvars = [other_byvars]\n",
    "    assert isinstance(other_byvars, list)\n",
    "    \n",
    "    link_name = 'ccmxpf_linktable.sas7bdat'\n",
    "    link_path = os.path.join(crsp_dir, link_name)\n",
    "    \n",
    "    link = load_sas(link_path)\n",
    "    link['linkdt'] = convert_sas_date_to_pandas_date(link['linkdt'])\n",
    "    link['linkenddt'] = convert_sas_date_to_pandas_date(link['linkenddt'])\n",
    "    #If end date is missing, that means link is still active. Make end date today.\n",
    "    link['linkenddt'] = link['linkenddt'].fillna(datetime.date.today())\n",
    "    \n",
    "    #Remove links with no permno so that they don't match to nans in the input df\n",
    "    link.dropna(subset=['lpermno'], inplace=True)\n",
    "    \n",
    "    merged = df.merge(link[['lpermno','gvkey', 'linkdt', 'linkenddt','linkprim']], how='left', left_on=l_on, right_on=r_on)\n",
    "\n",
    "    valid = (merged[datevar] >= merged.linkdt) & \\\n",
    "            (merged[datevar] <= merged.linkenddt) & \\\n",
    "            (merged.linkprim == 'P')\n",
    "        \n",
    "    merged = merged[valid].drop(['linkdt','linkenddt', 'linkprim', r_on], axis=1).drop_duplicates()\n",
    "    merged.rename(columns={rename_get:get}, inplace=True)\n",
    "    \n",
    "    #Now merge back to the original again to ensure that rows are not deleted\n",
    "    new_merged = df.merge(merged[['PERMNO','GVKEY', datevar] + other_byvars],\n",
    "                          how='left', on=[l_on, datevar] + other_byvars)\n",
    "    \n",
    "    return new_merged\n",
    "\n",
    "get_gvkey_or_permno(a, datevar='Date', other_byvars='byvar')"
   ]
  },
  {
   "cell_type": "code",
   "execution_count": 84,
   "metadata": {
    "collapsed": false
   },
   "outputs": [
    {
     "name": "stdout",
     "output_type": "stream",
     "text": [
      "> c:\\anaconda3\\lib\\site-packages\\pandas\\indexes\\base.py(483)_scalar_data_error()\n",
      "-> repr(data)))\n",
      "(Pdb) u\n",
      "> c:\\anaconda3\\lib\\site-packages\\pandas\\indexes\\base.py(268)__new__()\n",
      "-> cls._scalar_data_error(data)\n",
      "(Pdb) u\n",
      "> c:\\anaconda3\\lib\\site-packages\\pandas\\indexes\\base.py(3409)_ensure_index()\n",
      "-> return Index(index_like)\n",
      "(Pdb) u\n",
      "> c:\\anaconda3\\lib\\site-packages\\pandas\\indexes\\base.py(2066)get_indexer()\n",
      "-> target = _ensure_index(target)\n",
      "(Pdb) u\n",
      "> c:\\anaconda3\\lib\\site-packages\\pandas\\indexes\\base.py(2197)get_indexer_for()\n",
      "-> return self.get_indexer(target, **kwargs)\n",
      "(Pdb) u\n",
      "> c:\\anaconda3\\lib\\site-packages\\pandas\\core\\frame.py(3007)dropna()\n",
      "-> indices = ax.get_indexer_for(subset)\n",
      "(Pdb) u\n",
      "> <ipython-input-83-b200c6dead32>(26)get_gvkey_or_permno()\n",
      "-> link.dropna(subset='lpermno', inplace=True)\n",
      "(Pdb) link.head(\n",
      "*** SyntaxError: unexpected EOF while parsing\n",
      "(Pdb) link.head()\n",
      "   gvkey linkprim liid linktype  lpermno  lpermco  USEDFLAG     linkdt  \\\n",
      "0   1000        C  00X       NU      NaN      NaN      -1.0 1961-01-01   \n",
      "1   1000        P   01       NU      NaN      NaN      -1.0 1970-09-30   \n",
      "2   1000        P   01       LU  25881.0  23369.0       1.0 1970-11-13   \n",
      "3   1001        C  00X       NU      NaN      NaN      -1.0 1978-01-01   \n",
      "4   1001        P   01       LU  10015.0   6398.0       1.0 1983-09-20   \n",
      "\n",
      "   linkenddt  \n",
      "0 1970-09-29  \n",
      "1 1970-11-12  \n",
      "2 1978-06-30  \n",
      "3 1983-09-19  \n",
      "4 1986-07-31  \n",
      "(Pdb) q\n"
     ]
    }
   ],
   "source": [
    "import pdb; pdb.pm()"
   ]
  },
  {
   "cell_type": "code",
   "execution_count": 82,
   "metadata": {
    "collapsed": false
   },
   "outputs": [
    {
     "name": "stdout",
     "output_type": "stream",
     "text": [
      "pd.DataFrame(data = [\n",
      "('a', Timestamp('2000-01-01 00:00:00'), 'ADM', 10516.0, 1722),\n",
      "('a', Timestamp('2000-01-02 00:00:00'), 'ADM', 10516.0, 1722),\n",
      "('a', Timestamp('2000-01-03 00:00:00'), 'ADM', 10516.0, 1722),\n",
      "('a', Timestamp('2000-01-04 00:00:00'), 'ADM', 10516.0, 1722),\n",
      "('b', Timestamp('2000-01-01 00:00:00'), 'ADM', 10516.0, 1722),\n",
      "('b', Timestamp('2000-01-02 00:00:00'), 'ADM', 10516.0, 1722),\n",
      "('b', Timestamp('2000-01-03 00:00:00'), 'ADM', 10516.0, 1722),\n",
      "('b', Timestamp('2000-01-04 00:00:00'), 'ADM', 10516.0, 1722),\n",
      "('a', Timestamp('2010-01-03 00:00:00'), 'AAN', 78049.0, 1076),\n",
      "('a', Timestamp('2011-01-04 00:00:00'), 'AAN', 10517.0, 1076),\n",
      "], columns = ['byvar', 'Date', 'TICKER', 'PERMNO', 'GVKEY'])\n"
     ]
    }
   ],
   "source": [
    "from numpy import nan\n",
    "b = dero.data.get_gvkey_or_permno(a, datevar='Date')\n",
    "dero.pandas.to_copy_paste(b[~pd.isnull(b['PERMNO'])].reset_index(drop=True))"
   ]
  },
  {
   "cell_type": "code",
   "execution_count": 25,
   "metadata": {
    "collapsed": false
   },
   "outputs": [
    {
     "name": "stderr",
     "output_type": "stream",
     "text": [
      "C:\\Users\\derobertisna.UFAD\\Dropbox\\Python\\Dero\\dero\\pandas.py:493: UserWarning: Boolean Series key will be reindexed to match DataFrame index.\n",
      "  rows = df[(outdf[groupvar] >= low_cut) & (df[groupvar] <= high_cut)].index\n"
     ]
    },
    {
     "data": {
      "text/html": [
       "<div>\n",
       "<table border=\"1\" class=\"dataframe\">\n",
       "  <thead>\n",
       "    <tr style=\"text-align: right;\">\n",
       "      <th></th>\n",
       "      <th>portfolio</th>\n",
       "      <th>byvar</th>\n",
       "      <th>RET</th>\n",
       "      <th>RET_wavg</th>\n",
       "    </tr>\n",
       "  </thead>\n",
       "  <tbody>\n",
       "    <tr>\n",
       "      <th>0</th>\n",
       "      <td>1</td>\n",
       "      <td>a</td>\n",
       "      <td>1.025</td>\n",
       "      <td>1.025</td>\n",
       "    </tr>\n",
       "    <tr>\n",
       "      <th>1</th>\n",
       "      <td>1</td>\n",
       "      <td>b</td>\n",
       "      <td>1.055</td>\n",
       "      <td>1.055</td>\n",
       "    </tr>\n",
       "    <tr>\n",
       "      <th>2</th>\n",
       "      <td>2</td>\n",
       "      <td>a</td>\n",
       "      <td>1.105</td>\n",
       "      <td>1.120</td>\n",
       "    </tr>\n",
       "    <tr>\n",
       "      <th>3</th>\n",
       "      <td>2</td>\n",
       "      <td>b</td>\n",
       "      <td>1.075</td>\n",
       "      <td>1.075</td>\n",
       "    </tr>\n",
       "  </tbody>\n",
       "</table>\n",
       "</div>"
      ],
      "text/plain": [
       "   portfolio byvar    RET  RET_wavg\n",
       "0          1     a  1.025     1.025\n",
       "1          1     b  1.055     1.055\n",
       "2          2     a  1.105     1.120\n",
       "3          2     b  1.075     1.075"
      ]
     },
     "execution_count": 25,
     "metadata": {},
     "output_type": "execute_result"
    }
   ],
   "source": [
    "avgs, ports = dero.pandas.portfolio_averages(df_weight, 'RET', 'RET', ngroups=2, byvars='byvar', wtvar='weight')\n",
    "avgs"
   ]
  },
  {
   "cell_type": "code",
   "execution_count": 26,
   "metadata": {
    "collapsed": false
   },
   "outputs": [
    {
     "data": {
      "text/html": [
       "<div>\n",
       "<table border=\"1\" class=\"dataframe\">\n",
       "  <thead>\n",
       "    <tr style=\"text-align: right;\">\n",
       "      <th></th>\n",
       "      <th>PERMNO</th>\n",
       "      <th>byvar</th>\n",
       "      <th>Date</th>\n",
       "      <th>RET</th>\n",
       "      <th>weight</th>\n",
       "      <th>portfolio</th>\n",
       "    </tr>\n",
       "  </thead>\n",
       "  <tbody>\n",
       "    <tr>\n",
       "      <th>0</th>\n",
       "      <td>10516</td>\n",
       "      <td>a</td>\n",
       "      <td>1/1/2000</td>\n",
       "      <td>1.01</td>\n",
       "      <td>0</td>\n",
       "      <td>1</td>\n",
       "    </tr>\n",
       "    <tr>\n",
       "      <th>1</th>\n",
       "      <td>10516</td>\n",
       "      <td>a</td>\n",
       "      <td>1/2/2000</td>\n",
       "      <td>1.02</td>\n",
       "      <td>1</td>\n",
       "      <td>1</td>\n",
       "    </tr>\n",
       "    <tr>\n",
       "      <th>2</th>\n",
       "      <td>10516</td>\n",
       "      <td>a</td>\n",
       "      <td>1/3/2000</td>\n",
       "      <td>1.03</td>\n",
       "      <td>1</td>\n",
       "      <td>1</td>\n",
       "    </tr>\n",
       "    <tr>\n",
       "      <th>3</th>\n",
       "      <td>10516</td>\n",
       "      <td>a</td>\n",
       "      <td>1/4/2000</td>\n",
       "      <td>1.04</td>\n",
       "      <td>0</td>\n",
       "      <td>1</td>\n",
       "    </tr>\n",
       "    <tr>\n",
       "      <th>4</th>\n",
       "      <td>10516</td>\n",
       "      <td>b</td>\n",
       "      <td>1/1/2000</td>\n",
       "      <td>1.05</td>\n",
       "      <td>1</td>\n",
       "      <td>1</td>\n",
       "    </tr>\n",
       "    <tr>\n",
       "      <th>5</th>\n",
       "      <td>10516</td>\n",
       "      <td>b</td>\n",
       "      <td>1/2/2000</td>\n",
       "      <td>1.06</td>\n",
       "      <td>1</td>\n",
       "      <td>1</td>\n",
       "    </tr>\n",
       "    <tr>\n",
       "      <th>6</th>\n",
       "      <td>10516</td>\n",
       "      <td>b</td>\n",
       "      <td>1/3/2000</td>\n",
       "      <td>1.07</td>\n",
       "      <td>1</td>\n",
       "      <td>2</td>\n",
       "    </tr>\n",
       "    <tr>\n",
       "      <th>7</th>\n",
       "      <td>10516</td>\n",
       "      <td>b</td>\n",
       "      <td>1/4/2000</td>\n",
       "      <td>1.08</td>\n",
       "      <td>1</td>\n",
       "      <td>2</td>\n",
       "    </tr>\n",
       "    <tr>\n",
       "      <th>8</th>\n",
       "      <td>10517</td>\n",
       "      <td>a</td>\n",
       "      <td>1/1/2000</td>\n",
       "      <td>1.09</td>\n",
       "      <td>0</td>\n",
       "      <td>2</td>\n",
       "    </tr>\n",
       "    <tr>\n",
       "      <th>9</th>\n",
       "      <td>10517</td>\n",
       "      <td>a</td>\n",
       "      <td>1/2/2000</td>\n",
       "      <td>1.10</td>\n",
       "      <td>0</td>\n",
       "      <td>2</td>\n",
       "    </tr>\n",
       "    <tr>\n",
       "      <th>10</th>\n",
       "      <td>10517</td>\n",
       "      <td>a</td>\n",
       "      <td>1/3/2000</td>\n",
       "      <td>1.11</td>\n",
       "      <td>0</td>\n",
       "      <td>2</td>\n",
       "    </tr>\n",
       "    <tr>\n",
       "      <th>11</th>\n",
       "      <td>10517</td>\n",
       "      <td>a</td>\n",
       "      <td>1/4/2000</td>\n",
       "      <td>1.12</td>\n",
       "      <td>1</td>\n",
       "      <td>2</td>\n",
       "    </tr>\n",
       "  </tbody>\n",
       "</table>\n",
       "</div>"
      ],
      "text/plain": [
       "    PERMNO byvar      Date   RET  weight  portfolio\n",
       "0    10516     a  1/1/2000  1.01       0          1\n",
       "1    10516     a  1/2/2000  1.02       1          1\n",
       "2    10516     a  1/3/2000  1.03       1          1\n",
       "3    10516     a  1/4/2000  1.04       0          1\n",
       "4    10516     b  1/1/2000  1.05       1          1\n",
       "5    10516     b  1/2/2000  1.06       1          1\n",
       "6    10516     b  1/3/2000  1.07       1          2\n",
       "7    10516     b  1/4/2000  1.08       1          2\n",
       "8    10517     a  1/1/2000  1.09       0          2\n",
       "9    10517     a  1/2/2000  1.10       0          2\n",
       "10   10517     a  1/3/2000  1.11       0          2\n",
       "11   10517     a  1/4/2000  1.12       1          2"
      ]
     },
     "execution_count": 26,
     "metadata": {},
     "output_type": "execute_result"
    }
   ],
   "source": [
    "ports"
   ]
  },
  {
   "cell_type": "code",
   "execution_count": 27,
   "metadata": {
    "collapsed": false
   },
   "outputs": [
    {
     "name": "stdout",
     "output_type": "stream",
     "text": [
      "pd.DataFrame(data = [\n",
      "(1, 'a', 1.0250000000000001, 1.025),\n",
      "(1, 'b', 1.0550000000000002, 1.0550000000000002),\n",
      "(2, 'a', 1.1050000000000002, 1.12),\n",
      "(2, 'b', 1.0750000000000002, 1.0750000000000002),\n",
      "], columns = ['portfolio', 'byvar', 'RET', 'RET_wavg'])\n"
     ]
    }
   ],
   "source": [
    "dero.pandas.to_copy_paste(avgs)"
   ]
  },
  {
   "cell_type": "code",
   "execution_count": 34,
   "metadata": {
    "collapsed": false
   },
   "outputs": [
    {
     "name": "stdout",
     "output_type": "stream",
     "text": [
      "> c:\\anaconda3\\lib\\site-packages\\dateutil\\relativedelta.py(351)__add__()\n",
      "-> raise TypeError(\"unsupported type for add operation\")\n",
      "(Pdb) u\n",
      "> c:\\anaconda3\\lib\\site-packages\\dateutil\\relativedelta.py(393)__radd__()\n",
      "-> return self.__add__(other)\n",
      "(Pdb) u\n",
      "> c:\\users\\derobertisna.ufad\\dropbox\\python\\dero\\dero\\pandas.py(118)<listcomp>()\n",
      "-> df[newdate] = [date + time_shift(int(shift)) for date, shift in zip(df[datevar],df[shiftvar])]\n",
      "(Pdb) u\n",
      "> c:\\users\\derobertisna.ufad\\dropbox\\python\\dero\\dero\\pandas.py(118)_expand_time()\n",
      "-> df[newdate] = [date + time_shift(int(shift)) for date, shift in zip(df[datevar],df[shiftvar])]\n",
      "(Pdb) u\n",
      "> c:\\users\\derobertisna.ufad\\dropbox\\python\\dero\\dero\\pandas.py(69)expand_time()\n",
      "-> return _expand_time(df, **kwargs)\n",
      "(Pdb) u\n",
      "> c:\\users\\derobertisna.ufad\\dropbox\\python\\dero\\dero\\data.py(293)get_crsp()\n",
      "-> long_df = expand_time(long_df, datevar=newdate, freq=freq, time=prior_wind, newdate='Window Date', shiftvar='Wind')\n",
      "(Pdb) newdate\n",
      "'Date'\n",
      "(Pdb) prior_wind\n",
      "[0, -1, -2, -3, -4, -5, -6, -7, -8, -9, -10]\n",
      "(Pdb) q\n"
     ]
    }
   ],
   "source": [
    "import pdb; pdb.pm()"
   ]
  },
  {
   "cell_type": "code",
   "execution_count": 36,
   "metadata": {
    "collapsed": false
   },
   "outputs": [
    {
     "name": "stdout",
     "output_type": "stream",
     "text": [
      "2016-05-29 17:41:34: Initializing get_crsp function\n",
      "2016-05-29 17:41:34: All inputs: \n",
      "2016-05-29 17:41:34: {'abret': 4, 'log': <function get_crsp.<locals>.log at 0x000000F92E1D41E0>, 'includecoef': False, 'wide': True, 'df':     PERMNO byvar       Date   RET\n",
      "0    10516     a 2000-01-01  1.01\n",
      "1    10516     a 2000-01-02  1.02\n",
      "2    10516     a 2000-01-03  1.03\n",
      "3    10516     a 2000-01-04  1.04\n",
      "4    10516     b 2000-01-01  1.05\n",
      "5    10516     b 2000-01-02  1.06\n",
      "6    10516     b 2000-01-03  1.07\n",
      "7    10516     b 2000-01-04  1.08\n",
      "8    10517     a 2000-01-01  1.09\n",
      "9    10517     a 2000-01-02  1.10\n",
      "10   10517     a 2000-01-03  1.11\n",
      "11   10517     a 2000-01-04  1.12, 'date': 'Date', 'cumret': False, 'other_byvars': 'byvar', '_get_crsp': <function get_crsp.<locals>._get_crsp at 0x000000F92E1D42F0>, 'get': 'RET', 'time': None, 'drop_first': False, 'crsp_dir': 'C:\\\\Users\\\\derobertisna.UFAD\\\\Desktop\\\\Data\\\\CRSP', 'debug': True, 'freq': 'm', 'window': 10, 'coid': 'PERMNO', 'includefac': False}\n",
      "2016-05-29 17:41:34: Generating key.\n",
      "2016-05-29 17:41:34: Abret detected.\n",
      "2016-05-29 17:41:34: Creating abret window periods.\n",
      "2016-05-29 17:41:34: Initializing expand_time for periods [0, -1, -2, -3, -4, -5, -6, -7, -8, -9, -10].\n",
      "2016-05-29 17:41:34: Calculating number of rows.\n",
      "2016-05-29 17:41:34: Calculating number of duplicates.\n",
      "2016-05-29 17:41:34: Duplicating observations 10 times.\n",
      "2016-05-29 17:41:34: Duplicated.\n",
      "2016-05-29 17:41:34: Creating shift variable.\n",
      "2016-05-29 17:41:34: Creating shifted date.\n",
      "2016-05-29 17:41:34: expand_time completed.\n",
      "2016-05-29 17:41:34: Merging with CRSP to get abret window data as well as regular data.\n",
      "2016-05-29 17:41:34: Loading CRSP dataframe...\n",
      "2016-05-29 17:41:34: Loaded.\n",
      "2016-05-29 17:41:34: Converting SAS date to Pandas format.\n",
      "2016-05-29 17:41:34: Converted.\n",
      "2016-05-29 17:41:34: Merging CRSP to dataframe.\n",
      "2016-05-29 17:41:34: Completed merge.\n",
      "2016-05-29 17:41:34: Getting Fama-French factors\n",
      "2016-05-29 17:41:34: Running regressions\n",
      "2016-05-29 17:41:34: Dropping unneeded observations (abret window dates).\n",
      "2016-05-29 17:41:34: Reshaping long to wide.\n"
     ]
    },
    {
     "data": {
      "text/html": [
       "<div>\n",
       "<table border=\"1\" class=\"dataframe\">\n",
       "  <thead>\n",
       "    <tr style=\"text-align: right;\">\n",
       "      <th></th>\n",
       "      <th>PERMNO</th>\n",
       "      <th>byvar</th>\n",
       "      <th>Date</th>\n",
       "      <th>RET_old</th>\n",
       "      <th>RET</th>\n",
       "      <th>ABRET</th>\n",
       "    </tr>\n",
       "  </thead>\n",
       "  <tbody>\n",
       "    <tr>\n",
       "      <th>0</th>\n",
       "      <td>10516</td>\n",
       "      <td>a</td>\n",
       "      <td>2000-01-01</td>\n",
       "      <td>1.01</td>\n",
       "      <td>-0.030928</td>\n",
       "      <td>0.001891</td>\n",
       "    </tr>\n",
       "    <tr>\n",
       "      <th>1</th>\n",
       "      <td>10516</td>\n",
       "      <td>a</td>\n",
       "      <td>2000-01-02</td>\n",
       "      <td>1.02</td>\n",
       "      <td>-0.030928</td>\n",
       "      <td>0.001891</td>\n",
       "    </tr>\n",
       "    <tr>\n",
       "      <th>2</th>\n",
       "      <td>10516</td>\n",
       "      <td>a</td>\n",
       "      <td>2000-01-03</td>\n",
       "      <td>1.03</td>\n",
       "      <td>-0.030928</td>\n",
       "      <td>0.001891</td>\n",
       "    </tr>\n",
       "    <tr>\n",
       "      <th>3</th>\n",
       "      <td>10516</td>\n",
       "      <td>a</td>\n",
       "      <td>2000-01-04</td>\n",
       "      <td>1.04</td>\n",
       "      <td>-0.030928</td>\n",
       "      <td>0.001891</td>\n",
       "    </tr>\n",
       "    <tr>\n",
       "      <th>4</th>\n",
       "      <td>10516</td>\n",
       "      <td>b</td>\n",
       "      <td>2000-01-01</td>\n",
       "      <td>1.05</td>\n",
       "      <td>-0.030928</td>\n",
       "      <td>0.001891</td>\n",
       "    </tr>\n",
       "    <tr>\n",
       "      <th>5</th>\n",
       "      <td>10516</td>\n",
       "      <td>b</td>\n",
       "      <td>2000-01-02</td>\n",
       "      <td>1.06</td>\n",
       "      <td>-0.030928</td>\n",
       "      <td>0.001891</td>\n",
       "    </tr>\n",
       "    <tr>\n",
       "      <th>6</th>\n",
       "      <td>10516</td>\n",
       "      <td>b</td>\n",
       "      <td>2000-01-03</td>\n",
       "      <td>1.07</td>\n",
       "      <td>-0.030928</td>\n",
       "      <td>0.001891</td>\n",
       "    </tr>\n",
       "    <tr>\n",
       "      <th>7</th>\n",
       "      <td>10516</td>\n",
       "      <td>b</td>\n",
       "      <td>2000-01-04</td>\n",
       "      <td>1.08</td>\n",
       "      <td>-0.030928</td>\n",
       "      <td>0.001891</td>\n",
       "    </tr>\n",
       "    <tr>\n",
       "      <th>8</th>\n",
       "      <td>10517</td>\n",
       "      <td>a</td>\n",
       "      <td>2000-01-01</td>\n",
       "      <td>1.09</td>\n",
       "      <td>-0.078767</td>\n",
       "      <td>-0.036282</td>\n",
       "    </tr>\n",
       "    <tr>\n",
       "      <th>9</th>\n",
       "      <td>10517</td>\n",
       "      <td>a</td>\n",
       "      <td>2000-01-02</td>\n",
       "      <td>1.10</td>\n",
       "      <td>-0.078767</td>\n",
       "      <td>-0.036282</td>\n",
       "    </tr>\n",
       "    <tr>\n",
       "      <th>10</th>\n",
       "      <td>10517</td>\n",
       "      <td>a</td>\n",
       "      <td>2000-01-03</td>\n",
       "      <td>1.11</td>\n",
       "      <td>-0.078767</td>\n",
       "      <td>-0.036282</td>\n",
       "    </tr>\n",
       "    <tr>\n",
       "      <th>11</th>\n",
       "      <td>10517</td>\n",
       "      <td>a</td>\n",
       "      <td>2000-01-04</td>\n",
       "      <td>1.12</td>\n",
       "      <td>-0.078767</td>\n",
       "      <td>-0.036282</td>\n",
       "    </tr>\n",
       "  </tbody>\n",
       "</table>\n",
       "</div>"
      ],
      "text/plain": [
       "    PERMNO byvar       Date  RET_old       RET     ABRET\n",
       "0    10516     a 2000-01-01     1.01 -0.030928  0.001891\n",
       "1    10516     a 2000-01-02     1.02 -0.030928  0.001891\n",
       "2    10516     a 2000-01-03     1.03 -0.030928  0.001891\n",
       "3    10516     a 2000-01-04     1.04 -0.030928  0.001891\n",
       "4    10516     b 2000-01-01     1.05 -0.030928  0.001891\n",
       "5    10516     b 2000-01-02     1.06 -0.030928  0.001891\n",
       "6    10516     b 2000-01-03     1.07 -0.030928  0.001891\n",
       "7    10516     b 2000-01-04     1.08 -0.030928  0.001891\n",
       "8    10517     a 2000-01-01     1.09 -0.078767 -0.036282\n",
       "9    10517     a 2000-01-02     1.10 -0.078767 -0.036282\n",
       "10   10517     a 2000-01-03     1.11 -0.078767 -0.036282\n",
       "11   10517     a 2000-01-04     1.12 -0.078767 -0.036282"
      ]
     },
     "execution_count": 36,
     "metadata": {},
     "output_type": "execute_result"
    }
   ],
   "source": [
    "df['Date'] = pd.to_datetime(df['Date'])\n",
    "dero.data.get_crsp(df, get='RET', abret=4, window=10, other_byvars='byvar', debug=True)"
   ]
  },
  {
   "cell_type": "code",
   "execution_count": 28,
   "metadata": {
    "collapsed": false
   },
   "outputs": [
    {
     "name": "stdout",
     "output_type": "stream",
     "text": [
      "<class 'pandas.core.frame.DataFrame'>\n",
      "RangeIndex: 12 entries, 0 to 11\n",
      "Data columns (total 8 columns):\n",
      "PERMNO    12 non-null int64\n",
      "byvar     12 non-null object\n",
      "Date      12 non-null datetime64[ns]\n",
      "RET       12 non-null float64\n",
      "Year      12 non-null int64\n",
      "Month     12 non-null int64\n",
      "PRC       12 non-null float64\n",
      "SHROUT    12 non-null float64\n",
      "dtypes: datetime64[ns](1), float64(3), int64(3), object(1)\n",
      "memory usage: 848.0+ bytes\n"
     ]
    }
   ],
   "source": [
    "from pandas import Timestamp\n",
    "b = pd.DataFrame(data = [\n",
    "(10516, 'a', Timestamp('2000-01-01 00:00:00'), 1.01, 2000, 1, 11.75, 608360.0),\n",
    "(10516, 'a', Timestamp('2000-01-02 00:00:00'), 1.02, 2000, 1, 11.75, 608360.0),\n",
    "(10516, 'a', Timestamp('2000-01-03 00:00:00'), 1.03, 2000, 1, 11.75, 608360.0),\n",
    "(10516, 'a', Timestamp('2000-01-04 00:00:00'), 1.04, 2000, 1, 11.75, 608360.0),\n",
    "(10516, 'b', Timestamp('2000-01-01 00:00:00'), 1.05, 2000, 1, 11.75, 608360.0),\n",
    "(10516, 'b', Timestamp('2000-01-02 00:00:00'), 1.06, 2000, 1, 11.75, 608360.0),\n",
    "(10516, 'b', Timestamp('2000-01-03 00:00:00'), 1.07, 2000, 1, 11.75, 608360.0),\n",
    "(10516, 'b', Timestamp('2000-01-04 00:00:00'), 1.08, 2000, 1, 11.75, 608360.0),\n",
    "(10517, 'a', Timestamp('2000-01-01 00:00:00'), 1.09, 2000, 1, -16.8125, 3830.0),\n",
    "(10517, 'a', Timestamp('2000-01-02 00:00:00'), 1.1, 2000, 1, -16.8125, 3830.0),\n",
    "(10517, 'a', Timestamp('2000-01-03 00:00:00'), 1.11, 2000, 1, -16.8125, 3830.0),\n",
    "(10517, 'a', Timestamp('2000-01-04 00:00:00'), 1.12, 2000, 1, -16.8125, 3830.0),\n",
    "], columns = ['PERMNO', 'byvar', 'Date', 'RET', 'Year', 'Month', 'PRC', 'SHROUT'])\n",
    "b.info()"
   ]
  },
  {
   "cell_type": "code",
   "execution_count": 14,
   "metadata": {
    "collapsed": true
   },
   "outputs": [],
   "source": [
    "import random\n",
    "df2 = df.copy()\n",
    "df2['extra var'] = [i for i in range(len(df2))]"
   ]
  },
  {
   "cell_type": "code",
   "execution_count": 15,
   "metadata": {
    "collapsed": false
   },
   "outputs": [
    {
     "data": {
      "text/html": [
       "<div>\n",
       "<table border=\"1\" class=\"dataframe\">\n",
       "  <thead>\n",
       "    <tr style=\"text-align: right;\">\n",
       "      <th></th>\n",
       "      <th>PERMNO</th>\n",
       "      <th>byvar</th>\n",
       "      <th>Date</th>\n",
       "      <th>RET</th>\n",
       "      <th>extra var</th>\n",
       "    </tr>\n",
       "  </thead>\n",
       "  <tbody>\n",
       "    <tr>\n",
       "      <th>0</th>\n",
       "      <td>10516</td>\n",
       "      <td>a</td>\n",
       "      <td>1/1/2000</td>\n",
       "      <td>1.01</td>\n",
       "      <td>0</td>\n",
       "    </tr>\n",
       "    <tr>\n",
       "      <th>1</th>\n",
       "      <td>10516</td>\n",
       "      <td>a</td>\n",
       "      <td>1/2/2000</td>\n",
       "      <td>1.02</td>\n",
       "      <td>1</td>\n",
       "    </tr>\n",
       "    <tr>\n",
       "      <th>2</th>\n",
       "      <td>10516</td>\n",
       "      <td>a</td>\n",
       "      <td>1/3/2000</td>\n",
       "      <td>1.03</td>\n",
       "      <td>2</td>\n",
       "    </tr>\n",
       "    <tr>\n",
       "      <th>3</th>\n",
       "      <td>10516</td>\n",
       "      <td>a</td>\n",
       "      <td>1/4/2000</td>\n",
       "      <td>1.04</td>\n",
       "      <td>3</td>\n",
       "    </tr>\n",
       "    <tr>\n",
       "      <th>4</th>\n",
       "      <td>10516</td>\n",
       "      <td>b</td>\n",
       "      <td>1/1/2000</td>\n",
       "      <td>1.05</td>\n",
       "      <td>4</td>\n",
       "    </tr>\n",
       "    <tr>\n",
       "      <th>5</th>\n",
       "      <td>10516</td>\n",
       "      <td>b</td>\n",
       "      <td>1/2/2000</td>\n",
       "      <td>1.06</td>\n",
       "      <td>5</td>\n",
       "    </tr>\n",
       "    <tr>\n",
       "      <th>6</th>\n",
       "      <td>10516</td>\n",
       "      <td>b</td>\n",
       "      <td>1/3/2000</td>\n",
       "      <td>1.07</td>\n",
       "      <td>6</td>\n",
       "    </tr>\n",
       "    <tr>\n",
       "      <th>7</th>\n",
       "      <td>10516</td>\n",
       "      <td>b</td>\n",
       "      <td>1/4/2000</td>\n",
       "      <td>1.08</td>\n",
       "      <td>7</td>\n",
       "    </tr>\n",
       "    <tr>\n",
       "      <th>8</th>\n",
       "      <td>10517</td>\n",
       "      <td>a</td>\n",
       "      <td>1/1/2000</td>\n",
       "      <td>1.09</td>\n",
       "      <td>8</td>\n",
       "    </tr>\n",
       "    <tr>\n",
       "      <th>9</th>\n",
       "      <td>10517</td>\n",
       "      <td>a</td>\n",
       "      <td>1/2/2000</td>\n",
       "      <td>1.10</td>\n",
       "      <td>9</td>\n",
       "    </tr>\n",
       "    <tr>\n",
       "      <th>10</th>\n",
       "      <td>10517</td>\n",
       "      <td>a</td>\n",
       "      <td>1/3/2000</td>\n",
       "      <td>1.11</td>\n",
       "      <td>10</td>\n",
       "    </tr>\n",
       "    <tr>\n",
       "      <th>11</th>\n",
       "      <td>10517</td>\n",
       "      <td>a</td>\n",
       "      <td>1/4/2000</td>\n",
       "      <td>1.12</td>\n",
       "      <td>11</td>\n",
       "    </tr>\n",
       "  </tbody>\n",
       "</table>\n",
       "</div>"
      ],
      "text/plain": [
       "    PERMNO byvar      Date   RET  extra var\n",
       "0    10516     a  1/1/2000  1.01          0\n",
       "1    10516     a  1/2/2000  1.02          1\n",
       "2    10516     a  1/3/2000  1.03          2\n",
       "3    10516     a  1/4/2000  1.04          3\n",
       "4    10516     b  1/1/2000  1.05          4\n",
       "5    10516     b  1/2/2000  1.06          5\n",
       "6    10516     b  1/3/2000  1.07          6\n",
       "7    10516     b  1/4/2000  1.08          7\n",
       "8    10517     a  1/1/2000  1.09          8\n",
       "9    10517     a  1/2/2000  1.10          9\n",
       "10   10517     a  1/3/2000  1.11         10\n",
       "11   10517     a  1/4/2000  1.12         11"
      ]
     },
     "execution_count": 15,
     "metadata": {},
     "output_type": "execute_result"
    }
   ],
   "source": [
    "df2"
   ]
  },
  {
   "cell_type": "code",
   "execution_count": 21,
   "metadata": {
    "collapsed": false
   },
   "outputs": [
    {
     "name": "stdout",
     "output_type": "stream",
     "text": [
      "pd.DataFrame(data = [\n",
      "(10516, 'a', '1/1/2000', 1.01, 1.02, 1.03, 1.04),\n",
      "(10516, 'a', '1/2/2000', 1.01, 1.02, 1.03, 1.04),\n",
      "(10516, 'a', '1/3/2000', 1.01, 1.02, 1.03, 1.04),\n",
      "(10516, 'a', '1/4/2000', 1.01, 1.02, 1.03, 1.04),\n",
      "(10516, 'b', '1/1/2000', 1.05, 1.06, 1.07, 1.08),\n",
      "(10516, 'b', '1/2/2000', 1.05, 1.06, 1.07, 1.08),\n",
      "(10516, 'b', '1/3/2000', 1.05, 1.06, 1.07, 1.08),\n",
      "(10516, 'b', '1/4/2000', 1.05, 1.06, 1.07, 1.08),\n",
      "(10517, 'a', '1/1/2000', 1.09, 1.1, 1.11, 1.12),\n",
      "(10517, 'a', '1/2/2000', 1.09, 1.1, 1.11, 1.12),\n",
      "(10517, 'a', '1/3/2000', 1.09, 1.1, 1.11, 1.12),\n",
      "(10517, 'a', '1/4/2000', 1.09, 1.1, 1.11, 1.12),\n",
      "], columns = ['PERMNO', 'byvar', 'Date', 'RET0', 'RET1', 'RET2', 'RET3'])\n"
     ]
    }
   ],
   "source": [
    "a = dero.pandas.long_to_wide(df, ['PERMNO', 'byvar'], 'RET' )#, colindex='Date')\n",
    "dero.pandas.to_copy_paste(a)"
   ]
  },
  {
   "cell_type": "code",
   "execution_count": 13,
   "metadata": {
    "collapsed": false
   },
   "outputs": [
    {
     "name": "stdout",
     "output_type": "stream",
     "text": [
      "> c:\\anaconda3\\lib\\site-packages\\pandas\\core\\reshape.py(139)_make_selectors()\n",
      "-> raise ValueError('Index contains duplicate entries, '\n",
      "(Pdb) u\n",
      "> c:\\anaconda3\\lib\\site-packages\\pandas\\core\\reshape.py(101)__init__()\n",
      "-> self._make_selectors()\n",
      "(Pdb) u\n",
      "> c:\\anaconda3\\lib\\site-packages\\pandas\\core\\reshape.py(407)unstack()\n",
      "-> fill_value=fill_value)\n",
      "(Pdb) u\n",
      "> c:\\anaconda3\\lib\\site-packages\\pandas\\core\\series.py(2043)unstack()\n",
      "-> return unstack(self, level, fill_value)\n",
      "(Pdb) u\n",
      "> c:\\anaconda3\\lib\\site-packages\\pandas\\core\\reshape.py(332)pivot()\n",
      "-> return indexed.unstack(columns)\n",
      "(Pdb) u\n",
      "> c:\\anaconda3\\lib\\site-packages\\pandas\\core\\frame.py(3846)pivot()\n",
      "-> return pivot(self, index=index, columns=columns, values=values)\n",
      "(Pdb) u\n",
      "> c:\\users\\derobertisna.ufad\\dropbox\\python\\dero\\dero\\pandas.py(386)long_to_wide()\n",
      "-> raw_wide = df.pivot(index='__key__', columns=colindex, values=value)\n",
      "(Pdb) df\n",
      "    PERMNO byvar      Date   RET  extra var  __key__\n",
      "0    10516     a  1/1/2000  1.01          0  10516_a\n",
      "1    10516     a  1/2/2000  1.02          1  10516_a\n",
      "2    10516     a  1/2/2000  1.02          2  10516_a\n",
      "3    10516     a  1/3/2000  1.03          3  10516_a\n",
      "4    10516     a  1/4/2000  1.04          4  10516_a\n",
      "5    10516     b  1/1/2000  1.05          5  10516_b\n",
      "6    10516     b  1/2/2000  1.06          6  10516_b\n",
      "7    10516     b  1/3/2000  1.07          7  10516_b\n",
      "8    10516     b  1/4/2000  1.08          8  10516_b\n",
      "9    10517     a  1/1/2000  1.09          9  10517_a\n",
      "10   10517     a  1/2/2000  1.10         10  10517_a\n",
      "11   10517     a  1/3/2000  1.11         11  10517_a\n",
      "12   10517     a  1/4/2000  1.12         12  10517_a\n",
      "(Pdb) q\n"
     ]
    }
   ],
   "source": [
    "import pdb\n",
    "pdb.pm()"
   ]
  },
  {
   "cell_type": "code",
   "execution_count": 8,
   "metadata": {
    "collapsed": false
   },
   "outputs": [
    {
     "data": {
      "text/plain": [
       "False"
      ]
     },
     "execution_count": 8,
     "metadata": {},
     "output_type": "execute_result"
    }
   ],
   "source": [
    "df.duplicated().any()"
   ]
  },
  {
   "cell_type": "code",
   "execution_count": 9,
   "metadata": {
    "collapsed": true
   },
   "outputs": [],
   "source": [
    "a = df.iterrows()\n",
    "b = next(a)"
   ]
  },
  {
   "cell_type": "code",
   "execution_count": 8,
   "metadata": {
    "collapsed": false
   },
   "outputs": [
    {
     "data": {
      "text/html": [
       "<div>\n",
       "<table border=\"1\" class=\"dataframe\">\n",
       "  <thead>\n",
       "    <tr style=\"text-align: right;\">\n",
       "      <th></th>\n",
       "      <th>PERMNO</th>\n",
       "      <th>byvar</th>\n",
       "      <th>RET1/1/2000</th>\n",
       "      <th>RET1/2/2000</th>\n",
       "      <th>RET1/3/2000</th>\n",
       "      <th>RET1/4/2000</th>\n",
       "    </tr>\n",
       "  </thead>\n",
       "  <tbody>\n",
       "    <tr>\n",
       "      <th>0</th>\n",
       "      <td>10516</td>\n",
       "      <td>a</td>\n",
       "      <td>1.01</td>\n",
       "      <td>1.02</td>\n",
       "      <td>1.03</td>\n",
       "      <td>1.04</td>\n",
       "    </tr>\n",
       "    <tr>\n",
       "      <th>1</th>\n",
       "      <td>10516</td>\n",
       "      <td>b</td>\n",
       "      <td>1.05</td>\n",
       "      <td>1.06</td>\n",
       "      <td>1.07</td>\n",
       "      <td>1.08</td>\n",
       "    </tr>\n",
       "    <tr>\n",
       "      <th>2</th>\n",
       "      <td>10517</td>\n",
       "      <td>a</td>\n",
       "      <td>1.09</td>\n",
       "      <td>1.10</td>\n",
       "      <td>1.11</td>\n",
       "      <td>1.12</td>\n",
       "    </tr>\n",
       "  </tbody>\n",
       "</table>\n",
       "</div>"
      ],
      "text/plain": [
       "   PERMNO byvar  RET1/1/2000  RET1/2/2000  RET1/3/2000  RET1/4/2000\n",
       "0   10516     a         1.01         1.02         1.03         1.04\n",
       "1   10516     b         1.05         1.06         1.07         1.08\n",
       "2   10517     a         1.09         1.10         1.11         1.12"
      ]
     },
     "execution_count": 8,
     "metadata": {},
     "output_type": "execute_result"
    }
   ],
   "source": [
    "a"
   ]
  },
  {
   "cell_type": "code",
   "execution_count": 7,
   "metadata": {
    "collapsed": false
   },
   "outputs": [
    {
     "name": "stdout",
     "output_type": "stream",
     "text": [
      "pd.DataFrame(data = [\n",
      "(10516, 'a', 1.01, 1.02, 1.03, 1.04),\n",
      "(10516, 'b', 1.05, 1.06, 1.07, 1.08),\n",
      "(10517, 'a', 1.09, 1.1, 1.11, 1.12),\n",
      "], columns = ['PERMNO', 'byvar', 'RET1/1/2000', 'RET1/2/2000', 'RET1/3/2000', 'RET1/4/2000'])\n"
     ]
    }
   ],
   "source": [
    "dero.pandas.to_copy_paste(a)"
   ]
  },
  {
   "cell_type": "code",
   "execution_count": 7,
   "metadata": {
    "collapsed": false
   },
   "outputs": [
    {
     "name": "stdout",
     "output_type": "stream",
     "text": [
      "['PERMNO', 'byvar', 'Date', 'RET']\n"
     ]
    }
   ],
   "source": [
    "print([i for i in df.columns])"
   ]
  },
  {
   "cell_type": "code",
   "execution_count": 54,
   "metadata": {
    "collapsed": false
   },
   "outputs": [
    {
     "data": {
      "text/plain": [
       "array([1, 10516, 'a', '1/2/2000', 1.02], dtype=object)"
      ]
     },
     "execution_count": 54,
     "metadata": {},
     "output_type": "execute_result"
    }
   ],
   "source": [
    "import numpy as np\n",
    "d = c.values\n",
    "d = np.insert(d, 0, 1)\n",
    "d"
   ]
  },
  {
   "cell_type": "code",
   "execution_count": 29,
   "metadata": {
    "collapsed": true
   },
   "outputs": [],
   "source": [
    "a = df.iterrows()"
   ]
  },
  {
   "cell_type": "code",
   "execution_count": 31,
   "metadata": {
    "collapsed": false
   },
   "outputs": [],
   "source": [
    "b = next(a)"
   ]
  },
  {
   "cell_type": "code",
   "execution_count": 36,
   "metadata": {
    "collapsed": false
   },
   "outputs": [],
   "source": [
    "c = b[1]\n",
    "c?"
   ]
  },
  {
   "cell_type": "code",
   "execution_count": 42,
   "metadata": {
    "collapsed": false
   },
   "outputs": [
    {
     "data": {
      "text/plain": [
       "[0, 1, 2, 3, 4, 5, 6, 7, 8, 9, 10, 11]"
      ]
     },
     "execution_count": 42,
     "metadata": {},
     "output_type": "execute_result"
    }
   ],
   "source": [
    "[row[0] for row in df.iterrows()]"
   ]
  },
  {
   "cell_type": "code",
   "execution_count": 41,
   "metadata": {
    "collapsed": false
   },
   "outputs": [
    {
     "data": {
      "text/plain": [
       "[(10516, 'a', '1/1/2000', 1.01),\n",
       " (10516, 'a', '1/2/2000', 1.02),\n",
       " (10516, 'a', '1/3/2000', 1.03),\n",
       " (10516, 'a', '1/4/2000', 1.04),\n",
       " (10516, 'b', '1/1/2000', 1.05),\n",
       " (10516, 'b', '1/2/2000', 1.06),\n",
       " (10516, 'b', '1/3/2000', 1.07),\n",
       " (10516, 'b', '1/4/2000', 1.08),\n",
       " (10517, 'a', '1/1/2000', 1.09),\n",
       " (10517, 'a', '1/2/2000', 1.1),\n",
       " (10517, 'a', '1/3/2000', 1.11),\n",
       " (10517, 'a', '1/4/2000', 1.12)]"
      ]
     },
     "execution_count": 41,
     "metadata": {},
     "output_type": "execute_result"
    }
   ],
   "source": [
    "[tuple(row[1].values) for row in df.iterrows()]"
   ]
  },
  {
   "cell_type": "code",
   "execution_count": 22,
   "metadata": {
    "collapsed": false
   },
   "outputs": [
    {
     "data": {
      "text/plain": [
       "(1.06, 1)"
      ]
     },
     "execution_count": 22,
     "metadata": {},
     "output_type": "execute_result"
    }
   ],
   "source": [
    "(1.06000000000000001, 1)"
   ]
  },
  {
   "cell_type": "code",
   "execution_count": 15,
   "metadata": {
    "collapsed": false
   },
   "outputs": [
    {
     "name": "stdout",
     "output_type": "stream",
     "text": [
      "> <ipython-input-14-55b4ea73ba63>(23)to_copy_paste()\n",
      "-> out += val\n",
      "(Pdb) val\n",
      "1.01\n",
      "(Pdb) out\n",
      "[10516, 'a']\n",
      "(Pdb) q.\n"
     ]
    }
   ],
   "source": [
    "import pdb; pdb.pm()"
   ]
  },
  {
   "cell_type": "code",
   "execution_count": 7,
   "metadata": {
    "collapsed": false
   },
   "outputs": [
    {
     "ename": "OSError",
     "evalue": "exception: access violation writing 0x0000000000000000",
     "output_type": "error",
     "traceback": [
      "\u001b[1;31m---------------------------------------------------------------------------\u001b[0m",
      "\u001b[1;31mOSError\u001b[0m                                   Traceback (most recent call last)",
      "\u001b[1;32m<ipython-input-7-0a43e3df1899>\u001b[0m in \u001b[0;36m<module>\u001b[1;34m()\u001b[0m\n\u001b[1;32m----> 1\u001b[1;33m \u001b[0ma\u001b[0m\u001b[1;33m.\u001b[0m\u001b[0mto_clipboard\u001b[0m\u001b[1;33m(\u001b[0m\u001b[1;33m)\u001b[0m\u001b[1;33m\u001b[0m\u001b[0m\n\u001b[0m",
      "\u001b[1;32mC:\\Anaconda3\\lib\\site-packages\\pandas\\core\\generic.py\u001b[0m in \u001b[0;36mto_clipboard\u001b[1;34m(self, excel, sep, **kwargs)\u001b[0m\n\u001b[0;32m   1200\u001b[0m         \"\"\"\n\u001b[0;32m   1201\u001b[0m         \u001b[1;32mfrom\u001b[0m \u001b[0mpandas\u001b[0m\u001b[1;33m.\u001b[0m\u001b[0mio\u001b[0m \u001b[1;32mimport\u001b[0m \u001b[0mclipboard\u001b[0m\u001b[1;33m\u001b[0m\u001b[0m\n\u001b[1;32m-> 1202\u001b[1;33m         \u001b[0mclipboard\u001b[0m\u001b[1;33m.\u001b[0m\u001b[0mto_clipboard\u001b[0m\u001b[1;33m(\u001b[0m\u001b[0mself\u001b[0m\u001b[1;33m,\u001b[0m \u001b[0mexcel\u001b[0m\u001b[1;33m=\u001b[0m\u001b[0mexcel\u001b[0m\u001b[1;33m,\u001b[0m \u001b[0msep\u001b[0m\u001b[1;33m=\u001b[0m\u001b[0msep\u001b[0m\u001b[1;33m,\u001b[0m \u001b[1;33m**\u001b[0m\u001b[0mkwargs\u001b[0m\u001b[1;33m)\u001b[0m\u001b[1;33m\u001b[0m\u001b[0m\n\u001b[0m\u001b[0;32m   1203\u001b[0m \u001b[1;33m\u001b[0m\u001b[0m\n\u001b[0;32m   1204\u001b[0m     \u001b[1;32mdef\u001b[0m \u001b[0mto_xarray\u001b[0m\u001b[1;33m(\u001b[0m\u001b[0mself\u001b[0m\u001b[1;33m)\u001b[0m\u001b[1;33m:\u001b[0m\u001b[1;33m\u001b[0m\u001b[0m\n",
      "\u001b[1;32mC:\\Anaconda3\\lib\\site-packages\\pandas\\io\\clipboard.py\u001b[0m in \u001b[0;36mto_clipboard\u001b[1;34m(obj, excel, sep, **kwargs)\u001b[0m\n\u001b[0;32m     96\u001b[0m     \u001b[1;32melse\u001b[0m\u001b[1;33m:\u001b[0m\u001b[1;33m\u001b[0m\u001b[0m\n\u001b[0;32m     97\u001b[0m         \u001b[0mobjstr\u001b[0m \u001b[1;33m=\u001b[0m \u001b[0mstr\u001b[0m\u001b[1;33m(\u001b[0m\u001b[0mobj\u001b[0m\u001b[1;33m)\u001b[0m\u001b[1;33m\u001b[0m\u001b[0m\n\u001b[1;32m---> 98\u001b[1;33m     \u001b[0mclipboard_set\u001b[0m\u001b[1;33m(\u001b[0m\u001b[0mobjstr\u001b[0m\u001b[1;33m)\u001b[0m\u001b[1;33m\u001b[0m\u001b[0m\n\u001b[0m",
      "\u001b[1;32mC:\\Anaconda3\\lib\\site-packages\\pandas\\util\\clipboard.py\u001b[0m in \u001b[0;36m_copyWindows\u001b[1;34m(text)\u001b[0m\n\u001b[0;32m     83\u001b[0m                                  len(text.encode('utf-16-le')) + 2)\n\u001b[0;32m     84\u001b[0m     \u001b[0mpchData\u001b[0m \u001b[1;33m=\u001b[0m \u001b[0md\u001b[0m\u001b[1;33m.\u001b[0m\u001b[0mkernel32\u001b[0m\u001b[1;33m.\u001b[0m\u001b[0mGlobalLock\u001b[0m\u001b[1;33m(\u001b[0m\u001b[0mhCd\u001b[0m\u001b[1;33m)\u001b[0m\u001b[1;33m\u001b[0m\u001b[0m\n\u001b[1;32m---> 85\u001b[1;33m     \u001b[0mctypes\u001b[0m\u001b[1;33m.\u001b[0m\u001b[0mcdll\u001b[0m\u001b[1;33m.\u001b[0m\u001b[0mmsvcrt\u001b[0m\u001b[1;33m.\u001b[0m\u001b[0mwcscpy\u001b[0m\u001b[1;33m(\u001b[0m\u001b[0mctypes\u001b[0m\u001b[1;33m.\u001b[0m\u001b[0mc_wchar_p\u001b[0m\u001b[1;33m(\u001b[0m\u001b[0mpchData\u001b[0m\u001b[1;33m)\u001b[0m\u001b[1;33m,\u001b[0m \u001b[0mtext\u001b[0m\u001b[1;33m)\u001b[0m\u001b[1;33m\u001b[0m\u001b[0m\n\u001b[0m\u001b[0;32m     86\u001b[0m     \u001b[0md\u001b[0m\u001b[1;33m.\u001b[0m\u001b[0mkernel32\u001b[0m\u001b[1;33m.\u001b[0m\u001b[0mGlobalUnlock\u001b[0m\u001b[1;33m(\u001b[0m\u001b[0mhCd\u001b[0m\u001b[1;33m)\u001b[0m\u001b[1;33m\u001b[0m\u001b[0m\n\u001b[0;32m     87\u001b[0m     \u001b[0md\u001b[0m\u001b[1;33m.\u001b[0m\u001b[0muser32\u001b[0m\u001b[1;33m.\u001b[0m\u001b[0mSetClipboardData\u001b[0m\u001b[1;33m(\u001b[0m\u001b[0mCF_UNICODETEXT\u001b[0m\u001b[1;33m,\u001b[0m \u001b[0mhCd\u001b[0m\u001b[1;33m)\u001b[0m\u001b[1;33m\u001b[0m\u001b[0m\n",
      "\u001b[1;31mOSError\u001b[0m: exception: access violation writing 0x0000000000000000"
     ]
    }
   ],
   "source": [
    "a.to_clipboard()"
   ]
  },
  {
   "cell_type": "code",
   "execution_count": 4,
   "metadata": {
    "collapsed": false
   },
   "outputs": [
    {
     "name": "stdout",
     "output_type": "stream",
     "text": [
      "2016-05-27 17:31:44: Initializing cumulate.\n",
      "2016-05-27 17:31:44: Creating by groups.\n"
     ]
    }
   ],
   "source": [
    "cum_df = dero.pandas.cumulate(df, 'RET', method='between', periodvar='Date', byvars=['PERMNO','byvar'], time=[1,3])"
   ]
  },
  {
   "cell_type": "code",
   "execution_count": 5,
   "metadata": {
    "collapsed": true
   },
   "outputs": [],
   "source": [
    "expect_df = pd.DataFrame([\n",
    "                                (10516, 'a', '1/1/2000', 1.01, 1.01),\n",
    "                                (10516, 'a', '1/2/2000', 1.02, 1.02),\n",
    "                                (10516, 'a', '1/3/2000', 1.03, 1.03),\n",
    "                                (10516, 'a', '1/4/2000', 1.04, 1.0712),\n",
    "                                (10516, 'b', '1/1/2000', 1.05, 1.05),\n",
    "                                (10516, 'b', '1/2/2000', 1.06, 1.06),\n",
    "                                (10516, 'b', '1/3/2000', 1.07, 1.07),\n",
    "                                (10516, 'b', '1/4/2000', 1.08, 1.1556),\n",
    "                                (10517, 'a', '1/1/2000', 1.09, 1.09),\n",
    "                                (10517, 'a', '1/2/2000', 1.10, 1.10),\n",
    "                                (10517, 'a', '1/3/2000', 1.11, 1.11),\n",
    "                                (10517, 'a', '1/4/2000', 1.12, 1.2432),\n",
    "                                ], columns = ['PERMNO','byvar','Date', 'RET', 'cum_RET'])"
   ]
  },
  {
   "cell_type": "code",
   "execution_count": 18,
   "metadata": {
    "collapsed": false
   },
   "outputs": [],
   "source": [
    "cum_df['cum_RET'] = cum_df['cum_RET'].astype('float64')"
   ]
  },
  {
   "cell_type": "code",
   "execution_count": 29,
   "metadata": {
    "collapsed": true
   },
   "outputs": [],
   "source": [
    "pd.util.testing.SimpleMock?"
   ]
  },
  {
   "cell_type": "code",
   "execution_count": 32,
   "metadata": {
    "collapsed": false
   },
   "outputs": [],
   "source": [
    "assert_frame_equal?"
   ]
  },
  {
   "cell_type": "code",
   "execution_count": 17,
   "metadata": {
    "collapsed": false
   },
   "outputs": [
    {
     "data": {
      "text/plain": [
       "PERMNO       int64\n",
       "byvar       object\n",
       "Date        object\n",
       "RET        float64\n",
       "cum_RET    float64\n",
       "dtype: object"
      ]
     },
     "execution_count": 17,
     "metadata": {},
     "output_type": "execute_result"
    }
   ],
   "source": [
    "expect_df.dtypes"
   ]
  },
  {
   "cell_type": "code",
   "execution_count": 6,
   "metadata": {
    "collapsed": false
   },
   "outputs": [],
   "source": [
    "\n",
    "\n",
    "byvars = ['PERMNO','byvar']\n",
    "out = groupby_merge(df, byvars, 'max', subset='RET')"
   ]
  },
  {
   "cell_type": "code",
   "execution_count": 11,
   "metadata": {
    "collapsed": true
   },
   "outputs": [],
   "source": [
    "round?"
   ]
  },
  {
   "cell_type": "code",
   "execution_count": 18,
   "metadata": {
    "collapsed": false
   },
   "outputs": [
    {
     "data": {
      "text/plain": [
       "1.07"
      ]
     },
     "execution_count": 18,
     "metadata": {},
     "output_type": "execute_result"
    }
   ],
   "source": [
    "round(1.070001, 2)"
   ]
  },
  {
   "cell_type": "code",
   "execution_count": 19,
   "metadata": {
    "collapsed": false
   },
   "outputs": [
    {
     "data": {
      "text/plain": [
       "[(10516, 'a', '1/1/2000', 1.01, 1.04),\n",
       " (10516, 'a', '1/2/2000', 1.02, 1.04),\n",
       " (10516, 'a', '1/3/2000', 1.03, 1.04),\n",
       " (10516, 'a', '1/4/2000', 1.04, 1.04),\n",
       " (10516, 'b', '1/1/2000', 1.05, 1.0800000000000001),\n",
       " (10516, 'b', '1/2/2000', 1.0600000000000001, 1.0800000000000001),\n",
       " (10516, 'b', '1/3/2000', 1.0700000000000001, 1.0800000000000001),\n",
       " (10516, 'b', '1/4/2000', 1.0800000000000001, 1.0800000000000001),\n",
       " (10517, 'a', '1/1/2000', 1.0900000000000001, 1.1200000000000001),\n",
       " (10517, 'a', '1/2/2000', 1.1000000000000001, 1.1200000000000001),\n",
       " (10517, 'a', '1/3/2000', 1.1100000000000001, 1.1200000000000001),\n",
       " (10517, 'a', '1/4/2000', 1.1200000000000001, 1.1200000000000001)]"
      ]
     },
     "execution_count": 19,
     "metadata": {},
     "output_type": "execute_result"
    }
   ],
   "source": [
    "tups = list(out.itertuples(name=None))\n",
    "[tup[1:-1] + (round(tup[-1], 2),) for tup in tups]"
   ]
  },
  {
   "cell_type": "code",
   "execution_count": null,
   "metadata": {
    "collapsed": true
   },
   "outputs": [],
   "source": [
    "dero.pandas.cumulate(df, 'RET', 'between', shiftvar='Date', \n",
    "                                      byvars=['PERMNO','byvar'], time=[1,3])"
   ]
  },
  {
   "cell_type": "code",
   "execution_count": 25,
   "metadata": {
    "collapsed": false
   },
   "outputs": [
    {
     "data": {
      "text/html": [
       "<div>\n",
       "<table border=\"1\" class=\"dataframe\">\n",
       "  <thead>\n",
       "    <tr style=\"text-align: right;\">\n",
       "      <th></th>\n",
       "      <th>PERMNO</th>\n",
       "      <th>byvar</th>\n",
       "      <th>Date</th>\n",
       "      <th>RET</th>\n",
       "    </tr>\n",
       "  </thead>\n",
       "  <tbody>\n",
       "    <tr>\n",
       "      <th>0</th>\n",
       "      <td>10516</td>\n",
       "      <td>a</td>\n",
       "      <td>1/1/2000</td>\n",
       "      <td>1.01</td>\n",
       "    </tr>\n",
       "    <tr>\n",
       "      <th>1</th>\n",
       "      <td>10516</td>\n",
       "      <td>a</td>\n",
       "      <td>1/2/2000</td>\n",
       "      <td>1.02</td>\n",
       "    </tr>\n",
       "    <tr>\n",
       "      <th>2</th>\n",
       "      <td>10516</td>\n",
       "      <td>a</td>\n",
       "      <td>1/3/2000</td>\n",
       "      <td>1.03</td>\n",
       "    </tr>\n",
       "    <tr>\n",
       "      <th>3</th>\n",
       "      <td>10516</td>\n",
       "      <td>a</td>\n",
       "      <td>1/4/2000</td>\n",
       "      <td>1.04</td>\n",
       "    </tr>\n",
       "    <tr>\n",
       "      <th>4</th>\n",
       "      <td>10516</td>\n",
       "      <td>b</td>\n",
       "      <td>1/1/2000</td>\n",
       "      <td>1.05</td>\n",
       "    </tr>\n",
       "    <tr>\n",
       "      <th>5</th>\n",
       "      <td>10516</td>\n",
       "      <td>b</td>\n",
       "      <td>1/2/2000</td>\n",
       "      <td>1.06</td>\n",
       "    </tr>\n",
       "    <tr>\n",
       "      <th>6</th>\n",
       "      <td>10516</td>\n",
       "      <td>b</td>\n",
       "      <td>1/3/2000</td>\n",
       "      <td>1.07</td>\n",
       "    </tr>\n",
       "    <tr>\n",
       "      <th>7</th>\n",
       "      <td>10516</td>\n",
       "      <td>b</td>\n",
       "      <td>1/4/2000</td>\n",
       "      <td>1.08</td>\n",
       "    </tr>\n",
       "    <tr>\n",
       "      <th>8</th>\n",
       "      <td>10517</td>\n",
       "      <td>a</td>\n",
       "      <td>1/1/2000</td>\n",
       "      <td>1.09</td>\n",
       "    </tr>\n",
       "    <tr>\n",
       "      <th>9</th>\n",
       "      <td>10517</td>\n",
       "      <td>a</td>\n",
       "      <td>1/2/2000</td>\n",
       "      <td>1.10</td>\n",
       "    </tr>\n",
       "    <tr>\n",
       "      <th>10</th>\n",
       "      <td>10517</td>\n",
       "      <td>a</td>\n",
       "      <td>1/3/2000</td>\n",
       "      <td>1.11</td>\n",
       "    </tr>\n",
       "    <tr>\n",
       "      <th>11</th>\n",
       "      <td>10517</td>\n",
       "      <td>a</td>\n",
       "      <td>1/4/2000</td>\n",
       "      <td>1.12</td>\n",
       "    </tr>\n",
       "  </tbody>\n",
       "</table>\n",
       "</div>"
      ],
      "text/plain": [
       "    PERMNO byvar      Date   RET\n",
       "0    10516     a  1/1/2000  1.01\n",
       "1    10516     a  1/2/2000  1.02\n",
       "2    10516     a  1/3/2000  1.03\n",
       "3    10516     a  1/4/2000  1.04\n",
       "4    10516     b  1/1/2000  1.05\n",
       "5    10516     b  1/2/2000  1.06\n",
       "6    10516     b  1/3/2000  1.07\n",
       "7    10516     b  1/4/2000  1.08\n",
       "8    10517     a  1/1/2000  1.09\n",
       "9    10517     a  1/2/2000  1.10\n",
       "10   10517     a  1/3/2000  1.11\n",
       "11   10517     a  1/4/2000  1.12"
      ]
     },
     "execution_count": 25,
     "metadata": {},
     "output_type": "execute_result"
    }
   ],
   "source": [
    "df"
   ]
  },
  {
   "cell_type": "code",
   "execution_count": 26,
   "metadata": {
    "collapsed": false
   },
   "outputs": [
    {
     "data": {
      "text/plain": [
       "{(10516, 'a'): [0, 1, 2, 3],\n",
       " (10516, 'b'): [4, 5, 6, 7],\n",
       " (10517, 'a'): [8, 9, 10, 11]}"
      ]
     },
     "execution_count": 26,
     "metadata": {},
     "output_type": "execute_result"
    }
   ],
   "source": [
    "test = df.groupby(['PERMNO','byvar']).groups\n",
    "test"
   ]
  },
  {
   "cell_type": "code",
   "execution_count": 30,
   "metadata": {
    "collapsed": false
   },
   "outputs": [],
   "source": [
    "import dero"
   ]
  },
  {
   "cell_type": "code",
   "execution_count": 51,
   "metadata": {
    "collapsed": false
   },
   "outputs": [
    {
     "data": {
      "text/plain": [
       "<module 'dero' from 'c:\\\\users\\\\derobertisna.ufad\\\\dropbox\\\\python\\\\dero\\\\dero\\\\__init__.py'>"
      ]
     },
     "execution_count": 51,
     "metadata": {},
     "output_type": "execute_result"
    }
   ],
   "source": [
    "import imp; imp.reload(dero)"
   ]
  },
  {
   "cell_type": "code",
   "execution_count": 21,
   "metadata": {
    "collapsed": false
   },
   "outputs": [],
   "source": [
    "a = df.groupby(['PERMNO','byvar']).transform(lambda x: x)\n",
    "a.columns = [col + '_a' for col in a.columns]"
   ]
  },
  {
   "cell_type": "code",
   "execution_count": 22,
   "metadata": {
    "collapsed": false
   },
   "outputs": [
    {
     "data": {
      "text/html": [
       "<div>\n",
       "<table border=\"1\" class=\"dataframe\">\n",
       "  <thead>\n",
       "    <tr style=\"text-align: right;\">\n",
       "      <th></th>\n",
       "      <th>PERMNO</th>\n",
       "      <th>byvar</th>\n",
       "      <th>Date</th>\n",
       "      <th>RET</th>\n",
       "      <th>Date_a</th>\n",
       "      <th>RET_a</th>\n",
       "    </tr>\n",
       "  </thead>\n",
       "  <tbody>\n",
       "    <tr>\n",
       "      <th>0</th>\n",
       "      <td>10516</td>\n",
       "      <td>a</td>\n",
       "      <td>1/1/2000</td>\n",
       "      <td>1.01</td>\n",
       "      <td>1/1/2000</td>\n",
       "      <td>1.01</td>\n",
       "    </tr>\n",
       "    <tr>\n",
       "      <th>1</th>\n",
       "      <td>10516</td>\n",
       "      <td>a</td>\n",
       "      <td>1/2/2000</td>\n",
       "      <td>1.02</td>\n",
       "      <td>1/2/2000</td>\n",
       "      <td>1.02</td>\n",
       "    </tr>\n",
       "    <tr>\n",
       "      <th>2</th>\n",
       "      <td>10516</td>\n",
       "      <td>a</td>\n",
       "      <td>1/3/2000</td>\n",
       "      <td>1.03</td>\n",
       "      <td>1/3/2000</td>\n",
       "      <td>1.03</td>\n",
       "    </tr>\n",
       "    <tr>\n",
       "      <th>3</th>\n",
       "      <td>10516</td>\n",
       "      <td>a</td>\n",
       "      <td>1/4/2000</td>\n",
       "      <td>1.04</td>\n",
       "      <td>1/4/2000</td>\n",
       "      <td>1.04</td>\n",
       "    </tr>\n",
       "    <tr>\n",
       "      <th>4</th>\n",
       "      <td>10516</td>\n",
       "      <td>b</td>\n",
       "      <td>1/1/2000</td>\n",
       "      <td>1.05</td>\n",
       "      <td>1/1/2000</td>\n",
       "      <td>1.05</td>\n",
       "    </tr>\n",
       "    <tr>\n",
       "      <th>5</th>\n",
       "      <td>10516</td>\n",
       "      <td>b</td>\n",
       "      <td>1/2/2000</td>\n",
       "      <td>1.06</td>\n",
       "      <td>1/2/2000</td>\n",
       "      <td>1.06</td>\n",
       "    </tr>\n",
       "    <tr>\n",
       "      <th>6</th>\n",
       "      <td>10516</td>\n",
       "      <td>b</td>\n",
       "      <td>1/3/2000</td>\n",
       "      <td>1.07</td>\n",
       "      <td>1/3/2000</td>\n",
       "      <td>1.07</td>\n",
       "    </tr>\n",
       "    <tr>\n",
       "      <th>7</th>\n",
       "      <td>10516</td>\n",
       "      <td>b</td>\n",
       "      <td>1/4/2000</td>\n",
       "      <td>1.08</td>\n",
       "      <td>1/4/2000</td>\n",
       "      <td>1.08</td>\n",
       "    </tr>\n",
       "    <tr>\n",
       "      <th>8</th>\n",
       "      <td>10517</td>\n",
       "      <td>a</td>\n",
       "      <td>1/1/2000</td>\n",
       "      <td>1.09</td>\n",
       "      <td>1/1/2000</td>\n",
       "      <td>1.09</td>\n",
       "    </tr>\n",
       "    <tr>\n",
       "      <th>9</th>\n",
       "      <td>10517</td>\n",
       "      <td>a</td>\n",
       "      <td>1/2/2000</td>\n",
       "      <td>1.10</td>\n",
       "      <td>1/2/2000</td>\n",
       "      <td>1.10</td>\n",
       "    </tr>\n",
       "    <tr>\n",
       "      <th>10</th>\n",
       "      <td>10517</td>\n",
       "      <td>a</td>\n",
       "      <td>1/3/2000</td>\n",
       "      <td>1.11</td>\n",
       "      <td>1/3/2000</td>\n",
       "      <td>1.11</td>\n",
       "    </tr>\n",
       "    <tr>\n",
       "      <th>11</th>\n",
       "      <td>10517</td>\n",
       "      <td>a</td>\n",
       "      <td>1/4/2000</td>\n",
       "      <td>1.12</td>\n",
       "      <td>1/4/2000</td>\n",
       "      <td>1.12</td>\n",
       "    </tr>\n",
       "  </tbody>\n",
       "</table>\n",
       "</div>"
      ],
      "text/plain": [
       "    PERMNO byvar      Date   RET    Date_a  RET_a\n",
       "0    10516     a  1/1/2000  1.01  1/1/2000   1.01\n",
       "1    10516     a  1/2/2000  1.02  1/2/2000   1.02\n",
       "2    10516     a  1/3/2000  1.03  1/3/2000   1.03\n",
       "3    10516     a  1/4/2000  1.04  1/4/2000   1.04\n",
       "4    10516     b  1/1/2000  1.05  1/1/2000   1.05\n",
       "5    10516     b  1/2/2000  1.06  1/2/2000   1.06\n",
       "6    10516     b  1/3/2000  1.07  1/3/2000   1.07\n",
       "7    10516     b  1/4/2000  1.08  1/4/2000   1.08\n",
       "8    10517     a  1/1/2000  1.09  1/1/2000   1.09\n",
       "9    10517     a  1/2/2000  1.10  1/2/2000   1.10\n",
       "10   10517     a  1/3/2000  1.11  1/3/2000   1.11\n",
       "11   10517     a  1/4/2000  1.12  1/4/2000   1.12"
      ]
     },
     "execution_count": 22,
     "metadata": {},
     "output_type": "execute_result"
    }
   ],
   "source": [
    "pd.concat([df,a], axis=1)"
   ]
  },
  {
   "cell_type": "code",
   "execution_count": null,
   "metadata": {
    "collapsed": true
   },
   "outputs": [],
   "source": [
    "df_nan_byvar = pd.DataFrame(data = [\n",
    "                                ('a', 1),\n",
    "                                (nan, 2),\n",
    "                                ('b', 3),\n",
    "                                ('b', 4),\n",
    "                                ], columns = ['byvar', 'val'])"
   ]
  },
  {
   "cell_type": "code",
   "execution_count": 11,
   "metadata": {
    "collapsed": false
   },
   "outputs": [
    {
     "data": {
      "text/html": [
       "<div>\n",
       "<table border=\"1\" class=\"dataframe\">\n",
       "  <thead>\n",
       "    <tr style=\"text-align: right;\">\n",
       "      <th></th>\n",
       "      <th></th>\n",
       "      <th>RET</th>\n",
       "    </tr>\n",
       "    <tr>\n",
       "      <th>PERMNO</th>\n",
       "      <th>byvar</th>\n",
       "      <th></th>\n",
       "    </tr>\n",
       "  </thead>\n",
       "  <tbody>\n",
       "    <tr>\n",
       "      <th rowspan=\"2\" valign=\"top\">10516</th>\n",
       "      <th>a</th>\n",
       "      <td>4.10</td>\n",
       "    </tr>\n",
       "    <tr>\n",
       "      <th>b</th>\n",
       "      <td>4.26</td>\n",
       "    </tr>\n",
       "    <tr>\n",
       "      <th>10517</th>\n",
       "      <th>a</th>\n",
       "      <td>4.42</td>\n",
       "    </tr>\n",
       "  </tbody>\n",
       "</table>\n",
       "</div>"
      ],
      "text/plain": [
       "               RET\n",
       "PERMNO byvar      \n",
       "10516  a      4.10\n",
       "       b      4.26\n",
       "10517  a      4.42"
      ]
     },
     "execution_count": 11,
     "metadata": {},
     "output_type": "execute_result"
    }
   ],
   "source": [
    "df.groupby(['PERMNO','byvar']).sum()"
   ]
  },
  {
   "cell_type": "code",
   "execution_count": 14,
   "metadata": {
    "collapsed": true
   },
   "outputs": [],
   "source": [
    "df.sort_values?"
   ]
  },
  {
   "cell_type": "code",
   "execution_count": 15,
   "metadata": {
    "collapsed": false
   },
   "outputs": [],
   "source": [
    "from dero.pandas import groupby_merge\n",
    "\n",
    "\n",
    "a = groupby_index(df, ['PERMNO','byvar'], sortvars='Date')\n",
    "a['group_index'] += 1"
   ]
  },
  {
   "cell_type": "code",
   "execution_count": 24,
   "metadata": {
    "collapsed": false
   },
   "outputs": [
    {
     "ename": "NameError",
     "evalue": "name 'funcb' is not defined",
     "output_type": "error",
     "traceback": [
      "\u001b[1;31m---------------------------------------------------------------------------\u001b[0m",
      "\u001b[1;31mNameError\u001b[0m                                 Traceback (most recent call last)",
      "\u001b[1;32m<ipython-input-24-79c5632f83aa>\u001b[0m in \u001b[0;36m<module>\u001b[1;34m()\u001b[0m\n\u001b[0;32m      6\u001b[0m     \u001b[1;32mreturn\u001b[0m \u001b[0mfuncb\u001b[0m\u001b[1;33m(\u001b[0m\u001b[0ma\u001b[0m\u001b[1;33m)\u001b[0m \u001b[1;33m+\u001b[0m \u001b[1;36m1\u001b[0m\u001b[1;33m\u001b[0m\u001b[0m\n\u001b[0;32m      7\u001b[0m \u001b[1;33m\u001b[0m\u001b[0m\n\u001b[1;32m----> 8\u001b[1;33m \u001b[0mfuncb\u001b[0m\u001b[1;33m(\u001b[0m\u001b[1;36m1\u001b[0m\u001b[1;33m)\u001b[0m\u001b[1;33m\u001b[0m\u001b[0m\n\u001b[0m",
      "\u001b[1;31mNameError\u001b[0m: name 'funcb' is not defined"
     ]
    }
   ],
   "source": [
    "def funca(a):\n",
    "    \n",
    "    def funcb(b):\n",
    "        return b + 1\n",
    "    \n",
    "    return funcb(a) + 1\n",
    "\n",
    "funcb(1)"
   ]
  },
  {
   "cell_type": "code",
   "execution_count": 70,
   "metadata": {
    "collapsed": false
   },
   "outputs": [
    {
     "data": {
      "text/plain": [
       "[[0], [1], [2, 3]]"
      ]
     },
     "execution_count": 70,
     "metadata": {},
     "output_type": "execute_result"
    }
   ],
   "source": [
    "#need to add from itertools import chain\n",
    "\n",
    "def create_windows(periods, method='between', time=[1,3]):\n",
    "    if method.lower() == 'first':\n",
    "        windows = [[0]]\n",
    "        windows += [[i for i in range(1, len(periods))]]\n",
    "        return windows\n",
    "    elif method.lower() == 'between':\n",
    "        windows = [[0]]\n",
    "        t_bot = 0\n",
    "        for i, t in enumerate(time): #pick each element of time\n",
    "            if t == 0: continue #already added zero\n",
    "            windows.append([i for i in range(t_bot + 1, t + 1)])\n",
    "            t_bot = t\n",
    "        #The last window is all the leftover periods after finishing time\n",
    "        extra_windows = [[i for i, per in enumerate(periods) if i not in chain.from_iterable(windows)]]\n",
    "        if extra_windows != [[]]: #don't want to add empty window\n",
    "            windows += extra_windows\n",
    "        return windows\n",
    "    elif method.lower() == 'zero':\n",
    "        windows = []\n",
    "        windows.append(periods[:periods.index(0) + 1]) #add times before 0, as well as 0\n",
    "        windows.append([0]) #add 0\n",
    "        windows.append(periods[periods.index(0) + 1:]) #add times after 0\n",
    "        return windows\n",
    "    \n",
    "create_windows(['1/1/2000','1/2/2000','1/3/2000','1/4/2000'], method='between', time=[1,3])"
   ]
  },
  {
   "cell_type": "code",
   "execution_count": 136,
   "metadata": {
    "collapsed": false
   },
   "outputs": [
    {
     "data": {
      "text/plain": [
       "[0, 1, 2, 2]"
      ]
     },
     "execution_count": 136,
     "metadata": {},
     "output_type": "execute_result"
    }
   ],
   "source": [
    "def window_mapping(col):\n",
    "    windows = create_windows(col)\n",
    "    return [n for i in range(len(col.index)) for n, window in enumerate(windows) if i in window]\n",
    "\n",
    "b = pd.Series(['1/1/2000','1/2/2000','1/3/2000','1/4/2000'])\n",
    "window_mapping(b)"
   ]
  },
  {
   "cell_type": "code",
   "execution_count": 78,
   "metadata": {
    "collapsed": false
   },
   "outputs": [
    {
     "data": {
      "text/plain": [
       "0"
      ]
     },
     "execution_count": 78,
     "metadata": {},
     "output_type": "execute_result"
    }
   ],
   "source": [
    "[[0], [1], [2, 3]].index([0])"
   ]
  },
  {
   "cell_type": "code",
   "execution_count": 76,
   "metadata": {
    "collapsed": false
   },
   "outputs": [
    {
     "data": {
      "text/plain": [
       "[0, 1, 2]"
      ]
     },
     "execution_count": 76,
     "metadata": {},
     "output_type": "execute_result"
    }
   ],
   "source": [
    "\n"
   ]
  },
  {
   "cell_type": "code",
   "execution_count": 42,
   "metadata": {
    "collapsed": false
   },
   "outputs": [
    {
     "data": {
      "text/plain": [
       "[3]"
      ]
     },
     "execution_count": 42,
     "metadata": {},
     "output_type": "execute_result"
    }
   ],
   "source": [
    "periods = ['1/1/2000','1/2/2000','1/3/2000','1/4/2000']\n",
    "windows = [[0], [1, 2]]\n",
    "\n",
    "[i for i, per in enumerate(periods) if i not in chain.from_iterable(windows)]"
   ]
  },
  {
   "cell_type": "code",
   "execution_count": 36,
   "metadata": {
    "collapsed": false
   },
   "outputs": [
    {
     "name": "stdout",
     "output_type": "stream",
     "text": [
      "0\n"
     ]
    }
   ],
   "source": [
    "for i in range(1):\n",
    "    print(i)"
   ]
  },
  {
   "cell_type": "code",
   "execution_count": 32,
   "metadata": {
    "collapsed": false
   },
   "outputs": [
    {
     "data": {
      "text/plain": [
       "[0, 1, [2, 3, [4, 5, 6]]]"
      ]
     },
     "execution_count": 32,
     "metadata": {},
     "output_type": "execute_result"
    }
   ],
   "source": [
    "from itertools import chain\n",
    "list(chain.from_iterable([[0],[1,[2,3,[4,5,6]]]]))"
   ]
  },
  {
   "cell_type": "code",
   "execution_count": 21,
   "metadata": {
    "collapsed": false
   },
   "outputs": [
    {
     "data": {
      "text/plain": [
       "[(10516, 'a', '1/1/2000', 1.01, 1, 0),\n",
       " (10516, 'a', '1/2/2000', 1.02, 2, 1),\n",
       " (10516, 'a', '1/3/2000', 1.03, 3, 1),\n",
       " (10516, 'a', '1/4/2000', 1.04, 4, 2),\n",
       " (10516, 'b', '1/1/2000', 1.05, 1, 0),\n",
       " (10516, 'b', '1/2/2000', 1.0600000000000001, 2, 1),\n",
       " (10516, 'b', '1/3/2000', 1.0700000000000001, 3, 1),\n",
       " (10516, 'b', '1/4/2000', 1.0800000000000001, 4, 2),\n",
       " (10517, 'a', '1/1/2000', 1.0900000000000001, 1, 0),\n",
       " (10517, 'a', '1/2/2000', 1.1000000000000001, 2, 1),\n",
       " (10517, 'a', '1/3/2000', 1.1100000000000001, 3, 1),\n",
       " (10517, 'a', '1/4/2000', 1.1200000000000001, 4, 2)]"
      ]
     },
     "execution_count": 21,
     "metadata": {},
     "output_type": "execute_result"
    }
   ],
   "source": [
    "windows = [[1],[2,3],[4]]\n",
    "a['map'] = a['group_index'].apply(lambda x: [x in window for window in windows].index(True))\n",
    "list([tup[1:] for tup in a.itertuples(name=None)])"
   ]
  },
  {
   "cell_type": "code",
   "execution_count": 69,
   "metadata": {
    "collapsed": false
   },
   "outputs": [
    {
     "data": {
      "text/html": [
       "<div>\n",
       "<table border=\"1\" class=\"dataframe\">\n",
       "  <thead>\n",
       "    <tr style=\"text-align: right;\">\n",
       "      <th></th>\n",
       "      <th>PERMNO</th>\n",
       "      <th>byvar</th>\n",
       "      <th>Date</th>\n",
       "      <th>RET</th>\n",
       "      <th>group_index</th>\n",
       "      <th>map</th>\n",
       "    </tr>\n",
       "  </thead>\n",
       "  <tbody>\n",
       "    <tr>\n",
       "      <th>0</th>\n",
       "      <td>10516</td>\n",
       "      <td>a</td>\n",
       "      <td>1/1/2000</td>\n",
       "      <td>1.01</td>\n",
       "      <td>0</td>\n",
       "      <td>0</td>\n",
       "    </tr>\n",
       "    <tr>\n",
       "      <th>1</th>\n",
       "      <td>10516</td>\n",
       "      <td>a</td>\n",
       "      <td>1/2/2000</td>\n",
       "      <td>1.02</td>\n",
       "      <td>1</td>\n",
       "      <td>1</td>\n",
       "    </tr>\n",
       "    <tr>\n",
       "      <th>2</th>\n",
       "      <td>10516</td>\n",
       "      <td>a</td>\n",
       "      <td>1/3/2000</td>\n",
       "      <td>1.03</td>\n",
       "      <td>2</td>\n",
       "      <td>1</td>\n",
       "    </tr>\n",
       "    <tr>\n",
       "      <th>3</th>\n",
       "      <td>10516</td>\n",
       "      <td>a</td>\n",
       "      <td>1/4/2000</td>\n",
       "      <td>1.04</td>\n",
       "      <td>3</td>\n",
       "      <td>2</td>\n",
       "    </tr>\n",
       "    <tr>\n",
       "      <th>4</th>\n",
       "      <td>10516</td>\n",
       "      <td>b</td>\n",
       "      <td>1/1/2000</td>\n",
       "      <td>1.05</td>\n",
       "      <td>0</td>\n",
       "      <td>0</td>\n",
       "    </tr>\n",
       "    <tr>\n",
       "      <th>5</th>\n",
       "      <td>10516</td>\n",
       "      <td>b</td>\n",
       "      <td>1/2/2000</td>\n",
       "      <td>1.06</td>\n",
       "      <td>1</td>\n",
       "      <td>1</td>\n",
       "    </tr>\n",
       "    <tr>\n",
       "      <th>6</th>\n",
       "      <td>10516</td>\n",
       "      <td>b</td>\n",
       "      <td>1/3/2000</td>\n",
       "      <td>1.07</td>\n",
       "      <td>2</td>\n",
       "      <td>1</td>\n",
       "    </tr>\n",
       "    <tr>\n",
       "      <th>7</th>\n",
       "      <td>10516</td>\n",
       "      <td>b</td>\n",
       "      <td>1/4/2000</td>\n",
       "      <td>1.08</td>\n",
       "      <td>3</td>\n",
       "      <td>2</td>\n",
       "    </tr>\n",
       "    <tr>\n",
       "      <th>8</th>\n",
       "      <td>10517</td>\n",
       "      <td>a</td>\n",
       "      <td>1/1/2000</td>\n",
       "      <td>1.09</td>\n",
       "      <td>0</td>\n",
       "      <td>0</td>\n",
       "    </tr>\n",
       "    <tr>\n",
       "      <th>9</th>\n",
       "      <td>10517</td>\n",
       "      <td>a</td>\n",
       "      <td>1/2/2000</td>\n",
       "      <td>1.10</td>\n",
       "      <td>1</td>\n",
       "      <td>1</td>\n",
       "    </tr>\n",
       "    <tr>\n",
       "      <th>10</th>\n",
       "      <td>10517</td>\n",
       "      <td>a</td>\n",
       "      <td>1/3/2000</td>\n",
       "      <td>1.11</td>\n",
       "      <td>2</td>\n",
       "      <td>1</td>\n",
       "    </tr>\n",
       "    <tr>\n",
       "      <th>11</th>\n",
       "      <td>10517</td>\n",
       "      <td>a</td>\n",
       "      <td>1/4/2000</td>\n",
       "      <td>1.12</td>\n",
       "      <td>3</td>\n",
       "      <td>2</td>\n",
       "    </tr>\n",
       "  </tbody>\n",
       "</table>\n",
       "</div>"
      ],
      "text/plain": [
       "    PERMNO byvar      Date   RET  group_index  map\n",
       "0    10516     a  1/1/2000  1.01            0    0\n",
       "1    10516     a  1/2/2000  1.02            1    1\n",
       "2    10516     a  1/3/2000  1.03            2    1\n",
       "3    10516     a  1/4/2000  1.04            3    2\n",
       "4    10516     b  1/1/2000  1.05            0    0\n",
       "5    10516     b  1/2/2000  1.06            1    1\n",
       "6    10516     b  1/3/2000  1.07            2    1\n",
       "7    10516     b  1/4/2000  1.08            3    2\n",
       "8    10517     a  1/1/2000  1.09            0    0\n",
       "9    10517     a  1/2/2000  1.10            1    1\n",
       "10   10517     a  1/3/2000  1.11            2    1\n",
       "11   10517     a  1/4/2000  1.12            3    2"
      ]
     },
     "execution_count": 69,
     "metadata": {},
     "output_type": "execute_result"
    }
   ],
   "source": [
    "a['group_index'] -= 1\n",
    "a"
   ]
  },
  {
   "cell_type": "code",
   "execution_count": 99,
   "metadata": {
    "collapsed": false
   },
   "outputs": [
    {
     "data": {
      "text/plain": [
       "{(10516, 'a'): array([0, 1, 2, 3]),\n",
       " (10516, 'b'): array([4, 5, 6, 7]),\n",
       " (10517, 'a'): array([ 8,  9, 10, 11])}"
      ]
     },
     "execution_count": 99,
     "metadata": {},
     "output_type": "execute_result"
    }
   ],
   "source": [
    "a.groupby(['PERMNO','byvar']).indices"
   ]
  },
  {
   "cell_type": "code",
   "execution_count": 137,
   "metadata": {
    "collapsed": false
   },
   "outputs": [
    {
     "data": {
      "text/plain": [
       "0     0\n",
       "1     1\n",
       "2     2\n",
       "3     2\n",
       "4     0\n",
       "5     1\n",
       "6     2\n",
       "7     2\n",
       "8     0\n",
       "9     1\n",
       "10    2\n",
       "11    2\n",
       "Name: Date, dtype: object"
      ]
     },
     "execution_count": 137,
     "metadata": {},
     "output_type": "execute_result"
    }
   ],
   "source": [
    "a.groupby(['PERMNO','byvar'])['Date'].transform(window_mapping)"
   ]
  },
  {
   "cell_type": "code",
   "execution_count": null,
   "metadata": {
    "collapsed": true
   },
   "outputs": [],
   "source": []
  },
  {
   "cell_type": "code",
   "execution_count": 141,
   "metadata": {
    "collapsed": false
   },
   "outputs": [
    {
     "data": {
      "text/html": [
       "<div>\n",
       "<table border=\"1\" class=\"dataframe\">\n",
       "  <thead>\n",
       "    <tr style=\"text-align: right;\">\n",
       "      <th></th>\n",
       "      <th>PERMNO</th>\n",
       "      <th>byvar</th>\n",
       "      <th>Date</th>\n",
       "      <th>RET</th>\n",
       "      <th>Date_transform</th>\n",
       "    </tr>\n",
       "  </thead>\n",
       "  <tbody>\n",
       "    <tr>\n",
       "      <th>0</th>\n",
       "      <td>10516</td>\n",
       "      <td>a</td>\n",
       "      <td>1/1/2000</td>\n",
       "      <td>1.01</td>\n",
       "      <td>0</td>\n",
       "    </tr>\n",
       "    <tr>\n",
       "      <th>1</th>\n",
       "      <td>10516</td>\n",
       "      <td>a</td>\n",
       "      <td>1/2/2000</td>\n",
       "      <td>1.02</td>\n",
       "      <td>1</td>\n",
       "    </tr>\n",
       "    <tr>\n",
       "      <th>2</th>\n",
       "      <td>10516</td>\n",
       "      <td>a</td>\n",
       "      <td>1/3/2000</td>\n",
       "      <td>1.03</td>\n",
       "      <td>2</td>\n",
       "    </tr>\n",
       "    <tr>\n",
       "      <th>3</th>\n",
       "      <td>10516</td>\n",
       "      <td>a</td>\n",
       "      <td>1/4/2000</td>\n",
       "      <td>1.04</td>\n",
       "      <td>2</td>\n",
       "    </tr>\n",
       "    <tr>\n",
       "      <th>4</th>\n",
       "      <td>10516</td>\n",
       "      <td>b</td>\n",
       "      <td>1/1/2000</td>\n",
       "      <td>1.05</td>\n",
       "      <td>0</td>\n",
       "    </tr>\n",
       "    <tr>\n",
       "      <th>5</th>\n",
       "      <td>10516</td>\n",
       "      <td>b</td>\n",
       "      <td>1/2/2000</td>\n",
       "      <td>1.06</td>\n",
       "      <td>1</td>\n",
       "    </tr>\n",
       "    <tr>\n",
       "      <th>6</th>\n",
       "      <td>10516</td>\n",
       "      <td>b</td>\n",
       "      <td>1/3/2000</td>\n",
       "      <td>1.07</td>\n",
       "      <td>2</td>\n",
       "    </tr>\n",
       "    <tr>\n",
       "      <th>7</th>\n",
       "      <td>10516</td>\n",
       "      <td>b</td>\n",
       "      <td>1/4/2000</td>\n",
       "      <td>1.08</td>\n",
       "      <td>2</td>\n",
       "    </tr>\n",
       "    <tr>\n",
       "      <th>8</th>\n",
       "      <td>10517</td>\n",
       "      <td>a</td>\n",
       "      <td>1/1/2000</td>\n",
       "      <td>1.09</td>\n",
       "      <td>0</td>\n",
       "    </tr>\n",
       "    <tr>\n",
       "      <th>9</th>\n",
       "      <td>10517</td>\n",
       "      <td>a</td>\n",
       "      <td>1/2/2000</td>\n",
       "      <td>1.10</td>\n",
       "      <td>1</td>\n",
       "    </tr>\n",
       "    <tr>\n",
       "      <th>10</th>\n",
       "      <td>10517</td>\n",
       "      <td>a</td>\n",
       "      <td>1/3/2000</td>\n",
       "      <td>1.11</td>\n",
       "      <td>2</td>\n",
       "    </tr>\n",
       "    <tr>\n",
       "      <th>11</th>\n",
       "      <td>10517</td>\n",
       "      <td>a</td>\n",
       "      <td>1/4/2000</td>\n",
       "      <td>1.12</td>\n",
       "      <td>2</td>\n",
       "    </tr>\n",
       "  </tbody>\n",
       "</table>\n",
       "</div>"
      ],
      "text/plain": [
       "    PERMNO byvar      Date   RET  Date_transform\n",
       "0    10516     a  1/1/2000  1.01               0\n",
       "1    10516     a  1/2/2000  1.02               1\n",
       "2    10516     a  1/3/2000  1.03               2\n",
       "3    10516     a  1/4/2000  1.04               2\n",
       "4    10516     b  1/1/2000  1.05               0\n",
       "5    10516     b  1/2/2000  1.06               1\n",
       "6    10516     b  1/3/2000  1.07               2\n",
       "7    10516     b  1/4/2000  1.08               2\n",
       "8    10517     a  1/1/2000  1.09               0\n",
       "9    10517     a  1/2/2000  1.10               1\n",
       "10   10517     a  1/3/2000  1.11               2\n",
       "11   10517     a  1/4/2000  1.12               2"
      ]
     },
     "execution_count": 141,
     "metadata": {},
     "output_type": "execute_result"
    }
   ],
   "source": [
    "dero.pandas.groupby_merge(df, ['PERMNO','byvar'], 'transform', (window_mapping), subset='Date')"
   ]
  },
  {
   "cell_type": "code",
   "execution_count": 122,
   "metadata": {
    "collapsed": true
   },
   "outputs": [],
   "source": [
    "def print_col(col):\n",
    "    print('Type: ', type(col))\n",
    "    print('Col:\\n', col)\n",
    "    print('\\n\\n')\n",
    "    return col"
   ]
  },
  {
   "cell_type": "code",
   "execution_count": 117,
   "metadata": {
    "collapsed": false
   },
   "outputs": [
    {
     "data": {
      "text/html": [
       "<div>\n",
       "<table border=\"1\" class=\"dataframe\">\n",
       "  <thead>\n",
       "    <tr style=\"text-align: right;\">\n",
       "      <th></th>\n",
       "      <th>group</th>\n",
       "      <th>num1</th>\n",
       "      <th>num2</th>\n",
       "    </tr>\n",
       "  </thead>\n",
       "  <tbody>\n",
       "    <tr>\n",
       "      <th>0</th>\n",
       "      <td>a</td>\n",
       "      <td>1</td>\n",
       "      <td>2</td>\n",
       "    </tr>\n",
       "    <tr>\n",
       "      <th>1</th>\n",
       "      <td>a</td>\n",
       "      <td>2</td>\n",
       "      <td>3</td>\n",
       "    </tr>\n",
       "    <tr>\n",
       "      <th>2</th>\n",
       "      <td>b</td>\n",
       "      <td>3</td>\n",
       "      <td>2</td>\n",
       "    </tr>\n",
       "    <tr>\n",
       "      <th>3</th>\n",
       "      <td>b</td>\n",
       "      <td>2</td>\n",
       "      <td>4</td>\n",
       "    </tr>\n",
       "  </tbody>\n",
       "</table>\n",
       "</div>"
      ],
      "text/plain": [
       "  group  num1  num2\n",
       "0     a     1     2\n",
       "1     a     2     3\n",
       "2     b     3     2\n",
       "3     b     2     4"
      ]
     },
     "execution_count": 117,
     "metadata": {},
     "output_type": "execute_result"
    }
   ],
   "source": [
    "c"
   ]
  },
  {
   "cell_type": "code",
   "execution_count": 124,
   "metadata": {
    "collapsed": false
   },
   "outputs": [
    {
     "name": "stdout",
     "output_type": "stream",
     "text": [
      "Type:  <class 'pandas.core.series.Series'>\n",
      "Col:\n",
      " 0    1\n",
      "1    2\n",
      "Name: a, dtype: int64\n",
      "\n",
      "\n",
      "\n",
      "Type:  <class 'pandas.core.series.Series'>\n",
      "Col:\n",
      " 2    3\n",
      "3    2\n",
      "Name: b, dtype: int64\n",
      "\n",
      "\n",
      "\n"
     ]
    },
    {
     "data": {
      "text/plain": [
       "0    1\n",
       "1    2\n",
       "2    3\n",
       "3    2\n",
       "Name: num1, dtype: int64"
      ]
     },
     "execution_count": 124,
     "metadata": {},
     "output_type": "execute_result"
    }
   ],
   "source": [
    "c = pd.DataFrame([('a',1,2),('a',2,3),('b',3,2),('b',2,4)], columns=['group','num1','num2'])\n",
    "c.groupby('group')['num1'].transform(print_col)"
   ]
  },
  {
   "cell_type": "code",
   "execution_count": 128,
   "metadata": {
    "collapsed": false
   },
   "outputs": [
    {
     "name": "stdout",
     "output_type": "stream",
     "text": [
      "Type:  <class 'pandas.core.series.Series'>\n",
      "Col:\n",
      " 0    1/1/2000\n",
      "1    1/2/2000\n",
      "2    1/3/2000\n",
      "3    1/4/2000\n",
      "Name: (10516, a), dtype: object\n",
      "\n",
      "\n",
      "\n",
      "Type:  <class 'pandas.core.series.Series'>\n",
      "Col:\n",
      " 4    1/1/2000\n",
      "5    1/2/2000\n",
      "6    1/3/2000\n",
      "7    1/4/2000\n",
      "Name: (10516, b), dtype: object\n",
      "\n",
      "\n",
      "\n",
      "Type:  <class 'pandas.core.series.Series'>\n",
      "Col:\n",
      " 8     1/1/2000\n",
      "9     1/2/2000\n",
      "10    1/3/2000\n",
      "11    1/4/2000\n",
      "Name: (10517, a), dtype: object\n",
      "\n",
      "\n",
      "\n"
     ]
    },
    {
     "data": {
      "text/plain": [
       "0     1/1/2000\n",
       "1     1/2/2000\n",
       "2     1/3/2000\n",
       "3     1/4/2000\n",
       "4     1/1/2000\n",
       "5     1/2/2000\n",
       "6     1/3/2000\n",
       "7     1/4/2000\n",
       "8     1/1/2000\n",
       "9     1/2/2000\n",
       "10    1/3/2000\n",
       "11    1/4/2000\n",
       "Name: Date, dtype: object"
      ]
     },
     "execution_count": 128,
     "metadata": {},
     "output_type": "execute_result"
    }
   ],
   "source": [
    "a.groupby(['PERMNO','byvar'])['Date'].transform(print_col)"
   ]
  },
  {
   "cell_type": "code",
   "execution_count": 64,
   "metadata": {
    "collapsed": false
   },
   "outputs": [
    {
     "data": {
      "text/plain": [
       "0     [[0], [1], [2, 3], [4, 5, 6, 7]]\n",
       "1     [[0], [1], [2, 3], [4, 5, 6, 7]]\n",
       "2     [[0], [1], [2, 3], [4, 5, 6, 7]]\n",
       "3     [[0], [1], [2, 3], [4, 5, 6, 7]]\n",
       "4     [[0], [1], [2, 3], [4, 5, 6, 7]]\n",
       "5     [[0], [1], [2, 3], [4, 5, 6, 7]]\n",
       "6     [[0], [1], [2, 3], [4, 5, 6, 7]]\n",
       "7     [[0], [1], [2, 3], [4, 5, 6, 7]]\n",
       "8     [[0], [1], [2, 3], [4, 5, 6, 7]]\n",
       "9     [[0], [1], [2, 3], [4, 5, 6, 7]]\n",
       "10    [[0], [1], [2, 3], [4, 5, 6, 7]]\n",
       "11    [[0], [1], [2, 3], [4, 5, 6, 7]]\n",
       "Name: Date, dtype: object"
      ]
     },
     "execution_count": 64,
     "metadata": {},
     "output_type": "execute_result"
    }
   ],
   "source": [
    "a['Date'].apply(create_windows)"
   ]
  },
  {
   "cell_type": "code",
   "execution_count": 55,
   "metadata": {
    "collapsed": false
   },
   "outputs": [
    {
     "data": {
      "text/plain": [
       "[[0], [1, 2], [3]]"
      ]
     },
     "execution_count": 55,
     "metadata": {},
     "output_type": "execute_result"
    }
   ],
   "source": [
    "#need to add from itertools import chain\n",
    "\n",
    "def create_windows(periods, method, time):\n",
    "    if method.lower() == 'first':\n",
    "#             windows = [[periods[0]]]\n",
    "#             if len(time) == 2:\n",
    "#                 windows += [[periods[1]]]\n",
    "#             elif len(time) > 2:\n",
    "#                 windows += [periods[1:]]\n",
    "#             return windows\n",
    "        windows = [[0]]\n",
    "        windows += [[i for i in range(1, len(periods))]]\n",
    "        return windows\n",
    "    elif method.lower() == 'between':\n",
    "        windows = []\n",
    "        for i, t in enumerate(time): #pick each element of time\n",
    "            if i == 0:\n",
    "                windows.append([0]) #first window for between is always just first return alone\n",
    "                t_bot = 0\n",
    "            else:\n",
    "                windows.append([i for i in range(t_bot + 1, t + 1)])\n",
    "                t_bot = t\n",
    "        #The last window is all the leftover periods after finishing time\n",
    "        extra_windows = [[i for i, per in enumerate(periods) if i not in chain.from_iterable(windows)]]\n",
    "        if extra_windows != [[]]: #don't want to add empty window\n",
    "            windows += extra_windows\n",
    "        return windows\n",
    "    elif method.lower() == 'zero':\n",
    "        windows = []\n",
    "        windows.append(periods[:periods.index(0) + 1]) #add times before 0, as well as 0\n",
    "        windows.append([0]) #add 0\n",
    "        windows.append(periods[periods.index(0) + 1:]) #add times after 0\n",
    "        return windows\n",
    "    \n",
    "create_windows(['1/1/2000','1/2/2000','1/3/2000','1/4/2000'], method='between', time=[1,2])"
   ]
  },
  {
   "cell_type": "code",
   "execution_count": 3,
   "metadata": {
    "collapsed": true
   },
   "outputs": [],
   "source": [
    "dero.pandas.groupby_merge?"
   ]
  },
  {
   "cell_type": "code",
   "execution_count": 7,
   "metadata": {
    "collapsed": false
   },
   "outputs": [
    {
     "data": {
      "text/html": [
       "<div>\n",
       "<table border=\"1\" class=\"dataframe\">\n",
       "  <thead>\n",
       "    <tr style=\"text-align: right;\">\n",
       "      <th></th>\n",
       "      <th>PERMNO</th>\n",
       "      <th>byvar</th>\n",
       "      <th>Date</th>\n",
       "      <th>RET</th>\n",
       "      <th>RET_transform</th>\n",
       "    </tr>\n",
       "  </thead>\n",
       "  <tbody>\n",
       "    <tr>\n",
       "      <th>0</th>\n",
       "      <td>10516</td>\n",
       "      <td>a</td>\n",
       "      <td>1/1/2000</td>\n",
       "      <td>1.01</td>\n",
       "      <td>0</td>\n",
       "    </tr>\n",
       "    <tr>\n",
       "      <th>1</th>\n",
       "      <td>10516</td>\n",
       "      <td>a</td>\n",
       "      <td>1/2/2000</td>\n",
       "      <td>1.02</td>\n",
       "      <td>1</td>\n",
       "    </tr>\n",
       "    <tr>\n",
       "      <th>2</th>\n",
       "      <td>10516</td>\n",
       "      <td>a</td>\n",
       "      <td>1/3/2000</td>\n",
       "      <td>1.03</td>\n",
       "      <td>2</td>\n",
       "    </tr>\n",
       "    <tr>\n",
       "      <th>3</th>\n",
       "      <td>10516</td>\n",
       "      <td>a</td>\n",
       "      <td>1/4/2000</td>\n",
       "      <td>1.04</td>\n",
       "      <td>3</td>\n",
       "    </tr>\n",
       "    <tr>\n",
       "      <th>4</th>\n",
       "      <td>10516</td>\n",
       "      <td>b</td>\n",
       "      <td>1/1/2000</td>\n",
       "      <td>1.05</td>\n",
       "      <td>0</td>\n",
       "    </tr>\n",
       "    <tr>\n",
       "      <th>5</th>\n",
       "      <td>10516</td>\n",
       "      <td>b</td>\n",
       "      <td>1/2/2000</td>\n",
       "      <td>1.06</td>\n",
       "      <td>1</td>\n",
       "    </tr>\n",
       "    <tr>\n",
       "      <th>6</th>\n",
       "      <td>10516</td>\n",
       "      <td>b</td>\n",
       "      <td>1/3/2000</td>\n",
       "      <td>1.07</td>\n",
       "      <td>2</td>\n",
       "    </tr>\n",
       "    <tr>\n",
       "      <th>7</th>\n",
       "      <td>10516</td>\n",
       "      <td>b</td>\n",
       "      <td>1/4/2000</td>\n",
       "      <td>1.08</td>\n",
       "      <td>3</td>\n",
       "    </tr>\n",
       "    <tr>\n",
       "      <th>8</th>\n",
       "      <td>10517</td>\n",
       "      <td>a</td>\n",
       "      <td>1/1/2000</td>\n",
       "      <td>1.09</td>\n",
       "      <td>0</td>\n",
       "    </tr>\n",
       "    <tr>\n",
       "      <th>9</th>\n",
       "      <td>10517</td>\n",
       "      <td>a</td>\n",
       "      <td>1/2/2000</td>\n",
       "      <td>1.10</td>\n",
       "      <td>1</td>\n",
       "    </tr>\n",
       "    <tr>\n",
       "      <th>10</th>\n",
       "      <td>10517</td>\n",
       "      <td>a</td>\n",
       "      <td>1/3/2000</td>\n",
       "      <td>1.11</td>\n",
       "      <td>2</td>\n",
       "    </tr>\n",
       "    <tr>\n",
       "      <th>11</th>\n",
       "      <td>10517</td>\n",
       "      <td>a</td>\n",
       "      <td>1/4/2000</td>\n",
       "      <td>1.12</td>\n",
       "      <td>3</td>\n",
       "    </tr>\n",
       "  </tbody>\n",
       "</table>\n",
       "</div>"
      ],
      "text/plain": [
       "    PERMNO byvar      Date   RET  RET_transform\n",
       "0    10516     a  1/1/2000  1.01              0\n",
       "1    10516     a  1/2/2000  1.02              1\n",
       "2    10516     a  1/3/2000  1.03              2\n",
       "3    10516     a  1/4/2000  1.04              3\n",
       "4    10516     b  1/1/2000  1.05              0\n",
       "5    10516     b  1/2/2000  1.06              1\n",
       "6    10516     b  1/3/2000  1.07              2\n",
       "7    10516     b  1/4/2000  1.08              3\n",
       "8    10517     a  1/1/2000  1.09              0\n",
       "9    10517     a  1/2/2000  1.10              1\n",
       "10   10517     a  1/3/2000  1.11              2\n",
       "11   10517     a  1/4/2000  1.12              3"
      ]
     },
     "execution_count": 7,
     "metadata": {},
     "output_type": "execute_result"
    }
   ],
   "source": [
    "dero.pandas.groupby_merge(df, ['PERMNO', 'byvar'], 'transform', (lambda x: [i for i in range(len(x))]), subset=['RET'])"
   ]
  },
  {
   "cell_type": "code",
   "execution_count": 41,
   "metadata": {
    "collapsed": false
   },
   "outputs": [
    {
     "data": {
      "text/html": [
       "<div>\n",
       "<table border=\"1\" class=\"dataframe\">\n",
       "  <thead>\n",
       "    <tr style=\"text-align: right;\">\n",
       "      <th></th>\n",
       "      <th>Date</th>\n",
       "      <th>RET</th>\n",
       "    </tr>\n",
       "  </thead>\n",
       "  <tbody>\n",
       "    <tr>\n",
       "      <th>0</th>\n",
       "      <td>0</td>\n",
       "      <td>0</td>\n",
       "    </tr>\n",
       "    <tr>\n",
       "      <th>1</th>\n",
       "      <td>1</td>\n",
       "      <td>1</td>\n",
       "    </tr>\n",
       "    <tr>\n",
       "      <th>2</th>\n",
       "      <td>2</td>\n",
       "      <td>2</td>\n",
       "    </tr>\n",
       "    <tr>\n",
       "      <th>3</th>\n",
       "      <td>3</td>\n",
       "      <td>3</td>\n",
       "    </tr>\n",
       "    <tr>\n",
       "      <th>4</th>\n",
       "      <td>0</td>\n",
       "      <td>0</td>\n",
       "    </tr>\n",
       "    <tr>\n",
       "      <th>5</th>\n",
       "      <td>1</td>\n",
       "      <td>1</td>\n",
       "    </tr>\n",
       "    <tr>\n",
       "      <th>6</th>\n",
       "      <td>2</td>\n",
       "      <td>2</td>\n",
       "    </tr>\n",
       "    <tr>\n",
       "      <th>7</th>\n",
       "      <td>3</td>\n",
       "      <td>3</td>\n",
       "    </tr>\n",
       "    <tr>\n",
       "      <th>8</th>\n",
       "      <td>0</td>\n",
       "      <td>0</td>\n",
       "    </tr>\n",
       "    <tr>\n",
       "      <th>9</th>\n",
       "      <td>1</td>\n",
       "      <td>1</td>\n",
       "    </tr>\n",
       "    <tr>\n",
       "      <th>10</th>\n",
       "      <td>2</td>\n",
       "      <td>2</td>\n",
       "    </tr>\n",
       "    <tr>\n",
       "      <th>11</th>\n",
       "      <td>3</td>\n",
       "      <td>3</td>\n",
       "    </tr>\n",
       "  </tbody>\n",
       "</table>\n",
       "</div>"
      ],
      "text/plain": [
       "    Date  RET\n",
       "0      0    0\n",
       "1      1    1\n",
       "2      2    2\n",
       "3      3    3\n",
       "4      0    0\n",
       "5      1    1\n",
       "6      2    2\n",
       "7      3    3\n",
       "8      0    0\n",
       "9      1    1\n",
       "10     2    2\n",
       "11     3    3"
      ]
     },
     "execution_count": 41,
     "metadata": {},
     "output_type": "execute_result"
    }
   ],
   "source": [
    "df.groupby(['PERMNO','byvar']).transform(lambda x: [i for i in range(len(x))])"
   ]
  },
  {
   "cell_type": "code",
   "execution_count": 27,
   "metadata": {
    "collapsed": false
   },
   "outputs": [
    {
     "data": {
      "text/plain": [
       "{(10516, 'a'): [0, 1, 2, 3],\n",
       " (10516, 'b'): [0, 1, 2, 3],\n",
       " (10517, 'a'): [0, 1, 2, 3]}"
      ]
     },
     "execution_count": 27,
     "metadata": {},
     "output_type": "execute_result"
    }
   ],
   "source": [
    "windows = [[1],[2,3]]\n",
    "\n",
    "for key in test:\n",
    "    by_group_index = [i for i in range(len(test[key]))]\n",
    "    \n",
    "    \n",
    "test"
   ]
  },
  {
   "cell_type": "code",
   "execution_count": 20,
   "metadata": {
    "collapsed": false
   },
   "outputs": [
    {
     "data": {
      "text/html": [
       "<div>\n",
       "<table border=\"1\" class=\"dataframe\">\n",
       "  <thead>\n",
       "    <tr style=\"text-align: right;\">\n",
       "      <th></th>\n",
       "      <th>0</th>\n",
       "      <th>1</th>\n",
       "      <th>2</th>\n",
       "      <th>3</th>\n",
       "    </tr>\n",
       "  </thead>\n",
       "  <tbody>\n",
       "    <tr>\n",
       "      <th>(10516, b)</th>\n",
       "      <td>0</td>\n",
       "      <td>1</td>\n",
       "      <td>2</td>\n",
       "      <td>3</td>\n",
       "    </tr>\n",
       "    <tr>\n",
       "      <th>(10517, a)</th>\n",
       "      <td>0</td>\n",
       "      <td>1</td>\n",
       "      <td>2</td>\n",
       "      <td>3</td>\n",
       "    </tr>\n",
       "    <tr>\n",
       "      <th>(10516, a)</th>\n",
       "      <td>0</td>\n",
       "      <td>1</td>\n",
       "      <td>2</td>\n",
       "      <td>3</td>\n",
       "    </tr>\n",
       "  </tbody>\n",
       "</table>\n",
       "</div>"
      ],
      "text/plain": [
       "            0  1  2  3\n",
       "(10516, b)  0  1  2  3\n",
       "(10517, a)  0  1  2  3\n",
       "(10516, a)  0  1  2  3"
      ]
     },
     "execution_count": 20,
     "metadata": {},
     "output_type": "execute_result"
    }
   ],
   "source": [
    "pd.DataFrame.from_dict(test, orient='index')"
   ]
  },
  {
   "cell_type": "code",
   "execution_count": 21,
   "metadata": {
    "collapsed": false
   },
   "outputs": [
    {
     "data": {
      "text/html": [
       "<div>\n",
       "<table border=\"1\" class=\"dataframe\">\n",
       "  <thead>\n",
       "    <tr style=\"text-align: right;\">\n",
       "      <th></th>\n",
       "      <th>PERMNO</th>\n",
       "      <th>byvar</th>\n",
       "      <th>Date</th>\n",
       "      <th>RET</th>\n",
       "    </tr>\n",
       "  </thead>\n",
       "  <tbody>\n",
       "    <tr>\n",
       "      <th>0</th>\n",
       "      <td>10516</td>\n",
       "      <td>a</td>\n",
       "      <td>1/1/2000</td>\n",
       "      <td>1.01</td>\n",
       "    </tr>\n",
       "    <tr>\n",
       "      <th>1</th>\n",
       "      <td>10516</td>\n",
       "      <td>a</td>\n",
       "      <td>1/2/2000</td>\n",
       "      <td>1.02</td>\n",
       "    </tr>\n",
       "    <tr>\n",
       "      <th>2</th>\n",
       "      <td>10516</td>\n",
       "      <td>a</td>\n",
       "      <td>1/3/2000</td>\n",
       "      <td>1.03</td>\n",
       "    </tr>\n",
       "    <tr>\n",
       "      <th>3</th>\n",
       "      <td>10516</td>\n",
       "      <td>a</td>\n",
       "      <td>1/4/2000</td>\n",
       "      <td>1.04</td>\n",
       "    </tr>\n",
       "    <tr>\n",
       "      <th>4</th>\n",
       "      <td>10516</td>\n",
       "      <td>b</td>\n",
       "      <td>1/1/2000</td>\n",
       "      <td>1.05</td>\n",
       "    </tr>\n",
       "    <tr>\n",
       "      <th>5</th>\n",
       "      <td>10516</td>\n",
       "      <td>b</td>\n",
       "      <td>1/2/2000</td>\n",
       "      <td>1.06</td>\n",
       "    </tr>\n",
       "    <tr>\n",
       "      <th>6</th>\n",
       "      <td>10516</td>\n",
       "      <td>b</td>\n",
       "      <td>1/3/2000</td>\n",
       "      <td>1.07</td>\n",
       "    </tr>\n",
       "    <tr>\n",
       "      <th>7</th>\n",
       "      <td>10516</td>\n",
       "      <td>b</td>\n",
       "      <td>1/4/2000</td>\n",
       "      <td>1.08</td>\n",
       "    </tr>\n",
       "    <tr>\n",
       "      <th>8</th>\n",
       "      <td>10517</td>\n",
       "      <td>a</td>\n",
       "      <td>1/1/2000</td>\n",
       "      <td>1.09</td>\n",
       "    </tr>\n",
       "    <tr>\n",
       "      <th>9</th>\n",
       "      <td>10517</td>\n",
       "      <td>a</td>\n",
       "      <td>1/2/2000</td>\n",
       "      <td>1.10</td>\n",
       "    </tr>\n",
       "    <tr>\n",
       "      <th>10</th>\n",
       "      <td>10517</td>\n",
       "      <td>a</td>\n",
       "      <td>1/3/2000</td>\n",
       "      <td>1.11</td>\n",
       "    </tr>\n",
       "    <tr>\n",
       "      <th>11</th>\n",
       "      <td>10517</td>\n",
       "      <td>a</td>\n",
       "      <td>1/4/2000</td>\n",
       "      <td>1.12</td>\n",
       "    </tr>\n",
       "  </tbody>\n",
       "</table>\n",
       "</div>"
      ],
      "text/plain": [
       "    PERMNO byvar      Date   RET\n",
       "0    10516     a  1/1/2000  1.01\n",
       "1    10516     a  1/2/2000  1.02\n",
       "2    10516     a  1/3/2000  1.03\n",
       "3    10516     a  1/4/2000  1.04\n",
       "4    10516     b  1/1/2000  1.05\n",
       "5    10516     b  1/2/2000  1.06\n",
       "6    10516     b  1/3/2000  1.07\n",
       "7    10516     b  1/4/2000  1.08\n",
       "8    10517     a  1/1/2000  1.09\n",
       "9    10517     a  1/2/2000  1.10\n",
       "10   10517     a  1/3/2000  1.11\n",
       "11   10517     a  1/4/2000  1.12"
      ]
     },
     "execution_count": 21,
     "metadata": {},
     "output_type": "execute_result"
    }
   ],
   "source": [
    "df"
   ]
  },
  {
   "cell_type": "code",
   "execution_count": 36,
   "metadata": {
    "collapsed": false
   },
   "outputs": [
    {
     "data": {
      "text/plain": [
       "0     10516_a\n",
       "1     10516_a\n",
       "2     10516_a\n",
       "3     10516_a\n",
       "4     10516_b\n",
       "5     10516_b\n",
       "6     10516_b\n",
       "7     10516_b\n",
       "8     10517_a\n",
       "9     10517_a\n",
       "10    10517_a\n",
       "11    10517_a\n",
       "dtype: object"
      ]
     },
     "execution_count": 36,
     "metadata": {},
     "output_type": "execute_result"
    }
   ],
   "source": [
    "ks = df[['PERMNO', 'byvar']].apply(lambda x: '_'.join(x.astype(str)), axis=1)\n",
    "ks"
   ]
  },
  {
   "cell_type": "code",
   "execution_count": null,
   "metadata": {
    "collapsed": true
   },
   "outputs": [],
   "source": [
    "def index_by_group(df, byvars, sortvar=None):\n",
    "    \"\"\"\n",
    "    Sorts the dataframe by byvars, then sortvar, then produces a column which contains the integer index\n",
    "    for each row in each group. Each time a new group is started, the value is zero.\n",
    "    \"\"\"\n",
    "    key_series = df[byvars].apply(lambda x: '_'.join(x.astype(str)), axis=1)\n",
    "    \n",
    "    \n",
    "    ###OLD CODE from split\n",
    "    df = df.sort_values(['key', periodvar])\n",
    "    small_df = df[['key'] + cumvars]\n",
    "    arr = small_df.values\n",
    "    splits = []\n",
    "    for i in range(arr.shape[0]):\n",
    "        if i == 0: continue\n",
    "        if arr[i,0] != arr[i-1,0]: #different key\n",
    "            splits.append(i)\n",
    "    return np.split(arr[:,1:], splits)"
   ]
  }
 ],
 "metadata": {
  "kernelspec": {
   "display_name": "Python35",
   "language": "python",
   "name": "python35"
  },
  "language_info": {
   "codemirror_mode": {
    "name": "ipython",
    "version": 3
   },
   "file_extension": ".py",
   "mimetype": "text/x-python",
   "name": "python",
   "nbconvert_exporter": "python",
   "pygments_lexer": "ipython3",
   "version": "3.5.1"
  }
 },
 "nbformat": 4,
 "nbformat_minor": 0
}
