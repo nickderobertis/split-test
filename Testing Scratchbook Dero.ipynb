{
 "cells": [
  {
   "cell_type": "code",
   "execution_count": 1,
   "metadata": {
    "collapsed": false
   },
   "outputs": [],
   "source": [
    "import dero\n",
    "import pandas as pd"
   ]
  },
  {
   "cell_type": "code",
   "execution_count": 22,
   "metadata": {
    "collapsed": false
   },
   "outputs": [],
   "source": [
    "df = pd.DataFrame([\n",
    "                                (10516, 'a', '1/1/2000', 1.01),\n",
    "                                (10516, 'a', '1/2/2000', 1.02),\n",
    "                                (10516, 'a', '1/3/2000', 1.03),\n",
    "                                (10516, 'a', '1/4/2000', 1.04),\n",
    "                                (10516, 'b', '1/1/2000', 1.05),\n",
    "                                (10516, 'b', '1/2/2000', 1.06),\n",
    "                                (10516, 'b', '1/3/2000', 1.07),\n",
    "                                (10516, 'b', '1/4/2000', 1.08),\n",
    "                                (10517, 'a', '1/1/2000', 1.09),\n",
    "                                (10517, 'a', '1/2/2000', 1.10),\n",
    "                                (10517, 'a', '1/3/2000', 1.11),\n",
    "                                (10517, 'a', '1/4/2000', 1.12),\n",
    "                               ], columns = ['PERMNO','byvar','Date', 'RET'])\n",
    "\n",
    "df_datetime = df.copy()\n",
    "df_datetime['Date'] = pd.to_datetime(df_datetime['Date'])"
   ]
  },
  {
   "cell_type": "code",
   "execution_count": 3,
   "metadata": {
    "collapsed": false
   },
   "outputs": [],
   "source": [
    "df_extra = pd.DataFrame([\n",
    "                                (10516, 'a', '1/1/2000', 1.01),\n",
    "                                (10516, 'a', '1/2/2000', 1.02),\n",
    "                                (10516, 'a', '1/2/2000', 1.02),\n",
    "                                (10516, 'a', '1/3/2000', 1.03),\n",
    "                                (10516, 'a', '1/4/2000', 1.04),\n",
    "                                (10516, 'b', '1/1/2000', 1.05),\n",
    "                                (10516, 'b', '1/2/2000', 1.06),\n",
    "                                (10516, 'b', '1/3/2000', 1.07),\n",
    "                                (10516, 'b', '1/4/2000', 1.08),\n",
    "                                (10517, 'a', '1/1/2000', 1.09),\n",
    "                                (10517, 'a', '1/2/2000', 1.10),\n",
    "                                (10517, 'a', '1/3/2000', 1.11),\n",
    "                                (10517, 'a', '1/4/2000', 1.12),\n",
    "                               ], columns = ['PERMNO','byvar','Date', 'RET'])"
   ]
  },
  {
   "cell_type": "code",
   "execution_count": 289,
   "metadata": {
    "collapsed": true
   },
   "outputs": [],
   "source": [
    "df_weight = pd.DataFrame(data = [\n",
    "        (10516, 'a', '1/1/2000', 1.01, 0),\n",
    "        (10516, 'a', '1/2/2000', 1.02, 1),\n",
    "        (10516, 'a', '1/3/2000', 1.03, 1),\n",
    "        (10516, 'a', '1/4/2000', 1.04, 0),\n",
    "        (10516, 'b', '1/1/2000', 1.05, 1),\n",
    "        (10516, 'b', '1/2/2000', 1.06, 1),\n",
    "        (10516, 'b', '1/3/2000', 1.07, 1),\n",
    "        (10516, 'b', '1/4/2000', 1.08, 1),\n",
    "        (10517, 'a', '1/1/2000', 1.09, 0),\n",
    "        (10517, 'a', '1/2/2000', 1.1, 0),\n",
    "        (10517, 'a', '1/3/2000', 1.11, 0),\n",
    "        (10517, 'a', '1/4/2000', 1.12, 1),\n",
    "        ], columns = ['PERMNO', 'byvar', 'Date', 'RET', 'weight'])"
   ]
  },
  {
   "cell_type": "code",
   "execution_count": 2,
   "metadata": {
    "collapsed": false
   },
   "outputs": [],
   "source": [
    "from pandas import Timestamp\n",
    "ticker_df = pd.DataFrame(data = [\n",
    "        ('a', Timestamp('2000-01-01 00:00:00'), 'ADM'),\n",
    "        ('a', Timestamp('2000-01-02 00:00:00'), 'ADM'),\n",
    "        ('a', Timestamp('2000-01-03 00:00:00'), 'ADM'),\n",
    "        ('a', Timestamp('2000-01-04 00:00:00'), 'ADM'),\n",
    "        ('b', Timestamp('2000-01-01 00:00:00'), 'ADM'),\n",
    "        ('b', Timestamp('2000-01-02 00:00:00'), 'ADM'),\n",
    "        ('b', Timestamp('2000-01-03 00:00:00'), 'ADM'),\n",
    "        ('b', Timestamp('2000-01-04 00:00:00'), 'ADM'),\n",
    "        ('a', Timestamp('2008-01-01 00:00:00'), 'AAN'),\n",
    "        ('a', Timestamp('2009-01-02 00:00:00'), 'AAN'),\n",
    "        ('a', Timestamp('2010-01-03 00:00:00'), 'AAN'),\n",
    "        ('a', Timestamp('2011-01-04 00:00:00'), 'AAN'),\n",
    "        ], columns = ['byvar', 'Date', 'TICKER'])"
   ]
  },
  {
   "cell_type": "code",
   "execution_count": 5,
   "metadata": {
    "collapsed": false
   },
   "outputs": [],
   "source": [
    "from pandas import Timestamp\n",
    "ticker_exchange_df = pd.DataFrame(data = [\n",
    "        ('a', Timestamp('2000-01-01 00:00:00'), 'ADM'),\n",
    "        ('a', Timestamp('2000-01-02 00:00:00'), 'ADM'),\n",
    "        ('a', Timestamp('2000-01-03 00:00:00'), 'ADM'),\n",
    "        ('a', Timestamp('2000-01-04 00:00:00'), 'ADM'),\n",
    "        ('b', Timestamp('2000-01-01 00:00:00'), 'ADM'),\n",
    "        ('b', Timestamp('2000-01-02 00:00:00'), 'ADM'),\n",
    "        ('b', Timestamp('2000-01-03 00:00:00'), 'ADM'),\n",
    "        ('b', Timestamp('2000-01-04 00:00:00'), 'ADM'),\n",
    "        ('a', Timestamp('2008-01-01 00:00:00'), 'AAN'),\n",
    "        ('a', Timestamp('2009-01-02 00:00:00'), 'AAN'),\n",
    "        ('a', Timestamp('2010-01-03 00:00:00'), 'AAN'),\n",
    "        ('a', Timestamp('2011-01-04 00:00:00'), 'AAN'),\n",
    "        ], columns = ['byvar', 'Date', 'TICKER'])"
   ]
  },
  {
   "cell_type": "code",
   "execution_count": 6,
   "metadata": {
    "collapsed": false
   },
   "outputs": [],
   "source": [
    "from pandas import Timestamp\n",
    "single_ticker_df = pd.DataFrame(data = [\n",
    "        ('a', Timestamp('2000-01-01 00:00:00'), 'ADM'),\n",
    "        ], columns = ['byvar', 'Date', 'TICKER'])"
   ]
  },
  {
   "cell_type": "code",
   "execution_count": 10,
   "metadata": {
    "collapsed": false
   },
   "outputs": [],
   "source": [
    "from numpy import nan\n",
    "permno_df_with_nan = pd.DataFrame(data = [\n",
    "        ('a', Timestamp('2000-01-01 00:00:00'), 10516.0),\n",
    "        ('a', Timestamp('2000-01-02 00:00:00'), 10516.0),\n",
    "        ('a', Timestamp('2000-01-03 00:00:00'), 10516.0),\n",
    "        ('a', Timestamp('2000-01-04 00:00:00'), 10516.0),\n",
    "        ('b', Timestamp('2000-01-01 00:00:00'), 10516.0),\n",
    "        ('b', Timestamp('2000-01-02 00:00:00'), 10516.0),\n",
    "        ('b', Timestamp('2000-01-03 00:00:00'), 10516.0),\n",
    "        ('b', Timestamp('2000-01-04 00:00:00'), 10516.0),\n",
    "        ('a', Timestamp('2008-01-01 00:00:00'), nan),\n",
    "        ('a', Timestamp('2009-01-02 00:00:00'), nan),\n",
    "        ('a', Timestamp('2010-01-03 00:00:00'), 78049.0),\n",
    "        ('a', Timestamp('2011-01-04 00:00:00'), 10517.0),\n",
    "        ], columns = ['byvar', 'Date', 'PERMNO'])"
   ]
  },
  {
   "cell_type": "code",
   "execution_count": null,
   "metadata": {
    "collapsed": true
   },
   "outputs": [],
   "source": [
    "from pandas import Timestamp\n",
    "df_ticker_extra_cols_year_month = pd.DataFrame(data = [\n",
    "        ('a', Timestamp('2000-01-01 00:00:00'), 'ADM', 1.01, 2000, 1),\n",
    "        ('a', Timestamp('2000-01-02 00:00:00'), 'ADM', 1.02, 2000, 1),\n",
    "        ('a', Timestamp('2000-01-03 00:00:00'), 'ADM', 1.03, 2000, 1),\n",
    "        ('a', Timestamp('2000-01-04 00:00:00'), 'ADM', 1.04, 2000, 1),\n",
    "        ('b', Timestamp('2000-01-01 00:00:00'), 'ADM', 1.05, 2000, 1),\n",
    "        ('b', Timestamp('2000-01-02 00:00:00'), 'ADM', 1.06, 2000, 1),\n",
    "        ('b', Timestamp('2000-01-03 00:00:00'), 'ADM', 1.07, 2000, 1),\n",
    "        ('b', Timestamp('2000-01-04 00:00:00'), 'ADM', 1.08, 2000, 1),\n",
    "        ('a', Timestamp('2008-01-01 00:00:00'), 'AAN', 1.09, 2008, 1),\n",
    "        ('a', Timestamp('2009-01-02 00:00:00'), 'AAN', 1.1, 2009, 1),\n",
    "        ('a', Timestamp('2010-01-03 00:00:00'), 'AAN', 1.11, 2010, 1),\n",
    "        ('a', Timestamp('2011-01-04 00:00:00'), 'AAN', 1.12, 2011, 1),\n",
    "        ], columns = ['byvar', 'Date', 'TICKER', 'other', 'Year', 'Month'])"
   ]
  },
  {
   "cell_type": "code",
   "execution_count": 3,
   "metadata": {
    "collapsed": false
   },
   "outputs": [],
   "source": [
    "from numpy import nan\n",
    "df_nan_byvar = pd.DataFrame(data = [\n",
    "                                ('a', 1),\n",
    "                                (nan, 2),\n",
    "                                ('b', 3),\n",
    "                                ('b', 4),\n",
    "                                ], columns = ['byvar', 'val'])"
   ]
  },
  {
   "cell_type": "code",
   "execution_count": 2,
   "metadata": {
    "collapsed": false
   },
   "outputs": [],
   "source": [
    "from numpy import nan\n",
    "df_nan_byvar_and_val = pd.DataFrame(data = [\n",
    "                                ('a', 1),\n",
    "                                (nan, 2),\n",
    "                                ('b', nan),\n",
    "                                ('b', 4),\n",
    "                                ], columns = ['byvar', 'val'])"
   ]
  },
  {
   "cell_type": "code",
   "execution_count": 2,
   "metadata": {
    "collapsed": false
   },
   "outputs": [],
   "source": [
    "from numpy import nan\n",
    "df_nan_byvar_and_val_nonstandard_index = pd.DataFrame(data = [\n",
    "                                ('a', 1),\n",
    "                                (nan, 2),\n",
    "                                ('b', nan),\n",
    "                                ('b', 4),\n",
    "                                ], columns = ['byvar', 'val'],\n",
    "                                index=[5,6,7,8])"
   ]
  },
  {
   "cell_type": "code",
   "execution_count": 7,
   "metadata": {
    "collapsed": true
   },
   "outputs": [],
   "source": [
    "import pandas as pd\n",
    "df_sasdate = pd.DataFrame(data = [\n",
    "                    ('011508', 16114.0),\n",
    "                    ('011509', 16114.0),\n",
    "                    ('011508', 16482.0),\n",
    "                    ('011508', 17178.0),\n",
    "                    ('011509', 17178.0),\n",
    "                    ('011508', 17197.0),\n",
    "                    ('011508', 17212.0),\n",
    "                    ], columns = ['gvkey', 'datadate'])\n",
    "\n",
    "df_sasdate_nan = pd.DataFrame(data = [\n",
    "                    ('011508', 16114.0),\n",
    "                    ('011508', 16482.0),\n",
    "                    ('011508', 17178.0),\n",
    "                    ('011508', 17197.0),\n",
    "                    ('011508', nan),\n",
    "                    ('011508', 17212.0),\n",
    "                    ], columns = ['gvkey', 'datadate'])"
   ]
  },
  {
   "cell_type": "code",
   "execution_count": 3,
   "metadata": {
    "collapsed": false
   },
   "outputs": [],
   "source": [
    "df_period_str = pd.DataFrame([\n",
    "                                (10516, '1/1/2000', 1.01),\n",
    "                                (10516, '1/2/2000', 1.02),\n",
    "                                (10516, '1/3/2000', 1.03),\n",
    "                                (10516, '1/4/2000', 1.04),\n",
    "                                (10516, '1/5/2000', 1.05),\n",
    "                                (10516, '1/6/2000', 1.06),\n",
    "                                (10516, '1/7/2000', 1.07),\n",
    "                                (10516, '1/8/2000', 1.08),\n",
    "                                (10517, '1/1/2000', 1.09),\n",
    "                                (10517, '1/2/2000', 1.10),\n",
    "                                (10517, '1/3/2000', 1.11),\n",
    "                                (10517, '1/4/2000', 1.12),\n",
    "                                (10517, '1/5/2000', 1.05),\n",
    "                                (10517, '1/6/2000', 1.06),\n",
    "                                (10517, '1/7/2000', 1.07),\n",
    "                                (10517, '1/8/2000', 1.08),\n",
    "                               ], columns = ['PERMNO','Date', 'RET'])\n",
    "\n",
    "df_period = df_period_str.copy()\n",
    "df_period['Date'] = pd.to_datetime(df_period['Date'])"
   ]
  },
  {
   "cell_type": "code",
   "execution_count": 1,
   "metadata": {
    "collapsed": false
   },
   "outputs": [],
   "source": [
    "import dero\n",
    "import pandas as pd\n",
    "from numpy import nan\n",
    "\n",
    "df_gvkey_str = pd.DataFrame([\n",
    "    ('001076','3/1/1995'),\n",
    "    ('001076','4/1/1995'),\n",
    "    ('001722','1/1/2012'),\n",
    "    ('001722','7/1/2012'),\n",
    "    ('001722', nan),\n",
    "    (nan ,'1/1/2012')\n",
    "], columns=['GVKEY','Date'])\n",
    "\n",
    "df_gvkey_str['Date'] = pd.to_datetime(df_gvkey_str['Date'])\n",
    "df_gvkey_num = df_gvkey_str.copy()\n",
    "df_gvkey_num['GVKEY'] = df_gvkey_num['GVKEY'].astype('float64')\n",
    "\n",
    "df_gvkey_str2 = pd.DataFrame([\n",
    "    ('001076','2/1/1995'),\n",
    "    ('001076','3/2/1995'),\n",
    "    ('001722','11/1/2011'),\n",
    "    ('001722','10/1/2011'),\n",
    "    ('001722', nan),\n",
    "    (nan ,'1/1/2012')\n",
    "], columns=['GVKEY','Date'])\n",
    "df_gvkey_str2['Date'] = pd.to_datetime(df_gvkey_str2['Date'])"
   ]
  },
  {
   "cell_type": "code",
   "execution_count": 2,
   "metadata": {
    "collapsed": true
   },
   "outputs": [],
   "source": [
    "df_zeroes = pd.DataFrame([\n",
    "                                (10516, 'a', '1/1/2000', 0),\n",
    "                                (10516, 'a', '1/2/2000', 0),\n",
    "                                (10516, 'a', '1/3/2000', 1),\n",
    "                                (10516, 'a', '1/4/2000', 2),\n",
    "                                (10516, 'b', '1/1/2000', 0),\n",
    "                                (10516, 'b', '1/2/2000', 1),\n",
    "                                (10516, 'b', '1/3/2000', 1),\n",
    "                                (10516, 'b', '1/4/2000', 1),\n",
    "                                (10517, 'a', '1/1/2000', 3),\n",
    "                                (10517, 'a', '1/2/2000', 4),\n",
    "                                (10517, 'a', '1/3/2000', 5),\n",
    "                                (10517, 'a', '1/4/2000', 6),\n",
    "                               ], columns = ['PERMNO','byvar','Date', 'RET'])\n",
    "\n",
    "df_zeroes['Date'] = pd.to_datetime(df_zeroes['Date'])"
   ]
  },
  {
   "cell_type": "code",
   "execution_count": 4,
   "metadata": {
    "collapsed": false
   },
   "outputs": [
    {
     "data": {
      "text/html": [
       "<div>\n",
       "<table border=\"1\" class=\"dataframe\">\n",
       "  <thead>\n",
       "    <tr style=\"text-align: right;\">\n",
       "      <th></th>\n",
       "      <th>PERMNO</th>\n",
       "      <th>byvar</th>\n",
       "      <th>Date</th>\n",
       "      <th>RET</th>\n",
       "      <th>portfolio</th>\n",
       "    </tr>\n",
       "  </thead>\n",
       "  <tbody>\n",
       "    <tr>\n",
       "      <th>0</th>\n",
       "      <td>10516</td>\n",
       "      <td>a</td>\n",
       "      <td>2000-01-01</td>\n",
       "      <td>0</td>\n",
       "      <td>1</td>\n",
       "    </tr>\n",
       "    <tr>\n",
       "      <th>1</th>\n",
       "      <td>10516</td>\n",
       "      <td>a</td>\n",
       "      <td>2000-01-02</td>\n",
       "      <td>0</td>\n",
       "      <td>1</td>\n",
       "    </tr>\n",
       "    <tr>\n",
       "      <th>2</th>\n",
       "      <td>10516</td>\n",
       "      <td>a</td>\n",
       "      <td>2000-01-03</td>\n",
       "      <td>1</td>\n",
       "      <td>2</td>\n",
       "    </tr>\n",
       "    <tr>\n",
       "      <th>3</th>\n",
       "      <td>10516</td>\n",
       "      <td>a</td>\n",
       "      <td>2000-01-04</td>\n",
       "      <td>2</td>\n",
       "      <td>2</td>\n",
       "    </tr>\n",
       "    <tr>\n",
       "      <th>4</th>\n",
       "      <td>10516</td>\n",
       "      <td>b</td>\n",
       "      <td>2000-01-01</td>\n",
       "      <td>0</td>\n",
       "      <td>1</td>\n",
       "    </tr>\n",
       "    <tr>\n",
       "      <th>5</th>\n",
       "      <td>10516</td>\n",
       "      <td>b</td>\n",
       "      <td>2000-01-02</td>\n",
       "      <td>1</td>\n",
       "      <td>2</td>\n",
       "    </tr>\n",
       "    <tr>\n",
       "      <th>6</th>\n",
       "      <td>10516</td>\n",
       "      <td>b</td>\n",
       "      <td>2000-01-03</td>\n",
       "      <td>1</td>\n",
       "      <td>2</td>\n",
       "    </tr>\n",
       "    <tr>\n",
       "      <th>7</th>\n",
       "      <td>10516</td>\n",
       "      <td>b</td>\n",
       "      <td>2000-01-04</td>\n",
       "      <td>1</td>\n",
       "      <td>2</td>\n",
       "    </tr>\n",
       "    <tr>\n",
       "      <th>8</th>\n",
       "      <td>10517</td>\n",
       "      <td>a</td>\n",
       "      <td>2000-01-01</td>\n",
       "      <td>3</td>\n",
       "      <td>3</td>\n",
       "    </tr>\n",
       "    <tr>\n",
       "      <th>9</th>\n",
       "      <td>10517</td>\n",
       "      <td>a</td>\n",
       "      <td>2000-01-02</td>\n",
       "      <td>4</td>\n",
       "      <td>3</td>\n",
       "    </tr>\n",
       "    <tr>\n",
       "      <th>10</th>\n",
       "      <td>10517</td>\n",
       "      <td>a</td>\n",
       "      <td>2000-01-03</td>\n",
       "      <td>5</td>\n",
       "      <td>4</td>\n",
       "    </tr>\n",
       "    <tr>\n",
       "      <th>11</th>\n",
       "      <td>10517</td>\n",
       "      <td>a</td>\n",
       "      <td>2000-01-04</td>\n",
       "      <td>6</td>\n",
       "      <td>4</td>\n",
       "    </tr>\n",
       "  </tbody>\n",
       "</table>\n",
       "</div>"
      ],
      "text/plain": [
       "    PERMNO byvar       Date  RET  portfolio\n",
       "0    10516     a 2000-01-01    0          1\n",
       "1    10516     a 2000-01-02    0          1\n",
       "2    10516     a 2000-01-03    1          2\n",
       "3    10516     a 2000-01-04    2          2\n",
       "4    10516     b 2000-01-01    0          1\n",
       "5    10516     b 2000-01-02    1          2\n",
       "6    10516     b 2000-01-03    1          2\n",
       "7    10516     b 2000-01-04    1          2\n",
       "8    10517     a 2000-01-01    3          3\n",
       "9    10517     a 2000-01-02    4          3\n",
       "10   10517     a 2000-01-03    5          4\n",
       "11   10517     a 2000-01-04    6          4"
      ]
     },
     "execution_count": 4,
     "metadata": {},
     "output_type": "execute_result"
    }
   ],
   "source": [
    "dero.pandas.portfolio(df_zeroes, 'RET', ngroups=4, byvars='byvar')"
   ]
  },
  {
   "cell_type": "code",
   "execution_count": null,
   "metadata": {
    "collapsed": true
   },
   "outputs": [],
   "source": [
    ""
   ]
  },
  {
   "cell_type": "code",
   "execution_count": 24,
   "metadata": {
    "collapsed": false
   },
   "outputs": [
    {
     "name": "stdout",
     "output_type": "stream",
     "text": [
      "2016-09-15 17:43:36: Initializing pull_crsp function\n",
      "2016-09-15 17:43:36: Checking inputs.\n",
      "2016-09-15 17:43:36: Loading CRSP dataframe...\n",
      "2016-09-15 17:43:36: Loaded.\n",
      "2016-09-15 17:43:36: Converting SAS date to Pandas format.\n",
      "2016-09-15 17:43:36: Converted.\n",
      "2016-09-15 17:43:36: Time detected.\n",
      "2016-09-15 17:43:36: Cumret detected, will generate intermediate periods.\n",
      "2016-09-15 17:43:36: Generating periods [0, 3] + itermediate\n",
      "2016-09-15 17:43:36: Initializing expand_time for periods [0, 1, 2, 3].\n",
      "2016-09-15 17:43:36: Daily frequency, getting trading day calendar.\n",
      "2016-09-15 17:43:36: Calculating number of rows.\n",
      "2016-09-15 17:43:36: Calculating number of duplicates.\n",
      "2016-09-15 17:43:36: Duplicating observations 3 times.\n",
      "2016-09-15 17:43:36: Duplicated.\n",
      "2016-09-15 17:43:36: Creating shift variable.\n",
      "2016-09-15 17:43:36: Creating shifted date.\n",
      "2016-09-15 17:43:36: expand_time completed.\n",
      "2016-09-15 17:43:36: Finished generating periods. Generating key.\n",
      "2016-09-15 17:43:36: Abret detected.\n",
      "2016-09-15 17:43:36: Creating abret window periods.\n",
      "2016-09-15 17:43:36: Initializing expand_time for periods [0, -1, -2, -3, -4, -5, -6, -7, -8, -9, -10, -11, -12, -13, -14, -15, -16, -17, -18, -19, -20, -21, -22, -23, -24, -25, -26, -27, -28, -29, -30].\n",
      "2016-09-15 17:43:36: Daily frequency, getting trading day calendar.\n",
      "2016-09-15 17:43:36: Calculating number of rows.\n",
      "2016-09-15 17:43:36: Calculating number of duplicates.\n",
      "2016-09-15 17:43:36: Duplicating observations 30 times.\n",
      "2016-09-15 17:43:36: Duplicated.\n",
      "2016-09-15 17:43:36: Creating shift variable.\n",
      "2016-09-15 17:43:36: Creating shifted date.\n",
      "2016-09-15 17:43:36: expand_time completed.\n",
      "2016-09-15 17:43:36: Merging with CRSP to get abret window data as well as regular data.\n",
      "2016-09-15 17:43:36: Merging CRSP to dataframe.\n",
      "2016-09-15 17:43:36: Completed merge.\n",
      "2016-09-15 17:43:36: Getting Fama-French factors, then running regressions.\n",
      "2016-09-15 17:43:37: Dropping unneeded observations (abret window dates).\n",
      "2016-09-15 17:43:37: Cumret detected.\n",
      "2016-09-15 17:43:37: Cumulating returns with method first for time [0, 3].\n",
      "2016-09-15 17:43:37: Initializing cumulate.\n",
      "2016-09-15 17:43:37: Creating by groups.\n",
      "2016-09-15 17:43:37: Reshaping long to wide.\n",
      "pd.DataFrame(data = [\n",
      "(10516, 'a', Timestamp('2000-01-01 00:00:00'), 1.01, -0.015789473429322243, -0.0157200164855561, -0.026041666719972656, -0.023104568060886788),\n",
      "(10516, 'a', Timestamp('2000-01-02 00:00:00'), 1.02, -0.015789473429322243, -0.0157200164855561, -0.026041666719972656, -0.023104568060886788),\n",
      "(10516, 'a', Timestamp('2000-01-03 00:00:00'), 1.03, 0.005347593687474728, 0.00575376791862503, -0.020833333285060984, -0.01748373846474416),\n",
      "(10516, 'a', Timestamp('2000-01-04 00:00:00'), 1.04, 0.01595744676887989, 0.012994269572996098, -0.005208333323095782, -0.0047166573025027025),\n",
      "(10516, 'b', Timestamp('2000-01-01 00:00:00'), 1.05, -0.015789473429322243, -0.0157200164855561, -0.026041666719972656, -0.023104568060886788),\n",
      "(10516, 'b', Timestamp('2000-01-02 00:00:00'), 1.06, -0.015789473429322243, -0.0157200164855561, -0.026041666719972656, -0.023104568060886788),\n",
      "(10516, 'b', Timestamp('2000-01-03 00:00:00'), 1.07, 0.005347593687474728, 0.00575376791862503, -0.020833333285060984, -0.01748373846474416),\n",
      "(10516, 'b', Timestamp('2000-01-04 00:00:00'), 1.08, 0.01595744676887989, 0.012994269572996098, -0.005208333323095782, -0.0047166573025027025),\n",
      "(10517, 'a', Timestamp('2000-01-01 00:00:00'), 1.09, -0.007117437664419413, -0.0065582128902672565, -0.010638297703057686, 0.01488729250752785),\n",
      "(10517, 'a', Timestamp('2000-01-02 00:00:00'), 1.1, -0.007117437664419413, -0.0065582128902672565, -0.010638297703057686, 0.01488729250752785),\n",
      "(10517, 'a', Timestamp('2000-01-03 00:00:00'), 1.11, 0.00358422938734293, 0.008033133923996294, -0.0070921984149733275, 0.023040018046002864),\n",
      "(10517, 'a', Timestamp('2000-01-04 00:00:00'), 1.12, 0.0, -0.011673811100752163, -0.0070921984149733275, 0.011097242126823836),\n",
      "], columns = ['PERMNO', 'byvar', 'Date', 'RET_old', 'RET3', 'ABRET3', 'cum_RET3', 'cum_ABRET3'])\n"
     ]
    }
   ],
   "source": [
    "crsp = dero.data.GetCRSP(debug=True)\n",
    "a = crsp.pull_crsp(\n",
    "                df_datetime, freq='d', get=['RET'], \n",
    "                other_byvars='byvar',time=[0,3], cumret='first', abret=1,\n",
    "                window=30, drop_first=True)\n",
    "dero.pandas.to_copy_paste(a)"
   ]
  },
  {
   "cell_type": "code",
   "execution_count": 60,
   "metadata": {
    "collapsed": false
   },
   "outputs": [
    {
     "name": "stdout",
     "output_type": "stream",
     "text": [
      "__main__ 0.8.0\n"
     ]
    }
   ],
   "source": [
    "#######This is temp to import dev version of dero\n",
    "import os, sys\n",
    "sys.path.insert(0, r'C:\\Users\\derobertisna.UFAD\\Dropbox\\Python\\Dero')\n",
    "import dero\n",
    "print(__name__, dero.__version__)\n",
    "\n",
    "import pandas as pd\n",
    "\n",
    "filepath = r'C:\\Users\\derobertisna.UFAD\\Dropbox\\UF\\Corbin\\Short Sale Project\\Insider Filings\\wide data.csv'\n",
    "\n",
    "df = pd.read_csv(filepath)\n",
    "df['Begin'] = pd.to_datetime(df['Begin'])"
   ]
  },
  {
   "cell_type": "markdown",
   "metadata": {},
   "source": [
    "Todo: Form a multiindex based on dates and some firm keys and see how much extra performance can get out of apply to unique and merge"
   ]
  },
  {
   "cell_type": "code",
   "execution_count": null,
   "metadata": {
    "collapsed": false
   },
   "outputs": [],
   "source": [
    "dates = pd.date_range(start='12/31/2002',end='1/1/2015',freq='m')\n",
    "coids = [i for i in range(20)]\n",
    "index = pd.MultiIndex.from_product([dates, coids])\n",
    "test_df = pd.DataFrame(index=index).reset_index()\n",
    "test_df.columns = ['Date','Coid']"
   ]
  },
  {
   "cell_type": "code",
   "execution_count": 207,
   "metadata": {
    "collapsed": false
   },
   "outputs": [],
   "source": [
    "test_df_single = pd.DataFrame(pd.date_range(start='12/31/2002',end='1/1/2015',freq='m'), columns=['Date'])"
   ]
  },
  {
   "cell_type": "code",
   "execution_count": 22,
   "metadata": {
    "collapsed": false
   },
   "outputs": [
    {
     "name": "stdout",
     "output_type": "stream",
     "text": [
      "1 loop, best of 3: 205 ms per loop\n"
     ]
    }
   ],
   "source": [
    "%timeit expand_months3(test_df)"
   ]
  },
  {
   "cell_type": "code",
   "execution_count": 23,
   "metadata": {
    "collapsed": false
   },
   "outputs": [
    {
     "name": "stdout",
     "output_type": "stream",
     "text": [
      "1 loop, best of 3: 2.91 s per loop\n"
     ]
    }
   ],
   "source": [
    "%timeit expand_months2(test_df)"
   ]
  },
  {
   "cell_type": "code",
   "execution_count": 24,
   "metadata": {
    "collapsed": false
   },
   "outputs": [
    {
     "name": "stdout",
     "output_type": "stream",
     "text": [
      "1 loop, best of 3: 6.14 s per loop\n"
     ]
    }
   ],
   "source": [
    "%timeit orig_expand_months(test_df)"
   ]
  },
  {
   "cell_type": "markdown",
   "metadata": {},
   "source": [
    "Run this block to test"
   ]
  },
  {
   "cell_type": "code",
   "execution_count": 27,
   "metadata": {
    "collapsed": false
   },
   "outputs": [
    {
     "name": "stdout",
     "output_type": "stream",
     "text": [
      "10 loops, best of 3: 37.1 ms per loop\n"
     ]
    },
    {
     "name": "stderr",
     "output_type": "stream",
     "text": [
      "C:\\Anaconda3\\lib\\site-packages\\ipykernel\\__main__.py:42: FutureWarning: sort(....) is deprecated, use sort_index(.....)\n",
      "C:\\Anaconda3\\lib\\site-packages\\ipykernel\\__main__.py:82: FutureWarning: sort(....) is deprecated, use sort_index(.....)\n"
     ]
    }
   ],
   "source": [
    "%timeit TestExpandMonths()"
   ]
  },
  {
   "cell_type": "code",
   "execution_count": 78,
   "metadata": {
    "collapsed": false
   },
   "outputs": [
    {
     "data": {
      "text/html": [
       "<div>\n",
       "<table border=\"1\" class=\"dataframe\">\n",
       "  <thead>\n",
       "    <tr style=\"text-align: right;\">\n",
       "      <th></th>\n",
       "      <th>Date</th>\n",
       "    </tr>\n",
       "  </thead>\n",
       "  <tbody>\n",
       "    <tr>\n",
       "      <th>0</th>\n",
       "      <td>2002-12-31</td>\n",
       "    </tr>\n",
       "    <tr>\n",
       "      <th>1</th>\n",
       "      <td>2003-01-15</td>\n",
       "    </tr>\n",
       "  </tbody>\n",
       "</table>\n",
       "</div>"
      ],
      "text/plain": [
       "        Date\n",
       "0 2002-12-31\n",
       "1 2003-01-15"
      ]
     },
     "execution_count": 78,
     "metadata": {},
     "output_type": "execute_result"
    }
   ],
   "source": [
    "b = pd.DataFrame([(Timestamp('12/31/2002'),),(Timestamp('1/15/2003'),)], columns=['Date'])\n",
    "b"
   ]
  },
  {
   "cell_type": "code",
   "execution_count": 184,
   "metadata": {
    "collapsed": false
   },
   "outputs": [],
   "source": [
    "from functools import partial\n",
    "td = dero.pandas.tradedays()\n",
    "newdatevar='Daily Date'\n",
    "datevar='Date'\n",
    "\n",
    "expand = partial(_expand, datevar=datevar,  td=td, newdatevar=newdatevar)\n",
    "\n",
    "# out = expand(Timestamp('12/31/2002'))"
   ]
  },
  {
   "cell_type": "code",
   "execution_count": 190,
   "metadata": {
    "collapsed": false
   },
   "outputs": [],
   "source": [
    "date = np.datetime64('2003-01-15T00:00:00.000000000')\n",
    "\n",
    "# %timeit date.astype(object).year\n",
    "# %timeit date.astype('datetime64[Y]').astype(int) + 1970\n",
    "# %timeit date.astype(object).month\n",
    "# %timeit date.astype('datetime64[M]').astype(int) %12 + 1"
   ]
  },
  {
   "cell_type": "code",
   "execution_count": 64,
   "metadata": {
    "collapsed": false
   },
   "outputs": [
    {
     "name": "stdout",
     "output_type": "stream",
     "text": [
      "10 loops, best of 3: 38.4 ms per loop\n"
     ]
    }
   ],
   "source": [
    "original time to beat"
   ]
  },
  {
   "cell_type": "code",
   "execution_count": 21,
   "metadata": {
    "collapsed": false
   },
   "outputs": [],
   "source": [
    "import dero\n",
    "import pandas as pd\n",
    "import numpy as np\n",
    "import datetime, time\n",
    "from functools import partial\n",
    "from dateutil.relativedelta import relativedelta\n",
    "\n",
    "tradedays = dero.pandas.tradedays\n",
    "\n",
    "def _expand(monthly_date, datevar, td, newdatevar):\n",
    "   \n",
    "    t = time.gmtime(monthly_date/1000000000) #date coming in as integer, need to parse\n",
    "    t = datetime.date(t.tm_year, t.tm_mon, t.tm_mday) #better output than gmtime\n",
    "    \n",
    "    beginning = datetime.date(t.year, t.month, 1) #beginning of month of date\n",
    "    end = beginning + relativedelta(months=1, days=-1) #last day of month\n",
    "    days = pd.date_range(start=beginning, end=end, freq=td) #trade days within month\n",
    "    days.name = newdatevar\n",
    "    result =  np.array([(t, i) for i in days])\n",
    "    return result\n",
    "\n",
    "\n",
    "def expand_months(df, datevar='Date', newdatevar='Daily Date', trade_days=True):\n",
    "    \"\"\"\n",
    "    Takes a monthly dataframe and returns a daily (trade day or calendar day) dataframe. \n",
    "    For each row in the input data, duplicates that row over each trading/calendar day in the month of \n",
    "    the date in that row. Creates a new date column containing the daily date.\n",
    "    \n",
    "    NOTE: If the input dataset has multiple observations per month, all of these will be expanded. Therefore\n",
    "    you will have one row for each trade day for each original observation. \n",
    "    \n",
    "    Required inputs:\n",
    "    df: pandas dataframe containing a date variable\n",
    "    \n",
    "    Optional inputs:\n",
    "    datevar: str, name of column containing dates in the input df\n",
    "    newdatevar: str, name of new column to be created containing daily dates\n",
    "    tradedays: bool, True to use trading days and False to use calendar days\n",
    "    \"\"\"\n",
    "    if trade_days:\n",
    "        td = tradedays()\n",
    "    else:\n",
    "        td = 'D'\n",
    "    \n",
    "    expand = partial(_expand, datevar=datevar, td=td, newdatevar=newdatevar)\n",
    "    \n",
    "    \n",
    "    expand_all = np.vectorize(expand, otypes=[np.ndarray])\n",
    "        \n",
    "    days =  pd.DataFrame(np.concatenate(expand_all(df[datevar].unique()), axis=0),\n",
    "                         columns=[datevar, newdatevar], dtype='datetime64')\n",
    "\n",
    "    return df.merge(days, on=datevar, how='left')"
   ]
  },
  {
   "cell_type": "code",
   "execution_count": 17,
   "metadata": {
    "collapsed": false
   },
   "outputs": [],
   "source": [
    "import dero\n",
    "import pandas as pd\n",
    "import datetime\n",
    "from functools import partial\n",
    "from dateutil.relativedelta import relativedelta\n",
    "\n",
    "tradedays = dero.pandas.tradedays\n",
    "\n",
    "def _expand2(monthly_date, datevar, td, newdatevar):\n",
    "    beginning = datetime.date(monthly_date.year, monthly_date.month, 1) #beginning of month of date\n",
    "    end = beginning + relativedelta(months=1, days=-1) #last day of month\n",
    "    days = pd.date_range(start=beginning, end=end, freq=td) #trade days within month\n",
    "    days.name = newdatevar\n",
    "#     s = pd.Series([monthly_date for i in range(len(days))], index=days)\n",
    "#     s.name = datevar\n",
    "#     return s\n",
    "    return pd.DataFrame([monthly_date for i in range(len(days))], index=days, columns=[datevar])\n",
    "#     return pd.DataFrame([monthly_date for i in range(len(days))], index=days, columns=[datevar]).unstack(0)\n",
    "\n",
    "\n",
    "def expand_months2(df, datevar='Date', newdatevar='Daily Date', trade_days=True):\n",
    "    \"\"\"\n",
    "    Takes a monthly dataframe and returns a daily (trade day or calendar day) dataframe. \n",
    "    For each row in the input data, duplicates that row over each trading/calendar day in the month of \n",
    "    the date in that row. Creates a new date column containing the daily date.\n",
    "    \n",
    "    NOTE: If the input dataset has multiple observations per month, all of these will be expanded. Therefore\n",
    "    you will have one row for each trade day for each original observation. \n",
    "    \n",
    "    Required inputs:\n",
    "    df: pandas dataframe containing a date variable\n",
    "    \n",
    "    Optional inputs:\n",
    "    datevar: str, name of column containing dates in the input df\n",
    "    newdatevar: str, name of new column to be created containing daily dates\n",
    "    tradedays: bool, True to use trading days and False to use calendar days\n",
    "    \"\"\"\n",
    "    if trade_days:\n",
    "        td = tradedays()\n",
    "    else:\n",
    "        td = 'D'\n",
    "    \n",
    "    expand = partial(_expand2, datevar=datevar, td=td, newdatevar=newdatevar)\n",
    "    \n",
    "        \n",
    "    days =  df[datevar].apply(expand)\n",
    "    \n",
    "    days = pd.concat([d for d in days], axis=0).reset_index() #index was daily date\n",
    "\n",
    "    return df.merge(days, on=datevar, how='left')"
   ]
  },
  {
   "cell_type": "code",
   "execution_count": 6,
   "metadata": {
    "collapsed": false
   },
   "outputs": [],
   "source": [
    "import dero\n",
    "import pandas as pd\n",
    "import datetime\n",
    "from dateutil.relativedelta import relativedelta\n",
    "\n",
    "tradedays = dero.pandas.tradedays\n",
    "\n",
    "def orig_expand_months(df, datevar='Date', newdatevar='Daily Date', trade_days=True):\n",
    "    \"\"\"\n",
    "    Takes a monthly dataframe and returns a daily (trade day or calendar day) dataframe. \n",
    "    For each row in the input data, duplicates that row over each trading/calendar day in the month of \n",
    "    the date in that row. Creates a new date column containing the daily date.\n",
    "    \n",
    "    NOTE: If the input dataset has multiple observations per month, all of these will be expanded. Therefore\n",
    "    you will have one row for each trade day for each original observation. \n",
    "    \n",
    "    Required inputs:\n",
    "    df: pandas dataframe containing a date variable\n",
    "    \n",
    "    Optional inputs:\n",
    "    datevar: str, name of column containing dates in the input df\n",
    "    newdatevar: str, name of new column to be created containing daily dates\n",
    "    tradedays: bool, True to use trading days and False to use calendar days\n",
    "    \"\"\"\n",
    "    if trade_days:\n",
    "        td = tradedays()\n",
    "    else:\n",
    "        td = 'D'\n",
    "    \n",
    "    outdf = pd.DataFrame()\n",
    "    for row in df.iterrows():\n",
    "        series = row[1]\n",
    "        monthly_date = series[datevar]\n",
    "        beginning = datetime.date(monthly_date.year, monthly_date.month, 1) #beginning of month of date\n",
    "        end = beginning + relativedelta(months=1, days=-1) #last day of month\n",
    "        days = pd.date_range(start=beginning, end=end, freq=td) #trade days within month\n",
    "        days.name = newdatevar\n",
    "        outdf = outdf.append( #construct new dataframe and append to output\n",
    "            pd.DataFrame([series for i in range(len(days))], index=days)\n",
    "        ) \n",
    "        \n",
    "    return outdf.reset_index()"
   ]
  },
  {
   "cell_type": "code",
   "execution_count": 27,
   "metadata": {
    "collapsed": false
   },
   "outputs": [
    {
     "data": {
      "text/plain": [
       "'numpy'"
      ]
     },
     "execution_count": 27,
     "metadata": {},
     "output_type": "execute_result"
    }
   ],
   "source": [
    "import numpy\n",
    "numpy.__name__"
   ]
  },
  {
   "cell_type": "code",
   "execution_count": 1,
   "metadata": {
    "collapsed": false
   },
   "outputs": [
    {
     "data": {
      "text/plain": [
       "6"
      ]
     },
     "execution_count": 1,
     "metadata": {},
     "output_type": "execute_result"
    }
   ],
   "source": [
    "import bar\n",
    "import dero\n",
    "\n",
    "logger = dero.logging.create_logger()           \n",
    "dero.logging.apply_logging_to_all_functions_in_module(bar)\n",
    "\n",
    "bar.Bar().bar2()"
   ]
  },
  {
   "cell_type": "code",
   "execution_count": 14,
   "metadata": {
    "collapsed": true
   },
   "outputs": [],
   "source": [
    "getattr?"
   ]
  },
  {
   "cell_type": "code",
   "execution_count": 34,
   "metadata": {
    "collapsed": false
   },
   "outputs": [
    {
     "name": "stdout",
     "output_type": "stream",
     "text": [
      "GeneratorType\n",
      "FrameType\n",
      "BuiltinFunctionType\n",
      "SimpleNamespace\n",
      "ModuleType\n",
      "TracebackType\n",
      "MappingProxyType\n",
      "DynamicClassAttribute\n",
      "CodeType\n",
      "FunctionType\n",
      "bar3 <function bar3 at 0x000000C4F407DAE8>\n",
      "CoroutineType\n",
      "MethodType\n",
      "LambdaType\n",
      "bar3 <function bar3 at 0x000000C4F407DAE8>\n",
      "MemberDescriptorType\n",
      "BuiltinMethodType\n",
      "GetSetDescriptorType\n"
     ]
    }
   ],
   "source": [
    "import bar\n",
    "import types\n",
    "import inspect\n",
    "\n",
    "def list_all_vars_of_type(module, typ):\n",
    "\n",
    "#     for k,v in vars(module).items():\n",
    "    for k,v in inspect.getmembers(module, inspect.isroutine):\n",
    "        if isinstance(v, typ):\n",
    "            print(k, v)\n",
    "            \n",
    "            \n",
    "\n",
    "for typ in [i for i in types.__dict__ if (i[0].upper() == i[0]) and (not i.startswith('_'))]:\n",
    "    print(typ)\n",
    "    list_all_vars_of_type(bar, getattr(types, typ))"
   ]
  },
  {
   "cell_type": "code",
   "execution_count": 33,
   "metadata": {
    "collapsed": false
   },
   "outputs": [
    {
     "name": "stdout",
     "output_type": "stream",
     "text": [
      "<class '_io.TextIOWrapper'>\n"
     ]
    }
   ],
   "source": [
    "f = open('test.txt', 'w')\n",
    "print(type(f))\n",
    "f.close()"
   ]
  },
  {
   "cell_type": "code",
   "execution_count": 35,
   "metadata": {
    "collapsed": false
   },
   "outputs": [
    {
     "name": "stdout",
     "output_type": "stream",
     "text": [
      "bar3 <function bar3 at 0x000000C4F407DAE8> <class 'function'>\n"
     ]
    }
   ],
   "source": [
    "def list_types_of_all_vars_in_module(module):\n",
    "\n",
    "#     for k,v in vars(module).items():\n",
    "    for k,v in inspect.getmembers(module, inspect.isroutine):\n",
    "        print(k, v, type(v))\n",
    "        if isinstance(v, type):\n",
    "            for k2,v2 in vars(v).items():\n",
    "                print(k2, v2, type(v2))\n",
    "        \n",
    "list_types_of_all_vars_in_module(bar)"
   ]
  },
  {
   "cell_type": "code",
   "execution_count": 25,
   "metadata": {
    "collapsed": false
   },
   "outputs": [
    {
     "data": {
      "text/plain": [
       "bar.Bar"
      ]
     },
     "execution_count": 25,
     "metadata": {},
     "output_type": "execute_result"
    }
   ],
   "source": [
    "type(bar.Bar())"
   ]
  },
  {
   "cell_type": "code",
   "execution_count": 16,
   "metadata": {
    "collapsed": false
   },
   "outputs": [
    {
     "data": {
      "text/plain": [
       "['GeneratorType',\n",
       " 'FrameType',\n",
       " 'BuiltinFunctionType',\n",
       " 'SimpleNamespace',\n",
       " '__file__',\n",
       " 'prepare_class',\n",
       " 'ModuleType',\n",
       " 'TracebackType',\n",
       " 'MappingProxyType',\n",
       " '_collections_abc',\n",
       " '__loader__',\n",
       " 'DynamicClassAttribute',\n",
       " '__package__',\n",
       " 'new_class',\n",
       " 'CodeType',\n",
       " '__spec__',\n",
       " 'FunctionType',\n",
       " '_functools',\n",
       " '__cached__',\n",
       " '__all__',\n",
       " 'CoroutineType',\n",
       " '__doc__',\n",
       " 'MethodType',\n",
       " '__name__',\n",
       " '__builtins__',\n",
       " 'LambdaType',\n",
       " '_GeneratorWrapper',\n",
       " 'MemberDescriptorType',\n",
       " 'coroutine',\n",
       " 'BuiltinMethodType',\n",
       " '_calculate_meta',\n",
       " 'GetSetDescriptorType']"
      ]
     },
     "execution_count": 16,
     "metadata": {},
     "output_type": "execute_result"
    }
   ],
   "source": [
    "[k for k in types.__dict__ ]"
   ]
  },
  {
   "cell_type": "code",
   "execution_count": 23,
   "metadata": {
    "collapsed": false
   },
   "outputs": [
    {
     "data": {
      "text/plain": [
       "{'Bar': bar.Bar,\n",
       " '__builtins__': {'ArithmeticError': ArithmeticError,\n",
       "  'AssertionError': AssertionError,\n",
       "  'AttributeError': AttributeError,\n",
       "  'BaseException': BaseException,\n",
       "  'BlockingIOError': BlockingIOError,\n",
       "  'BrokenPipeError': BrokenPipeError,\n",
       "  'BufferError': BufferError,\n",
       "  'BytesWarning': BytesWarning,\n",
       "  'ChildProcessError': ChildProcessError,\n",
       "  'ConnectionAbortedError': ConnectionAbortedError,\n",
       "  'ConnectionError': ConnectionError,\n",
       "  'ConnectionRefusedError': ConnectionRefusedError,\n",
       "  'ConnectionResetError': ConnectionResetError,\n",
       "  'DeprecationWarning': DeprecationWarning,\n",
       "  'EOFError': EOFError,\n",
       "  'Ellipsis': Ellipsis,\n",
       "  'EnvironmentError': OSError,\n",
       "  'Exception': Exception,\n",
       "  'False': False,\n",
       "  'FileExistsError': FileExistsError,\n",
       "  'FileNotFoundError': FileNotFoundError,\n",
       "  'FloatingPointError': FloatingPointError,\n",
       "  'FutureWarning': FutureWarning,\n",
       "  'GeneratorExit': GeneratorExit,\n",
       "  'IOError': OSError,\n",
       "  'ImportError': ImportError,\n",
       "  'ImportWarning': ImportWarning,\n",
       "  'IndentationError': IndentationError,\n",
       "  'IndexError': IndexError,\n",
       "  'InterruptedError': InterruptedError,\n",
       "  'IsADirectoryError': IsADirectoryError,\n",
       "  'KeyError': KeyError,\n",
       "  'KeyboardInterrupt': KeyboardInterrupt,\n",
       "  'LookupError': LookupError,\n",
       "  'MemoryError': MemoryError,\n",
       "  'NameError': NameError,\n",
       "  'None': None,\n",
       "  'NotADirectoryError': NotADirectoryError,\n",
       "  'NotImplemented': NotImplemented,\n",
       "  'NotImplementedError': NotImplementedError,\n",
       "  'OSError': OSError,\n",
       "  'OverflowError': OverflowError,\n",
       "  'PendingDeprecationWarning': PendingDeprecationWarning,\n",
       "  'PermissionError': PermissionError,\n",
       "  'ProcessLookupError': ProcessLookupError,\n",
       "  'RecursionError': RecursionError,\n",
       "  'ReferenceError': ReferenceError,\n",
       "  'ResourceWarning': ResourceWarning,\n",
       "  'RuntimeError': RuntimeError,\n",
       "  'RuntimeWarning': RuntimeWarning,\n",
       "  'StopAsyncIteration': StopAsyncIteration,\n",
       "  'StopIteration': StopIteration,\n",
       "  'SyntaxError': SyntaxError,\n",
       "  'SyntaxWarning': SyntaxWarning,\n",
       "  'SystemError': SystemError,\n",
       "  'SystemExit': SystemExit,\n",
       "  'TabError': TabError,\n",
       "  'TimeoutError': TimeoutError,\n",
       "  'True': True,\n",
       "  'TypeError': TypeError,\n",
       "  'UnboundLocalError': UnboundLocalError,\n",
       "  'UnicodeDecodeError': UnicodeDecodeError,\n",
       "  'UnicodeEncodeError': UnicodeEncodeError,\n",
       "  'UnicodeError': UnicodeError,\n",
       "  'UnicodeTranslateError': UnicodeTranslateError,\n",
       "  'UnicodeWarning': UnicodeWarning,\n",
       "  'UserWarning': UserWarning,\n",
       "  'ValueError': ValueError,\n",
       "  'Warning': Warning,\n",
       "  'WindowsError': OSError,\n",
       "  'ZeroDivisionError': ZeroDivisionError,\n",
       "  '__IPYTHON__': True,\n",
       "  '__build_class__': <function __build_class__>,\n",
       "  '__debug__': True,\n",
       "  '__doc__': \"Built-in functions, exceptions, and other objects.\\n\\nNoteworthy: None is the `nil' object; Ellipsis represents `...' in slices.\",\n",
       "  '__import__': <function __import__>,\n",
       "  '__loader__': _frozen_importlib.BuiltinImporter,\n",
       "  '__name__': 'builtins',\n",
       "  '__package__': '',\n",
       "  '__spec__': ModuleSpec(name='builtins', loader=<class '_frozen_importlib.BuiltinImporter'>),\n",
       "  'abs': <function abs>,\n",
       "  'all': <function all>,\n",
       "  'any': <function any>,\n",
       "  'ascii': <function ascii>,\n",
       "  'bin': <function bin>,\n",
       "  'bool': bool,\n",
       "  'bytearray': bytearray,\n",
       "  'bytes': bytes,\n",
       "  'callable': <function callable>,\n",
       "  'chr': <function chr>,\n",
       "  'classmethod': classmethod,\n",
       "  'compile': <function compile>,\n",
       "  'complex': complex,\n",
       "  'copyright': Copyright (c) 2001-2015 Python Software Foundation.\n",
       "  All Rights Reserved.\n",
       "  \n",
       "  Copyright (c) 2000 BeOpen.com.\n",
       "  All Rights Reserved.\n",
       "  \n",
       "  Copyright (c) 1995-2001 Corporation for National Research Initiatives.\n",
       "  All Rights Reserved.\n",
       "  \n",
       "  Copyright (c) 1991-1995 Stichting Mathematisch Centrum, Amsterdam.\n",
       "  All Rights Reserved.,\n",
       "  'credits':     Thanks to CWI, CNRI, BeOpen.com, Zope Corporation and a cast of thousands\n",
       "      for supporting Python development.  See www.python.org for more information.,\n",
       "  'delattr': <function delattr>,\n",
       "  'dict': dict,\n",
       "  'dir': <function dir>,\n",
       "  'divmod': <function divmod>,\n",
       "  'dreload': <function IPython.lib.deepreload._dreload>,\n",
       "  'enumerate': enumerate,\n",
       "  'eval': <function eval>,\n",
       "  'exec': <function exec>,\n",
       "  'filter': filter,\n",
       "  'float': float,\n",
       "  'format': <function format>,\n",
       "  'frozenset': frozenset,\n",
       "  'get_ipython': <bound method InteractiveShell.get_ipython of <ipykernel.zmqshell.ZMQInteractiveShell object at 0x000000C4F341E390>>,\n",
       "  'getattr': <function getattr>,\n",
       "  'globals': <function globals>,\n",
       "  'hasattr': <function hasattr>,\n",
       "  'hash': <function hash>,\n",
       "  'help': Type help() for interactive help, or help(object) for help about object.,\n",
       "  'hex': <function hex>,\n",
       "  'id': <function id>,\n",
       "  'input': <bound method Kernel.raw_input of <ipykernel.ipkernel.IPythonKernel object at 0x000000C4F341E4E0>>,\n",
       "  'int': int,\n",
       "  'isinstance': <function isinstance>,\n",
       "  'issubclass': <function issubclass>,\n",
       "  'iter': <function iter>,\n",
       "  'len': <function len>,\n",
       "  'license': \n",
       "  MIT License\n",
       "  \n",
       "  Copyright (c) 2016 Nick DeRobertis\n",
       "  \n",
       "  Permission is hereby granted, free of charge, to any person obtaining a copy\n",
       "  of this software and associated documentation files (the \"Software\"), to deal\n",
       "  in the Software without restriction, including without limitation the rights\n",
       "  to use, copy, modify, merge, publish, distribute, sublicense, and/or sell\n",
       "  copies of the Software, and to permit persons to whom the Software is\n",
       "  furnished to do so, subject to the following conditions:\n",
       "  \n",
       "  The above copyright notice and this permission notice shall be included in all\n",
       "  copies or substantial portions of the Software.\n",
       "  \n",
       "  THE SOFTWARE IS PROVIDED \"AS IS\", WITHOUT WARRANTY OF ANY KIND, EXPRESS OR\n",
       "  IMPLIED, INCLUDING BUT NOT LIMITED TO THE WARRANTIES OF MERCHANTABILITY,\n",
       "  FITNESS FOR A PARTICULAR PURPOSE AND NONINFRINGEMENT. IN NO EVENT SHALL THE\n",
       "  AUTHORS OR COPYRIGHT HOLDERS BE LIABLE FOR ANY CLAIM, DAMAGES OR OTHER\n",
       "  LIABILITY, WHETHER IN AN ACTION OF CONTRACT, TORT OR OTHERWISE, ARISING FROM,\n",
       "  OUT OF OR IN CONNECTION WITH THE SOFTWARE OR THE USE OR OTHER DEALINGS IN THE\n",
       "  SOFTWARE.,\n",
       "  'list': list,\n",
       "  'locals': <function locals>,\n",
       "  'map': map,\n",
       "  'max': <function max>,\n",
       "  'memoryview': memoryview,\n",
       "  'min': <function min>,\n",
       "  'next': <function next>,\n",
       "  'object': object,\n",
       "  'oct': <function oct>,\n",
       "  'open': <function io.open>,\n",
       "  'ord': <function ord>,\n",
       "  'pow': <function pow>,\n",
       "  'print': <function print>,\n",
       "  'property': property,\n",
       "  'range': range,\n",
       "  'repr': <function repr>,\n",
       "  'reversed': reversed,\n",
       "  'round': <function round>,\n",
       "  'set': set,\n",
       "  'setattr': <function setattr>,\n",
       "  'slice': slice,\n",
       "  'sorted': <function sorted>,\n",
       "  'staticmethod': staticmethod,\n",
       "  'str': str,\n",
       "  'sum': <function sum>,\n",
       "  'super': super,\n",
       "  'tuple': tuple,\n",
       "  'type': type,\n",
       "  'vars': <function vars>,\n",
       "  'zip': zip},\n",
       " '__cached__': 'C:\\\\Users\\\\derobertisna.UFAD\\\\Dropbox\\\\Python\\\\Dero\\\\__pycache__\\\\bar.cpython-35.pyc',\n",
       " '__doc__': None,\n",
       " '__file__': 'C:\\\\Users\\\\derobertisna.UFAD\\\\Dropbox\\\\Python\\\\Dero\\\\bar.py',\n",
       " '__loader__': <_frozen_importlib_external.SourceFileLoader at 0xc4f4085ef0>,\n",
       " '__name__': 'bar',\n",
       " '__package__': '',\n",
       " '__spec__': ModuleSpec(name='bar', loader=<_frozen_importlib_external.SourceFileLoader object at 0x000000C4F4085EF0>, origin='C:\\\\Users\\\\derobertisna.UFAD\\\\Dropbox\\\\Python\\\\Dero\\\\bar.py'),\n",
       " 'bar3': <function bar.bar3>,\n",
       " 'bar4': functools.partial(<function bar3 at 0x000000C4F407DAE8>, 5),\n",
       " 'partial': functools.partial}"
      ]
     },
     "execution_count": 23,
     "metadata": {},
     "output_type": "execute_result"
    }
   ],
   "source": [
    "vars(bar)"
   ]
  },
  {
   "cell_type": "code",
   "execution_count": 5,
   "metadata": {
    "collapsed": false
   },
   "outputs": [
    {
     "name": "stdout",
     "output_type": "stream",
     "text": [
      "Overwriting bar.py\n"
     ]
    }
   ],
   "source": [
    "%%writefile bar.py\n",
    "\n",
    "from functools import partial\n",
    "\n",
    "class Bar:\n",
    "\n",
    "    def bar1(self):\n",
    "        return 5\n",
    "\n",
    "    def bar2(self):\n",
    "        x = self.bar1()\n",
    "        return 6\n",
    "    \n",
    "def bar3(x):\n",
    "    return 7 + x\n",
    "\n",
    "bar4 = partial(bar3, 5)"
   ]
  },
  {
   "cell_type": "code",
   "execution_count": 17,
   "metadata": {
    "collapsed": false
   },
   "outputs": [],
   "source": [
    "crsp_dir=r'C:\\Users\\derobertisna.UFAD\\Desktop\\Data\\CRSP'\n",
    "file = 'dsenames'\n",
    "fullpath = os.path.join(crsp_dir, file + '.sas7bdat')\n",
    "names_df = dero.pandas.load_sas(fullpath)"
   ]
  },
  {
   "cell_type": "code",
   "execution_count": 24,
   "metadata": {
    "collapsed": false
   },
   "outputs": [
    {
     "data": {
      "text/plain": [
       "0        683916\n",
       "1        683916\n",
       "2        683916\n",
       "3        390406\n",
       "4        29274A\n",
       "5        29274A\n",
       "6        29274A\n",
       "7        29274A\n",
       "8        29274A\n",
       "9        29274A\n",
       "10       29269V\n",
       "11       29269V\n",
       "12       367204\n",
       "13       607401\n",
       "14       836234\n",
       "15       836234\n",
       "16       05978R\n",
       "17       05978R\n",
       "18       05978R\n",
       "19       390318\n",
       "20       390318\n",
       "21       189063\n",
       "22       958155\n",
       "23          NaN\n",
       "24          NaN\n",
       "25          NaN\n",
       "26       000800\n",
       "27       819491\n",
       "28       819491\n",
       "29       819491\n",
       "          ...  \n",
       "93509    444097\n",
       "93510    674215\n",
       "93511    73936Q\n",
       "93512    74733V\n",
       "93513    74733V\n",
       "93514    74733V\n",
       "93515    83001A\n",
       "93516    88166A\n",
       "93517    88166A\n",
       "93518    88166A\n",
       "93519    91167Q\n",
       "93520    91167Q\n",
       "93521    92835K\n",
       "93522    92835K\n",
       "93523    G3323L\n",
       "93524    G3323L\n",
       "93525    11133B\n",
       "93526    12503M\n",
       "93527    23248L\n",
       "93528    43358R\n",
       "93529    43358R\n",
       "93530    695255\n",
       "93531    695255\n",
       "93532    47737R\n",
       "93533    620107\n",
       "93534    92870X\n",
       "93535    92870X\n",
       "93536    785135\n",
       "93537    82936G\n",
       "93538    88160R\n",
       "Name: NCUSIP, dtype: object"
      ]
     },
     "execution_count": 24,
     "metadata": {},
     "output_type": "execute_result"
    }
   ],
   "source": [
    "names_df['NCUSIP'].apply(lambda x: x if pd.isnull(x) else x[:6])"
   ]
  },
  {
   "cell_type": "code",
   "execution_count": 19,
   "metadata": {
    "collapsed": false
   },
   "outputs": [
    {
     "ename": "TypeError",
     "evalue": "'float' object is not subscriptable",
     "traceback": [
      "\u001b[0;31m---------------------------------------------------------------------------\u001b[0m",
      "\u001b[0;31mTypeError\u001b[0m                                 Traceback (most recent call last)",
      "\u001b[0;32m<ipython-input-19-9c0197035091>\u001b[0m in \u001b[0;36m<module>\u001b[0;34m()\u001b[0m\n\u001b[0;32m----> 1\u001b[0;31m \u001b[0mnames_df\u001b[0m\u001b[0;34m[\u001b[0m\u001b[0;34m'NCUSIP'\u001b[0m\u001b[0;34m]\u001b[0m\u001b[0;34m.\u001b[0m\u001b[0mapply\u001b[0m\u001b[0;34m(\u001b[0m\u001b[0;32mlambda\u001b[0m \u001b[0mx\u001b[0m\u001b[0;34m:\u001b[0m \u001b[0mx\u001b[0m\u001b[0;34m[\u001b[0m\u001b[0;34m:\u001b[0m\u001b[0;36m6\u001b[0m\u001b[0;34m]\u001b[0m\u001b[0;34m)\u001b[0m\u001b[0;34m\u001b[0m\u001b[0m\n\u001b[0m",
      "\u001b[0;32mC:\\Anaconda3\\lib\\site-packages\\pandas\\core\\series.py\u001b[0m in \u001b[0;36mapply\u001b[0;34m(self, func, convert_dtype, args, **kwds)\u001b[0m\n\u001b[1;32m   2218\u001b[0m         \u001b[0;32melse\u001b[0m\u001b[0;34m:\u001b[0m\u001b[0;34m\u001b[0m\u001b[0m\n\u001b[1;32m   2219\u001b[0m             \u001b[0mvalues\u001b[0m \u001b[0;34m=\u001b[0m \u001b[0mself\u001b[0m\u001b[0;34m.\u001b[0m\u001b[0masobject\u001b[0m\u001b[0;34m\u001b[0m\u001b[0m\n\u001b[0;32m-> 2220\u001b[0;31m             \u001b[0mmapped\u001b[0m \u001b[0;34m=\u001b[0m \u001b[0mlib\u001b[0m\u001b[0;34m.\u001b[0m\u001b[0mmap_infer\u001b[0m\u001b[0;34m(\u001b[0m\u001b[0mvalues\u001b[0m\u001b[0;34m,\u001b[0m \u001b[0mf\u001b[0m\u001b[0;34m,\u001b[0m \u001b[0mconvert\u001b[0m\u001b[0;34m=\u001b[0m\u001b[0mconvert_dtype\u001b[0m\u001b[0;34m)\u001b[0m\u001b[0;34m\u001b[0m\u001b[0m\n\u001b[0m\u001b[1;32m   2221\u001b[0m \u001b[0;34m\u001b[0m\u001b[0m\n\u001b[1;32m   2222\u001b[0m         \u001b[0;32mif\u001b[0m \u001b[0mlen\u001b[0m\u001b[0;34m(\u001b[0m\u001b[0mmapped\u001b[0m\u001b[0;34m)\u001b[0m \u001b[0;32mand\u001b[0m \u001b[0misinstance\u001b[0m\u001b[0;34m(\u001b[0m\u001b[0mmapped\u001b[0m\u001b[0;34m[\u001b[0m\u001b[0;36m0\u001b[0m\u001b[0;34m]\u001b[0m\u001b[0;34m,\u001b[0m \u001b[0mSeries\u001b[0m\u001b[0;34m)\u001b[0m\u001b[0;34m:\u001b[0m\u001b[0;34m\u001b[0m\u001b[0m\n",
      "\u001b[0;32mpandas\\src\\inference.pyx\u001b[0m in \u001b[0;36mpandas.lib.map_infer (pandas\\lib.c:63043)\u001b[0;34m()\u001b[0m\n",
      "\u001b[0;32m<ipython-input-19-9c0197035091>\u001b[0m in \u001b[0;36m<lambda>\u001b[0;34m(x)\u001b[0m\n\u001b[0;32m----> 1\u001b[0;31m \u001b[0mnames_df\u001b[0m\u001b[0;34m[\u001b[0m\u001b[0;34m'NCUSIP'\u001b[0m\u001b[0;34m]\u001b[0m\u001b[0;34m.\u001b[0m\u001b[0mapply\u001b[0m\u001b[0;34m(\u001b[0m\u001b[0;32mlambda\u001b[0m \u001b[0mx\u001b[0m\u001b[0;34m:\u001b[0m \u001b[0mx\u001b[0m\u001b[0;34m[\u001b[0m\u001b[0;34m:\u001b[0m\u001b[0;36m6\u001b[0m\u001b[0;34m]\u001b[0m\u001b[0;34m)\u001b[0m\u001b[0;34m\u001b[0m\u001b[0m\n\u001b[0m",
      "\u001b[0;31mTypeError\u001b[0m: 'float' object is not subscriptable"
     ],
     "output_type": "error"
    }
   ],
   "source": [
    "names_df['NCUSIP'].apply(lambda x: x[:6])"
   ]
  },
  {
   "cell_type": "code",
   "execution_count": 14,
   "metadata": {
    "collapsed": false
   },
   "outputs": [
    {
     "data": {
      "text/plain": [
       "[[1, 2, 3], [1, 3, 3]]"
      ]
     },
     "execution_count": 14,
     "metadata": {},
     "output_type": "execute_result"
    }
   ],
   "source": [
    "a = [1,2,3]\n",
    "b = [i if i != 2 else 3 for i in a]\n",
    "[a,b]"
   ]
  },
  {
   "cell_type": "code",
   "execution_count": 12,
   "metadata": {
    "collapsed": false
   },
   "outputs": [
    {
     "name": "stdout",
     "output_type": "stream",
     "text": [
      "1 loop, best of 3: 3.42 s per loop\n"
     ]
    }
   ],
   "source": [
    "%timeit dero.pandas.portfolio(rand_df, 'rand', ngroups=4, byvars=['index'], multiprocess=False)\n",
    "# %timeit dero.pandas.portfolio(rand_df, 'rand', ngroups=4, byvars=['index'])"
   ]
  },
  {
   "cell_type": "markdown",
   "metadata": {},
   "source": [
    "Time to beat:"
   ]
  },
  {
   "cell_type": "code",
   "execution_count": 13,
   "metadata": {
    "collapsed": false
   },
   "outputs": [
    {
     "name": "stdout",
     "output_type": "stream",
     "text": [
      "1 loop, best of 3: 6min 22s per loop\n"
     ]
    },
    {
     "name": "stderr",
     "output_type": "stream",
     "text": [
      "C:\\Anaconda3\\lib\\site-packages\\ipykernel\\__main__.py:36: UserWarning: Boolean Series key will be reindexed to match DataFrame index.\n"
     ]
    }
   ],
   "source": [
    "%timeit orig_portfolio(rand_df, 'rand', ngroups=4, byvars=['index'])"
   ]
  },
  {
   "cell_type": "code",
   "execution_count": 7,
   "metadata": {
    "collapsed": false
   },
   "outputs": [],
   "source": [
    "# %%writefile portfolio_testing.py\n",
    "\n",
    "import numpy as np\n",
    "import pandas as pd\n",
    "from functools import partial\n",
    "from multiprocessing import Pool\n",
    "import timeit\n",
    "import time, datetime\n",
    "import logging\n",
    "import dero\n",
    "\n",
    "estimate_time = dero.time.estimate_time\n",
    "\n",
    "\n",
    "\n",
    "\n",
    "\n",
    "def portfolio(df, groupvar, ngroups=10, byvars=None, cutdf=None, portvar='portfolio',\n",
    "              multiprocess=True):\n",
    "    '''\n",
    "    Constructs portfolios based on percentile values of groupvar. If ngroups=10, then will form 10 portfolios,\n",
    "    with portfolio 1 having the bottom 10 percentile of groupvar, and portfolio 10 having the top 10 percentile\n",
    "    of groupvar.\n",
    "    \n",
    "    df: pandas dataframe, input data\n",
    "    groupvar: string, name of variable in df to form portfolios on\n",
    "    ngroups: integer, number of portfolios to form\n",
    "    byvars: string, list, or None, name of variable(s) in df, finds portfolios within byvars. For example if byvars='Month',\n",
    "            would take each month and form portfolios based on the percentiles of the groupvar during only that month\n",
    "    cutdf: pandas dataframe or None, optionally determine percentiles using another dataset. See second note.\n",
    "    portvar: string, name of portfolio variable in the output dataset\n",
    "    multiprocess: bool or int, set to True to use all available processors, \n",
    "                  set to False to use only one, pass an int less or equal to than number of \n",
    "                  processors to use that amount of processors \n",
    "    \n",
    "    NOTE: Resets index and drops in output data, so don't use if index is important (input data not affected)\n",
    "    NOTE: If using a cutdf, MUST have the same bygroups as df. The number of observations within each bygroup\n",
    "          can be different, but there MUST be a one-to-one match of bygroups, or this will NOT work correctly.\n",
    "          This may require some cleaning of the cutdf first.\n",
    "    '''\n",
    "    #Check types\n",
    "    _check_portfolio_inputs(df, groupvar, ngroups=ngroups, byvars=byvars, cutdf=cutdf, portvar=portvar)\n",
    "    byvars = _assert_byvars_list(byvars)\n",
    "    if cutdf != None:\n",
    "        assert isinstance(cutdf, pd.DataFrame)\n",
    "    else: #this is where cutdf == None, the default case\n",
    "        cutdf = df\n",
    "        tempcutdf = cutdf.copy()\n",
    "        \n",
    "    pct_per_group = int(100/ngroups)\n",
    "    percentiles = [i for i in range(0, 100 + pct_per_group, pct_per_group)] #percentile values, e.g. 0, 10, 20, 30... 100\n",
    "    \n",
    "    #Create new functions with common arguments added\n",
    "    create_cutoffs_and_sort_into_ports = partial(_create_cutoffs_and_sort_into_ports, \n",
    "                                       groupvar=groupvar, portvar=portvar, percentiles=percentiles)\n",
    "    split = partial(_split, keepvars=[groupvar], force_numeric=True)\n",
    "    sort_arr_list_into_ports_and_return_series = partial(_sort_arr_list_into_ports_and_return_series,\n",
    "                                                         percentiles=percentiles,\n",
    "                                                         multiprocess=multiprocess)\n",
    "    \n",
    "    outdf = df.copy()\n",
    "    \n",
    "    #If there are no byvars, just complete portfolio sort\n",
    "    if byvars == None: return create_cutoffs_and_sort_into_ports(outdf, cutdf)\n",
    "    \n",
    "    \n",
    "    #else, deal with byvars\n",
    "    #First create a key variable based on all the byvars\n",
    "    tempdf = df.copy().reset_index(drop=True)\n",
    "    for this_df in [tempdf, tempcutdf]:\n",
    "        this_df['__key_var__'] = 'key' #container for key\n",
    "        for col in [this_df[c].astype(str) for c in byvars]:\n",
    "            this_df['__key_var__'] += col\n",
    "    \n",
    "    #Now split into list of arrays and process\n",
    "    array_list = split(tempdf)\n",
    "    cut_array_list = split(tempcutdf)\n",
    "    outdf[portvar] = sort_arr_list_into_ports_and_return_series(array_list, cut_array_list)\n",
    "    return outdf"
   ]
  },
  {
   "cell_type": "code",
   "execution_count": 4,
   "metadata": {
    "collapsed": false
   },
   "outputs": [
    {
     "name": "stderr",
     "output_type": "stream",
     "text": [
      "C:\\Anaconda3\\lib\\site-packages\\ipykernel\\__main__.py:17: SettingWithCopyWarning: \n",
      "A value is trying to be set on a copy of a slice from a DataFrame.\n",
      "Try using .loc[row_indexer,col_indexer] = value instead\n",
      "\n",
      "See the caveats in the documentation: http://pandas.pydata.org/pandas-docs/stable/indexing.html#indexing-view-versus-copy\n",
      "C:\\Anaconda3\\lib\\site-packages\\pandas\\core\\indexing.py:465: SettingWithCopyWarning: \n",
      "A value is trying to be set on a copy of a slice from a DataFrame.\n",
      "Try using .loc[row_indexer,col_indexer] = value instead\n",
      "\n",
      "See the caveats in the documentation: http://pandas.pydata.org/pandas-docs/stable/indexing.html#indexing-view-versus-copy\n",
      "  self.obj[item] = s\n"
     ]
    },
    {
     "data": {
      "text/html": [
       "<div>\n",
       "<table border=\"1\" class=\"dataframe\">\n",
       "  <thead>\n",
       "    <tr style=\"text-align: right;\">\n",
       "      <th></th>\n",
       "      <th>PERMNO</th>\n",
       "      <th>byvar</th>\n",
       "      <th>Date</th>\n",
       "      <th>RET</th>\n",
       "      <th>portvar</th>\n",
       "    </tr>\n",
       "  </thead>\n",
       "  <tbody>\n",
       "    <tr>\n",
       "      <th>8</th>\n",
       "      <td>10517</td>\n",
       "      <td>a</td>\n",
       "      <td>1/1/2000</td>\n",
       "      <td>1.09</td>\n",
       "      <td>1</td>\n",
       "    </tr>\n",
       "    <tr>\n",
       "      <th>9</th>\n",
       "      <td>10517</td>\n",
       "      <td>a</td>\n",
       "      <td>1/2/2000</td>\n",
       "      <td>1.10</td>\n",
       "      <td>1</td>\n",
       "    </tr>\n",
       "    <tr>\n",
       "      <th>10</th>\n",
       "      <td>10517</td>\n",
       "      <td>a</td>\n",
       "      <td>1/3/2000</td>\n",
       "      <td>1.11</td>\n",
       "      <td>2</td>\n",
       "    </tr>\n",
       "    <tr>\n",
       "      <th>11</th>\n",
       "      <td>10517</td>\n",
       "      <td>a</td>\n",
       "      <td>1/4/2000</td>\n",
       "      <td>1.12</td>\n",
       "      <td>2</td>\n",
       "    </tr>\n",
       "  </tbody>\n",
       "</table>\n",
       "</div>"
      ],
      "text/plain": [
       "    PERMNO byvar      Date   RET  portvar\n",
       "8    10517     a  1/1/2000  1.09        1\n",
       "9    10517     a  1/2/2000  1.10        1\n",
       "10   10517     a  1/3/2000  1.11        2\n",
       "11   10517     a  1/4/2000  1.12        2"
      ]
     },
     "execution_count": 4,
     "metadata": {},
     "output_type": "execute_result"
    }
   ],
   "source": [
    "bydf = df.loc[df['PERMNO'] == 10517]\n",
    "ngroups = 2\n",
    "\n",
    "pct_per_group = int(100/ngroups)\n",
    "percentiles = [i for i in range(0, 100 + pct_per_group, pct_per_group)] #percentile values, e.g. 0, 10, 20, 30... 100\n",
    "    \n",
    "cutoffs = _create_cutoffs(bydf, 'RET', percentiles)\n",
    "_sort_into_ports(bydf, cutoffs, 'portvar', 'RET')"
   ]
  },
  {
   "cell_type": "code",
   "execution_count": 5,
   "metadata": {
    "collapsed": false
   },
   "outputs": [
    {
     "data": {
      "text/plain": [
       "[array([[1.01],\n",
       "        [1.02],\n",
       "        [1.03],\n",
       "        [1.04],\n",
       "        [1.05],\n",
       "        [1.06],\n",
       "        [1.07],\n",
       "        [1.08]], dtype=object), array([[1.09],\n",
       "        [1.1],\n",
       "        [1.11],\n",
       "        [1.12]], dtype=object)]"
      ]
     },
     "execution_count": 5,
     "metadata": {},
     "output_type": "execute_result"
    }
   ],
   "source": [
    "df['__key_var__'] = df['PERMNO'].apply(lambda x: 'key' + str(x))\n",
    "df_arr_list = _split(df, ['RET'])\n",
    "df_arr_list"
   ]
  },
  {
   "cell_type": "markdown",
   "metadata": {},
   "source": [
    "Run this block below to check if portfolio still works properly"
   ]
  },
  {
   "cell_type": "code",
   "execution_count": 37,
   "metadata": {
    "collapsed": false
   },
   "outputs": [],
   "source": [
    "large_indf = pd.DataFrame()\n",
    "for i in range(10):\n",
    "    large_indf = pd.concat([large_indf, indf], axis=0)\n",
    "large_indf = large_indf.reset_index(drop=True)"
   ]
  },
  {
   "cell_type": "code",
   "execution_count": 15,
   "metadata": {
    "collapsed": false
   },
   "outputs": [
    {
     "name": "stdout",
     "output_type": "stream",
     "text": [
      "> \u001b[0;32m<ipython-input-13-a97401e757eb>\u001b[0m(46)\u001b[0;36m_create_cutoffs_arr\u001b[0;34m()\u001b[0m\n",
      "\u001b[0;32m     44 \u001b[0;31m\u001b[0;34m\u001b[0m\u001b[0m\n",
      "\u001b[0m\u001b[0;32m     45 \u001b[0;31m\u001b[0;32mdef\u001b[0m \u001b[0m_create_cutoffs_arr\u001b[0m\u001b[0;34m(\u001b[0m\u001b[0marr\u001b[0m\u001b[0;34m,\u001b[0m \u001b[0mpercentiles\u001b[0m\u001b[0;34m)\u001b[0m\u001b[0;34m:\u001b[0m\u001b[0;34m\u001b[0m\u001b[0m\n",
      "\u001b[0m\u001b[0;32m---> 46 \u001b[0;31m    \u001b[0marr\u001b[0m \u001b[0;34m=\u001b[0m \u001b[0marr\u001b[0m\u001b[0;34m[\u001b[0m\u001b[0;34m~\u001b[0m\u001b[0mnp\u001b[0m\u001b[0;34m.\u001b[0m\u001b[0misnan\u001b[0m\u001b[0;34m(\u001b[0m\u001b[0marr\u001b[0m\u001b[0;34m)\u001b[0m\u001b[0;34m]\u001b[0m\u001b[0;34m\u001b[0m\u001b[0m\n",
      "\u001b[0m\u001b[0;32m     47 \u001b[0;31m    \u001b[0;32mreturn\u001b[0m \u001b[0;34m[\u001b[0m\u001b[0mnp\u001b[0m\u001b[0;34m.\u001b[0m\u001b[0mpercentile\u001b[0m\u001b[0;34m(\u001b[0m\u001b[0marr\u001b[0m\u001b[0;34m,\u001b[0m \u001b[0mi\u001b[0m\u001b[0;34m)\u001b[0m \u001b[0;32mfor\u001b[0m \u001b[0mi\u001b[0m \u001b[0;32min\u001b[0m \u001b[0mpercentiles\u001b[0m\u001b[0;34m]\u001b[0m\u001b[0;34m\u001b[0m\u001b[0m\n",
      "\u001b[0m\u001b[0;32m     48 \u001b[0;31m\u001b[0;34m\u001b[0m\u001b[0m\n",
      "\u001b[0m\n",
      "ipdb> arr.dtype\n",
      "dtype('O')\n",
      "ipdb> q\n"
     ]
    }
   ],
   "source": [
    "%debug"
   ]
  },
  {
   "cell_type": "markdown",
   "metadata": {},
   "source": [
    "Original portfolio"
   ]
  },
  {
   "cell_type": "code",
   "execution_count": 35,
   "metadata": {
    "collapsed": false
   },
   "outputs": [
    {
     "name": "stdout",
     "output_type": "stream",
     "text": [
      "pd.DataFrame(data = [\n",
      "(10516, 'a', '1/1/2000', nan, 0),\n",
      "(10516, 'a', '1/2/2000', 1.02, 1),\n",
      "(10516, 'a', '1/3/2000', 1.03, 1),\n",
      "(10516, 'a', '1/4/2000', 1.04, 1),\n",
      "(10516, 'b', '1/1/2000', 1.05, 1),\n",
      "(10516, 'b', '1/2/2000', 1.06, 1),\n",
      "(10516, 'b', '1/3/2000', 1.07, 2),\n",
      "(10516, 'b', '1/4/2000', 1.08, 2),\n",
      "(10517, 'a', '1/1/2000', 1.09, 2),\n",
      "(10517, 'a', '1/2/2000', 1.1, 2),\n",
      "(10517, 'a', '1/3/2000', 1.11, 2),\n",
      "(10517, 'a', '1/4/2000', 1.12, 2),\n",
      "], columns = ['PERMNO', 'byvar', 'Date', 'RET', 'portfolio'])\n"
     ]
    }
   ],
   "source": [
    "a = orig_portfolio(indf, 'RET', ngroups=2)\n",
    "dero.pandas.to_copy_paste(a)"
   ]
  },
  {
   "cell_type": "code",
   "execution_count": 3,
   "metadata": {
    "collapsed": true
   },
   "outputs": [],
   "source": [
    "import numpy as np\n",
    "\n",
    "def orig_portfolio(df, groupvar, ngroups=10, byvars=None, cutdf=None, portvar='portfolio'):\n",
    "    '''\n",
    "    Constructs portfolios based on percentile values of groupvar. If ngroups=10, then will form 10 portfolios,\n",
    "    with portfolio 1 having the bottom 10 percentile of groupvar, and portfolio 10 having the top 10 percentile\n",
    "    of groupvar.\n",
    "    \n",
    "    df: pandas dataframe, input data\n",
    "    groupvar: string, name of variable in df to form portfolios on\n",
    "    ngroups: integer, number of portfolios to form\n",
    "    byvars: string, list, or None, name of variable(s) in df, finds portfolios within byvars. For example if byvars='Month',\n",
    "            would take each month and form portfolios based on the percentiles of the groupvar during only that month\n",
    "    cutdf: pandas dataframe or None, optionally determine percentiles using another dataset\n",
    "    portvar: string, name of portfolio variable in the output dataset\n",
    "    \n",
    "    NOTE: Resets index and drops in output data, so don't use if index is important (input data not affected)\n",
    "    '''\n",
    "    #Check types\n",
    "    assert isinstance(df, pd.DataFrame)\n",
    "    assert isinstance(groupvar, str)\n",
    "    assert isinstance(ngroups, int)\n",
    "    if byvars != None:\n",
    "        if isinstance(byvars, str): byvars = [byvars]\n",
    "        else:\n",
    "            assert isinstance(byvars, list)\n",
    "    if cutdf != None:\n",
    "        assert isinstance(cutdf, pd.DataFrame)\n",
    "    else: #this is where cutdf == None, the default case\n",
    "        cutdf = df\n",
    "        tempcutdf = cutdf.copy()\n",
    "        \n",
    "    def sort_into_ports(df, cutoffs, portvar=portvar, groupvar=groupvar):\n",
    "        df[portvar] = 0\n",
    "        for i, (low_cut, high_cut) in enumerate(zip(cutoffs[:-1],cutoffs[1:])):\n",
    "                rows = df[(outdf[groupvar] >= low_cut) & (df[groupvar] <= high_cut)].index\n",
    "                df.loc[rows, portvar] = i + 1\n",
    "        return df\n",
    "\n",
    "    outdf = df.copy().reset_index(drop=True)\n",
    "    \n",
    "    pct_per_group = int(100/ngroups)\n",
    "    percentiles = [i for i in range(0, 100 + pct_per_group, pct_per_group)] #percentile values, e.g. 0, 10, 20, 30... 100\n",
    "\n",
    "    if byvars == None:\n",
    "        cutoffs = [np.nanpercentile(cutdf[groupvar], i) for i in percentiles] #values of variable associated with percentiles\n",
    "        return sort_into_ports(outdf, cutoffs)\n",
    "    else: #here we have to deal with byvars\n",
    "        #First create a key variable based on all the byvars\n",
    "        outdf['key'] = 'key' #container for key\n",
    "        tempcutdf['key'] = 'key'\n",
    "        for col in [outdf[c].astype(str) for c in byvars]:\n",
    "            outdf['key'] += col\n",
    "            tempcutdf['key'] += col\n",
    "        key_list = outdf['key'].unique().tolist()\n",
    "        #Now calculate cutoffs. We will have one set of cutoffs for each key.\n",
    "        outdf2 = pd.DataFrame()\n",
    "        \n",
    "        for key in key_list:\n",
    "            keydf =    outdf[outdf['key'] == key].copy()\n",
    "            keycutdf = tempcutdf[tempcutdf['key'] == key]\n",
    "            cutoffs = [np.nanpercentile(keycutdf[groupvar], i) for i in percentiles]\n",
    "            keydf = sort_into_ports(keydf, cutoffs)\n",
    "            outdf2 = outdf2.append(keydf)\n",
    "            \n",
    "        outdf2.drop('key', axis=1, inplace=True)\n",
    "            \n",
    "        return outdf2.sort_index()"
   ]
  },
  {
   "cell_type": "code",
   "execution_count": 1,
   "metadata": {
    "collapsed": true
   },
   "outputs": [],
   "source": [
    "import dero\n",
    "import pandas as pd\n",
    "# inpath = r'C:\\Users\\derobertisna.UFAD\\Dropbox\\UF\\Investor Attention\\Other Data\\POSTDATA_HLSPREAD_26_14_TICKER_v2014_1.csv'\n",
    "inpath = r'C:\\Users\\derobertisna.UFAD\\Dropbox\\UF\\Investor Attention\\merged data.csv'\n",
    "\n",
    "def create_reg_variables(df):\n",
    "    \"\"\"\n",
    "    Creates other variables necessary for abnormal volume regression. \n",
    "    \n",
    "    Note: inplace\n",
    "    \"\"\"\n",
    "    df['total_polar_news'] = df['news_negative'] + df['news_positive']\n",
    "    df['advertising ratio'] = df['xad']/df['saleq']\n",
    "    df['profit margin'] = df['niq']/df['saleq']\n",
    "    df['invest ratio'] = df['capxq']/df['atq']\n",
    "    df['bm'] = df['ceqq']/df['mktcap']\n",
    "\n",
    "df = pd.read_csv(inpath)\n",
    "create_reg_variables(df)"
   ]
  },
  {
   "cell_type": "code",
   "execution_count": null,
   "metadata": {
    "collapsed": false
   },
   "outputs": [],
   "source": [
    "df = df.loc[:5000]"
   ]
  },
  {
   "cell_type": "code",
   "execution_count": 3,
   "metadata": {
    "collapsed": true
   },
   "outputs": [],
   "source": [
    "for date in ['Date', 'datadate_a', 'datadate_q', 'rdate']:\n",
    "    df[date] = pd.to_datetime(df[date])\n",
    "    \n",
    "create_reg_variables(df)"
   ]
  },
  {
   "cell_type": "code",
   "execution_count": 9,
   "metadata": {
    "collapsed": false
   },
   "outputs": [],
   "source": [
    "dero.pandas.show_df(df.loc[df['TICKER'] == 'AAN'])"
   ]
  },
  {
   "cell_type": "code",
   "execution_count": 1,
   "metadata": {
    "collapsed": true
   },
   "outputs": [],
   "source": [
    ""
   ]
  },
  {
   "cell_type": "code",
   "execution_count": 4,
   "metadata": {
    "collapsed": false
   },
   "outputs": [
    {
     "data": {
      "text/plain": [
       "Index(['volume', 'TICKER', 'Date', 'PERMNO', 'RET-1', 'RET12', 'RET24',\n",
       "       'RET36', 'RET48', 'RET60', 'cum_RET-1', 'cum_RET12', 'cum_RET24',\n",
       "       'cum_RET36', 'cum_RET48', 'cum_RET60', 'PRC', 'RET', 'SHROUT', 'VOL',\n",
       "       'mktcap', 'idio vol', 'extreme_ret', 'HLSPREAD', 'Year', 'Month',\n",
       "       'GVKEY', 'turnover', 'news_negative', 'news_neutral', 'news_positive',\n",
       "       'datadate_a', 'xad', 'datadate_q', 'saleq', 'atq', 'ceqq', 'niq',\n",
       "       'capxq', 'rdate', 'inst', 'passive inst', 'perm passive inst'],\n",
       "      dtype='object')"
      ]
     },
     "execution_count": 4,
     "metadata": {},
     "output_type": "execute_result"
    }
   ],
   "source": [
    "df.columns"
   ]
  },
  {
   "cell_type": "code",
   "execution_count": 14,
   "metadata": {
    "collapsed": false
   },
   "outputs": [
    {
     "data": {
      "text/html": [
       "<div>\n",
       "<table border=\"1\" class=\"dataframe\">\n",
       "  <thead>\n",
       "    <tr style=\"text-align: right;\">\n",
       "      <th></th>\n",
       "      <th>volume</th>\n",
       "      <th>extreme_ret</th>\n",
       "      <th>total_polar_news</th>\n",
       "      <th>turnover</th>\n",
       "      <th>advertising ratio</th>\n",
       "    </tr>\n",
       "  </thead>\n",
       "  <tbody>\n",
       "    <tr>\n",
       "      <th>volume</th>\n",
       "      <td>1.000000</td>\n",
       "      <td>0.051397</td>\n",
       "      <td>0.669575</td>\n",
       "      <td>0.631262</td>\n",
       "      <td>-0.068177</td>\n",
       "    </tr>\n",
       "    <tr>\n",
       "      <th>extreme_ret</th>\n",
       "      <td>0.051397</td>\n",
       "      <td>1.000000</td>\n",
       "      <td>-0.044320</td>\n",
       "      <td>0.194514</td>\n",
       "      <td>0.046064</td>\n",
       "    </tr>\n",
       "    <tr>\n",
       "      <th>total_polar_news</th>\n",
       "      <td>0.669575</td>\n",
       "      <td>-0.044320</td>\n",
       "      <td>1.000000</td>\n",
       "      <td>0.323530</td>\n",
       "      <td>-0.045110</td>\n",
       "    </tr>\n",
       "    <tr>\n",
       "      <th>turnover</th>\n",
       "      <td>0.631262</td>\n",
       "      <td>0.194514</td>\n",
       "      <td>0.323530</td>\n",
       "      <td>1.000000</td>\n",
       "      <td>0.133804</td>\n",
       "    </tr>\n",
       "    <tr>\n",
       "      <th>advertising ratio</th>\n",
       "      <td>-0.068177</td>\n",
       "      <td>0.046064</td>\n",
       "      <td>-0.045110</td>\n",
       "      <td>0.133804</td>\n",
       "      <td>1.000000</td>\n",
       "    </tr>\n",
       "  </tbody>\n",
       "</table>\n",
       "</div>"
      ],
      "text/plain": [
       "                     volume  extreme_ret  total_polar_news  turnover  \\\n",
       "volume             1.000000     0.051397          0.669575  0.631262   \n",
       "extreme_ret        0.051397     1.000000         -0.044320  0.194514   \n",
       "total_polar_news   0.669575    -0.044320          1.000000  0.323530   \n",
       "turnover           0.631262     0.194514          0.323530  1.000000   \n",
       "advertising ratio -0.068177     0.046064         -0.045110  0.133804   \n",
       "\n",
       "                   advertising ratio  \n",
       "volume                     -0.068177  \n",
       "extreme_ret                 0.046064  \n",
       "total_polar_news           -0.045110  \n",
       "turnover                    0.133804  \n",
       "advertising ratio           1.000000  "
      ]
     },
     "execution_count": 14,
     "metadata": {},
     "output_type": "execute_result"
    }
   ],
   "source": [
    "df.dropna(subset=['volume'] + xvars)[['volume','extreme_ret','total_polar_news','turnover','advertising ratio']].corr()"
   ]
  },
  {
   "cell_type": "code",
   "execution_count": 35,
   "metadata": {
    "collapsed": false
   },
   "outputs": [
    {
     "data": {
      "text/plain": [
       "2046"
      ]
     },
     "execution_count": 35,
     "metadata": {},
     "output_type": "execute_result"
    }
   ],
   "source": [
    "xvars = ['atq','bm','idio vol','extreme_ret','HLSPREAD','turnover','total_polar_news',\n",
    "         'advertising ratio', 'profit margin', 'invest ratio', 'inst']\n",
    "j = 0\n",
    "for i in range(1, len(xvars)):\n",
    "        for combo in itertools.combinations(xvars, i):\n",
    "            j += 1\n",
    "j"
   ]
  },
  {
   "cell_type": "code",
   "execution_count": 82,
   "metadata": {
    "collapsed": false
   },
   "outputs": [
    {
     "data": {
      "text/html": [
       "<div>\n",
       "<table border=\"1\" class=\"dataframe\">\n",
       "  <thead>\n",
       "    <tr style=\"text-align: right;\">\n",
       "      <th></th>\n",
       "      <th>volume</th>\n",
       "      <th>TICKER</th>\n",
       "      <th>Date</th>\n",
       "      <th>PERMNO</th>\n",
       "      <th>RET-1</th>\n",
       "      <th>RET12</th>\n",
       "      <th>RET24</th>\n",
       "      <th>RET36</th>\n",
       "      <th>RET48</th>\n",
       "      <th>RET60</th>\n",
       "      <th>...</th>\n",
       "      <th>capxq</th>\n",
       "      <th>rdate</th>\n",
       "      <th>inst</th>\n",
       "      <th>passive inst</th>\n",
       "      <th>perm passive inst</th>\n",
       "      <th>total_polar_news</th>\n",
       "      <th>advertising ratio</th>\n",
       "      <th>profit margin</th>\n",
       "      <th>invest ratio</th>\n",
       "      <th>bm</th>\n",
       "    </tr>\n",
       "  </thead>\n",
       "  <tbody>\n",
       "    <tr>\n",
       "      <th>138</th>\n",
       "      <td>0.0</td>\n",
       "      <td>AAII</td>\n",
       "      <td>2004-01-01</td>\n",
       "      <td>83918.0</td>\n",
       "      <td>0.392027</td>\n",
       "      <td>-0.178462</td>\n",
       "      <td>NaN</td>\n",
       "      <td>NaN</td>\n",
       "      <td>NaN</td>\n",
       "      <td>NaN</td>\n",
       "      <td>...</td>\n",
       "      <td>2.043</td>\n",
       "      <td>2003-12-31</td>\n",
       "      <td>0.779962</td>\n",
       "      <td>0.463083</td>\n",
       "      <td>0.538439</td>\n",
       "      <td>4.0</td>\n",
       "      <td>0.113970</td>\n",
       "      <td>-0.346682</td>\n",
       "      <td>0.003822</td>\n",
       "      <td>0.000093</td>\n",
       "    </tr>\n",
       "    <tr>\n",
       "      <th>139</th>\n",
       "      <td>0.0</td>\n",
       "      <td>AAII</td>\n",
       "      <td>2004-02-01</td>\n",
       "      <td>83918.0</td>\n",
       "      <td>0.126889</td>\n",
       "      <td>-0.138577</td>\n",
       "      <td>NaN</td>\n",
       "      <td>NaN</td>\n",
       "      <td>NaN</td>\n",
       "      <td>NaN</td>\n",
       "      <td>...</td>\n",
       "      <td>2.043</td>\n",
       "      <td>2003-12-31</td>\n",
       "      <td>0.779962</td>\n",
       "      <td>0.463083</td>\n",
       "      <td>0.538439</td>\n",
       "      <td>46.0</td>\n",
       "      <td>0.113970</td>\n",
       "      <td>-0.346682</td>\n",
       "      <td>0.003822</td>\n",
       "      <td>0.000173</td>\n",
       "    </tr>\n",
       "    <tr>\n",
       "      <th>140</th>\n",
       "      <td>0.0</td>\n",
       "      <td>AAII</td>\n",
       "      <td>2004-03-01</td>\n",
       "      <td>83918.0</td>\n",
       "      <td>-0.460642</td>\n",
       "      <td>-0.691304</td>\n",
       "      <td>NaN</td>\n",
       "      <td>NaN</td>\n",
       "      <td>NaN</td>\n",
       "      <td>NaN</td>\n",
       "      <td>...</td>\n",
       "      <td>2.043</td>\n",
       "      <td>2003-12-31</td>\n",
       "      <td>0.779962</td>\n",
       "      <td>0.463083</td>\n",
       "      <td>0.538439</td>\n",
       "      <td>48.0</td>\n",
       "      <td>0.113970</td>\n",
       "      <td>-0.346682</td>\n",
       "      <td>0.003822</td>\n",
       "      <td>0.000394</td>\n",
       "    </tr>\n",
       "    <tr>\n",
       "      <th>141</th>\n",
       "      <td>0.0</td>\n",
       "      <td>AAII</td>\n",
       "      <td>2004-04-01</td>\n",
       "      <td>83918.0</td>\n",
       "      <td>-0.566099</td>\n",
       "      <td>NaN</td>\n",
       "      <td>NaN</td>\n",
       "      <td>NaN</td>\n",
       "      <td>NaN</td>\n",
       "      <td>NaN</td>\n",
       "      <td>...</td>\n",
       "      <td>2.572</td>\n",
       "      <td>2004-03-31</td>\n",
       "      <td>0.629700</td>\n",
       "      <td>0.525235</td>\n",
       "      <td>0.412807</td>\n",
       "      <td>38.0</td>\n",
       "      <td>0.136783</td>\n",
       "      <td>-0.847573</td>\n",
       "      <td>0.005127</td>\n",
       "      <td>0.000154</td>\n",
       "    </tr>\n",
       "    <tr>\n",
       "      <th>142</th>\n",
       "      <td>0.0</td>\n",
       "      <td>AAII</td>\n",
       "      <td>2004-05-01</td>\n",
       "      <td>83918.0</td>\n",
       "      <td>-0.040724</td>\n",
       "      <td>NaN</td>\n",
       "      <td>NaN</td>\n",
       "      <td>NaN</td>\n",
       "      <td>NaN</td>\n",
       "      <td>NaN</td>\n",
       "      <td>...</td>\n",
       "      <td>2.572</td>\n",
       "      <td>2004-03-31</td>\n",
       "      <td>0.629700</td>\n",
       "      <td>0.525235</td>\n",
       "      <td>0.412807</td>\n",
       "      <td>6.0</td>\n",
       "      <td>0.136783</td>\n",
       "      <td>-0.847573</td>\n",
       "      <td>0.005127</td>\n",
       "      <td>0.000212</td>\n",
       "    </tr>\n",
       "  </tbody>\n",
       "</table>\n",
       "<p>5 rows × 48 columns</p>\n",
       "</div>"
      ],
      "text/plain": [
       "     volume TICKER       Date   PERMNO     RET-1     RET12  RET24  RET36  \\\n",
       "138     0.0   AAII 2004-01-01  83918.0  0.392027 -0.178462    NaN    NaN   \n",
       "139     0.0   AAII 2004-02-01  83918.0  0.126889 -0.138577    NaN    NaN   \n",
       "140     0.0   AAII 2004-03-01  83918.0 -0.460642 -0.691304    NaN    NaN   \n",
       "141     0.0   AAII 2004-04-01  83918.0 -0.566099       NaN    NaN    NaN   \n",
       "142     0.0   AAII 2004-05-01  83918.0 -0.040724       NaN    NaN    NaN   \n",
       "\n",
       "     RET48  RET60    ...     capxq      rdate      inst  passive inst  \\\n",
       "138    NaN    NaN    ...     2.043 2003-12-31  0.779962      0.463083   \n",
       "139    NaN    NaN    ...     2.043 2003-12-31  0.779962      0.463083   \n",
       "140    NaN    NaN    ...     2.043 2003-12-31  0.779962      0.463083   \n",
       "141    NaN    NaN    ...     2.572 2004-03-31  0.629700      0.525235   \n",
       "142    NaN    NaN    ...     2.572 2004-03-31  0.629700      0.525235   \n",
       "\n",
       "     perm passive inst  total_polar_news  advertising ratio  profit margin  \\\n",
       "138           0.538439               4.0           0.113970      -0.346682   \n",
       "139           0.538439              46.0           0.113970      -0.346682   \n",
       "140           0.538439              48.0           0.113970      -0.346682   \n",
       "141           0.412807              38.0           0.136783      -0.847573   \n",
       "142           0.412807               6.0           0.136783      -0.847573   \n",
       "\n",
       "     invest ratio        bm  \n",
       "138      0.003822  0.000093  \n",
       "139      0.003822  0.000173  \n",
       "140      0.003822  0.000394  \n",
       "141      0.005127  0.000154  \n",
       "142      0.005127  0.000212  \n",
       "\n",
       "[5 rows x 48 columns]"
      ]
     },
     "execution_count": 82,
     "metadata": {},
     "output_type": "execute_result"
    }
   ],
   "source": [
    "regdf.head()"
   ]
  },
  {
   "cell_type": "code",
   "execution_count": 84,
   "metadata": {
    "collapsed": false
   },
   "outputs": [
    {
     "data": {
      "text/html": [
       "<table class=\"simpletable\">\n",
       "<caption>OLS Regression Results</caption>\n",
       "<tr>\n",
       "  <th>Dep. Variable:</th>         <td>volume</td>      <th>  R-squared:         </th> <td>   0.785</td> \n",
       "</tr>\n",
       "<tr>\n",
       "  <th>Model:</th>                   <td>OLS</td>       <th>  Adj. R-squared:    </th> <td>   0.782</td> \n",
       "</tr>\n",
       "<tr>\n",
       "  <th>Method:</th>             <td>Least Squares</td>  <th>  F-statistic:       </th> <td>1.535e+15</td>\n",
       "</tr>\n",
       "<tr>\n",
       "  <th>Date:</th>             <td>Wed, 27 Jul 2016</td> <th>  Prob (F-statistic):</th> <td>4.24e-60</td> \n",
       "</tr>\n",
       "<tr>\n",
       "  <th>Time:</th>                 <td>17:04:38</td>     <th>  Log-Likelihood:    </th> <td> -10802.</td> \n",
       "</tr>\n",
       "<tr>\n",
       "  <th>No. Observations:</th>      <td>   762</td>      <th>  AIC:               </th> <td>2.163e+04</td>\n",
       "</tr>\n",
       "<tr>\n",
       "  <th>Df Residuals:</th>          <td>   748</td>      <th>  BIC:               </th> <td>2.170e+04</td>\n",
       "</tr>\n",
       "<tr>\n",
       "  <th>Df Model:</th>              <td>    13</td>      <th>                     </th>     <td> </td>    \n",
       "</tr>\n",
       "<tr>\n",
       "  <th>Covariance Type:</th>       <td>cluster</td>     <th>                     </th>     <td> </td>    \n",
       "</tr>\n",
       "</table>\n",
       "<table class=\"simpletable\">\n",
       "<tr>\n",
       "          <td></td>             <th>coef</th>     <th>std err</th>      <th>z</th>      <th>P>|z|</th> <th>[95.0% Conf. Int.]</th> \n",
       "</tr>\n",
       "<tr>\n",
       "  <th>const</th>             <td> 3.076e+04</td> <td> 1.23e+05</td> <td>    0.250</td> <td> 0.803</td> <td>-2.11e+05  2.72e+05</td>\n",
       "</tr>\n",
       "<tr>\n",
       "  <th>atq</th>               <td>   10.7554</td> <td>    1.800</td> <td>    5.974</td> <td> 0.000</td> <td>    7.227    14.284</td>\n",
       "</tr>\n",
       "<tr>\n",
       "  <th>bm</th>                <td>-6.448e+06</td> <td> 8.25e+07</td> <td>   -0.078</td> <td> 0.938</td> <td>-1.68e+08  1.55e+08</td>\n",
       "</tr>\n",
       "<tr>\n",
       "  <th>idio vol</th>          <td>-1.183e+07</td> <td> 3.78e+06</td> <td>   -3.127</td> <td> 0.002</td> <td>-1.92e+07 -4.41e+06</td>\n",
       "</tr>\n",
       "<tr>\n",
       "  <th>extreme_ret</th>       <td> 3.988e+04</td> <td> 2.97e+04</td> <td>    1.344</td> <td> 0.179</td> <td>-1.83e+04  9.81e+04</td>\n",
       "</tr>\n",
       "<tr>\n",
       "  <th>HLSPREAD</th>          <td> 7.356e+06</td> <td> 4.69e+06</td> <td>    1.570</td> <td> 0.116</td> <td>-1.83e+06  1.65e+07</td>\n",
       "</tr>\n",
       "<tr>\n",
       "  <th>turnover</th>          <td> 1.871e+06</td> <td> 6.08e+05</td> <td>    3.077</td> <td> 0.002</td> <td> 6.79e+05  3.06e+06</td>\n",
       "</tr>\n",
       "<tr>\n",
       "  <th>total_polar_news</th>  <td>  149.9754</td> <td>  389.627</td> <td>    0.385</td> <td> 0.700</td> <td> -613.680   913.631</td>\n",
       "</tr>\n",
       "<tr>\n",
       "  <th>advertising ratio</th> <td>-6.927e+05</td> <td> 4.48e+05</td> <td>   -1.545</td> <td> 0.122</td> <td>-1.57e+06  1.86e+05</td>\n",
       "</tr>\n",
       "<tr>\n",
       "  <th>profit margin</th>     <td>-8.099e+04</td> <td> 1.21e+05</td> <td>   -0.672</td> <td> 0.502</td> <td>-3.17e+05  1.55e+05</td>\n",
       "</tr>\n",
       "<tr>\n",
       "  <th>invest ratio</th>      <td> 2.585e+06</td> <td> 2.09e+06</td> <td>    1.235</td> <td> 0.217</td> <td>-1.52e+06  6.69e+06</td>\n",
       "</tr>\n",
       "<tr>\n",
       "  <th>inst</th>              <td>-1.089e+06</td> <td> 4.63e+05</td> <td>   -2.352</td> <td> 0.019</td> <td>   -2e+06 -1.81e+05</td>\n",
       "</tr>\n",
       "<tr>\n",
       "  <th>passive inst</th>      <td> 9.964e+05</td> <td> 3.77e+05</td> <td>    2.642</td> <td> 0.008</td> <td> 2.57e+05  1.74e+06</td>\n",
       "</tr>\n",
       "<tr>\n",
       "  <th>perm passive inst</th> <td> 2.657e+05</td> <td> 2.94e+05</td> <td>    0.904</td> <td> 0.366</td> <td> -3.1e+05  8.42e+05</td>\n",
       "</tr>\n",
       "</table>\n",
       "<table class=\"simpletable\">\n",
       "<tr>\n",
       "  <th>Omnibus:</th>       <td>274.470</td> <th>  Durbin-Watson:     </th> <td>   0.581</td>\n",
       "</tr>\n",
       "<tr>\n",
       "  <th>Prob(Omnibus):</th> <td> 0.000</td>  <th>  Jarque-Bera (JB):  </th> <td>3411.468</td>\n",
       "</tr>\n",
       "<tr>\n",
       "  <th>Skew:</th>          <td> 1.258</td>  <th>  Prob(JB):          </th> <td>    0.00</td>\n",
       "</tr>\n",
       "<tr>\n",
       "  <th>Kurtosis:</th>      <td>13.056</td>  <th>  Cond. No.          </th> <td>1.25e+08</td>\n",
       "</tr>\n",
       "</table>"
      ],
      "text/plain": [
       "<class 'statsmodels.iolib.summary.Summary'>\n",
       "\"\"\"\n",
       "                            OLS Regression Results                            \n",
       "==============================================================================\n",
       "Dep. Variable:                 volume   R-squared:                       0.785\n",
       "Model:                            OLS   Adj. R-squared:                  0.782\n",
       "Method:                 Least Squares   F-statistic:                 1.535e+15\n",
       "Date:                Wed, 27 Jul 2016   Prob (F-statistic):           4.24e-60\n",
       "Time:                        17:04:38   Log-Likelihood:                -10802.\n",
       "No. Observations:                 762   AIC:                         2.163e+04\n",
       "Df Residuals:                     748   BIC:                         2.170e+04\n",
       "Df Model:                          13                                         \n",
       "Covariance Type:              cluster                                         \n",
       "=====================================================================================\n",
       "                        coef    std err          z      P>|z|      [95.0% Conf. Int.]\n",
       "-------------------------------------------------------------------------------------\n",
       "const              3.076e+04   1.23e+05      0.250      0.803     -2.11e+05  2.72e+05\n",
       "atq                  10.7554      1.800      5.974      0.000         7.227    14.284\n",
       "bm                -6.448e+06   8.25e+07     -0.078      0.938     -1.68e+08  1.55e+08\n",
       "idio vol          -1.183e+07   3.78e+06     -3.127      0.002     -1.92e+07 -4.41e+06\n",
       "extreme_ret        3.988e+04   2.97e+04      1.344      0.179     -1.83e+04  9.81e+04\n",
       "HLSPREAD           7.356e+06   4.69e+06      1.570      0.116     -1.83e+06  1.65e+07\n",
       "turnover           1.871e+06   6.08e+05      3.077      0.002      6.79e+05  3.06e+06\n",
       "total_polar_news    149.9754    389.627      0.385      0.700      -613.680   913.631\n",
       "advertising ratio -6.927e+05   4.48e+05     -1.545      0.122     -1.57e+06  1.86e+05\n",
       "profit margin     -8.099e+04   1.21e+05     -0.672      0.502     -3.17e+05  1.55e+05\n",
       "invest ratio       2.585e+06   2.09e+06      1.235      0.217     -1.52e+06  6.69e+06\n",
       "inst              -1.089e+06   4.63e+05     -2.352      0.019        -2e+06 -1.81e+05\n",
       "passive inst       9.964e+05   3.77e+05      2.642      0.008      2.57e+05  1.74e+06\n",
       "perm passive inst  2.657e+05   2.94e+05      0.904      0.366      -3.1e+05  8.42e+05\n",
       "==============================================================================\n",
       "Omnibus:                      274.470   Durbin-Watson:                   0.581\n",
       "Prob(Omnibus):                  0.000   Jarque-Bera (JB):             3411.468\n",
       "Skew:                           1.258   Prob(JB):                         0.00\n",
       "Kurtosis:                      13.056   Cond. No.                     1.25e+08\n",
       "==============================================================================\n",
       "\n",
       "Warnings:\n",
       "[1] Standard Errors are robust tocluster correlation (cluster)\n",
       "[2] The condition number is large, 1.25e+08. This might indicate that there are\n",
       "strong multicollinearity or other numerical problems.\n",
       "\"\"\""
      ]
     },
     "execution_count": 84,
     "metadata": {},
     "output_type": "execute_result"
    }
   ],
   "source": [
    "regdf = df.dropna(subset=['volume'] + xvars)\n",
    "y = regdf['volume']\n",
    "X = regdf.loc[:, xvars]\n",
    "X = sm.add_constant(X)\n",
    "groups = regdf['TICKER'].unique().tolist()\n",
    "group_ints = regdf['TICKER'].apply(lambda x: groups.index(x))\n",
    "# times = regdf['Date'].unique().tolist()\n",
    "\n",
    "mod = sm.OLS(y, X)\n",
    "mod.fit(cov_type='cluster', cov_kwds={'groups': group_ints}).summary()"
   ]
  },
  {
   "cell_type": "code",
   "execution_count": 79,
   "metadata": {
    "collapsed": true
   },
   "outputs": [],
   "source": [
    "mod.fit??"
   ]
  },
  {
   "cell_type": "code",
   "execution_count": null,
   "metadata": {
    "collapsed": true
   },
   "outputs": [],
   "source": [
    "sm.OLS().fit"
   ]
  },
  {
   "cell_type": "code",
   "execution_count": 85,
   "metadata": {
    "collapsed": false
   },
   "outputs": [
    {
     "ename": "ImportError",
     "evalue": "No module named 'stats'",
     "traceback": [
      "\u001b[0;31m---------------------------------------------------------------------------\u001b[0m",
      "\u001b[0;31mImportError\u001b[0m                               Traceback (most recent call last)",
      "\u001b[0;32m<ipython-input-85-0a3fbc832583>\u001b[0m in \u001b[0;36m<module>\u001b[0;34m()\u001b[0m\n\u001b[0;32m----> 1\u001b[0;31m \u001b[0;32mimport\u001b[0m \u001b[0mstats\u001b[0m\u001b[0;34m\u001b[0m\u001b[0m\n\u001b[0m",
      "\u001b[0;31mImportError\u001b[0m: No module named 'stats'"
     ],
     "output_type": "error"
    }
   ],
   "source": [
    "import stats"
   ]
  },
  {
   "cell_type": "code",
   "execution_count": 1,
   "metadata": {
    "collapsed": true
   },
   "outputs": [],
   "source": [
    "import os\n",
    "os.chdir(r'C:\\Users\\derobertisna.UFAD\\Dropbox\\Python\\Dero\\scratch testing')"
   ]
  },
  {
   "cell_type": "code",
   "execution_count": 2,
   "metadata": {
    "collapsed": false,
    "scrolled": true
   },
   "outputs": [
    {
     "name": "stdout",
     "output_type": "stream",
     "text": [
      "Overwriting regs.py\n"
     ]
    }
   ],
   "source": [
    "%%writefile regs.py\n",
    "\n",
    "import itertools\n",
    "import statsmodels.api as sm\n",
    "from statsmodels.iolib.summary2 import summary_col\n",
    "\n",
    "import timeit, sys\n",
    "import dero\n",
    "from functools import partial\n",
    "\n",
    "estimate_time = dero.time.estimate_time\n",
    "parallel_loop_with_timeout = dero.multiprocessing.parallel_loop_with_timeout\n",
    "\n",
    "def reg(df, xvars, yvar, robust=True, cluster=False):\n",
    "    \"\"\"\n",
    "    Returns a fitted regression. Takes df, produces a regression df with no missing among needed\n",
    "    variables, and fits a regression model. If robust is specified, uses heteroskedasticity-\n",
    "    robust standard errors. If cluster is specified, calculated clustered standard errors\n",
    "    by the given variable. \n",
    "    \n",
    "    Note: only specify at most one of robust and cluster.\n",
    "    \n",
    "    Required inputs:\n",
    "    df: pandas dataframe containing regression data\n",
    "    xvars: list of strs, column names of x variables for regression\n",
    "    yvar: str, column name of outcome y variable\n",
    "    \n",
    "    Optional inputs:\n",
    "    robust: bool, set to True to use heterskedasticity-robust standard errors\n",
    "    cluster: False or str, set to a column name to calculate standard errors within clusters\n",
    "             given by unique values of given column name\n",
    "    \"\"\"\n",
    "    regdf = df.dropna(subset=[yvar] + xvars)\n",
    "    y = regdf[yvar]\n",
    "    X = regdf.loc[:, xvars]\n",
    "    X = sm.add_constant(X)\n",
    "\n",
    "    mod = sm.OLS(y, X)\n",
    "    \n",
    "    assert not (robust and cluster) #need to pick one of robust or cluster\n",
    "    \n",
    "    if robust:\n",
    "        return mod.fit(cov_type='HC1')\n",
    "    \n",
    "    if cluster:\n",
    "        groups = regdf[cluster].unique().tolist()\n",
    "        group_ints = regdf[cluster].apply(lambda x: groups.index(x))\n",
    "        return mod.fit(cov_type='cluster', cov_kwds={'groups': group_ints})\n",
    "    \n",
    "    return mod.fit()\n",
    "\n",
    "\n",
    "def reg_for_each_combo(df, xvars, yvar, **reg_kwargs):\n",
    "    \"\"\"\n",
    "    Takes each possible combination of xvars (starting from each var individually, then each pair\n",
    "    of vars, etc. all the way up to all xvars), and regresses yvar on each set of xvars. Returns\n",
    "    a list of fitted regressions.\n",
    "    \"\"\"   \n",
    "    #Get the entire list of combinations of xvars to run regressions with\n",
    "    combo_list = []\n",
    "    for i in range(1, len(xvars) + 1):\n",
    "        for combo in itertools.combinations(xvars, i):\n",
    "            combo_list.append(list(combo))\n",
    "            \n",
    "    df_reg = partial(reg, df, yvar=yvar, **reg_kwargs)\n",
    "    \n",
    "    results = parallel_loop_with_timeout(df_reg, combo_list, timeout=2)\n",
    "    return [res[1] for res in results if res[1] != 'timeout'] #strip results from result tuples\n",
    "            \n",
    "#     reg_list = []\n",
    "#     num_regs = len(combo_list)\n",
    "#     start_time = timeit.default_timer()\n",
    "#     for i, x in enumerate(combo_list):\n",
    "#         reg_list.append(reg(df, x, yvar=yvar, **reg_kwargs))\n",
    "#         estimate_time(num_regs, i, start_time)\n",
    "        \n",
    "#         ####TEMPPPPPP\n",
    "#         print(i)\n",
    "#         ######################\n",
    "        \n",
    "        \n",
    "#         sys.stdout.flush()\n",
    "\n",
    "    \n",
    "#     reg_list = []\n",
    "#     for i in range(1, len(xvars) + 1):\n",
    "#         for combo in itertools.combinations(xvars, i):\n",
    "#             x = list(combo)\n",
    "#             reg_list.append(reg(df, x, yvar=yvar, **reg_kwargs))\n",
    "            \n",
    "#     return reg_list\n",
    "\n",
    "def select_models(reg_list, keepnum, xvars):\n",
    "    \"\"\"\n",
    "    Takes a list of fitted regression models and selects among them based on adjusted R-Squared. For each\n",
    "    number of variables involved in the regressions, keepnum with the highest R-squareds will be kept.\n",
    "    \n",
    "    For example, if reg_list contains 3 regressions with two variables and 6 regressions with three variables,\n",
    "    and keepnum is 2, will return a list of four regressions, 2 with two variables and 2 with three variables.\n",
    "    \"\"\"\n",
    "    outlist = []\n",
    "    for i in range(1, len(xvars) + 1):\n",
    "        reg_list_match = [reg for reg in reg_list if reg.df_model == i] #select models with this many variables\n",
    "        try:\n",
    "            r2_min = sorted([reg.rsquared_adj for reg in reg_list_match])[-keepnum] #gets keepnumth highest r2\n",
    "        except IndexError: #should happen once there are less models run than keepnum (i.e. with all xvars)\n",
    "            r2_min = sorted([reg.rsquared_adj for reg in reg_list_match])[0] #gets lowest r2 (keep all)\n",
    "        outlist += [reg for reg in reg_list_match if reg.rsquared_adj >= r2_min]\n",
    "    return outlist\n",
    "\n",
    "def produce_summary(reg_list, stderr=False):\n",
    "\n",
    "    summ =  summary_col(reg_list, stars=True, float_format='%0.1f',\n",
    "            info_dict={'N':lambda x: \"{0:d}\".format(int(x.nobs)),\n",
    "                      'R2':lambda x: \"{:.2f}\".format(x.rsquared),\n",
    "                      'Adj-R2':lambda x: \"{:.2f}\".format(x.rsquared_adj)})\n",
    "    \n",
    "    if not stderr:\n",
    "        summ.tables[0].drop('', axis=0, inplace=True) #drops the rows containing standard errors\n",
    "        \n",
    "    return summ\n",
    "\n",
    "def reg_for_each_combo_select_and_produce_summary(df, xvars, yvar, robust=True, cluster=False,\n",
    "                                                  keepnum=5, stderr=False):\n",
    "    \"\"\"\n",
    "    Convenience function to run regressions for every combination of xvars, select the best models,\n",
    "    and present them in a summary format. Returns a tuple of (reg_list, summary) where reg_list\n",
    "    is a list of fitted regression models, and summary is a single dataframe of results\n",
    "    \n",
    "    Required inputs:\n",
    "    df: pandas dataframe containing regression data\n",
    "    xvars: list of strs, column names of all possible x variables\n",
    "    yvar: str, column name of y variable\n",
    "    \n",
    "    Optional inputs:\n",
    "    robust: bool, set to True to use heterskedasticity-robust standard errors\n",
    "    cluster: False or str, set to a column name to calculate standard errors within clusters\n",
    "             given by unique values of given column name\n",
    "    keepnum: int, number to keep for each amount of x variables. The total number of outputted\n",
    "             regressions will be roughly keepnum * len(xvars)\n",
    "    stderr: bool, set to True to keep rows for standard errors below coefficient estimates\n",
    "    \n",
    "    Note: only specify at most one of robust and cluster.\n",
    "    \n",
    "    \"\"\"\n",
    "    reg_list = reg_for_each_combo(df, xvars, yvar, robust=robust, cluster=cluster)\n",
    "    outlist = select_models(reg_list, keepnum, xvars)\n",
    "    summ = produce_summary(outlist, stderr=stderr) \n",
    "    return outlist, summ"
   ]
  },
  {
   "cell_type": "code",
   "execution_count": null,
   "metadata": {
    "collapsed": true
   },
   "outputs": [],
   "source": [
    ""
   ]
  },
  {
   "cell_type": "code",
   "execution_count": null,
   "metadata": {
    "collapsed": false
   },
   "outputs": [
    {
     "name": "stdout",
     "output_type": "stream",
     "text": [
      "Estimated finish time: 2016-09-03 12:37:07.293569. Completed 64/8191, (1%)"
     ]
    }
   ],
   "source": [
    "import os\n",
    "os.chdir(r'C:\\Users\\derobertisna.UFAD\\Dropbox\\Python\\Dero\\scratch testing')\n",
    "\n",
    "import regs\n",
    "import dero\n",
    "import pandas as pd\n",
    "# inpath = r'C:\\Users\\derobertisna.UFAD\\Dropbox\\UF\\Investor Attention\\Other Data\\POSTDATA_HLSPREAD_26_14_TICKER_v2014_1.csv'\n",
    "inpath = r'C:\\Users\\derobertisna.UFAD\\Dropbox\\UF\\Investor Attention\\merged data.csv'\n",
    "\n",
    "def create_reg_variables(df):\n",
    "    \"\"\"\n",
    "    Creates other variables necessary for abnormal volume regression. \n",
    "    \n",
    "    Note: inplace\n",
    "    \"\"\"\n",
    "    df['total_polar_news'] = df['news_negative'] + df['news_positive']\n",
    "    df['advertising ratio'] = df['xad']/df['saleq']\n",
    "    df['profit margin'] = df['niq']/df['saleq']\n",
    "    df['invest ratio'] = df['capxq']/df['atq']\n",
    "    df['bm'] = df['ceqq']/df['mktcap']\n",
    "\n",
    "df = pd.read_csv(inpath)\n",
    "create_reg_variables(df)\n",
    "df = df.loc[:5000]\n",
    "\n",
    "xvars = ['atq','bm','idio vol','extreme_ret','HLSPREAD','turnover','total_polar_news',\n",
    "         'advertising ratio', 'profit margin', 'invest ratio', 'inst', 'passive inst', 'perm passive inst']\n",
    "\n",
    "outlist, summary = regs.reg_for_each_combo_select_and_produce_summary(df, xvars, 'volume', keepnum=4)\n",
    "summary"
   ]
  },
  {
   "cell_type": "code",
   "execution_count": 1,
   "metadata": {
    "collapsed": false
   },
   "outputs": [
    {
     "name": "stdout",
     "output_type": "stream",
     "text": [
      "('a', 'b')\n",
      "('a', 'c')\n",
      "('b', 'c')\n"
     ]
    }
   ],
   "source": [
    "import itertools\n",
    "for combo in itertools.combinations(['a','b','c'], 2):\n",
    "    print(combo)"
   ]
  },
  {
   "cell_type": "code",
   "execution_count": 1,
   "metadata": {
    "collapsed": true
   },
   "outputs": [],
   "source": [
    "import itertools\n",
    "\n",
    "xvars = ['atq','bm','idio vol','extreme_ret','HLSPREAD','turnover','total_polar_news',\n",
    "         'advertising ratio', 'profit margin', 'invest ratio', 'inst', 'passive inst', 'perm passive inst']\n",
    "\n",
    "combo_list = []\n",
    "for i in range(1, len(xvars) + 1):\n",
    "    for combo in itertools.combinations(xvars, i):\n",
    "        combo_list.append(list(combo))"
   ]
  },
  {
   "cell_type": "code",
   "execution_count": 2,
   "metadata": {
    "collapsed": false
   },
   "outputs": [
    {
     "data": {
      "text/plain": [
       "8191"
      ]
     },
     "execution_count": 2,
     "metadata": {},
     "output_type": "execute_result"
    }
   ],
   "source": [
    "len(combo_list)"
   ]
  },
  {
   "cell_type": "code",
   "execution_count": 63,
   "metadata": {
    "collapsed": false
   },
   "outputs": [],
   "source": [
    "summary.tables[0].drop('', axis=0, inplace=True)"
   ]
  },
  {
   "cell_type": "code",
   "execution_count": 66,
   "metadata": {
    "collapsed": false
   },
   "outputs": [
    {
     "data": {
      "text/plain": [
       "13"
      ]
     },
     "execution_count": 66,
     "metadata": {},
     "output_type": "execute_result"
    }
   ],
   "source": [
    "len(xvars)"
   ]
  },
  {
   "cell_type": "code",
   "execution_count": 65,
   "metadata": {
    "collapsed": false
   },
   "outputs": [
    {
     "data": {
      "text/plain": [
       "48"
      ]
     },
     "execution_count": 65,
     "metadata": {},
     "output_type": "execute_result"
    }
   ],
   "source": [
    "len(a.columns)"
   ]
  },
  {
   "cell_type": "code",
   "execution_count": 64,
   "metadata": {
    "collapsed": false
   },
   "outputs": [
    {
     "data": {
      "text/html": [
       "<table class=\"simpletable\">\n",
       "<tr>\n",
       "          <td></td>           <th>volume I</th>     <th>volume II</th>  <th>volume III</th>  <th>volume IIII</th> <th>volume IIIII</th> <th>volume IIIIII</th> <th>volume IIIIIII</th> <th>volume IIIIIIII</th> <th>volume IIIIIIIII</th> <th>volume IIIIIIIIII</th> <th>volume IIIIIIIIIII</th> <th>volume IIIIIIIIIIII</th> <th>volume IIIIIIIIIIIII</th> <th>volume IIIIIIIIIIIIII</th> <th>volume IIIIIIIIIIIIIII</th> <th>volume IIIIIIIIIIIIIIII</th> <th>volume IIIIIIIIIIIIIIIII</th> <th>volume IIIIIIIIIIIIIIIIII</th> <th>volume IIIIIIIIIIIIIIIIIII</th> <th>volume IIIIIIIIIIIIIIIIIIII</th> <th>volume IIIIIIIIIIIIIIIIIIIII</th> <th>volume IIIIIIIIIIIIIIIIIIIIII</th> <th>volume IIIIIIIIIIIIIIIIIIIIIII</th> <th>volume IIIIIIIIIIIIIIIIIIIIIIII</th> <th>volume IIIIIIIIIIIIIIIIIIIIIIIII</th> <th>volume IIIIIIIIIIIIIIIIIIIIIIIIII</th> <th>volume IIIIIIIIIIIIIIIIIIIIIIIIIII</th> <th>volume IIIIIIIIIIIIIIIIIIIIIIIIIIII</th> <th>volume IIIIIIIIIIIIIIIIIIIIIIIIIIIII</th> <th>volume IIIIIIIIIIIIIIIIIIIIIIIIIIIIII</th> <th>volume IIIIIIIIIIIIIIIIIIIIIIIIIIIIIII</th> <th>volume IIIIIIIIIIIIIIIIIIIIIIIIIIIIIIII</th> <th>volume IIIIIIIIIIIIIIIIIIIIIIIIIIIIIIIII</th> <th>volume IIIIIIIIIIIIIIIIIIIIIIIIIIIIIIIIII</th> <th>volume IIIIIIIIIIIIIIIIIIIIIIIIIIIIIIIIIII</th> <th>volume IIIIIIIIIIIIIIIIIIIIIIIIIIIIIIIIIIII</th> <th>volume IIIIIIIIIIIIIIIIIIIIIIIIIIIIIIIIIIIII</th> <th>volume IIIIIIIIIIIIIIIIIIIIIIIIIIIIIIIIIIIIII</th> <th>volume IIIIIIIIIIIIIIIIIIIIIIIIIIIIIIIIIIIIIII</th> <th>volume IIIIIIIIIIIIIIIIIIIIIIIIIIIIIIIIIIIIIIII</th> <th>volume IIIIIIIIIIIIIIIIIIIIIIIIIIIIIIIIIIIIIIIII</th> <th>volume IIIIIIIIIIIIIIIIIIIIIIIIIIIIIIIIIIIIIIIIII</th> <th>volume IIIIIIIIIIIIIIIIIIIIIIIIIIIIIIIIIIIIIIIIIII</th> <th>volume IIIIIIIIIIIIIIIIIIIIIIIIIIIIIIIIIIIIIIIIIIII</th> <th>volume IIIIIIIIIIIIIIIIIIIIIIIIIIIIIIIIIIIIIIIIIIIII</th> <th>volume IIIIIIIIIIIIIIIIIIIIIIIIIIIIIIIIIIIIIIIIIIIIII</th> <th>volume IIIIIIIIIIIIIIIIIIIIIIIIIIIIIIIIIIIIIIIIIIIIIII</th> <th>volume IIIIIIIIIIIIIIIIIIIIIIIIIIIIIIIIIIIIIIIIIIIIIIII</th>\n",
       "</tr>\n",
       "<tr>\n",
       "  <th>HLSPREAD</th>               <td></td>             <td></td>            <td></td>            <td></td>             <td></td>             <td></td>               <td></td>               <td></td>                 <td></td>                 <td></td>                   <td></td>                   <td></td>                     <td></td>                     <td></td>                       <td></td>                       <td></td>                         <td></td>                         <td></td>                           <td></td>                           <td></td>                             <td></td>                       <td>10768145.1***</td>                        <td></td>                               <td></td>                                 <td></td>                           <td>8950708.9***</td>                             <td></td>                                   <td></td>                               <td>7265064.8***</td>                               <td></td>                                       <td></td>                                 <td>9336880.7***</td>                             <td>7667082.5***</td>                              <td>6743361.5**</td>                               <td>7717463.9***</td>                               <td>7081594.8***</td>                                 <td>8093904.0***</td>                                 <td>7198178.7***</td>                                    <td>6524014.4**</td>                                   <td>7550150.0***</td>                                     <td>7665302.9***</td>                                     <td>7578753.7***</td>                                       <td>7827760.4***</td>                                        <td>6991926.4**</td>                                         <td>7583963.1***</td>                                         <td>7968673.1***</td>                                            <td>7044028.6**</td>                                           <td>7280401.9***</td>                      \n",
       "</tr>\n",
       "<tr>\n",
       "  <th>advertising ratio</th>      <td></td>             <td></td>            <td></td>            <td></td>             <td></td>          <td>57015.9</td>     <td>-1781825.5***</td>   <td>-547429.4*</td>      <td>-775518.7***</td>       <td>-108811.0</td>          <td>158292.2</td>         <td>-1255613.8***</td>        <td>-747318.2***</td>         <td>-684996.2***</td>           <td>-710705.5***</td>           <td>-654175.3***</td>             <td>-576368.4***</td>             <td>-625847.9***</td>                <td>-567341.9**</td>               <td>-754719.4***</td>                  <td>-556938.6**</td>                  <td>-516601.7**</td>                   <td>-572208.2***</td>                   <td>-666176.2***</td>                     <td>-641728.6***</td>                     <td>-608037.8***</td>                       <td>-651627.3***</td>                       <td>-723502.4***</td>                         <td>-598852.2***</td>                         <td>-662349.6***</td>                           <td>-630277.6***</td>                           <td>-589208.6***</td>                             <td>-627033.9***</td>                             <td>-618892.0***</td>                               <td>-582964.9***</td>                               <td>-652296.5***</td>                                 <td>-609914.0***</td>                                 <td>-602575.1***</td>                                   <td>-676688.3***</td>                                   <td>-654200.8***</td>                                     <td>-657859.7***</td>                                     <td>-632050.3***</td>                                       <td>-665312.3***</td>                                       <td>-678254.0***</td>                                         <td>-632144.9***</td>                                         <td>-669845.4***</td>                                           <td>-679594.7***</td>                                           <td>-690718.6***</td>                      \n",
       "</tr>\n",
       "<tr>\n",
       "  <th>atq</th>                 <td>16.2***</td>         <td></td>            <td></td>            <td></td>          <td>13.2***</td>      <td>12.5***</td>           <td></td>               <td></td>              <td>10.3***</td>          <td>8.0***</td>             <td>12.6***</td>               <td></td>                  <td>9.9***</td>               <td>10.6***</td>                <td>11.4***</td>                <td>11.4***</td>                  <td>10.1***</td>                  <td>10.9***</td>                    <td>10.9***</td>                    <td>11.6***</td>                      <td>10.1***</td>                      <td>10.2***</td>                        <td>10.1***</td>                        <td>11.0***</td>                          <td>11.0***</td>                          <td>11.1***</td>                            <td>11.0***</td>                            <td>11.0***</td>                              <td>11.1***</td>                              <td>11.1***</td>                                <td>11.0***</td>                                <td>11.1***</td>                                  <td>10.5***</td>                                  <td>11.1***</td>                                    <td>11.1***</td>                                    <td>11.1***</td>                                      <td>10.6***</td>                                      <td>11.2***</td>                                        <td>11.1***</td>                                        <td>11.1***</td>                                          <td>11.1***</td>                                          <td>10.6***</td>                                            <td>10.7***</td>                                            <td>11.1***</td>                                              <td>10.6***</td>                                              <td>10.7***</td>                                                <td>11.1***</td>                                                <td>10.8***</td>                        \n",
       "</tr>\n",
       "<tr>\n",
       "  <th>bm</th>                     <td></td>             <td></td>            <td></td>            <td></td>             <td></td>             <td></td>               <td></td>               <td></td>                 <td></td>                 <td></td>                   <td></td>                   <td></td>                     <td></td>                     <td></td>                       <td></td>                       <td></td>                         <td></td>                         <td></td>                           <td></td>                           <td></td>                             <td></td>                             <td></td>                               <td></td>                               <td></td>                                 <td></td>                                 <td></td>                                   <td></td>                                   <td></td>                                     <td></td>                                     <td></td>                                       <td></td>                                       <td></td>                                         <td></td>                                         <td></td>                                           <td></td>                                           <td></td>                                             <td></td>                                             <td></td>                                               <td></td>                                               <td></td>                                            <td>-11087743.7</td>                                           <td></td>                                                   <td></td>                                                   <td></td>                                                 <td>-426274.1</td>                                           <td>-12916927.4</td>                                            <td>-4611956.7</td>                                                  <td></td>                            \n",
       "</tr>\n",
       "<tr>\n",
       "  <th>const</th>             <td>223872.1***</td>   <td>-22099.8</td>   <td>293348.8***</td>  <td>73902.3**</td>   <td>-81742.9***</td>  <td>141671.1***</td>     <td>-50621.7</td>      <td>120876.6***</td>     <td>-157993.4***</td>      <td>99323.1***</td>          <td>81586.6*</td>         <td>-134419.1***</td>           <td>-49251.4*</td>            <td>-42657.6</td>             <td>-132658.6***</td>           <td>-116051.9***</td>              <td>139443.6***</td>                <td>32904.9</td>                    <td>36346.0</td>                 <td>-113455.1***</td>                  <td>172660.3***</td>                   <td>80662.5**</td>                     <td>111014.1***</td>                      <td>64405.0</td>                         <td>95992.5**</td>                         <td>19835.0</td>                            <td>44592.4</td>                           <td>67668.0*</td>                              <td>54243.4</td>                            <td>103267.1**</td>                              <td>77956.6*</td>                                <td>-4266.9</td>                                  <td>33870.7</td>                                  <td>63224.8</td>                                    <td>30883.2</td>                                    <td>58364.8</td>                                      <td>11663.5</td>                                      <td>39717.8</td>                                        <td>68025.5</td>                                        <td>31928.1</td>                                          <td>38666.1</td>                                          <td>19592.7</td>                                            <td>18543.8</td>                                            <td>41342.6</td>                                              <td>19830.5</td>                                              <td>26067.4</td>                                                <td>44074.4</td>                                                <td>27088.2</td>                        \n",
       "</tr>\n",
       "<tr>\n",
       "  <th>extreme_ret</th>            <td></td>             <td></td>            <td></td>            <td></td>             <td></td>             <td></td>               <td></td>               <td></td>                 <td></td>                 <td></td>                   <td></td>                   <td></td>                     <td></td>                     <td></td>                       <td></td>                       <td></td>                         <td></td>                         <td></td>                           <td></td>                           <td></td>                        <td>54132.8***</td>                        <td></td>                               <td></td>                               <td></td>                            <td>47680.0***</td>                            <td></td>                                   <td></td>                                   <td></td>                                <td>39268.3***</td>                           <td>51270.0***</td>                             <td>45891.2***</td>                                  <td></td>                                    <td>37794.6***</td>                               <td>42825.0***</td>                                 <td>36691.6***</td>                                 <td>39605.9***</td>                                    <td>35329.8**</td>                                   <td>40228.7***</td>                                     <td>43348.7***</td>                                     <td>36628.1***</td>                                       <td>37471.3***</td>                                       <td>38917.0***</td>                                          <td>35694.2**</td>                                         <td>40375.4***</td>                                           <td>38945.9***</td>                                            <td>36653.7**</td>                                             <td>40697.9***</td>                                             <td>39441.9***</td>                       \n",
       "</tr>\n",
       "<tr>\n",
       "  <th>idio vol</th>               <td></td>             <td></td>            <td></td>            <td></td>             <td></td>             <td></td>               <td></td>               <td></td>                 <td></td>                 <td></td>                   <td></td>                   <td></td>               <td>-6098029.8***</td>              <td></td>                       <td></td>                       <td></td>                   <td>-7763641.8***</td>            <td>-6908091.7***</td>              <td>-6860291.6***</td>                    <td></td>                       <td>-9974368.2***</td>               <td>-11481538.2***</td>                  <td>-7683385.5***</td>                  <td>-7382233.9***</td>                    <td>-9346514.2***</td>                   <td>-10479519.6***</td>                      <td>-7299269.8***</td>                      <td>-7491290.0***</td>                       <td>-11513962.2***</td>                       <td>-10012325.5***</td>                          <td>-9202914.7***</td>                         <td>-10521536.0***</td>                           <td>-11327230.3***</td>                           <td>-11905950.5***</td>                             <td>-11484686.4***</td>                             <td>-11564117.3***</td>                               <td>-11305669.5***</td>                               <td>-11870998.4***</td>                                 <td>-11977441.2***</td>                                 <td>-11546626.9***</td>                                   <td>-11562515.8***</td>                                   <td>-11695488.1***</td>                                     <td>-11416464.7***</td>                                     <td>-11959043.1***</td>                                       <td>-11695634.9***</td>                                       <td>-11431804.1***</td>                                         <td>-11962546.0***</td>                                         <td>-11826768.8***</td>                     \n",
       "</tr>\n",
       "<tr>\n",
       "  <th>inst</th>                   <td></td>             <td></td>            <td></td>            <td></td>             <td></td>             <td></td>               <td></td>               <td></td>                 <td></td>                 <td></td>               <td>118470.6*</td>              <td></td>                     <td></td>               <td>-215233.6***</td>                 <td></td>                       <td></td>                   <td>-300162.4***</td>                   <td></td>                           <td></td>                     <td>-1033785.1***</td>                <td>-312128.9***</td>                 <td>-277112.7***</td>                   <td>-318288.1***</td>                   <td>-1084018.5***</td>                    <td>-1062048.5***</td>                    <td>-1034009.7***</td>                      <td>-1083696.1***</td>                      <td>-1137113.8***</td>                        <td>-1025333.5***</td>                        <td>-1074059.7***</td>                          <td>-1062603.3***</td>                          <td>-1031504.8***</td>                            <td>-1008864.3***</td>                            <td>-1037849.3***</td>                              <td>-1023692.6***</td>                              <td>-1074759.5***</td>                                <td>-1007989.6***</td>                                <td>-1036091.3***</td>                                  <td>-1091021.8***</td>                                  <td>-1092060.9***</td>                                    <td>-1091835.8***</td>                                    <td>-1019852.0***</td>                                      <td>-1074016.2***</td>                                      <td>-1108336.9***</td>                                        <td>-1019773.8***</td>                                        <td>-1073314.4***</td>                                          <td>-1108120.7***</td>                                          <td>-1089190.0***</td>                     \n",
       "</tr>\n",
       "<tr>\n",
       "  <th>invest ratio</th>           <td></td>             <td></td>            <td></td>            <td></td>             <td></td>             <td></td>               <td></td>               <td></td>                 <td></td>                 <td></td>                   <td></td>                   <td></td>                     <td></td>                     <td></td>                       <td></td>                       <td></td>                         <td></td>                         <td></td>                           <td></td>                           <td></td>                             <td></td>                             <td></td>                          <td>3139171.7**</td>                         <td></td>                                 <td></td>                                 <td></td>                              <td>2304894.5*</td>                              <td></td>                                     <td></td>                                     <td></td>                                   <td>1965527.2</td>                             <td>2583889.8**</td>                                   <td></td>                                         <td></td>                                      <td>2264164.1*</td>                                      <td></td>                                        <td>2221458.8*</td>                                   <td>2245099.6*</td>                                          <td></td>                                          <td>2734617.4**</td>                                      <td>2624015.4**</td>                                      <td>2198863.0*</td>                                         <td>2655583.3**</td>                                        <td>2735946.2**</td>                                          <td>2194258.4*</td>                                           <td>2524809.7*</td>                                             <td>2689931.2**</td>                                            <td>2650700.0**</td>                      \n",
       "</tr>\n",
       "<tr>\n",
       "  <th>passive inst</th>           <td></td>             <td></td>            <td></td>       <td>790580.1***</td>       <td></td>             <td></td>               <td></td>               <td></td>                 <td></td>                 <td></td>                   <td></td>                   <td></td>                     <td></td>                     <td></td>                   <td>-70285.7</td>                   <td></td>                         <td></td>                    <td>-173854.7**</td>                     <td></td>                     <td>1274789.6***</td>                       <td></td>                             <td></td>                               <td></td>                         <td>1229471.7***</td>                     <td>1178774.5***</td>                     <td>1177387.7***</td>                       <td>1203971.1***</td>                       <td>1100124.0***</td>                         <td>1145443.3***</td>                         <td>1210174.1***</td>                           <td>1158888.9***</td>                           <td>1146548.4***</td>                             <td>1153551.4***</td>                             <td>1173663.1***</td>                               <td>1120463.2***</td>                               <td>1027861.5***</td>                                 <td>1128926.4***</td>                                 <td>1148903.2***</td>                                   <td>1049849.2***</td>                                    <td>951706.8***</td>                                      <td>945406.8***</td>                                     <td>1159034.7***</td>                                        <td>975322.2***</td>                                        <td>974132.6***</td>                                         <td>1158897.8***</td>                                          <td>968558.1***</td>                                            <td>971343.2***</td>                                           <td>1000055.9***</td>                      \n",
       "</tr>\n",
       "<tr>\n",
       "  <th>perm passive inst</th>      <td></td>             <td></td>            <td></td>            <td></td>             <td></td>             <td></td>               <td></td>               <td></td>                 <td></td>                 <td></td>                   <td></td>                   <td></td>                     <td></td>                     <td></td>                       <td></td>                  <td>-129301.3*</td>                    <td></td>                         <td></td>                     <td>-208240.5***</td>                     <td></td>                             <td></td>                             <td></td>                               <td></td>                               <td></td>                                 <td></td>                                 <td></td>                                   <td></td>                               <td>221889.4</td>                                 <td></td>                                     <td></td>                                       <td></td>                                       <td></td>                                         <td></td>                                         <td></td>                                           <td></td>                                       <td>202921.2</td>                                         <td></td>                                             <td></td>                                           <td>215927.7</td>                                       <td>281995.8*</td>                                        <td>287231.0*</td>                                            <td></td>                                               <td>252301.3</td>                                           <td>294908.1*</td>                                                <td></td>                                                 <td>257676.8</td>                                               <td>296988.4*</td>                                              <td>263125.3</td>                        \n",
       "</tr>\n",
       "<tr>\n",
       "  <th>profit margin</th>          <td></td>             <td></td>            <td></td>            <td></td>             <td></td>             <td></td>               <td></td>               <td></td>                 <td></td>                 <td></td>                   <td></td>                   <td></td>                     <td></td>                     <td></td>                       <td></td>                       <td></td>                         <td></td>                         <td></td>                           <td></td>                           <td></td>                             <td></td>                             <td></td>                               <td></td>                               <td></td>                                 <td></td>                                 <td></td>                                   <td></td>                                   <td></td>                                     <td></td>                                 <td>-93002.8*</td>                                  <td></td>                                       <td></td>                                         <td></td>                                     <td>-76495.2</td>                                       <td></td>                                           <td></td>                                             <td></td>                                         <td>-75670.6</td>                                       <td>-80031.4</td>                                           <td></td>                                                 <td></td>                                             <td>-78642.3</td>                                               <td></td>                                               <td>-80228.4</td>                                             <td>-78585.5</td>                                                 <td></td>                                                   <td>-79624.1</td>                                               <td>-81816.2</td>                        \n",
       "</tr>\n",
       "<tr>\n",
       "  <th>total_polar_news</th>       <td></td>             <td></td>        <td>3011.5***</td>       <td></td>             <td></td>             <td></td>               <td></td>           <td>3858.4***</td>            <td></td>             <td>1910.7***</td>              <td></td>               <td>2955.7***</td>                <td></td>                     <td></td>                       <td></td>                       <td></td>                         <td></td>                         <td></td>                           <td></td>                           <td></td>                             <td></td>                             <td></td>                               <td></td>                               <td></td>                                 <td></td>                                 <td></td>                                   <td></td>                                   <td></td>                                     <td></td>                                     <td></td>                                       <td></td>                                       <td></td>                                       <td>208.5</td>                                      <td></td>                                           <td></td>                                           <td></td>                                           <td>199.2</td>                                          <td></td>                                               <td></td>                                               <td></td>                                                 <td></td>                                               <td>212.1</td>                                              <td>137.6</td>                                                <td></td>                                                   <td>212.3</td>                                                <td>140.9</td>                                                    <td></td>                                                     <td>148.4</td>                         \n",
       "</tr>\n",
       "<tr>\n",
       "  <th>turnover</th>               <td></td>       <td>2123125.7***</td>      <td></td>            <td></td>       <td>1560309.3***</td>       <td></td>         <td>1981484.8***</td>         <td></td>           <td>1561809.9***</td>           <td></td>                   <td></td>             <td>1451109.8***</td>         <td>1658172.6***</td>         <td>1671388.4***</td>           <td>1590479.4***</td>           <td>1588471.4***</td>             <td>1816611.3***</td>             <td>1714942.6***</td>               <td>1701155.2***</td>               <td>1677677.5***</td>                 <td>1800203.1***</td>                 <td>1874357.9***</td>                   <td>1833082.2***</td>                   <td>1814920.4***</td>                     <td>1799746.4***</td>                     <td>1861517.2***</td>                       <td>1827384.9***</td>                       <td>1837127.6***</td>                         <td>1840244.9***</td>                         <td>1809961.8***</td>                           <td>1810958.6***</td>                           <td>1877540.6***</td>                             <td>1818865.6***</td>                             <td>1845738.9***</td>                               <td>1855708.0***</td>                               <td>1859491.2***</td>                                 <td>1835021.2***</td>                                 <td>1861048.4***</td>                                   <td>1866472.7***</td>                                   <td>1885592.2***</td>                                     <td>1880167.4***</td>                                     <td>1839223.3***</td>                                       <td>1868157.7***</td>                                       <td>1892622.5***</td>                                         <td>1838974.4***</td>                                         <td>1861413.4***</td>                                           <td>1890313.1***</td>                                           <td>1873951.0***</td>                      \n",
       "</tr>\n",
       "<tr>\n",
       "  <th>N</th>                    <td>1615</td>         <td>1615</td>        <td>1615</td>        <td>1896</td>         <td>1615</td>          <td>853</td>            <td>853</td>            <td>853</td>              <td>853</td>              <td>853</td>                <td>815</td>                <td>853</td>                  <td>853</td>                  <td>815</td>                    <td>764</td>                    <td>764</td>                      <td>815</td>                      <td>764</td>                        <td>764</td>                        <td>764</td>                          <td>815</td>                          <td>815</td>                            <td>813</td>                            <td>764</td>                              <td>764</td>                              <td>764</td>                                <td>762</td>                                <td>764</td>                                  <td>764</td>                                  <td>764</td>                                    <td>762</td>                                    <td>762</td>                                      <td>764</td>                                      <td>764</td>                                        <td>762</td>                                        <td>764</td>                                          <td>762</td>                                          <td>762</td>                                            <td>764</td>                                            <td>762</td>                                              <td>762</td>                                              <td>762</td>                                                <td>762</td>                                                <td>762</td>                                                  <td>762</td>                                                  <td>762</td>                                                    <td>762</td>                                                    <td>762</td>                          \n",
       "</tr>\n",
       "<tr>\n",
       "  <th>R2</th>                   <td>0.34</td>         <td>0.26</td>        <td>0.14</td>        <td>0.06</td>         <td>0.47</td>         <td>0.48</td>           <td>0.41</td>           <td>0.45</td>             <td>0.72</td>             <td>0.53</td>               <td>0.50</td>               <td>0.64</td>                 <td>0.73</td>                 <td>0.75</td>                   <td>0.74</td>                   <td>0.74</td>                     <td>0.77</td>                     <td>0.75</td>                       <td>0.75</td>                       <td>0.76</td>                         <td>0.77</td>                         <td>0.77</td>                           <td>0.77</td>                           <td>0.78</td>                             <td>0.78</td>                             <td>0.78</td>                               <td>0.78</td>                               <td>0.78</td>                                 <td>0.78</td>                                 <td>0.78</td>                                   <td>0.78</td>                                   <td>0.78</td>                                     <td>0.78</td>                                     <td>0.78</td>                                       <td>0.78</td>                                       <td>0.78</td>                                         <td>0.78</td>                                         <td>0.78</td>                                           <td>0.78</td>                                           <td>0.78</td>                                             <td>0.78</td>                                             <td>0.78</td>                                               <td>0.78</td>                                               <td>0.79</td>                                                 <td>0.78</td>                                                 <td>0.78</td>                                                   <td>0.79</td>                                                   <td>0.79</td>                          \n",
       "</tr>\n",
       "<tr>\n",
       "  <th>Adj-R2</th>               <td>0.34</td>         <td>0.26</td>        <td>0.14</td>        <td>0.06</td>         <td>0.47</td>         <td>0.48</td>           <td>0.41</td>           <td>0.45</td>             <td>0.72</td>             <td>0.53</td>               <td>0.50</td>               <td>0.64</td>                 <td>0.73</td>                 <td>0.75</td>                   <td>0.73</td>                   <td>0.73</td>                     <td>0.76</td>                     <td>0.75</td>                       <td>0.75</td>                       <td>0.76</td>                         <td>0.77</td>                         <td>0.77</td>                           <td>0.77</td>                           <td>0.78</td>                             <td>0.78</td>                             <td>0.78</td>                               <td>0.78</td>                               <td>0.78</td>                                 <td>0.78</td>                                 <td>0.78</td>                                   <td>0.78</td>                                   <td>0.78</td>                                     <td>0.78</td>                                     <td>0.78</td>                                       <td>0.78</td>                                       <td>0.78</td>                                         <td>0.78</td>                                         <td>0.78</td>                                           <td>0.78</td>                                           <td>0.78</td>                                             <td>0.78</td>                                             <td>0.78</td>                                               <td>0.78</td>                                               <td>0.78</td>                                                 <td>0.78</td>                                                 <td>0.78</td>                                                   <td>0.78</td>                                                   <td>0.78</td>                          \n",
       "</tr>\n",
       "</table>"
      ],
      "text/plain": [
       "<class 'statsmodels.iolib.summary2.Summary'>\n",
       "\"\"\"\n",
       "\n",
       "================================================================================================================================================================================================================================================================================================================================================================================================================================================================================================================================================================================================================================================================================================================================================================================================================================================================================================================================================================================================================================================================================================================================================================================================================================================================================================================================================================================================================================================================================================================================================================================================================================================\n",
       "                    volume I   volume II    volume III volume IIII volume IIIII volume IIIIII volume IIIIIII volume IIIIIIII volume IIIIIIIII volume IIIIIIIIII volume IIIIIIIIIII volume IIIIIIIIIIII volume IIIIIIIIIIIII volume IIIIIIIIIIIIII volume IIIIIIIIIIIIIII volume IIIIIIIIIIIIIIII volume IIIIIIIIIIIIIIIII volume IIIIIIIIIIIIIIIIII volume IIIIIIIIIIIIIIIIIII volume IIIIIIIIIIIIIIIIIIII volume IIIIIIIIIIIIIIIIIIIII volume IIIIIIIIIIIIIIIIIIIIII volume IIIIIIIIIIIIIIIIIIIIIII volume IIIIIIIIIIIIIIIIIIIIIIII volume IIIIIIIIIIIIIIIIIIIIIIIII volume IIIIIIIIIIIIIIIIIIIIIIIIII volume IIIIIIIIIIIIIIIIIIIIIIIIIII volume IIIIIIIIIIIIIIIIIIIIIIIIIIII volume IIIIIIIIIIIIIIIIIIIIIIIIIIIII volume IIIIIIIIIIIIIIIIIIIIIIIIIIIIII volume IIIIIIIIIIIIIIIIIIIIIIIIIIIIIII volume IIIIIIIIIIIIIIIIIIIIIIIIIIIIIIII volume IIIIIIIIIIIIIIIIIIIIIIIIIIIIIIIII volume IIIIIIIIIIIIIIIIIIIIIIIIIIIIIIIIII volume IIIIIIIIIIIIIIIIIIIIIIIIIIIIIIIIIII volume IIIIIIIIIIIIIIIIIIIIIIIIIIIIIIIIIIII volume IIIIIIIIIIIIIIIIIIIIIIIIIIIIIIIIIIIII volume IIIIIIIIIIIIIIIIIIIIIIIIIIIIIIIIIIIIII volume IIIIIIIIIIIIIIIIIIIIIIIIIIIIIIIIIIIIIII volume IIIIIIIIIIIIIIIIIIIIIIIIIIIIIIIIIIIIIIII volume IIIIIIIIIIIIIIIIIIIIIIIIIIIIIIIIIIIIIIIII volume IIIIIIIIIIIIIIIIIIIIIIIIIIIIIIIIIIIIIIIIII volume IIIIIIIIIIIIIIIIIIIIIIIIIIIIIIIIIIIIIIIIIII volume IIIIIIIIIIIIIIIIIIIIIIIIIIIIIIIIIIIIIIIIIIII volume IIIIIIIIIIIIIIIIIIIIIIIIIIIIIIIIIIIIIIIIIIIII volume IIIIIIIIIIIIIIIIIIIIIIIIIIIIIIIIIIIIIIIIIIIIII volume IIIIIIIIIIIIIIIIIIIIIIIIIIIIIIIIIIIIIIIIIIIIIII volume IIIIIIIIIIIIIIIIIIIIIIIIIIIIIIIIIIIIIIIIIIIIIIII\n",
       "------------------------------------------------------------------------------------------------------------------------------------------------------------------------------------------------------------------------------------------------------------------------------------------------------------------------------------------------------------------------------------------------------------------------------------------------------------------------------------------------------------------------------------------------------------------------------------------------------------------------------------------------------------------------------------------------------------------------------------------------------------------------------------------------------------------------------------------------------------------------------------------------------------------------------------------------------------------------------------------------------------------------------------------------------------------------------------------------------------------------------------------------------------------------------------------------------------------------------------------------------------------------------------------------------------------------------------------------------------------------------------------------------------------------------------------------------------------------------------------------------------------------------------------------------------------------------------------------------------------------------------------------\n",
       "HLSPREAD                                                                                                                                                                                                                                                                                                                                                                                                                                10768145.1***                                                                                                                 8950708.9***                                                                                             7265064.8***                                                                                                      9336880.7***                            7667082.5***                             6743361.5**                               7717463.9***                               7081594.8***                                8093904.0***                                 7198178.7***                                  6524014.4**                                    7550150.0***                                    7665302.9***                                     7578753.7***                                      7827760.4***                                       6991926.4**                                         7583963.1***                                         7968673.1***                                          7044028.6**                                            7280401.9***                                           \n",
       "advertising ratio                                                               57015.9       -1781825.5***  -547429.4*      -775518.7***     -108811.0         158292.2           -1255613.8***       -747318.2***         -684996.2***          -710705.5***           -654175.3***            -576368.4***             -625847.9***              -567341.9**                -754719.4***                -556938.6**                  -516601.7**                   -572208.2***                   -666176.2***                    -641728.6***                     -608037.8***                      -651627.3***                       -723502.4***                        -598852.2***                         -662349.6***                          -630277.6***                           -589208.6***                            -627033.9***                             -618892.0***                              -582964.9***                               -652296.5***                                -609914.0***                                 -602575.1***                                  -676688.3***                                   -654200.8***                                    -657859.7***                                     -632050.3***                                      -665312.3***                                       -678254.0***                                        -632144.9***                                         -669845.4***                                          -679594.7***                                           -690718.6***                                           \n",
       "atq               16.2***                                          13.2***      12.5***                                      10.3***          8.0***            12.6***                                9.9***               10.6***               11.4***                11.4***                 10.1***                  10.9***                   10.9***                    11.6***                     10.1***                      10.2***                       10.1***                        11.0***                         11.0***                          11.1***                           11.0***                            11.0***                             11.1***                              11.1***                               11.0***                                11.1***                                 10.5***                                  11.1***                                   11.1***                                    11.1***                                     10.6***                                      11.2***                                       11.1***                                        11.1***                                         11.1***                                          10.6***                                           10.7***                                            11.1***                                             10.6***                                              10.7***                                               11.1***                                                10.8***                                                \n",
       "bm                                                                                                                                                                                                                                                                                                                                                                                                                                                                                                                                                                                                                                                                                                                                                                                                                                                                                                                                                                                                                                                                                                                                                                                                           -11087743.7                                                                                                                                                                                               -426274.1                                            -12916927.4                                           -4611956.7                                                                                                    \n",
       "const             223872.1*** -22099.8     293348.8*** 73902.3**   -81742.9***  141671.1***   -50621.7       120876.6***     -157993.4***     99323.1***        81586.6*           -134419.1***        -49251.4*            -42657.6              -132658.6***           -116051.9***            139443.6***              32904.9                   36346.0                    -113455.1***                172660.3***                  80662.5**                     111014.1***                    64405.0                         95992.5**                        19835.0                           44592.4                            67668.0*                            54243.4                              103267.1**                            77956.6*                               -4266.9                                 33870.7                                  63224.8                                   30883.2                                    58364.8                                     11663.5                                      39717.8                                       68025.5                                        31928.1                                         38666.1                                          19592.7                                           18543.8                                            41342.6                                             19830.5                                              26067.4                                               44074.4                                                27088.2                                                \n",
       "extreme_ret                                                                                                                                                                                                                                                                                                                                                                                                54132.8***                                                                                                                47680.0***                                                                                                                                39268.3***                           51270.0***                            45891.2***                                                                     37794.6***                               42825.0***                                36691.6***                                 39605.9***                                  35329.8**                                    40228.7***                                    43348.7***                                     36628.1***                                      37471.3***                                       38917.0***                                        35694.2**                                          40375.4***                                          38945.9***                                           36653.7**                                             40697.9***                                             39441.9***                                             \n",
       "idio vol                                                                                                                                                                                               -6098029.8***                                                                             -7763641.8***            -6908091.7***             -6860291.6***                                          -9974368.2***                -11481538.2***                -7683385.5***                  -7382233.9***                   -9346514.2***                    -10479519.6***                    -7299269.8***                      -7491290.0***                       -11513962.2***                       -10012325.5***                        -9202914.7***                          -10521536.0***                          -11327230.3***                           -11905950.5***                            -11484686.4***                             -11564117.3***                              -11305669.5***                               -11870998.4***                                -11977441.2***                                 -11546626.9***                                  -11562515.8***                                   -11695488.1***                                    -11416464.7***                                     -11959043.1***                                      -11695634.9***                                       -11431804.1***                                        -11962546.0***                                         -11826768.8***                                         \n",
       "inst                                                                                                                                                            118470.6*                                                   -215233.6***                                                         -300162.4***                                                                  -1033785.1***               -312128.9***                 -277112.7***                  -318288.1***                   -1084018.5***                   -1062048.5***                    -1034009.7***                     -1083696.1***                      -1137113.8***                       -1025333.5***                        -1074059.7***                         -1062603.3***                          -1031504.8***                           -1008864.3***                            -1037849.3***                             -1023692.6***                              -1074759.5***                               -1007989.6***                                -1036091.3***                                 -1091021.8***                                  -1092060.9***                                   -1091835.8***                                    -1019852.0***                                     -1074016.2***                                      -1108336.9***                                       -1019773.8***                                        -1073314.4***                                         -1108120.7***                                          -1089190.0***                                          \n",
       "invest ratio                                                                                                                                                                                                                                                                                                                                                                                                                                                          3139171.7**                                                                                                                       2304894.5*                                                                                                                                        1965527.2                              2583889.8**                                                                                                                2264164.1*                                                                             2221458.8*                                   2245099.6*                                                                                   2734617.4**                                     2624015.4**                                      2198863.0*                                        2655583.3**                                        2735946.2**                                         2194258.4*                                           2524809.7*                                            2689931.2**                                            2650700.0**                                            \n",
       "passive inst                                           790580.1***                                                                                                                                                                                -70285.7                                                                -173854.7**                                          1274789.6***                                                                                                          1229471.7***                    1178774.5***                     1177387.7***                      1203971.1***                       1100124.0***                        1145443.3***                         1210174.1***                          1158888.9***                           1146548.4***                            1153551.4***                             1173663.1***                              1120463.2***                               1027861.5***                                1128926.4***                                 1148903.2***                                  1049849.2***                                   951706.8***                                     945406.8***                                      1159034.7***                                      975322.2***                                        974132.6***                                         1158897.8***                                         968558.1***                                           971343.2***                                            1000055.9***                                           \n",
       "perm passive inst                                                                                                                                                                                                                                                        -129301.3*                                                                 -208240.5***                                                                                                                                                                                                                                                                           221889.4                                                                                                                                                                                                                                                                                                                    202921.2                                                                                                                               215927.7                                       281995.8*                                       287231.0*                                                                                          252301.3                                           294908.1*                                                                                                257676.8                                              296988.4*                                              263125.3                                               \n",
       "profit margin                                                                                                                                                                                                                                                                                                                                                                                                                                                                                                                                                                                                                                                                                                       -93002.8*                                                                                                                                                     -76495.2                                                                                                                                                                      -75670.6                                      -80031.4                                                                                                                                        -78642.3                                                                                             -80228.4                                            -78585.5                                                                                                   -79624.1                                               -81816.2                                               \n",
       "total_polar_news                           3011.5***                                                         3858.4***                        1910.7***                            2955.7***                                                                                                                                                                                                                                                                                                                                                                                                                                                                                                                                                                                                                                             208.5                                                                                                                                                                     199.2                                                                                                                                                                                                                                      212.1                                             137.6                                                                                                  212.3                                                140.9                                                                                                        148.4                                                  \n",
       "turnover                      2123125.7***                         1560309.3***               1981484.8***                   1561809.9***                                          1451109.8***        1658172.6***         1671388.4***          1590479.4***           1588471.4***            1816611.3***             1714942.6***              1701155.2***               1677677.5***                1800203.1***                 1874357.9***                  1833082.2***                   1814920.4***                    1799746.4***                     1861517.2***                      1827384.9***                       1837127.6***                        1840244.9***                         1809961.8***                          1810958.6***                           1877540.6***                            1818865.6***                             1845738.9***                              1855708.0***                               1859491.2***                                1835021.2***                                 1861048.4***                                  1866472.7***                                   1885592.2***                                    1880167.4***                                     1839223.3***                                      1868157.7***                                       1892622.5***                                        1838974.4***                                         1861413.4***                                          1890313.1***                                           1873951.0***                                           \n",
       "N                 1615        1615         1615        1896        1615         853           853            853             853              853               815                853                 853                  815                   764                    764                     815                      764                       764                        764                         815                          815                           813                            764                             764                              764                               762                                764                                 764                                  764                                   762                                    762                                     764                                      764                                       762                                        764                                         762                                          762                                           764                                            762                                             762                                              762                                               762                                                762                                                 762                                                  762                                                   762                                                    762                                                    \n",
       "R2                0.34        0.26         0.14        0.06        0.47         0.48          0.41           0.45            0.72             0.53              0.50               0.64                0.73                 0.75                  0.74                   0.74                    0.77                     0.75                      0.75                       0.76                        0.77                         0.77                          0.77                           0.78                            0.78                             0.78                              0.78                               0.78                                0.78                                 0.78                                  0.78                                   0.78                                    0.78                                     0.78                                      0.78                                       0.78                                        0.78                                         0.78                                          0.78                                           0.78                                            0.78                                             0.78                                              0.78                                               0.79                                                0.78                                                 0.78                                                  0.79                                                   0.79                                                   \n",
       "Adj-R2            0.34        0.26         0.14        0.06        0.47         0.48          0.41           0.45            0.72             0.53              0.50               0.64                0.73                 0.75                  0.73                   0.73                    0.76                     0.75                      0.75                       0.76                        0.77                         0.77                          0.77                           0.78                            0.78                             0.78                              0.78                               0.78                                0.78                                 0.78                                  0.78                                   0.78                                    0.78                                     0.78                                      0.78                                       0.78                                        0.78                                         0.78                                          0.78                                           0.78                                            0.78                                             0.78                                              0.78                                               0.78                                                0.78                                                 0.78                                                  0.78                                                   0.78                                                   \n",
       "================================================================================================================================================================================================================================================================================================================================================================================================================================================================================================================================================================================================================================================================================================================================================================================================================================================================================================================================================================================================================================================================================================================================================================================================================================================================================================================================================================================================================================================================================================================================================================================================================================================\n",
       "Standard errors in parentheses.\n",
       "* p<.1, ** p<.05, ***p<.01\n",
       "\"\"\""
      ]
     },
     "execution_count": 64,
     "metadata": {},
     "output_type": "execute_result"
    }
   ],
   "source": [
    "summary"
   ]
  },
  {
   "cell_type": "code",
   "execution_count": 52,
   "metadata": {
    "collapsed": false
   },
   "outputs": [
    {
     "name": "stderr",
     "output_type": "stream",
     "text": [
      "C:\\Anaconda3\\lib\\site-packages\\statsmodels\\iolib\\summary2.py:372: SettingWithCopyWarning: \n",
      "A value is trying to be set on a copy of a slice from a DataFrame\n",
      "\n",
      "See the caveats in the documentation: http://pandas.pydata.org/pandas-docs/stable/indexing.html#indexing-view-versus-copy\n",
      "  res.ix[:, 0][idx] = res.ix[:, 0][idx] + '*'\n",
      "C:\\Anaconda3\\lib\\site-packages\\statsmodels\\iolib\\summary2.py:374: SettingWithCopyWarning: \n",
      "A value is trying to be set on a copy of a slice from a DataFrame\n",
      "\n",
      "See the caveats in the documentation: http://pandas.pydata.org/pandas-docs/stable/indexing.html#indexing-view-versus-copy\n",
      "  res.ix[:, 0][idx] = res.ix[:, 0][idx] + '*'\n",
      "C:\\Anaconda3\\lib\\site-packages\\statsmodels\\iolib\\summary2.py:376: SettingWithCopyWarning: \n",
      "A value is trying to be set on a copy of a slice from a DataFrame\n",
      "\n",
      "See the caveats in the documentation: http://pandas.pydata.org/pandas-docs/stable/indexing.html#indexing-view-versus-copy\n",
      "  res.ix[:, 0][idx] = res.ix[:, 0][idx] + '*'\n"
     ]
    },
    {
     "data": {
      "text/html": [
       "<table class=\"simpletable\">\n",
       "<tr>\n",
       "       <td></td>        <th>volume I</th>     <th>volume II</th>    <th>volume III</th>  <th>volume IIII</th> <th>volume IIIII</th> <th>volume IIIIII</th>\n",
       "</tr>\n",
       "<tr>\n",
       "  <th>atq</th>           <td>16.2***</td>         <td></td>           <td>16.2***</td>     <td>16.2***</td>      <td>16.3***</td>      <td>15.9***</td>   \n",
       "</tr>\n",
       "<tr>\n",
       "  <th></th>               <td>(0.6)</td>          <td></td>            <td>(0.6)</td>       <td>(0.6)</td>        <td>(0.6)</td>        <td>(0.6)</td>    \n",
       "</tr>\n",
       "<tr>\n",
       "  <th>bm</th>               <td></td>             <td></td>        <td>-13886160.8*</td>      <td></td>       <td>-14614578.7*</td>       <td></td>       \n",
       "</tr>\n",
       "<tr>\n",
       "  <th></th>                 <td></td>             <td></td>         <td>(8018307.3)</td>      <td></td>        <td>(8018107.9)</td>       <td></td>       \n",
       "</tr>\n",
       "<tr>\n",
       "  <th>const</th>       <td>223872.1***</td>  <td>533313.4***</td>   <td>236141.0***</td> <td>210279.8***</td>  <td>222638.6***</td>  <td>294989.8***</td> \n",
       "</tr>\n",
       "<tr>\n",
       "  <th></th>             <td>(19540.1)</td>    <td>(30384.7)</td>     <td>(20773.3)</td>   <td>(20697.8)</td>    <td>(21766.0)</td>    <td>(33768.2)</td>  \n",
       "</tr>\n",
       "<tr>\n",
       "  <th>extreme_ret</th>      <td></td>             <td></td>              <td></td>        <td>29761.5**</td>    <td>30973.7**</td>   <td>60751.7***</td>  \n",
       "</tr>\n",
       "<tr>\n",
       "  <th></th>                 <td></td>             <td></td>              <td></td>        <td>(15054.4)</td>    <td>(15058.3)</td>    <td>(17915.6)</td>  \n",
       "</tr>\n",
       "<tr>\n",
       "  <th>idio vol</th>         <td></td>       <td>-6398959.2***</td>       <td></td>            <td></td>             <td></td>       <td>-4653596.2***</td>\n",
       "</tr>\n",
       "<tr>\n",
       "  <th></th>                 <td></td>        <td>(1091499.1)</td>        <td></td>            <td></td>             <td></td>        <td>(1468213.2)</td> \n",
       "</tr>\n",
       "<tr>\n",
       "  <th>N</th>              <td>1615</td>         <td>1855</td>          <td>1615</td>        <td>1615</td>         <td>1615</td>         <td>1615</td>     \n",
       "</tr>\n",
       "<tr>\n",
       "  <th>R2</th>             <td>0.34</td>         <td>0.02</td>          <td>0.34</td>        <td>0.34</td>         <td>0.34</td>         <td>0.35</td>     \n",
       "</tr>\n",
       "<tr>\n",
       "  <th>Adj-R2</th>         <td>0.34</td>         <td>0.02</td>          <td>0.34</td>        <td>0.34</td>         <td>0.34</td>         <td>0.35</td>     \n",
       "</tr>\n",
       "</table>"
      ],
      "text/plain": [
       "<class 'statsmodels.iolib.summary2.Summary'>\n",
       "\"\"\"\n",
       "\n",
       "=========================================================================================\n",
       "              volume I    volume II    volume III  volume IIII volume IIIII volume IIIIII\n",
       "-----------------------------------------------------------------------------------------\n",
       "atq         16.2***                   16.2***      16.2***     16.3***      15.9***      \n",
       "            (0.6)                     (0.6)        (0.6)       (0.6)        (0.6)        \n",
       "bm                                    -13886160.8*             -14614578.7*              \n",
       "                                      (8018307.3)              (8018107.9)               \n",
       "const       223872.1*** 533313.4***   236141.0***  210279.8*** 222638.6***  294989.8***  \n",
       "            (19540.1)   (30384.7)     (20773.3)    (20697.8)   (21766.0)    (33768.2)    \n",
       "extreme_ret                                        29761.5**   30973.7**    60751.7***   \n",
       "                                                   (15054.4)   (15058.3)    (17915.6)    \n",
       "idio vol                -6398959.2***                                       -4653596.2***\n",
       "                        (1091499.1)                                         (1468213.2)  \n",
       "N           1615        1855          1615         1615        1615         1615         \n",
       "R2          0.34        0.02          0.34         0.34        0.34         0.35         \n",
       "Adj-R2      0.34        0.02          0.34         0.34        0.34         0.35         \n",
       "=========================================================================================\n",
       "Standard errors in parentheses.\n",
       "* p<.1, ** p<.05, ***p<.01\n",
       "\"\"\""
      ]
     },
     "execution_count": 52,
     "metadata": {},
     "output_type": "execute_result"
    }
   ],
   "source": [
    "xvars = ['atq','bm','idio vol', 'extreme_ret']\n",
    "keepnum = 2"
   ]
  },
  {
   "cell_type": "code",
   "execution_count": 42,
   "metadata": {
    "collapsed": false
   },
   "outputs": [
    {
     "data": {
      "text/plain": [
       "2.0"
      ]
     },
     "execution_count": 42,
     "metadata": {},
     "output_type": "execute_result"
    }
   ],
   "source": [
    "reg_list[4].df_model"
   ]
  },
  {
   "cell_type": "code",
   "execution_count": 27,
   "metadata": {
    "collapsed": true
   },
   "outputs": [],
   "source": [
    ""
   ]
  },
  {
   "cell_type": "code",
   "execution_count": 32,
   "metadata": {
    "collapsed": false
   },
   "outputs": [
    {
     "name": "stderr",
     "output_type": "stream",
     "text": [
      "C:\\Anaconda3\\lib\\site-packages\\statsmodels\\iolib\\summary2.py:372: SettingWithCopyWarning: \n",
      "A value is trying to be set on a copy of a slice from a DataFrame\n",
      "\n",
      "See the caveats in the documentation: http://pandas.pydata.org/pandas-docs/stable/indexing.html#indexing-view-versus-copy\n",
      "  res.ix[:, 0][idx] = res.ix[:, 0][idx] + '*'\n",
      "C:\\Anaconda3\\lib\\site-packages\\statsmodels\\iolib\\summary2.py:374: SettingWithCopyWarning: \n",
      "A value is trying to be set on a copy of a slice from a DataFrame\n",
      "\n",
      "See the caveats in the documentation: http://pandas.pydata.org/pandas-docs/stable/indexing.html#indexing-view-versus-copy\n",
      "  res.ix[:, 0][idx] = res.ix[:, 0][idx] + '*'\n",
      "C:\\Anaconda3\\lib\\site-packages\\statsmodels\\iolib\\summary2.py:376: SettingWithCopyWarning: \n",
      "A value is trying to be set on a copy of a slice from a DataFrame\n",
      "\n",
      "See the caveats in the documentation: http://pandas.pydata.org/pandas-docs/stable/indexing.html#indexing-view-versus-copy\n",
      "  res.ix[:, 0][idx] = res.ix[:, 0][idx] + '*'\n"
     ]
    },
    {
     "data": {
      "text/html": [
       "<table class=\"simpletable\">\n",
       "<tr>\n",
       "      <td></td>      <th>volume I</th>    <th>volume II</th>   <th>volume III</th>    <th>volume IIII</th> <th>volume IIIII</th> <th>volume IIIIII</th>\n",
       "</tr>\n",
       "<tr>\n",
       "  <th>atq</th>        <td>16.2***</td>        <td></td>             <td></td>           <td>16.2***</td>      <td>16.0***</td>         <td></td>       \n",
       "</tr>\n",
       "<tr>\n",
       "  <th></th>            <td>(0.6)</td>         <td></td>             <td></td>            <td>(0.6)</td>        <td>(0.6)</td>          <td></td>       \n",
       "</tr>\n",
       "<tr>\n",
       "  <th>bm</th>            <td></td>        <td>-344425.4</td>        <td></td>        <td>-13886160.8*</td>       <td></td>         <td>1674150.2</td>  \n",
       "</tr>\n",
       "<tr>\n",
       "  <th></th>              <td></td>       <td>(9868484.3)</td>       <td></td>         <td>(8018307.3)</td>       <td></td>        <td>(9793301.3)</td> \n",
       "</tr>\n",
       "<tr>\n",
       "  <th>const</th>    <td>223872.1***</td> <td>451387.0***</td>  <td>533313.4***</td>   <td>236141.0***</td>  <td>265011.7***</td>  <td>608898.9***</td> \n",
       "</tr>\n",
       "<tr>\n",
       "  <th></th>          <td>(19540.1)</td>   <td>(23916.7)</td>    <td>(30384.7)</td>     <td>(20773.3)</td>    <td>(32696.4)</td>    <td>(37927.4)</td>  \n",
       "</tr>\n",
       "<tr>\n",
       "  <th>idio vol</th>      <td></td>            <td></td>       <td>-6398959.2***</td>       <td></td>        <td>-1936476.7</td>  <td>-7916169.5***</td>\n",
       "</tr>\n",
       "<tr>\n",
       "  <th></th>              <td></td>            <td></td>        <td>(1091499.1)</td>        <td></td>        <td>(1234287.2)</td>  <td>(1487497.0)</td> \n",
       "</tr>\n",
       "<tr>\n",
       "  <th>N</th>           <td>1615</td>        <td>1615</td>         <td>1855</td>          <td>1615</td>         <td>1615</td>         <td>1615</td>     \n",
       "</tr>\n",
       "<tr>\n",
       "  <th>R2</th>          <td>0.34</td>        <td>0.00</td>         <td>0.02</td>          <td>0.34</td>         <td>0.34</td>         <td>0.02</td>     \n",
       "</tr>\n",
       "<tr>\n",
       "  <th>Adj-R2</th>      <td>0.34</td>        <td>-0.00</td>        <td>0.02</td>          <td>0.34</td>         <td>0.34</td>         <td>0.02</td>     \n",
       "</tr>\n",
       "</table>"
      ],
      "text/plain": [
       "<class 'statsmodels.iolib.summary2.Summary'>\n",
       "\"\"\"\n",
       "\n",
       "======================================================================================\n",
       "           volume I   volume II    volume III  volume IIII  volume IIIII volume IIIIII\n",
       "--------------------------------------------------------------------------------------\n",
       "atq      16.2***                               16.2***      16.0***                   \n",
       "         (0.6)                                 (0.6)        (0.6)                     \n",
       "bm                   -344425.4                 -13886160.8*              1674150.2    \n",
       "                     (9868484.3)               (8018307.3)               (9793301.3)  \n",
       "const    223872.1*** 451387.0*** 533313.4***   236141.0***  265011.7***  608898.9***  \n",
       "         (19540.1)   (23916.7)   (30384.7)     (20773.3)    (32696.4)    (37927.4)    \n",
       "idio vol                         -6398959.2***              -1936476.7   -7916169.5***\n",
       "                                 (1091499.1)                (1234287.2)  (1487497.0)  \n",
       "N        1615        1615        1855          1615         1615         1615         \n",
       "R2       0.34        0.00        0.02          0.34         0.34         0.02         \n",
       "Adj-R2   0.34        -0.00       0.02          0.34         0.34         0.02         \n",
       "======================================================================================\n",
       "Standard errors in parentheses.\n",
       "* p<.1, ** p<.05, ***p<.01\n",
       "\"\"\""
      ]
     },
     "execution_count": 32,
     "metadata": {},
     "output_type": "execute_result"
    }
   ],
   "source": [
    ""
   ]
  },
  {
   "cell_type": "code",
   "execution_count": null,
   "metadata": {
    "collapsed": true
   },
   "outputs": [],
   "source": [
    "res."
   ]
  },
  {
   "cell_type": "code",
   "execution_count": 30,
   "metadata": {
    "collapsed": true
   },
   "outputs": [],
   "source": [
    "summary_col?"
   ]
  },
  {
   "cell_type": "code",
   "execution_count": 17,
   "metadata": {
    "collapsed": true
   },
   "outputs": [],
   "source": [
    ""
   ]
  },
  {
   "cell_type": "code",
   "execution_count": 12,
   "metadata": {
    "collapsed": false
   },
   "outputs": [
    {
     "name": "stdout",
     "output_type": "stream",
     "text": [
      "                            OLS Regression Results                            \n",
      "==============================================================================\n",
      "Dep. Variable:                 volume   R-squared:                       0.777\n",
      "Model:                            OLS   Adj. R-squared:                  0.774\n",
      "Method:                 Least Squares   F-statistic:                     254.1\n",
      "Date:                Wed, 27 Jul 2016   Prob (F-statistic):          2.12e-252\n",
      "Time:                        14:10:11   Log-Likelihood:                -11540.\n",
      "No. Observations:                 813   AIC:                         2.310e+04\n",
      "Df Residuals:                     801   BIC:                         2.316e+04\n",
      "Df Model:                          11                                         \n",
      "Covariance Type:            nonrobust                                         \n",
      "=====================================================================================\n",
      "                        coef    std err          t      P>|t|      [95.0% Conf. Int.]\n",
      "-------------------------------------------------------------------------------------\n",
      "const               7.82e+04   5.11e+04      1.529      0.127     -2.22e+04  1.79e+05\n",
      "atq                   9.3641      0.493     18.997      0.000         8.397    10.332\n",
      "bm                -4.107e+07   3.86e+07     -1.064      0.288     -1.17e+08  3.47e+07\n",
      "idio vol          -1.245e+07   1.38e+06     -9.011      0.000     -1.52e+07 -9.74e+06\n",
      "extreme_ret        4.295e+04   1.46e+04      2.934      0.003      1.42e+04  7.17e+04\n",
      "HLSPREAD           1.028e+07   2.76e+06      3.725      0.000      4.86e+06  1.57e+07\n",
      "turnover           1.805e+06   6.85e+04     26.369      0.000      1.67e+06  1.94e+06\n",
      "total_polar_news    382.5811    168.952      2.264      0.024        50.939   714.223\n",
      "advertising ratio -5.628e+05   2.17e+05     -2.590      0.010     -9.89e+05 -1.36e+05\n",
      "profit margin     -3.476e+04    5.2e+04     -0.669      0.504     -1.37e+05  6.73e+04\n",
      "invest ratio       2.473e+06    1.3e+06      1.906      0.057     -7.37e+04  5.02e+06\n",
      "inst              -2.656e+05   5.11e+04     -5.195      0.000     -3.66e+05 -1.65e+05\n",
      "==============================================================================\n",
      "Omnibus:                      294.663   Durbin-Watson:                   0.536\n",
      "Prob(Omnibus):                  0.000   Jarque-Bera (JB):             3482.115\n",
      "Skew:                           1.292   Prob(JB):                         0.00\n",
      "Kurtosis:                      12.804   Cond. No.                     1.36e+08\n",
      "==============================================================================\n",
      "\n",
      "Warnings:\n",
      "[1] Standard Errors assume that the covariance matrix of the errors is correctly specified.\n",
      "[2] The condition number is large, 1.36e+08. This might indicate that there are\n",
      "strong multicollinearity or other numerical problems.\n"
     ]
    }
   ],
   "source": [
    "# xvars = ['atq','bm','idio vol','extreme_ret','HLSPREAD','turnover','total_polar_news',\n",
    "#          'advertising ratio', 'profit margin', 'invest ratio', 'inst']\n",
    "xvars = ['atq','bm','idio vol']\n",
    "\n",
    "\n",
    "print(reg_volume(df, xvars).summary())"
   ]
  },
  {
   "cell_type": "code",
   "execution_count": null,
   "metadata": {
    "collapsed": true
   },
   "outputs": [],
   "source": [
    ""
   ]
  },
  {
   "cell_type": "code",
   "execution_count": null,
   "metadata": {
    "collapsed": true
   },
   "outputs": [],
   "source": [
    ""
   ]
  },
  {
   "cell_type": "code",
   "execution_count": null,
   "metadata": {
    "collapsed": true
   },
   "outputs": [],
   "source": [
    ""
   ]
  },
  {
   "cell_type": "code",
   "execution_count": 26,
   "metadata": {
    "collapsed": false
   },
   "outputs": [],
   "source": [
    "from pandas import Timestamp\n",
    "import numpy \n",
    "b = pd.DataFrame(data = [\n",
    "('001076', Timestamp('1995-03-01 00:00:00'), Timestamp('1995-02-01 00:00:00')),\n",
    "('001076', Timestamp('1995-04-01 00:00:00'), Timestamp('1995-03-02 00:00:00')),\n",
    "('001722', Timestamp('2012-01-01 00:00:00'), Timestamp('2011-11-01 00:00:00')),\n",
    "('001722', Timestamp('2012-07-01 00:00:00'), Timestamp('2011-11-01 00:00:00')),\n",
    "('001722', numpy.timedelta64('NaT','ns'), numpy.timedelta64('NaT','ns')),\n",
    "(numpy.datetime64('NaT'), numpy.datetime64('2012-01-01T00:00:00.000000000'), numpy.datetime64('NaT')),\n",
    "], columns = ['GVKEY', 'Date', 'Date_y'])"
   ]
  },
  {
   "cell_type": "code",
   "execution_count": 27,
   "metadata": {
    "collapsed": false
   },
   "outputs": [
    {
     "data": {
      "text/plain": [
       "GVKEY     object\n",
       "Date      object\n",
       "Date_y    object\n",
       "dtype: object"
      ]
     },
     "execution_count": 27,
     "metadata": {},
     "output_type": "execute_result"
    }
   ],
   "source": [
    "b.dtypes"
   ]
  },
  {
   "cell_type": "code",
   "execution_count": 23,
   "metadata": {
    "collapsed": false
   },
   "outputs": [
    {
     "data": {
      "text/plain": [
       "GVKEY             object\n",
       "Date      datetime64[ns]\n",
       "Date_y    datetime64[ns]\n",
       "dtype: object"
      ]
     },
     "execution_count": 23,
     "metadata": {},
     "output_type": "execute_result"
    }
   ],
   "source": [
    "a.dtypes"
   ]
  },
  {
   "cell_type": "code",
   "execution_count": 20,
   "metadata": {
    "collapsed": true
   },
   "outputs": [],
   "source": [
    "def left_merge_latest(df, df2, on, left_datevar='Date', right_datevar='Date'):\n",
    "    if isinstance(on, str):\n",
    "        on = [on]\n",
    "        \n",
    "    rename = False\n",
    "    #if they are named the same, pandas will automatically add _x and _y to names\n",
    "    if left_datevar == right_datevar: \n",
    "        rename = True #will need to rename the _x datevar for the last step\n",
    "        orig_left_datevar = left_datevar\n",
    "        left_datevar += '_x'\n",
    "        right_datevar += '_y'\n",
    "    \n",
    "    many = df.merge(df2, on=on, how='left')\n",
    "    lt = many.loc[many[left_datevar] >= many[right_datevar]] #left with datadates less than date\n",
    "\n",
    "    #find rows within groups which have the maximum right_datevar (soonest before left_datevar)\n",
    "    data_rows = lt.groupby(on + [left_datevar], as_index=False)[right_datevar].max() \\\n",
    "        .merge(lt, on=on + [left_datevar, right_datevar], how='left')\n",
    "        \n",
    "    if rename: #remove the _x for final merge\n",
    "        data_rows.rename(columns={left_datevar: orig_left_datevar}, inplace=True)\n",
    "        return df.merge(data_rows, on=on + [orig_left_datevar], how='left')\n",
    "    \n",
    "    #if no renaming is required, just merge and exit\n",
    "    return df.merge(data_rows, on=on + [left_datevar], how='left')"
   ]
  },
  {
   "cell_type": "code",
   "execution_count": 16,
   "metadata": {
    "collapsed": false
   },
   "outputs": [
    {
     "data": {
      "text/html": [
       "<div>\n",
       "<table border=\"1\" class=\"dataframe\">\n",
       "  <thead>\n",
       "    <tr style=\"text-align: right;\">\n",
       "      <th></th>\n",
       "      <th>GVKEY</th>\n",
       "      <th>Date_x</th>\n",
       "      <th>Date_y</th>\n",
       "    </tr>\n",
       "  </thead>\n",
       "  <tbody>\n",
       "    <tr>\n",
       "      <th>0</th>\n",
       "      <td>001076</td>\n",
       "      <td>1995-03-01</td>\n",
       "      <td>1995-02-01</td>\n",
       "    </tr>\n",
       "    <tr>\n",
       "      <th>1</th>\n",
       "      <td>001076</td>\n",
       "      <td>1995-04-01</td>\n",
       "      <td>1995-03-02</td>\n",
       "    </tr>\n",
       "    <tr>\n",
       "      <th>2</th>\n",
       "      <td>001722</td>\n",
       "      <td>2012-01-01</td>\n",
       "      <td>2011-11-01</td>\n",
       "    </tr>\n",
       "    <tr>\n",
       "      <th>3</th>\n",
       "      <td>001722</td>\n",
       "      <td>2012-07-01</td>\n",
       "      <td>2011-11-01</td>\n",
       "    </tr>\n",
       "  </tbody>\n",
       "</table>\n",
       "</div>"
      ],
      "text/plain": [
       "    GVKEY     Date_x     Date_y\n",
       "0  001076 1995-03-01 1995-02-01\n",
       "1  001076 1995-04-01 1995-03-02\n",
       "2  001722 2012-01-01 2011-11-01\n",
       "3  001722 2012-07-01 2011-11-01"
      ]
     },
     "execution_count": 16,
     "metadata": {},
     "output_type": "execute_result"
    }
   ],
   "source": [
    "left_datevar = 'Date_x'\n",
    "right_datevar = 'Date_y'\n",
    "on = ['GVKEY']\n",
    "\n",
    "many = df_gvkey_str.merge(df_gvkey_str2, on='GVKEY', how='left')\n",
    "lt = many.loc[many['Date_x'] >= many['Date_y']]\n",
    "data_rows = lt.groupby(on + [left_datevar], as_index=False)[right_datevar].max() \\\n",
    "        .merge(lt, on=on + [left_datevar, right_datevar], how='left')\n",
    "data_rows"
   ]
  },
  {
   "cell_type": "code",
   "execution_count": 2,
   "metadata": {
    "collapsed": false
   },
   "outputs": [
    {
     "data": {
      "text/html": [
       "<div>\n",
       "<table border=\"1\" class=\"dataframe\">\n",
       "  <thead>\n",
       "    <tr style=\"text-align: right;\">\n",
       "      <th></th>\n",
       "      <th>gvkey</th>\n",
       "      <th>datadate</th>\n",
       "      <th>saleq</th>\n",
       "      <th>capxq</th>\n",
       "    </tr>\n",
       "  </thead>\n",
       "  <tbody>\n",
       "    <tr>\n",
       "      <th>0</th>\n",
       "      <td>001076</td>\n",
       "      <td>1981-06-30</td>\n",
       "      <td>NaN</td>\n",
       "      <td>NaN</td>\n",
       "    </tr>\n",
       "    <tr>\n",
       "      <th>1</th>\n",
       "      <td>001076</td>\n",
       "      <td>1981-09-30</td>\n",
       "      <td>NaN</td>\n",
       "      <td>NaN</td>\n",
       "    </tr>\n",
       "    <tr>\n",
       "      <th>2</th>\n",
       "      <td>001076</td>\n",
       "      <td>1981-12-31</td>\n",
       "      <td>NaN</td>\n",
       "      <td>NaN</td>\n",
       "    </tr>\n",
       "    <tr>\n",
       "      <th>3</th>\n",
       "      <td>001076</td>\n",
       "      <td>1982-03-31</td>\n",
       "      <td>48.632</td>\n",
       "      <td>NaN</td>\n",
       "    </tr>\n",
       "    <tr>\n",
       "      <th>4</th>\n",
       "      <td>001076</td>\n",
       "      <td>1982-06-30</td>\n",
       "      <td>13.539</td>\n",
       "      <td>NaN</td>\n",
       "    </tr>\n",
       "  </tbody>\n",
       "</table>\n",
       "</div>"
      ],
      "text/plain": [
       "    gvkey   datadate   saleq  capxq\n",
       "0  001076 1981-06-30     NaN    NaN\n",
       "1  001076 1981-09-30     NaN    NaN\n",
       "2  001076 1981-12-31     NaN    NaN\n",
       "3  001076 1982-03-31  48.632    NaN\n",
       "4  001076 1982-06-30  13.539    NaN"
      ]
     },
     "execution_count": 2,
     "metadata": {},
     "output_type": "execute_result"
    }
   ],
   "source": [
    "import dero\n",
    "comp = dero.compustat.load_compustat(get=['sale', 'capx'], freq='q', debug=True)\n",
    "comp.head()"
   ]
  },
  {
   "cell_type": "code",
   "execution_count": 5,
   "metadata": {
    "collapsed": true
   },
   "outputs": [],
   "source": [
    "dero.pandas.show_df(comp)"
   ]
  },
  {
   "cell_type": "code",
   "execution_count": null,
   "metadata": {
    "collapsed": true
   },
   "outputs": [],
   "source": [
    "def merge_compustat(df, compdf, datevar='Date'):\n",
    "    return dero.pandas.left_merge_latest(df, compdf, 'gvkey',\n",
    "                                         left_datevar=datevar,\n",
    "                                         right_datevar='datadate')"
   ]
  },
  {
   "cell_type": "code",
   "execution_count": 2,
   "metadata": {
    "collapsed": false
   },
   "outputs": [
    {
     "name": "stdout",
     "output_type": "stream",
     "text": [
      "pd.DataFrame(data = [\n",
      "('001076', Timestamp('1995-03-01 00:00:00'), Timestamp('1994-12-31 00:00:00'), 56.511, 21.96799999999999),\n",
      "('001076', Timestamp('1995-04-01 00:00:00'), Timestamp('1995-03-31 00:00:00'), 59.551, 29.421000000000006),\n",
      "('001722', Timestamp('2012-01-01 00:00:00'), Timestamp('2011-12-31 00:00:00'), 23306.0, 409.0),\n",
      "('001722', Timestamp('2012-07-01 00:00:00'), Timestamp('2012-06-30 00:00:00'), 22675.0, 284.0),\n",
      "(numpy.timedelta64(1722,'ns'), numpy.timedelta64('NaT','ns'), numpy.timedelta64('NaT','ns'), numpy.timedelta64('NaT','ns'), numpy.timedelta64('NaT','ns')),\n",
      "(numpy.datetime64('NaT'), numpy.datetime64('2012-01-01T00:00:00.000000000'), numpy.datetime64('NaT'), numpy.datetime64('NaT'), numpy.datetime64('NaT')),\n",
      "], columns = ['gvkey', 'Date', 'datadate', 'saleq', 'capxq'])\n"
     ]
    },
    {
     "data": {
      "text/html": [
       "<div>\n",
       "<table border=\"1\" class=\"dataframe\">\n",
       "  <thead>\n",
       "    <tr style=\"text-align: right;\">\n",
       "      <th></th>\n",
       "      <th>gvkey</th>\n",
       "      <th>Date</th>\n",
       "      <th>datadate</th>\n",
       "      <th>saleq</th>\n",
       "      <th>capxq</th>\n",
       "    </tr>\n",
       "  </thead>\n",
       "  <tbody>\n",
       "    <tr>\n",
       "      <th>0</th>\n",
       "      <td>001076</td>\n",
       "      <td>1995-03-01</td>\n",
       "      <td>1994-12-31</td>\n",
       "      <td>56.511</td>\n",
       "      <td>21.968</td>\n",
       "    </tr>\n",
       "    <tr>\n",
       "      <th>1</th>\n",
       "      <td>001076</td>\n",
       "      <td>1995-04-01</td>\n",
       "      <td>1995-03-31</td>\n",
       "      <td>59.551</td>\n",
       "      <td>29.421</td>\n",
       "    </tr>\n",
       "    <tr>\n",
       "      <th>2</th>\n",
       "      <td>001722</td>\n",
       "      <td>2012-01-01</td>\n",
       "      <td>2011-12-31</td>\n",
       "      <td>23306.000</td>\n",
       "      <td>409.000</td>\n",
       "    </tr>\n",
       "    <tr>\n",
       "      <th>3</th>\n",
       "      <td>001722</td>\n",
       "      <td>2012-07-01</td>\n",
       "      <td>2012-06-30</td>\n",
       "      <td>22675.000</td>\n",
       "      <td>284.000</td>\n",
       "    </tr>\n",
       "    <tr>\n",
       "      <th>4</th>\n",
       "      <td>001722</td>\n",
       "      <td>NaT</td>\n",
       "      <td>NaT</td>\n",
       "      <td>NaN</td>\n",
       "      <td>NaN</td>\n",
       "    </tr>\n",
       "    <tr>\n",
       "      <th>5</th>\n",
       "      <td>NaN</td>\n",
       "      <td>2012-01-01</td>\n",
       "      <td>NaT</td>\n",
       "      <td>NaN</td>\n",
       "      <td>NaN</td>\n",
       "    </tr>\n",
       "  </tbody>\n",
       "</table>\n",
       "</div>"
      ],
      "text/plain": [
       "    gvkey       Date   datadate      saleq    capxq\n",
       "0  001076 1995-03-01 1994-12-31     56.511   21.968\n",
       "1  001076 1995-04-01 1995-03-31     59.551   29.421\n",
       "2  001722 2012-01-01 2011-12-31  23306.000  409.000\n",
       "3  001722 2012-07-01 2012-06-30  22675.000  284.000\n",
       "4  001722        NaT        NaT        NaN      NaN\n",
       "5     NaN 2012-01-01        NaT        NaN      NaN"
      ]
     },
     "execution_count": 2,
     "metadata": {},
     "output_type": "execute_result"
    }
   ],
   "source": [
    "import dero\n",
    "a = dero.data.load_and_merge_compustat(df_gvkey_str, get=['sale', 'capx'], freq='q',\n",
    "                                                  gvkeyvar='GVKEY', debug=True)\n",
    "dero.pandas.to_copy_paste(a)\n",
    "a"
   ]
  },
  {
   "cell_type": "markdown",
   "metadata": {},
   "source": [
    "For some reason, 001722 is still not working correctly even though 001076 is fine. Capxq should be (409, 284). It seems that for some reason, it's grabbing the prior observation. Saleq should be (23306, 22675)\n",
    "\n",
    "Also, did not do lagging by groups, so first obs for each group is probably wrong"
   ]
  },
  {
   "cell_type": "code",
   "execution_count": 17,
   "metadata": {
    "collapsed": false
   },
   "outputs": [
    {
     "data": {
      "text/plain": [
       "'abc'"
      ]
     },
     "execution_count": 17,
     "metadata": {},
     "output_type": "execute_result"
    }
   ],
   "source": [
    "'abcc'[:-1]"
   ]
  },
  {
   "cell_type": "code",
   "execution_count": 12,
   "metadata": {
    "collapsed": false
   },
   "outputs": [],
   "source": [
    ""
   ]
  },
  {
   "cell_type": "code",
   "execution_count": 3,
   "metadata": {
    "collapsed": true
   },
   "outputs": [],
   "source": [
    "dero.pandas.show_df(comp)"
   ]
  },
  {
   "cell_type": "code",
   "execution_count": 9,
   "metadata": {
    "collapsed": false
   },
   "outputs": [
    {
     "name": "stdout",
     "output_type": "stream",
     "text": [
      "pd.DataFrame(data = [\n",
      "('001076', Timestamp('1995-03-01 00:00:00'), Timestamp('1994-03-31 00:00:00'), 185.18400000000003, 144.917, 59.83),\n",
      "('001076', Timestamp('1995-04-01 00:00:00'), Timestamp('1995-03-31 00:00:00'), 228.892, 157.52700000000002, 84.95100000000001),\n",
      "('001722', Timestamp('2012-01-01 00:00:00'), Timestamp('2011-06-30 00:00:00'), 80676.0, 42193.0, 18808.0),\n",
      "('001722', Timestamp('2012-07-01 00:00:00'), Timestamp('2012-06-30 00:00:00'), 89038.0, 42193.0, 18808.0),\n",
      "(numpy.timedelta64(1722,'ns'), numpy.timedelta64('NaT','ns'), numpy.timedelta64('NaT','ns'), numpy.timedelta64('NaT','ns'), numpy.timedelta64('NaT','ns'), numpy.timedelta64('NaT','ns')),\n",
      "(numpy.datetime64('NaT'), numpy.datetime64('2012-01-01T00:00:00.000000000'), numpy.datetime64('NaT'), numpy.datetime64('NaT'), numpy.datetime64('NaT'), numpy.datetime64('NaT')),\n",
      "], columns = ['gvkey', 'abc', 'datadate', 'sale', 'at', 'ceq'])\n"
     ]
    },
    {
     "data": {
      "text/html": [
       "<div>\n",
       "<table border=\"1\" class=\"dataframe\">\n",
       "  <thead>\n",
       "    <tr style=\"text-align: right;\">\n",
       "      <th></th>\n",
       "      <th>gvkey</th>\n",
       "      <th>abc</th>\n",
       "      <th>datadate</th>\n",
       "      <th>sale</th>\n",
       "      <th>at</th>\n",
       "      <th>ceq</th>\n",
       "    </tr>\n",
       "  </thead>\n",
       "  <tbody>\n",
       "    <tr>\n",
       "      <th>0</th>\n",
       "      <td>001076</td>\n",
       "      <td>1995-03-01</td>\n",
       "      <td>1994-03-31</td>\n",
       "      <td>185.184</td>\n",
       "      <td>144.917</td>\n",
       "      <td>59.830</td>\n",
       "    </tr>\n",
       "    <tr>\n",
       "      <th>1</th>\n",
       "      <td>001076</td>\n",
       "      <td>1995-04-01</td>\n",
       "      <td>1995-03-31</td>\n",
       "      <td>228.892</td>\n",
       "      <td>157.527</td>\n",
       "      <td>84.951</td>\n",
       "    </tr>\n",
       "    <tr>\n",
       "      <th>2</th>\n",
       "      <td>001722</td>\n",
       "      <td>2012-01-01</td>\n",
       "      <td>2011-06-30</td>\n",
       "      <td>80676.000</td>\n",
       "      <td>42193.000</td>\n",
       "      <td>18808.000</td>\n",
       "    </tr>\n",
       "    <tr>\n",
       "      <th>3</th>\n",
       "      <td>001722</td>\n",
       "      <td>2012-07-01</td>\n",
       "      <td>2012-06-30</td>\n",
       "      <td>89038.000</td>\n",
       "      <td>42193.000</td>\n",
       "      <td>18808.000</td>\n",
       "    </tr>\n",
       "    <tr>\n",
       "      <th>4</th>\n",
       "      <td>001722</td>\n",
       "      <td>NaT</td>\n",
       "      <td>NaT</td>\n",
       "      <td>NaN</td>\n",
       "      <td>NaN</td>\n",
       "      <td>NaN</td>\n",
       "    </tr>\n",
       "    <tr>\n",
       "      <th>5</th>\n",
       "      <td>NaN</td>\n",
       "      <td>2012-01-01</td>\n",
       "      <td>NaT</td>\n",
       "      <td>NaN</td>\n",
       "      <td>NaN</td>\n",
       "      <td>NaN</td>\n",
       "    </tr>\n",
       "  </tbody>\n",
       "</table>\n",
       "</div>"
      ],
      "text/plain": [
       "    gvkey        abc   datadate       sale         at        ceq\n",
       "0  001076 1995-03-01 1994-03-31    185.184    144.917     59.830\n",
       "1  001076 1995-04-01 1995-03-31    228.892    157.527     84.951\n",
       "2  001722 2012-01-01 2011-06-30  80676.000  42193.000  18808.000\n",
       "3  001722 2012-07-01 2012-06-30  89038.000  42193.000  18808.000\n",
       "4  001722        NaT        NaT        NaN        NaN        NaN\n",
       "5     NaN 2012-01-01        NaT        NaN        NaN        NaN"
      ]
     },
     "execution_count": 9,
     "metadata": {},
     "output_type": "execute_result"
    }
   ],
   "source": [
    "import dero\n",
    "\n",
    "df = df_gvkey_num.rename(columns={'Date':'abc'})\n",
    "a = dero.data.load_and_merge_compustat(df, get=['sale','at','ceq'], freq='a',\n",
    "                                   gvkeyvar='GVKEY', debug=True, datevar='abc')\n",
    "dero.pandas.to_copy_paste(a)\n",
    "a"
   ]
  },
  {
   "cell_type": "code",
   "execution_count": 13,
   "metadata": {
    "collapsed": false
   },
   "outputs": [
    {
     "name": "stdout",
     "output_type": "stream",
     "text": [
      "pd.DataFrame(data = [\n",
      "('001076', Timestamp('1995-03-01 00:00:00')),\n",
      "('001076', Timestamp('1995-04-01 00:00:00')),\n",
      "('001722', Timestamp('2012-01-01 00:00:00')),\n",
      "('001722', Timestamp('2012-07-01 00:00:00')),\n",
      "(numpy.timedelta64(1722,'ns'), numpy.timedelta64('NaT','ns')),\n",
      "(numpy.datetime64('NaT'), numpy.datetime64('2012-01-01T00:00:00.000000000')),\n",
      "], columns = ['gvkey', 'Date'])\n"
     ]
    }
   ],
   "source": [
    "dero.pandas.to_copy_paste(df_gvkey_num)"
   ]
  },
  {
   "cell_type": "code",
   "execution_count": 12,
   "metadata": {
    "collapsed": false
   },
   "outputs": [
    {
     "data": {
      "text/plain": [
       "str"
      ]
     },
     "execution_count": 12,
     "metadata": {},
     "output_type": "execute_result"
    }
   ],
   "source": [
    "type(a.loc[4,'gvkey'])"
   ]
  },
  {
   "cell_type": "code",
   "execution_count": 2,
   "metadata": {
    "collapsed": false
   },
   "outputs": [],
   "source": [
    "import os, dero\n",
    "from numpy import nan, float64, issubdtype, number\n",
    "\n",
    "def load_and_merge_compustat(df, get=['sale'], freq='a', gvkeyvar='gvkey', datevar='Date', debug=False,\n",
    "                             comp_dir=r'C:\\Users\\derobertisna.UFAD\\Desktop\\Data\\Compustat'):\n",
    "    \"\"\"\n",
    "    Convenience function for both loading and merging compustat to existing dataframe.\n",
    "    \n",
    "    Required inputs:\n",
    "    df: Pandas dataframe containing a date variable and gvkey, gvkey variable must be 'gvkey'\n",
    "    \n",
    "    Optional inputs:\n",
    "    get: List of strings, variable names to pull from compustat, not including those needed for\n",
    "         the merge. Do not add the 'q' for quarterly variables, this is done automatically.\n",
    "    freq: string, 'a' or 'q' for annual or quarterly compustat (funda, fundq)\n",
    "    datevar: string, name of date variable in df on which to merge. Will pull the newest data\n",
    "             that is before or on this date.\n",
    "    debug: bool, True to restrict to only gvkeys (001076, 001722)\n",
    "    comp_dir: string, directory containing compustat files\n",
    "    \"\"\"\n",
    "    convert_gvkey(df, gvkeyvar)\n",
    "    comp = load_compustat(freq, get=get, debug=debug, comp_dir=comp_dir)\n",
    "    return merge_compustat(df, comp, datevar=datevar)\n",
    "\n",
    "def compustat_keep_mask(df):\n",
    "    return (df['indfmt'] == 'INDL') & (df['datafmt'] == 'STD') & \\\n",
    "           (df['popsrc'] == 'D')    & (df['consol'] == 'C')\n",
    "    \n",
    "def add_q(get, freq):\n",
    "    \"\"\"\n",
    "    Takes a list of get vars and adds q to work with quarterly file\n",
    "    \"\"\"\n",
    "    if freq in ('q', 'quarterly'):\n",
    "        return [g + 'q' for g in get]\n",
    "    else:\n",
    "        return get\n",
    "    \n",
    "def check_freq(freq):\n",
    "    freq = freq.lower()\n",
    "    assert freq in ('a','q','annual','quarterly')\n",
    "    return freq\n",
    "\n",
    "def freq_to_name(freq, debug):\n",
    "    if freq in ('a','annual'):\n",
    "        name = 'funda'\n",
    "    elif freq in ('q', 'quarterly'):\n",
    "        name = 'fundq'\n",
    "    if debug:\n",
    "        name += '_test'\n",
    "    name += '.sas7bdat'\n",
    "    return name\n",
    "    \n",
    "def keep_relevant_data_compustat(df, get=['sale'], freq='a'):\n",
    "    get = add_q(get, freq) #adds 'q' to getvars if freq='q'\n",
    "    mask = compustat_keep_mask(df)\n",
    "    keepvars = ['gvkey','datadate'] + get\n",
    "    return df.loc[mask, keepvars].reset_index(drop=True)\n",
    "\n",
    "def convert_date_compustat(df):\n",
    "    df['datadate'] = dero.pandas.convert_sas_date_to_pandas_date(df['datadate'])\n",
    "    \n",
    "def load_compustat(freq, get=['sale'], debug=False, comp_dir=r'C:\\Users\\derobertisna.UFAD\\Desktop\\Data\\Compustat'):\n",
    "    freq = check_freq(freq)\n",
    "    name = freq_to_name(freq, debug)\n",
    "    path = os.path.join(comp_dir, name)\n",
    "    comp = dero.pandas.load_sas(path, dtype={'gvkey':str})\n",
    "    comp = keep_relevant_data_compustat(comp, freq=freq)\n",
    "    convert_date_compustat(comp)\n",
    "    return comp\n",
    "\n",
    "def merge_compustat(df, compdf, datevar='Date'):\n",
    "    many = df.merge(compdf, on='gvkey', how='left')\n",
    "    lt = many.loc[many[datevar] >= many['datadate']] #left with datadates less than date\n",
    "\n",
    "    #find rows within groups which have the maximum datadate (soonest before given date)\n",
    "    data_rows = lt.groupby(['gvkey',datevar], as_index=False).max()\n",
    "    \n",
    "    return df.merge(data_rows, on=['gvkey',datevar], how='left')\n",
    "\n",
    "def convert_numeric_gvkey_to_string(gvkey):\n",
    "    \"\"\"\n",
    "    Converts a single numeric gvkey to string\n",
    "    \"\"\"\n",
    "    str_gvkey = str(int(gvkey))\n",
    "    num_zeroes = 6 - len(str_gvkey)\n",
    "    return '0' * num_zeroes + str_gvkey\n",
    "\n",
    "def convert_gvkey_col(gvkey):\n",
    "    \"\"\"\n",
    "    Converts a column of numeric gvkeys to string\n",
    "    \"\"\"\n",
    "    if pd.isnull(gvkey): return nan\n",
    "    else:\n",
    "        return convert_numeric_gvkey_to_string(gvkey)\n",
    "    \n",
    "def convert_gvkey(df, gvkeyvar):\n",
    "    \"\"\"\n",
    "    Renames gvkeyvar to 'gvkey' and converts to string if necessary\n",
    "    \n",
    "    Note: this is inplace\n",
    "    \"\"\"\n",
    "    if gvkeyvar != 'gvkey':\n",
    "        df.rename(columns={gvkeyvar: 'gvkey'}, inplace=True)\n",
    "    if issubdtype(df['gvkey'].dtype, number):\n",
    "        df['gvkey'] = df['gvkey'].apply(convert_gvkey_col)"
   ]
  },
  {
   "cell_type": "code",
   "execution_count": 26,
   "metadata": {
    "collapsed": false
   },
   "outputs": [
    {
     "data": {
      "text/plain": [
       "True"
      ]
     },
     "execution_count": 26,
     "metadata": {},
     "output_type": "execute_result"
    }
   ],
   "source": [
    "import numpy as np\n",
    "\n",
    "np.issubdtype(df_gvkey_num['GVKEY'].dtype, np.number)"
   ]
  },
  {
   "cell_type": "code",
   "execution_count": 23,
   "metadata": {
    "collapsed": false
   },
   "outputs": [],
   "source": [
    "import pandas as pd\n",
    "\n",
    "\n",
    "    \n",
    "    \n",
    "convert_gvkey(df)"
   ]
  },
  {
   "cell_type": "code",
   "execution_count": 24,
   "metadata": {
    "collapsed": false
   },
   "outputs": [
    {
     "data": {
      "text/html": [
       "<div>\n",
       "<table border=\"1\" class=\"dataframe\">\n",
       "  <thead>\n",
       "    <tr style=\"text-align: right;\">\n",
       "      <th></th>\n",
       "      <th>gvkey</th>\n",
       "      <th>Date</th>\n",
       "    </tr>\n",
       "  </thead>\n",
       "  <tbody>\n",
       "    <tr>\n",
       "      <th>0</th>\n",
       "      <td>001076</td>\n",
       "      <td>1995-03-01</td>\n",
       "    </tr>\n",
       "    <tr>\n",
       "      <th>1</th>\n",
       "      <td>001076</td>\n",
       "      <td>1995-04-01</td>\n",
       "    </tr>\n",
       "    <tr>\n",
       "      <th>2</th>\n",
       "      <td>001722</td>\n",
       "      <td>2012-01-01</td>\n",
       "    </tr>\n",
       "    <tr>\n",
       "      <th>3</th>\n",
       "      <td>001722</td>\n",
       "      <td>2012-07-01</td>\n",
       "    </tr>\n",
       "    <tr>\n",
       "      <th>4</th>\n",
       "      <td>001722</td>\n",
       "      <td>NaT</td>\n",
       "    </tr>\n",
       "    <tr>\n",
       "      <th>5</th>\n",
       "      <td>NaN</td>\n",
       "      <td>2012-01-01</td>\n",
       "    </tr>\n",
       "  </tbody>\n",
       "</table>\n",
       "</div>"
      ],
      "text/plain": [
       "    gvkey       Date\n",
       "0  001076 1995-03-01\n",
       "1  001076 1995-04-01\n",
       "2  001722 2012-01-01\n",
       "3  001722 2012-07-01\n",
       "4  001722        NaT\n",
       "5     NaN 2012-01-01"
      ]
     },
     "execution_count": 24,
     "metadata": {},
     "output_type": "execute_result"
    }
   ],
   "source": [
    "df"
   ]
  },
  {
   "cell_type": "code",
   "execution_count": 4,
   "metadata": {
    "collapsed": false
   },
   "outputs": [
    {
     "data": {
      "text/html": [
       "<div>\n",
       "<table border=\"1\" class=\"dataframe\">\n",
       "  <thead>\n",
       "    <tr style=\"text-align: right;\">\n",
       "      <th></th>\n",
       "      <th>gvkey</th>\n",
       "      <th>Date</th>\n",
       "      <th>datadate</th>\n",
       "      <th>sale</th>\n",
       "    </tr>\n",
       "  </thead>\n",
       "  <tbody>\n",
       "    <tr>\n",
       "      <th>0</th>\n",
       "      <td>1076.0</td>\n",
       "      <td>1995-03-01</td>\n",
       "      <td>NaT</td>\n",
       "      <td>NaN</td>\n",
       "    </tr>\n",
       "    <tr>\n",
       "      <th>1</th>\n",
       "      <td>1076.0</td>\n",
       "      <td>1995-04-01</td>\n",
       "      <td>NaT</td>\n",
       "      <td>NaN</td>\n",
       "    </tr>\n",
       "    <tr>\n",
       "      <th>2</th>\n",
       "      <td>1722.0</td>\n",
       "      <td>2012-01-01</td>\n",
       "      <td>NaT</td>\n",
       "      <td>NaN</td>\n",
       "    </tr>\n",
       "    <tr>\n",
       "      <th>3</th>\n",
       "      <td>1722.0</td>\n",
       "      <td>2012-07-01</td>\n",
       "      <td>NaT</td>\n",
       "      <td>NaN</td>\n",
       "    </tr>\n",
       "  </tbody>\n",
       "</table>\n",
       "</div>"
      ],
      "text/plain": [
       "    gvkey       Date datadate  sale\n",
       "0  1076.0 1995-03-01      NaT   NaN\n",
       "1  1076.0 1995-04-01      NaT   NaN\n",
       "2  1722.0 2012-01-01      NaT   NaN\n",
       "3  1722.0 2012-07-01      NaT   NaN"
      ]
     },
     "execution_count": 4,
     "metadata": {},
     "output_type": "execute_result"
    }
   ],
   "source": [
    "df = df_gvkey_num.rename(columns={'GVKEY':'gvkey'})\n",
    "a = load_and_merge_compustat(df, debug=True)\n",
    "a"
   ]
  },
  {
   "cell_type": "code",
   "execution_count": 8,
   "metadata": {
    "collapsed": false
   },
   "outputs": [
    {
     "data": {
      "text/html": [
       "<div>\n",
       "<table border=\"1\" class=\"dataframe\">\n",
       "  <thead>\n",
       "    <tr style=\"text-align: right;\">\n",
       "      <th></th>\n",
       "      <th>gvkey</th>\n",
       "      <th>Date</th>\n",
       "      <th>datadate</th>\n",
       "      <th>sale</th>\n",
       "    </tr>\n",
       "  </thead>\n",
       "  <tbody>\n",
       "    <tr>\n",
       "      <th>0</th>\n",
       "      <td>1076.0</td>\n",
       "      <td>1995-03-01</td>\n",
       "      <td>1994-03-31</td>\n",
       "      <td>185.184</td>\n",
       "    </tr>\n",
       "    <tr>\n",
       "      <th>1</th>\n",
       "      <td>1076.0</td>\n",
       "      <td>1995-04-01</td>\n",
       "      <td>1995-03-31</td>\n",
       "      <td>228.892</td>\n",
       "    </tr>\n",
       "    <tr>\n",
       "      <th>2</th>\n",
       "      <td>1722.0</td>\n",
       "      <td>2012-01-01</td>\n",
       "      <td>2011-06-30</td>\n",
       "      <td>80676.000</td>\n",
       "    </tr>\n",
       "    <tr>\n",
       "      <th>3</th>\n",
       "      <td>1722.0</td>\n",
       "      <td>2012-07-01</td>\n",
       "      <td>2012-06-30</td>\n",
       "      <td>89038.000</td>\n",
       "    </tr>\n",
       "  </tbody>\n",
       "</table>\n",
       "</div>"
      ],
      "text/plain": [
       "    gvkey       Date   datadate       sale\n",
       "0  1076.0 1995-03-01 1994-03-31    185.184\n",
       "1  1076.0 1995-04-01 1995-03-31    228.892\n",
       "2  1722.0 2012-01-01 2011-06-30  80676.000\n",
       "3  1722.0 2012-07-01 2012-06-30  89038.000"
      ]
     },
     "execution_count": 8,
     "metadata": {},
     "output_type": "execute_result"
    }
   ],
   "source": [
    "a"
   ]
  },
  {
   "cell_type": "code",
   "execution_count": 8,
   "metadata": {
    "collapsed": false
   },
   "outputs": [
    {
     "data": {
      "text/html": [
       "<div>\n",
       "<table border=\"1\" class=\"dataframe\">\n",
       "  <thead>\n",
       "    <tr style=\"text-align: right;\">\n",
       "      <th></th>\n",
       "      <th>gvkey</th>\n",
       "      <th>Date</th>\n",
       "      <th>datadate</th>\n",
       "      <th>saleq</th>\n",
       "    </tr>\n",
       "  </thead>\n",
       "  <tbody>\n",
       "    <tr>\n",
       "      <th>0</th>\n",
       "      <td>1076.0</td>\n",
       "      <td>1995-03-01</td>\n",
       "      <td>1981-06-30</td>\n",
       "      <td>13.019</td>\n",
       "    </tr>\n",
       "    <tr>\n",
       "      <th>1</th>\n",
       "      <td>1076.0</td>\n",
       "      <td>1995-04-01</td>\n",
       "      <td>1981-06-30</td>\n",
       "      <td>13.019</td>\n",
       "    </tr>\n",
       "    <tr>\n",
       "      <th>2</th>\n",
       "      <td>1722.0</td>\n",
       "      <td>2012-01-01</td>\n",
       "      <td>1965-12-31</td>\n",
       "      <td>161.136</td>\n",
       "    </tr>\n",
       "    <tr>\n",
       "      <th>3</th>\n",
       "      <td>1722.0</td>\n",
       "      <td>2012-07-01</td>\n",
       "      <td>1965-12-31</td>\n",
       "      <td>161.136</td>\n",
       "    </tr>\n",
       "  </tbody>\n",
       "</table>\n",
       "</div>"
      ],
      "text/plain": [
       "    gvkey       Date   datadate    saleq\n",
       "0  1076.0 1995-03-01 1981-06-30   13.019\n",
       "1  1076.0 1995-04-01 1981-06-30   13.019\n",
       "2  1722.0 2012-01-01 1965-12-31  161.136\n",
       "3  1722.0 2012-07-01 1965-12-31  161.136"
      ]
     },
     "execution_count": 8,
     "metadata": {},
     "output_type": "execute_result"
    }
   ],
   "source": [
    "lt.groupby(['gvkey','Date'], as_index=False).min()"
   ]
  },
  {
   "cell_type": "code",
   "execution_count": 2,
   "metadata": {
    "collapsed": false
   },
   "outputs": [],
   "source": [
    "# merge_compustat(df, comp)"
   ]
  },
  {
   "cell_type": "code",
   "execution_count": 43,
   "metadata": {
    "collapsed": false
   },
   "outputs": [
    {
     "data": {
      "text/html": [
       "<div>\n",
       "<table border=\"1\" class=\"dataframe\">\n",
       "  <thead>\n",
       "    <tr style=\"text-align: right;\">\n",
       "      <th></th>\n",
       "      <th>gvkey</th>\n",
       "      <th>datadate</th>\n",
       "      <th>fyearq</th>\n",
       "      <th>fqtr</th>\n",
       "      <th>fyr</th>\n",
       "      <th>indfmt</th>\n",
       "      <th>consol</th>\n",
       "      <th>popsrc</th>\n",
       "      <th>datafmt</th>\n",
       "      <th>tic</th>\n",
       "      <th>...</th>\n",
       "      <th>costat</th>\n",
       "      <th>fic</th>\n",
       "      <th>cshtrq</th>\n",
       "      <th>dvpspq</th>\n",
       "      <th>dvpsxq</th>\n",
       "      <th>mkvaltq</th>\n",
       "      <th>prccq</th>\n",
       "      <th>prchq</th>\n",
       "      <th>prclq</th>\n",
       "      <th>adjex</th>\n",
       "    </tr>\n",
       "  </thead>\n",
       "  <tbody>\n",
       "    <tr>\n",
       "      <th>0</th>\n",
       "      <td>001076</td>\n",
       "      <td>7851.0</td>\n",
       "      <td>1981.0</td>\n",
       "      <td>1.0</td>\n",
       "      <td>3.0</td>\n",
       "      <td>INDL</td>\n",
       "      <td>C</td>\n",
       "      <td>D</td>\n",
       "      <td>STD</td>\n",
       "      <td>AAN</td>\n",
       "      <td>...</td>\n",
       "      <td>A</td>\n",
       "      <td>USA</td>\n",
       "      <td>NaN</td>\n",
       "      <td>0.000</td>\n",
       "      <td>0.000</td>\n",
       "      <td>NaN</td>\n",
       "      <td>NaN</td>\n",
       "      <td>NaN</td>\n",
       "      <td>NaN</td>\n",
       "      <td>70.875</td>\n",
       "    </tr>\n",
       "    <tr>\n",
       "      <th>1</th>\n",
       "      <td>001076</td>\n",
       "      <td>7943.0</td>\n",
       "      <td>1981.0</td>\n",
       "      <td>2.0</td>\n",
       "      <td>3.0</td>\n",
       "      <td>INDL</td>\n",
       "      <td>C</td>\n",
       "      <td>D</td>\n",
       "      <td>STD</td>\n",
       "      <td>AAN</td>\n",
       "      <td>...</td>\n",
       "      <td>A</td>\n",
       "      <td>USA</td>\n",
       "      <td>NaN</td>\n",
       "      <td>0.000</td>\n",
       "      <td>0.000</td>\n",
       "      <td>NaN</td>\n",
       "      <td>NaN</td>\n",
       "      <td>NaN</td>\n",
       "      <td>NaN</td>\n",
       "      <td>70.875</td>\n",
       "    </tr>\n",
       "    <tr>\n",
       "      <th>2</th>\n",
       "      <td>001076</td>\n",
       "      <td>8035.0</td>\n",
       "      <td>1981.0</td>\n",
       "      <td>3.0</td>\n",
       "      <td>3.0</td>\n",
       "      <td>INDL</td>\n",
       "      <td>C</td>\n",
       "      <td>D</td>\n",
       "      <td>STD</td>\n",
       "      <td>AAN</td>\n",
       "      <td>...</td>\n",
       "      <td>A</td>\n",
       "      <td>USA</td>\n",
       "      <td>NaN</td>\n",
       "      <td>0.000</td>\n",
       "      <td>0.000</td>\n",
       "      <td>NaN</td>\n",
       "      <td>NaN</td>\n",
       "      <td>NaN</td>\n",
       "      <td>NaN</td>\n",
       "      <td>70.875</td>\n",
       "    </tr>\n",
       "    <tr>\n",
       "      <th>3</th>\n",
       "      <td>001076</td>\n",
       "      <td>8125.0</td>\n",
       "      <td>1981.0</td>\n",
       "      <td>4.0</td>\n",
       "      <td>3.0</td>\n",
       "      <td>INDL</td>\n",
       "      <td>C</td>\n",
       "      <td>D</td>\n",
       "      <td>STD</td>\n",
       "      <td>AAN</td>\n",
       "      <td>...</td>\n",
       "      <td>A</td>\n",
       "      <td>USA</td>\n",
       "      <td>NaN</td>\n",
       "      <td>0.000</td>\n",
       "      <td>0.000</td>\n",
       "      <td>NaN</td>\n",
       "      <td>NaN</td>\n",
       "      <td>NaN</td>\n",
       "      <td>NaN</td>\n",
       "      <td>70.875</td>\n",
       "    </tr>\n",
       "    <tr>\n",
       "      <th>4</th>\n",
       "      <td>001076</td>\n",
       "      <td>8216.0</td>\n",
       "      <td>1982.0</td>\n",
       "      <td>1.0</td>\n",
       "      <td>3.0</td>\n",
       "      <td>INDL</td>\n",
       "      <td>C</td>\n",
       "      <td>D</td>\n",
       "      <td>STD</td>\n",
       "      <td>AAN</td>\n",
       "      <td>...</td>\n",
       "      <td>A</td>\n",
       "      <td>USA</td>\n",
       "      <td>NaN</td>\n",
       "      <td>0.000</td>\n",
       "      <td>0.000</td>\n",
       "      <td>NaN</td>\n",
       "      <td>NaN</td>\n",
       "      <td>NaN</td>\n",
       "      <td>NaN</td>\n",
       "      <td>70.875</td>\n",
       "    </tr>\n",
       "    <tr>\n",
       "      <th>5</th>\n",
       "      <td>001076</td>\n",
       "      <td>8308.0</td>\n",
       "      <td>1982.0</td>\n",
       "      <td>2.0</td>\n",
       "      <td>3.0</td>\n",
       "      <td>INDL</td>\n",
       "      <td>C</td>\n",
       "      <td>D</td>\n",
       "      <td>STD</td>\n",
       "      <td>AAN</td>\n",
       "      <td>...</td>\n",
       "      <td>A</td>\n",
       "      <td>USA</td>\n",
       "      <td>NaN</td>\n",
       "      <td>0.000</td>\n",
       "      <td>0.000</td>\n",
       "      <td>NaN</td>\n",
       "      <td>NaN</td>\n",
       "      <td>NaN</td>\n",
       "      <td>NaN</td>\n",
       "      <td>20.250</td>\n",
       "    </tr>\n",
       "    <tr>\n",
       "      <th>6</th>\n",
       "      <td>001076</td>\n",
       "      <td>8400.0</td>\n",
       "      <td>1982.0</td>\n",
       "      <td>3.0</td>\n",
       "      <td>3.0</td>\n",
       "      <td>INDL</td>\n",
       "      <td>C</td>\n",
       "      <td>D</td>\n",
       "      <td>STD</td>\n",
       "      <td>AAN</td>\n",
       "      <td>...</td>\n",
       "      <td>A</td>\n",
       "      <td>USA</td>\n",
       "      <td>1235900.0</td>\n",
       "      <td>0.000</td>\n",
       "      <td>0.000</td>\n",
       "      <td>NaN</td>\n",
       "      <td>19.249981</td>\n",
       "      <td>21.999979</td>\n",
       "      <td>18.999979</td>\n",
       "      <td>20.250</td>\n",
       "    </tr>\n",
       "    <tr>\n",
       "      <th>7</th>\n",
       "      <td>001076</td>\n",
       "      <td>8490.0</td>\n",
       "      <td>1982.0</td>\n",
       "      <td>4.0</td>\n",
       "      <td>3.0</td>\n",
       "      <td>INDL</td>\n",
       "      <td>C</td>\n",
       "      <td>D</td>\n",
       "      <td>STD</td>\n",
       "      <td>AAN</td>\n",
       "      <td>...</td>\n",
       "      <td>A</td>\n",
       "      <td>USA</td>\n",
       "      <td>534500.0</td>\n",
       "      <td>0.000</td>\n",
       "      <td>0.000</td>\n",
       "      <td>NaN</td>\n",
       "      <td>27.749954</td>\n",
       "      <td>27.749954</td>\n",
       "      <td>19.249981</td>\n",
       "      <td>20.250</td>\n",
       "    </tr>\n",
       "    <tr>\n",
       "      <th>8</th>\n",
       "      <td>001076</td>\n",
       "      <td>8581.0</td>\n",
       "      <td>1983.0</td>\n",
       "      <td>1.0</td>\n",
       "      <td>3.0</td>\n",
       "      <td>INDL</td>\n",
       "      <td>C</td>\n",
       "      <td>D</td>\n",
       "      <td>STD</td>\n",
       "      <td>AAN</td>\n",
       "      <td>...</td>\n",
       "      <td>A</td>\n",
       "      <td>USA</td>\n",
       "      <td>461850.0</td>\n",
       "      <td>0.000</td>\n",
       "      <td>0.000</td>\n",
       "      <td>NaN</td>\n",
       "      <td>24.500000</td>\n",
       "      <td>25.750000</td>\n",
       "      <td>17.833313</td>\n",
       "      <td>13.500</td>\n",
       "    </tr>\n",
       "    <tr>\n",
       "      <th>9</th>\n",
       "      <td>001076</td>\n",
       "      <td>8673.0</td>\n",
       "      <td>1983.0</td>\n",
       "      <td>2.0</td>\n",
       "      <td>3.0</td>\n",
       "      <td>INDL</td>\n",
       "      <td>C</td>\n",
       "      <td>D</td>\n",
       "      <td>STD</td>\n",
       "      <td>AAN</td>\n",
       "      <td>...</td>\n",
       "      <td>A</td>\n",
       "      <td>USA</td>\n",
       "      <td>372100.0</td>\n",
       "      <td>0.000</td>\n",
       "      <td>0.000</td>\n",
       "      <td>NaN</td>\n",
       "      <td>17.000000</td>\n",
       "      <td>24.500000</td>\n",
       "      <td>17.000000</td>\n",
       "      <td>13.500</td>\n",
       "    </tr>\n",
       "    <tr>\n",
       "      <th>10</th>\n",
       "      <td>001076</td>\n",
       "      <td>8765.0</td>\n",
       "      <td>1983.0</td>\n",
       "      <td>3.0</td>\n",
       "      <td>3.0</td>\n",
       "      <td>INDL</td>\n",
       "      <td>C</td>\n",
       "      <td>D</td>\n",
       "      <td>STD</td>\n",
       "      <td>AAN</td>\n",
       "      <td>...</td>\n",
       "      <td>A</td>\n",
       "      <td>USA</td>\n",
       "      <td>633100.0</td>\n",
       "      <td>0.000</td>\n",
       "      <td>0.000</td>\n",
       "      <td>NaN</td>\n",
       "      <td>18.250000</td>\n",
       "      <td>18.250000</td>\n",
       "      <td>14.500000</td>\n",
       "      <td>13.500</td>\n",
       "    </tr>\n",
       "    <tr>\n",
       "      <th>11</th>\n",
       "      <td>001076</td>\n",
       "      <td>8856.0</td>\n",
       "      <td>1983.0</td>\n",
       "      <td>4.0</td>\n",
       "      <td>3.0</td>\n",
       "      <td>INDL</td>\n",
       "      <td>C</td>\n",
       "      <td>D</td>\n",
       "      <td>STD</td>\n",
       "      <td>AAN</td>\n",
       "      <td>...</td>\n",
       "      <td>A</td>\n",
       "      <td>USA</td>\n",
       "      <td>434500.0</td>\n",
       "      <td>0.000</td>\n",
       "      <td>0.000</td>\n",
       "      <td>NaN</td>\n",
       "      <td>15.500000</td>\n",
       "      <td>19.500000</td>\n",
       "      <td>14.000000</td>\n",
       "      <td>13.500</td>\n",
       "    </tr>\n",
       "    <tr>\n",
       "      <th>12</th>\n",
       "      <td>001076</td>\n",
       "      <td>8947.0</td>\n",
       "      <td>1984.0</td>\n",
       "      <td>1.0</td>\n",
       "      <td>3.0</td>\n",
       "      <td>INDL</td>\n",
       "      <td>C</td>\n",
       "      <td>D</td>\n",
       "      <td>STD</td>\n",
       "      <td>AAN</td>\n",
       "      <td>...</td>\n",
       "      <td>A</td>\n",
       "      <td>USA</td>\n",
       "      <td>320400.0</td>\n",
       "      <td>0.000</td>\n",
       "      <td>0.000</td>\n",
       "      <td>NaN</td>\n",
       "      <td>16.500000</td>\n",
       "      <td>18.000000</td>\n",
       "      <td>15.250000</td>\n",
       "      <td>13.500</td>\n",
       "    </tr>\n",
       "    <tr>\n",
       "      <th>13</th>\n",
       "      <td>001076</td>\n",
       "      <td>9039.0</td>\n",
       "      <td>1984.0</td>\n",
       "      <td>2.0</td>\n",
       "      <td>3.0</td>\n",
       "      <td>INDL</td>\n",
       "      <td>C</td>\n",
       "      <td>D</td>\n",
       "      <td>STD</td>\n",
       "      <td>AAN</td>\n",
       "      <td>...</td>\n",
       "      <td>A</td>\n",
       "      <td>USA</td>\n",
       "      <td>447000.0</td>\n",
       "      <td>0.000</td>\n",
       "      <td>0.000</td>\n",
       "      <td>NaN</td>\n",
       "      <td>16.500000</td>\n",
       "      <td>18.000000</td>\n",
       "      <td>14.000000</td>\n",
       "      <td>13.500</td>\n",
       "    </tr>\n",
       "    <tr>\n",
       "      <th>14</th>\n",
       "      <td>001076</td>\n",
       "      <td>9131.0</td>\n",
       "      <td>1984.0</td>\n",
       "      <td>3.0</td>\n",
       "      <td>3.0</td>\n",
       "      <td>INDL</td>\n",
       "      <td>C</td>\n",
       "      <td>D</td>\n",
       "      <td>STD</td>\n",
       "      <td>AAN</td>\n",
       "      <td>...</td>\n",
       "      <td>A</td>\n",
       "      <td>USA</td>\n",
       "      <td>265900.0</td>\n",
       "      <td>0.000</td>\n",
       "      <td>0.000</td>\n",
       "      <td>NaN</td>\n",
       "      <td>17.250000</td>\n",
       "      <td>17.750000</td>\n",
       "      <td>16.000000</td>\n",
       "      <td>13.500</td>\n",
       "    </tr>\n",
       "    <tr>\n",
       "      <th>15</th>\n",
       "      <td>001076</td>\n",
       "      <td>9221.0</td>\n",
       "      <td>1984.0</td>\n",
       "      <td>4.0</td>\n",
       "      <td>3.0</td>\n",
       "      <td>INDL</td>\n",
       "      <td>C</td>\n",
       "      <td>D</td>\n",
       "      <td>STD</td>\n",
       "      <td>AAN</td>\n",
       "      <td>...</td>\n",
       "      <td>A</td>\n",
       "      <td>USA</td>\n",
       "      <td>768300.0</td>\n",
       "      <td>0.000</td>\n",
       "      <td>0.000</td>\n",
       "      <td>NaN</td>\n",
       "      <td>21.750000</td>\n",
       "      <td>22.750000</td>\n",
       "      <td>17.250000</td>\n",
       "      <td>13.500</td>\n",
       "    </tr>\n",
       "    <tr>\n",
       "      <th>16</th>\n",
       "      <td>001076</td>\n",
       "      <td>9312.0</td>\n",
       "      <td>1985.0</td>\n",
       "      <td>1.0</td>\n",
       "      <td>3.0</td>\n",
       "      <td>INDL</td>\n",
       "      <td>C</td>\n",
       "      <td>D</td>\n",
       "      <td>STD</td>\n",
       "      <td>AAN</td>\n",
       "      <td>...</td>\n",
       "      <td>A</td>\n",
       "      <td>USA</td>\n",
       "      <td>658000.0</td>\n",
       "      <td>0.000</td>\n",
       "      <td>0.000</td>\n",
       "      <td>NaN</td>\n",
       "      <td>21.000000</td>\n",
       "      <td>23.000000</td>\n",
       "      <td>19.125000</td>\n",
       "      <td>13.500</td>\n",
       "    </tr>\n",
       "    <tr>\n",
       "      <th>17</th>\n",
       "      <td>001076</td>\n",
       "      <td>9404.0</td>\n",
       "      <td>1985.0</td>\n",
       "      <td>2.0</td>\n",
       "      <td>3.0</td>\n",
       "      <td>INDL</td>\n",
       "      <td>C</td>\n",
       "      <td>D</td>\n",
       "      <td>STD</td>\n",
       "      <td>AAN</td>\n",
       "      <td>...</td>\n",
       "      <td>A</td>\n",
       "      <td>USA</td>\n",
       "      <td>587600.0</td>\n",
       "      <td>0.000</td>\n",
       "      <td>0.000</td>\n",
       "      <td>NaN</td>\n",
       "      <td>19.750000</td>\n",
       "      <td>21.750000</td>\n",
       "      <td>19.000000</td>\n",
       "      <td>13.500</td>\n",
       "    </tr>\n",
       "    <tr>\n",
       "      <th>18</th>\n",
       "      <td>001076</td>\n",
       "      <td>9496.0</td>\n",
       "      <td>1985.0</td>\n",
       "      <td>3.0</td>\n",
       "      <td>3.0</td>\n",
       "      <td>INDL</td>\n",
       "      <td>C</td>\n",
       "      <td>D</td>\n",
       "      <td>STD</td>\n",
       "      <td>AAN</td>\n",
       "      <td>...</td>\n",
       "      <td>A</td>\n",
       "      <td>USA</td>\n",
       "      <td>933700.0</td>\n",
       "      <td>0.000</td>\n",
       "      <td>0.000</td>\n",
       "      <td>NaN</td>\n",
       "      <td>17.250000</td>\n",
       "      <td>22.250000</td>\n",
       "      <td>15.500000</td>\n",
       "      <td>13.500</td>\n",
       "    </tr>\n",
       "    <tr>\n",
       "      <th>19</th>\n",
       "      <td>001076</td>\n",
       "      <td>9586.0</td>\n",
       "      <td>1985.0</td>\n",
       "      <td>4.0</td>\n",
       "      <td>3.0</td>\n",
       "      <td>INDL</td>\n",
       "      <td>C</td>\n",
       "      <td>D</td>\n",
       "      <td>STD</td>\n",
       "      <td>AAN</td>\n",
       "      <td>...</td>\n",
       "      <td>A</td>\n",
       "      <td>USA</td>\n",
       "      <td>612700.0</td>\n",
       "      <td>0.000</td>\n",
       "      <td>0.000</td>\n",
       "      <td>NaN</td>\n",
       "      <td>17.500000</td>\n",
       "      <td>18.250000</td>\n",
       "      <td>15.875000</td>\n",
       "      <td>13.500</td>\n",
       "    </tr>\n",
       "    <tr>\n",
       "      <th>20</th>\n",
       "      <td>001076</td>\n",
       "      <td>9677.0</td>\n",
       "      <td>1986.0</td>\n",
       "      <td>1.0</td>\n",
       "      <td>3.0</td>\n",
       "      <td>INDL</td>\n",
       "      <td>C</td>\n",
       "      <td>D</td>\n",
       "      <td>STD</td>\n",
       "      <td>AAN</td>\n",
       "      <td>...</td>\n",
       "      <td>A</td>\n",
       "      <td>USA</td>\n",
       "      <td>749100.0</td>\n",
       "      <td>0.000</td>\n",
       "      <td>0.000</td>\n",
       "      <td>NaN</td>\n",
       "      <td>18.500000</td>\n",
       "      <td>20.000000</td>\n",
       "      <td>17.000000</td>\n",
       "      <td>13.500</td>\n",
       "    </tr>\n",
       "    <tr>\n",
       "      <th>21</th>\n",
       "      <td>001076</td>\n",
       "      <td>9769.0</td>\n",
       "      <td>1986.0</td>\n",
       "      <td>2.0</td>\n",
       "      <td>3.0</td>\n",
       "      <td>INDL</td>\n",
       "      <td>C</td>\n",
       "      <td>D</td>\n",
       "      <td>STD</td>\n",
       "      <td>AAN</td>\n",
       "      <td>...</td>\n",
       "      <td>A</td>\n",
       "      <td>USA</td>\n",
       "      <td>892400.0</td>\n",
       "      <td>0.000</td>\n",
       "      <td>0.000</td>\n",
       "      <td>NaN</td>\n",
       "      <td>17.250000</td>\n",
       "      <td>19.750000</td>\n",
       "      <td>17.000000</td>\n",
       "      <td>13.500</td>\n",
       "    </tr>\n",
       "    <tr>\n",
       "      <th>22</th>\n",
       "      <td>001076</td>\n",
       "      <td>9861.0</td>\n",
       "      <td>1986.0</td>\n",
       "      <td>3.0</td>\n",
       "      <td>3.0</td>\n",
       "      <td>INDL</td>\n",
       "      <td>C</td>\n",
       "      <td>D</td>\n",
       "      <td>STD</td>\n",
       "      <td>AAN</td>\n",
       "      <td>...</td>\n",
       "      <td>A</td>\n",
       "      <td>USA</td>\n",
       "      <td>1642499.0</td>\n",
       "      <td>0.000</td>\n",
       "      <td>0.050</td>\n",
       "      <td>NaN</td>\n",
       "      <td>15.250000</td>\n",
       "      <td>17.750000</td>\n",
       "      <td>14.000000</td>\n",
       "      <td>13.500</td>\n",
       "    </tr>\n",
       "    <tr>\n",
       "      <th>23</th>\n",
       "      <td>001076</td>\n",
       "      <td>9951.0</td>\n",
       "      <td>1986.0</td>\n",
       "      <td>4.0</td>\n",
       "      <td>3.0</td>\n",
       "      <td>INDL</td>\n",
       "      <td>C</td>\n",
       "      <td>D</td>\n",
       "      <td>STD</td>\n",
       "      <td>AAN</td>\n",
       "      <td>...</td>\n",
       "      <td>A</td>\n",
       "      <td>USA</td>\n",
       "      <td>730800.0</td>\n",
       "      <td>0.050</td>\n",
       "      <td>0.000</td>\n",
       "      <td>NaN</td>\n",
       "      <td>16.500000</td>\n",
       "      <td>17.750000</td>\n",
       "      <td>13.750000</td>\n",
       "      <td>13.500</td>\n",
       "    </tr>\n",
       "    <tr>\n",
       "      <th>24</th>\n",
       "      <td>001076</td>\n",
       "      <td>10042.0</td>\n",
       "      <td>1987.0</td>\n",
       "      <td>1.0</td>\n",
       "      <td>3.0</td>\n",
       "      <td>INDL</td>\n",
       "      <td>C</td>\n",
       "      <td>D</td>\n",
       "      <td>STD</td>\n",
       "      <td>AAN</td>\n",
       "      <td>...</td>\n",
       "      <td>A</td>\n",
       "      <td>USA</td>\n",
       "      <td>442300.0</td>\n",
       "      <td>0.000</td>\n",
       "      <td>0.050</td>\n",
       "      <td>NaN</td>\n",
       "      <td>11.000000</td>\n",
       "      <td>17.000000</td>\n",
       "      <td>10.750000</td>\n",
       "      <td>13.500</td>\n",
       "    </tr>\n",
       "    <tr>\n",
       "      <th>25</th>\n",
       "      <td>001076</td>\n",
       "      <td>10134.0</td>\n",
       "      <td>1987.0</td>\n",
       "      <td>2.0</td>\n",
       "      <td>3.0</td>\n",
       "      <td>INDL</td>\n",
       "      <td>C</td>\n",
       "      <td>D</td>\n",
       "      <td>STD</td>\n",
       "      <td>AAN</td>\n",
       "      <td>...</td>\n",
       "      <td>A</td>\n",
       "      <td>USA</td>\n",
       "      <td>253700.0</td>\n",
       "      <td>0.050</td>\n",
       "      <td>0.000</td>\n",
       "      <td>NaN</td>\n",
       "      <td>12.250000</td>\n",
       "      <td>13.250000</td>\n",
       "      <td>11.250000</td>\n",
       "      <td>13.500</td>\n",
       "    </tr>\n",
       "    <tr>\n",
       "      <th>26</th>\n",
       "      <td>001076</td>\n",
       "      <td>10226.0</td>\n",
       "      <td>1987.0</td>\n",
       "      <td>3.0</td>\n",
       "      <td>3.0</td>\n",
       "      <td>INDL</td>\n",
       "      <td>C</td>\n",
       "      <td>D</td>\n",
       "      <td>STD</td>\n",
       "      <td>AAN</td>\n",
       "      <td>...</td>\n",
       "      <td>A</td>\n",
       "      <td>USA</td>\n",
       "      <td>671400.0</td>\n",
       "      <td>0.000</td>\n",
       "      <td>0.050</td>\n",
       "      <td>NaN</td>\n",
       "      <td>7.000000</td>\n",
       "      <td>12.250000</td>\n",
       "      <td>6.500000</td>\n",
       "      <td>13.500</td>\n",
       "    </tr>\n",
       "    <tr>\n",
       "      <th>27</th>\n",
       "      <td>001076</td>\n",
       "      <td>10317.0</td>\n",
       "      <td>1987.0</td>\n",
       "      <td>4.0</td>\n",
       "      <td>3.0</td>\n",
       "      <td>INDL</td>\n",
       "      <td>C</td>\n",
       "      <td>D</td>\n",
       "      <td>STD</td>\n",
       "      <td>AAN</td>\n",
       "      <td>...</td>\n",
       "      <td>A</td>\n",
       "      <td>USA</td>\n",
       "      <td>419100.0</td>\n",
       "      <td>0.050</td>\n",
       "      <td>0.000</td>\n",
       "      <td>NaN</td>\n",
       "      <td>11.000000</td>\n",
       "      <td>12.500000</td>\n",
       "      <td>6.500000</td>\n",
       "      <td>13.500</td>\n",
       "    </tr>\n",
       "    <tr>\n",
       "      <th>28</th>\n",
       "      <td>001076</td>\n",
       "      <td>10408.0</td>\n",
       "      <td>1988.0</td>\n",
       "      <td>1.0</td>\n",
       "      <td>3.0</td>\n",
       "      <td>INDL</td>\n",
       "      <td>C</td>\n",
       "      <td>D</td>\n",
       "      <td>STD</td>\n",
       "      <td>AAN</td>\n",
       "      <td>...</td>\n",
       "      <td>A</td>\n",
       "      <td>USA</td>\n",
       "      <td>380200.0</td>\n",
       "      <td>0.000</td>\n",
       "      <td>0.050</td>\n",
       "      <td>NaN</td>\n",
       "      <td>9.750000</td>\n",
       "      <td>11.250000</td>\n",
       "      <td>9.000000</td>\n",
       "      <td>13.500</td>\n",
       "    </tr>\n",
       "    <tr>\n",
       "      <th>29</th>\n",
       "      <td>001076</td>\n",
       "      <td>10500.0</td>\n",
       "      <td>1988.0</td>\n",
       "      <td>2.0</td>\n",
       "      <td>3.0</td>\n",
       "      <td>INDL</td>\n",
       "      <td>C</td>\n",
       "      <td>D</td>\n",
       "      <td>STD</td>\n",
       "      <td>AAN</td>\n",
       "      <td>...</td>\n",
       "      <td>A</td>\n",
       "      <td>USA</td>\n",
       "      <td>292200.0</td>\n",
       "      <td>0.050</td>\n",
       "      <td>0.000</td>\n",
       "      <td>NaN</td>\n",
       "      <td>10.625000</td>\n",
       "      <td>11.750000</td>\n",
       "      <td>9.750000</td>\n",
       "      <td>13.500</td>\n",
       "    </tr>\n",
       "    <tr>\n",
       "      <th>...</th>\n",
       "      <td>...</td>\n",
       "      <td>...</td>\n",
       "      <td>...</td>\n",
       "      <td>...</td>\n",
       "      <td>...</td>\n",
       "      <td>...</td>\n",
       "      <td>...</td>\n",
       "      <td>...</td>\n",
       "      <td>...</td>\n",
       "      <td>...</td>\n",
       "      <td>...</td>\n",
       "      <td>...</td>\n",
       "      <td>...</td>\n",
       "      <td>...</td>\n",
       "      <td>...</td>\n",
       "      <td>...</td>\n",
       "      <td>...</td>\n",
       "      <td>...</td>\n",
       "      <td>...</td>\n",
       "      <td>...</td>\n",
       "      <td>...</td>\n",
       "    </tr>\n",
       "    <tr>\n",
       "      <th>299</th>\n",
       "      <td>001722</td>\n",
       "      <td>17256.0</td>\n",
       "      <td>2007.0</td>\n",
       "      <td>3.0</td>\n",
       "      <td>6.0</td>\n",
       "      <td>INDL</td>\n",
       "      <td>C</td>\n",
       "      <td>D</td>\n",
       "      <td>STD</td>\n",
       "      <td>ADM</td>\n",
       "      <td>...</td>\n",
       "      <td>A</td>\n",
       "      <td>USA</td>\n",
       "      <td>519568725.0</td>\n",
       "      <td>0.115</td>\n",
       "      <td>0.115</td>\n",
       "      <td>23599.7882</td>\n",
       "      <td>36.700000</td>\n",
       "      <td>37.840000</td>\n",
       "      <td>30.200000</td>\n",
       "      <td>1.000</td>\n",
       "    </tr>\n",
       "    <tr>\n",
       "      <th>300</th>\n",
       "      <td>001722</td>\n",
       "      <td>17347.0</td>\n",
       "      <td>2007.0</td>\n",
       "      <td>4.0</td>\n",
       "      <td>6.0</td>\n",
       "      <td>INDL</td>\n",
       "      <td>C</td>\n",
       "      <td>D</td>\n",
       "      <td>STD</td>\n",
       "      <td>ADM</td>\n",
       "      <td>...</td>\n",
       "      <td>A</td>\n",
       "      <td>USA</td>\n",
       "      <td>426974425.0</td>\n",
       "      <td>0.115</td>\n",
       "      <td>0.115</td>\n",
       "      <td>21276.8700</td>\n",
       "      <td>33.090000</td>\n",
       "      <td>39.650000</td>\n",
       "      <td>32.050000</td>\n",
       "      <td>1.000</td>\n",
       "    </tr>\n",
       "    <tr>\n",
       "      <th>301</th>\n",
       "      <td>001722</td>\n",
       "      <td>17439.0</td>\n",
       "      <td>2008.0</td>\n",
       "      <td>1.0</td>\n",
       "      <td>6.0</td>\n",
       "      <td>INDL</td>\n",
       "      <td>C</td>\n",
       "      <td>D</td>\n",
       "      <td>STD</td>\n",
       "      <td>ADM</td>\n",
       "      <td>...</td>\n",
       "      <td>A</td>\n",
       "      <td>USA</td>\n",
       "      <td>358784946.0</td>\n",
       "      <td>0.115</td>\n",
       "      <td>0.115</td>\n",
       "      <td>21266.8343</td>\n",
       "      <td>33.080000</td>\n",
       "      <td>37.020000</td>\n",
       "      <td>31.280000</td>\n",
       "      <td>1.000</td>\n",
       "    </tr>\n",
       "    <tr>\n",
       "      <th>302</th>\n",
       "      <td>001722</td>\n",
       "      <td>17531.0</td>\n",
       "      <td>2008.0</td>\n",
       "      <td>2.0</td>\n",
       "      <td>6.0</td>\n",
       "      <td>INDL</td>\n",
       "      <td>C</td>\n",
       "      <td>D</td>\n",
       "      <td>STD</td>\n",
       "      <td>ADM</td>\n",
       "      <td>...</td>\n",
       "      <td>A</td>\n",
       "      <td>USA</td>\n",
       "      <td>386241754.0</td>\n",
       "      <td>0.115</td>\n",
       "      <td>0.115</td>\n",
       "      <td>29881.2801</td>\n",
       "      <td>46.430000</td>\n",
       "      <td>47.330000</td>\n",
       "      <td>32.430000</td>\n",
       "      <td>1.000</td>\n",
       "    </tr>\n",
       "    <tr>\n",
       "      <th>303</th>\n",
       "      <td>001722</td>\n",
       "      <td>17622.0</td>\n",
       "      <td>2008.0</td>\n",
       "      <td>3.0</td>\n",
       "      <td>6.0</td>\n",
       "      <td>INDL</td>\n",
       "      <td>C</td>\n",
       "      <td>D</td>\n",
       "      <td>STD</td>\n",
       "      <td>ADM</td>\n",
       "      <td>...</td>\n",
       "      <td>A</td>\n",
       "      <td>USA</td>\n",
       "      <td>405840090.0</td>\n",
       "      <td>0.130</td>\n",
       "      <td>0.130</td>\n",
       "      <td>26503.8707</td>\n",
       "      <td>41.160000</td>\n",
       "      <td>47.180000</td>\n",
       "      <td>38.110000</td>\n",
       "      <td>1.000</td>\n",
       "    </tr>\n",
       "    <tr>\n",
       "      <th>304</th>\n",
       "      <td>001722</td>\n",
       "      <td>17713.0</td>\n",
       "      <td>2008.0</td>\n",
       "      <td>4.0</td>\n",
       "      <td>6.0</td>\n",
       "      <td>INDL</td>\n",
       "      <td>C</td>\n",
       "      <td>D</td>\n",
       "      <td>STD</td>\n",
       "      <td>ADM</td>\n",
       "      <td>...</td>\n",
       "      <td>A</td>\n",
       "      <td>USA</td>\n",
       "      <td>480365220.0</td>\n",
       "      <td>0.130</td>\n",
       "      <td>0.130</td>\n",
       "      <td>21735.0000</td>\n",
       "      <td>33.750000</td>\n",
       "      <td>48.950000</td>\n",
       "      <td>31.650000</td>\n",
       "      <td>1.000</td>\n",
       "    </tr>\n",
       "    <tr>\n",
       "      <th>305</th>\n",
       "      <td>001722</td>\n",
       "      <td>17805.0</td>\n",
       "      <td>2009.0</td>\n",
       "      <td>1.0</td>\n",
       "      <td>6.0</td>\n",
       "      <td>INDL</td>\n",
       "      <td>C</td>\n",
       "      <td>D</td>\n",
       "      <td>STD</td>\n",
       "      <td>ADM</td>\n",
       "      <td>...</td>\n",
       "      <td>A</td>\n",
       "      <td>USA</td>\n",
       "      <td>507156227.0</td>\n",
       "      <td>0.130</td>\n",
       "      <td>0.130</td>\n",
       "      <td>14054.6953</td>\n",
       "      <td>21.910000</td>\n",
       "      <td>33.910000</td>\n",
       "      <td>19.700000</td>\n",
       "      <td>1.000</td>\n",
       "    </tr>\n",
       "    <tr>\n",
       "      <th>306</th>\n",
       "      <td>001722</td>\n",
       "      <td>17897.0</td>\n",
       "      <td>2009.0</td>\n",
       "      <td>2.0</td>\n",
       "      <td>6.0</td>\n",
       "      <td>INDL</td>\n",
       "      <td>C</td>\n",
       "      <td>D</td>\n",
       "      <td>STD</td>\n",
       "      <td>ADM</td>\n",
       "      <td>...</td>\n",
       "      <td>A</td>\n",
       "      <td>USA</td>\n",
       "      <td>590230431.0</td>\n",
       "      <td>0.130</td>\n",
       "      <td>0.130</td>\n",
       "      <td>18505.6887</td>\n",
       "      <td>28.830000</td>\n",
       "      <td>29.080000</td>\n",
       "      <td>13.530000</td>\n",
       "      <td>1.000</td>\n",
       "    </tr>\n",
       "    <tr>\n",
       "      <th>307</th>\n",
       "      <td>001722</td>\n",
       "      <td>17987.0</td>\n",
       "      <td>2009.0</td>\n",
       "      <td>3.0</td>\n",
       "      <td>6.0</td>\n",
       "      <td>INDL</td>\n",
       "      <td>C</td>\n",
       "      <td>D</td>\n",
       "      <td>STD</td>\n",
       "      <td>ADM</td>\n",
       "      <td>...</td>\n",
       "      <td>A</td>\n",
       "      <td>USA</td>\n",
       "      <td>503927710.0</td>\n",
       "      <td>0.140</td>\n",
       "      <td>0.140</td>\n",
       "      <td>17834.7600</td>\n",
       "      <td>27.780000</td>\n",
       "      <td>29.500000</td>\n",
       "      <td>24.080000</td>\n",
       "      <td>1.000</td>\n",
       "    </tr>\n",
       "    <tr>\n",
       "      <th>308</th>\n",
       "      <td>001722</td>\n",
       "      <td>18078.0</td>\n",
       "      <td>2009.0</td>\n",
       "      <td>4.0</td>\n",
       "      <td>6.0</td>\n",
       "      <td>INDL</td>\n",
       "      <td>C</td>\n",
       "      <td>D</td>\n",
       "      <td>STD</td>\n",
       "      <td>ADM</td>\n",
       "      <td>...</td>\n",
       "      <td>A</td>\n",
       "      <td>USA</td>\n",
       "      <td>371283168.0</td>\n",
       "      <td>0.140</td>\n",
       "      <td>0.140</td>\n",
       "      <td>17186.3400</td>\n",
       "      <td>26.770000</td>\n",
       "      <td>29.400000</td>\n",
       "      <td>23.130000</td>\n",
       "      <td>1.000</td>\n",
       "    </tr>\n",
       "    <tr>\n",
       "      <th>309</th>\n",
       "      <td>001722</td>\n",
       "      <td>18170.0</td>\n",
       "      <td>2010.0</td>\n",
       "      <td>1.0</td>\n",
       "      <td>6.0</td>\n",
       "      <td>INDL</td>\n",
       "      <td>C</td>\n",
       "      <td>D</td>\n",
       "      <td>STD</td>\n",
       "      <td>ADM</td>\n",
       "      <td>...</td>\n",
       "      <td>A</td>\n",
       "      <td>USA</td>\n",
       "      <td>344544489.0</td>\n",
       "      <td>0.140</td>\n",
       "      <td>0.140</td>\n",
       "      <td>18759.2400</td>\n",
       "      <td>29.220000</td>\n",
       "      <td>32.130000</td>\n",
       "      <td>26.000000</td>\n",
       "      <td>1.000</td>\n",
       "    </tr>\n",
       "    <tr>\n",
       "      <th>310</th>\n",
       "      <td>001722</td>\n",
       "      <td>18262.0</td>\n",
       "      <td>2010.0</td>\n",
       "      <td>2.0</td>\n",
       "      <td>6.0</td>\n",
       "      <td>INDL</td>\n",
       "      <td>C</td>\n",
       "      <td>D</td>\n",
       "      <td>STD</td>\n",
       "      <td>ADM</td>\n",
       "      <td>...</td>\n",
       "      <td>A</td>\n",
       "      <td>USA</td>\n",
       "      <td>284600433.0</td>\n",
       "      <td>0.140</td>\n",
       "      <td>0.140</td>\n",
       "      <td>20132.3300</td>\n",
       "      <td>31.310000</td>\n",
       "      <td>33.000000</td>\n",
       "      <td>27.660000</td>\n",
       "      <td>1.000</td>\n",
       "    </tr>\n",
       "    <tr>\n",
       "      <th>311</th>\n",
       "      <td>001722</td>\n",
       "      <td>18352.0</td>\n",
       "      <td>2010.0</td>\n",
       "      <td>3.0</td>\n",
       "      <td>6.0</td>\n",
       "      <td>INDL</td>\n",
       "      <td>C</td>\n",
       "      <td>D</td>\n",
       "      <td>STD</td>\n",
       "      <td>ADM</td>\n",
       "      <td>...</td>\n",
       "      <td>A</td>\n",
       "      <td>USA</td>\n",
       "      <td>332438821.0</td>\n",
       "      <td>0.150</td>\n",
       "      <td>0.150</td>\n",
       "      <td>18582.7000</td>\n",
       "      <td>28.900000</td>\n",
       "      <td>31.890000</td>\n",
       "      <td>28.060000</td>\n",
       "      <td>1.000</td>\n",
       "    </tr>\n",
       "    <tr>\n",
       "      <th>312</th>\n",
       "      <td>001722</td>\n",
       "      <td>18443.0</td>\n",
       "      <td>2010.0</td>\n",
       "      <td>4.0</td>\n",
       "      <td>6.0</td>\n",
       "      <td>INDL</td>\n",
       "      <td>C</td>\n",
       "      <td>D</td>\n",
       "      <td>STD</td>\n",
       "      <td>ADM</td>\n",
       "      <td>...</td>\n",
       "      <td>A</td>\n",
       "      <td>USA</td>\n",
       "      <td>398472327.0</td>\n",
       "      <td>0.150</td>\n",
       "      <td>0.150</td>\n",
       "      <td>16498.9800</td>\n",
       "      <td>25.820000</td>\n",
       "      <td>29.260000</td>\n",
       "      <td>24.220000</td>\n",
       "      <td>1.000</td>\n",
       "    </tr>\n",
       "    <tr>\n",
       "      <th>313</th>\n",
       "      <td>001722</td>\n",
       "      <td>18535.0</td>\n",
       "      <td>2011.0</td>\n",
       "      <td>1.0</td>\n",
       "      <td>6.0</td>\n",
       "      <td>INDL</td>\n",
       "      <td>C</td>\n",
       "      <td>D</td>\n",
       "      <td>STD</td>\n",
       "      <td>ADM</td>\n",
       "      <td>...</td>\n",
       "      <td>A</td>\n",
       "      <td>USA</td>\n",
       "      <td>356159981.0</td>\n",
       "      <td>0.150</td>\n",
       "      <td>0.150</td>\n",
       "      <td>20396.8800</td>\n",
       "      <td>31.920000</td>\n",
       "      <td>33.545000</td>\n",
       "      <td>25.020000</td>\n",
       "      <td>1.000</td>\n",
       "    </tr>\n",
       "    <tr>\n",
       "      <th>314</th>\n",
       "      <td>001722</td>\n",
       "      <td>18627.0</td>\n",
       "      <td>2011.0</td>\n",
       "      <td>2.0</td>\n",
       "      <td>6.0</td>\n",
       "      <td>INDL</td>\n",
       "      <td>C</td>\n",
       "      <td>D</td>\n",
       "      <td>STD</td>\n",
       "      <td>ADM</td>\n",
       "      <td>...</td>\n",
       "      <td>A</td>\n",
       "      <td>USA</td>\n",
       "      <td>326191570.0</td>\n",
       "      <td>0.150</td>\n",
       "      <td>0.150</td>\n",
       "      <td>19160.9600</td>\n",
       "      <td>30.080000</td>\n",
       "      <td>34.030000</td>\n",
       "      <td>28.530000</td>\n",
       "      <td>1.000</td>\n",
       "    </tr>\n",
       "    <tr>\n",
       "      <th>315</th>\n",
       "      <td>001722</td>\n",
       "      <td>18717.0</td>\n",
       "      <td>2011.0</td>\n",
       "      <td>3.0</td>\n",
       "      <td>6.0</td>\n",
       "      <td>INDL</td>\n",
       "      <td>C</td>\n",
       "      <td>D</td>\n",
       "      <td>STD</td>\n",
       "      <td>ADM</td>\n",
       "      <td>...</td>\n",
       "      <td>A</td>\n",
       "      <td>USA</td>\n",
       "      <td>412586495.0</td>\n",
       "      <td>0.160</td>\n",
       "      <td>0.160</td>\n",
       "      <td>22974.3800</td>\n",
       "      <td>36.010000</td>\n",
       "      <td>38.020100</td>\n",
       "      <td>30.130000</td>\n",
       "      <td>1.000</td>\n",
       "    </tr>\n",
       "    <tr>\n",
       "      <th>316</th>\n",
       "      <td>001722</td>\n",
       "      <td>18808.0</td>\n",
       "      <td>2011.0</td>\n",
       "      <td>4.0</td>\n",
       "      <td>6.0</td>\n",
       "      <td>INDL</td>\n",
       "      <td>C</td>\n",
       "      <td>D</td>\n",
       "      <td>STD</td>\n",
       "      <td>ADM</td>\n",
       "      <td>...</td>\n",
       "      <td>A</td>\n",
       "      <td>USA</td>\n",
       "      <td>411777067.0</td>\n",
       "      <td>0.160</td>\n",
       "      <td>0.160</td>\n",
       "      <td>20381.4000</td>\n",
       "      <td>30.150000</td>\n",
       "      <td>37.280000</td>\n",
       "      <td>28.980000</td>\n",
       "      <td>1.000</td>\n",
       "    </tr>\n",
       "    <tr>\n",
       "      <th>317</th>\n",
       "      <td>001722</td>\n",
       "      <td>18900.0</td>\n",
       "      <td>2012.0</td>\n",
       "      <td>1.0</td>\n",
       "      <td>6.0</td>\n",
       "      <td>INDL</td>\n",
       "      <td>C</td>\n",
       "      <td>D</td>\n",
       "      <td>STD</td>\n",
       "      <td>ADM</td>\n",
       "      <td>...</td>\n",
       "      <td>A</td>\n",
       "      <td>USA</td>\n",
       "      <td>440809723.0</td>\n",
       "      <td>0.160</td>\n",
       "      <td>0.160</td>\n",
       "      <td>16573.0800</td>\n",
       "      <td>24.810000</td>\n",
       "      <td>32.410000</td>\n",
       "      <td>24.420000</td>\n",
       "      <td>1.000</td>\n",
       "    </tr>\n",
       "    <tr>\n",
       "      <th>318</th>\n",
       "      <td>001722</td>\n",
       "      <td>18992.0</td>\n",
       "      <td>2012.0</td>\n",
       "      <td>2.0</td>\n",
       "      <td>6.0</td>\n",
       "      <td>INDL</td>\n",
       "      <td>C</td>\n",
       "      <td>D</td>\n",
       "      <td>STD</td>\n",
       "      <td>ADM</td>\n",
       "      <td>...</td>\n",
       "      <td>A</td>\n",
       "      <td>USA</td>\n",
       "      <td>281616153.0</td>\n",
       "      <td>0.175</td>\n",
       "      <td>0.175</td>\n",
       "      <td>18933.2000</td>\n",
       "      <td>28.600000</td>\n",
       "      <td>30.550000</td>\n",
       "      <td>23.690000</td>\n",
       "      <td>1.000</td>\n",
       "    </tr>\n",
       "    <tr>\n",
       "      <th>319</th>\n",
       "      <td>001722</td>\n",
       "      <td>19083.0</td>\n",
       "      <td>2012.0</td>\n",
       "      <td>3.0</td>\n",
       "      <td>6.0</td>\n",
       "      <td>INDL</td>\n",
       "      <td>C</td>\n",
       "      <td>D</td>\n",
       "      <td>STD</td>\n",
       "      <td>ADM</td>\n",
       "      <td>...</td>\n",
       "      <td>A</td>\n",
       "      <td>USA</td>\n",
       "      <td>284623215.0</td>\n",
       "      <td>0.175</td>\n",
       "      <td>0.175</td>\n",
       "      <td>20895.6000</td>\n",
       "      <td>31.660000</td>\n",
       "      <td>32.360000</td>\n",
       "      <td>28.110000</td>\n",
       "      <td>1.000</td>\n",
       "    </tr>\n",
       "    <tr>\n",
       "      <th>320</th>\n",
       "      <td>001722</td>\n",
       "      <td>19174.0</td>\n",
       "      <td>2012.0</td>\n",
       "      <td>4.0</td>\n",
       "      <td>6.0</td>\n",
       "      <td>INDL</td>\n",
       "      <td>C</td>\n",
       "      <td>D</td>\n",
       "      <td>STD</td>\n",
       "      <td>ADM</td>\n",
       "      <td>...</td>\n",
       "      <td>A</td>\n",
       "      <td>USA</td>\n",
       "      <td>298976595.0</td>\n",
       "      <td>0.175</td>\n",
       "      <td>0.175</td>\n",
       "      <td>19453.6800</td>\n",
       "      <td>29.520000</td>\n",
       "      <td>33.980000</td>\n",
       "      <td>28.550000</td>\n",
       "      <td>1.000</td>\n",
       "    </tr>\n",
       "    <tr>\n",
       "      <th>321</th>\n",
       "      <td>001722</td>\n",
       "      <td>19266.0</td>\n",
       "      <td>2013.0</td>\n",
       "      <td>1.0</td>\n",
       "      <td>6.0</td>\n",
       "      <td>INDL</td>\n",
       "      <td>C</td>\n",
       "      <td>D</td>\n",
       "      <td>STD</td>\n",
       "      <td>ADM</td>\n",
       "      <td>...</td>\n",
       "      <td>A</td>\n",
       "      <td>USA</td>\n",
       "      <td>310111702.0</td>\n",
       "      <td>0.175</td>\n",
       "      <td>0.175</td>\n",
       "      <td>17911.6200</td>\n",
       "      <td>27.180000</td>\n",
       "      <td>29.330000</td>\n",
       "      <td>25.020000</td>\n",
       "      <td>1.000</td>\n",
       "    </tr>\n",
       "    <tr>\n",
       "      <th>322</th>\n",
       "      <td>001722</td>\n",
       "      <td>19358.0</td>\n",
       "      <td>2013.0</td>\n",
       "      <td>2.0</td>\n",
       "      <td>6.0</td>\n",
       "      <td>INDL</td>\n",
       "      <td>C</td>\n",
       "      <td>D</td>\n",
       "      <td>STD</td>\n",
       "      <td>ADM</td>\n",
       "      <td>...</td>\n",
       "      <td>A</td>\n",
       "      <td>USA</td>\n",
       "      <td>314729721.0</td>\n",
       "      <td>0.175</td>\n",
       "      <td>0.175</td>\n",
       "      <td>18050.0100</td>\n",
       "      <td>27.390000</td>\n",
       "      <td>29.230000</td>\n",
       "      <td>24.380000</td>\n",
       "      <td>1.000</td>\n",
       "    </tr>\n",
       "    <tr>\n",
       "      <th>323</th>\n",
       "      <td>001722</td>\n",
       "      <td>19448.0</td>\n",
       "      <td>2013.0</td>\n",
       "      <td>1.0</td>\n",
       "      <td>12.0</td>\n",
       "      <td>INDL</td>\n",
       "      <td>C</td>\n",
       "      <td>D</td>\n",
       "      <td>STD</td>\n",
       "      <td>ADM</td>\n",
       "      <td>...</td>\n",
       "      <td>A</td>\n",
       "      <td>USA</td>\n",
       "      <td>287721907.0</td>\n",
       "      <td>0.190</td>\n",
       "      <td>0.190</td>\n",
       "      <td>22228.0700</td>\n",
       "      <td>33.730000</td>\n",
       "      <td>33.770000</td>\n",
       "      <td>27.900000</td>\n",
       "      <td>1.000</td>\n",
       "    </tr>\n",
       "    <tr>\n",
       "      <th>324</th>\n",
       "      <td>001722</td>\n",
       "      <td>19539.0</td>\n",
       "      <td>2013.0</td>\n",
       "      <td>2.0</td>\n",
       "      <td>12.0</td>\n",
       "      <td>INDL</td>\n",
       "      <td>C</td>\n",
       "      <td>D</td>\n",
       "      <td>STD</td>\n",
       "      <td>ADM</td>\n",
       "      <td>...</td>\n",
       "      <td>A</td>\n",
       "      <td>USA</td>\n",
       "      <td>260474564.0</td>\n",
       "      <td>0.190</td>\n",
       "      <td>0.190</td>\n",
       "      <td>22346.6900</td>\n",
       "      <td>33.910000</td>\n",
       "      <td>35.045000</td>\n",
       "      <td>31.500000</td>\n",
       "      <td>1.000</td>\n",
       "    </tr>\n",
       "    <tr>\n",
       "      <th>325</th>\n",
       "      <td>001722</td>\n",
       "      <td>19631.0</td>\n",
       "      <td>2013.0</td>\n",
       "      <td>3.0</td>\n",
       "      <td>12.0</td>\n",
       "      <td>INDL</td>\n",
       "      <td>C</td>\n",
       "      <td>D</td>\n",
       "      <td>STD</td>\n",
       "      <td>ADM</td>\n",
       "      <td>...</td>\n",
       "      <td>A</td>\n",
       "      <td>USA</td>\n",
       "      <td>217342729.0</td>\n",
       "      <td>0.190</td>\n",
       "      <td>0.190</td>\n",
       "      <td>24240.7200</td>\n",
       "      <td>36.840000</td>\n",
       "      <td>38.810000</td>\n",
       "      <td>34.110000</td>\n",
       "      <td>1.000</td>\n",
       "    </tr>\n",
       "    <tr>\n",
       "      <th>326</th>\n",
       "      <td>001722</td>\n",
       "      <td>19723.0</td>\n",
       "      <td>2013.0</td>\n",
       "      <td>4.0</td>\n",
       "      <td>12.0</td>\n",
       "      <td>INDL</td>\n",
       "      <td>C</td>\n",
       "      <td>D</td>\n",
       "      <td>STD</td>\n",
       "      <td>ADM</td>\n",
       "      <td>...</td>\n",
       "      <td>A</td>\n",
       "      <td>USA</td>\n",
       "      <td>290343713.0</td>\n",
       "      <td>0.190</td>\n",
       "      <td>0.190</td>\n",
       "      <td>28600.6000</td>\n",
       "      <td>43.400000</td>\n",
       "      <td>43.990000</td>\n",
       "      <td>36.010000</td>\n",
       "      <td>1.000</td>\n",
       "    </tr>\n",
       "    <tr>\n",
       "      <th>327</th>\n",
       "      <td>001722</td>\n",
       "      <td>19813.0</td>\n",
       "      <td>2014.0</td>\n",
       "      <td>1.0</td>\n",
       "      <td>12.0</td>\n",
       "      <td>INDL</td>\n",
       "      <td>C</td>\n",
       "      <td>D</td>\n",
       "      <td>STD</td>\n",
       "      <td>ADM</td>\n",
       "      <td>...</td>\n",
       "      <td>A</td>\n",
       "      <td>USA</td>\n",
       "      <td>284775907.0</td>\n",
       "      <td>0.240</td>\n",
       "      <td>0.240</td>\n",
       "      <td>28420.4500</td>\n",
       "      <td>43.390000</td>\n",
       "      <td>43.604000</td>\n",
       "      <td>37.920000</td>\n",
       "      <td>1.000</td>\n",
       "    </tr>\n",
       "    <tr>\n",
       "      <th>328</th>\n",
       "      <td>001722</td>\n",
       "      <td>19904.0</td>\n",
       "      <td>2014.0</td>\n",
       "      <td>2.0</td>\n",
       "      <td>12.0</td>\n",
       "      <td>INDL</td>\n",
       "      <td>C</td>\n",
       "      <td>D</td>\n",
       "      <td>STD</td>\n",
       "      <td>ADM</td>\n",
       "      <td>...</td>\n",
       "      <td>A</td>\n",
       "      <td>USA</td>\n",
       "      <td>188633894.0</td>\n",
       "      <td>0.240</td>\n",
       "      <td>0.240</td>\n",
       "      <td>28583.2800</td>\n",
       "      <td>44.110000</td>\n",
       "      <td>45.400000</td>\n",
       "      <td>41.720000</td>\n",
       "      <td>1.000</td>\n",
       "    </tr>\n",
       "  </tbody>\n",
       "</table>\n",
       "<p>329 rows × 647 columns</p>\n",
       "</div>"
      ],
      "text/plain": [
       "      gvkey  datadate  fyearq  fqtr   fyr indfmt consol popsrc datafmt  tic  \\\n",
       "0    001076    7851.0  1981.0   1.0   3.0   INDL      C      D     STD  AAN   \n",
       "1    001076    7943.0  1981.0   2.0   3.0   INDL      C      D     STD  AAN   \n",
       "2    001076    8035.0  1981.0   3.0   3.0   INDL      C      D     STD  AAN   \n",
       "3    001076    8125.0  1981.0   4.0   3.0   INDL      C      D     STD  AAN   \n",
       "4    001076    8216.0  1982.0   1.0   3.0   INDL      C      D     STD  AAN   \n",
       "5    001076    8308.0  1982.0   2.0   3.0   INDL      C      D     STD  AAN   \n",
       "6    001076    8400.0  1982.0   3.0   3.0   INDL      C      D     STD  AAN   \n",
       "7    001076    8490.0  1982.0   4.0   3.0   INDL      C      D     STD  AAN   \n",
       "8    001076    8581.0  1983.0   1.0   3.0   INDL      C      D     STD  AAN   \n",
       "9    001076    8673.0  1983.0   2.0   3.0   INDL      C      D     STD  AAN   \n",
       "10   001076    8765.0  1983.0   3.0   3.0   INDL      C      D     STD  AAN   \n",
       "11   001076    8856.0  1983.0   4.0   3.0   INDL      C      D     STD  AAN   \n",
       "12   001076    8947.0  1984.0   1.0   3.0   INDL      C      D     STD  AAN   \n",
       "13   001076    9039.0  1984.0   2.0   3.0   INDL      C      D     STD  AAN   \n",
       "14   001076    9131.0  1984.0   3.0   3.0   INDL      C      D     STD  AAN   \n",
       "15   001076    9221.0  1984.0   4.0   3.0   INDL      C      D     STD  AAN   \n",
       "16   001076    9312.0  1985.0   1.0   3.0   INDL      C      D     STD  AAN   \n",
       "17   001076    9404.0  1985.0   2.0   3.0   INDL      C      D     STD  AAN   \n",
       "18   001076    9496.0  1985.0   3.0   3.0   INDL      C      D     STD  AAN   \n",
       "19   001076    9586.0  1985.0   4.0   3.0   INDL      C      D     STD  AAN   \n",
       "20   001076    9677.0  1986.0   1.0   3.0   INDL      C      D     STD  AAN   \n",
       "21   001076    9769.0  1986.0   2.0   3.0   INDL      C      D     STD  AAN   \n",
       "22   001076    9861.0  1986.0   3.0   3.0   INDL      C      D     STD  AAN   \n",
       "23   001076    9951.0  1986.0   4.0   3.0   INDL      C      D     STD  AAN   \n",
       "24   001076   10042.0  1987.0   1.0   3.0   INDL      C      D     STD  AAN   \n",
       "25   001076   10134.0  1987.0   2.0   3.0   INDL      C      D     STD  AAN   \n",
       "26   001076   10226.0  1987.0   3.0   3.0   INDL      C      D     STD  AAN   \n",
       "27   001076   10317.0  1987.0   4.0   3.0   INDL      C      D     STD  AAN   \n",
       "28   001076   10408.0  1988.0   1.0   3.0   INDL      C      D     STD  AAN   \n",
       "29   001076   10500.0  1988.0   2.0   3.0   INDL      C      D     STD  AAN   \n",
       "..      ...       ...     ...   ...   ...    ...    ...    ...     ...  ...   \n",
       "299  001722   17256.0  2007.0   3.0   6.0   INDL      C      D     STD  ADM   \n",
       "300  001722   17347.0  2007.0   4.0   6.0   INDL      C      D     STD  ADM   \n",
       "301  001722   17439.0  2008.0   1.0   6.0   INDL      C      D     STD  ADM   \n",
       "302  001722   17531.0  2008.0   2.0   6.0   INDL      C      D     STD  ADM   \n",
       "303  001722   17622.0  2008.0   3.0   6.0   INDL      C      D     STD  ADM   \n",
       "304  001722   17713.0  2008.0   4.0   6.0   INDL      C      D     STD  ADM   \n",
       "305  001722   17805.0  2009.0   1.0   6.0   INDL      C      D     STD  ADM   \n",
       "306  001722   17897.0  2009.0   2.0   6.0   INDL      C      D     STD  ADM   \n",
       "307  001722   17987.0  2009.0   3.0   6.0   INDL      C      D     STD  ADM   \n",
       "308  001722   18078.0  2009.0   4.0   6.0   INDL      C      D     STD  ADM   \n",
       "309  001722   18170.0  2010.0   1.0   6.0   INDL      C      D     STD  ADM   \n",
       "310  001722   18262.0  2010.0   2.0   6.0   INDL      C      D     STD  ADM   \n",
       "311  001722   18352.0  2010.0   3.0   6.0   INDL      C      D     STD  ADM   \n",
       "312  001722   18443.0  2010.0   4.0   6.0   INDL      C      D     STD  ADM   \n",
       "313  001722   18535.0  2011.0   1.0   6.0   INDL      C      D     STD  ADM   \n",
       "314  001722   18627.0  2011.0   2.0   6.0   INDL      C      D     STD  ADM   \n",
       "315  001722   18717.0  2011.0   3.0   6.0   INDL      C      D     STD  ADM   \n",
       "316  001722   18808.0  2011.0   4.0   6.0   INDL      C      D     STD  ADM   \n",
       "317  001722   18900.0  2012.0   1.0   6.0   INDL      C      D     STD  ADM   \n",
       "318  001722   18992.0  2012.0   2.0   6.0   INDL      C      D     STD  ADM   \n",
       "319  001722   19083.0  2012.0   3.0   6.0   INDL      C      D     STD  ADM   \n",
       "320  001722   19174.0  2012.0   4.0   6.0   INDL      C      D     STD  ADM   \n",
       "321  001722   19266.0  2013.0   1.0   6.0   INDL      C      D     STD  ADM   \n",
       "322  001722   19358.0  2013.0   2.0   6.0   INDL      C      D     STD  ADM   \n",
       "323  001722   19448.0  2013.0   1.0  12.0   INDL      C      D     STD  ADM   \n",
       "324  001722   19539.0  2013.0   2.0  12.0   INDL      C      D     STD  ADM   \n",
       "325  001722   19631.0  2013.0   3.0  12.0   INDL      C      D     STD  ADM   \n",
       "326  001722   19723.0  2013.0   4.0  12.0   INDL      C      D     STD  ADM   \n",
       "327  001722   19813.0  2014.0   1.0  12.0   INDL      C      D     STD  ADM   \n",
       "328  001722   19904.0  2014.0   2.0  12.0   INDL      C      D     STD  ADM   \n",
       "\n",
       "      ...   costat  fic       cshtrq dvpspq dvpsxq     mkvaltq      prccq  \\\n",
       "0     ...        A  USA          NaN  0.000  0.000         NaN        NaN   \n",
       "1     ...        A  USA          NaN  0.000  0.000         NaN        NaN   \n",
       "2     ...        A  USA          NaN  0.000  0.000         NaN        NaN   \n",
       "3     ...        A  USA          NaN  0.000  0.000         NaN        NaN   \n",
       "4     ...        A  USA          NaN  0.000  0.000         NaN        NaN   \n",
       "5     ...        A  USA          NaN  0.000  0.000         NaN        NaN   \n",
       "6     ...        A  USA    1235900.0  0.000  0.000         NaN  19.249981   \n",
       "7     ...        A  USA     534500.0  0.000  0.000         NaN  27.749954   \n",
       "8     ...        A  USA     461850.0  0.000  0.000         NaN  24.500000   \n",
       "9     ...        A  USA     372100.0  0.000  0.000         NaN  17.000000   \n",
       "10    ...        A  USA     633100.0  0.000  0.000         NaN  18.250000   \n",
       "11    ...        A  USA     434500.0  0.000  0.000         NaN  15.500000   \n",
       "12    ...        A  USA     320400.0  0.000  0.000         NaN  16.500000   \n",
       "13    ...        A  USA     447000.0  0.000  0.000         NaN  16.500000   \n",
       "14    ...        A  USA     265900.0  0.000  0.000         NaN  17.250000   \n",
       "15    ...        A  USA     768300.0  0.000  0.000         NaN  21.750000   \n",
       "16    ...        A  USA     658000.0  0.000  0.000         NaN  21.000000   \n",
       "17    ...        A  USA     587600.0  0.000  0.000         NaN  19.750000   \n",
       "18    ...        A  USA     933700.0  0.000  0.000         NaN  17.250000   \n",
       "19    ...        A  USA     612700.0  0.000  0.000         NaN  17.500000   \n",
       "20    ...        A  USA     749100.0  0.000  0.000         NaN  18.500000   \n",
       "21    ...        A  USA     892400.0  0.000  0.000         NaN  17.250000   \n",
       "22    ...        A  USA    1642499.0  0.000  0.050         NaN  15.250000   \n",
       "23    ...        A  USA     730800.0  0.050  0.000         NaN  16.500000   \n",
       "24    ...        A  USA     442300.0  0.000  0.050         NaN  11.000000   \n",
       "25    ...        A  USA     253700.0  0.050  0.000         NaN  12.250000   \n",
       "26    ...        A  USA     671400.0  0.000  0.050         NaN   7.000000   \n",
       "27    ...        A  USA     419100.0  0.050  0.000         NaN  11.000000   \n",
       "28    ...        A  USA     380200.0  0.000  0.050         NaN   9.750000   \n",
       "29    ...        A  USA     292200.0  0.050  0.000         NaN  10.625000   \n",
       "..    ...      ...  ...          ...    ...    ...         ...        ...   \n",
       "299   ...        A  USA  519568725.0  0.115  0.115  23599.7882  36.700000   \n",
       "300   ...        A  USA  426974425.0  0.115  0.115  21276.8700  33.090000   \n",
       "301   ...        A  USA  358784946.0  0.115  0.115  21266.8343  33.080000   \n",
       "302   ...        A  USA  386241754.0  0.115  0.115  29881.2801  46.430000   \n",
       "303   ...        A  USA  405840090.0  0.130  0.130  26503.8707  41.160000   \n",
       "304   ...        A  USA  480365220.0  0.130  0.130  21735.0000  33.750000   \n",
       "305   ...        A  USA  507156227.0  0.130  0.130  14054.6953  21.910000   \n",
       "306   ...        A  USA  590230431.0  0.130  0.130  18505.6887  28.830000   \n",
       "307   ...        A  USA  503927710.0  0.140  0.140  17834.7600  27.780000   \n",
       "308   ...        A  USA  371283168.0  0.140  0.140  17186.3400  26.770000   \n",
       "309   ...        A  USA  344544489.0  0.140  0.140  18759.2400  29.220000   \n",
       "310   ...        A  USA  284600433.0  0.140  0.140  20132.3300  31.310000   \n",
       "311   ...        A  USA  332438821.0  0.150  0.150  18582.7000  28.900000   \n",
       "312   ...        A  USA  398472327.0  0.150  0.150  16498.9800  25.820000   \n",
       "313   ...        A  USA  356159981.0  0.150  0.150  20396.8800  31.920000   \n",
       "314   ...        A  USA  326191570.0  0.150  0.150  19160.9600  30.080000   \n",
       "315   ...        A  USA  412586495.0  0.160  0.160  22974.3800  36.010000   \n",
       "316   ...        A  USA  411777067.0  0.160  0.160  20381.4000  30.150000   \n",
       "317   ...        A  USA  440809723.0  0.160  0.160  16573.0800  24.810000   \n",
       "318   ...        A  USA  281616153.0  0.175  0.175  18933.2000  28.600000   \n",
       "319   ...        A  USA  284623215.0  0.175  0.175  20895.6000  31.660000   \n",
       "320   ...        A  USA  298976595.0  0.175  0.175  19453.6800  29.520000   \n",
       "321   ...        A  USA  310111702.0  0.175  0.175  17911.6200  27.180000   \n",
       "322   ...        A  USA  314729721.0  0.175  0.175  18050.0100  27.390000   \n",
       "323   ...        A  USA  287721907.0  0.190  0.190  22228.0700  33.730000   \n",
       "324   ...        A  USA  260474564.0  0.190  0.190  22346.6900  33.910000   \n",
       "325   ...        A  USA  217342729.0  0.190  0.190  24240.7200  36.840000   \n",
       "326   ...        A  USA  290343713.0  0.190  0.190  28600.6000  43.400000   \n",
       "327   ...        A  USA  284775907.0  0.240  0.240  28420.4500  43.390000   \n",
       "328   ...        A  USA  188633894.0  0.240  0.240  28583.2800  44.110000   \n",
       "\n",
       "         prchq      prclq   adjex  \n",
       "0          NaN        NaN  70.875  \n",
       "1          NaN        NaN  70.875  \n",
       "2          NaN        NaN  70.875  \n",
       "3          NaN        NaN  70.875  \n",
       "4          NaN        NaN  70.875  \n",
       "5          NaN        NaN  20.250  \n",
       "6    21.999979  18.999979  20.250  \n",
       "7    27.749954  19.249981  20.250  \n",
       "8    25.750000  17.833313  13.500  \n",
       "9    24.500000  17.000000  13.500  \n",
       "10   18.250000  14.500000  13.500  \n",
       "11   19.500000  14.000000  13.500  \n",
       "12   18.000000  15.250000  13.500  \n",
       "13   18.000000  14.000000  13.500  \n",
       "14   17.750000  16.000000  13.500  \n",
       "15   22.750000  17.250000  13.500  \n",
       "16   23.000000  19.125000  13.500  \n",
       "17   21.750000  19.000000  13.500  \n",
       "18   22.250000  15.500000  13.500  \n",
       "19   18.250000  15.875000  13.500  \n",
       "20   20.000000  17.000000  13.500  \n",
       "21   19.750000  17.000000  13.500  \n",
       "22   17.750000  14.000000  13.500  \n",
       "23   17.750000  13.750000  13.500  \n",
       "24   17.000000  10.750000  13.500  \n",
       "25   13.250000  11.250000  13.500  \n",
       "26   12.250000   6.500000  13.500  \n",
       "27   12.500000   6.500000  13.500  \n",
       "28   11.250000   9.000000  13.500  \n",
       "29   11.750000   9.750000  13.500  \n",
       "..         ...        ...     ...  \n",
       "299  37.840000  30.200000   1.000  \n",
       "300  39.650000  32.050000   1.000  \n",
       "301  37.020000  31.280000   1.000  \n",
       "302  47.330000  32.430000   1.000  \n",
       "303  47.180000  38.110000   1.000  \n",
       "304  48.950000  31.650000   1.000  \n",
       "305  33.910000  19.700000   1.000  \n",
       "306  29.080000  13.530000   1.000  \n",
       "307  29.500000  24.080000   1.000  \n",
       "308  29.400000  23.130000   1.000  \n",
       "309  32.130000  26.000000   1.000  \n",
       "310  33.000000  27.660000   1.000  \n",
       "311  31.890000  28.060000   1.000  \n",
       "312  29.260000  24.220000   1.000  \n",
       "313  33.545000  25.020000   1.000  \n",
       "314  34.030000  28.530000   1.000  \n",
       "315  38.020100  30.130000   1.000  \n",
       "316  37.280000  28.980000   1.000  \n",
       "317  32.410000  24.420000   1.000  \n",
       "318  30.550000  23.690000   1.000  \n",
       "319  32.360000  28.110000   1.000  \n",
       "320  33.980000  28.550000   1.000  \n",
       "321  29.330000  25.020000   1.000  \n",
       "322  29.230000  24.380000   1.000  \n",
       "323  33.770000  27.900000   1.000  \n",
       "324  35.045000  31.500000   1.000  \n",
       "325  38.810000  34.110000   1.000  \n",
       "326  43.990000  36.010000   1.000  \n",
       "327  43.604000  37.920000   1.000  \n",
       "328  45.400000  41.720000   1.000  \n",
       "\n",
       "[329 rows x 647 columns]"
      ]
     },
     "execution_count": 43,
     "metadata": {},
     "output_type": "execute_result"
    }
   ],
   "source": [
    "comp_dir = r'C:\\Users\\derobertisna.UFAD\\Desktop\\Data\\Compustat'\n",
    "filename = r'fundq_test.sas7bdat'\n",
    "filepath = os.path.join(comp_dir, filename)\n",
    "comp = dero.pandas.load_sas(filepath)\n",
    "comp"
   ]
  },
  {
   "cell_type": "code",
   "execution_count": 10,
   "metadata": {
    "collapsed": false
   },
   "outputs": [
    {
     "name": "stdout",
     "output_type": "stream",
     "text": [
      "pd.DataFrame(data = [\n",
      "(10516, Timestamp('2000-01-01 00:00:00'), 1.01, 0),\n",
      "(10516, Timestamp('2000-01-02 00:00:00'), 1.02, 1),\n",
      "(10516, Timestamp('2000-01-03 00:00:00'), 1.03, 1),\n",
      "(10516, Timestamp('2000-01-04 00:00:00'), 1.04, 2),\n",
      "(10516, Timestamp('2000-01-05 00:00:00'), 1.05, 2),\n",
      "(10516, Timestamp('2000-01-06 00:00:00'), 1.06, 3),\n",
      "(10516, Timestamp('2000-01-07 00:00:00'), 1.07, 3),\n",
      "(10516, Timestamp('2000-01-08 00:00:00'), 1.08, 3),\n",
      "(10517, Timestamp('2000-01-01 00:00:00'), 1.09, 0),\n",
      "(10517, Timestamp('2000-01-02 00:00:00'), 1.1, 1),\n",
      "(10517, Timestamp('2000-01-03 00:00:00'), 1.11, 1),\n",
      "(10517, Timestamp('2000-01-04 00:00:00'), 1.12, 2),\n",
      "(10517, Timestamp('2000-01-05 00:00:00'), 1.05, 2),\n",
      "(10517, Timestamp('2000-01-06 00:00:00'), 1.06, 3),\n",
      "(10517, Timestamp('2000-01-07 00:00:00'), 1.07, 3),\n",
      "(10517, Timestamp('2000-01-08 00:00:00'), 1.08, 3),\n",
      "], columns = ['PERMNO', 'Date', 'RET', '__map_window__'])\n",
      "pd.DataFrame(data = [\n",
      "(10516, Timestamp('2000-01-01 00:00:00'), 1.01, 0),\n",
      "(10516, Timestamp('2000-01-02 00:00:00'), 1.02, 1),\n",
      "(10516, Timestamp('2000-01-03 00:00:00'), 1.03, 1),\n",
      "(10516, Timestamp('2000-01-04 00:00:00'), 1.04, 1),\n",
      "(10516, Timestamp('2000-01-05 00:00:00'), 1.05, 1),\n",
      "(10516, Timestamp('2000-01-06 00:00:00'), 1.06, 2),\n",
      "(10516, Timestamp('2000-01-07 00:00:00'), 1.07, 3),\n",
      "(10516, Timestamp('2000-01-08 00:00:00'), 1.08, 3),\n",
      "(10517, Timestamp('2000-01-01 00:00:00'), 1.09, 0),\n",
      "(10517, Timestamp('2000-01-02 00:00:00'), 1.1, 1),\n",
      "(10517, Timestamp('2000-01-03 00:00:00'), 1.11, 1),\n",
      "(10517, Timestamp('2000-01-04 00:00:00'), 1.12, 1),\n",
      "(10517, Timestamp('2000-01-05 00:00:00'), 1.05, 1),\n",
      "(10517, Timestamp('2000-01-06 00:00:00'), 1.06, 2),\n",
      "(10517, Timestamp('2000-01-07 00:00:00'), 1.07, 3),\n",
      "(10517, Timestamp('2000-01-08 00:00:00'), 1.08, 3),\n",
      "], columns = ['PERMNO', 'Date', 'RET', '__map_window__'])\n",
      "pd.DataFrame(data = [\n",
      "(10516, Timestamp('2000-01-01 00:00:00'), 1.01, 0),\n",
      "(10516, Timestamp('2000-01-02 00:00:00'), 1.02, 1),\n",
      "(10516, Timestamp('2000-01-03 00:00:00'), 1.03, 2),\n",
      "(10516, Timestamp('2000-01-04 00:00:00'), 1.04, 3),\n",
      "(10516, Timestamp('2000-01-05 00:00:00'), 1.05, 3),\n",
      "(10516, Timestamp('2000-01-06 00:00:00'), 1.06, 3),\n",
      "(10516, Timestamp('2000-01-07 00:00:00'), 1.07, 3),\n",
      "(10516, Timestamp('2000-01-08 00:00:00'), 1.08, 3),\n",
      "(10517, Timestamp('2000-01-01 00:00:00'), 1.09, 0),\n",
      "(10517, Timestamp('2000-01-02 00:00:00'), 1.1, 1),\n",
      "(10517, Timestamp('2000-01-03 00:00:00'), 1.11, 2),\n",
      "(10517, Timestamp('2000-01-04 00:00:00'), 1.12, 3),\n",
      "(10517, Timestamp('2000-01-05 00:00:00'), 1.05, 3),\n",
      "(10517, Timestamp('2000-01-06 00:00:00'), 1.06, 3),\n",
      "(10517, Timestamp('2000-01-07 00:00:00'), 1.07, 3),\n",
      "(10517, Timestamp('2000-01-08 00:00:00'), 1.08, 3),\n",
      "], columns = ['PERMNO', 'Date', 'RET', '__map_window__'])\n",
      "pd.DataFrame(data = [\n",
      "(10516, Timestamp('2000-01-01 00:00:00'), 1.01, 0),\n",
      "(10516, Timestamp('2000-01-02 00:00:00'), 1.02, 1),\n",
      "(10516, Timestamp('2000-01-03 00:00:00'), 1.03, 2),\n",
      "(10516, Timestamp('2000-01-04 00:00:00'), 1.04, 3),\n",
      "(10516, Timestamp('2000-01-05 00:00:00'), 1.05, 3),\n",
      "(10516, Timestamp('2000-01-06 00:00:00'), 1.06, 3),\n",
      "(10516, Timestamp('2000-01-07 00:00:00'), 1.07, 3),\n",
      "(10516, Timestamp('2000-01-08 00:00:00'), 1.08, 3),\n",
      "(10517, Timestamp('2000-01-01 00:00:00'), 1.09, 0),\n",
      "(10517, Timestamp('2000-01-02 00:00:00'), 1.1, 1),\n",
      "(10517, Timestamp('2000-01-03 00:00:00'), 1.11, 2),\n",
      "(10517, Timestamp('2000-01-04 00:00:00'), 1.12, 3),\n",
      "(10517, Timestamp('2000-01-05 00:00:00'), 1.05, 3),\n",
      "(10517, Timestamp('2000-01-06 00:00:00'), 1.06, 3),\n",
      "(10517, Timestamp('2000-01-07 00:00:00'), 1.07, 3),\n",
      "(10517, Timestamp('2000-01-08 00:00:00'), 1.08, 3),\n",
      "], columns = ['PERMNO', 'Date', 'RET', '__map_window__'])\n",
      "pd.DataFrame(data = [\n",
      "(10516, Timestamp('2000-01-01 00:00:00'), 1.01, 0),\n",
      "(10516, Timestamp('2000-01-02 00:00:00'), 1.02, 1),\n",
      "(10516, Timestamp('2000-01-03 00:00:00'), 1.03, 2),\n",
      "(10516, Timestamp('2000-01-04 00:00:00'), 1.04, 3),\n",
      "(10516, Timestamp('2000-01-05 00:00:00'), 1.05, 3),\n",
      "(10516, Timestamp('2000-01-06 00:00:00'), 1.06, 3),\n",
      "(10516, Timestamp('2000-01-07 00:00:00'), 1.07, 3),\n",
      "(10516, Timestamp('2000-01-08 00:00:00'), 1.08, 3),\n",
      "(10517, Timestamp('2000-01-01 00:00:00'), 1.09, 0),\n",
      "(10517, Timestamp('2000-01-02 00:00:00'), 1.1, 1),\n",
      "(10517, Timestamp('2000-01-03 00:00:00'), 1.11, 2),\n",
      "(10517, Timestamp('2000-01-04 00:00:00'), 1.12, 3),\n",
      "(10517, Timestamp('2000-01-05 00:00:00'), 1.05, 3),\n",
      "(10517, Timestamp('2000-01-06 00:00:00'), 1.06, 3),\n",
      "(10517, Timestamp('2000-01-07 00:00:00'), 1.07, 3),\n",
      "(10517, Timestamp('2000-01-08 00:00:00'), 1.08, 3),\n",
      "], columns = ['PERMNO', 'Date', 'RET', '__map_window__'])\n"
     ]
    }
   ],
   "source": [
    "times = [\n",
    "        [-4, -2, 0],\n",
    "        [-3, 1, 2],\n",
    "        [4, 5, 6],\n",
    "        [0, 1, 2],\n",
    "        [-1, 0, 1]\n",
    "    ]\n",
    "i = 3\n",
    "method = 'between'\n",
    "\n",
    "for i in range(len(times)):\n",
    "    tcp = dero.pandas._map_windows(df_period, times[i], method=method, periodvar='Date', byvars=['PERMNO'])\n",
    "    dero.pandas.to_copy_paste(tcp)"
   ]
  },
  {
   "cell_type": "code",
   "execution_count": 4,
   "metadata": {
    "collapsed": false
   },
   "outputs": [
    {
     "data": {
      "text/html": [
       "<div>\n",
       "<table border=\"1\" class=\"dataframe\">\n",
       "  <thead>\n",
       "    <tr style=\"text-align: right;\">\n",
       "      <th></th>\n",
       "      <th>PERMNO</th>\n",
       "      <th>byvar</th>\n",
       "      <th>Date</th>\n",
       "      <th>RET</th>\n",
       "    </tr>\n",
       "  </thead>\n",
       "  <tbody>\n",
       "    <tr>\n",
       "      <th>10</th>\n",
       "      <td>10516</td>\n",
       "      <td>a</td>\n",
       "      <td>2000-01-01</td>\n",
       "      <td>1.01</td>\n",
       "    </tr>\n",
       "    <tr>\n",
       "      <th>11</th>\n",
       "      <td>10516</td>\n",
       "      <td>a</td>\n",
       "      <td>2000-01-02</td>\n",
       "      <td>1.02</td>\n",
       "    </tr>\n",
       "    <tr>\n",
       "      <th>12</th>\n",
       "      <td>10516</td>\n",
       "      <td>a</td>\n",
       "      <td>2000-01-03</td>\n",
       "      <td>1.03</td>\n",
       "    </tr>\n",
       "    <tr>\n",
       "      <th>13</th>\n",
       "      <td>10516</td>\n",
       "      <td>a</td>\n",
       "      <td>2000-01-04</td>\n",
       "      <td>1.04</td>\n",
       "    </tr>\n",
       "    <tr>\n",
       "      <th>14</th>\n",
       "      <td>10516</td>\n",
       "      <td>b</td>\n",
       "      <td>2000-01-01</td>\n",
       "      <td>1.05</td>\n",
       "    </tr>\n",
       "    <tr>\n",
       "      <th>15</th>\n",
       "      <td>10516</td>\n",
       "      <td>b</td>\n",
       "      <td>2000-01-02</td>\n",
       "      <td>1.06</td>\n",
       "    </tr>\n",
       "    <tr>\n",
       "      <th>16</th>\n",
       "      <td>10516</td>\n",
       "      <td>b</td>\n",
       "      <td>2000-01-03</td>\n",
       "      <td>1.07</td>\n",
       "    </tr>\n",
       "    <tr>\n",
       "      <th>17</th>\n",
       "      <td>10516</td>\n",
       "      <td>b</td>\n",
       "      <td>2000-01-04</td>\n",
       "      <td>1.08</td>\n",
       "    </tr>\n",
       "    <tr>\n",
       "      <th>18</th>\n",
       "      <td>10517</td>\n",
       "      <td>a</td>\n",
       "      <td>2000-01-01</td>\n",
       "      <td>1.09</td>\n",
       "    </tr>\n",
       "    <tr>\n",
       "      <th>19</th>\n",
       "      <td>10517</td>\n",
       "      <td>a</td>\n",
       "      <td>2000-01-02</td>\n",
       "      <td>1.10</td>\n",
       "    </tr>\n",
       "    <tr>\n",
       "      <th>20</th>\n",
       "      <td>10517</td>\n",
       "      <td>a</td>\n",
       "      <td>2000-01-03</td>\n",
       "      <td>1.11</td>\n",
       "    </tr>\n",
       "    <tr>\n",
       "      <th>21</th>\n",
       "      <td>10517</td>\n",
       "      <td>a</td>\n",
       "      <td>2000-01-04</td>\n",
       "      <td>1.12</td>\n",
       "    </tr>\n",
       "  </tbody>\n",
       "</table>\n",
       "</div>"
      ],
      "text/plain": [
       "    PERMNO byvar       Date   RET\n",
       "10   10516     a 2000-01-01  1.01\n",
       "11   10516     a 2000-01-02  1.02\n",
       "12   10516     a 2000-01-03  1.03\n",
       "13   10516     a 2000-01-04  1.04\n",
       "14   10516     b 2000-01-01  1.05\n",
       "15   10516     b 2000-01-02  1.06\n",
       "16   10516     b 2000-01-03  1.07\n",
       "17   10516     b 2000-01-04  1.08\n",
       "18   10517     a 2000-01-01  1.09\n",
       "19   10517     a 2000-01-02  1.10\n",
       "20   10517     a 2000-01-03  1.11\n",
       "21   10517     a 2000-01-04  1.12"
      ]
     },
     "execution_count": 4,
     "metadata": {},
     "output_type": "execute_result"
    }
   ],
   "source": [
    "df_date"
   ]
  },
  {
   "cell_type": "code",
   "execution_count": 6,
   "metadata": {
    "collapsed": false
   },
   "outputs": [
    {
     "name": "stdout",
     "output_type": "stream",
     "text": [
      "2016-07-13 19:44:24: Initializing cumulate.\n",
      "2016-07-13 19:44:24: Creating by groups.\n",
      "pd.DataFrame(data = [\n",
      "(numpy.datetime64('NaT'), numpy.datetime64('NaT'), numpy.datetime64('NaT'), numpy.datetime64('NaT'), numpy.datetime64('1970-01-01T00:00:00.000000001')),\n",
      "(numpy.datetime64('NaT'), numpy.datetime64('NaT'), numpy.datetime64('NaT'), numpy.datetime64('NaT'), numpy.datetime64('1970-01-01T00:00:00.000000001')),\n",
      "(numpy.datetime64('NaT'), numpy.datetime64('NaT'), numpy.datetime64('NaT'), numpy.datetime64('NaT'), numpy.datetime64('1970-01-01T00:00:00.000000001')),\n",
      "(numpy.datetime64('NaT'), numpy.datetime64('NaT'), numpy.datetime64('NaT'), numpy.datetime64('NaT'), numpy.datetime64('1970-01-01T00:00:00.000000001')),\n",
      "(numpy.datetime64('NaT'), numpy.datetime64('NaT'), numpy.datetime64('NaT'), numpy.datetime64('NaT'), numpy.datetime64('1970-01-01T00:00:00.000000001')),\n",
      "(numpy.datetime64('NaT'), numpy.datetime64('NaT'), numpy.datetime64('NaT'), numpy.datetime64('NaT'), numpy.datetime64('1970-01-01T00:00:00.000000001')),\n",
      "(numpy.datetime64('NaT'), numpy.datetime64('NaT'), numpy.datetime64('NaT'), numpy.datetime64('NaT'), numpy.datetime64('1970-01-01T00:00:00.000000001')),\n",
      "(numpy.datetime64('NaT'), numpy.datetime64('NaT'), numpy.datetime64('NaT'), numpy.datetime64('NaT'), numpy.datetime64('1970-01-01T00:00:00.000000001')),\n",
      "(numpy.datetime64('NaT'), numpy.datetime64('NaT'), numpy.datetime64('NaT'), numpy.datetime64('NaT'), numpy.datetime64('1970-01-01T00:00:00.000000001')),\n",
      "(numpy.datetime64('NaT'), numpy.datetime64('NaT'), numpy.datetime64('NaT'), numpy.datetime64('NaT'), numpy.datetime64('1970-01-01T00:00:00.000000001')),\n",
      "(10516.0, 'a', Timestamp('2000-01-01 00:00:00'), 1.01, 1.2210000000000003),\n",
      "(10516.0, 'a', Timestamp('2000-01-02 00:00:00'), 1.02, 1.12),\n",
      "(10516.0, 'a', Timestamp('2000-01-03 00:00:00'), 1.03, nan),\n",
      "(10516.0, 'a', Timestamp('2000-01-04 00:00:00'), 1.04, nan),\n",
      "(10516.0, 'b', Timestamp('2000-01-01 00:00:00'), 1.05, nan),\n",
      "(10516.0, 'b', Timestamp('2000-01-02 00:00:00'), 1.06, nan),\n",
      "(10516.0, 'b', Timestamp('2000-01-03 00:00:00'), 1.07, nan),\n",
      "(10516.0, 'b', Timestamp('2000-01-04 00:00:00'), 1.08, nan),\n",
      "(10517.0, 'a', Timestamp('2000-01-01 00:00:00'), 1.09, nan),\n",
      "(10517.0, 'a', Timestamp('2000-01-02 00:00:00'), 1.1, nan),\n",
      "(10517.0, 'a', Timestamp('2000-01-03 00:00:00'), 1.11, nan),\n",
      "(10517.0, 'a', Timestamp('2000-01-04 00:00:00'), 1.12, nan),\n",
      "], columns = ['PERMNO', 'byvar', 'Date', 'RET', 'cum_RET'])\n"
     ]
    },
    {
     "data": {
      "text/html": [
       "<div>\n",
       "<table border=\"1\" class=\"dataframe\">\n",
       "  <thead>\n",
       "    <tr style=\"text-align: right;\">\n",
       "      <th></th>\n",
       "      <th>PERMNO</th>\n",
       "      <th>byvar</th>\n",
       "      <th>Date</th>\n",
       "      <th>RET</th>\n",
       "      <th>cum_RET</th>\n",
       "    </tr>\n",
       "  </thead>\n",
       "  <tbody>\n",
       "    <tr>\n",
       "      <th>0</th>\n",
       "      <td>NaN</td>\n",
       "      <td>NaN</td>\n",
       "      <td>NaT</td>\n",
       "      <td>NaN</td>\n",
       "      <td>1.0100</td>\n",
       "    </tr>\n",
       "    <tr>\n",
       "      <th>1</th>\n",
       "      <td>NaN</td>\n",
       "      <td>NaN</td>\n",
       "      <td>NaT</td>\n",
       "      <td>NaN</td>\n",
       "      <td>1.0200</td>\n",
       "    </tr>\n",
       "    <tr>\n",
       "      <th>2</th>\n",
       "      <td>NaN</td>\n",
       "      <td>NaN</td>\n",
       "      <td>NaT</td>\n",
       "      <td>NaN</td>\n",
       "      <td>1.0506</td>\n",
       "    </tr>\n",
       "    <tr>\n",
       "      <th>3</th>\n",
       "      <td>NaN</td>\n",
       "      <td>NaN</td>\n",
       "      <td>NaT</td>\n",
       "      <td>NaN</td>\n",
       "      <td>1.0400</td>\n",
       "    </tr>\n",
       "    <tr>\n",
       "      <th>4</th>\n",
       "      <td>NaN</td>\n",
       "      <td>NaN</td>\n",
       "      <td>NaT</td>\n",
       "      <td>NaN</td>\n",
       "      <td>1.0500</td>\n",
       "    </tr>\n",
       "    <tr>\n",
       "      <th>5</th>\n",
       "      <td>NaN</td>\n",
       "      <td>NaN</td>\n",
       "      <td>NaT</td>\n",
       "      <td>NaN</td>\n",
       "      <td>1.0600</td>\n",
       "    </tr>\n",
       "    <tr>\n",
       "      <th>6</th>\n",
       "      <td>NaN</td>\n",
       "      <td>NaN</td>\n",
       "      <td>NaT</td>\n",
       "      <td>NaN</td>\n",
       "      <td>1.1342</td>\n",
       "    </tr>\n",
       "    <tr>\n",
       "      <th>7</th>\n",
       "      <td>NaN</td>\n",
       "      <td>NaN</td>\n",
       "      <td>NaT</td>\n",
       "      <td>NaN</td>\n",
       "      <td>1.0800</td>\n",
       "    </tr>\n",
       "    <tr>\n",
       "      <th>8</th>\n",
       "      <td>NaN</td>\n",
       "      <td>NaN</td>\n",
       "      <td>NaT</td>\n",
       "      <td>NaN</td>\n",
       "      <td>1.0900</td>\n",
       "    </tr>\n",
       "    <tr>\n",
       "      <th>9</th>\n",
       "      <td>NaN</td>\n",
       "      <td>NaN</td>\n",
       "      <td>NaT</td>\n",
       "      <td>NaN</td>\n",
       "      <td>1.1000</td>\n",
       "    </tr>\n",
       "    <tr>\n",
       "      <th>10</th>\n",
       "      <td>10516.0</td>\n",
       "      <td>a</td>\n",
       "      <td>2000-01-01</td>\n",
       "      <td>1.01</td>\n",
       "      <td>1.2210</td>\n",
       "    </tr>\n",
       "    <tr>\n",
       "      <th>11</th>\n",
       "      <td>10516.0</td>\n",
       "      <td>a</td>\n",
       "      <td>2000-01-02</td>\n",
       "      <td>1.02</td>\n",
       "      <td>1.1200</td>\n",
       "    </tr>\n",
       "    <tr>\n",
       "      <th>12</th>\n",
       "      <td>10516.0</td>\n",
       "      <td>a</td>\n",
       "      <td>2000-01-03</td>\n",
       "      <td>1.03</td>\n",
       "      <td>NaN</td>\n",
       "    </tr>\n",
       "    <tr>\n",
       "      <th>13</th>\n",
       "      <td>10516.0</td>\n",
       "      <td>a</td>\n",
       "      <td>2000-01-04</td>\n",
       "      <td>1.04</td>\n",
       "      <td>NaN</td>\n",
       "    </tr>\n",
       "    <tr>\n",
       "      <th>14</th>\n",
       "      <td>10516.0</td>\n",
       "      <td>b</td>\n",
       "      <td>2000-01-01</td>\n",
       "      <td>1.05</td>\n",
       "      <td>NaN</td>\n",
       "    </tr>\n",
       "    <tr>\n",
       "      <th>15</th>\n",
       "      <td>10516.0</td>\n",
       "      <td>b</td>\n",
       "      <td>2000-01-02</td>\n",
       "      <td>1.06</td>\n",
       "      <td>NaN</td>\n",
       "    </tr>\n",
       "    <tr>\n",
       "      <th>16</th>\n",
       "      <td>10516.0</td>\n",
       "      <td>b</td>\n",
       "      <td>2000-01-03</td>\n",
       "      <td>1.07</td>\n",
       "      <td>NaN</td>\n",
       "    </tr>\n",
       "    <tr>\n",
       "      <th>17</th>\n",
       "      <td>10516.0</td>\n",
       "      <td>b</td>\n",
       "      <td>2000-01-04</td>\n",
       "      <td>1.08</td>\n",
       "      <td>NaN</td>\n",
       "    </tr>\n",
       "    <tr>\n",
       "      <th>18</th>\n",
       "      <td>10517.0</td>\n",
       "      <td>a</td>\n",
       "      <td>2000-01-01</td>\n",
       "      <td>1.09</td>\n",
       "      <td>NaN</td>\n",
       "    </tr>\n",
       "    <tr>\n",
       "      <th>19</th>\n",
       "      <td>10517.0</td>\n",
       "      <td>a</td>\n",
       "      <td>2000-01-02</td>\n",
       "      <td>1.10</td>\n",
       "      <td>NaN</td>\n",
       "    </tr>\n",
       "    <tr>\n",
       "      <th>20</th>\n",
       "      <td>10517.0</td>\n",
       "      <td>a</td>\n",
       "      <td>2000-01-03</td>\n",
       "      <td>1.11</td>\n",
       "      <td>NaN</td>\n",
       "    </tr>\n",
       "    <tr>\n",
       "      <th>21</th>\n",
       "      <td>10517.0</td>\n",
       "      <td>a</td>\n",
       "      <td>2000-01-04</td>\n",
       "      <td>1.12</td>\n",
       "      <td>NaN</td>\n",
       "    </tr>\n",
       "  </tbody>\n",
       "</table>\n",
       "</div>"
      ],
      "text/plain": [
       "     PERMNO byvar       Date   RET  cum_RET\n",
       "0       NaN   NaN        NaT   NaN   1.0100\n",
       "1       NaN   NaN        NaT   NaN   1.0200\n",
       "2       NaN   NaN        NaT   NaN   1.0506\n",
       "3       NaN   NaN        NaT   NaN   1.0400\n",
       "4       NaN   NaN        NaT   NaN   1.0500\n",
       "5       NaN   NaN        NaT   NaN   1.0600\n",
       "6       NaN   NaN        NaT   NaN   1.1342\n",
       "7       NaN   NaN        NaT   NaN   1.0800\n",
       "8       NaN   NaN        NaT   NaN   1.0900\n",
       "9       NaN   NaN        NaT   NaN   1.1000\n",
       "10  10516.0     a 2000-01-01  1.01   1.2210\n",
       "11  10516.0     a 2000-01-02  1.02   1.1200\n",
       "12  10516.0     a 2000-01-03  1.03      NaN\n",
       "13  10516.0     a 2000-01-04  1.04      NaN\n",
       "14  10516.0     b 2000-01-01  1.05      NaN\n",
       "15  10516.0     b 2000-01-02  1.06      NaN\n",
       "16  10516.0     b 2000-01-03  1.07      NaN\n",
       "17  10516.0     b 2000-01-04  1.08      NaN\n",
       "18  10517.0     a 2000-01-01  1.09      NaN\n",
       "19  10517.0     a 2000-01-02  1.10      NaN\n",
       "20  10517.0     a 2000-01-03  1.11      NaN\n",
       "21  10517.0     a 2000-01-04  1.12      NaN"
      ]
     },
     "execution_count": 6,
     "metadata": {},
     "output_type": "execute_result"
    }
   ],
   "source": [
    "df_date = df.copy()\n",
    "df_date['Date'] = pd.to_datetime(df_date['Date'])\n",
    "df_date.index = df_date.index + 10\n",
    "tcp = dero.pandas.cumulate(df_date, 'RET', 'between', periodvar='Date',\n",
    "                        byvars=['PERMNO','byvar'], time=[-2,0])\n",
    "dero.pandas.to_copy_paste(tcp)\n",
    "tcp"
   ]
  },
  {
   "cell_type": "code",
   "execution_count": 7,
   "metadata": {
    "collapsed": false
   },
   "outputs": [
    {
     "name": "stdout",
     "output_type": "stream",
     "text": [
      "2016-07-13 19:44:35: Initializing cumulate.\n",
      "2016-07-13 19:44:35: Creating by groups.\n",
      "pd.DataFrame(data = [\n",
      "(10516, 'a', Timestamp('2000-01-01 00:00:00'), 1.01, 1.01),\n",
      "(10516, 'a', Timestamp('2000-01-02 00:00:00'), 1.02, 1.02),\n",
      "(10516, 'a', Timestamp('2000-01-03 00:00:00'), 1.03, 1.0506),\n",
      "(10516, 'a', Timestamp('2000-01-04 00:00:00'), 1.04, 1.04),\n",
      "(10516, 'b', Timestamp('2000-01-01 00:00:00'), 1.05, 1.05),\n",
      "(10516, 'b', Timestamp('2000-01-02 00:00:00'), 1.06, 1.06),\n",
      "(10516, 'b', Timestamp('2000-01-03 00:00:00'), 1.07, 1.1342),\n",
      "(10516, 'b', Timestamp('2000-01-04 00:00:00'), 1.08, 1.08),\n",
      "(10517, 'a', Timestamp('2000-01-01 00:00:00'), 1.09, 1.09),\n",
      "(10517, 'a', Timestamp('2000-01-02 00:00:00'), 1.1, 1.1),\n",
      "(10517, 'a', Timestamp('2000-01-03 00:00:00'), 1.11, 1.2210000000000003),\n",
      "(10517, 'a', Timestamp('2000-01-04 00:00:00'), 1.12, 1.12),\n",
      "], columns = ['PERMNO', 'byvar', 'Date', 'RET', 'cum_RET'])\n"
     ]
    },
    {
     "data": {
      "text/html": [
       "<div>\n",
       "<table border=\"1\" class=\"dataframe\">\n",
       "  <thead>\n",
       "    <tr style=\"text-align: right;\">\n",
       "      <th></th>\n",
       "      <th>PERMNO</th>\n",
       "      <th>byvar</th>\n",
       "      <th>Date</th>\n",
       "      <th>RET</th>\n",
       "      <th>cum_RET</th>\n",
       "    </tr>\n",
       "  </thead>\n",
       "  <tbody>\n",
       "    <tr>\n",
       "      <th>0</th>\n",
       "      <td>10516</td>\n",
       "      <td>a</td>\n",
       "      <td>2000-01-01</td>\n",
       "      <td>1.01</td>\n",
       "      <td>1.0100</td>\n",
       "    </tr>\n",
       "    <tr>\n",
       "      <th>1</th>\n",
       "      <td>10516</td>\n",
       "      <td>a</td>\n",
       "      <td>2000-01-02</td>\n",
       "      <td>1.02</td>\n",
       "      <td>1.0200</td>\n",
       "    </tr>\n",
       "    <tr>\n",
       "      <th>2</th>\n",
       "      <td>10516</td>\n",
       "      <td>a</td>\n",
       "      <td>2000-01-03</td>\n",
       "      <td>1.03</td>\n",
       "      <td>1.0506</td>\n",
       "    </tr>\n",
       "    <tr>\n",
       "      <th>3</th>\n",
       "      <td>10516</td>\n",
       "      <td>a</td>\n",
       "      <td>2000-01-04</td>\n",
       "      <td>1.04</td>\n",
       "      <td>1.0400</td>\n",
       "    </tr>\n",
       "    <tr>\n",
       "      <th>4</th>\n",
       "      <td>10516</td>\n",
       "      <td>b</td>\n",
       "      <td>2000-01-01</td>\n",
       "      <td>1.05</td>\n",
       "      <td>1.0500</td>\n",
       "    </tr>\n",
       "    <tr>\n",
       "      <th>5</th>\n",
       "      <td>10516</td>\n",
       "      <td>b</td>\n",
       "      <td>2000-01-02</td>\n",
       "      <td>1.06</td>\n",
       "      <td>1.0600</td>\n",
       "    </tr>\n",
       "    <tr>\n",
       "      <th>6</th>\n",
       "      <td>10516</td>\n",
       "      <td>b</td>\n",
       "      <td>2000-01-03</td>\n",
       "      <td>1.07</td>\n",
       "      <td>1.1342</td>\n",
       "    </tr>\n",
       "    <tr>\n",
       "      <th>7</th>\n",
       "      <td>10516</td>\n",
       "      <td>b</td>\n",
       "      <td>2000-01-04</td>\n",
       "      <td>1.08</td>\n",
       "      <td>1.0800</td>\n",
       "    </tr>\n",
       "    <tr>\n",
       "      <th>8</th>\n",
       "      <td>10517</td>\n",
       "      <td>a</td>\n",
       "      <td>2000-01-01</td>\n",
       "      <td>1.09</td>\n",
       "      <td>1.0900</td>\n",
       "    </tr>\n",
       "    <tr>\n",
       "      <th>9</th>\n",
       "      <td>10517</td>\n",
       "      <td>a</td>\n",
       "      <td>2000-01-02</td>\n",
       "      <td>1.10</td>\n",
       "      <td>1.1000</td>\n",
       "    </tr>\n",
       "    <tr>\n",
       "      <th>10</th>\n",
       "      <td>10517</td>\n",
       "      <td>a</td>\n",
       "      <td>2000-01-03</td>\n",
       "      <td>1.11</td>\n",
       "      <td>1.2210</td>\n",
       "    </tr>\n",
       "    <tr>\n",
       "      <th>11</th>\n",
       "      <td>10517</td>\n",
       "      <td>a</td>\n",
       "      <td>2000-01-04</td>\n",
       "      <td>1.12</td>\n",
       "      <td>1.1200</td>\n",
       "    </tr>\n",
       "  </tbody>\n",
       "</table>\n",
       "</div>"
      ],
      "text/plain": [
       "    PERMNO byvar       Date   RET  cum_RET\n",
       "0    10516     a 2000-01-01  1.01   1.0100\n",
       "1    10516     a 2000-01-02  1.02   1.0200\n",
       "2    10516     a 2000-01-03  1.03   1.0506\n",
       "3    10516     a 2000-01-04  1.04   1.0400\n",
       "4    10516     b 2000-01-01  1.05   1.0500\n",
       "5    10516     b 2000-01-02  1.06   1.0600\n",
       "6    10516     b 2000-01-03  1.07   1.1342\n",
       "7    10516     b 2000-01-04  1.08   1.0800\n",
       "8    10517     a 2000-01-01  1.09   1.0900\n",
       "9    10517     a 2000-01-02  1.10   1.1000\n",
       "10   10517     a 2000-01-03  1.11   1.2210\n",
       "11   10517     a 2000-01-04  1.12   1.1200"
      ]
     },
     "execution_count": 7,
     "metadata": {},
     "output_type": "execute_result"
    }
   ],
   "source": [
    "df_date = df.copy()\n",
    "df_date['Date'] = pd.to_datetime(df_date['Date'])\n",
    "tcp = dero.pandas.cumulate(df_date, 'RET', 'between', periodvar='Date',\n",
    "                        byvars=['PERMNO','byvar'], time=[-2,0])\n",
    "dero.pandas.to_copy_paste(tcp)\n",
    "tcp"
   ]
  },
  {
   "cell_type": "code",
   "execution_count": 4,
   "metadata": {
    "collapsed": false
   },
   "outputs": [
    {
     "name": "stdout",
     "output_type": "stream",
     "text": [
      "2016-07-13 20:56:37: Initializing pull_crsp function\n",
      "2016-07-13 20:56:37: Checking inputs.\n",
      "2016-07-13 20:56:37: Company ID is not PERMNO. Getting PERMNO.\n",
      "2016-07-13 20:56:38: Pulled PERMNO from dsenames.\n",
      "2016-07-13 20:56:38: Loading CRSP dataframe...\n",
      "2016-07-13 20:56:38: Loaded.\n",
      "2016-07-13 20:56:38: Converting SAS date to Pandas format.\n",
      "2016-07-13 20:56:38: Converted.\n",
      "2016-07-13 20:56:38: Time detected.\n",
      "2016-07-13 20:56:38: Cumret detected, will generate intermediate periods.\n",
      "2016-07-13 20:56:38: Generating periods [0, 3] + itermediate\n",
      "2016-07-13 20:56:38: Initializing expand_time for periods [0, 1, 2, 3].\n",
      "2016-07-13 20:56:38: Calculating number of rows.\n",
      "2016-07-13 20:56:38: Calculating number of duplicates.\n",
      "2016-07-13 20:56:38: Duplicating observations 3 times.\n",
      "2016-07-13 20:56:38: Duplicated.\n",
      "2016-07-13 20:56:38: Creating shift variable.\n",
      "2016-07-13 20:56:38: Creating shifted date.\n",
      "2016-07-13 20:56:38: expand_time completed.\n",
      "2016-07-13 20:56:38: Finished generating periods. Generating key.\n",
      "2016-07-13 20:56:38: Merging CRSP to dataframe.\n",
      "2016-07-13 20:56:38: Completed merge.\n",
      "2016-07-13 20:56:38: Cumret detected.\n",
      "2016-07-13 20:56:38: Cumulating returns with method between for time [0, 3].\n",
      "2016-07-13 20:56:38: Initializing cumulate.\n",
      "2016-07-13 20:56:38: Creating by groups.\n",
      "--Call--\n",
      "> c:\\anaconda3\\lib\\warnings.py(378)__exit__()\n",
      "-> def __exit__(self, *exc_info):\n",
      "(Pdb) c\n",
      "2016-07-13 20:56:39: Reshaping long to wide.\n",
      "pd.DataFrame(data = [\n",
      "('a', Timestamp('2000-01-01 00:00:00'), 'ADM', 10516.0, -0.036363635212183, -0.15005286684689223),\n",
      "('a', Timestamp('2000-01-02 00:00:00'), 'ADM', 10516.0, -0.036363635212183, -0.15005286684689223),\n",
      "('a', Timestamp('2000-01-03 00:00:00'), 'ADM', 10516.0, -0.036363635212183, -0.15005286684689223),\n",
      "('a', Timestamp('2000-01-04 00:00:00'), 'ADM', 10516.0, -0.036363635212183, -0.15005286684689223),\n",
      "('b', Timestamp('2000-01-01 00:00:00'), 'ADM', 10516.0, -0.036363635212183, -0.15005286684689223),\n",
      "('b', Timestamp('2000-01-02 00:00:00'), 'ADM', 10516.0, -0.036363635212183, -0.15005286684689223),\n",
      "('b', Timestamp('2000-01-03 00:00:00'), 'ADM', 10516.0, -0.036363635212183, -0.15005286684689223),\n",
      "('b', Timestamp('2000-01-04 00:00:00'), 'ADM', 10516.0, -0.036363635212183, -0.15005286684689223),\n",
      "('a', Timestamp('2008-01-01 00:00:00'), 'AAN', nan, nan, nan),\n",
      "('a', Timestamp('2009-01-02 00:00:00'), 'AAN', nan, nan, nan),\n",
      "('a', Timestamp('2010-01-03 00:00:00'), 'AAN', 78049.0, nan, nan),\n",
      "('a', Timestamp('2011-01-04 00:00:00'), 'AAN', 10517.0, 0.13525237143039703, 0.5010296116623514),\n",
      "], columns = ['byvar', 'Date', 'TICKER', 'PERMNO', 'RET3', 'cum_RET3'])\n"
     ]
    },
    {
     "data": {
      "text/html": [
       "<div>\n",
       "<table border=\"1\" class=\"dataframe\">\n",
       "  <thead>\n",
       "    <tr style=\"text-align: right;\">\n",
       "      <th></th>\n",
       "      <th>byvar</th>\n",
       "      <th>Date</th>\n",
       "      <th>TICKER</th>\n",
       "      <th>PERMNO</th>\n",
       "      <th>RET3</th>\n",
       "      <th>cum_RET3</th>\n",
       "    </tr>\n",
       "  </thead>\n",
       "  <tbody>\n",
       "    <tr>\n",
       "      <th>0</th>\n",
       "      <td>a</td>\n",
       "      <td>2000-01-01</td>\n",
       "      <td>ADM</td>\n",
       "      <td>10516.0</td>\n",
       "      <td>-0.036364</td>\n",
       "      <td>-0.150053</td>\n",
       "    </tr>\n",
       "    <tr>\n",
       "      <th>1</th>\n",
       "      <td>a</td>\n",
       "      <td>2000-01-02</td>\n",
       "      <td>ADM</td>\n",
       "      <td>10516.0</td>\n",
       "      <td>-0.036364</td>\n",
       "      <td>-0.150053</td>\n",
       "    </tr>\n",
       "    <tr>\n",
       "      <th>2</th>\n",
       "      <td>a</td>\n",
       "      <td>2000-01-03</td>\n",
       "      <td>ADM</td>\n",
       "      <td>10516.0</td>\n",
       "      <td>-0.036364</td>\n",
       "      <td>-0.150053</td>\n",
       "    </tr>\n",
       "    <tr>\n",
       "      <th>3</th>\n",
       "      <td>a</td>\n",
       "      <td>2000-01-04</td>\n",
       "      <td>ADM</td>\n",
       "      <td>10516.0</td>\n",
       "      <td>-0.036364</td>\n",
       "      <td>-0.150053</td>\n",
       "    </tr>\n",
       "    <tr>\n",
       "      <th>4</th>\n",
       "      <td>b</td>\n",
       "      <td>2000-01-01</td>\n",
       "      <td>ADM</td>\n",
       "      <td>10516.0</td>\n",
       "      <td>-0.036364</td>\n",
       "      <td>-0.150053</td>\n",
       "    </tr>\n",
       "    <tr>\n",
       "      <th>5</th>\n",
       "      <td>b</td>\n",
       "      <td>2000-01-02</td>\n",
       "      <td>ADM</td>\n",
       "      <td>10516.0</td>\n",
       "      <td>-0.036364</td>\n",
       "      <td>-0.150053</td>\n",
       "    </tr>\n",
       "    <tr>\n",
       "      <th>6</th>\n",
       "      <td>b</td>\n",
       "      <td>2000-01-03</td>\n",
       "      <td>ADM</td>\n",
       "      <td>10516.0</td>\n",
       "      <td>-0.036364</td>\n",
       "      <td>-0.150053</td>\n",
       "    </tr>\n",
       "    <tr>\n",
       "      <th>7</th>\n",
       "      <td>b</td>\n",
       "      <td>2000-01-04</td>\n",
       "      <td>ADM</td>\n",
       "      <td>10516.0</td>\n",
       "      <td>-0.036364</td>\n",
       "      <td>-0.150053</td>\n",
       "    </tr>\n",
       "    <tr>\n",
       "      <th>8</th>\n",
       "      <td>a</td>\n",
       "      <td>2008-01-01</td>\n",
       "      <td>AAN</td>\n",
       "      <td>NaN</td>\n",
       "      <td>NaN</td>\n",
       "      <td>NaN</td>\n",
       "    </tr>\n",
       "    <tr>\n",
       "      <th>9</th>\n",
       "      <td>a</td>\n",
       "      <td>2009-01-02</td>\n",
       "      <td>AAN</td>\n",
       "      <td>NaN</td>\n",
       "      <td>NaN</td>\n",
       "      <td>NaN</td>\n",
       "    </tr>\n",
       "    <tr>\n",
       "      <th>10</th>\n",
       "      <td>a</td>\n",
       "      <td>2010-01-03</td>\n",
       "      <td>AAN</td>\n",
       "      <td>78049.0</td>\n",
       "      <td>NaN</td>\n",
       "      <td>NaN</td>\n",
       "    </tr>\n",
       "    <tr>\n",
       "      <th>11</th>\n",
       "      <td>a</td>\n",
       "      <td>2011-01-04</td>\n",
       "      <td>AAN</td>\n",
       "      <td>10517.0</td>\n",
       "      <td>0.135252</td>\n",
       "      <td>0.501030</td>\n",
       "    </tr>\n",
       "  </tbody>\n",
       "</table>\n",
       "</div>"
      ],
      "text/plain": [
       "   byvar       Date TICKER   PERMNO      RET3  cum_RET3\n",
       "0      a 2000-01-01    ADM  10516.0 -0.036364 -0.150053\n",
       "1      a 2000-01-02    ADM  10516.0 -0.036364 -0.150053\n",
       "2      a 2000-01-03    ADM  10516.0 -0.036364 -0.150053\n",
       "3      a 2000-01-04    ADM  10516.0 -0.036364 -0.150053\n",
       "4      b 2000-01-01    ADM  10516.0 -0.036364 -0.150053\n",
       "5      b 2000-01-02    ADM  10516.0 -0.036364 -0.150053\n",
       "6      b 2000-01-03    ADM  10516.0 -0.036364 -0.150053\n",
       "7      b 2000-01-04    ADM  10516.0 -0.036364 -0.150053\n",
       "8      a 2008-01-01    AAN      NaN       NaN       NaN\n",
       "9      a 2009-01-02    AAN      NaN       NaN       NaN\n",
       "10     a 2010-01-03    AAN  78049.0       NaN       NaN\n",
       "11     a 2011-01-04    AAN  10517.0  0.135252  0.501030"
      ]
     },
     "execution_count": 4,
     "metadata": {},
     "output_type": "execute_result"
    }
   ],
   "source": [
    "crsp = dero.data.GetCRSP(debug=True)\n",
    "out = crsp.pull_crsp(ticker_df, coid='TICKER', get='RET', cumret='between',\n",
    "                                 time=[0,3], other_byvars='byvar', drop_first=True)\n",
    "dero.pandas.to_copy_paste(out)\n",
    "out"
   ]
  },
  {
   "cell_type": "code",
   "execution_count": 13,
   "metadata": {
    "collapsed": false
   },
   "outputs": [
    {
     "name": "stdout",
     "output_type": "stream",
     "text": [
      "> c:\\anaconda3\\lib\\site-packages\\pandas\\core\\groupby.py(3525)_transform_item_by_item()\n",
      "-> raise TypeError('Transform function invalid for data types')\n",
      "(Pdb) u\n",
      "> c:\\anaconda3\\lib\\site-packages\\pandas\\core\\groupby.py(3402)_transform_general()\n",
      "-> return self._transform_item_by_item(obj, fast_path)\n",
      "(Pdb) u\n",
      "> c:\\anaconda3\\lib\\site-packages\\pandas\\core\\groupby.py(3457)transform()\n",
      "-> return self._transform_general(func, *args, **kwargs)\n",
      "(Pdb) u\n",
      "> c:\\users\\derobertisna.ufad\\dropbox\\python\\dero\\dero\\ext_pandas.py(869)groupby_merge()\n",
      "-> grouped = func(*func_args)[subset] #apply the class method and select subset columns\n",
      "(Pdb) u\n",
      "> c:\\users\\derobertisna.ufad\\dropbox\\python\\dero\\dero\\ext_pandas.py(1113)_map_windows()\n",
      "-> df = groupby_merge(df, byvars, 'transform', (wm), subset=periodvar)\n",
      "(Pdb) df\n",
      "    PERMNO byvar      Date   RET\n",
      "0    10516     a  1/1/2000  2.01\n",
      "1    10516     a  1/2/2000  2.02\n",
      "2    10516     a  1/3/2000  2.03\n",
      "3    10516     a  1/4/2000  2.04\n",
      "4    10516     b  1/1/2000  2.05\n",
      "5    10516     b  1/2/2000  2.06\n",
      "6    10516     b  1/3/2000  2.07\n",
      "7    10516     b  1/4/2000  2.08\n",
      "8    10517     a  1/1/2000  2.09\n",
      "9    10517     a  1/2/2000  2.10\n",
      "10   10517     a  1/3/2000  2.11\n",
      "11   10517     a  1/4/2000  2.12\n",
      "(Pdb) byvars\n",
      "['PERMNO', 'byvar']\n",
      "(Pdb) periodvar\n",
      "'Date'\n",
      "(Pdb) q\n"
     ]
    }
   ],
   "source": [
    "import pdb\n",
    "pdb.pm()"
   ]
  },
  {
   "cell_type": "code",
   "execution_count": 1,
   "metadata": {
    "collapsed": false
   },
   "outputs": [
    {
     "data": {
      "text/html": [
       "<div>\n",
       "<table border=\"1\" class=\"dataframe\">\n",
       "  <thead>\n",
       "    <tr style=\"text-align: right;\">\n",
       "      <th></th>\n",
       "      <th>RP_ENTITY_ID</th>\n",
       "      <th>news_negative</th>\n",
       "      <th>news_neutral</th>\n",
       "      <th>news_positive</th>\n",
       "      <th>CUSIP</th>\n",
       "      <th>TICKER</th>\n",
       "      <th>NCUSIP</th>\n",
       "      <th>PERMNO</th>\n",
       "      <th>GVKEY</th>\n",
       "      <th>Begin</th>\n",
       "      <th>End</th>\n",
       "      <th>Begin info</th>\n",
       "      <th>End info</th>\n",
       "      <th>Shift</th>\n",
       "      <th>Shift Date</th>\n",
       "      <th>key</th>\n",
       "      <th>RET</th>\n",
       "    </tr>\n",
       "  </thead>\n",
       "  <tbody>\n",
       "    <tr>\n",
       "      <th>0</th>\n",
       "      <td>00067A</td>\n",
       "      <td>2.0</td>\n",
       "      <td>1.0</td>\n",
       "      <td>19.0</td>\n",
       "      <td>444859102</td>\n",
       "      <td>XNYS:HUM</td>\n",
       "      <td>44485910</td>\n",
       "      <td>48653.0</td>\n",
       "      <td>27914.0</td>\n",
       "      <td>2003-01-15</td>\n",
       "      <td>2003-02-14</td>\n",
       "      <td>2003-01-28</td>\n",
       "      <td>2003-02-27</td>\n",
       "      <td>-21</td>\n",
       "      <td>2002-12-13</td>\n",
       "      <td>48653.0_1042588800000000000_1039737600000000000</td>\n",
       "      <td>-0.010763</td>\n",
       "    </tr>\n",
       "    <tr>\n",
       "      <th>1</th>\n",
       "      <td>00067A</td>\n",
       "      <td>2.0</td>\n",
       "      <td>1.0</td>\n",
       "      <td>19.0</td>\n",
       "      <td>444859102</td>\n",
       "      <td>XNYS:HUM</td>\n",
       "      <td>44485910</td>\n",
       "      <td>48653.0</td>\n",
       "      <td>27914.0</td>\n",
       "      <td>2003-01-15</td>\n",
       "      <td>2003-02-14</td>\n",
       "      <td>2003-01-28</td>\n",
       "      <td>2003-02-27</td>\n",
       "      <td>-20</td>\n",
       "      <td>2002-12-16</td>\n",
       "      <td>48653.0_1042588800000000000_1039996800000000000</td>\n",
       "      <td>0.007913</td>\n",
       "    </tr>\n",
       "    <tr>\n",
       "      <th>2</th>\n",
       "      <td>00067A</td>\n",
       "      <td>2.0</td>\n",
       "      <td>1.0</td>\n",
       "      <td>19.0</td>\n",
       "      <td>444859102</td>\n",
       "      <td>XNYS:HUM</td>\n",
       "      <td>44485910</td>\n",
       "      <td>48653.0</td>\n",
       "      <td>27914.0</td>\n",
       "      <td>2003-01-15</td>\n",
       "      <td>2003-02-14</td>\n",
       "      <td>2003-01-28</td>\n",
       "      <td>2003-02-27</td>\n",
       "      <td>-19</td>\n",
       "      <td>2002-12-17</td>\n",
       "      <td>48653.0_1042588800000000000_1040083200000000000</td>\n",
       "      <td>0.012758</td>\n",
       "    </tr>\n",
       "    <tr>\n",
       "      <th>3</th>\n",
       "      <td>00067A</td>\n",
       "      <td>2.0</td>\n",
       "      <td>1.0</td>\n",
       "      <td>19.0</td>\n",
       "      <td>444859102</td>\n",
       "      <td>XNYS:HUM</td>\n",
       "      <td>44485910</td>\n",
       "      <td>48653.0</td>\n",
       "      <td>27914.0</td>\n",
       "      <td>2003-01-15</td>\n",
       "      <td>2003-02-14</td>\n",
       "      <td>2003-01-28</td>\n",
       "      <td>2003-02-27</td>\n",
       "      <td>-18</td>\n",
       "      <td>2002-12-18</td>\n",
       "      <td>48653.0_1042588800000000000_1040169600000000000</td>\n",
       "      <td>0.002907</td>\n",
       "    </tr>\n",
       "    <tr>\n",
       "      <th>4</th>\n",
       "      <td>00067A</td>\n",
       "      <td>2.0</td>\n",
       "      <td>1.0</td>\n",
       "      <td>19.0</td>\n",
       "      <td>444859102</td>\n",
       "      <td>XNYS:HUM</td>\n",
       "      <td>44485910</td>\n",
       "      <td>48653.0</td>\n",
       "      <td>27914.0</td>\n",
       "      <td>2003-01-15</td>\n",
       "      <td>2003-02-14</td>\n",
       "      <td>2003-01-28</td>\n",
       "      <td>2003-02-27</td>\n",
       "      <td>-17</td>\n",
       "      <td>2002-12-19</td>\n",
       "      <td>48653.0_1042588800000000000_1040256000000000000</td>\n",
       "      <td>-0.020290</td>\n",
       "    </tr>\n",
       "  </tbody>\n",
       "</table>\n",
       "</div>"
      ],
      "text/plain": [
       "  RP_ENTITY_ID  news_negative  news_neutral  news_positive      CUSIP  \\\n",
       "0       00067A            2.0           1.0           19.0  444859102   \n",
       "1       00067A            2.0           1.0           19.0  444859102   \n",
       "2       00067A            2.0           1.0           19.0  444859102   \n",
       "3       00067A            2.0           1.0           19.0  444859102   \n",
       "4       00067A            2.0           1.0           19.0  444859102   \n",
       "\n",
       "     TICKER    NCUSIP   PERMNO    GVKEY      Begin        End Begin info  \\\n",
       "0  XNYS:HUM  44485910  48653.0  27914.0 2003-01-15 2003-02-14 2003-01-28   \n",
       "1  XNYS:HUM  44485910  48653.0  27914.0 2003-01-15 2003-02-14 2003-01-28   \n",
       "2  XNYS:HUM  44485910  48653.0  27914.0 2003-01-15 2003-02-14 2003-01-28   \n",
       "3  XNYS:HUM  44485910  48653.0  27914.0 2003-01-15 2003-02-14 2003-01-28   \n",
       "4  XNYS:HUM  44485910  48653.0  27914.0 2003-01-15 2003-02-14 2003-01-28   \n",
       "\n",
       "    End info  Shift Shift Date  \\\n",
       "0 2003-02-27    -21 2002-12-13   \n",
       "1 2003-02-27    -20 2002-12-16   \n",
       "2 2003-02-27    -19 2002-12-17   \n",
       "3 2003-02-27    -18 2002-12-18   \n",
       "4 2003-02-27    -17 2002-12-19   \n",
       "\n",
       "                                               key       RET  \n",
       "0  48653.0_1042588800000000000_1039737600000000000 -0.010763  \n",
       "1  48653.0_1042588800000000000_1039996800000000000  0.007913  \n",
       "2  48653.0_1042588800000000000_1040083200000000000  0.012758  \n",
       "3  48653.0_1042588800000000000_1040169600000000000  0.002907  \n",
       "4  48653.0_1042588800000000000_1040256000000000000 -0.020290  "
      ]
     },
     "execution_count": 1,
     "metadata": {},
     "output_type": "execute_result"
    }
   ],
   "source": [
    "import dill\n",
    "inpath = r'C:\\Users\\derobertisna.UFAD\\Dropbox\\UF\\Corbin\\Short Sale Project\\fail_cumulate.p'\n",
    "df = dill.load(open(inpath, 'rb')).drop('cum_RET', axis=1)\n",
    "df.head()"
   ]
  },
  {
   "cell_type": "code",
   "execution_count": 2,
   "metadata": {
    "collapsed": false
   },
   "outputs": [
    {
     "name": "stdout",
     "output_type": "stream",
     "text": [
      "2016-07-13 20:26:03: Initializing cumulate.\n",
      "> c:\\users\\derobertisna.ufad\\dropbox\\python\\dero\\dero\\ext_pandas.py(298)cumulate()\n",
      "-> if not byvars:  byvars = ['__map_window__']\n",
      "(Pdb) c\n",
      "2016-07-13 20:26:06: Creating by groups.\n"
     ]
    },
    {
     "data": {
      "text/html": [
       "<div>\n",
       "<table border=\"1\" class=\"dataframe\">\n",
       "  <thead>\n",
       "    <tr style=\"text-align: right;\">\n",
       "      <th></th>\n",
       "      <th>PERMNO</th>\n",
       "      <th>Begin</th>\n",
       "      <th>Shift Date</th>\n",
       "      <th>Shift</th>\n",
       "      <th>RET</th>\n",
       "      <th>cum_RET</th>\n",
       "    </tr>\n",
       "  </thead>\n",
       "  <tbody>\n",
       "    <tr>\n",
       "      <th>88</th>\n",
       "      <td>87843.0</td>\n",
       "      <td>2003-01-15</td>\n",
       "      <td>2002-12-13</td>\n",
       "      <td>-21</td>\n",
       "      <td>-0.011538</td>\n",
       "      <td>-0.011538</td>\n",
       "    </tr>\n",
       "    <tr>\n",
       "      <th>89</th>\n",
       "      <td>87843.0</td>\n",
       "      <td>2003-01-15</td>\n",
       "      <td>2002-12-16</td>\n",
       "      <td>-20</td>\n",
       "      <td>0.031128</td>\n",
       "      <td>0.031128</td>\n",
       "    </tr>\n",
       "    <tr>\n",
       "      <th>90</th>\n",
       "      <td>87843.0</td>\n",
       "      <td>2003-01-15</td>\n",
       "      <td>2002-12-17</td>\n",
       "      <td>-19</td>\n",
       "      <td>-0.001887</td>\n",
       "      <td>0.029183</td>\n",
       "    </tr>\n",
       "    <tr>\n",
       "      <th>91</th>\n",
       "      <td>87843.0</td>\n",
       "      <td>2003-01-15</td>\n",
       "      <td>2002-12-18</td>\n",
       "      <td>-18</td>\n",
       "      <td>-0.001890</td>\n",
       "      <td>0.027237</td>\n",
       "    </tr>\n",
       "    <tr>\n",
       "      <th>92</th>\n",
       "      <td>87843.0</td>\n",
       "      <td>2003-01-15</td>\n",
       "      <td>2002-12-19</td>\n",
       "      <td>-17</td>\n",
       "      <td>0.006818</td>\n",
       "      <td>0.034241</td>\n",
       "    </tr>\n",
       "    <tr>\n",
       "      <th>93</th>\n",
       "      <td>87843.0</td>\n",
       "      <td>2003-01-15</td>\n",
       "      <td>2002-12-20</td>\n",
       "      <td>-16</td>\n",
       "      <td>0.000752</td>\n",
       "      <td>0.035019</td>\n",
       "    </tr>\n",
       "    <tr>\n",
       "      <th>94</th>\n",
       "      <td>87843.0</td>\n",
       "      <td>2003-01-15</td>\n",
       "      <td>2002-12-23</td>\n",
       "      <td>-15</td>\n",
       "      <td>0.001880</td>\n",
       "      <td>0.036965</td>\n",
       "    </tr>\n",
       "    <tr>\n",
       "      <th>95</th>\n",
       "      <td>87843.0</td>\n",
       "      <td>2003-01-15</td>\n",
       "      <td>2002-12-24</td>\n",
       "      <td>-14</td>\n",
       "      <td>-0.001876</td>\n",
       "      <td>0.035019</td>\n",
       "    </tr>\n",
       "    <tr>\n",
       "      <th>96</th>\n",
       "      <td>87843.0</td>\n",
       "      <td>2003-01-15</td>\n",
       "      <td>2002-12-26</td>\n",
       "      <td>-13</td>\n",
       "      <td>-0.002632</td>\n",
       "      <td>0.032296</td>\n",
       "    </tr>\n",
       "    <tr>\n",
       "      <th>97</th>\n",
       "      <td>87843.0</td>\n",
       "      <td>2003-01-15</td>\n",
       "      <td>2002-12-27</td>\n",
       "      <td>-12</td>\n",
       "      <td>-0.008669</td>\n",
       "      <td>0.023346</td>\n",
       "    </tr>\n",
       "    <tr>\n",
       "      <th>98</th>\n",
       "      <td>87843.0</td>\n",
       "      <td>2003-01-15</td>\n",
       "      <td>2002-12-30</td>\n",
       "      <td>-11</td>\n",
       "      <td>-0.013688</td>\n",
       "      <td>0.009339</td>\n",
       "    </tr>\n",
       "    <tr>\n",
       "      <th>99</th>\n",
       "      <td>87843.0</td>\n",
       "      <td>2003-01-15</td>\n",
       "      <td>2002-12-31</td>\n",
       "      <td>-10</td>\n",
       "      <td>-0.028527</td>\n",
       "      <td>-0.019455</td>\n",
       "    </tr>\n",
       "    <tr>\n",
       "      <th>100</th>\n",
       "      <td>87843.0</td>\n",
       "      <td>2003-01-15</td>\n",
       "      <td>2003-01-02</td>\n",
       "      <td>-9</td>\n",
       "      <td>0.003968</td>\n",
       "      <td>-0.015564</td>\n",
       "    </tr>\n",
       "    <tr>\n",
       "      <th>101</th>\n",
       "      <td>87843.0</td>\n",
       "      <td>2003-01-15</td>\n",
       "      <td>2003-01-03</td>\n",
       "      <td>-8</td>\n",
       "      <td>0.006324</td>\n",
       "      <td>-0.009339</td>\n",
       "    </tr>\n",
       "    <tr>\n",
       "      <th>102</th>\n",
       "      <td>87843.0</td>\n",
       "      <td>2003-01-15</td>\n",
       "      <td>2003-01-06</td>\n",
       "      <td>-7</td>\n",
       "      <td>0.015318</td>\n",
       "      <td>0.005837</td>\n",
       "    </tr>\n",
       "    <tr>\n",
       "      <th>103</th>\n",
       "      <td>87843.0</td>\n",
       "      <td>2003-01-15</td>\n",
       "      <td>2003-01-07</td>\n",
       "      <td>-6</td>\n",
       "      <td>-0.002708</td>\n",
       "      <td>0.003113</td>\n",
       "    </tr>\n",
       "    <tr>\n",
       "      <th>104</th>\n",
       "      <td>87843.0</td>\n",
       "      <td>2003-01-15</td>\n",
       "      <td>2003-01-08</td>\n",
       "      <td>-5</td>\n",
       "      <td>-0.014740</td>\n",
       "      <td>-0.011673</td>\n",
       "    </tr>\n",
       "    <tr>\n",
       "      <th>105</th>\n",
       "      <td>87843.0</td>\n",
       "      <td>2003-01-15</td>\n",
       "      <td>2003-01-09</td>\n",
       "      <td>-4</td>\n",
       "      <td>0.019685</td>\n",
       "      <td>0.019685</td>\n",
       "    </tr>\n",
       "    <tr>\n",
       "      <th>106</th>\n",
       "      <td>87843.0</td>\n",
       "      <td>2003-01-15</td>\n",
       "      <td>2003-01-10</td>\n",
       "      <td>-3</td>\n",
       "      <td>-0.005791</td>\n",
       "      <td>0.013780</td>\n",
       "    </tr>\n",
       "    <tr>\n",
       "      <th>107</th>\n",
       "      <td>87843.0</td>\n",
       "      <td>2003-01-15</td>\n",
       "      <td>2003-01-13</td>\n",
       "      <td>-2</td>\n",
       "      <td>-0.015534</td>\n",
       "      <td>-0.001968</td>\n",
       "    </tr>\n",
       "    <tr>\n",
       "      <th>108</th>\n",
       "      <td>87843.0</td>\n",
       "      <td>2003-01-15</td>\n",
       "      <td>2003-01-14</td>\n",
       "      <td>-1</td>\n",
       "      <td>-0.014990</td>\n",
       "      <td>-0.016929</td>\n",
       "    </tr>\n",
       "    <tr>\n",
       "      <th>109</th>\n",
       "      <td>87843.0</td>\n",
       "      <td>2003-01-15</td>\n",
       "      <td>2003-01-15</td>\n",
       "      <td>0</td>\n",
       "      <td>0.002803</td>\n",
       "      <td>-0.014173</td>\n",
       "    </tr>\n",
       "  </tbody>\n",
       "</table>\n",
       "</div>"
      ],
      "text/plain": [
       "      PERMNO      Begin Shift Date  Shift       RET   cum_RET\n",
       "88   87843.0 2003-01-15 2002-12-13    -21 -0.011538 -0.011538\n",
       "89   87843.0 2003-01-15 2002-12-16    -20  0.031128  0.031128\n",
       "90   87843.0 2003-01-15 2002-12-17    -19 -0.001887  0.029183\n",
       "91   87843.0 2003-01-15 2002-12-18    -18 -0.001890  0.027237\n",
       "92   87843.0 2003-01-15 2002-12-19    -17  0.006818  0.034241\n",
       "93   87843.0 2003-01-15 2002-12-20    -16  0.000752  0.035019\n",
       "94   87843.0 2003-01-15 2002-12-23    -15  0.001880  0.036965\n",
       "95   87843.0 2003-01-15 2002-12-24    -14 -0.001876  0.035019\n",
       "96   87843.0 2003-01-15 2002-12-26    -13 -0.002632  0.032296\n",
       "97   87843.0 2003-01-15 2002-12-27    -12 -0.008669  0.023346\n",
       "98   87843.0 2003-01-15 2002-12-30    -11 -0.013688  0.009339\n",
       "99   87843.0 2003-01-15 2002-12-31    -10 -0.028527 -0.019455\n",
       "100  87843.0 2003-01-15 2003-01-02     -9  0.003968 -0.015564\n",
       "101  87843.0 2003-01-15 2003-01-03     -8  0.006324 -0.009339\n",
       "102  87843.0 2003-01-15 2003-01-06     -7  0.015318  0.005837\n",
       "103  87843.0 2003-01-15 2003-01-07     -6 -0.002708  0.003113\n",
       "104  87843.0 2003-01-15 2003-01-08     -5 -0.014740 -0.011673\n",
       "105  87843.0 2003-01-15 2003-01-09     -4  0.019685  0.019685\n",
       "106  87843.0 2003-01-15 2003-01-10     -3 -0.005791  0.013780\n",
       "107  87843.0 2003-01-15 2003-01-13     -2 -0.015534 -0.001968\n",
       "108  87843.0 2003-01-15 2003-01-14     -1 -0.014990 -0.016929\n",
       "109  87843.0 2003-01-15 2003-01-15      0  0.002803 -0.014173"
      ]
     },
     "execution_count": 2,
     "metadata": {},
     "output_type": "execute_result"
    }
   ],
   "source": [
    "import dero\n",
    "test = df.loc[:,['PERMNO','Begin','Shift Date','Shift','RET']]\n",
    "# test = df.loc[df['PERMNO'].isin([48653,87843]), ['PERMNO','Begin','Shift Date','Shift','RET']]\n",
    "# test = df.loc[df['PERMNO'] == 85349, ['PERMNO','Begin','Shift Date','Shift','RET']]\n",
    "\n",
    "cum = dero.pandas.cumulate(test, ['RET'], periodvar='Shift Date', method='between',\n",
    "                               byvars=['PERMNO','Begin'], time=[-21,-5,0], grossify=True)\n",
    "\n",
    "cum[cum['PERMNO'] == 87843]\n",
    "# cum"
   ]
  },
  {
   "cell_type": "code",
   "execution_count": 10,
   "metadata": {
    "collapsed": false
   },
   "outputs": [
    {
     "name": "stdout",
     "output_type": "stream",
     "text": [
      "<class 'pandas.core.frame.DataFrame'>\n",
      "Int64Index: 10802 entries, 0 to 10801\n",
      "Data columns (total 5 columns):\n",
      "PERMNO        10802 non-null float64\n",
      "Begin         10802 non-null datetime64[ns]\n",
      "Shift Date    10802 non-null datetime64[ns]\n",
      "Shift         10802 non-null int64\n",
      "RET           10674 non-null float64\n",
      "dtypes: datetime64[ns](2), float64(2), int64(1)\n",
      "memory usage: 506.3 KB\n"
     ]
    }
   ],
   "source": [
    "test.info()"
   ]
  },
  {
   "cell_type": "markdown",
   "metadata": {},
   "source": [
    "Below function should be returning appropriate windows for between [-21,-5,0]. This is why cumulate is broken."
   ]
  },
  {
   "cell_type": "code",
   "execution_count": 25,
   "metadata": {
    "collapsed": false
   },
   "outputs": [
    {
     "data": {
      "text/plain": [
       "[[0],\n",
       " [1, 2, 3, 4, 5, 6, 7, 8, 9, 10, 11, 12, 13, 14, 15, 16],\n",
       " [17, 18, 19, 20, 21]]"
      ]
     },
     "execution_count": 25,
     "metadata": {},
     "output_type": "execute_result"
    }
   ],
   "source": [
    "from itertools import chain\n",
    "\n",
    "def create_windows(periods, time):\n",
    "    time = [t - time[0] for t in time] #shifts time so that first period is period 0\n",
    "    windows = [[0]]\n",
    "    t_bot = 0\n",
    "    for i, t in enumerate(time): #pick each element of time\n",
    "        if t == 0: continue #already added zero\n",
    "        windows.append([i for i in range(t_bot + 1, t + 1)])\n",
    "        t_bot = t\n",
    "    #The last window is all the leftover periods after finishing time\n",
    "    extra_windows = [[i for i, per in enumerate(periods) if i not in chain.from_iterable(windows)]]\n",
    "    if extra_windows != [[]]: #don't want to add empty window\n",
    "        windows += extra_windows\n",
    "    return windows\n",
    "\n",
    "create_windows(test['Shift Date'],[-21,-5,0])"
   ]
  },
  {
   "cell_type": "code",
   "execution_count": 16,
   "metadata": {
    "collapsed": false
   },
   "outputs": [],
   "source": [
    "import random \n",
    "\n",
    "df_sasdate['test'] = [random.randint(0,1000) for i in range(len(df_sasdate))]\n",
    "test = df_sasdate.set_index('test', drop=True)"
   ]
  },
  {
   "cell_type": "code",
   "execution_count": null,
   "metadata": {
    "collapsed": false
   },
   "outputs": [],
   "source": [
    "filepath = r'C:\\Users\\derobertisna.UFAD\\Desktop\\Data\\CRSP\\dsenames.sas7bdat'\n",
    "names_df = dero.pandas.load_sas(filepath)\n",
    "\n",
    "# convert_sas_date_to_pandas_date(names_df['NAMEDT'])\n",
    "\n",
    "names_df['start'] = convert_sas_date_to_pandas_date(names_df['NAMEDT'])\n",
    "names_df['end'] = convert_sas_date_to_pandas_date(names_df['NAMEENDT'])\n",
    "names_df['end'] = names_df['end'].fillna(datetime.date.today())\n",
    "\n",
    "names_df"
   ]
  },
  {
   "cell_type": "code",
   "execution_count": 13,
   "metadata": {
    "collapsed": false
   },
   "outputs": [
    {
     "name": "stdout",
     "output_type": "stream",
     "text": [
      "> c:\\users\\derobertisna.ufad\\dropbox\\python\\dero\\dero\\data.py(65)merge_dsenames()\n",
      "-> names_df['start'] = convert_sas_date_to_pandas_date(names_df['NAMEDT'])\n",
      "(Pdb) n\n",
      "> c:\\users\\derobertisna.ufad\\dropbox\\python\\dero\\dero\\data.py(66)merge_dsenames()\n",
      "-> names_df['end'] = convert_sas_date_to_pandas_date(names_df['NAMEENDT'])\n",
      "(Pdb) n\n",
      "> c:\\users\\derobertisna.ufad\\dropbox\\python\\dero\\dero\\data.py(67)merge_dsenames()\n",
      "-> names_df['end'] = names_df['end'].fillna(datetime.date.today())\n",
      "(Pdb) n\n",
      "> c:\\users\\derobertisna.ufad\\dropbox\\python\\dero\\dero\\data.py(71)merge_dsenames()\n",
      "-> merged = df[[on, date] + other_byvars].merge(names_df[['start','end', on] + get], how='left', on=on)\n",
      "(Pdb) n\n",
      "> c:\\users\\derobertisna.ufad\\dropbox\\python\\dero\\dero\\data.py(73)merge_dsenames()\n",
      "-> valid = (merged[date] >= merged['start']) & (merged[date] <= merged['end'])\n",
      "(Pdb) merged.head()\n",
      "  TICKER       Date byvar      start        end   PERMNO\n",
      "0    ADM 2000-01-01     a 2004-06-10 2004-06-09  10516.0\n",
      "1    ADM 2000-01-01     a 2004-06-10 2004-06-09  10516.0\n",
      "2    ADM 2000-01-01     a 2004-06-10 2004-06-09  10516.0\n",
      "3    ADM 2000-01-01     a 2004-06-10 2004-06-09  10516.0\n",
      "4    ADM 2000-01-01     a 2004-06-10 2004-06-09  10516.0\n",
      "(Pdb) merged.loc[0,'start']\n",
      "Timestamp('2004-06-10 00:00:00')\n",
      "(Pdb) merged.tail()\n",
      "   TICKER       Date byvar      start        end   PERMNO\n",
      "71    AAN 2011-01-04     a 2004-06-10 2004-06-09  10517.0\n",
      "72    AAN 2011-01-04     a 2004-06-10 2004-06-09  10517.0\n",
      "73    AAN 2011-01-04     a 2004-06-10 2004-06-09  10517.0\n",
      "74    AAN 2011-01-04     a 2012-12-19 2006-11-20  78049.0\n",
      "75    AAN 2011-01-04     a 1991-12-31 1964-11-20  84766.0\n",
      "(Pdb) q\n"
     ]
    },
    {
     "ename": "BdbQuit",
     "evalue": "",
     "traceback": [
      "\u001b[1;31m---------------------------------------------------------------------------\u001b[0m",
      "\u001b[1;31mBdbQuit\u001b[0m                                   Traceback (most recent call last)",
      "\u001b[1;32m<ipython-input-13-1800768d557c>\u001b[0m in \u001b[0;36m<module>\u001b[1;34m()\u001b[0m\n\u001b[1;32m----> 1\u001b[1;33m \u001b[0mdero\u001b[0m\u001b[1;33m.\u001b[0m\u001b[0mdata\u001b[0m\u001b[1;33m.\u001b[0m\u001b[0mmerge_dsenames\u001b[0m\u001b[1;33m(\u001b[0m\u001b[0mticker_df\u001b[0m\u001b[1;33m,\u001b[0m \u001b[0mother_byvars\u001b[0m\u001b[1;33m=\u001b[0m\u001b[1;34m'byvar'\u001b[0m\u001b[1;33m)\u001b[0m\u001b[1;33m\u001b[0m\u001b[0m\n\u001b[0m",
      "\u001b[1;32mC:\\Users\\derobertisna.UFAD\\Dropbox\\Python\\Dero\\dero\\data.py\u001b[0m in \u001b[0;36mmerge_dsenames\u001b[1;34m(df, on, get, date, other_byvars, crsp_dir)\u001b[0m\n\u001b[0;32m     71\u001b[0m     \u001b[0mmerged\u001b[0m \u001b[1;33m=\u001b[0m \u001b[0mdf\u001b[0m\u001b[1;33m[\u001b[0m\u001b[1;33m[\u001b[0m\u001b[0mon\u001b[0m\u001b[1;33m,\u001b[0m \u001b[0mdate\u001b[0m\u001b[1;33m]\u001b[0m \u001b[1;33m+\u001b[0m \u001b[0mother_byvars\u001b[0m\u001b[1;33m]\u001b[0m\u001b[1;33m.\u001b[0m\u001b[0mmerge\u001b[0m\u001b[1;33m(\u001b[0m\u001b[0mnames_df\u001b[0m\u001b[1;33m[\u001b[0m\u001b[1;33m[\u001b[0m\u001b[1;34m'start'\u001b[0m\u001b[1;33m,\u001b[0m\u001b[1;34m'end'\u001b[0m\u001b[1;33m,\u001b[0m \u001b[0mon\u001b[0m\u001b[1;33m]\u001b[0m \u001b[1;33m+\u001b[0m \u001b[0mget\u001b[0m\u001b[1;33m]\u001b[0m\u001b[1;33m,\u001b[0m \u001b[0mhow\u001b[0m\u001b[1;33m=\u001b[0m\u001b[1;34m'left'\u001b[0m\u001b[1;33m,\u001b[0m \u001b[0mon\u001b[0m\u001b[1;33m=\u001b[0m\u001b[0mon\u001b[0m\u001b[1;33m)\u001b[0m\u001b[1;33m\u001b[0m\u001b[0m\n\u001b[0;32m     72\u001b[0m     \u001b[1;31m#Drop out observations not in name date range\u001b[0m\u001b[1;33m\u001b[0m\u001b[1;33m\u001b[0m\u001b[0m\n\u001b[1;32m---> 73\u001b[1;33m     \u001b[0mvalid\u001b[0m \u001b[1;33m=\u001b[0m \u001b[1;33m(\u001b[0m\u001b[0mmerged\u001b[0m\u001b[1;33m[\u001b[0m\u001b[0mdate\u001b[0m\u001b[1;33m]\u001b[0m \u001b[1;33m>=\u001b[0m \u001b[0mmerged\u001b[0m\u001b[1;33m[\u001b[0m\u001b[1;34m'start'\u001b[0m\u001b[1;33m]\u001b[0m\u001b[1;33m)\u001b[0m \u001b[1;33m&\u001b[0m \u001b[1;33m(\u001b[0m\u001b[0mmerged\u001b[0m\u001b[1;33m[\u001b[0m\u001b[0mdate\u001b[0m\u001b[1;33m]\u001b[0m \u001b[1;33m<=\u001b[0m \u001b[0mmerged\u001b[0m\u001b[1;33m[\u001b[0m\u001b[1;34m'end'\u001b[0m\u001b[1;33m]\u001b[0m\u001b[1;33m)\u001b[0m\u001b[1;33m\u001b[0m\u001b[0m\n\u001b[0m\u001b[0;32m     74\u001b[0m     \u001b[1;31m#However if there is not a match, doing merged[valid] would drop the observation instead of leaving nan\u001b[0m\u001b[1;33m\u001b[0m\u001b[1;33m\u001b[0m\u001b[0m\n\u001b[0;32m     75\u001b[0m     \u001b[1;31m#Therefore, take merged[valid] and merge back again to original\u001b[0m\u001b[1;33m\u001b[0m\u001b[1;33m\u001b[0m\u001b[0m\n",
      "\u001b[1;32mC:\\Users\\derobertisna.UFAD\\Dropbox\\Python\\Dero\\dero\\data.py\u001b[0m in \u001b[0;36mmerge_dsenames\u001b[1;34m(df, on, get, date, other_byvars, crsp_dir)\u001b[0m\n\u001b[0;32m     71\u001b[0m     \u001b[0mmerged\u001b[0m \u001b[1;33m=\u001b[0m \u001b[0mdf\u001b[0m\u001b[1;33m[\u001b[0m\u001b[1;33m[\u001b[0m\u001b[0mon\u001b[0m\u001b[1;33m,\u001b[0m \u001b[0mdate\u001b[0m\u001b[1;33m]\u001b[0m \u001b[1;33m+\u001b[0m \u001b[0mother_byvars\u001b[0m\u001b[1;33m]\u001b[0m\u001b[1;33m.\u001b[0m\u001b[0mmerge\u001b[0m\u001b[1;33m(\u001b[0m\u001b[0mnames_df\u001b[0m\u001b[1;33m[\u001b[0m\u001b[1;33m[\u001b[0m\u001b[1;34m'start'\u001b[0m\u001b[1;33m,\u001b[0m\u001b[1;34m'end'\u001b[0m\u001b[1;33m,\u001b[0m \u001b[0mon\u001b[0m\u001b[1;33m]\u001b[0m \u001b[1;33m+\u001b[0m \u001b[0mget\u001b[0m\u001b[1;33m]\u001b[0m\u001b[1;33m,\u001b[0m \u001b[0mhow\u001b[0m\u001b[1;33m=\u001b[0m\u001b[1;34m'left'\u001b[0m\u001b[1;33m,\u001b[0m \u001b[0mon\u001b[0m\u001b[1;33m=\u001b[0m\u001b[0mon\u001b[0m\u001b[1;33m)\u001b[0m\u001b[1;33m\u001b[0m\u001b[0m\n\u001b[0;32m     72\u001b[0m     \u001b[1;31m#Drop out observations not in name date range\u001b[0m\u001b[1;33m\u001b[0m\u001b[1;33m\u001b[0m\u001b[0m\n\u001b[1;32m---> 73\u001b[1;33m     \u001b[0mvalid\u001b[0m \u001b[1;33m=\u001b[0m \u001b[1;33m(\u001b[0m\u001b[0mmerged\u001b[0m\u001b[1;33m[\u001b[0m\u001b[0mdate\u001b[0m\u001b[1;33m]\u001b[0m \u001b[1;33m>=\u001b[0m \u001b[0mmerged\u001b[0m\u001b[1;33m[\u001b[0m\u001b[1;34m'start'\u001b[0m\u001b[1;33m]\u001b[0m\u001b[1;33m)\u001b[0m \u001b[1;33m&\u001b[0m \u001b[1;33m(\u001b[0m\u001b[0mmerged\u001b[0m\u001b[1;33m[\u001b[0m\u001b[0mdate\u001b[0m\u001b[1;33m]\u001b[0m \u001b[1;33m<=\u001b[0m \u001b[0mmerged\u001b[0m\u001b[1;33m[\u001b[0m\u001b[1;34m'end'\u001b[0m\u001b[1;33m]\u001b[0m\u001b[1;33m)\u001b[0m\u001b[1;33m\u001b[0m\u001b[0m\n\u001b[0m\u001b[0;32m     74\u001b[0m     \u001b[1;31m#However if there is not a match, doing merged[valid] would drop the observation instead of leaving nan\u001b[0m\u001b[1;33m\u001b[0m\u001b[1;33m\u001b[0m\u001b[0m\n\u001b[0;32m     75\u001b[0m     \u001b[1;31m#Therefore, take merged[valid] and merge back again to original\u001b[0m\u001b[1;33m\u001b[0m\u001b[1;33m\u001b[0m\u001b[0m\n",
      "\u001b[1;32mC:\\Anaconda3\\lib\\bdb.py\u001b[0m in \u001b[0;36mtrace_dispatch\u001b[1;34m(self, frame, event, arg)\u001b[0m\n\u001b[0;32m     46\u001b[0m             \u001b[1;32mreturn\u001b[0m \u001b[1;31m# None\u001b[0m\u001b[1;33m\u001b[0m\u001b[0m\n\u001b[0;32m     47\u001b[0m         \u001b[1;32mif\u001b[0m \u001b[0mevent\u001b[0m \u001b[1;33m==\u001b[0m \u001b[1;34m'line'\u001b[0m\u001b[1;33m:\u001b[0m\u001b[1;33m\u001b[0m\u001b[0m\n\u001b[1;32m---> 48\u001b[1;33m             \u001b[1;32mreturn\u001b[0m \u001b[0mself\u001b[0m\u001b[1;33m.\u001b[0m\u001b[0mdispatch_line\u001b[0m\u001b[1;33m(\u001b[0m\u001b[0mframe\u001b[0m\u001b[1;33m)\u001b[0m\u001b[1;33m\u001b[0m\u001b[0m\n\u001b[0m\u001b[0;32m     49\u001b[0m         \u001b[1;32mif\u001b[0m \u001b[0mevent\u001b[0m \u001b[1;33m==\u001b[0m \u001b[1;34m'call'\u001b[0m\u001b[1;33m:\u001b[0m\u001b[1;33m\u001b[0m\u001b[0m\n\u001b[0;32m     50\u001b[0m             \u001b[1;32mreturn\u001b[0m \u001b[0mself\u001b[0m\u001b[1;33m.\u001b[0m\u001b[0mdispatch_call\u001b[0m\u001b[1;33m(\u001b[0m\u001b[0mframe\u001b[0m\u001b[1;33m,\u001b[0m \u001b[0marg\u001b[0m\u001b[1;33m)\u001b[0m\u001b[1;33m\u001b[0m\u001b[0m\n",
      "\u001b[1;32mC:\\Anaconda3\\lib\\bdb.py\u001b[0m in \u001b[0;36mdispatch_line\u001b[1;34m(self, frame)\u001b[0m\n\u001b[0;32m     65\u001b[0m         \u001b[1;32mif\u001b[0m \u001b[0mself\u001b[0m\u001b[1;33m.\u001b[0m\u001b[0mstop_here\u001b[0m\u001b[1;33m(\u001b[0m\u001b[0mframe\u001b[0m\u001b[1;33m)\u001b[0m \u001b[1;32mor\u001b[0m \u001b[0mself\u001b[0m\u001b[1;33m.\u001b[0m\u001b[0mbreak_here\u001b[0m\u001b[1;33m(\u001b[0m\u001b[0mframe\u001b[0m\u001b[1;33m)\u001b[0m\u001b[1;33m:\u001b[0m\u001b[1;33m\u001b[0m\u001b[0m\n\u001b[0;32m     66\u001b[0m             \u001b[0mself\u001b[0m\u001b[1;33m.\u001b[0m\u001b[0muser_line\u001b[0m\u001b[1;33m(\u001b[0m\u001b[0mframe\u001b[0m\u001b[1;33m)\u001b[0m\u001b[1;33m\u001b[0m\u001b[0m\n\u001b[1;32m---> 67\u001b[1;33m             \u001b[1;32mif\u001b[0m \u001b[0mself\u001b[0m\u001b[1;33m.\u001b[0m\u001b[0mquitting\u001b[0m\u001b[1;33m:\u001b[0m \u001b[1;32mraise\u001b[0m \u001b[0mBdbQuit\u001b[0m\u001b[1;33m\u001b[0m\u001b[0m\n\u001b[0m\u001b[0;32m     68\u001b[0m         \u001b[1;32mreturn\u001b[0m \u001b[0mself\u001b[0m\u001b[1;33m.\u001b[0m\u001b[0mtrace_dispatch\u001b[0m\u001b[1;33m\u001b[0m\u001b[0m\n\u001b[0;32m     69\u001b[0m \u001b[1;33m\u001b[0m\u001b[0m\n",
      "\u001b[1;31mBdbQuit\u001b[0m: "
     ],
     "output_type": "error"
    }
   ],
   "source": [
    "dero.data.merge_dsenames(ticker_df, other_byvars='byvar')"
   ]
  },
  {
   "cell_type": "code",
   "execution_count": 1,
   "metadata": {
    "collapsed": true
   },
   "outputs": [],
   "source": [
    "import pandas as pd\n",
    "import dero\n",
    "from numpy import nan"
   ]
  },
  {
   "cell_type": "code",
   "execution_count": 4,
   "metadata": {
    "collapsed": false
   },
   "outputs": [
    {
     "name": "stdout",
     "output_type": "stream",
     "text": [
      "pd.DataFrame(data = [\n",
      "(numpy.datetime64('2004-02-13T00:00:00.000000000'),),\n",
      "(numpy.datetime64('2005-02-15T00:00:00.000000000'),),\n",
      "(numpy.datetime64('2007-01-12T00:00:00.000000000'),),\n",
      "(numpy.datetime64('2007-01-31T00:00:00.000000000'),),\n",
      "(numpy.datetime64('NaT'),),\n",
      "(numpy.datetime64('2007-02-15T00:00:00.000000000'),),\n",
      "], columns = [0])\n"
     ]
    }
   ],
   "source": [
    "dero.pandas.to_copy_paste(pd.DataFrame(dero.pandas.convert_sas_date_to_pandas_date(df_sasdate_nan['datadate'])))"
   ]
  },
  {
   "cell_type": "code",
   "execution_count": null,
   "metadata": {
    "collapsed": false
   },
   "outputs": [
    {
     "name": "stdout",
     "output_type": "stream",
     "text": [
      "> c:\\anaconda3\\lib\\site-packages\\pandas\\core\\common.py(1914)_astype_nansafe()\n",
      "-> raise ValueError('Cannot convert NA to integer')\n",
      "(Pdb) u\n",
      "> c:\\anaconda3\\lib\\site-packages\\pandas\\core\\internals.py(477)_astype()\n",
      "-> values = com._astype_nansafe(values.ravel(), dtype, copy=True)\n",
      "(Pdb) u\n",
      "> c:\\anaconda3\\lib\\site-packages\\pandas\\core\\internals.py(434)astype()\n",
      "-> values=values, **kwargs)\n",
      "(Pdb) u\n",
      "> c:\\anaconda3\\lib\\site-packages\\pandas\\core\\internals.py(2890)apply()\n",
      "-> applied = getattr(b, f)(**kwargs)\n",
      "(Pdb) u\n",
      "> c:\\anaconda3\\lib\\site-packages\\pandas\\core\\internals.py(2938)astype()\n",
      "-> return self.apply('astype', dtype=dtype, **kwargs)\n",
      "(Pdb) u\n",
      "> c:\\anaconda3\\lib\\site-packages\\pandas\\core\\generic.py(2950)astype()\n",
      "-> raise_on_error=raise_on_error, **kwargs)\n",
      "(Pdb) u\n",
      "> c:\\users\\derobertisna.ufad\\dropbox\\python\\dero\\dero\\ext_pandas.py(48)convert_sas_date_to_pandas_date()\n",
      "-> #         unique = pd.Series(sasdates.dropna().unique()).astype(int)\n",
      "(Pdb) sasdates\n",
      "0    16114.0\n",
      "1    16482.0\n",
      "2    17178.0\n",
      "3    17197.0\n",
      "4        NaN\n",
      "5    17212.0\n",
      "Name: datadate, dtype: float64\n",
      "(Pdb) sasdates.dropna()\n",
      "0    16114.0\n",
      "1    16482.0\n",
      "2    17178.0\n",
      "3    17197.0\n",
      "5    17212.0\n",
      "Name: datadate, dtype: float64\n",
      "(Pdb) pd.Series(sasdates.dropna().unique())\n",
      "0    16114.0\n",
      "1    16482.0\n",
      "2    17178.0\n",
      "3    17197.0\n",
      "4    17212.0\n",
      "dtype: float64\n",
      "(Pdb) pd.Series(sasdates.dropna().unique()).astype(int)\n",
      "0    16114\n",
      "1    16482\n",
      "2    17178\n",
      "3    17197\n",
      "4    17212\n",
      "dtype: int32\n"
     ]
    }
   ],
   "source": [
    "import pdb\n",
    "pdb.pm()"
   ]
  },
  {
   "cell_type": "code",
   "execution_count": 17,
   "metadata": {
    "collapsed": false
   },
   "outputs": [
    {
     "data": {
      "text/html": [
       "<div>\n",
       "<table border=\"1\" class=\"dataframe\">\n",
       "  <thead>\n",
       "    <tr style=\"text-align: right;\">\n",
       "      <th></th>\n",
       "      <th>gvkey</th>\n",
       "      <th>datadate</th>\n",
       "    </tr>\n",
       "    <tr>\n",
       "      <th>test</th>\n",
       "      <th></th>\n",
       "      <th></th>\n",
       "    </tr>\n",
       "  </thead>\n",
       "  <tbody>\n",
       "    <tr>\n",
       "      <th>983</th>\n",
       "      <td>011508</td>\n",
       "      <td>16114.0</td>\n",
       "    </tr>\n",
       "    <tr>\n",
       "      <th>648</th>\n",
       "      <td>011509</td>\n",
       "      <td>16114.0</td>\n",
       "    </tr>\n",
       "    <tr>\n",
       "      <th>473</th>\n",
       "      <td>011508</td>\n",
       "      <td>16482.0</td>\n",
       "    </tr>\n",
       "    <tr>\n",
       "      <th>210</th>\n",
       "      <td>011508</td>\n",
       "      <td>17178.0</td>\n",
       "    </tr>\n",
       "    <tr>\n",
       "      <th>258</th>\n",
       "      <td>011509</td>\n",
       "      <td>17178.0</td>\n",
       "    </tr>\n",
       "    <tr>\n",
       "      <th>329</th>\n",
       "      <td>011508</td>\n",
       "      <td>17197.0</td>\n",
       "    </tr>\n",
       "    <tr>\n",
       "      <th>469</th>\n",
       "      <td>011508</td>\n",
       "      <td>17212.0</td>\n",
       "    </tr>\n",
       "  </tbody>\n",
       "</table>\n",
       "</div>"
      ],
      "text/plain": [
       "       gvkey  datadate\n",
       "test                  \n",
       "983   011508   16114.0\n",
       "648   011509   16114.0\n",
       "473   011508   16482.0\n",
       "210   011508   17178.0\n",
       "258   011509   17178.0\n",
       "329   011508   17197.0\n",
       "469   011508   17212.0"
      ]
     },
     "execution_count": 17,
     "metadata": {},
     "output_type": "execute_result"
    }
   ],
   "source": [
    "test"
   ]
  },
  {
   "cell_type": "code",
   "execution_count": 25,
   "metadata": {
    "collapsed": true
   },
   "outputs": [],
   "source": [
    "import datetime\n",
    "\n",
    "def convert_sas_date_to_pandas_date(sasdates):\n",
    "    epoch = datetime.datetime(1960, 1, 1)\n",
    "    \n",
    "    if isinstance(sasdates, pd.Series):\n",
    "        #Below code is to reduce down to unique dates and create a mapping\n",
    "        unique = pd.Series(sasdates.dropna().unique()).astype(int)\n",
    "        shift = unique.apply(datetime.timedelta)\n",
    "        pd_dates = epoch + shift\n",
    "        \n",
    "        for_merge = pd.concat([unique, pd_dates], axis=1)\n",
    "        for_merge.columns = [sasdates.name, 0]\n",
    "        \n",
    "        orig_df = pd.DataFrame(sasdates.astype(int))\n",
    "        orig_df.reset_index(inplace=True)\n",
    "        \n",
    "        return for_merge.merge(orig_df, how='right', on=[sasdates.name]).sort_values('index').reset_index()[0]\n",
    "    \n",
    "    \n",
    "#         return pd.Series([epoch + datetime.timedelta(days=int(float(date))) if not pd.isnull(date) else nan for date in sasdates])\n",
    "    else:\n",
    "        return epoch + datetime.timedelta(days=sasdates)\n",
    "    \n",
    "def old_convert_sas_date_to_pandas_date(sasdates):\n",
    "    epoch = datetime.datetime(1960, 1, 1)\n",
    "    \n",
    "    if isinstance(sasdates, pd.Series):\n",
    "    \n",
    "        return pd.Series([epoch + datetime.timedelta(days=int(float(date))) if not pd.isnull(date) else nan for date in sasdates])\n",
    "    else:\n",
    "        return epoch + datetime.timedelta(days=sasdates)"
   ]
  },
  {
   "cell_type": "code",
   "execution_count": 8,
   "metadata": {
    "collapsed": false
   },
   "outputs": [
    {
     "data": {
      "text/plain": [
       "0   2004-02-13\n",
       "1   2004-02-13\n",
       "2   2005-02-15\n",
       "3   2007-01-12\n",
       "4   2007-01-12\n",
       "5   2007-01-31\n",
       "6   2007-02-15\n",
       "dtype: datetime64[ns]"
      ]
     },
     "execution_count": 8,
     "metadata": {},
     "output_type": "execute_result"
    }
   ],
   "source": [
    "import dero\n",
    "\n",
    "new = convert_sas_date_to_pandas_date(df_sasdate['datadate'])\n",
    "old = old_convert_sas_date_to_pandas_date(df_sasdate['datadate'])\n",
    "new.name = None\n",
    "new"
   ]
  },
  {
   "cell_type": "code",
   "execution_count": 12,
   "metadata": {
    "collapsed": false
   },
   "outputs": [
    {
     "data": {
      "text/plain": [
       "0    True\n",
       "1    True\n",
       "2    True\n",
       "3    True\n",
       "4    True\n",
       "5    True\n",
       "6    True\n",
       "dtype: bool"
      ]
     },
     "execution_count": 12,
     "metadata": {},
     "output_type": "execute_result"
    }
   ],
   "source": [
    "new == old"
   ]
  },
  {
   "cell_type": "code",
   "execution_count": 23,
   "metadata": {
    "collapsed": false
   },
   "outputs": [
    {
     "data": {
      "text/plain": [
       "0   2004-02-13\n",
       "1   2004-02-13\n",
       "2   2005-02-15\n",
       "3   2007-01-12\n",
       "4   2007-01-12\n",
       "5   2007-01-31\n",
       "6   2007-02-15\n",
       "dtype: datetime64[ns]"
      ]
     },
     "execution_count": 23,
     "metadata": {},
     "output_type": "execute_result"
    }
   ],
   "source": [
    "old"
   ]
  },
  {
   "cell_type": "code",
   "execution_count": 10,
   "metadata": {
    "collapsed": false
   },
   "outputs": [
    {
     "data": {
      "text/plain": [
       "Timestamp('2004-02-13 00:00:00')"
      ]
     },
     "execution_count": 10,
     "metadata": {},
     "output_type": "execute_result"
    }
   ],
   "source": [
    ""
   ]
  },
  {
   "cell_type": "code",
   "execution_count": 32,
   "metadata": {
    "collapsed": false
   },
   "outputs": [
    {
     "data": {
      "text/plain": [
       "0   1960-01-02\n",
       "1   1960-01-04\n",
       "2   1960-01-06\n",
       "Name: shift, dtype: datetime64[ns]"
      ]
     },
     "execution_count": 32,
     "metadata": {},
     "output_type": "execute_result"
    }
   ],
   "source": [
    "import datetime\n",
    "\n",
    "df = pd.DataFrame([(1),(3),(5)], columns=['shift'])\n",
    "# datetime.datetime(1960, 1, 1) + df\n",
    "shift = df.applymap(datetime.timedelta)\n",
    "shift['shift'] + datetime.datetime(1960, 1, 1)"
   ]
  },
  {
   "cell_type": "code",
   "execution_count": 34,
   "metadata": {
    "collapsed": false
   },
   "outputs": [
    {
     "data": {
      "text/html": [
       "<div>\n",
       "<table border=\"1\" class=\"dataframe\">\n",
       "  <thead>\n",
       "    <tr style=\"text-align: right;\">\n",
       "      <th></th>\n",
       "      <th>0</th>\n",
       "    </tr>\n",
       "  </thead>\n",
       "  <tbody>\n",
       "    <tr>\n",
       "      <th>0</th>\n",
       "      <td>1</td>\n",
       "    </tr>\n",
       "    <tr>\n",
       "      <th>1</th>\n",
       "      <td>3</td>\n",
       "    </tr>\n",
       "    <tr>\n",
       "      <th>2</th>\n",
       "      <td>5</td>\n",
       "    </tr>\n",
       "  </tbody>\n",
       "</table>\n",
       "</div>"
      ],
      "text/plain": [
       "   0\n",
       "0  1\n",
       "1  3\n",
       "2  5"
      ]
     },
     "execution_count": 34,
     "metadata": {},
     "output_type": "execute_result"
    }
   ],
   "source": [
    "pd.DataFrame(pd.Series([1,3,5]))"
   ]
  },
  {
   "cell_type": "code",
   "execution_count": 8,
   "metadata": {
    "collapsed": false
   },
   "outputs": [
    {
     "data": {
      "text/html": [
       "<div>\n",
       "<table border=\"1\" class=\"dataframe\">\n",
       "  <thead>\n",
       "    <tr style=\"text-align: right;\">\n",
       "      <th></th>\n",
       "      <th>PERMNO</th>\n",
       "      <th>byvar</th>\n",
       "      <th>Date</th>\n",
       "      <th>RET</th>\n",
       "      <th>RET_count</th>\n",
       "    </tr>\n",
       "  </thead>\n",
       "  <tbody>\n",
       "    <tr>\n",
       "      <th>0</th>\n",
       "      <td>10516</td>\n",
       "      <td>a</td>\n",
       "      <td>1/1/2000</td>\n",
       "      <td>1.01</td>\n",
       "      <td>4</td>\n",
       "    </tr>\n",
       "    <tr>\n",
       "      <th>1</th>\n",
       "      <td>10516</td>\n",
       "      <td>a</td>\n",
       "      <td>1/2/2000</td>\n",
       "      <td>1.02</td>\n",
       "      <td>4</td>\n",
       "    </tr>\n",
       "    <tr>\n",
       "      <th>2</th>\n",
       "      <td>10516</td>\n",
       "      <td>a</td>\n",
       "      <td>1/3/2000</td>\n",
       "      <td>1.03</td>\n",
       "      <td>4</td>\n",
       "    </tr>\n",
       "    <tr>\n",
       "      <th>3</th>\n",
       "      <td>10516</td>\n",
       "      <td>a</td>\n",
       "      <td>1/4/2000</td>\n",
       "      <td>1.04</td>\n",
       "      <td>4</td>\n",
       "    </tr>\n",
       "    <tr>\n",
       "      <th>4</th>\n",
       "      <td>10516</td>\n",
       "      <td>b</td>\n",
       "      <td>1/1/2000</td>\n",
       "      <td>1.05</td>\n",
       "      <td>4</td>\n",
       "    </tr>\n",
       "    <tr>\n",
       "      <th>5</th>\n",
       "      <td>10516</td>\n",
       "      <td>b</td>\n",
       "      <td>1/2/2000</td>\n",
       "      <td>1.06</td>\n",
       "      <td>4</td>\n",
       "    </tr>\n",
       "    <tr>\n",
       "      <th>6</th>\n",
       "      <td>10516</td>\n",
       "      <td>b</td>\n",
       "      <td>1/3/2000</td>\n",
       "      <td>1.07</td>\n",
       "      <td>4</td>\n",
       "    </tr>\n",
       "    <tr>\n",
       "      <th>7</th>\n",
       "      <td>10516</td>\n",
       "      <td>b</td>\n",
       "      <td>1/4/2000</td>\n",
       "      <td>1.08</td>\n",
       "      <td>4</td>\n",
       "    </tr>\n",
       "    <tr>\n",
       "      <th>8</th>\n",
       "      <td>10517</td>\n",
       "      <td>a</td>\n",
       "      <td>1/1/2000</td>\n",
       "      <td>1.09</td>\n",
       "      <td>4</td>\n",
       "    </tr>\n",
       "    <tr>\n",
       "      <th>9</th>\n",
       "      <td>10517</td>\n",
       "      <td>a</td>\n",
       "      <td>1/2/2000</td>\n",
       "      <td>1.10</td>\n",
       "      <td>4</td>\n",
       "    </tr>\n",
       "    <tr>\n",
       "      <th>10</th>\n",
       "      <td>10517</td>\n",
       "      <td>a</td>\n",
       "      <td>1/3/2000</td>\n",
       "      <td>1.11</td>\n",
       "      <td>4</td>\n",
       "    </tr>\n",
       "    <tr>\n",
       "      <th>11</th>\n",
       "      <td>10517</td>\n",
       "      <td>a</td>\n",
       "      <td>1/4/2000</td>\n",
       "      <td>1.12</td>\n",
       "      <td>4</td>\n",
       "    </tr>\n",
       "  </tbody>\n",
       "</table>\n",
       "</div>"
      ],
      "text/plain": [
       "    PERMNO byvar      Date   RET  RET_count\n",
       "0    10516     a  1/1/2000  1.01          4\n",
       "1    10516     a  1/2/2000  1.02          4\n",
       "2    10516     a  1/3/2000  1.03          4\n",
       "3    10516     a  1/4/2000  1.04          4\n",
       "4    10516     b  1/1/2000  1.05          4\n",
       "5    10516     b  1/2/2000  1.06          4\n",
       "6    10516     b  1/3/2000  1.07          4\n",
       "7    10516     b  1/4/2000  1.08          4\n",
       "8    10517     a  1/1/2000  1.09          4\n",
       "9    10517     a  1/2/2000  1.10          4\n",
       "10   10517     a  1/3/2000  1.11          4\n",
       "11   10517     a  1/4/2000  1.12          4"
      ]
     },
     "execution_count": 8,
     "metadata": {},
     "output_type": "execute_result"
    }
   ],
   "source": [
    "dero.pandas.groupby_merge(df, ['PERMNO','byvar'], 'count', subset='RET')"
   ]
  },
  {
   "cell_type": "code",
   "execution_count": 18,
   "metadata": {
    "collapsed": false
   },
   "outputs": [
    {
     "data": {
      "text/html": [
       "<div>\n",
       "<table border=\"1\" class=\"dataframe\">\n",
       "  <thead>\n",
       "    <tr style=\"text-align: right;\">\n",
       "      <th></th>\n",
       "      <th>PERMNO</th>\n",
       "      <th>byvar</th>\n",
       "      <th>RET</th>\n",
       "    </tr>\n",
       "  </thead>\n",
       "  <tbody>\n",
       "    <tr>\n",
       "      <th>0</th>\n",
       "      <td>10516</td>\n",
       "      <td>a</td>\n",
       "      <td>0.01291</td>\n",
       "    </tr>\n",
       "    <tr>\n",
       "      <th>1</th>\n",
       "      <td>10516</td>\n",
       "      <td>b</td>\n",
       "      <td>0.01291</td>\n",
       "    </tr>\n",
       "    <tr>\n",
       "      <th>2</th>\n",
       "      <td>10517</td>\n",
       "      <td>a</td>\n",
       "      <td>0.01291</td>\n",
       "    </tr>\n",
       "  </tbody>\n",
       "</table>\n",
       "</div>"
      ],
      "text/plain": [
       "   PERMNO byvar      RET\n",
       "0   10516     a  0.01291\n",
       "1   10516     b  0.01291\n",
       "2   10517     a  0.01291"
      ]
     },
     "execution_count": 18,
     "metadata": {},
     "output_type": "execute_result"
    }
   ],
   "source": [
    "byvars = ['PERMNO','byvar']\n",
    "df.groupby(byvars)[['RET']].std().reset_index()"
   ]
  },
  {
   "cell_type": "code",
   "execution_count": 11,
   "metadata": {
    "collapsed": false
   },
   "outputs": [
    {
     "data": {
      "text/html": [
       "<div>\n",
       "<table border=\"1\" class=\"dataframe\">\n",
       "  <thead>\n",
       "    <tr style=\"text-align: right;\">\n",
       "      <th></th>\n",
       "      <th></th>\n",
       "      <th>PERMNO</th>\n",
       "      <th>RET</th>\n",
       "    </tr>\n",
       "    <tr>\n",
       "      <th>PERMNO</th>\n",
       "      <th>byvar</th>\n",
       "      <th></th>\n",
       "      <th></th>\n",
       "    </tr>\n",
       "  </thead>\n",
       "  <tbody>\n",
       "    <tr>\n",
       "      <th>10517</th>\n",
       "      <th>a</th>\n",
       "      <td>0.0</td>\n",
       "      <td>0.01291</td>\n",
       "    </tr>\n",
       "  </tbody>\n",
       "</table>\n",
       "</div>"
      ],
      "text/plain": [
       "              PERMNO      RET\n",
       "PERMNO byvar                 \n",
       "10517  a         0.0  0.01291"
      ]
     },
     "execution_count": 11,
     "metadata": {},
     "output_type": "execute_result"
    }
   ],
   "source": [
    "df[df['PERMNO'] == 10517].groupby(byvars)[byvars + ['RET']].std()"
   ]
  },
  {
   "cell_type": "code",
   "execution_count": 5,
   "metadata": {
    "collapsed": false
   },
   "outputs": [
    {
     "name": "stdout",
     "output_type": "stream",
     "text": [
      "<class 'pandas.core.frame.DataFrame'>\n",
      "RangeIndex: 12 entries, 0 to 11\n",
      "Data columns (total 4 columns):\n",
      "PERMNO    12 non-null int64\n",
      "byvar     12 non-null object\n",
      "Date      12 non-null object\n",
      "RET       12 non-null float64\n",
      "dtypes: float64(1), int64(1), object(2)\n",
      "memory usage: 464.0+ bytes\n"
     ]
    }
   ],
   "source": [
    "df.info()"
   ]
  },
  {
   "cell_type": "code",
   "execution_count": 6,
   "metadata": {
    "collapsed": false
   },
   "outputs": [
    {
     "data": {
      "text/html": [
       "<div>\n",
       "<table border=\"1\" class=\"dataframe\">\n",
       "  <thead>\n",
       "    <tr style=\"text-align: right;\">\n",
       "      <th></th>\n",
       "      <th>PERMNO</th>\n",
       "      <th>byvar</th>\n",
       "      <th>Date</th>\n",
       "      <th>RET</th>\n",
       "    </tr>\n",
       "  </thead>\n",
       "  <tbody>\n",
       "    <tr>\n",
       "      <th>0</th>\n",
       "      <td>10516</td>\n",
       "      <td>a</td>\n",
       "      <td>1/1/2000</td>\n",
       "      <td>NaN</td>\n",
       "    </tr>\n",
       "    <tr>\n",
       "      <th>1</th>\n",
       "      <td>10516</td>\n",
       "      <td>a</td>\n",
       "      <td>1/2/2000</td>\n",
       "      <td>1.02</td>\n",
       "    </tr>\n",
       "    <tr>\n",
       "      <th>2</th>\n",
       "      <td>10516</td>\n",
       "      <td>a</td>\n",
       "      <td>1/3/2000</td>\n",
       "      <td>1.03</td>\n",
       "    </tr>\n",
       "    <tr>\n",
       "      <th>3</th>\n",
       "      <td>10516</td>\n",
       "      <td>a</td>\n",
       "      <td>1/4/2000</td>\n",
       "      <td>1.04</td>\n",
       "    </tr>\n",
       "    <tr>\n",
       "      <th>4</th>\n",
       "      <td>10516</td>\n",
       "      <td>b</td>\n",
       "      <td>1/1/2000</td>\n",
       "      <td>1.05</td>\n",
       "    </tr>\n",
       "    <tr>\n",
       "      <th>5</th>\n",
       "      <td>10516</td>\n",
       "      <td>b</td>\n",
       "      <td>1/2/2000</td>\n",
       "      <td>1.06</td>\n",
       "    </tr>\n",
       "    <tr>\n",
       "      <th>6</th>\n",
       "      <td>10516</td>\n",
       "      <td>b</td>\n",
       "      <td>1/3/2000</td>\n",
       "      <td>1.07</td>\n",
       "    </tr>\n",
       "    <tr>\n",
       "      <th>7</th>\n",
       "      <td>10516</td>\n",
       "      <td>b</td>\n",
       "      <td>1/4/2000</td>\n",
       "      <td>1.08</td>\n",
       "    </tr>\n",
       "    <tr>\n",
       "      <th>8</th>\n",
       "      <td>10517</td>\n",
       "      <td>a</td>\n",
       "      <td>1/1/2000</td>\n",
       "      <td>1.09</td>\n",
       "    </tr>\n",
       "    <tr>\n",
       "      <th>9</th>\n",
       "      <td>10517</td>\n",
       "      <td>a</td>\n",
       "      <td>1/2/2000</td>\n",
       "      <td>1.10</td>\n",
       "    </tr>\n",
       "    <tr>\n",
       "      <th>10</th>\n",
       "      <td>10517</td>\n",
       "      <td>a</td>\n",
       "      <td>1/3/2000</td>\n",
       "      <td>1.11</td>\n",
       "    </tr>\n",
       "    <tr>\n",
       "      <th>11</th>\n",
       "      <td>10517</td>\n",
       "      <td>a</td>\n",
       "      <td>1/4/2000</td>\n",
       "      <td>1.12</td>\n",
       "    </tr>\n",
       "  </tbody>\n",
       "</table>\n",
       "</div>"
      ],
      "text/plain": [
       "    PERMNO byvar      Date   RET\n",
       "0    10516     a  1/1/2000   NaN\n",
       "1    10516     a  1/2/2000  1.02\n",
       "2    10516     a  1/3/2000  1.03\n",
       "3    10516     a  1/4/2000  1.04\n",
       "4    10516     b  1/1/2000  1.05\n",
       "5    10516     b  1/2/2000  1.06\n",
       "6    10516     b  1/3/2000  1.07\n",
       "7    10516     b  1/4/2000  1.08\n",
       "8    10517     a  1/1/2000  1.09\n",
       "9    10517     a  1/2/2000  1.10\n",
       "10   10517     a  1/3/2000  1.11\n",
       "11   10517     a  1/4/2000  1.12"
      ]
     },
     "execution_count": 6,
     "metadata": {},
     "output_type": "execute_result"
    }
   ],
   "source": [
    "from numpy import nan\n",
    "df.loc[0, 'RET'] = nan\n",
    "# df.loc[0, 'RET'] = 1.01\n",
    "df"
   ]
  },
  {
   "cell_type": "code",
   "execution_count": 7,
   "metadata": {
    "collapsed": false
   },
   "outputs": [
    {
     "name": "stderr",
     "output_type": "stream",
     "text": [
      "C:\\Users\\derobertisna.UFAD\\Dropbox\\Python\\Dero\\dero\\ext_pandas.py:530: UserWarning: Boolean Series key will be reindexed to match DataFrame index.\n",
      "  rows = df[(outdf[groupvar] >= low_cut) & (df[groupvar] <= high_cut)].index\n"
     ]
    },
    {
     "data": {
      "text/html": [
       "<div>\n",
       "<table border=\"1\" class=\"dataframe\">\n",
       "  <thead>\n",
       "    <tr style=\"text-align: right;\">\n",
       "      <th></th>\n",
       "      <th>PERMNO</th>\n",
       "      <th>byvar</th>\n",
       "      <th>Date</th>\n",
       "      <th>RET</th>\n",
       "      <th>portfolio</th>\n",
       "    </tr>\n",
       "  </thead>\n",
       "  <tbody>\n",
       "    <tr>\n",
       "      <th>0</th>\n",
       "      <td>10516</td>\n",
       "      <td>a</td>\n",
       "      <td>1/1/2000</td>\n",
       "      <td>NaN</td>\n",
       "      <td>0</td>\n",
       "    </tr>\n",
       "    <tr>\n",
       "      <th>1</th>\n",
       "      <td>10516</td>\n",
       "      <td>a</td>\n",
       "      <td>1/2/2000</td>\n",
       "      <td>1.02</td>\n",
       "      <td>1</td>\n",
       "    </tr>\n",
       "    <tr>\n",
       "      <th>2</th>\n",
       "      <td>10516</td>\n",
       "      <td>a</td>\n",
       "      <td>1/3/2000</td>\n",
       "      <td>1.03</td>\n",
       "      <td>2</td>\n",
       "    </tr>\n",
       "    <tr>\n",
       "      <th>3</th>\n",
       "      <td>10516</td>\n",
       "      <td>a</td>\n",
       "      <td>1/4/2000</td>\n",
       "      <td>1.04</td>\n",
       "      <td>2</td>\n",
       "    </tr>\n",
       "    <tr>\n",
       "      <th>4</th>\n",
       "      <td>10516</td>\n",
       "      <td>b</td>\n",
       "      <td>1/1/2000</td>\n",
       "      <td>1.05</td>\n",
       "      <td>1</td>\n",
       "    </tr>\n",
       "    <tr>\n",
       "      <th>5</th>\n",
       "      <td>10516</td>\n",
       "      <td>b</td>\n",
       "      <td>1/2/2000</td>\n",
       "      <td>1.06</td>\n",
       "      <td>1</td>\n",
       "    </tr>\n",
       "    <tr>\n",
       "      <th>6</th>\n",
       "      <td>10516</td>\n",
       "      <td>b</td>\n",
       "      <td>1/3/2000</td>\n",
       "      <td>1.07</td>\n",
       "      <td>2</td>\n",
       "    </tr>\n",
       "    <tr>\n",
       "      <th>7</th>\n",
       "      <td>10516</td>\n",
       "      <td>b</td>\n",
       "      <td>1/4/2000</td>\n",
       "      <td>1.08</td>\n",
       "      <td>2</td>\n",
       "    </tr>\n",
       "    <tr>\n",
       "      <th>8</th>\n",
       "      <td>10517</td>\n",
       "      <td>a</td>\n",
       "      <td>1/1/2000</td>\n",
       "      <td>1.09</td>\n",
       "      <td>1</td>\n",
       "    </tr>\n",
       "    <tr>\n",
       "      <th>9</th>\n",
       "      <td>10517</td>\n",
       "      <td>a</td>\n",
       "      <td>1/2/2000</td>\n",
       "      <td>1.10</td>\n",
       "      <td>1</td>\n",
       "    </tr>\n",
       "    <tr>\n",
       "      <th>10</th>\n",
       "      <td>10517</td>\n",
       "      <td>a</td>\n",
       "      <td>1/3/2000</td>\n",
       "      <td>1.11</td>\n",
       "      <td>2</td>\n",
       "    </tr>\n",
       "    <tr>\n",
       "      <th>11</th>\n",
       "      <td>10517</td>\n",
       "      <td>a</td>\n",
       "      <td>1/4/2000</td>\n",
       "      <td>1.12</td>\n",
       "      <td>2</td>\n",
       "    </tr>\n",
       "  </tbody>\n",
       "</table>\n",
       "</div>"
      ],
      "text/plain": [
       "    PERMNO byvar      Date   RET  portfolio\n",
       "0    10516     a  1/1/2000   NaN          0\n",
       "1    10516     a  1/2/2000  1.02          1\n",
       "2    10516     a  1/3/2000  1.03          2\n",
       "3    10516     a  1/4/2000  1.04          2\n",
       "4    10516     b  1/1/2000  1.05          1\n",
       "5    10516     b  1/2/2000  1.06          1\n",
       "6    10516     b  1/3/2000  1.07          2\n",
       "7    10516     b  1/4/2000  1.08          2\n",
       "8    10517     a  1/1/2000  1.09          1\n",
       "9    10517     a  1/2/2000  1.10          1\n",
       "10   10517     a  1/3/2000  1.11          2\n",
       "11   10517     a  1/4/2000  1.12          2"
      ]
     },
     "execution_count": 7,
     "metadata": {},
     "output_type": "execute_result"
    }
   ],
   "source": [
    "a = dero.pandas.portfolio(df, 'RET', ngroups=2, byvars=['PERMNO','byvar'])\n",
    "# dero.pandas.to_copy_paste(a)\n",
    "a"
   ]
  },
  {
   "cell_type": "code",
   "execution_count": 5,
   "metadata": {
    "collapsed": true
   },
   "outputs": [],
   "source": [
    "dero.pandas.portfolio??"
   ]
  },
  {
   "cell_type": "code",
   "execution_count": 1,
   "metadata": {
    "collapsed": true
   },
   "outputs": [],
   "source": [
    "from sas7bdat import SAS7BDAT"
   ]
  },
  {
   "cell_type": "code",
   "execution_count": 5,
   "metadata": {
    "collapsed": true
   },
   "outputs": [],
   "source": [
    "dero.pandas.load_sas??"
   ]
  },
  {
   "cell_type": "code",
   "execution_count": 8,
   "metadata": {
    "collapsed": false
   },
   "outputs": [
    {
     "name": "stdout",
     "output_type": "stream",
     "text": [
      "pd.DataFrame(data = [\n",
      "('011508', 16114.0),\n",
      "('011508', 16482.0),\n",
      "('011508', 17178.0),\n",
      "('011508', 17197.0),\n",
      "('011508', 17212.0),\n",
      "], columns = ['gvkey', 'datadate'])\n"
     ]
    }
   ],
   "source": [
    "filepath = r'C:\\Users\\derobertisna.UFAD\\Google Drive\\CNC Partners\\Corbin + Nick\\Short-Selling Real Impacts\\Data\\short_int_insider.sas7bdat'\n",
    "df = SAS7BDAT(filepath).to_data_frame()\n",
    "dero.pandas.to_copy_paste(df[['gvkey','datadate']])"
   ]
  },
  {
   "cell_type": "code",
   "execution_count": 7,
   "metadata": {
    "collapsed": false
   },
   "outputs": [
    {
     "data": {
      "text/plain": [
       "5"
      ]
     },
     "execution_count": 7,
     "metadata": {},
     "output_type": "execute_result"
    }
   ],
   "source": [
    "len(df)"
   ]
  },
  {
   "cell_type": "code",
   "execution_count": 1,
   "metadata": {
    "collapsed": false
   },
   "outputs": [],
   "source": [
    "import dero"
   ]
  },
  {
   "cell_type": "code",
   "execution_count": 7,
   "metadata": {
    "collapsed": true
   },
   "outputs": [],
   "source": [
    "dero.data.get_ff_factors??"
   ]
  },
  {
   "cell_type": "code",
   "execution_count": 5,
   "metadata": {
    "collapsed": false
   },
   "outputs": [
    {
     "data": {
      "text/html": [
       "<div>\n",
       "<table border=\"1\" class=\"dataframe\">\n",
       "  <thead>\n",
       "    <tr style=\"text-align: right;\">\n",
       "      <th></th>\n",
       "      <th>PERMNO</th>\n",
       "      <th>byvar</th>\n",
       "      <th>Date</th>\n",
       "      <th>RET</th>\n",
       "      <th>mktrf</th>\n",
       "      <th>smb</th>\n",
       "      <th>hml</th>\n",
       "      <th>umd</th>\n",
       "      <th>rf</th>\n",
       "      <th>const</th>\n",
       "      <th>coef_mktrf</th>\n",
       "      <th>coef_smb</th>\n",
       "      <th>coef_hml</th>\n",
       "      <th>coef_umd</th>\n",
       "      <th>ABRET</th>\n",
       "    </tr>\n",
       "  </thead>\n",
       "  <tbody>\n",
       "    <tr>\n",
       "      <th>0</th>\n",
       "      <td>10516</td>\n",
       "      <td>a</td>\n",
       "      <td>2000-01-01</td>\n",
       "      <td>1.01</td>\n",
       "      <td>NaN</td>\n",
       "      <td>NaN</td>\n",
       "      <td>NaN</td>\n",
       "      <td>NaN</td>\n",
       "      <td>NaN</td>\n",
       "      <td>NaN</td>\n",
       "      <td>NaN</td>\n",
       "      <td>NaN</td>\n",
       "      <td>NaN</td>\n",
       "      <td>NaN</td>\n",
       "      <td>NaN</td>\n",
       "    </tr>\n",
       "    <tr>\n",
       "      <th>1</th>\n",
       "      <td>10516</td>\n",
       "      <td>a</td>\n",
       "      <td>2000-01-02</td>\n",
       "      <td>1.02</td>\n",
       "      <td>NaN</td>\n",
       "      <td>NaN</td>\n",
       "      <td>NaN</td>\n",
       "      <td>NaN</td>\n",
       "      <td>NaN</td>\n",
       "      <td>NaN</td>\n",
       "      <td>NaN</td>\n",
       "      <td>NaN</td>\n",
       "      <td>NaN</td>\n",
       "      <td>NaN</td>\n",
       "      <td>NaN</td>\n",
       "    </tr>\n",
       "    <tr>\n",
       "      <th>2</th>\n",
       "      <td>10516</td>\n",
       "      <td>a</td>\n",
       "      <td>2000-01-03</td>\n",
       "      <td>1.03</td>\n",
       "      <td>-0.0071</td>\n",
       "      <td>0.0044</td>\n",
       "      <td>-0.0091</td>\n",
       "      <td>-0.0011</td>\n",
       "      <td>0.00021</td>\n",
       "      <td>NaN</td>\n",
       "      <td>NaN</td>\n",
       "      <td>NaN</td>\n",
       "      <td>NaN</td>\n",
       "      <td>NaN</td>\n",
       "      <td>NaN</td>\n",
       "    </tr>\n",
       "    <tr>\n",
       "      <th>3</th>\n",
       "      <td>10516</td>\n",
       "      <td>a</td>\n",
       "      <td>2000-01-04</td>\n",
       "      <td>1.04</td>\n",
       "      <td>-0.0406</td>\n",
       "      <td>-0.0001</td>\n",
       "      <td>0.0242</td>\n",
       "      <td>-0.0187</td>\n",
       "      <td>0.00021</td>\n",
       "      <td>NaN</td>\n",
       "      <td>NaN</td>\n",
       "      <td>NaN</td>\n",
       "      <td>NaN</td>\n",
       "      <td>NaN</td>\n",
       "      <td>NaN</td>\n",
       "    </tr>\n",
       "    <tr>\n",
       "      <th>4</th>\n",
       "      <td>10516</td>\n",
       "      <td>b</td>\n",
       "      <td>2000-01-01</td>\n",
       "      <td>1.05</td>\n",
       "      <td>NaN</td>\n",
       "      <td>NaN</td>\n",
       "      <td>NaN</td>\n",
       "      <td>NaN</td>\n",
       "      <td>NaN</td>\n",
       "      <td>NaN</td>\n",
       "      <td>NaN</td>\n",
       "      <td>NaN</td>\n",
       "      <td>NaN</td>\n",
       "      <td>NaN</td>\n",
       "      <td>NaN</td>\n",
       "    </tr>\n",
       "    <tr>\n",
       "      <th>5</th>\n",
       "      <td>10516</td>\n",
       "      <td>b</td>\n",
       "      <td>2000-01-02</td>\n",
       "      <td>1.06</td>\n",
       "      <td>NaN</td>\n",
       "      <td>NaN</td>\n",
       "      <td>NaN</td>\n",
       "      <td>NaN</td>\n",
       "      <td>NaN</td>\n",
       "      <td>NaN</td>\n",
       "      <td>NaN</td>\n",
       "      <td>NaN</td>\n",
       "      <td>NaN</td>\n",
       "      <td>NaN</td>\n",
       "      <td>NaN</td>\n",
       "    </tr>\n",
       "    <tr>\n",
       "      <th>6</th>\n",
       "      <td>10516</td>\n",
       "      <td>b</td>\n",
       "      <td>2000-01-03</td>\n",
       "      <td>1.07</td>\n",
       "      <td>-0.0071</td>\n",
       "      <td>0.0044</td>\n",
       "      <td>-0.0091</td>\n",
       "      <td>-0.0011</td>\n",
       "      <td>0.00021</td>\n",
       "      <td>NaN</td>\n",
       "      <td>NaN</td>\n",
       "      <td>NaN</td>\n",
       "      <td>NaN</td>\n",
       "      <td>NaN</td>\n",
       "      <td>NaN</td>\n",
       "    </tr>\n",
       "    <tr>\n",
       "      <th>7</th>\n",
       "      <td>10516</td>\n",
       "      <td>b</td>\n",
       "      <td>2000-01-04</td>\n",
       "      <td>1.08</td>\n",
       "      <td>-0.0406</td>\n",
       "      <td>-0.0001</td>\n",
       "      <td>0.0242</td>\n",
       "      <td>-0.0187</td>\n",
       "      <td>0.00021</td>\n",
       "      <td>NaN</td>\n",
       "      <td>NaN</td>\n",
       "      <td>NaN</td>\n",
       "      <td>NaN</td>\n",
       "      <td>NaN</td>\n",
       "      <td>NaN</td>\n",
       "    </tr>\n",
       "    <tr>\n",
       "      <th>8</th>\n",
       "      <td>10517</td>\n",
       "      <td>a</td>\n",
       "      <td>2000-01-01</td>\n",
       "      <td>1.09</td>\n",
       "      <td>NaN</td>\n",
       "      <td>NaN</td>\n",
       "      <td>NaN</td>\n",
       "      <td>NaN</td>\n",
       "      <td>NaN</td>\n",
       "      <td>NaN</td>\n",
       "      <td>NaN</td>\n",
       "      <td>NaN</td>\n",
       "      <td>NaN</td>\n",
       "      <td>NaN</td>\n",
       "      <td>NaN</td>\n",
       "    </tr>\n",
       "    <tr>\n",
       "      <th>9</th>\n",
       "      <td>10517</td>\n",
       "      <td>a</td>\n",
       "      <td>2000-01-02</td>\n",
       "      <td>1.10</td>\n",
       "      <td>NaN</td>\n",
       "      <td>NaN</td>\n",
       "      <td>NaN</td>\n",
       "      <td>NaN</td>\n",
       "      <td>NaN</td>\n",
       "      <td>NaN</td>\n",
       "      <td>NaN</td>\n",
       "      <td>NaN</td>\n",
       "      <td>NaN</td>\n",
       "      <td>NaN</td>\n",
       "      <td>NaN</td>\n",
       "    </tr>\n",
       "    <tr>\n",
       "      <th>10</th>\n",
       "      <td>10517</td>\n",
       "      <td>a</td>\n",
       "      <td>2000-01-03</td>\n",
       "      <td>1.11</td>\n",
       "      <td>-0.0071</td>\n",
       "      <td>0.0044</td>\n",
       "      <td>-0.0091</td>\n",
       "      <td>-0.0011</td>\n",
       "      <td>0.00021</td>\n",
       "      <td>NaN</td>\n",
       "      <td>NaN</td>\n",
       "      <td>NaN</td>\n",
       "      <td>NaN</td>\n",
       "      <td>NaN</td>\n",
       "      <td>NaN</td>\n",
       "    </tr>\n",
       "    <tr>\n",
       "      <th>11</th>\n",
       "      <td>10517</td>\n",
       "      <td>a</td>\n",
       "      <td>2000-01-04</td>\n",
       "      <td>1.12</td>\n",
       "      <td>-0.0406</td>\n",
       "      <td>-0.0001</td>\n",
       "      <td>0.0242</td>\n",
       "      <td>-0.0187</td>\n",
       "      <td>0.00021</td>\n",
       "      <td>NaN</td>\n",
       "      <td>NaN</td>\n",
       "      <td>NaN</td>\n",
       "      <td>NaN</td>\n",
       "      <td>NaN</td>\n",
       "      <td>NaN</td>\n",
       "    </tr>\n",
       "  </tbody>\n",
       "</table>\n",
       "</div>"
      ],
      "text/plain": [
       "    PERMNO byvar       Date   RET   mktrf     smb     hml     umd       rf  \\\n",
       "0    10516     a 2000-01-01  1.01     NaN     NaN     NaN     NaN      NaN   \n",
       "1    10516     a 2000-01-02  1.02     NaN     NaN     NaN     NaN      NaN   \n",
       "2    10516     a 2000-01-03  1.03 -0.0071  0.0044 -0.0091 -0.0011  0.00021   \n",
       "3    10516     a 2000-01-04  1.04 -0.0406 -0.0001  0.0242 -0.0187  0.00021   \n",
       "4    10516     b 2000-01-01  1.05     NaN     NaN     NaN     NaN      NaN   \n",
       "5    10516     b 2000-01-02  1.06     NaN     NaN     NaN     NaN      NaN   \n",
       "6    10516     b 2000-01-03  1.07 -0.0071  0.0044 -0.0091 -0.0011  0.00021   \n",
       "7    10516     b 2000-01-04  1.08 -0.0406 -0.0001  0.0242 -0.0187  0.00021   \n",
       "8    10517     a 2000-01-01  1.09     NaN     NaN     NaN     NaN      NaN   \n",
       "9    10517     a 2000-01-02  1.10     NaN     NaN     NaN     NaN      NaN   \n",
       "10   10517     a 2000-01-03  1.11 -0.0071  0.0044 -0.0091 -0.0011  0.00021   \n",
       "11   10517     a 2000-01-04  1.12 -0.0406 -0.0001  0.0242 -0.0187  0.00021   \n",
       "\n",
       "    const  coef_mktrf  coef_smb  coef_hml  coef_umd  ABRET  \n",
       "0     NaN         NaN       NaN       NaN       NaN    NaN  \n",
       "1     NaN         NaN       NaN       NaN       NaN    NaN  \n",
       "2     NaN         NaN       NaN       NaN       NaN    NaN  \n",
       "3     NaN         NaN       NaN       NaN       NaN    NaN  \n",
       "4     NaN         NaN       NaN       NaN       NaN    NaN  \n",
       "5     NaN         NaN       NaN       NaN       NaN    NaN  \n",
       "6     NaN         NaN       NaN       NaN       NaN    NaN  \n",
       "7     NaN         NaN       NaN       NaN       NaN    NaN  \n",
       "8     NaN         NaN       NaN       NaN       NaN    NaN  \n",
       "9     NaN         NaN       NaN       NaN       NaN    NaN  \n",
       "10    NaN         NaN       NaN       NaN       NaN    NaN  \n",
       "11    NaN         NaN       NaN       NaN       NaN    NaN  "
      ]
     },
     "execution_count": 5,
     "metadata": {},
     "output_type": "execute_result"
    }
   ],
   "source": [
    "out = dero.data.get_ff_factors(df, subset=['mktrf','smb','hml','umd'], fulldatevar='Date', freq='d')\n",
    "dero.pandas.factor_reg_by(out, ['PERMNO','byvar'])"
   ]
  },
  {
   "cell_type": "code",
   "execution_count": 11,
   "metadata": {
    "collapsed": false
   },
   "outputs": [
    {
     "data": {
      "text/plain": [
       "[('Equally', 'Raw'),\n",
       " ('Equally', 'Stable'),\n",
       " ('Value', 'Raw'),\n",
       " ('Value', 'Stable')]"
      ]
     },
     "execution_count": 11,
     "metadata": {},
     "output_type": "execute_result"
    }
   ],
   "source": [
    "import itertools\n",
    "list(itertools.product(['Equally','Value'],['Raw','Stable']))"
   ]
  },
  {
   "cell_type": "code",
   "execution_count": 7,
   "metadata": {
    "collapsed": false
   },
   "outputs": [
    {
     "data": {
      "text/plain": [
       "{'abcf': 1, 'deff': 2}"
      ]
     },
     "execution_count": 7,
     "metadata": {},
     "output_type": "execute_result"
    }
   ],
   "source": [
    "a = {'abc':1, 'def':2}\n",
    "b = {}\n",
    "for key in a:\n",
    "    new_key = key + 'f'\n",
    "    val = a[key]\n",
    "    b[new_key] = val\n",
    "b"
   ]
  },
  {
   "cell_type": "code",
   "execution_count": 9,
   "metadata": {
    "collapsed": false
   },
   "outputs": [
    {
     "name": "stdout",
     "output_type": "stream",
     "text": [
      "pd.DataFrame(data = [\n",
      "(10516, 'a', Timestamp('2000-01-02 00:00:00'), 1.01, nan, nan, 1.031101001907351, 0.06796308070068235, nan),\n",
      "(10516, 'a', Timestamp('2000-01-03 00:00:00'), 1.02, -0.0071, 0.00021, 1.031101001907351, 0.06796308070068235, 1.020482537872975),\n",
      "(10516, 'a', Timestamp('2000-01-04 00:00:00'), 1.03, -0.0406, 0.00021, 1.031101001907351, 0.06796308070068235, 1.0327593010764478),\n",
      "(10516, 'a', Timestamp('2000-01-05 00:00:00'), 1.04, -0.0009, 0.00021, 1.031101001907351, 0.06796308070068235, 1.0400611667726307),\n",
      "(10516, 'b', Timestamp('2000-01-02 00:00:00'), 1.05, nan, nan, 1.071101001907351, 0.06796308070068591, nan),\n",
      "(10516, 'b', Timestamp('2000-01-03 00:00:00'), 1.06, -0.0071, 0.00021, 1.071101001907351, 0.06796308070068591, 1.060482537872975),\n",
      "(10516, 'b', Timestamp('2000-01-04 00:00:00'), 1.07, -0.0406, 0.00021, 1.071101001907351, 0.06796308070068591, 1.072759301076448),\n",
      "(10516, 'b', Timestamp('2000-01-05 00:00:00'), 1.08, -0.0009, 0.00021, 1.071101001907351, 0.06796308070068591, 1.0800611667726308),\n",
      "(10517, 'a', Timestamp('2000-01-02 00:00:00'), 1.09, nan, nan, 1.111101001907351, 0.06796308070068235, nan),\n",
      "(10517, 'a', Timestamp('2000-01-03 00:00:00'), 1.1, -0.0071, 0.00021, 1.111101001907351, 0.06796308070068235, 1.100482537872975),\n",
      "(10517, 'a', Timestamp('2000-01-04 00:00:00'), 1.11, -0.0406, 0.00021, 1.111101001907351, 0.06796308070068235, 1.1127593010764478),\n",
      "(10517, 'a', Timestamp('2000-01-05 00:00:00'), 1.12, -0.0009, 0.00021, 1.111101001907351, 0.06796308070068235, 1.1200611667726308),\n",
      "], columns = ['PERMNO', 'byvar', 'Date', 'RET', 'mktrf', 'rf', 'const', 'coef_mktrf', 'ABRET'])\n"
     ]
    }
   ],
   "source": [
    "import datetime\n",
    "# df['Date'] = pd.to_datetime(df['Date']) + datetime.timedelta(days=1)\n",
    "a = dero.data.get_abret(df, ['PERMNO','byvar'], freq='d', abret_fac=1, includecoef=True, includefac=True)\n",
    "dero.pandas.to_copy_paste(a)"
   ]
  },
  {
   "cell_type": "code",
   "execution_count": 13,
   "metadata": {
    "collapsed": true
   },
   "outputs": [],
   "source": [
    "dero.data.get_abret?"
   ]
  },
  {
   "cell_type": "code",
   "execution_count": 10,
   "metadata": {
    "collapsed": false
   },
   "outputs": [
    {
     "data": {
      "text/html": [
       "<div>\n",
       "<table border=\"1\" class=\"dataframe\">\n",
       "  <thead>\n",
       "    <tr style=\"text-align: right;\">\n",
       "      <th></th>\n",
       "      <th>PERMNO</th>\n",
       "      <th>byvar</th>\n",
       "      <th>Date</th>\n",
       "      <th>RET</th>\n",
       "      <th>mktrf</th>\n",
       "      <th>rf</th>\n",
       "      <th>const</th>\n",
       "      <th>coef_mktrf</th>\n",
       "      <th>ABRET</th>\n",
       "    </tr>\n",
       "  </thead>\n",
       "  <tbody>\n",
       "    <tr>\n",
       "      <th>0</th>\n",
       "      <td>10516</td>\n",
       "      <td>a</td>\n",
       "      <td>2000-01-02</td>\n",
       "      <td>1.01</td>\n",
       "      <td>NaN</td>\n",
       "      <td>NaN</td>\n",
       "      <td>1.031101</td>\n",
       "      <td>0.067963</td>\n",
       "      <td>NaN</td>\n",
       "    </tr>\n",
       "    <tr>\n",
       "      <th>1</th>\n",
       "      <td>10516</td>\n",
       "      <td>a</td>\n",
       "      <td>2000-01-03</td>\n",
       "      <td>1.02</td>\n",
       "      <td>-0.0071</td>\n",
       "      <td>0.00021</td>\n",
       "      <td>1.031101</td>\n",
       "      <td>0.067963</td>\n",
       "      <td>1.020483</td>\n",
       "    </tr>\n",
       "    <tr>\n",
       "      <th>2</th>\n",
       "      <td>10516</td>\n",
       "      <td>a</td>\n",
       "      <td>2000-01-04</td>\n",
       "      <td>1.03</td>\n",
       "      <td>-0.0406</td>\n",
       "      <td>0.00021</td>\n",
       "      <td>1.031101</td>\n",
       "      <td>0.067963</td>\n",
       "      <td>1.032759</td>\n",
       "    </tr>\n",
       "    <tr>\n",
       "      <th>3</th>\n",
       "      <td>10516</td>\n",
       "      <td>a</td>\n",
       "      <td>2000-01-05</td>\n",
       "      <td>1.04</td>\n",
       "      <td>-0.0009</td>\n",
       "      <td>0.00021</td>\n",
       "      <td>1.031101</td>\n",
       "      <td>0.067963</td>\n",
       "      <td>1.040061</td>\n",
       "    </tr>\n",
       "    <tr>\n",
       "      <th>4</th>\n",
       "      <td>10516</td>\n",
       "      <td>b</td>\n",
       "      <td>2000-01-02</td>\n",
       "      <td>1.05</td>\n",
       "      <td>NaN</td>\n",
       "      <td>NaN</td>\n",
       "      <td>1.071101</td>\n",
       "      <td>0.067963</td>\n",
       "      <td>NaN</td>\n",
       "    </tr>\n",
       "    <tr>\n",
       "      <th>5</th>\n",
       "      <td>10516</td>\n",
       "      <td>b</td>\n",
       "      <td>2000-01-03</td>\n",
       "      <td>1.06</td>\n",
       "      <td>-0.0071</td>\n",
       "      <td>0.00021</td>\n",
       "      <td>1.071101</td>\n",
       "      <td>0.067963</td>\n",
       "      <td>1.060483</td>\n",
       "    </tr>\n",
       "    <tr>\n",
       "      <th>6</th>\n",
       "      <td>10516</td>\n",
       "      <td>b</td>\n",
       "      <td>2000-01-04</td>\n",
       "      <td>1.07</td>\n",
       "      <td>-0.0406</td>\n",
       "      <td>0.00021</td>\n",
       "      <td>1.071101</td>\n",
       "      <td>0.067963</td>\n",
       "      <td>1.072759</td>\n",
       "    </tr>\n",
       "    <tr>\n",
       "      <th>7</th>\n",
       "      <td>10516</td>\n",
       "      <td>b</td>\n",
       "      <td>2000-01-05</td>\n",
       "      <td>1.08</td>\n",
       "      <td>-0.0009</td>\n",
       "      <td>0.00021</td>\n",
       "      <td>1.071101</td>\n",
       "      <td>0.067963</td>\n",
       "      <td>1.080061</td>\n",
       "    </tr>\n",
       "    <tr>\n",
       "      <th>8</th>\n",
       "      <td>10517</td>\n",
       "      <td>a</td>\n",
       "      <td>2000-01-02</td>\n",
       "      <td>1.09</td>\n",
       "      <td>NaN</td>\n",
       "      <td>NaN</td>\n",
       "      <td>1.111101</td>\n",
       "      <td>0.067963</td>\n",
       "      <td>NaN</td>\n",
       "    </tr>\n",
       "    <tr>\n",
       "      <th>9</th>\n",
       "      <td>10517</td>\n",
       "      <td>a</td>\n",
       "      <td>2000-01-03</td>\n",
       "      <td>1.10</td>\n",
       "      <td>-0.0071</td>\n",
       "      <td>0.00021</td>\n",
       "      <td>1.111101</td>\n",
       "      <td>0.067963</td>\n",
       "      <td>1.100483</td>\n",
       "    </tr>\n",
       "    <tr>\n",
       "      <th>10</th>\n",
       "      <td>10517</td>\n",
       "      <td>a</td>\n",
       "      <td>2000-01-04</td>\n",
       "      <td>1.11</td>\n",
       "      <td>-0.0406</td>\n",
       "      <td>0.00021</td>\n",
       "      <td>1.111101</td>\n",
       "      <td>0.067963</td>\n",
       "      <td>1.112759</td>\n",
       "    </tr>\n",
       "    <tr>\n",
       "      <th>11</th>\n",
       "      <td>10517</td>\n",
       "      <td>a</td>\n",
       "      <td>2000-01-05</td>\n",
       "      <td>1.12</td>\n",
       "      <td>-0.0009</td>\n",
       "      <td>0.00021</td>\n",
       "      <td>1.111101</td>\n",
       "      <td>0.067963</td>\n",
       "      <td>1.120061</td>\n",
       "    </tr>\n",
       "  </tbody>\n",
       "</table>\n",
       "</div>"
      ],
      "text/plain": [
       "    PERMNO byvar       Date   RET   mktrf       rf     const  coef_mktrf  \\\n",
       "0    10516     a 2000-01-02  1.01     NaN      NaN  1.031101    0.067963   \n",
       "1    10516     a 2000-01-03  1.02 -0.0071  0.00021  1.031101    0.067963   \n",
       "2    10516     a 2000-01-04  1.03 -0.0406  0.00021  1.031101    0.067963   \n",
       "3    10516     a 2000-01-05  1.04 -0.0009  0.00021  1.031101    0.067963   \n",
       "4    10516     b 2000-01-02  1.05     NaN      NaN  1.071101    0.067963   \n",
       "5    10516     b 2000-01-03  1.06 -0.0071  0.00021  1.071101    0.067963   \n",
       "6    10516     b 2000-01-04  1.07 -0.0406  0.00021  1.071101    0.067963   \n",
       "7    10516     b 2000-01-05  1.08 -0.0009  0.00021  1.071101    0.067963   \n",
       "8    10517     a 2000-01-02  1.09     NaN      NaN  1.111101    0.067963   \n",
       "9    10517     a 2000-01-03  1.10 -0.0071  0.00021  1.111101    0.067963   \n",
       "10   10517     a 2000-01-04  1.11 -0.0406  0.00021  1.111101    0.067963   \n",
       "11   10517     a 2000-01-05  1.12 -0.0009  0.00021  1.111101    0.067963   \n",
       "\n",
       "       ABRET  \n",
       "0        NaN  \n",
       "1   1.020483  \n",
       "2   1.032759  \n",
       "3   1.040061  \n",
       "4        NaN  \n",
       "5   1.060483  \n",
       "6   1.072759  \n",
       "7   1.080061  \n",
       "8        NaN  \n",
       "9   1.100483  \n",
       "10  1.112759  \n",
       "11  1.120061  "
      ]
     },
     "execution_count": 10,
     "metadata": {},
     "output_type": "execute_result"
    }
   ],
   "source": [
    "a"
   ]
  },
  {
   "cell_type": "code",
   "execution_count": 4,
   "metadata": {
    "collapsed": false
   },
   "outputs": [
    {
     "name": "stdout",
     "output_type": "stream",
     "text": [
      "> c:\\anaconda3\\lib\\site-packages\\pandas\\indexes\\base.py(3051)drop()\n",
      "-> labels[mask])\n",
      "(Pdb) u\n",
      "> c:\\anaconda3\\lib\\site-packages\\pandas\\core\\generic.py(1877)drop()\n",
      "-> new_axis = axis.drop(labels, errors=errors)\n",
      "(Pdb) u\n",
      "> c:\\users\\derobertisna.ufad\\dropbox\\python\\dero\\dero\\data.py(628)get_abret()\n",
      "-> out.drop(['const'] + [fac + '_coef' for fac in factors], axis=1, inplace=True)\n",
      "(Pdb) out\n",
      "    PERMNO byvar       Date   RET      rf  const  coef_mktrf  coef_smb  \\\n",
      "0    10516     a 2000-01-01  1.01  0.0041    NaN         NaN       NaN   \n",
      "1    10516     a 2000-01-02  1.02  0.0041    NaN         NaN       NaN   \n",
      "2    10516     a 2000-01-03  1.03  0.0041    NaN         NaN       NaN   \n",
      "3    10516     a 2000-01-04  1.04  0.0041    NaN         NaN       NaN   \n",
      "4    10516     b 2000-01-01  1.05  0.0041    NaN         NaN       NaN   \n",
      "5    10516     b 2000-01-02  1.06  0.0041    NaN         NaN       NaN   \n",
      "6    10516     b 2000-01-03  1.07  0.0041    NaN         NaN       NaN   \n",
      "7    10516     b 2000-01-04  1.08  0.0041    NaN         NaN       NaN   \n",
      "8    10517     a 2000-01-01  1.09  0.0041    NaN         NaN       NaN   \n",
      "9    10517     a 2000-01-02  1.10  0.0041    NaN         NaN       NaN   \n",
      "10   10517     a 2000-01-03  1.11  0.0041    NaN         NaN       NaN   \n",
      "11   10517     a 2000-01-04  1.12  0.0041    NaN         NaN       NaN   \n",
      "\n",
      "    coef_hml  coef_umd  ABRET  \n",
      "0        NaN       NaN    NaN  \n",
      "1        NaN       NaN    NaN  \n",
      "2        NaN       NaN    NaN  \n",
      "3        NaN       NaN    NaN  \n",
      "4        NaN       NaN    NaN  \n",
      "5        NaN       NaN    NaN  \n",
      "6        NaN       NaN    NaN  \n",
      "7        NaN       NaN    NaN  \n",
      "8        NaN       NaN    NaN  \n",
      "9        NaN       NaN    NaN  \n",
      "10       NaN       NaN    NaN  \n",
      "11       NaN       NaN    NaN  \n",
      "(Pdb) quit\n"
     ]
    }
   ],
   "source": [
    "import pdb; pdb.pm()"
   ]
  },
  {
   "cell_type": "code",
   "execution_count": 3,
   "metadata": {
    "collapsed": false
   },
   "outputs": [],
   "source": [
    "indf = df_weight.copy()\n",
    "indf['key'] = indf['PERMNO'].astype(str) + '_' + indf['byvar']"
   ]
  },
  {
   "cell_type": "code",
   "execution_count": 9,
   "metadata": {
    "collapsed": false
   },
   "outputs": [
    {
     "data": {
      "text/html": [
       "<div>\n",
       "<table border=\"1\" class=\"dataframe\">\n",
       "  <thead>\n",
       "    <tr style=\"text-align: right;\">\n",
       "      <th></th>\n",
       "      <th>PERMNO</th>\n",
       "      <th>byvar</th>\n",
       "      <th>Date</th>\n",
       "      <th>RET</th>\n",
       "      <th>weight</th>\n",
       "      <th>key</th>\n",
       "    </tr>\n",
       "  </thead>\n",
       "  <tbody>\n",
       "    <tr>\n",
       "      <th>0</th>\n",
       "      <td>10516</td>\n",
       "      <td>a</td>\n",
       "      <td>1/1/2000</td>\n",
       "      <td>1.01</td>\n",
       "      <td>0</td>\n",
       "      <td>10516_a</td>\n",
       "    </tr>\n",
       "    <tr>\n",
       "      <th>1</th>\n",
       "      <td>10516</td>\n",
       "      <td>a</td>\n",
       "      <td>1/2/2000</td>\n",
       "      <td>1.02</td>\n",
       "      <td>1</td>\n",
       "      <td>10516_a</td>\n",
       "    </tr>\n",
       "    <tr>\n",
       "      <th>2</th>\n",
       "      <td>10516</td>\n",
       "      <td>a</td>\n",
       "      <td>1/3/2000</td>\n",
       "      <td>1.03</td>\n",
       "      <td>1</td>\n",
       "      <td>10516_a</td>\n",
       "    </tr>\n",
       "    <tr>\n",
       "      <th>3</th>\n",
       "      <td>10516</td>\n",
       "      <td>a</td>\n",
       "      <td>1/4/2000</td>\n",
       "      <td>1.04</td>\n",
       "      <td>0</td>\n",
       "      <td>10516_a</td>\n",
       "    </tr>\n",
       "    <tr>\n",
       "      <th>4</th>\n",
       "      <td>10516</td>\n",
       "      <td>b</td>\n",
       "      <td>1/1/2000</td>\n",
       "      <td>1.05</td>\n",
       "      <td>1</td>\n",
       "      <td>10516_b</td>\n",
       "    </tr>\n",
       "    <tr>\n",
       "      <th>5</th>\n",
       "      <td>10516</td>\n",
       "      <td>b</td>\n",
       "      <td>1/2/2000</td>\n",
       "      <td>1.06</td>\n",
       "      <td>1</td>\n",
       "      <td>10516_b</td>\n",
       "    </tr>\n",
       "    <tr>\n",
       "      <th>6</th>\n",
       "      <td>10516</td>\n",
       "      <td>b</td>\n",
       "      <td>1/3/2000</td>\n",
       "      <td>1.07</td>\n",
       "      <td>1</td>\n",
       "      <td>10516_b</td>\n",
       "    </tr>\n",
       "    <tr>\n",
       "      <th>7</th>\n",
       "      <td>10516</td>\n",
       "      <td>b</td>\n",
       "      <td>1/4/2000</td>\n",
       "      <td>1.08</td>\n",
       "      <td>1</td>\n",
       "      <td>10516_b</td>\n",
       "    </tr>\n",
       "    <tr>\n",
       "      <th>8</th>\n",
       "      <td>10517</td>\n",
       "      <td>a</td>\n",
       "      <td>1/1/2000</td>\n",
       "      <td>1.09</td>\n",
       "      <td>0</td>\n",
       "      <td>10517_a</td>\n",
       "    </tr>\n",
       "  </tbody>\n",
       "</table>\n",
       "</div>"
      ],
      "text/plain": [
       "   PERMNO byvar      Date   RET  weight      key\n",
       "0   10516     a  1/1/2000  1.01       0  10516_a\n",
       "1   10516     a  1/2/2000  1.02       1  10516_a\n",
       "2   10516     a  1/3/2000  1.03       1  10516_a\n",
       "3   10516     a  1/4/2000  1.04       0  10516_a\n",
       "4   10516     b  1/1/2000  1.05       1  10516_b\n",
       "5   10516     b  1/2/2000  1.06       1  10516_b\n",
       "6   10516     b  1/3/2000  1.07       1  10516_b\n",
       "7   10516     b  1/4/2000  1.08       1  10516_b\n",
       "8   10517     a  1/1/2000  1.09       0  10517_a"
      ]
     },
     "execution_count": 9,
     "metadata": {},
     "output_type": "execute_result"
    }
   ],
   "source": [
    "indf.loc[:8,:]"
   ]
  },
  {
   "cell_type": "code",
   "execution_count": 21,
   "metadata": {
    "collapsed": false
   },
   "outputs": [
    {
     "ename": "AttributeError",
     "evalue": "'DataFrame' object has no attribute 'unique'",
     "traceback": [
      "\u001b[1;31m---------------------------------------------------------------------------\u001b[0m",
      "\u001b[1;31mAttributeError\u001b[0m                            Traceback (most recent call last)",
      "\u001b[1;32m<ipython-input-21-2e974a3607ac>\u001b[0m in \u001b[0;36m<module>\u001b[1;34m()\u001b[0m\n\u001b[1;32m----> 1\u001b[1;33m \u001b[0mindf\u001b[0m\u001b[1;33m[\u001b[0m\u001b[1;33m[\u001b[0m\u001b[1;34m'PERMNO'\u001b[0m\u001b[1;33m,\u001b[0m\u001b[1;34m'byvar'\u001b[0m\u001b[1;33m]\u001b[0m\u001b[1;33m]\u001b[0m\u001b[1;33m.\u001b[0m\u001b[0munique\u001b[0m\u001b[1;33m(\u001b[0m\u001b[1;33m)\u001b[0m\u001b[1;33m\u001b[0m\u001b[0m\n\u001b[0m",
      "\u001b[1;32mC:\\Anaconda3\\lib\\site-packages\\pandas\\core\\generic.py\u001b[0m in \u001b[0;36m__getattr__\u001b[1;34m(self, name)\u001b[0m\n\u001b[0;32m   2670\u001b[0m             \u001b[1;32mif\u001b[0m \u001b[0mname\u001b[0m \u001b[1;32min\u001b[0m \u001b[0mself\u001b[0m\u001b[1;33m.\u001b[0m\u001b[0m_info_axis\u001b[0m\u001b[1;33m:\u001b[0m\u001b[1;33m\u001b[0m\u001b[0m\n\u001b[0;32m   2671\u001b[0m                 \u001b[1;32mreturn\u001b[0m \u001b[0mself\u001b[0m\u001b[1;33m[\u001b[0m\u001b[0mname\u001b[0m\u001b[1;33m]\u001b[0m\u001b[1;33m\u001b[0m\u001b[0m\n\u001b[1;32m-> 2672\u001b[1;33m             \u001b[1;32mreturn\u001b[0m \u001b[0mobject\u001b[0m\u001b[1;33m.\u001b[0m\u001b[0m__getattribute__\u001b[0m\u001b[1;33m(\u001b[0m\u001b[0mself\u001b[0m\u001b[1;33m,\u001b[0m \u001b[0mname\u001b[0m\u001b[1;33m)\u001b[0m\u001b[1;33m\u001b[0m\u001b[0m\n\u001b[0m\u001b[0;32m   2673\u001b[0m \u001b[1;33m\u001b[0m\u001b[0m\n\u001b[0;32m   2674\u001b[0m     \u001b[1;32mdef\u001b[0m \u001b[0m__setattr__\u001b[0m\u001b[1;33m(\u001b[0m\u001b[0mself\u001b[0m\u001b[1;33m,\u001b[0m \u001b[0mname\u001b[0m\u001b[1;33m,\u001b[0m \u001b[0mvalue\u001b[0m\u001b[1;33m)\u001b[0m\u001b[1;33m:\u001b[0m\u001b[1;33m\u001b[0m\u001b[0m\n",
      "\u001b[1;31mAttributeError\u001b[0m: 'DataFrame' object has no attribute 'unique'"
     ],
     "output_type": "error"
    }
   ],
   "source": [
    "indf[['PERMNO','byvar']].unique()"
   ]
  },
  {
   "cell_type": "code",
   "execution_count": 10,
   "metadata": {
    "collapsed": false
   },
   "outputs": [
    {
     "data": {
      "text/html": [
       "<div>\n",
       "<table border=\"1\" class=\"dataframe\">\n",
       "  <thead>\n",
       "    <tr style=\"text-align: right;\">\n",
       "      <th></th>\n",
       "      <th>const</th>\n",
       "      <th>coef_RET</th>\n",
       "      <th>key</th>\n",
       "    </tr>\n",
       "  </thead>\n",
       "  <tbody>\n",
       "    <tr>\n",
       "      <th>0</th>\n",
       "      <td>0.5</td>\n",
       "      <td>5.329071e-15</td>\n",
       "      <td>10516_a</td>\n",
       "    </tr>\n",
       "    <tr>\n",
       "      <th>1</th>\n",
       "      <td>1.0</td>\n",
       "      <td>1.065814e-14</td>\n",
       "      <td>10516_b</td>\n",
       "    </tr>\n",
       "    <tr>\n",
       "      <th>2</th>\n",
       "      <td>NaN</td>\n",
       "      <td>NaN</td>\n",
       "      <td>10517_a</td>\n",
       "    </tr>\n",
       "  </tbody>\n",
       "</table>\n",
       "</div>"
      ],
      "text/plain": [
       "   const      coef_RET      key\n",
       "0    0.5  5.329071e-15  10516_a\n",
       "1    1.0  1.065814e-14  10516_b\n",
       "2    NaN           NaN  10517_a"
      ]
     },
     "execution_count": 10,
     "metadata": {},
     "output_type": "execute_result"
    }
   ],
   "source": [
    "rb = dero.pandas.reg_by(indf.loc[:8,:], 'weight', 'RET', 'key', cons=True)\n",
    "# dero.pandas.to_copy_paste(rb)\n",
    "rb"
   ]
  },
  {
   "cell_type": "code",
   "execution_count": 20,
   "metadata": {
    "collapsed": false
   },
   "outputs": [
    {
     "name": "stdout",
     "output_type": "stream",
     "text": [
      "pd.DataFrame(data = [\n",
      "(0.49999999999999645, 5.329070518200751e-15, '10516_a'),\n",
      "(0.9999999999999893, 1.0658141036401503e-14, '10516_b'),\n",
      "(nan, nan, '10517_a'),\n",
      "], columns = ['const', 'coef_RET', 'key'])\n"
     ]
    }
   ],
   "source": [
    "dero.pandas.to_copy_paste(rb)"
   ]
  },
  {
   "cell_type": "code",
   "execution_count": 2,
   "metadata": {
    "collapsed": false
   },
   "outputs": [],
   "source": [
    "import testing_rename"
   ]
  },
  {
   "cell_type": "code",
   "execution_count": 3,
   "metadata": {
    "collapsed": true
   },
   "outputs": [],
   "source": [
    "testing_rename.time2.sleep(3)"
   ]
  },
  {
   "cell_type": "code",
   "execution_count": 5,
   "metadata": {
    "collapsed": false
   },
   "outputs": [],
   "source": [
    "import time"
   ]
  },
  {
   "cell_type": "code",
   "execution_count": 1,
   "metadata": {
    "collapsed": false
   },
   "outputs": [
    {
     "ename": "ImportError",
     "evalue": "No module named 'time2'",
     "traceback": [
      "\u001b[1;31m---------------------------------------------------------------------------\u001b[0m",
      "\u001b[1;31mImportError\u001b[0m                               Traceback (most recent call last)",
      "\u001b[1;32m<ipython-input-1-25cc662a2852>\u001b[0m in \u001b[0;36m<module>\u001b[1;34m()\u001b[0m\n\u001b[1;32m----> 1\u001b[1;33m \u001b[1;32mimport\u001b[0m \u001b[0mtime2\u001b[0m\u001b[1;33m\u001b[0m\u001b[0m\n\u001b[0m",
      "\u001b[1;31mImportError\u001b[0m: No module named 'time2'"
     ],
     "output_type": "error"
    }
   ],
   "source": [
    "import time2"
   ]
  },
  {
   "cell_type": "code",
   "execution_count": 1,
   "metadata": {
    "collapsed": false
   },
   "outputs": [
    {
     "name": "stdout",
     "output_type": "stream",
     "text": [
      "Overwriting testing_rename.py\n"
     ]
    }
   ],
   "source": [
    "%%writefile testing_rename.py\n",
    "\n",
    "import sys, time\n",
    "\n",
    "sys.modules['time2'] = time\n",
    "\n",
    "import time2\n",
    "\n",
    "del time\n",
    "del sys.modules['time2']"
   ]
  },
  {
   "cell_type": "code",
   "execution_count": 4,
   "metadata": {
    "collapsed": false
   },
   "outputs": [
    {
     "ename": "NameError",
     "evalue": "name 'time2' is not defined",
     "traceback": [
      "\u001b[1;31m---------------------------------------------------------------------------\u001b[0m",
      "\u001b[1;31mNameError\u001b[0m                                 Traceback (most recent call last)",
      "\u001b[1;32m<ipython-input-4-4fadb8701146>\u001b[0m in \u001b[0;36m<module>\u001b[1;34m()\u001b[0m\n\u001b[1;32m----> 1\u001b[1;33m \u001b[0mtime2\u001b[0m\u001b[1;33m\u001b[0m\u001b[0m\n\u001b[0m",
      "\u001b[1;31mNameError\u001b[0m: name 'time2' is not defined"
     ],
     "output_type": "error"
    }
   ],
   "source": [
    "time2"
   ]
  },
  {
   "cell_type": "code",
   "execution_count": 2,
   "metadata": {
    "collapsed": false
   },
   "outputs": [
    {
     "data": {
      "text/plain": [
       "['__builtins__',\n",
       " '__cached__',\n",
       " '__dero_version__',\n",
       " '__doc__',\n",
       " '__file__',\n",
       " '__loader__',\n",
       " '__name__',\n",
       " '__package__',\n",
       " '__path__',\n",
       " '__spec__',\n",
       " '__version__',\n",
       " '__version_info__',\n",
       " 'core',\n",
       " 'data',\n",
       " 'decorators',\n",
       " 'dero',\n",
       " 'ext_logging',\n",
       " 'ext_matplotlib',\n",
       " 'ext_multiprocessing',\n",
       " 'ext_pandas',\n",
       " 'ext_selenium',\n",
       " 'ext_sympy',\n",
       " 'ext_time',\n",
       " 'latex',\n",
       " 'pdf',\n",
       " 'sys']"
      ]
     },
     "execution_count": 2,
     "metadata": {},
     "output_type": "execute_result"
    }
   ],
   "source": [
    "dir(dero)"
   ]
  },
  {
   "cell_type": "code",
   "execution_count": 11,
   "metadata": {
    "collapsed": false
   },
   "outputs": [
    {
     "data": {
      "text/html": [
       "<div>\n",
       "<table border=\"1\" class=\"dataframe\">\n",
       "  <thead>\n",
       "    <tr style=\"text-align: right;\">\n",
       "      <th></th>\n",
       "      <th>byvar</th>\n",
       "      <th>val</th>\n",
       "    </tr>\n",
       "  </thead>\n",
       "  <tbody>\n",
       "    <tr>\n",
       "      <th>0</th>\n",
       "      <td>a</td>\n",
       "      <td>1.0</td>\n",
       "    </tr>\n",
       "    <tr>\n",
       "      <th>1</th>\n",
       "      <td>NaN</td>\n",
       "      <td>2.0</td>\n",
       "    </tr>\n",
       "    <tr>\n",
       "      <th>2</th>\n",
       "      <td>b</td>\n",
       "      <td>NaN</td>\n",
       "    </tr>\n",
       "    <tr>\n",
       "      <th>3</th>\n",
       "      <td>b</td>\n",
       "      <td>4.0</td>\n",
       "    </tr>\n",
       "  </tbody>\n",
       "</table>\n",
       "</div>"
      ],
      "text/plain": [
       "  byvar  val\n",
       "0     a  1.0\n",
       "1   NaN  2.0\n",
       "2     b  NaN\n",
       "3     b  4.0"
      ]
     },
     "execution_count": 11,
     "metadata": {},
     "output_type": "execute_result"
    }
   ],
   "source": [
    "df_nan_byvar_and_val"
   ]
  },
  {
   "cell_type": "code",
   "execution_count": 13,
   "metadata": {
    "collapsed": false
   },
   "outputs": [
    {
     "ename": "ValueError",
     "evalue": "could not convert string to float: 'sdf'",
     "traceback": [
      "\u001b[1;31m---------------------------------------------------------------------------\u001b[0m",
      "\u001b[1;31mValueError\u001b[0m                                Traceback (most recent call last)",
      "\u001b[1;32m<ipython-input-13-344e3101653f>\u001b[0m in \u001b[0;36m<module>\u001b[1;34m()\u001b[0m\n\u001b[1;32m----> 1\u001b[1;33m \u001b[0mfloat\u001b[0m\u001b[1;33m(\u001b[0m\u001b[1;34m'sdf'\u001b[0m\u001b[1;33m)\u001b[0m\u001b[1;33m\u001b[0m\u001b[0m\n\u001b[0m",
      "\u001b[1;31mValueError\u001b[0m: could not convert string to float: 'sdf'"
     ],
     "output_type": "error"
    }
   ],
   "source": [
    "float('sdf')"
   ]
  },
  {
   "cell_type": "code",
   "execution_count": 14,
   "metadata": {
    "collapsed": true
   },
   "outputs": [],
   "source": [
    "def is_numeric(x):\n",
    "    try:\n",
    "        float(x)\n",
    "        return True\n",
    "    except ValueError:\n",
    "        return False"
   ]
  },
  {
   "cell_type": "code",
   "execution_count": 16,
   "metadata": {
    "collapsed": true
   },
   "outputs": [],
   "source": [
    "def testfunc(x):\n",
    "    return x + 1\n",
    "\n",
    "@dero.decorators.simple_decorator\n",
    "def func_or_nan(func):"
   ]
  },
  {
   "cell_type": "code",
   "execution_count": 21,
   "metadata": {
    "collapsed": false
   },
   "outputs": [],
   "source": [
    "g = df_nan_byvar_and_val.groupby('byvar')\n",
    "g.transform??"
   ]
  },
  {
   "cell_type": "code",
   "execution_count": 61,
   "metadata": {
    "collapsed": false
   },
   "outputs": [],
   "source": [
    "subset = ['val','byvar']\n",
    "any_nan_subset_mask = pd.Series([all(i) for i in (zip(*[~pd.isnull(df_nan_byvar_and_val[col]) for col in subset]))])\n",
    "df_nanvals_removed = df_nan_byvar_and_val[any_nan_subset_mask]\n",
    "df_removed = df_nan_byvar_and_val[~any_nan_subset_mask]"
   ]
  },
  {
   "cell_type": "code",
   "execution_count": 65,
   "metadata": {
    "collapsed": false
   },
   "outputs": [
    {
     "data": {
      "text/html": [
       "<div>\n",
       "<table border=\"1\" class=\"dataframe\">\n",
       "  <thead>\n",
       "    <tr style=\"text-align: right;\">\n",
       "      <th></th>\n",
       "      <th>byvar</th>\n",
       "      <th>val</th>\n",
       "    </tr>\n",
       "  </thead>\n",
       "  <tbody>\n",
       "    <tr>\n",
       "      <th>0</th>\n",
       "      <td>a</td>\n",
       "      <td>1.0</td>\n",
       "    </tr>\n",
       "    <tr>\n",
       "      <th>1</th>\n",
       "      <td>NaN</td>\n",
       "      <td>NaN</td>\n",
       "    </tr>\n",
       "    <tr>\n",
       "      <th>2</th>\n",
       "      <td>NaN</td>\n",
       "      <td>NaN</td>\n",
       "    </tr>\n",
       "    <tr>\n",
       "      <th>3</th>\n",
       "      <td>b</td>\n",
       "      <td>4.0</td>\n",
       "    </tr>\n",
       "  </tbody>\n",
       "</table>\n",
       "</div>"
      ],
      "text/plain": [
       "  byvar  val\n",
       "0     a  1.0\n",
       "1   NaN  NaN\n",
       "2   NaN  NaN\n",
       "3     b  4.0"
      ]
     },
     "execution_count": 65,
     "metadata": {},
     "output_type": "execute_result"
    }
   ],
   "source": [
    "df_nanvals_removed.reindex(df_nan_byvar_and_val.index)"
   ]
  },
  {
   "cell_type": "code",
   "execution_count": 63,
   "metadata": {
    "collapsed": false
   },
   "outputs": [
    {
     "data": {
      "text/html": [
       "<div>\n",
       "<table border=\"1\" class=\"dataframe\">\n",
       "  <thead>\n",
       "    <tr style=\"text-align: right;\">\n",
       "      <th></th>\n",
       "      <th>byvar</th>\n",
       "      <th>val</th>\n",
       "    </tr>\n",
       "  </thead>\n",
       "  <tbody>\n",
       "    <tr>\n",
       "      <th>1</th>\n",
       "      <td>NaN</td>\n",
       "      <td>2.0</td>\n",
       "    </tr>\n",
       "    <tr>\n",
       "      <th>2</th>\n",
       "      <td>b</td>\n",
       "      <td>NaN</td>\n",
       "    </tr>\n",
       "  </tbody>\n",
       "</table>\n",
       "</div>"
      ],
      "text/plain": [
       "  byvar  val\n",
       "1   NaN  2.0\n",
       "2     b  NaN"
      ]
     },
     "execution_count": 63,
     "metadata": {},
     "output_type": "execute_result"
    }
   ],
   "source": [
    "df_removed"
   ]
  },
  {
   "cell_type": "code",
   "execution_count": 60,
   "metadata": {
    "collapsed": false
   },
   "outputs": [
    {
     "data": {
      "text/plain": [
       "0     True\n",
       "1    False\n",
       "2    False\n",
       "3     True\n",
       "dtype: bool"
      ]
     },
     "execution_count": 60,
     "metadata": {},
     "output_type": "execute_result"
    }
   ],
   "source": [
    "pd.Series([all(i) for i in (zip(*[~pd.isnull(df_nan_byvar_and_val[col]) for col in ['val','byvar']]))])"
   ]
  },
  {
   "cell_type": "code",
   "execution_count": 29,
   "metadata": {
    "collapsed": false
   },
   "outputs": [
    {
     "data": {
      "text/html": [
       "<div>\n",
       "<table border=\"1\" class=\"dataframe\">\n",
       "  <thead>\n",
       "    <tr style=\"text-align: right;\">\n",
       "      <th></th>\n",
       "      <th>byvar</th>\n",
       "      <th>val</th>\n",
       "    </tr>\n",
       "  </thead>\n",
       "  <tbody>\n",
       "    <tr>\n",
       "      <th>0</th>\n",
       "      <td>a</td>\n",
       "      <td>1.0</td>\n",
       "    </tr>\n",
       "    <tr>\n",
       "      <th>1</th>\n",
       "      <td>NaN</td>\n",
       "      <td>2.0</td>\n",
       "    </tr>\n",
       "    <tr>\n",
       "      <th>2</th>\n",
       "      <td>b</td>\n",
       "      <td>NaN</td>\n",
       "    </tr>\n",
       "    <tr>\n",
       "      <th>3</th>\n",
       "      <td>b</td>\n",
       "      <td>4.0</td>\n",
       "    </tr>\n",
       "  </tbody>\n",
       "</table>\n",
       "</div>"
      ],
      "text/plain": [
       "  byvar  val\n",
       "0     a  1.0\n",
       "1   NaN  2.0\n",
       "2     b  NaN\n",
       "3     b  4.0"
      ]
     },
     "execution_count": 29,
     "metadata": {},
     "output_type": "execute_result"
    }
   ],
   "source": [
    "df_nanvals_removed"
   ]
  },
  {
   "cell_type": "code",
   "execution_count": 22,
   "metadata": {
    "collapsed": false
   },
   "outputs": [
    {
     "data": {
      "text/plain": [
       "nan"
      ]
     },
     "execution_count": 22,
     "metadata": {},
     "output_type": "execute_result"
    }
   ],
   "source": [
    "testfunc(nan)"
   ]
  },
  {
   "cell_type": "code",
   "execution_count": null,
   "metadata": {
    "collapsed": true
   },
   "outputs": [],
   "source": [
    "df_nan_byvar_and_val.groupby('byvar').transform"
   ]
  },
  {
   "cell_type": "code",
   "execution_count": 26,
   "metadata": {
    "collapsed": false
   },
   "outputs": [
    {
     "data": {
      "text/html": [
       "<div>\n",
       "<table border=\"1\" class=\"dataframe\">\n",
       "  <thead>\n",
       "    <tr style=\"text-align: right;\">\n",
       "      <th></th>\n",
       "      <th>byvar</th>\n",
       "      <th>val</th>\n",
       "    </tr>\n",
       "  </thead>\n",
       "  <tbody>\n",
       "    <tr>\n",
       "      <th>0</th>\n",
       "      <td>a</td>\n",
       "      <td>1.0</td>\n",
       "    </tr>\n",
       "    <tr>\n",
       "      <th>1</th>\n",
       "      <td>NaN</td>\n",
       "      <td>2.0</td>\n",
       "    </tr>\n",
       "    <tr>\n",
       "      <th>3</th>\n",
       "      <td>b</td>\n",
       "      <td>4.0</td>\n",
       "    </tr>\n",
       "  </tbody>\n",
       "</table>\n",
       "</div>"
      ],
      "text/plain": [
       "  byvar  val\n",
       "0     a  1.0\n",
       "1   NaN  2.0\n",
       "3     b  4.0"
      ]
     },
     "execution_count": 26,
     "metadata": {},
     "output_type": "execute_result"
    }
   ],
   "source": [
    "df_nanvals_removed"
   ]
  },
  {
   "cell_type": "code",
   "execution_count": 27,
   "metadata": {
    "collapsed": false
   },
   "outputs": [
    {
     "data": {
      "text/html": [
       "<div>\n",
       "<table border=\"1\" class=\"dataframe\">\n",
       "  <thead>\n",
       "    <tr style=\"text-align: right;\">\n",
       "      <th></th>\n",
       "      <th>val</th>\n",
       "    </tr>\n",
       "  </thead>\n",
       "  <tbody>\n",
       "    <tr>\n",
       "      <th>0</th>\n",
       "      <td>1.0</td>\n",
       "    </tr>\n",
       "    <tr>\n",
       "      <th>1</th>\n",
       "      <td>2.0</td>\n",
       "    </tr>\n",
       "    <tr>\n",
       "      <th>3</th>\n",
       "      <td>4.0</td>\n",
       "    </tr>\n",
       "  </tbody>\n",
       "</table>\n",
       "</div>"
      ],
      "text/plain": [
       "   val\n",
       "0  1.0\n",
       "1  2.0\n",
       "3  4.0"
      ]
     },
     "execution_count": 27,
     "metadata": {},
     "output_type": "execute_result"
    }
   ],
   "source": [
    "df_nanvals_removed.fillna('__tempnan__').groupby('byvar').transform(lambda x: x)"
   ]
  },
  {
   "cell_type": "code",
   "execution_count": 12,
   "metadata": {
    "collapsed": false
   },
   "outputs": [
    {
     "data": {
      "text/html": [
       "<div>\n",
       "<table border=\"1\" class=\"dataframe\">\n",
       "  <thead>\n",
       "    <tr style=\"text-align: right;\">\n",
       "      <th></th>\n",
       "      <th>byvar</th>\n",
       "      <th>val</th>\n",
       "    </tr>\n",
       "  </thead>\n",
       "  <tbody>\n",
       "    <tr>\n",
       "      <th>0</th>\n",
       "      <td>a</td>\n",
       "      <td>1</td>\n",
       "    </tr>\n",
       "    <tr>\n",
       "      <th>1</th>\n",
       "      <td>__tempnan__</td>\n",
       "      <td>2</td>\n",
       "    </tr>\n",
       "    <tr>\n",
       "      <th>2</th>\n",
       "      <td>b</td>\n",
       "      <td>__tempnan__</td>\n",
       "    </tr>\n",
       "    <tr>\n",
       "      <th>3</th>\n",
       "      <td>b</td>\n",
       "      <td>4</td>\n",
       "    </tr>\n",
       "  </tbody>\n",
       "</table>\n",
       "</div>"
      ],
      "text/plain": [
       "         byvar          val\n",
       "0            a            1\n",
       "1  __tempnan__            2\n",
       "2            b  __tempnan__\n",
       "3            b            4"
      ]
     },
     "execution_count": 12,
     "metadata": {},
     "output_type": "execute_result"
    }
   ],
   "source": [
    "df_nan_byvar_and_val[['byvar','val']] = df_nan_byvar_and_val[['byvar','val']].fillna('__tempnan__')\n",
    "df_nan_byvar_and_val"
   ]
  },
  {
   "cell_type": "code",
   "execution_count": 3,
   "metadata": {
    "collapsed": false
   },
   "outputs": [
    {
     "data": {
      "text/html": [
       "<div>\n",
       "<table border=\"1\" class=\"dataframe\">\n",
       "  <thead>\n",
       "    <tr style=\"text-align: right;\">\n",
       "      <th></th>\n",
       "      <th>byvar</th>\n",
       "      <th>val</th>\n",
       "      <th>val_transform</th>\n",
       "    </tr>\n",
       "  </thead>\n",
       "  <tbody>\n",
       "    <tr>\n",
       "      <th>5</th>\n",
       "      <td>a</td>\n",
       "      <td>1.0</td>\n",
       "      <td>1.0</td>\n",
       "    </tr>\n",
       "    <tr>\n",
       "      <th>6</th>\n",
       "      <td>NaN</td>\n",
       "      <td>2.0</td>\n",
       "      <td>2.0</td>\n",
       "    </tr>\n",
       "    <tr>\n",
       "      <th>7</th>\n",
       "      <td>b</td>\n",
       "      <td>NaN</td>\n",
       "      <td>NaN</td>\n",
       "    </tr>\n",
       "    <tr>\n",
       "      <th>8</th>\n",
       "      <td>b</td>\n",
       "      <td>4.0</td>\n",
       "      <td>4.0</td>\n",
       "    </tr>\n",
       "  </tbody>\n",
       "</table>\n",
       "</div>"
      ],
      "text/plain": [
       "  byvar  val  val_transform\n",
       "5     a  1.0            1.0\n",
       "6   NaN  2.0            2.0\n",
       "7     b  NaN            NaN\n",
       "8     b  4.0            4.0"
      ]
     },
     "execution_count": 3,
     "metadata": {},
     "output_type": "execute_result"
    }
   ],
   "source": [
    "dero.pandas.groupby_merge(df_nan_byvar_and_val_nonstandard_index, 'byvar', 'transform', (lambda x: x))"
   ]
  },
  {
   "cell_type": "code",
   "execution_count": 4,
   "metadata": {
    "collapsed": false
   },
   "outputs": [
    {
     "name": "stdout",
     "output_type": "stream",
     "text": [
      "> c:\\anaconda3\\lib\\site-packages\\pandas\\core\\internals.py(2635)set_axis()\n",
      "-> (old_len, new_len))\n",
      "(Pdb) u\n",
      "> c:\\anaconda3\\lib\\site-packages\\pandas\\core\\generic.py(428)_set_axis()\n",
      "-> self._data.set_axis(axis, labels)\n",
      "(Pdb) u\n",
      "> c:\\users\\derobertisna.ufad\\dropbox\\python\\dero\\pandas\\src\\properties.pyx(65)pandas.lib.AxisProperty.__set__ (pandas\\lib.c:45018)()\n",
      "(Pdb) u\n",
      "> c:\\anaconda3\\lib\\site-packages\\pandas\\core\\generic.py(2685)__setattr__()\n",
      "-> return object.__setattr__(self, name, value)\n",
      "(Pdb) u\n",
      "> c:\\anaconda3\\lib\\site-packages\\pandas\\core\\generic.py(425)set_axis()\n",
      "-> setattr(self, self._get_axis_name(axis), labels)\n",
      "(Pdb) u\n",
      "> c:\\anaconda3\\lib\\site-packages\\pandas\\core\\groupby.py(483)_set_result_index_ordered()\n",
      "-> result.set_axis(self.axis, self.obj._get_axis(self.axis))\n",
      "(Pdb) u\n",
      "> c:\\anaconda3\\lib\\site-packages\\pandas\\core\\groupby.py(3423)_transform_general()\n",
      "-> return self._set_result_index_ordered(concatenated)\n",
      "(Pdb) u\n",
      "> c:\\anaconda3\\lib\\site-packages\\pandas\\core\\groupby.py(3457)transform()\n",
      "-> return self._transform_general(func, *args, **kwargs)\n",
      "(Pdb) u\n",
      "> c:\\users\\derobertisna.ufad\\dropbox\\python\\dero\\dero\\ext_pandas.py(774)groupby_merge()\n",
      "-> grouped = func(*func_args)[subset] #apply the class method and select subset columns\n",
      "(Pdb) u\n",
      "> <ipython-input-3-f1619c317988>(1)<module>()\n",
      "-> dero.pandas.groupby_merge(df_nan_byvar_and_val, 'byvar', 'transform', (lambda x: x))\n",
      "(Pdb) d\n",
      "> c:\\users\\derobertisna.ufad\\dropbox\\python\\dero\\dero\\ext_pandas.py(774)groupby_merge()\n",
      "-> grouped = func(*func_args)[subset] #apply the class method and select subset columns\n",
      "(Pdb) grouped.count()\n",
      "       val\n",
      "byvar     \n",
      "a        1\n",
      "b        1\n",
      "(Pdb) no_nans\n",
      "  byvar  val\n",
      "0     a  1.0\n",
      "1   NaN  2.0\n",
      "3     b  4.0\n",
      "(Pdb) df\n",
      "  byvar  val\n",
      "0     a  1.0\n",
      "1   NaN  2.0\n",
      "2     b  NaN\n",
      "3     b  4.0\n",
      "(Pdb) q\n"
     ]
    }
   ],
   "source": [
    "import pdb; pdb.pm()"
   ]
  },
  {
   "cell_type": "code",
   "execution_count": 96,
   "metadata": {
    "collapsed": false
   },
   "outputs": [
    {
     "data": {
      "text/plain": [
       "<module 'dero' from 'c:\\\\users\\\\derobertisna.ufad\\\\dropbox\\\\python\\\\dero\\\\dero\\\\__init__.py'>"
      ]
     },
     "execution_count": 96,
     "metadata": {},
     "output_type": "execute_result"
    }
   ],
   "source": [
    "import imp; imp.reload(dero)"
   ]
  },
  {
   "cell_type": "code",
   "execution_count": 10,
   "metadata": {
    "collapsed": false
   },
   "outputs": [
    {
     "data": {
      "text/plain": [
       "[1, 2]"
      ]
     },
     "execution_count": 10,
     "metadata": {},
     "output_type": "execute_result"
    }
   ],
   "source": [
    "[i for i in range(1,3)]"
   ]
  },
  {
   "cell_type": "code",
   "execution_count": 8,
   "metadata": {
    "collapsed": false
   },
   "outputs": [
    {
     "ename": "NameError",
     "evalue": "name 'aadfs' is not defined",
     "traceback": [
      "\u001b[1;31m---------------------------------------------------------------------------\u001b[0m",
      "\u001b[1;31mNameError\u001b[0m                                 Traceback (most recent call last)",
      "\u001b[1;32m<ipython-input-8-c08955944246>\u001b[0m in \u001b[0;36m<module>\u001b[1;34m()\u001b[0m\n\u001b[1;32m----> 1\u001b[1;33m \u001b[1;32mdel\u001b[0m \u001b[0maadfs\u001b[0m\u001b[1;33m\u001b[0m\u001b[0m\n\u001b[0m",
      "\u001b[1;31mNameError\u001b[0m: name 'aadfs' is not defined"
     ],
     "output_type": "error"
    }
   ],
   "source": [
    "del aadfs"
   ]
  },
  {
   "cell_type": "code",
   "execution_count": 68,
   "metadata": {
    "collapsed": true
   },
   "outputs": [],
   "source": [
    "dero.pandas.groupby_merge?"
   ]
  },
  {
   "cell_type": "code",
   "execution_count": 63,
   "metadata": {
    "collapsed": false
   },
   "outputs": [
    {
     "data": {
      "text/plain": [
       "PERMNO     True\n",
       "byvar     False\n",
       "Date      False\n",
       "RET       False\n",
       "dtype: bool"
      ]
     },
     "execution_count": 63,
     "metadata": {},
     "output_type": "execute_result"
    }
   ],
   "source": [
    "df.dtypes == np.int64"
   ]
  },
  {
   "cell_type": "code",
   "execution_count": 49,
   "metadata": {
    "collapsed": true
   },
   "outputs": [],
   "source": [
    "np.number?"
   ]
  },
  {
   "cell_type": "code",
   "execution_count": 6,
   "metadata": {
    "collapsed": true
   },
   "outputs": [],
   "source": [
    "f.close()"
   ]
  },
  {
   "cell_type": "code",
   "execution_count": 10,
   "metadata": {
    "collapsed": true
   },
   "outputs": [],
   "source": [
    "%load_ext memory_profiler"
   ]
  },
  {
   "cell_type": "code",
   "execution_count": 3,
   "metadata": {
    "collapsed": false,
    "scrolled": false
   },
   "outputs": [
    {
     "name": "stdout",
     "output_type": "stream",
     "text": [
      "2016-06-03 19:14:54: Initializing pull_crsp function\n",
      "2016-06-03 19:14:54: Checking inputs.\n",
      "2016-06-03 19:14:54: Loading CRSP dataframe...\n",
      "2016-06-03 19:14:54: Loaded.\n",
      "2016-06-03 19:14:54: Converting SAS date to Pandas format.\n",
      "2016-06-03 19:14:54: Converted.\n",
      "2016-06-03 19:14:54: Generating key.\n",
      "2016-06-03 19:14:54: Abret detected.\n",
      "2016-06-03 19:14:54: Creating abret window periods.\n",
      "2016-06-03 19:14:54: Initializing expand_time for periods [0, -1, -2, -3, -4, -5, -6, -7, -8, -9, -10, -11, -12, -13, -14, -15, -16, -17, -18, -19, -20, -21, -22, -23, -24, -25, -26, -27, -28, -29, -30].\n",
      "2016-06-03 19:14:54: Daily frequency, getting trading day calendar.\n",
      "2016-06-03 19:14:54: Calculating number of rows.\n",
      "2016-06-03 19:14:54: Calculating number of duplicates.\n",
      "2016-06-03 19:14:54: Duplicating observations 30 times.\n",
      "2016-06-03 19:14:54: Duplicated.\n",
      "2016-06-03 19:14:54: Creating shift variable.\n",
      "2016-06-03 19:14:54: Creating shifted date.\n",
      "2016-06-03 19:14:54: expand_time completed.\n",
      "2016-06-03 19:14:54: Merging with CRSP to get abret window data as well as regular data.\n",
      "2016-06-03 19:14:54: Merging CRSP to dataframe.\n",
      "2016-06-03 19:14:54: Completed merge.\n",
      "2016-06-03 19:14:54: Getting Fama-French factors, then running regressions.\n",
      "2016-06-03 19:14:54: Dropping unneeded observations (abret window dates).\n",
      "2016-06-03 19:14:54: Reshaping long to wide.\n",
      "pd.DataFrame(data = [\n",
      "(10516, 'a', Timestamp('2000-01-03 00:00:00'), 1.03, -0.010309278033673763, -0.011225175770145413, -0.0071, 0.00021, -0.1289996811931902, -0.004742858764353774),\n",
      "(10516, 'a', Timestamp('2000-01-04 00:00:00'), 1.04, -0.010416666977107523, -0.007502490855258082, -0.0406, 0.00021, 0.07177773699136555, -0.004474063724469225),\n",
      "(10516, 'b', Timestamp('2000-01-03 00:00:00'), 1.07, -0.010309278033673763, -0.011225175770145413, -0.0071, 0.00021, -0.1289996811931902, -0.004742858764353774),\n",
      "(10516, 'b', Timestamp('2000-01-04 00:00:00'), 1.08, -0.010416666977107523, -0.007502490855258082, -0.0406, 0.00021, 0.07177773699136555, -0.004474063724469225),\n",
      "(10517, 'a', Timestamp('2000-01-03 00:00:00'), 1.11, -0.034246575087308884, -0.025145672948656786, -0.0071, 0.00021, 1.2818172026270562, 0.00024156806287732818),\n",
      "(10517, 'a', Timestamp('2000-01-04 00:00:00'), 1.12, -0.0035460991784930225, 0.021587078051334464, -0.0406, 0.00021, 0.619043774133682, 0.0011960335526057253),\n",
      "], columns = ['PERMNO', 'byvar', 'Date', 'RET_old', 'RET', 'ABRET', 'mktrf', 'rf', 'coef_mktrf', 'const'])\n"
     ]
    }
   ],
   "source": [
    "# %%mprun -f crsp.pull_crsp\n",
    "crsp = dero.data.GetCRSP(debug=True)\n",
    "df['Date'] = pd.to_datetime(df['Date'])\n",
    "a = crsp.pull_crsp(df, freq='d', get=['RET'],\n",
    "                                        other_byvars='byvar', abret=1, window=30,\n",
    "                                        includefac=True, includecoef=True)\n",
    "# a = crsp.pull_crsp(df, get='RET', time=[0, 3], cumret='between', other_byvars='byvar', drop_first=True)\n",
    "dero.pandas.to_copy_paste(a)\n",
    "# a"
   ]
  },
  {
   "cell_type": "code",
   "execution_count": 3,
   "metadata": {
    "collapsed": false
   },
   "outputs": [
    {
     "name": "stdout",
     "output_type": "stream",
     "text": [
      "2016-05-30 17:47:54: Initializing pull_crsp function\n",
      "2016-05-30 17:47:54: Checking inputs.\n",
      "2016-05-30 17:47:54: Loading CRSP dataframe...\n",
      "2016-05-30 17:47:54: Loaded.\n",
      "2016-05-30 17:47:54: Converting SAS date to Pandas format.\n",
      "2016-05-30 17:47:54: Converted.\n",
      "2016-05-30 17:47:54: Merging CRSP to dataframe.\n",
      "2016-05-30 17:47:54: Completed merge.\n",
      "2016-05-30 17:47:54: Initializing pull_crsp function\n",
      "2016-05-30 17:47:54: Checking inputs.\n",
      "2016-05-30 17:47:54: Loading CRSP dataframe...\n",
      "2016-05-30 17:47:54: Loaded.\n",
      "2016-05-30 17:47:54: Converting SAS date to Pandas format.\n",
      "2016-05-30 17:47:54: Converted.\n",
      "2016-05-30 17:47:54: Merging CRSP to dataframe.\n",
      "2016-05-30 17:47:54: Completed merge.\n"
     ]
    },
    {
     "data": {
      "text/html": [
       "<div>\n",
       "<table border=\"1\" class=\"dataframe\">\n",
       "  <thead>\n",
       "    <tr style=\"text-align: right;\">\n",
       "      <th></th>\n",
       "      <th>PERMNO</th>\n",
       "      <th>byvar</th>\n",
       "      <th>Date</th>\n",
       "      <th>RET</th>\n",
       "      <th>PRC</th>\n",
       "      <th>SHROUT</th>\n",
       "    </tr>\n",
       "  </thead>\n",
       "  <tbody>\n",
       "    <tr>\n",
       "      <th>0</th>\n",
       "      <td>10516</td>\n",
       "      <td>a</td>\n",
       "      <td>2000-01-01</td>\n",
       "      <td>1.01</td>\n",
       "      <td>NaN</td>\n",
       "      <td>NaN</td>\n",
       "    </tr>\n",
       "    <tr>\n",
       "      <th>1</th>\n",
       "      <td>10516</td>\n",
       "      <td>a</td>\n",
       "      <td>2000-01-02</td>\n",
       "      <td>1.02</td>\n",
       "      <td>NaN</td>\n",
       "      <td>NaN</td>\n",
       "    </tr>\n",
       "    <tr>\n",
       "      <th>2</th>\n",
       "      <td>10516</td>\n",
       "      <td>a</td>\n",
       "      <td>2000-01-03</td>\n",
       "      <td>1.03</td>\n",
       "      <td>12.0000</td>\n",
       "      <td>608360.0</td>\n",
       "    </tr>\n",
       "    <tr>\n",
       "      <th>3</th>\n",
       "      <td>10516</td>\n",
       "      <td>a</td>\n",
       "      <td>2000-01-04</td>\n",
       "      <td>1.04</td>\n",
       "      <td>11.8750</td>\n",
       "      <td>608360.0</td>\n",
       "    </tr>\n",
       "    <tr>\n",
       "      <th>4</th>\n",
       "      <td>10516</td>\n",
       "      <td>b</td>\n",
       "      <td>2000-01-01</td>\n",
       "      <td>1.05</td>\n",
       "      <td>NaN</td>\n",
       "      <td>NaN</td>\n",
       "    </tr>\n",
       "    <tr>\n",
       "      <th>5</th>\n",
       "      <td>10516</td>\n",
       "      <td>b</td>\n",
       "      <td>2000-01-02</td>\n",
       "      <td>1.06</td>\n",
       "      <td>NaN</td>\n",
       "      <td>NaN</td>\n",
       "    </tr>\n",
       "    <tr>\n",
       "      <th>6</th>\n",
       "      <td>10516</td>\n",
       "      <td>b</td>\n",
       "      <td>2000-01-03</td>\n",
       "      <td>1.07</td>\n",
       "      <td>12.0000</td>\n",
       "      <td>608360.0</td>\n",
       "    </tr>\n",
       "    <tr>\n",
       "      <th>7</th>\n",
       "      <td>10516</td>\n",
       "      <td>b</td>\n",
       "      <td>2000-01-04</td>\n",
       "      <td>1.08</td>\n",
       "      <td>11.8750</td>\n",
       "      <td>608360.0</td>\n",
       "    </tr>\n",
       "    <tr>\n",
       "      <th>8</th>\n",
       "      <td>10517</td>\n",
       "      <td>a</td>\n",
       "      <td>2000-01-01</td>\n",
       "      <td>1.09</td>\n",
       "      <td>NaN</td>\n",
       "      <td>NaN</td>\n",
       "    </tr>\n",
       "    <tr>\n",
       "      <th>9</th>\n",
       "      <td>10517</td>\n",
       "      <td>a</td>\n",
       "      <td>2000-01-02</td>\n",
       "      <td>1.10</td>\n",
       "      <td>NaN</td>\n",
       "      <td>NaN</td>\n",
       "    </tr>\n",
       "    <tr>\n",
       "      <th>10</th>\n",
       "      <td>10517</td>\n",
       "      <td>a</td>\n",
       "      <td>2000-01-03</td>\n",
       "      <td>1.11</td>\n",
       "      <td>17.6250</td>\n",
       "      <td>3830.0</td>\n",
       "    </tr>\n",
       "    <tr>\n",
       "      <th>11</th>\n",
       "      <td>10517</td>\n",
       "      <td>a</td>\n",
       "      <td>2000-01-04</td>\n",
       "      <td>1.12</td>\n",
       "      <td>17.5625</td>\n",
       "      <td>3830.0</td>\n",
       "    </tr>\n",
       "  </tbody>\n",
       "</table>\n",
       "</div>"
      ],
      "text/plain": [
       "    PERMNO byvar       Date   RET      PRC    SHROUT\n",
       "0    10516     a 2000-01-01  1.01      NaN       NaN\n",
       "1    10516     a 2000-01-02  1.02      NaN       NaN\n",
       "2    10516     a 2000-01-03  1.03  12.0000  608360.0\n",
       "3    10516     a 2000-01-04  1.04  11.8750  608360.0\n",
       "4    10516     b 2000-01-01  1.05      NaN       NaN\n",
       "5    10516     b 2000-01-02  1.06      NaN       NaN\n",
       "6    10516     b 2000-01-03  1.07  12.0000  608360.0\n",
       "7    10516     b 2000-01-04  1.08  11.8750  608360.0\n",
       "8    10517     a 2000-01-01  1.09      NaN       NaN\n",
       "9    10517     a 2000-01-02  1.10      NaN       NaN\n",
       "10   10517     a 2000-01-03  1.11  17.6250    3830.0\n",
       "11   10517     a 2000-01-04  1.12  17.5625    3830.0"
      ]
     },
     "execution_count": 3,
     "metadata": {},
     "output_type": "execute_result"
    }
   ],
   "source": [
    "df['Date'] = pd.to_datetime(df['Date'])\n",
    "crsp = dero.data.GetCRSP(debug=True)\n",
    "# crsp.pull_crsp(df, get='RET', abret=4, window=36, freq='m', other_byvars='byvar')\n",
    "crsp.pull_crsp(df)\n",
    "crsp.pull_crsp(df, freq='d')"
   ]
  },
  {
   "cell_type": "code",
   "execution_count": 13,
   "metadata": {
    "collapsed": true
   },
   "outputs": [],
   "source": [
    "dero.data.get_gvkey_or_permno?"
   ]
  },
  {
   "cell_type": "code",
   "execution_count": 14,
   "metadata": {
    "collapsed": false
   },
   "outputs": [
    {
     "data": {
      "text/html": [
       "<div>\n",
       "<table border=\"1\" class=\"dataframe\">\n",
       "  <thead>\n",
       "    <tr style=\"text-align: right;\">\n",
       "      <th></th>\n",
       "      <th>byvar</th>\n",
       "      <th>Date</th>\n",
       "      <th>PERMNO</th>\n",
       "      <th>GVKEY</th>\n",
       "    </tr>\n",
       "  </thead>\n",
       "  <tbody>\n",
       "    <tr>\n",
       "      <th>0</th>\n",
       "      <td>a</td>\n",
       "      <td>2000-01-01</td>\n",
       "      <td>10516.0</td>\n",
       "      <td>1722.0</td>\n",
       "    </tr>\n",
       "    <tr>\n",
       "      <th>1</th>\n",
       "      <td>a</td>\n",
       "      <td>2000-01-02</td>\n",
       "      <td>10516.0</td>\n",
       "      <td>1722.0</td>\n",
       "    </tr>\n",
       "    <tr>\n",
       "      <th>2</th>\n",
       "      <td>a</td>\n",
       "      <td>2000-01-03</td>\n",
       "      <td>10516.0</td>\n",
       "      <td>1722.0</td>\n",
       "    </tr>\n",
       "    <tr>\n",
       "      <th>3</th>\n",
       "      <td>a</td>\n",
       "      <td>2000-01-04</td>\n",
       "      <td>10516.0</td>\n",
       "      <td>1722.0</td>\n",
       "    </tr>\n",
       "    <tr>\n",
       "      <th>4</th>\n",
       "      <td>b</td>\n",
       "      <td>2000-01-01</td>\n",
       "      <td>10516.0</td>\n",
       "      <td>1722.0</td>\n",
       "    </tr>\n",
       "    <tr>\n",
       "      <th>5</th>\n",
       "      <td>b</td>\n",
       "      <td>2000-01-02</td>\n",
       "      <td>10516.0</td>\n",
       "      <td>1722.0</td>\n",
       "    </tr>\n",
       "    <tr>\n",
       "      <th>6</th>\n",
       "      <td>b</td>\n",
       "      <td>2000-01-03</td>\n",
       "      <td>10516.0</td>\n",
       "      <td>1722.0</td>\n",
       "    </tr>\n",
       "    <tr>\n",
       "      <th>7</th>\n",
       "      <td>b</td>\n",
       "      <td>2000-01-04</td>\n",
       "      <td>10516.0</td>\n",
       "      <td>1722.0</td>\n",
       "    </tr>\n",
       "    <tr>\n",
       "      <th>8</th>\n",
       "      <td>a</td>\n",
       "      <td>2008-01-01</td>\n",
       "      <td>NaN</td>\n",
       "      <td>NaN</td>\n",
       "    </tr>\n",
       "    <tr>\n",
       "      <th>9</th>\n",
       "      <td>a</td>\n",
       "      <td>2009-01-02</td>\n",
       "      <td>NaN</td>\n",
       "      <td>NaN</td>\n",
       "    </tr>\n",
       "    <tr>\n",
       "      <th>10</th>\n",
       "      <td>a</td>\n",
       "      <td>2010-01-03</td>\n",
       "      <td>78049.0</td>\n",
       "      <td>1076.0</td>\n",
       "    </tr>\n",
       "    <tr>\n",
       "      <th>11</th>\n",
       "      <td>a</td>\n",
       "      <td>2011-01-04</td>\n",
       "      <td>10517.0</td>\n",
       "      <td>1076.0</td>\n",
       "    </tr>\n",
       "  </tbody>\n",
       "</table>\n",
       "</div>"
      ],
      "text/plain": [
       "   byvar       Date   PERMNO   GVKEY\n",
       "0      a 2000-01-01  10516.0  1722.0\n",
       "1      a 2000-01-02  10516.0  1722.0\n",
       "2      a 2000-01-03  10516.0  1722.0\n",
       "3      a 2000-01-04  10516.0  1722.0\n",
       "4      b 2000-01-01  10516.0  1722.0\n",
       "5      b 2000-01-02  10516.0  1722.0\n",
       "6      b 2000-01-03  10516.0  1722.0\n",
       "7      b 2000-01-04  10516.0  1722.0\n",
       "8      a 2008-01-01      NaN     NaN\n",
       "9      a 2009-01-02      NaN     NaN\n",
       "10     a 2010-01-03  78049.0  1076.0\n",
       "11     a 2011-01-04  10517.0  1076.0"
      ]
     },
     "execution_count": 14,
     "metadata": {},
     "output_type": "execute_result"
    }
   ],
   "source": [
    "dero.data.get_gvkey_or_permno(permno_df_with_nan, 'Date', other_byvars='byvar')"
   ]
  },
  {
   "cell_type": "code",
   "execution_count": 3,
   "metadata": {
    "collapsed": false
   },
   "outputs": [
    {
     "data": {
      "text/html": [
       "<div>\n",
       "<table border=\"1\" class=\"dataframe\">\n",
       "  <thead>\n",
       "    <tr style=\"text-align: right;\">\n",
       "      <th></th>\n",
       "      <th>PERMNO</th>\n",
       "      <th>byvar</th>\n",
       "      <th>Date</th>\n",
       "      <th>RET</th>\n",
       "      <th>weight</th>\n",
       "    </tr>\n",
       "  </thead>\n",
       "  <tbody>\n",
       "    <tr>\n",
       "      <th>0</th>\n",
       "      <td>10516</td>\n",
       "      <td>a</td>\n",
       "      <td>1/1/2000</td>\n",
       "      <td>1.01</td>\n",
       "      <td>0</td>\n",
       "    </tr>\n",
       "    <tr>\n",
       "      <th>1</th>\n",
       "      <td>10516</td>\n",
       "      <td>a</td>\n",
       "      <td>1/2/2000</td>\n",
       "      <td>1.02</td>\n",
       "      <td>1</td>\n",
       "    </tr>\n",
       "    <tr>\n",
       "      <th>2</th>\n",
       "      <td>10516</td>\n",
       "      <td>a</td>\n",
       "      <td>1/3/2000</td>\n",
       "      <td>1.03</td>\n",
       "      <td>1</td>\n",
       "    </tr>\n",
       "    <tr>\n",
       "      <th>3</th>\n",
       "      <td>10516</td>\n",
       "      <td>a</td>\n",
       "      <td>1/4/2000</td>\n",
       "      <td>1.04</td>\n",
       "      <td>0</td>\n",
       "    </tr>\n",
       "    <tr>\n",
       "      <th>4</th>\n",
       "      <td>10516</td>\n",
       "      <td>b</td>\n",
       "      <td>1/1/2000</td>\n",
       "      <td>1.05</td>\n",
       "      <td>1</td>\n",
       "    </tr>\n",
       "    <tr>\n",
       "      <th>5</th>\n",
       "      <td>10516</td>\n",
       "      <td>b</td>\n",
       "      <td>1/2/2000</td>\n",
       "      <td>1.06</td>\n",
       "      <td>1</td>\n",
       "    </tr>\n",
       "    <tr>\n",
       "      <th>6</th>\n",
       "      <td>10516</td>\n",
       "      <td>b</td>\n",
       "      <td>1/3/2000</td>\n",
       "      <td>1.07</td>\n",
       "      <td>1</td>\n",
       "    </tr>\n",
       "    <tr>\n",
       "      <th>7</th>\n",
       "      <td>10516</td>\n",
       "      <td>b</td>\n",
       "      <td>1/4/2000</td>\n",
       "      <td>1.08</td>\n",
       "      <td>1</td>\n",
       "    </tr>\n",
       "    <tr>\n",
       "      <th>8</th>\n",
       "      <td>10517</td>\n",
       "      <td>a</td>\n",
       "      <td>1/1/2000</td>\n",
       "      <td>1.09</td>\n",
       "      <td>0</td>\n",
       "    </tr>\n",
       "    <tr>\n",
       "      <th>9</th>\n",
       "      <td>10517</td>\n",
       "      <td>a</td>\n",
       "      <td>1/2/2000</td>\n",
       "      <td>1.10</td>\n",
       "      <td>0</td>\n",
       "    </tr>\n",
       "    <tr>\n",
       "      <th>10</th>\n",
       "      <td>10517</td>\n",
       "      <td>a</td>\n",
       "      <td>1/3/2000</td>\n",
       "      <td>1.11</td>\n",
       "      <td>0</td>\n",
       "    </tr>\n",
       "    <tr>\n",
       "      <th>11</th>\n",
       "      <td>10517</td>\n",
       "      <td>a</td>\n",
       "      <td>1/4/2000</td>\n",
       "      <td>1.12</td>\n",
       "      <td>1</td>\n",
       "    </tr>\n",
       "  </tbody>\n",
       "</table>\n",
       "</div>"
      ],
      "text/plain": [
       "    PERMNO byvar      Date   RET  weight\n",
       "0    10516     a  1/1/2000  1.01       0\n",
       "1    10516     a  1/2/2000  1.02       1\n",
       "2    10516     a  1/3/2000  1.03       1\n",
       "3    10516     a  1/4/2000  1.04       0\n",
       "4    10516     b  1/1/2000  1.05       1\n",
       "5    10516     b  1/2/2000  1.06       1\n",
       "6    10516     b  1/3/2000  1.07       1\n",
       "7    10516     b  1/4/2000  1.08       1\n",
       "8    10517     a  1/1/2000  1.09       0\n",
       "9    10517     a  1/2/2000  1.10       0\n",
       "10   10517     a  1/3/2000  1.11       0\n",
       "11   10517     a  1/4/2000  1.12       1"
      ]
     },
     "execution_count": 3,
     "metadata": {},
     "output_type": "execute_result"
    }
   ],
   "source": [
    "df_weight"
   ]
  },
  {
   "cell_type": "code",
   "execution_count": 4,
   "metadata": {
    "collapsed": false
   },
   "outputs": [
    {
     "name": "stdout",
     "output_type": "stream",
     "text": [
      "pd.DataFrame(data = [\n",
      "(0.48774684748988806, '10516_a'),\n",
      "(0.9388636664168903, '10516_b'),\n",
      "(0.22929206076239614, '10517_a'),\n",
      "], columns = ['coef_RET', 'key'])\n"
     ]
    }
   ],
   "source": [
    "df_weight['key'] = df_weight['PERMNO'].astype(str) + '_' + df_weight['byvar']\n",
    "a = dero.pandas.reg_by(df_weight, 'weight', 'RET', 'key')\n",
    "dero.pandas.to_copy_paste(a)"
   ]
  },
  {
   "cell_type": "code",
   "execution_count": 7,
   "metadata": {
    "collapsed": false
   },
   "outputs": [
    {
     "name": "stdout",
     "output_type": "stream",
     "text": [
      "> c:\\anaconda3\\lib\\site-packages\\pandas\\core\\ops.py(592)na_op()\n",
      "-> result[mask] = op(x[mask], y)\n",
      "(Pdb) u\n",
      "> c:\\anaconda3\\lib\\site-packages\\pandas\\core\\ops.py(651)wrapper()\n",
      "-> return left._constructor(wrap_results(na_op(lvalues, rvalues)),\n",
      "(Pdb) u\n",
      "> <ipython-input-6-9a0f81226f55>(1)<module>()\n",
      "-> df_weight['key'] = df_weight['PERMNO'] + '_' + df_weight['byvar']\n",
      "(Pdb) u\n",
      "> c:\\anaconda3\\lib\\site-packages\\ipython\\core\\interactiveshell.py(2885)run_code()\n",
      "-> exec(code_obj, self.user_global_ns, self.user_ns)\n",
      "(Pdb) d\n",
      "> <ipython-input-6-9a0f81226f55>(1)<module>()\n",
      "-> df_weight['key'] = df_weight['PERMNO'] + '_' + df_weight['byvar']\n",
      "(Pdb) q\n"
     ]
    }
   ],
   "source": [
    "import pdb; pdb.pm()"
   ]
  },
  {
   "cell_type": "code",
   "execution_count": 4,
   "metadata": {
    "collapsed": false
   },
   "outputs": [],
   "source": [
    "import os\n",
    "import dero\n",
    "import pandas as pd\n",
    "import dill\n",
    "\n",
    "os.chdir(r'C:\\Users\\derobertisna.UFAD\\Dropbox\\Python\\Testing\\package')\n",
    "\n",
    "df = dill.load(open('reg_by_fail_full_df.p','rb'))\n",
    "group = '24643.0_1356998400000000000_1514764800000000000'\n",
    "yvar, xvars, groupvar, merge = dill.load(open('regby_args.p','rb'))"
   ]
  },
  {
   "cell_type": "code",
   "execution_count": 12,
   "metadata": {
    "collapsed": false
   },
   "outputs": [
    {
     "data": {
      "text/plain": [
       "'24643.0_1072915200000000000_1041379200000000000'"
      ]
     },
     "execution_count": 12,
     "metadata": {},
     "output_type": "execute_result"
    }
   ],
   "source": [
    "group = df[groupvar].unique()[0]\n",
    "group"
   ]
  },
  {
   "cell_type": "code",
   "execution_count": 19,
   "metadata": {
    "collapsed": false
   },
   "outputs": [],
   "source": [
    "import statsmodels.api as sm\n",
    "\n",
    "tempdf = df[df[groupvar] == group][[yvar] + xvars].dropna()\n",
    "X = tempdf[xvars]\n",
    "X = sm.add_constant(X)\n",
    "y = tempdf[yvar]\n",
    "model = sm.OLS(y[1:], X.iloc[1:,:])\n",
    "result = model.fit()"
   ]
  },
  {
   "cell_type": "code",
   "execution_count": 16,
   "metadata": {
    "collapsed": false
   },
   "outputs": [
    {
     "data": {
      "text/html": [
       "<div>\n",
       "<table border=\"1\" class=\"dataframe\">\n",
       "  <thead>\n",
       "    <tr style=\"text-align: right;\">\n",
       "      <th></th>\n",
       "      <th>mktrf</th>\n",
       "      <th>smb</th>\n",
       "      <th>hml</th>\n",
       "      <th>umd</th>\n",
       "    </tr>\n",
       "  </thead>\n",
       "  <tbody>\n",
       "    <tr>\n",
       "      <th>0</th>\n",
       "      <td>NaN</td>\n",
       "      <td>NaN</td>\n",
       "      <td>NaN</td>\n",
       "      <td>NaN</td>\n",
       "    </tr>\n",
       "  </tbody>\n",
       "</table>\n",
       "</div>"
      ],
      "text/plain": [
       "   mktrf  smb  hml  umd\n",
       "0    NaN  NaN  NaN  NaN"
      ]
     },
     "execution_count": 16,
     "metadata": {},
     "output_type": "execute_result"
    }
   ],
   "source": [
    "from numpy import nan\n",
    "pd.DataFrame([tuple([nan for x in xvars])], columns=xvars)"
   ]
  },
  {
   "cell_type": "code",
   "execution_count": 21,
   "metadata": {
    "collapsed": false
   },
   "outputs": [
    {
     "data": {
      "text/plain": [
       "const    0.000802\n",
       "mktrf    1.754580\n",
       "smb      0.359230\n",
       "hml      0.930096\n",
       "umd     -0.181730\n",
       "dtype: float64"
      ]
     },
     "execution_count": 21,
     "metadata": {},
     "output_type": "execute_result"
    }
   ],
   "source": [
    "result.params"
   ]
  },
  {
   "cell_type": "code",
   "execution_count": 20,
   "metadata": {
    "collapsed": false
   },
   "outputs": [
    {
     "data": {
      "text/html": [
       "<table class=\"simpletable\">\n",
       "<caption>OLS Regression Results</caption>\n",
       "<tr>\n",
       "  <th>Dep. Variable:</th>           <td>RET</td>       <th>  R-squared:         </th> <td>   0.608</td>\n",
       "</tr>\n",
       "<tr>\n",
       "  <th>Model:</th>                   <td>OLS</td>       <th>  Adj. R-squared:    </th> <td>   0.558</td>\n",
       "</tr>\n",
       "<tr>\n",
       "  <th>Method:</th>             <td>Least Squares</td>  <th>  F-statistic:       </th> <td>   12.03</td>\n",
       "</tr>\n",
       "<tr>\n",
       "  <th>Date:</th>             <td>Fri, 03 Jun 2016</td> <th>  Prob (F-statistic):</th> <td>5.13e-06</td>\n",
       "</tr>\n",
       "<tr>\n",
       "  <th>Time:</th>                 <td>17:07:07</td>     <th>  Log-Likelihood:    </th> <td>  44.499</td>\n",
       "</tr>\n",
       "<tr>\n",
       "  <th>No. Observations:</th>      <td>    36</td>      <th>  AIC:               </th> <td>  -79.00</td>\n",
       "</tr>\n",
       "<tr>\n",
       "  <th>Df Residuals:</th>          <td>    31</td>      <th>  BIC:               </th> <td>  -71.08</td>\n",
       "</tr>\n",
       "<tr>\n",
       "  <th>Df Model:</th>              <td>     4</td>      <th>                     </th>     <td> </td>   \n",
       "</tr>\n",
       "<tr>\n",
       "  <th>Covariance Type:</th>      <td>nonrobust</td>    <th>                     </th>     <td> </td>   \n",
       "</tr>\n",
       "</table>\n",
       "<table class=\"simpletable\">\n",
       "<tr>\n",
       "    <td></td>       <th>coef</th>     <th>std err</th>      <th>t</th>      <th>P>|t|</th> <th>[95.0% Conf. Int.]</th> \n",
       "</tr>\n",
       "<tr>\n",
       "  <th>const</th> <td>    0.0008</td> <td>    0.014</td> <td>    0.057</td> <td> 0.955</td> <td>   -0.028     0.030</td>\n",
       "</tr>\n",
       "<tr>\n",
       "  <th>mktrf</th> <td>    1.7546</td> <td>    0.305</td> <td>    5.748</td> <td> 0.000</td> <td>    1.132     2.377</td>\n",
       "</tr>\n",
       "<tr>\n",
       "  <th>smb</th>   <td>    0.3592</td> <td>    0.283</td> <td>    1.270</td> <td> 0.213</td> <td>   -0.218     0.936</td>\n",
       "</tr>\n",
       "<tr>\n",
       "  <th>hml</th>   <td>    0.9301</td> <td>    0.350</td> <td>    2.656</td> <td> 0.012</td> <td>    0.216     1.644</td>\n",
       "</tr>\n",
       "<tr>\n",
       "  <th>umd</th>   <td>   -0.1817</td> <td>    0.169</td> <td>   -1.076</td> <td> 0.290</td> <td>   -0.526     0.163</td>\n",
       "</tr>\n",
       "</table>\n",
       "<table class=\"simpletable\">\n",
       "<tr>\n",
       "  <th>Omnibus:</th>       <td> 2.980</td> <th>  Durbin-Watson:     </th> <td>   1.948</td>\n",
       "</tr>\n",
       "<tr>\n",
       "  <th>Prob(Omnibus):</th> <td> 0.225</td> <th>  Jarque-Bera (JB):  </th> <td>   1.994</td>\n",
       "</tr>\n",
       "<tr>\n",
       "  <th>Skew:</th>          <td>-0.562</td> <th>  Prob(JB):          </th> <td>   0.369</td>\n",
       "</tr>\n",
       "<tr>\n",
       "  <th>Kurtosis:</th>      <td> 3.260</td> <th>  Cond. No.          </th> <td>    34.6</td>\n",
       "</tr>\n",
       "</table>"
      ],
      "text/plain": [
       "<class 'statsmodels.iolib.summary.Summary'>\n",
       "\"\"\"\n",
       "                            OLS Regression Results                            \n",
       "==============================================================================\n",
       "Dep. Variable:                    RET   R-squared:                       0.608\n",
       "Model:                            OLS   Adj. R-squared:                  0.558\n",
       "Method:                 Least Squares   F-statistic:                     12.03\n",
       "Date:                Fri, 03 Jun 2016   Prob (F-statistic):           5.13e-06\n",
       "Time:                        17:07:07   Log-Likelihood:                 44.499\n",
       "No. Observations:                  36   AIC:                            -79.00\n",
       "Df Residuals:                      31   BIC:                            -71.08\n",
       "Df Model:                           4                                         \n",
       "Covariance Type:            nonrobust                                         \n",
       "==============================================================================\n",
       "                 coef    std err          t      P>|t|      [95.0% Conf. Int.]\n",
       "------------------------------------------------------------------------------\n",
       "const          0.0008      0.014      0.057      0.955        -0.028     0.030\n",
       "mktrf          1.7546      0.305      5.748      0.000         1.132     2.377\n",
       "smb            0.3592      0.283      1.270      0.213        -0.218     0.936\n",
       "hml            0.9301      0.350      2.656      0.012         0.216     1.644\n",
       "umd           -0.1817      0.169     -1.076      0.290        -0.526     0.163\n",
       "==============================================================================\n",
       "Omnibus:                        2.980   Durbin-Watson:                   1.948\n",
       "Prob(Omnibus):                  0.225   Jarque-Bera (JB):                1.994\n",
       "Skew:                          -0.562   Prob(JB):                        0.369\n",
       "Kurtosis:                       3.260   Cond. No.                         34.6\n",
       "==============================================================================\n",
       "\n",
       "Warnings:\n",
       "[1] Standard Errors assume that the covariance matrix of the errors is correctly specified.\n",
       "\"\"\""
      ]
     },
     "execution_count": 20,
     "metadata": {},
     "output_type": "execute_result"
    }
   ],
   "source": [
    "result.summary()"
   ]
  },
  {
   "cell_type": "code",
   "execution_count": 18,
   "metadata": {
    "collapsed": false
   },
   "outputs": [
    {
     "data": {
      "text/html": [
       "<table class=\"simpletable\">\n",
       "<caption>OLS Regression Results</caption>\n",
       "<tr>\n",
       "  <th>Dep. Variable:</th>           <td>RET</td>       <th>  R-squared:         </th> <td>   0.610</td>\n",
       "</tr>\n",
       "<tr>\n",
       "  <th>Model:</th>                   <td>OLS</td>       <th>  Adj. R-squared:    </th> <td>   0.562</td>\n",
       "</tr>\n",
       "<tr>\n",
       "  <th>Method:</th>             <td>Least Squares</td>  <th>  F-statistic:       </th> <td>   12.54</td>\n",
       "</tr>\n",
       "<tr>\n",
       "  <th>Date:</th>             <td>Fri, 03 Jun 2016</td> <th>  Prob (F-statistic):</th> <td>3.02e-06</td>\n",
       "</tr>\n",
       "<tr>\n",
       "  <th>Time:</th>                 <td>17:04:51</td>     <th>  Log-Likelihood:    </th> <td>  44.498</td>\n",
       "</tr>\n",
       "<tr>\n",
       "  <th>No. Observations:</th>      <td>    36</td>      <th>  AIC:               </th> <td>  -81.00</td>\n",
       "</tr>\n",
       "<tr>\n",
       "  <th>Df Residuals:</th>          <td>    32</td>      <th>  BIC:               </th> <td>  -74.66</td>\n",
       "</tr>\n",
       "<tr>\n",
       "  <th>Df Model:</th>              <td>     4</td>      <th>                     </th>     <td> </td>   \n",
       "</tr>\n",
       "<tr>\n",
       "  <th>Covariance Type:</th>      <td>nonrobust</td>    <th>                     </th>     <td> </td>   \n",
       "</tr>\n",
       "</table>\n",
       "<table class=\"simpletable\">\n",
       "<tr>\n",
       "    <td></td>       <th>coef</th>     <th>std err</th>      <th>t</th>      <th>P>|t|</th> <th>[95.0% Conf. Int.]</th> \n",
       "</tr>\n",
       "<tr>\n",
       "  <th>mktrf</th> <td>    1.7540</td> <td>    0.300</td> <td>    5.841</td> <td> 0.000</td> <td>    1.142     2.366</td>\n",
       "</tr>\n",
       "<tr>\n",
       "  <th>smb</th>   <td>    0.3646</td> <td>    0.262</td> <td>    1.392</td> <td> 0.174</td> <td>   -0.169     0.898</td>\n",
       "</tr>\n",
       "<tr>\n",
       "  <th>hml</th>   <td>    0.9372</td> <td>    0.322</td> <td>    2.909</td> <td> 0.007</td> <td>    0.281     1.593</td>\n",
       "</tr>\n",
       "<tr>\n",
       "  <th>umd</th>   <td>   -0.1821</td> <td>    0.166</td> <td>   -1.096</td> <td> 0.281</td> <td>   -0.521     0.156</td>\n",
       "</tr>\n",
       "</table>\n",
       "<table class=\"simpletable\">\n",
       "<tr>\n",
       "  <th>Omnibus:</th>       <td> 3.020</td> <th>  Durbin-Watson:     </th> <td>   1.952</td>\n",
       "</tr>\n",
       "<tr>\n",
       "  <th>Prob(Omnibus):</th> <td> 0.221</td> <th>  Jarque-Bera (JB):  </th> <td>   2.025</td>\n",
       "</tr>\n",
       "<tr>\n",
       "  <th>Skew:</th>          <td>-0.566</td> <th>  Prob(JB):          </th> <td>   0.363</td>\n",
       "</tr>\n",
       "<tr>\n",
       "  <th>Kurtosis:</th>      <td> 3.265</td> <th>  Cond. No.          </th> <td>    3.15</td>\n",
       "</tr>\n",
       "</table>"
      ],
      "text/plain": [
       "<class 'statsmodels.iolib.summary.Summary'>\n",
       "\"\"\"\n",
       "                            OLS Regression Results                            \n",
       "==============================================================================\n",
       "Dep. Variable:                    RET   R-squared:                       0.610\n",
       "Model:                            OLS   Adj. R-squared:                  0.562\n",
       "Method:                 Least Squares   F-statistic:                     12.54\n",
       "Date:                Fri, 03 Jun 2016   Prob (F-statistic):           3.02e-06\n",
       "Time:                        17:04:51   Log-Likelihood:                 44.498\n",
       "No. Observations:                  36   AIC:                            -81.00\n",
       "Df Residuals:                      32   BIC:                            -74.66\n",
       "Df Model:                           4                                         \n",
       "Covariance Type:            nonrobust                                         \n",
       "==============================================================================\n",
       "                 coef    std err          t      P>|t|      [95.0% Conf. Int.]\n",
       "------------------------------------------------------------------------------\n",
       "mktrf          1.7540      0.300      5.841      0.000         1.142     2.366\n",
       "smb            0.3646      0.262      1.392      0.174        -0.169     0.898\n",
       "hml            0.9372      0.322      2.909      0.007         0.281     1.593\n",
       "umd           -0.1821      0.166     -1.096      0.281        -0.521     0.156\n",
       "==============================================================================\n",
       "Omnibus:                        3.020   Durbin-Watson:                   1.952\n",
       "Prob(Omnibus):                  0.221   Jarque-Bera (JB):                2.025\n",
       "Skew:                          -0.566   Prob(JB):                        0.363\n",
       "Kurtosis:                       3.265   Cond. No.                         3.15\n",
       "==============================================================================\n",
       "\n",
       "Warnings:\n",
       "[1] Standard Errors assume that the covariance matrix of the errors is correctly specified.\n",
       "\"\"\""
      ]
     },
     "execution_count": 18,
     "metadata": {},
     "output_type": "execute_result"
    }
   ],
   "source": [
    "result.summary()"
   ]
  },
  {
   "cell_type": "code",
   "execution_count": 5,
   "metadata": {
    "collapsed": false
   },
   "outputs": [
    {
     "data": {
      "text/plain": [
       "197137   -0.086755\n",
       "197138    0.033413\n",
       "197139    0.041641\n",
       "197140   -0.031306\n",
       "197141    0.015253\n",
       "197142    0.100739\n",
       "197143    0.094049\n",
       "197144    0.012621\n",
       "197145    0.046620\n",
       "197146    0.096252\n",
       "197147    0.022589\n",
       "197148    0.082785\n",
       "197149    0.106139\n",
       "197150    0.039914\n",
       "197151    0.141626\n",
       "197152    0.054545\n",
       "197153   -0.027673\n",
       "197154    0.016624\n",
       "197155   -0.080000\n",
       "197156    0.003529\n",
       "197157   -0.002347\n",
       "197158    0.000000\n",
       "197159   -0.032805\n",
       "197160    0.018433\n",
       "197161    0.032105\n",
       "197162   -0.018670\n",
       "197163   -0.028797\n",
       "197164    0.034463\n",
       "197165    0.014168\n",
       "197166   -0.032000\n",
       "197167    0.023392\n",
       "197168   -0.118191\n",
       "197169   -0.028942\n",
       "197170   -0.014749\n",
       "197171    0.003937\n",
       "197172    0.174567\n",
       "Name: RET, dtype: float64"
      ]
     },
     "execution_count": 5,
     "metadata": {},
     "output_type": "execute_result"
    }
   ],
   "source": [
    "y[1:]"
   ]
  },
  {
   "cell_type": "code",
   "execution_count": 6,
   "metadata": {
    "collapsed": false
   },
   "outputs": [
    {
     "data": {
      "text/html": [
       "<div>\n",
       "<table border=\"1\" class=\"dataframe\">\n",
       "  <thead>\n",
       "    <tr style=\"text-align: right;\">\n",
       "      <th></th>\n",
       "      <th>mktrf</th>\n",
       "      <th>smb</th>\n",
       "      <th>hml</th>\n",
       "      <th>umd</th>\n",
       "    </tr>\n",
       "  </thead>\n",
       "  <tbody>\n",
       "    <tr>\n",
       "      <th>197137</th>\n",
       "      <td>-0.0006</td>\n",
       "      <td>0.0257</td>\n",
       "      <td>0.0153</td>\n",
       "      <td>0.0105</td>\n",
       "    </tr>\n",
       "    <tr>\n",
       "      <th>197138</th>\n",
       "      <td>0.0254</td>\n",
       "      <td>-0.0214</td>\n",
       "      <td>-0.0342</td>\n",
       "      <td>0.0113</td>\n",
       "    </tr>\n",
       "    <tr>\n",
       "      <th>197139</th>\n",
       "      <td>0.0252</td>\n",
       "      <td>0.0417</td>\n",
       "      <td>-0.0189</td>\n",
       "      <td>0.0010</td>\n",
       "    </tr>\n",
       "    <tr>\n",
       "      <th>197140</th>\n",
       "      <td>-0.0197</td>\n",
       "      <td>-0.0380</td>\n",
       "      <td>-0.0161</td>\n",
       "      <td>0.0058</td>\n",
       "    </tr>\n",
       "    <tr>\n",
       "      <th>197141</th>\n",
       "      <td>0.0423</td>\n",
       "      <td>0.0049</td>\n",
       "      <td>-0.0075</td>\n",
       "      <td>0.0074</td>\n",
       "    </tr>\n",
       "    <tr>\n",
       "      <th>197142</th>\n",
       "      <td>-0.0204</td>\n",
       "      <td>-0.0428</td>\n",
       "      <td>0.0001</td>\n",
       "      <td>-0.0027</td>\n",
       "    </tr>\n",
       "    <tr>\n",
       "      <th>197143</th>\n",
       "      <td>0.0261</td>\n",
       "      <td>0.0299</td>\n",
       "      <td>-0.0066</td>\n",
       "      <td>0.0061</td>\n",
       "    </tr>\n",
       "    <tr>\n",
       "      <th>197144</th>\n",
       "      <td>0.0206</td>\n",
       "      <td>-0.0187</td>\n",
       "      <td>-0.0038</td>\n",
       "      <td>0.0099</td>\n",
       "    </tr>\n",
       "    <tr>\n",
       "      <th>197145</th>\n",
       "      <td>-0.0019</td>\n",
       "      <td>-0.0419</td>\n",
       "      <td>0.0157</td>\n",
       "      <td>-0.0390</td>\n",
       "    </tr>\n",
       "    <tr>\n",
       "      <th>197146</th>\n",
       "      <td>0.0043</td>\n",
       "      <td>-0.0183</td>\n",
       "      <td>0.0467</td>\n",
       "      <td>-0.0324</td>\n",
       "    </tr>\n",
       "    <tr>\n",
       "      <th>197147</th>\n",
       "      <td>0.0465</td>\n",
       "      <td>0.0032</td>\n",
       "      <td>-0.0048</td>\n",
       "      <td>0.0207</td>\n",
       "    </tr>\n",
       "    <tr>\n",
       "      <th>197148</th>\n",
       "      <td>-0.0332</td>\n",
       "      <td>0.0084</td>\n",
       "      <td>-0.0186</td>\n",
       "      <td>0.0172</td>\n",
       "    </tr>\n",
       "    <tr>\n",
       "      <th>197149</th>\n",
       "      <td>0.0281</td>\n",
       "      <td>-0.0043</td>\n",
       "      <td>-0.0015</td>\n",
       "      <td>0.0011</td>\n",
       "    </tr>\n",
       "    <tr>\n",
       "      <th>197150</th>\n",
       "      <td>0.0312</td>\n",
       "      <td>0.0134</td>\n",
       "      <td>-0.0033</td>\n",
       "      <td>0.0048</td>\n",
       "    </tr>\n",
       "    <tr>\n",
       "      <th>197151</th>\n",
       "      <td>0.0418</td>\n",
       "      <td>-0.0157</td>\n",
       "      <td>0.0130</td>\n",
       "      <td>0.0020</td>\n",
       "    </tr>\n",
       "    <tr>\n",
       "      <th>197152</th>\n",
       "      <td>0.0377</td>\n",
       "      <td>0.0285</td>\n",
       "      <td>-0.0159</td>\n",
       "      <td>0.0299</td>\n",
       "    </tr>\n",
       "    <tr>\n",
       "      <th>197153</th>\n",
       "      <td>-0.0271</td>\n",
       "      <td>0.0029</td>\n",
       "      <td>-0.0246</td>\n",
       "      <td>0.0007</td>\n",
       "    </tr>\n",
       "    <tr>\n",
       "      <th>197154</th>\n",
       "      <td>0.0565</td>\n",
       "      <td>0.0187</td>\n",
       "      <td>0.0074</td>\n",
       "      <td>0.0172</td>\n",
       "    </tr>\n",
       "    <tr>\n",
       "      <th>197155</th>\n",
       "      <td>-0.0120</td>\n",
       "      <td>0.0123</td>\n",
       "      <td>-0.0044</td>\n",
       "      <td>0.0066</td>\n",
       "    </tr>\n",
       "    <tr>\n",
       "      <th>197156</th>\n",
       "      <td>0.0280</td>\n",
       "      <td>0.0195</td>\n",
       "      <td>0.0132</td>\n",
       "      <td>-0.0188</td>\n",
       "    </tr>\n",
       "    <tr>\n",
       "      <th>197157</th>\n",
       "      <td>0.0156</td>\n",
       "      <td>-0.0240</td>\n",
       "      <td>0.0041</td>\n",
       "      <td>0.0035</td>\n",
       "    </tr>\n",
       "    <tr>\n",
       "      <th>197158</th>\n",
       "      <td>0.0403</td>\n",
       "      <td>0.0083</td>\n",
       "      <td>-0.0006</td>\n",
       "      <td>0.0209</td>\n",
       "    </tr>\n",
       "    <tr>\n",
       "      <th>197159</th>\n",
       "      <td>0.0129</td>\n",
       "      <td>-0.0039</td>\n",
       "      <td>0.0029</td>\n",
       "      <td>0.0147</td>\n",
       "    </tr>\n",
       "    <tr>\n",
       "      <th>197160</th>\n",
       "      <td>0.0557</td>\n",
       "      <td>0.0047</td>\n",
       "      <td>0.0131</td>\n",
       "      <td>-0.0191</td>\n",
       "    </tr>\n",
       "    <tr>\n",
       "      <th>197161</th>\n",
       "      <td>0.0118</td>\n",
       "      <td>0.0162</td>\n",
       "      <td>0.0325</td>\n",
       "      <td>-0.0296</td>\n",
       "    </tr>\n",
       "    <tr>\n",
       "      <th>197162</th>\n",
       "      <td>0.0078</td>\n",
       "      <td>0.0067</td>\n",
       "      <td>-0.0110</td>\n",
       "      <td>0.0033</td>\n",
       "    </tr>\n",
       "    <tr>\n",
       "      <th>197163</th>\n",
       "      <td>-0.0176</td>\n",
       "      <td>-0.0107</td>\n",
       "      <td>0.0414</td>\n",
       "      <td>0.0010</td>\n",
       "    </tr>\n",
       "    <tr>\n",
       "      <th>197164</th>\n",
       "      <td>0.0273</td>\n",
       "      <td>0.0049</td>\n",
       "      <td>0.0157</td>\n",
       "      <td>-0.0102</td>\n",
       "    </tr>\n",
       "    <tr>\n",
       "      <th>197165</th>\n",
       "      <td>0.0255</td>\n",
       "      <td>0.0071</td>\n",
       "      <td>0.0055</td>\n",
       "      <td>-0.0246</td>\n",
       "    </tr>\n",
       "    <tr>\n",
       "      <th>197166</th>\n",
       "      <td>0.0079</td>\n",
       "      <td>-0.0260</td>\n",
       "      <td>0.0002</td>\n",
       "      <td>0.0306</td>\n",
       "    </tr>\n",
       "    <tr>\n",
       "      <th>197167</th>\n",
       "      <td>0.0389</td>\n",
       "      <td>0.0082</td>\n",
       "      <td>0.0048</td>\n",
       "      <td>-0.0116</td>\n",
       "    </tr>\n",
       "    <tr>\n",
       "      <th>197168</th>\n",
       "      <td>-0.0619</td>\n",
       "      <td>-0.0012</td>\n",
       "      <td>0.0011</td>\n",
       "      <td>0.0664</td>\n",
       "    </tr>\n",
       "    <tr>\n",
       "      <th>197169</th>\n",
       "      <td>-0.0085</td>\n",
       "      <td>-0.0062</td>\n",
       "      <td>-0.0017</td>\n",
       "      <td>0.0381</td>\n",
       "    </tr>\n",
       "    <tr>\n",
       "      <th>197170</th>\n",
       "      <td>0.0311</td>\n",
       "      <td>-0.0024</td>\n",
       "      <td>-0.0006</td>\n",
       "      <td>0.0145</td>\n",
       "    </tr>\n",
       "    <tr>\n",
       "      <th>197171</th>\n",
       "      <td>0.0442</td>\n",
       "      <td>-0.0164</td>\n",
       "      <td>0.0004</td>\n",
       "      <td>-0.0039</td>\n",
       "    </tr>\n",
       "    <tr>\n",
       "      <th>197172</th>\n",
       "      <td>0.0505</td>\n",
       "      <td>0.0253</td>\n",
       "      <td>-0.0216</td>\n",
       "      <td>-0.0794</td>\n",
       "    </tr>\n",
       "  </tbody>\n",
       "</table>\n",
       "</div>"
      ],
      "text/plain": [
       "         mktrf     smb     hml     umd\n",
       "197137 -0.0006  0.0257  0.0153  0.0105\n",
       "197138  0.0254 -0.0214 -0.0342  0.0113\n",
       "197139  0.0252  0.0417 -0.0189  0.0010\n",
       "197140 -0.0197 -0.0380 -0.0161  0.0058\n",
       "197141  0.0423  0.0049 -0.0075  0.0074\n",
       "197142 -0.0204 -0.0428  0.0001 -0.0027\n",
       "197143  0.0261  0.0299 -0.0066  0.0061\n",
       "197144  0.0206 -0.0187 -0.0038  0.0099\n",
       "197145 -0.0019 -0.0419  0.0157 -0.0390\n",
       "197146  0.0043 -0.0183  0.0467 -0.0324\n",
       "197147  0.0465  0.0032 -0.0048  0.0207\n",
       "197148 -0.0332  0.0084 -0.0186  0.0172\n",
       "197149  0.0281 -0.0043 -0.0015  0.0011\n",
       "197150  0.0312  0.0134 -0.0033  0.0048\n",
       "197151  0.0418 -0.0157  0.0130  0.0020\n",
       "197152  0.0377  0.0285 -0.0159  0.0299\n",
       "197153 -0.0271  0.0029 -0.0246  0.0007\n",
       "197154  0.0565  0.0187  0.0074  0.0172\n",
       "197155 -0.0120  0.0123 -0.0044  0.0066\n",
       "197156  0.0280  0.0195  0.0132 -0.0188\n",
       "197157  0.0156 -0.0240  0.0041  0.0035\n",
       "197158  0.0403  0.0083 -0.0006  0.0209\n",
       "197159  0.0129 -0.0039  0.0029  0.0147\n",
       "197160  0.0557  0.0047  0.0131 -0.0191\n",
       "197161  0.0118  0.0162  0.0325 -0.0296\n",
       "197162  0.0078  0.0067 -0.0110  0.0033\n",
       "197163 -0.0176 -0.0107  0.0414  0.0010\n",
       "197164  0.0273  0.0049  0.0157 -0.0102\n",
       "197165  0.0255  0.0071  0.0055 -0.0246\n",
       "197166  0.0079 -0.0260  0.0002  0.0306\n",
       "197167  0.0389  0.0082  0.0048 -0.0116\n",
       "197168 -0.0619 -0.0012  0.0011  0.0664\n",
       "197169 -0.0085 -0.0062 -0.0017  0.0381\n",
       "197170  0.0311 -0.0024 -0.0006  0.0145\n",
       "197171  0.0442 -0.0164  0.0004 -0.0039\n",
       "197172  0.0505  0.0253 -0.0216 -0.0794"
      ]
     },
     "execution_count": 6,
     "metadata": {},
     "output_type": "execute_result"
    }
   ],
   "source": [
    "X.iloc[1:,:]"
   ]
  },
  {
   "cell_type": "code",
   "execution_count": null,
   "metadata": {
    "collapsed": true
   },
   "outputs": [],
   "source": [
    ""
   ]
  },
  {
   "cell_type": "code",
   "execution_count": 14,
   "metadata": {
    "collapsed": false
   },
   "outputs": [
    {
     "name": "stdout",
     "output_type": "stream",
     "text": [
      "The memory_profiler extension is already loaded. To reload it, use:\n",
      "  %reload_ext memory_profiler\n"
     ]
    }
   ],
   "source": [
    "%load_ext memory_profiler"
   ]
  },
  {
   "cell_type": "code",
   "execution_count": 17,
   "metadata": {
    "collapsed": false
   },
   "outputs": [
    {
     "name": "stdout",
     "output_type": "stream",
     "text": [
      "2016-05-31 14:16:39: Initializing cumulate.\n",
      "*** KeyboardInterrupt exception caught in code being profiled.\n"
     ]
    }
   ],
   "source": [
    "%%mprun -f dero.pandas.cumulate\n",
    "cumvars = ['RET']\n",
    "byvars = ['TICKER', 'Date']\n",
    "time=[-12, -1, 12, 24, 36, 48, 60]\n",
    "dero.pandas.cumulate(long_df, cumvars, periodvar='Shift Date', method='between',\n",
    "                       byvars=byvars, time=time, grossify=True)"
   ]
  },
  {
   "cell_type": "code",
   "execution_count": null,
   "metadata": {
    "collapsed": true
   },
   "outputs": [],
   "source": [
    ""
   ]
  },
  {
   "cell_type": "code",
   "execution_count": null,
   "metadata": {
    "collapsed": true
   },
   "outputs": [],
   "source": [
    ""
   ]
  },
  {
   "cell_type": "code",
   "execution_count": null,
   "metadata": {
    "collapsed": true
   },
   "outputs": [],
   "source": [
    ""
   ]
  },
  {
   "cell_type": "code",
   "execution_count": null,
   "metadata": {
    "collapsed": true
   },
   "outputs": [],
   "source": [
    ""
   ]
  },
  {
   "cell_type": "code",
   "execution_count": 44,
   "metadata": {
    "collapsed": true
   },
   "outputs": [],
   "source": [
    "firms = ltw['TICKER'].unique().tolist()\n",
    "ten_firms = firms[:10]\n",
    "ltw_test = ltw[ltw['TICKER'].isin(ten_firms)].copy()"
   ]
  },
  {
   "cell_type": "code",
   "execution_count": 3,
   "metadata": {
    "collapsed": false
   },
   "outputs": [
    {
     "data": {
      "text/plain": [
       "5412"
      ]
     },
     "execution_count": 3,
     "metadata": {},
     "output_type": "execute_result"
    }
   ],
   "source": [
    "len(ltw_test)"
   ]
  },
  {
   "cell_type": "code",
   "execution_count": 6,
   "metadata": {
    "collapsed": false
   },
   "outputs": [
    {
     "data": {
      "text/plain": [
       "False"
      ]
     },
     "execution_count": 6,
     "metadata": {},
     "output_type": "execute_result"
    }
   ],
   "source": [
    "ltw_test.duplicated().any()"
   ]
  },
  {
   "cell_type": "code",
   "execution_count": 11,
   "metadata": {
    "collapsed": false
   },
   "outputs": [],
   "source": [
    "ltw_test2 = ltw_test.drop(['cum_RET', '__key__'], axis=1)"
   ]
  },
  {
   "cell_type": "code",
   "execution_count": 36,
   "metadata": {
    "collapsed": false
   },
   "outputs": [
    {
     "data": {
      "text/html": [
       "<div>\n",
       "<table border=\"1\" class=\"dataframe\">\n",
       "  <thead>\n",
       "    <tr style=\"text-align: right;\">\n",
       "      <th></th>\n",
       "      <th>volume</th>\n",
       "      <th>TICKER</th>\n",
       "      <th>Date</th>\n",
       "      <th>PERMNO</th>\n",
       "      <th>Shift</th>\n",
       "      <th>RET</th>\n",
       "    </tr>\n",
       "  </thead>\n",
       "  <tbody>\n",
       "    <tr>\n",
       "      <th>65614</th>\n",
       "      <td>2375.238095</td>\n",
       "      <td>AATI</td>\n",
       "      <td>2011-10-01</td>\n",
       "      <td>90854.0</td>\n",
       "      <td>48</td>\n",
       "      <td>NaN</td>\n",
       "    </tr>\n",
       "    <tr>\n",
       "      <th>65626</th>\n",
       "      <td>2375.238095</td>\n",
       "      <td>AATI</td>\n",
       "      <td>2011-10-01</td>\n",
       "      <td>90854.0</td>\n",
       "      <td>60</td>\n",
       "      <td>NaN</td>\n",
       "    </tr>\n",
       "    <tr>\n",
       "      <th>65638</th>\n",
       "      <td>2520.238095</td>\n",
       "      <td>AATI</td>\n",
       "      <td>2011-11-01</td>\n",
       "      <td>90854.0</td>\n",
       "      <td>-1</td>\n",
       "      <td>0.006928</td>\n",
       "    </tr>\n",
       "    <tr>\n",
       "      <th>65651</th>\n",
       "      <td>2520.238095</td>\n",
       "      <td>AATI</td>\n",
       "      <td>2011-11-01</td>\n",
       "      <td>90854.0</td>\n",
       "      <td>12</td>\n",
       "      <td>NaN</td>\n",
       "    </tr>\n",
       "    <tr>\n",
       "      <th>65663</th>\n",
       "      <td>2520.238095</td>\n",
       "      <td>AATI</td>\n",
       "      <td>2011-11-01</td>\n",
       "      <td>90854.0</td>\n",
       "      <td>24</td>\n",
       "      <td>NaN</td>\n",
       "    </tr>\n",
       "    <tr>\n",
       "      <th>65675</th>\n",
       "      <td>2520.238095</td>\n",
       "      <td>AATI</td>\n",
       "      <td>2011-11-01</td>\n",
       "      <td>90854.0</td>\n",
       "      <td>36</td>\n",
       "      <td>NaN</td>\n",
       "    </tr>\n",
       "    <tr>\n",
       "      <th>65687</th>\n",
       "      <td>2520.238095</td>\n",
       "      <td>AATI</td>\n",
       "      <td>2011-11-01</td>\n",
       "      <td>90854.0</td>\n",
       "      <td>48</td>\n",
       "      <td>NaN</td>\n",
       "    </tr>\n",
       "    <tr>\n",
       "      <th>65699</th>\n",
       "      <td>2520.238095</td>\n",
       "      <td>AATI</td>\n",
       "      <td>2011-11-01</td>\n",
       "      <td>90854.0</td>\n",
       "      <td>60</td>\n",
       "      <td>NaN</td>\n",
       "    </tr>\n",
       "    <tr>\n",
       "      <th>65711</th>\n",
       "      <td>2744.642857</td>\n",
       "      <td>AATI</td>\n",
       "      <td>2011-12-01</td>\n",
       "      <td>90854.0</td>\n",
       "      <td>-1</td>\n",
       "      <td>0.317660</td>\n",
       "    </tr>\n",
       "    <tr>\n",
       "      <th>65724</th>\n",
       "      <td>2744.642857</td>\n",
       "      <td>AATI</td>\n",
       "      <td>2011-12-01</td>\n",
       "      <td>90854.0</td>\n",
       "      <td>12</td>\n",
       "      <td>NaN</td>\n",
       "    </tr>\n",
       "    <tr>\n",
       "      <th>65736</th>\n",
       "      <td>2744.642857</td>\n",
       "      <td>AATI</td>\n",
       "      <td>2011-12-01</td>\n",
       "      <td>90854.0</td>\n",
       "      <td>24</td>\n",
       "      <td>NaN</td>\n",
       "    </tr>\n",
       "    <tr>\n",
       "      <th>65748</th>\n",
       "      <td>2744.642857</td>\n",
       "      <td>AATI</td>\n",
       "      <td>2011-12-01</td>\n",
       "      <td>90854.0</td>\n",
       "      <td>36</td>\n",
       "      <td>NaN</td>\n",
       "    </tr>\n",
       "    <tr>\n",
       "      <th>65760</th>\n",
       "      <td>2744.642857</td>\n",
       "      <td>AATI</td>\n",
       "      <td>2011-12-01</td>\n",
       "      <td>90854.0</td>\n",
       "      <td>48</td>\n",
       "      <td>NaN</td>\n",
       "    </tr>\n",
       "    <tr>\n",
       "      <th>65772</th>\n",
       "      <td>2744.642857</td>\n",
       "      <td>AATI</td>\n",
       "      <td>2011-12-01</td>\n",
       "      <td>90854.0</td>\n",
       "      <td>60</td>\n",
       "      <td>NaN</td>\n",
       "    </tr>\n",
       "    <tr>\n",
       "      <th>65784</th>\n",
       "      <td>2844.761905</td>\n",
       "      <td>AATI</td>\n",
       "      <td>2012-01-01</td>\n",
       "      <td>90854.0</td>\n",
       "      <td>-1</td>\n",
       "      <td>0.006092</td>\n",
       "    </tr>\n",
       "    <tr>\n",
       "      <th>65797</th>\n",
       "      <td>2844.761905</td>\n",
       "      <td>AATI</td>\n",
       "      <td>2012-01-01</td>\n",
       "      <td>90854.0</td>\n",
       "      <td>12</td>\n",
       "      <td>NaN</td>\n",
       "    </tr>\n",
       "    <tr>\n",
       "      <th>65809</th>\n",
       "      <td>2844.761905</td>\n",
       "      <td>AATI</td>\n",
       "      <td>2012-01-01</td>\n",
       "      <td>90854.0</td>\n",
       "      <td>24</td>\n",
       "      <td>NaN</td>\n",
       "    </tr>\n",
       "    <tr>\n",
       "      <th>65821</th>\n",
       "      <td>2844.761905</td>\n",
       "      <td>AATI</td>\n",
       "      <td>2012-01-01</td>\n",
       "      <td>90854.0</td>\n",
       "      <td>36</td>\n",
       "      <td>NaN</td>\n",
       "    </tr>\n",
       "    <tr>\n",
       "      <th>65833</th>\n",
       "      <td>2844.761905</td>\n",
       "      <td>AATI</td>\n",
       "      <td>2012-01-01</td>\n",
       "      <td>90854.0</td>\n",
       "      <td>48</td>\n",
       "      <td>NaN</td>\n",
       "    </tr>\n",
       "    <tr>\n",
       "      <th>65845</th>\n",
       "      <td>2844.761905</td>\n",
       "      <td>AATI</td>\n",
       "      <td>2012-01-01</td>\n",
       "      <td>90854.0</td>\n",
       "      <td>60</td>\n",
       "      <td>NaN</td>\n",
       "    </tr>\n",
       "  </tbody>\n",
       "</table>\n",
       "</div>"
      ],
      "text/plain": [
       "            volume TICKER       Date   PERMNO  Shift       RET\n",
       "65614  2375.238095   AATI 2011-10-01  90854.0     48       NaN\n",
       "65626  2375.238095   AATI 2011-10-01  90854.0     60       NaN\n",
       "65638  2520.238095   AATI 2011-11-01  90854.0     -1  0.006928\n",
       "65651  2520.238095   AATI 2011-11-01  90854.0     12       NaN\n",
       "65663  2520.238095   AATI 2011-11-01  90854.0     24       NaN\n",
       "65675  2520.238095   AATI 2011-11-01  90854.0     36       NaN\n",
       "65687  2520.238095   AATI 2011-11-01  90854.0     48       NaN\n",
       "65699  2520.238095   AATI 2011-11-01  90854.0     60       NaN\n",
       "65711  2744.642857   AATI 2011-12-01  90854.0     -1  0.317660\n",
       "65724  2744.642857   AATI 2011-12-01  90854.0     12       NaN\n",
       "65736  2744.642857   AATI 2011-12-01  90854.0     24       NaN\n",
       "65748  2744.642857   AATI 2011-12-01  90854.0     36       NaN\n",
       "65760  2744.642857   AATI 2011-12-01  90854.0     48       NaN\n",
       "65772  2744.642857   AATI 2011-12-01  90854.0     60       NaN\n",
       "65784  2844.761905   AATI 2012-01-01  90854.0     -1  0.006092\n",
       "65797  2844.761905   AATI 2012-01-01  90854.0     12       NaN\n",
       "65809  2844.761905   AATI 2012-01-01  90854.0     24       NaN\n",
       "65821  2844.761905   AATI 2012-01-01  90854.0     36       NaN\n",
       "65833  2844.761905   AATI 2012-01-01  90854.0     48       NaN\n",
       "65845  2844.761905   AATI 2012-01-01  90854.0     60       NaN"
      ]
     },
     "execution_count": 36,
     "metadata": {},
     "output_type": "execute_result"
    }
   ],
   "source": [
    "ltw_test2.tail(20)"
   ]
  },
  {
   "cell_type": "code",
   "execution_count": 46,
   "metadata": {
    "collapsed": false
   },
   "outputs": [
    {
     "name": "stdout",
     "output_type": "stream",
     "text": [
      "528\n"
     ]
    },
    {
     "data": {
      "text/html": [
       "<div>\n",
       "<table border=\"1\" class=\"dataframe\">\n",
       "  <thead>\n",
       "    <tr style=\"text-align: right;\">\n",
       "      <th></th>\n",
       "      <th>volume</th>\n",
       "      <th>TICKER</th>\n",
       "      <th>Date</th>\n",
       "      <th>PERMNO</th>\n",
       "      <th>Shift</th>\n",
       "      <th>RET</th>\n",
       "    </tr>\n",
       "  </thead>\n",
       "  <tbody>\n",
       "    <tr>\n",
       "      <th>24904</th>\n",
       "      <td>26790.874525</td>\n",
       "      <td>AAN</td>\n",
       "      <td>2009-05-01</td>\n",
       "      <td>10517.0</td>\n",
       "      <td>-1</td>\n",
       "      <td>0.301282</td>\n",
       "    </tr>\n",
       "    <tr>\n",
       "      <th>24917</th>\n",
       "      <td>26790.874525</td>\n",
       "      <td>AAN</td>\n",
       "      <td>2009-05-01</td>\n",
       "      <td>10517.0</td>\n",
       "      <td>12</td>\n",
       "      <td>-0.146588</td>\n",
       "    </tr>\n",
       "    <tr>\n",
       "      <th>24929</th>\n",
       "      <td>26790.874525</td>\n",
       "      <td>AAN</td>\n",
       "      <td>2009-05-01</td>\n",
       "      <td>10517.0</td>\n",
       "      <td>24</td>\n",
       "      <td>-0.020146</td>\n",
       "    </tr>\n",
       "    <tr>\n",
       "      <th>24941</th>\n",
       "      <td>26790.874525</td>\n",
       "      <td>AAN</td>\n",
       "      <td>2009-05-01</td>\n",
       "      <td>10517.0</td>\n",
       "      <td>36</td>\n",
       "      <td>-0.022819</td>\n",
       "    </tr>\n",
       "    <tr>\n",
       "      <th>24953</th>\n",
       "      <td>26790.874525</td>\n",
       "      <td>AAN</td>\n",
       "      <td>2009-05-01</td>\n",
       "      <td>10517.0</td>\n",
       "      <td>48</td>\n",
       "      <td>-0.021595</td>\n",
       "    </tr>\n",
       "  </tbody>\n",
       "</table>\n",
       "</div>"
      ],
      "text/plain": [
       "             volume TICKER       Date   PERMNO  Shift       RET\n",
       "24904  26790.874525    AAN 2009-05-01  10517.0     -1  0.301282\n",
       "24917  26790.874525    AAN 2009-05-01  10517.0     12 -0.146588\n",
       "24929  26790.874525    AAN 2009-05-01  10517.0     24 -0.020146\n",
       "24941  26790.874525    AAN 2009-05-01  10517.0     36 -0.022819\n",
       "24953  26790.874525    AAN 2009-05-01  10517.0     48 -0.021595"
      ]
     },
     "execution_count": 46,
     "metadata": {},
     "output_type": "execute_result"
    }
   ],
   "source": [
    "# ltw_test3 = ltw_test2.iloc[-12:,:].copy()\n",
    "ltw_test3 = ltw_test2.loc[ltw_test2['TICKER'] == 'AAN', :].copy()\n",
    "print(len(ltw_test3))\n",
    "ltw_test3.head() # this one works`"
   ]
  },
  {
   "cell_type": "code",
   "execution_count": 26,
   "metadata": {
    "collapsed": false
   },
   "outputs": [
    {
     "data": {
      "text/html": [
       "<div>\n",
       "<table border=\"1\" class=\"dataframe\">\n",
       "  <thead>\n",
       "    <tr style=\"text-align: right;\">\n",
       "      <th></th>\n",
       "      <th>TICKER</th>\n",
       "      <th>Date</th>\n",
       "      <th>RET</th>\n",
       "      <th>Shift</th>\n",
       "    </tr>\n",
       "  </thead>\n",
       "  <tbody>\n",
       "    <tr>\n",
       "      <th>11</th>\n",
       "      <td>AA</td>\n",
       "      <td>2004-01-01</td>\n",
       "      <td>0.158183</td>\n",
       "      <td>-1</td>\n",
       "    </tr>\n",
       "    <tr>\n",
       "      <th>24</th>\n",
       "      <td>AA</td>\n",
       "      <td>2004-01-01</td>\n",
       "      <td>-0.060789</td>\n",
       "      <td>12</td>\n",
       "    </tr>\n",
       "    <tr>\n",
       "      <th>36</th>\n",
       "      <td>AA</td>\n",
       "      <td>2004-01-01</td>\n",
       "      <td>0.065269</td>\n",
       "      <td>24</td>\n",
       "    </tr>\n",
       "    <tr>\n",
       "      <th>48</th>\n",
       "      <td>AA</td>\n",
       "      <td>2004-01-01</td>\n",
       "      <td>0.081973</td>\n",
       "      <td>36</td>\n",
       "    </tr>\n",
       "    <tr>\n",
       "      <th>60</th>\n",
       "      <td>AA</td>\n",
       "      <td>2004-01-01</td>\n",
       "      <td>-0.094665</td>\n",
       "      <td>48</td>\n",
       "    </tr>\n",
       "  </tbody>\n",
       "</table>\n",
       "</div>"
      ],
      "text/plain": [
       "   TICKER       Date       RET  Shift\n",
       "11     AA 2004-01-01  0.158183     -1\n",
       "24     AA 2004-01-01 -0.060789     12\n",
       "36     AA 2004-01-01  0.065269     24\n",
       "48     AA 2004-01-01  0.081973     36\n",
       "60     AA 2004-01-01 -0.094665     48"
      ]
     },
     "execution_count": 26,
     "metadata": {},
     "output_type": "execute_result"
    }
   ],
   "source": [
    "ltw_test4 = ltw_test2.loc[:,['TICKER','Date','RET','Shift']].copy()\n",
    "ltw_test4.head()"
   ]
  },
  {
   "cell_type": "code",
   "execution_count": 10,
   "metadata": {
    "collapsed": false
   },
   "outputs": [
    {
     "data": {
      "text/html": [
       "<div>\n",
       "<table border=\"1\" class=\"dataframe\">\n",
       "  <thead>\n",
       "    <tr style=\"text-align: right;\">\n",
       "      <th></th>\n",
       "      <th>volume</th>\n",
       "      <th>TICKER</th>\n",
       "      <th>Date</th>\n",
       "      <th>PERMNO</th>\n",
       "      <th>Shift</th>\n",
       "      <th>RET</th>\n",
       "      <th>__key__</th>\n",
       "    </tr>\n",
       "  </thead>\n",
       "  <tbody>\n",
       "    <tr>\n",
       "      <th>11</th>\n",
       "      <td>2.198232e+06</td>\n",
       "      <td>AA</td>\n",
       "      <td>2004-01-01</td>\n",
       "      <td>24643.0</td>\n",
       "      <td>-1</td>\n",
       "      <td>0.158183</td>\n",
       "      <td>AA_2004-01-01</td>\n",
       "    </tr>\n",
       "    <tr>\n",
       "      <th>24</th>\n",
       "      <td>2.198232e+06</td>\n",
       "      <td>AA</td>\n",
       "      <td>2004-01-01</td>\n",
       "      <td>24643.0</td>\n",
       "      <td>12</td>\n",
       "      <td>-0.060789</td>\n",
       "      <td>AA_2004-01-01</td>\n",
       "    </tr>\n",
       "    <tr>\n",
       "      <th>36</th>\n",
       "      <td>2.198232e+06</td>\n",
       "      <td>AA</td>\n",
       "      <td>2004-01-01</td>\n",
       "      <td>24643.0</td>\n",
       "      <td>24</td>\n",
       "      <td>0.065269</td>\n",
       "      <td>AA_2004-01-01</td>\n",
       "    </tr>\n",
       "    <tr>\n",
       "      <th>48</th>\n",
       "      <td>2.198232e+06</td>\n",
       "      <td>AA</td>\n",
       "      <td>2004-01-01</td>\n",
       "      <td>24643.0</td>\n",
       "      <td>36</td>\n",
       "      <td>0.081973</td>\n",
       "      <td>AA_2004-01-01</td>\n",
       "    </tr>\n",
       "    <tr>\n",
       "      <th>60</th>\n",
       "      <td>2.198232e+06</td>\n",
       "      <td>AA</td>\n",
       "      <td>2004-01-01</td>\n",
       "      <td>24643.0</td>\n",
       "      <td>48</td>\n",
       "      <td>-0.094665</td>\n",
       "      <td>AA_2004-01-01</td>\n",
       "    </tr>\n",
       "  </tbody>\n",
       "</table>\n",
       "</div>"
      ],
      "text/plain": [
       "          volume TICKER       Date   PERMNO  Shift       RET        __key__\n",
       "11  2.198232e+06     AA 2004-01-01  24643.0     -1  0.158183  AA_2004-01-01\n",
       "24  2.198232e+06     AA 2004-01-01  24643.0     12 -0.060789  AA_2004-01-01\n",
       "36  2.198232e+06     AA 2004-01-01  24643.0     24  0.065269  AA_2004-01-01\n",
       "48  2.198232e+06     AA 2004-01-01  24643.0     36  0.081973  AA_2004-01-01\n",
       "60  2.198232e+06     AA 2004-01-01  24643.0     48 -0.094665  AA_2004-01-01"
      ]
     },
     "execution_count": 10,
     "metadata": {},
     "output_type": "execute_result"
    }
   ],
   "source": [
    "ltw_test2.head()"
   ]
  },
  {
   "cell_type": "code",
   "execution_count": 48,
   "metadata": {
    "collapsed": true
   },
   "outputs": [],
   "source": [
    "dero.pandas.show_df(ltw_test3)"
   ]
  },
  {
   "cell_type": "code",
   "execution_count": 47,
   "metadata": {
    "collapsed": false
   },
   "outputs": [
    {
     "ename": "ValueError",
     "evalue": "Index contains duplicate entries, cannot reshape",
     "traceback": [
      "\u001b[1;31m---------------------------------------------------------------------------\u001b[0m",
      "\u001b[1;31mValueError\u001b[0m                                Traceback (most recent call last)",
      "\u001b[1;32m<ipython-input-47-85d67892cb84>\u001b[0m in \u001b[0;36m<module>\u001b[1;34m()\u001b[0m\n\u001b[0;32m      1\u001b[0m \u001b[1;31m# dero.pandas.long_to_wide(ltw_test, groupvars=['TICKER','Date'], values=['RET','cum_RET'], colindex='Shift')\u001b[0m\u001b[1;33m\u001b[0m\u001b[1;33m\u001b[0m\u001b[0m\n\u001b[1;32m----> 2\u001b[1;33m \u001b[0mdero\u001b[0m\u001b[1;33m.\u001b[0m\u001b[0mpandas\u001b[0m\u001b[1;33m.\u001b[0m\u001b[0mlong_to_wide\u001b[0m\u001b[1;33m(\u001b[0m\u001b[0mltw_test3\u001b[0m\u001b[1;33m,\u001b[0m \u001b[0mgroupvars\u001b[0m\u001b[1;33m=\u001b[0m\u001b[1;33m[\u001b[0m\u001b[1;34m'TICKER'\u001b[0m\u001b[1;33m,\u001b[0m\u001b[1;34m'Date'\u001b[0m\u001b[1;33m]\u001b[0m\u001b[1;33m,\u001b[0m \u001b[0mvalues\u001b[0m\u001b[1;33m=\u001b[0m\u001b[1;33m[\u001b[0m\u001b[1;34m'RET'\u001b[0m\u001b[1;33m]\u001b[0m\u001b[1;33m,\u001b[0m \u001b[0mcolindex\u001b[0m\u001b[1;33m=\u001b[0m\u001b[1;34m'Shift'\u001b[0m\u001b[1;33m)\u001b[0m\u001b[1;33m\u001b[0m\u001b[0m\n\u001b[0m",
      "\u001b[1;32mC:\\Users\\derobertisna.UFAD\\Dropbox\\Python\\Dero\\dero\\pandas.py\u001b[0m in \u001b[0;36mlong_to_wide\u001b[1;34m(df, groupvars, values, colindex)\u001b[0m\n\u001b[0;32m    384\u001b[0m             \u001b[0mcombined\u001b[0m \u001b[1;33m=\u001b[0m \u001b[0mdf\u001b[0m\u001b[1;33m.\u001b[0m\u001b[0mcopy\u001b[0m\u001b[1;33m(\u001b[0m\u001b[1;33m)\u001b[0m\u001b[1;33m\u001b[0m\u001b[0m\n\u001b[0;32m    385\u001b[0m         \u001b[1;31m#Create wide dataset\u001b[0m\u001b[1;33m\u001b[0m\u001b[1;33m\u001b[0m\u001b[0m\n\u001b[1;32m--> 386\u001b[1;33m         \u001b[0mraw_wide\u001b[0m \u001b[1;33m=\u001b[0m \u001b[0mdf\u001b[0m\u001b[1;33m.\u001b[0m\u001b[0mpivot\u001b[0m\u001b[1;33m(\u001b[0m\u001b[0mindex\u001b[0m\u001b[1;33m=\u001b[0m\u001b[1;34m'__key__'\u001b[0m\u001b[1;33m,\u001b[0m \u001b[0mcolumns\u001b[0m\u001b[1;33m=\u001b[0m\u001b[0mcolindex\u001b[0m\u001b[1;33m,\u001b[0m \u001b[0mvalues\u001b[0m\u001b[1;33m=\u001b[0m\u001b[0mvalue\u001b[0m\u001b[1;33m)\u001b[0m\u001b[1;33m\u001b[0m\u001b[0m\n\u001b[0m\u001b[0;32m    387\u001b[0m         \u001b[0mraw_wide\u001b[0m\u001b[1;33m.\u001b[0m\u001b[0mcolumns\u001b[0m \u001b[1;33m=\u001b[0m \u001b[1;33m[\u001b[0m\u001b[0mvalue\u001b[0m \u001b[1;33m+\u001b[0m \u001b[0mstr\u001b[0m\u001b[1;33m(\u001b[0m\u001b[0mcol\u001b[0m\u001b[1;33m)\u001b[0m \u001b[1;32mfor\u001b[0m \u001b[0mcol\u001b[0m \u001b[1;32min\u001b[0m \u001b[0mraw_wide\u001b[0m\u001b[1;33m.\u001b[0m\u001b[0mcolumns\u001b[0m\u001b[1;33m]\u001b[0m\u001b[1;33m\u001b[0m\u001b[0m\n\u001b[0;32m    388\u001b[0m         \u001b[0mwide\u001b[0m \u001b[1;33m=\u001b[0m \u001b[0mraw_wide\u001b[0m\u001b[1;33m.\u001b[0m\u001b[0mreset_index\u001b[0m\u001b[1;33m(\u001b[0m\u001b[1;33m)\u001b[0m\u001b[1;33m\u001b[0m\u001b[0m\n",
      "\u001b[1;32mC:\\Anaconda3\\lib\\site-packages\\pandas\\core\\frame.py\u001b[0m in \u001b[0;36mpivot\u001b[1;34m(self, index, columns, values)\u001b[0m\n\u001b[0;32m   3844\u001b[0m         \"\"\"\n\u001b[0;32m   3845\u001b[0m         \u001b[1;32mfrom\u001b[0m \u001b[0mpandas\u001b[0m\u001b[1;33m.\u001b[0m\u001b[0mcore\u001b[0m\u001b[1;33m.\u001b[0m\u001b[0mreshape\u001b[0m \u001b[1;32mimport\u001b[0m \u001b[0mpivot\u001b[0m\u001b[1;33m\u001b[0m\u001b[0m\n\u001b[1;32m-> 3846\u001b[1;33m         \u001b[1;32mreturn\u001b[0m \u001b[0mpivot\u001b[0m\u001b[1;33m(\u001b[0m\u001b[0mself\u001b[0m\u001b[1;33m,\u001b[0m \u001b[0mindex\u001b[0m\u001b[1;33m=\u001b[0m\u001b[0mindex\u001b[0m\u001b[1;33m,\u001b[0m \u001b[0mcolumns\u001b[0m\u001b[1;33m=\u001b[0m\u001b[0mcolumns\u001b[0m\u001b[1;33m,\u001b[0m \u001b[0mvalues\u001b[0m\u001b[1;33m=\u001b[0m\u001b[0mvalues\u001b[0m\u001b[1;33m)\u001b[0m\u001b[1;33m\u001b[0m\u001b[0m\n\u001b[0m\u001b[0;32m   3847\u001b[0m \u001b[1;33m\u001b[0m\u001b[0m\n\u001b[0;32m   3848\u001b[0m     \u001b[1;32mdef\u001b[0m \u001b[0mstack\u001b[0m\u001b[1;33m(\u001b[0m\u001b[0mself\u001b[0m\u001b[1;33m,\u001b[0m \u001b[0mlevel\u001b[0m\u001b[1;33m=\u001b[0m\u001b[1;33m-\u001b[0m\u001b[1;36m1\u001b[0m\u001b[1;33m,\u001b[0m \u001b[0mdropna\u001b[0m\u001b[1;33m=\u001b[0m\u001b[1;32mTrue\u001b[0m\u001b[1;33m)\u001b[0m\u001b[1;33m:\u001b[0m\u001b[1;33m\u001b[0m\u001b[0m\n",
      "\u001b[1;32mC:\\Anaconda3\\lib\\site-packages\\pandas\\core\\reshape.py\u001b[0m in \u001b[0;36mpivot\u001b[1;34m(self, index, columns, values)\u001b[0m\n\u001b[0;32m    330\u001b[0m         indexed = Series(self[values].values,\n\u001b[0;32m    331\u001b[0m                          index=MultiIndex.from_arrays([index, self[columns]]))\n\u001b[1;32m--> 332\u001b[1;33m         \u001b[1;32mreturn\u001b[0m \u001b[0mindexed\u001b[0m\u001b[1;33m.\u001b[0m\u001b[0munstack\u001b[0m\u001b[1;33m(\u001b[0m\u001b[0mcolumns\u001b[0m\u001b[1;33m)\u001b[0m\u001b[1;33m\u001b[0m\u001b[0m\n\u001b[0m\u001b[0;32m    333\u001b[0m \u001b[1;33m\u001b[0m\u001b[0m\n\u001b[0;32m    334\u001b[0m \u001b[1;33m\u001b[0m\u001b[0m\n",
      "\u001b[1;32mC:\\Anaconda3\\lib\\site-packages\\pandas\\core\\series.py\u001b[0m in \u001b[0;36munstack\u001b[1;34m(self, level, fill_value)\u001b[0m\n\u001b[0;32m   2041\u001b[0m         \"\"\"\n\u001b[0;32m   2042\u001b[0m         \u001b[1;32mfrom\u001b[0m \u001b[0mpandas\u001b[0m\u001b[1;33m.\u001b[0m\u001b[0mcore\u001b[0m\u001b[1;33m.\u001b[0m\u001b[0mreshape\u001b[0m \u001b[1;32mimport\u001b[0m \u001b[0munstack\u001b[0m\u001b[1;33m\u001b[0m\u001b[0m\n\u001b[1;32m-> 2043\u001b[1;33m         \u001b[1;32mreturn\u001b[0m \u001b[0munstack\u001b[0m\u001b[1;33m(\u001b[0m\u001b[0mself\u001b[0m\u001b[1;33m,\u001b[0m \u001b[0mlevel\u001b[0m\u001b[1;33m,\u001b[0m \u001b[0mfill_value\u001b[0m\u001b[1;33m)\u001b[0m\u001b[1;33m\u001b[0m\u001b[0m\n\u001b[0m\u001b[0;32m   2044\u001b[0m \u001b[1;33m\u001b[0m\u001b[0m\n\u001b[0;32m   2045\u001b[0m     \u001b[1;31m# ----------------------------------------------------------------------\u001b[0m\u001b[1;33m\u001b[0m\u001b[1;33m\u001b[0m\u001b[0m\n",
      "\u001b[1;32mC:\\Anaconda3\\lib\\site-packages\\pandas\\core\\reshape.py\u001b[0m in \u001b[0;36munstack\u001b[1;34m(obj, level, fill_value)\u001b[0m\n\u001b[0;32m    405\u001b[0m     \u001b[1;32melse\u001b[0m\u001b[1;33m:\u001b[0m\u001b[1;33m\u001b[0m\u001b[0m\n\u001b[0;32m    406\u001b[0m         unstacker = _Unstacker(obj.values, obj.index, level=level,\n\u001b[1;32m--> 407\u001b[1;33m                                fill_value=fill_value)\n\u001b[0m\u001b[0;32m    408\u001b[0m         \u001b[1;32mreturn\u001b[0m \u001b[0munstacker\u001b[0m\u001b[1;33m.\u001b[0m\u001b[0mget_result\u001b[0m\u001b[1;33m(\u001b[0m\u001b[1;33m)\u001b[0m\u001b[1;33m\u001b[0m\u001b[0m\n\u001b[0;32m    409\u001b[0m \u001b[1;33m\u001b[0m\u001b[0m\n",
      "\u001b[1;32mC:\\Anaconda3\\lib\\site-packages\\pandas\\core\\reshape.py\u001b[0m in \u001b[0;36m__init__\u001b[1;34m(self, values, index, level, value_columns, fill_value)\u001b[0m\n\u001b[0;32m     99\u001b[0m \u001b[1;33m\u001b[0m\u001b[0m\n\u001b[0;32m    100\u001b[0m         \u001b[0mself\u001b[0m\u001b[1;33m.\u001b[0m\u001b[0m_make_sorted_values_labels\u001b[0m\u001b[1;33m(\u001b[0m\u001b[1;33m)\u001b[0m\u001b[1;33m\u001b[0m\u001b[0m\n\u001b[1;32m--> 101\u001b[1;33m         \u001b[0mself\u001b[0m\u001b[1;33m.\u001b[0m\u001b[0m_make_selectors\u001b[0m\u001b[1;33m(\u001b[0m\u001b[1;33m)\u001b[0m\u001b[1;33m\u001b[0m\u001b[0m\n\u001b[0m\u001b[0;32m    102\u001b[0m \u001b[1;33m\u001b[0m\u001b[0m\n\u001b[0;32m    103\u001b[0m     \u001b[1;32mdef\u001b[0m \u001b[0m_make_sorted_values_labels\u001b[0m\u001b[1;33m(\u001b[0m\u001b[0mself\u001b[0m\u001b[1;33m)\u001b[0m\u001b[1;33m:\u001b[0m\u001b[1;33m\u001b[0m\u001b[0m\n",
      "\u001b[1;32mC:\\Anaconda3\\lib\\site-packages\\pandas\\core\\reshape.py\u001b[0m in \u001b[0;36m_make_selectors\u001b[1;34m(self)\u001b[0m\n\u001b[0;32m    137\u001b[0m \u001b[1;33m\u001b[0m\u001b[0m\n\u001b[0;32m    138\u001b[0m         \u001b[1;32mif\u001b[0m \u001b[0mmask\u001b[0m\u001b[1;33m.\u001b[0m\u001b[0msum\u001b[0m\u001b[1;33m(\u001b[0m\u001b[1;33m)\u001b[0m \u001b[1;33m<\u001b[0m \u001b[0mlen\u001b[0m\u001b[1;33m(\u001b[0m\u001b[0mself\u001b[0m\u001b[1;33m.\u001b[0m\u001b[0mindex\u001b[0m\u001b[1;33m)\u001b[0m\u001b[1;33m:\u001b[0m\u001b[1;33m\u001b[0m\u001b[0m\n\u001b[1;32m--> 139\u001b[1;33m             raise ValueError('Index contains duplicate entries, '\n\u001b[0m\u001b[0;32m    140\u001b[0m                              'cannot reshape')\n\u001b[0;32m    141\u001b[0m \u001b[1;33m\u001b[0m\u001b[0m\n",
      "\u001b[1;31mValueError\u001b[0m: Index contains duplicate entries, cannot reshape"
     ],
     "output_type": "error"
    }
   ],
   "source": [
    "# dero.pandas.long_to_wide(ltw_test, groupvars=['TICKER','Date'], values=['RET','cum_RET'], colindex='Shift')\n",
    "dero.pandas.long_to_wide(ltw_test3, groupvars=['TICKER','Date'], values=['RET'], colindex='Shift')"
   ]
  },
  {
   "cell_type": "code",
   "execution_count": 45,
   "metadata": {
    "collapsed": false
   },
   "outputs": [
    {
     "name": "stdout",
     "output_type": "stream",
     "text": [
      "AA\n",
      "AAII\n",
      "AAIT\n",
      "AAL\n",
      "AAME\n",
      "AAN\n"
     ]
    },
    {
     "ename": "ValueError",
     "evalue": "Index contains duplicate entries, cannot reshape",
     "traceback": [
      "\u001b[1;31m---------------------------------------------------------------------------\u001b[0m",
      "\u001b[1;31mValueError\u001b[0m                                Traceback (most recent call last)",
      "\u001b[1;32m<ipython-input-45-f3f36e63dc17>\u001b[0m in \u001b[0;36m<module>\u001b[1;34m()\u001b[0m\n\u001b[0;32m      2\u001b[0m     \u001b[0mtemp_df\u001b[0m \u001b[1;33m=\u001b[0m \u001b[0mltw_test\u001b[0m\u001b[1;33m[\u001b[0m\u001b[0mltw_test\u001b[0m\u001b[1;33m[\u001b[0m\u001b[1;34m'TICKER'\u001b[0m\u001b[1;33m]\u001b[0m \u001b[1;33m==\u001b[0m \u001b[0mfirm\u001b[0m\u001b[1;33m]\u001b[0m\u001b[1;33m.\u001b[0m\u001b[0mcopy\u001b[0m\u001b[1;33m(\u001b[0m\u001b[1;33m)\u001b[0m\u001b[1;33m\u001b[0m\u001b[0m\n\u001b[0;32m      3\u001b[0m     \u001b[0mprint\u001b[0m\u001b[1;33m(\u001b[0m\u001b[0mfirm\u001b[0m\u001b[1;33m)\u001b[0m\u001b[1;33m\u001b[0m\u001b[0m\n\u001b[1;32m----> 4\u001b[1;33m     \u001b[0mdero\u001b[0m\u001b[1;33m.\u001b[0m\u001b[0mpandas\u001b[0m\u001b[1;33m.\u001b[0m\u001b[0mlong_to_wide\u001b[0m\u001b[1;33m(\u001b[0m\u001b[0mtemp_df\u001b[0m\u001b[1;33m,\u001b[0m \u001b[0mgroupvars\u001b[0m\u001b[1;33m=\u001b[0m\u001b[1;33m[\u001b[0m\u001b[1;34m'TICKER'\u001b[0m\u001b[1;33m,\u001b[0m\u001b[1;34m'Date'\u001b[0m\u001b[1;33m]\u001b[0m\u001b[1;33m,\u001b[0m \u001b[0mvalues\u001b[0m\u001b[1;33m=\u001b[0m\u001b[1;33m[\u001b[0m\u001b[1;34m'RET'\u001b[0m\u001b[1;33m,\u001b[0m\u001b[1;34m'cum_RET'\u001b[0m\u001b[1;33m]\u001b[0m\u001b[1;33m,\u001b[0m \u001b[0mcolindex\u001b[0m\u001b[1;33m=\u001b[0m\u001b[1;34m'Shift'\u001b[0m\u001b[1;33m)\u001b[0m\u001b[1;33m\u001b[0m\u001b[0m\n\u001b[0m",
      "\u001b[1;32mC:\\Users\\derobertisna.UFAD\\Dropbox\\Python\\Dero\\dero\\pandas.py\u001b[0m in \u001b[0;36mlong_to_wide\u001b[1;34m(df, groupvars, values, colindex)\u001b[0m\n\u001b[0;32m    384\u001b[0m             \u001b[0mcombined\u001b[0m \u001b[1;33m=\u001b[0m \u001b[0mdf\u001b[0m\u001b[1;33m.\u001b[0m\u001b[0mcopy\u001b[0m\u001b[1;33m(\u001b[0m\u001b[1;33m)\u001b[0m\u001b[1;33m\u001b[0m\u001b[0m\n\u001b[0;32m    385\u001b[0m         \u001b[1;31m#Create wide dataset\u001b[0m\u001b[1;33m\u001b[0m\u001b[1;33m\u001b[0m\u001b[0m\n\u001b[1;32m--> 386\u001b[1;33m         \u001b[0mraw_wide\u001b[0m \u001b[1;33m=\u001b[0m \u001b[0mdf\u001b[0m\u001b[1;33m.\u001b[0m\u001b[0mpivot\u001b[0m\u001b[1;33m(\u001b[0m\u001b[0mindex\u001b[0m\u001b[1;33m=\u001b[0m\u001b[1;34m'__key__'\u001b[0m\u001b[1;33m,\u001b[0m \u001b[0mcolumns\u001b[0m\u001b[1;33m=\u001b[0m\u001b[0mcolindex\u001b[0m\u001b[1;33m,\u001b[0m \u001b[0mvalues\u001b[0m\u001b[1;33m=\u001b[0m\u001b[0mvalue\u001b[0m\u001b[1;33m)\u001b[0m\u001b[1;33m\u001b[0m\u001b[0m\n\u001b[0m\u001b[0;32m    387\u001b[0m         \u001b[0mraw_wide\u001b[0m\u001b[1;33m.\u001b[0m\u001b[0mcolumns\u001b[0m \u001b[1;33m=\u001b[0m \u001b[1;33m[\u001b[0m\u001b[0mvalue\u001b[0m \u001b[1;33m+\u001b[0m \u001b[0mstr\u001b[0m\u001b[1;33m(\u001b[0m\u001b[0mcol\u001b[0m\u001b[1;33m)\u001b[0m \u001b[1;32mfor\u001b[0m \u001b[0mcol\u001b[0m \u001b[1;32min\u001b[0m \u001b[0mraw_wide\u001b[0m\u001b[1;33m.\u001b[0m\u001b[0mcolumns\u001b[0m\u001b[1;33m]\u001b[0m\u001b[1;33m\u001b[0m\u001b[0m\n\u001b[0;32m    388\u001b[0m         \u001b[0mwide\u001b[0m \u001b[1;33m=\u001b[0m \u001b[0mraw_wide\u001b[0m\u001b[1;33m.\u001b[0m\u001b[0mreset_index\u001b[0m\u001b[1;33m(\u001b[0m\u001b[1;33m)\u001b[0m\u001b[1;33m\u001b[0m\u001b[0m\n",
      "\u001b[1;32mC:\\Anaconda3\\lib\\site-packages\\pandas\\core\\frame.py\u001b[0m in \u001b[0;36mpivot\u001b[1;34m(self, index, columns, values)\u001b[0m\n\u001b[0;32m   3844\u001b[0m         \"\"\"\n\u001b[0;32m   3845\u001b[0m         \u001b[1;32mfrom\u001b[0m \u001b[0mpandas\u001b[0m\u001b[1;33m.\u001b[0m\u001b[0mcore\u001b[0m\u001b[1;33m.\u001b[0m\u001b[0mreshape\u001b[0m \u001b[1;32mimport\u001b[0m \u001b[0mpivot\u001b[0m\u001b[1;33m\u001b[0m\u001b[0m\n\u001b[1;32m-> 3846\u001b[1;33m         \u001b[1;32mreturn\u001b[0m \u001b[0mpivot\u001b[0m\u001b[1;33m(\u001b[0m\u001b[0mself\u001b[0m\u001b[1;33m,\u001b[0m \u001b[0mindex\u001b[0m\u001b[1;33m=\u001b[0m\u001b[0mindex\u001b[0m\u001b[1;33m,\u001b[0m \u001b[0mcolumns\u001b[0m\u001b[1;33m=\u001b[0m\u001b[0mcolumns\u001b[0m\u001b[1;33m,\u001b[0m \u001b[0mvalues\u001b[0m\u001b[1;33m=\u001b[0m\u001b[0mvalues\u001b[0m\u001b[1;33m)\u001b[0m\u001b[1;33m\u001b[0m\u001b[0m\n\u001b[0m\u001b[0;32m   3847\u001b[0m \u001b[1;33m\u001b[0m\u001b[0m\n\u001b[0;32m   3848\u001b[0m     \u001b[1;32mdef\u001b[0m \u001b[0mstack\u001b[0m\u001b[1;33m(\u001b[0m\u001b[0mself\u001b[0m\u001b[1;33m,\u001b[0m \u001b[0mlevel\u001b[0m\u001b[1;33m=\u001b[0m\u001b[1;33m-\u001b[0m\u001b[1;36m1\u001b[0m\u001b[1;33m,\u001b[0m \u001b[0mdropna\u001b[0m\u001b[1;33m=\u001b[0m\u001b[1;32mTrue\u001b[0m\u001b[1;33m)\u001b[0m\u001b[1;33m:\u001b[0m\u001b[1;33m\u001b[0m\u001b[0m\n",
      "\u001b[1;32mC:\\Anaconda3\\lib\\site-packages\\pandas\\core\\reshape.py\u001b[0m in \u001b[0;36mpivot\u001b[1;34m(self, index, columns, values)\u001b[0m\n\u001b[0;32m    330\u001b[0m         indexed = Series(self[values].values,\n\u001b[0;32m    331\u001b[0m                          index=MultiIndex.from_arrays([index, self[columns]]))\n\u001b[1;32m--> 332\u001b[1;33m         \u001b[1;32mreturn\u001b[0m \u001b[0mindexed\u001b[0m\u001b[1;33m.\u001b[0m\u001b[0munstack\u001b[0m\u001b[1;33m(\u001b[0m\u001b[0mcolumns\u001b[0m\u001b[1;33m)\u001b[0m\u001b[1;33m\u001b[0m\u001b[0m\n\u001b[0m\u001b[0;32m    333\u001b[0m \u001b[1;33m\u001b[0m\u001b[0m\n\u001b[0;32m    334\u001b[0m \u001b[1;33m\u001b[0m\u001b[0m\n",
      "\u001b[1;32mC:\\Anaconda3\\lib\\site-packages\\pandas\\core\\series.py\u001b[0m in \u001b[0;36munstack\u001b[1;34m(self, level, fill_value)\u001b[0m\n\u001b[0;32m   2041\u001b[0m         \"\"\"\n\u001b[0;32m   2042\u001b[0m         \u001b[1;32mfrom\u001b[0m \u001b[0mpandas\u001b[0m\u001b[1;33m.\u001b[0m\u001b[0mcore\u001b[0m\u001b[1;33m.\u001b[0m\u001b[0mreshape\u001b[0m \u001b[1;32mimport\u001b[0m \u001b[0munstack\u001b[0m\u001b[1;33m\u001b[0m\u001b[0m\n\u001b[1;32m-> 2043\u001b[1;33m         \u001b[1;32mreturn\u001b[0m \u001b[0munstack\u001b[0m\u001b[1;33m(\u001b[0m\u001b[0mself\u001b[0m\u001b[1;33m,\u001b[0m \u001b[0mlevel\u001b[0m\u001b[1;33m,\u001b[0m \u001b[0mfill_value\u001b[0m\u001b[1;33m)\u001b[0m\u001b[1;33m\u001b[0m\u001b[0m\n\u001b[0m\u001b[0;32m   2044\u001b[0m \u001b[1;33m\u001b[0m\u001b[0m\n\u001b[0;32m   2045\u001b[0m     \u001b[1;31m# ----------------------------------------------------------------------\u001b[0m\u001b[1;33m\u001b[0m\u001b[1;33m\u001b[0m\u001b[0m\n",
      "\u001b[1;32mC:\\Anaconda3\\lib\\site-packages\\pandas\\core\\reshape.py\u001b[0m in \u001b[0;36munstack\u001b[1;34m(obj, level, fill_value)\u001b[0m\n\u001b[0;32m    405\u001b[0m     \u001b[1;32melse\u001b[0m\u001b[1;33m:\u001b[0m\u001b[1;33m\u001b[0m\u001b[0m\n\u001b[0;32m    406\u001b[0m         unstacker = _Unstacker(obj.values, obj.index, level=level,\n\u001b[1;32m--> 407\u001b[1;33m                                fill_value=fill_value)\n\u001b[0m\u001b[0;32m    408\u001b[0m         \u001b[1;32mreturn\u001b[0m \u001b[0munstacker\u001b[0m\u001b[1;33m.\u001b[0m\u001b[0mget_result\u001b[0m\u001b[1;33m(\u001b[0m\u001b[1;33m)\u001b[0m\u001b[1;33m\u001b[0m\u001b[0m\n\u001b[0;32m    409\u001b[0m \u001b[1;33m\u001b[0m\u001b[0m\n",
      "\u001b[1;32mC:\\Anaconda3\\lib\\site-packages\\pandas\\core\\reshape.py\u001b[0m in \u001b[0;36m__init__\u001b[1;34m(self, values, index, level, value_columns, fill_value)\u001b[0m\n\u001b[0;32m     99\u001b[0m \u001b[1;33m\u001b[0m\u001b[0m\n\u001b[0;32m    100\u001b[0m         \u001b[0mself\u001b[0m\u001b[1;33m.\u001b[0m\u001b[0m_make_sorted_values_labels\u001b[0m\u001b[1;33m(\u001b[0m\u001b[1;33m)\u001b[0m\u001b[1;33m\u001b[0m\u001b[0m\n\u001b[1;32m--> 101\u001b[1;33m         \u001b[0mself\u001b[0m\u001b[1;33m.\u001b[0m\u001b[0m_make_selectors\u001b[0m\u001b[1;33m(\u001b[0m\u001b[1;33m)\u001b[0m\u001b[1;33m\u001b[0m\u001b[0m\n\u001b[0m\u001b[0;32m    102\u001b[0m \u001b[1;33m\u001b[0m\u001b[0m\n\u001b[0;32m    103\u001b[0m     \u001b[1;32mdef\u001b[0m \u001b[0m_make_sorted_values_labels\u001b[0m\u001b[1;33m(\u001b[0m\u001b[0mself\u001b[0m\u001b[1;33m)\u001b[0m\u001b[1;33m:\u001b[0m\u001b[1;33m\u001b[0m\u001b[0m\n",
      "\u001b[1;32mC:\\Anaconda3\\lib\\site-packages\\pandas\\core\\reshape.py\u001b[0m in \u001b[0;36m_make_selectors\u001b[1;34m(self)\u001b[0m\n\u001b[0;32m    137\u001b[0m \u001b[1;33m\u001b[0m\u001b[0m\n\u001b[0;32m    138\u001b[0m         \u001b[1;32mif\u001b[0m \u001b[0mmask\u001b[0m\u001b[1;33m.\u001b[0m\u001b[0msum\u001b[0m\u001b[1;33m(\u001b[0m\u001b[1;33m)\u001b[0m \u001b[1;33m<\u001b[0m \u001b[0mlen\u001b[0m\u001b[1;33m(\u001b[0m\u001b[0mself\u001b[0m\u001b[1;33m.\u001b[0m\u001b[0mindex\u001b[0m\u001b[1;33m)\u001b[0m\u001b[1;33m:\u001b[0m\u001b[1;33m\u001b[0m\u001b[0m\n\u001b[1;32m--> 139\u001b[1;33m             raise ValueError('Index contains duplicate entries, '\n\u001b[0m\u001b[0;32m    140\u001b[0m                              'cannot reshape')\n\u001b[0;32m    141\u001b[0m \u001b[1;33m\u001b[0m\u001b[0m\n",
      "\u001b[1;31mValueError\u001b[0m: Index contains duplicate entries, cannot reshape"
     ],
     "output_type": "error"
    }
   ],
   "source": [
    "for firm in ten_firms:\n",
    "    temp_df = ltw_test[ltw_test['TICKER'] == firm].copy()\n",
    "    print(firm)\n",
    "    dero.pandas.long_to_wide(temp_df, groupvars=['TICKER','Date'], values=['RET','cum_RET'], colindex='Shift')"
   ]
  },
  {
   "cell_type": "code",
   "execution_count": 52,
   "metadata": {
    "collapsed": false
   },
   "outputs": [
    {
     "name": "stdout",
     "output_type": "stream",
     "text": [
      "pd.DataFrame(data = [\n",
      "(10516, 'a', '1/1/2000'),\n",
      "(10516, 'a', '1/2/2000'),\n",
      "(10516, 'a', '1/3/2000'),\n",
      "(10516, 'a', '1/4/2000'),\n",
      "(10516, 'b', '1/1/2000'),\n",
      "(10516, 'b', '1/2/2000'),\n",
      "(10516, 'b', '1/3/2000'),\n",
      "(10516, 'b', '1/4/2000'),\n",
      "(10517, 'a', '1/1/2000'),\n",
      "(10517, 'a', '1/2/2000'),\n",
      "(10517, 'a', '1/3/2000'),\n",
      "(10517, 'a', '1/4/2000'),\n",
      "], columns = ['PERMNO', 'byvar', 'Date'])\n"
     ]
    }
   ],
   "source": [
    ""
   ]
  },
  {
   "cell_type": "code",
   "execution_count": 56,
   "metadata": {
    "collapsed": false
   },
   "outputs": [
    {
     "name": "stdout",
     "output_type": "stream",
     "text": [
      "pd.DataFrame(data = [\n",
      "('a', Timestamp('2000-01-01 00:00:00'), 'ADM'),\n",
      "('a', Timestamp('2000-01-02 00:00:00'), 'ADM'),\n",
      "('a', Timestamp('2000-01-03 00:00:00'), 'ADM'),\n",
      "('a', Timestamp('2000-01-04 00:00:00'), 'ADM'),\n",
      "('b', Timestamp('2000-01-01 00:00:00'), 'ADM'),\n",
      "('b', Timestamp('2000-01-02 00:00:00'), 'ADM'),\n",
      "('b', Timestamp('2000-01-03 00:00:00'), 'ADM'),\n",
      "('b', Timestamp('2000-01-04 00:00:00'), 'ADM'),\n",
      "('a', Timestamp('2000-01-01 00:00:00'), 'RNT'),\n",
      "('a', Timestamp('2000-01-02 00:00:00'), 'RNT'),\n",
      "('a', Timestamp('2000-01-03 00:00:00'), 'RNT'),\n",
      "('a', Timestamp('2000-01-04 00:00:00'), 'RNT'),\n",
      "], columns = ['byvar', 'Date', 'TICKER'])\n"
     ]
    }
   ],
   "source": [
    "df['Date'] = pd.to_datetime(df['Date'])\n",
    "df2 = dero.data.merge_dsenames(df, on='PERMNO', get='TICKER')\n",
    "\n",
    "dero.pandas.to_copy_paste(df2.drop(['RET','PERMNO'], axis=1))"
   ]
  },
  {
   "cell_type": "code",
   "execution_count": 3,
   "metadata": {
    "collapsed": false
   },
   "outputs": [],
   "source": [
    "from pandas import Timestamp\n",
    "dse_df = pd.DataFrame(data = [\n",
    "('a', Timestamp('2000-01-01 00:00:00'), 'ADM'),\n",
    "('a', Timestamp('2000-01-02 00:00:00'), 'ADM'),\n",
    "('a', Timestamp('2000-01-03 00:00:00'), 'ADM'),\n",
    "('a', Timestamp('2000-01-04 00:00:00'), 'ADM'),\n",
    "('b', Timestamp('2000-01-01 00:00:00'), 'ADM'),\n",
    "('b', Timestamp('2000-01-02 00:00:00'), 'ADM'),\n",
    "('b', Timestamp('2000-01-03 00:00:00'), 'ADM'),\n",
    "('b', Timestamp('2000-01-04 00:00:00'), 'ADM'),\n",
    "('a', Timestamp('2008-01-01 00:00:00'), 'AAN'),\n",
    "('a', Timestamp('2009-01-02 00:00:00'), 'AAN'),\n",
    "('a', Timestamp('2010-01-03 00:00:00'), 'AAN'),\n",
    "('a', Timestamp('2011-01-04 00:00:00'), 'AAN'),\n",
    "], columns = ['byvar', 'Date', 'TICKER'])"
   ]
  },
  {
   "cell_type": "code",
   "execution_count": 12,
   "metadata": {
    "collapsed": false
   },
   "outputs": [
    {
     "data": {
      "text/html": [
       "<div>\n",
       "<table border=\"1\" class=\"dataframe\">\n",
       "  <thead>\n",
       "    <tr style=\"text-align: right;\">\n",
       "      <th></th>\n",
       "      <th>byvar</th>\n",
       "      <th>Date</th>\n",
       "      <th>TICKER</th>\n",
       "      <th>PERMNO</th>\n",
       "    </tr>\n",
       "  </thead>\n",
       "  <tbody>\n",
       "    <tr>\n",
       "      <th>0</th>\n",
       "      <td>a</td>\n",
       "      <td>2000-01-01</td>\n",
       "      <td>ADM</td>\n",
       "      <td>10516.0</td>\n",
       "    </tr>\n",
       "    <tr>\n",
       "      <th>1</th>\n",
       "      <td>a</td>\n",
       "      <td>2000-01-02</td>\n",
       "      <td>ADM</td>\n",
       "      <td>10516.0</td>\n",
       "    </tr>\n",
       "    <tr>\n",
       "      <th>2</th>\n",
       "      <td>a</td>\n",
       "      <td>2000-01-03</td>\n",
       "      <td>ADM</td>\n",
       "      <td>10516.0</td>\n",
       "    </tr>\n",
       "    <tr>\n",
       "      <th>3</th>\n",
       "      <td>a</td>\n",
       "      <td>2000-01-04</td>\n",
       "      <td>ADM</td>\n",
       "      <td>10516.0</td>\n",
       "    </tr>\n",
       "    <tr>\n",
       "      <th>4</th>\n",
       "      <td>b</td>\n",
       "      <td>2000-01-01</td>\n",
       "      <td>ADM</td>\n",
       "      <td>10516.0</td>\n",
       "    </tr>\n",
       "    <tr>\n",
       "      <th>5</th>\n",
       "      <td>b</td>\n",
       "      <td>2000-01-02</td>\n",
       "      <td>ADM</td>\n",
       "      <td>10516.0</td>\n",
       "    </tr>\n",
       "    <tr>\n",
       "      <th>6</th>\n",
       "      <td>b</td>\n",
       "      <td>2000-01-03</td>\n",
       "      <td>ADM</td>\n",
       "      <td>10516.0</td>\n",
       "    </tr>\n",
       "    <tr>\n",
       "      <th>7</th>\n",
       "      <td>b</td>\n",
       "      <td>2000-01-04</td>\n",
       "      <td>ADM</td>\n",
       "      <td>10516.0</td>\n",
       "    </tr>\n",
       "    <tr>\n",
       "      <th>8</th>\n",
       "      <td>a</td>\n",
       "      <td>2008-01-01</td>\n",
       "      <td>AAN</td>\n",
       "      <td>NaN</td>\n",
       "    </tr>\n",
       "    <tr>\n",
       "      <th>9</th>\n",
       "      <td>a</td>\n",
       "      <td>2009-01-02</td>\n",
       "      <td>AAN</td>\n",
       "      <td>NaN</td>\n",
       "    </tr>\n",
       "    <tr>\n",
       "      <th>11</th>\n",
       "      <td>a</td>\n",
       "      <td>2010-01-03</td>\n",
       "      <td>AAN</td>\n",
       "      <td>78049.0</td>\n",
       "    </tr>\n",
       "    <tr>\n",
       "      <th>12</th>\n",
       "      <td>a</td>\n",
       "      <td>2011-01-04</td>\n",
       "      <td>AAN</td>\n",
       "      <td>10517.0</td>\n",
       "    </tr>\n",
       "  </tbody>\n",
       "</table>\n",
       "</div>"
      ],
      "text/plain": [
       "   byvar       Date TICKER   PERMNO\n",
       "0      a 2000-01-01    ADM  10516.0\n",
       "1      a 2000-01-02    ADM  10516.0\n",
       "2      a 2000-01-03    ADM  10516.0\n",
       "3      a 2000-01-04    ADM  10516.0\n",
       "4      b 2000-01-01    ADM  10516.0\n",
       "5      b 2000-01-02    ADM  10516.0\n",
       "6      b 2000-01-03    ADM  10516.0\n",
       "7      b 2000-01-04    ADM  10516.0\n",
       "8      a 2008-01-01    AAN      NaN\n",
       "9      a 2009-01-02    AAN      NaN\n",
       "11     a 2010-01-03    AAN  78049.0\n",
       "12     a 2011-01-04    AAN  10517.0"
      ]
     },
     "execution_count": 12,
     "metadata": {},
     "output_type": "execute_result"
    }
   ],
   "source": [
    "import dero\n",
    "import pandas as pd\n",
    "from dero.data import load_sas\n",
    "from dero.pandas import convert_sas_date_to_pandas_date\n",
    "import datetime, os\n",
    "\n",
    "def merge_dsenames(df, on='TICKER', get='PERMNO', date='Date', \n",
    "                   other_byvars=None, \n",
    "                   crsp_dir=r'C:\\Users\\derobertisna.UFAD\\Desktop\\Data\\CRSP'):\n",
    "    '''\n",
    "    Merges with dsenames file on on variable (TICKER, PERMNO, PERMCO, NCUSIP), to get get variable (same list).\n",
    "    Must have a Date variable in df.\n",
    "    \n",
    "    Default is to match on TICKER and pull PERMNO.\n",
    "    \n",
    "    Required inputs:\n",
    "    df: pandas dataframe containing any of (TICKER, PERMNO, PERMCO, NCUSIP)\n",
    "    \n",
    "    Optional inputs:\n",
    "    on: str, column name to merge on, one of (TICKER, PERMNO, PERMCO, NCUSIP)\n",
    "    get: str or list, column or columns to get from dsenames, any of (TICKER, PERMNO, PERMCO, NCUSIP)\n",
    "         that aren't already in on\n",
    "    date: str, column name of date variable\n",
    "    other_byvars: any other variables signifying groups in the data, prevents from collapsing those groups\n",
    "    '''\n",
    "    #Make get a list\n",
    "    if isinstance(get, str):\n",
    "        get = [get]\n",
    "    assert isinstance(get, list)\n",
    "    \n",
    "    #Make other byvars a list\n",
    "    if not other_byvars:\n",
    "        other_byvars = []\n",
    "    if isinstance(other_byvars, str):\n",
    "        other_byvars = [other_byvars]\n",
    "    assert isinstance(other_byvars, list)\n",
    "    \n",
    "    assert on not in get #can't get what we already have\n",
    "    \n",
    "    #Pull from CRSP dsenames file\n",
    "    file = 'dsenames'\n",
    "    fullpath = os.path.join(crsp_dir, file + '.sas7bdat')\n",
    "    names_df = load_sas(fullpath)\n",
    "    names_df['start'] = convert_sas_date_to_pandas_date(names_df['NAMEDT'])\n",
    "    names_df['end'] = convert_sas_date_to_pandas_date(names_df['NAMEENDT'])\n",
    "    names_df['end'] = names_df['end'].fillna(datetime.date.today())\n",
    "    \n",
    "#     pdb.set_trace()\n",
    "    \n",
    "    #Now perform merge\n",
    "    merged = df.merge(names_df[['start','end', on] + get], how='left', on=on)\n",
    "    #Drop out observations not in name date range\n",
    "    valid = (merged[date] >= merged['start']) & (merged[date] <= merged['end'])\n",
    "    #However if there is not a match, doing merged[valid] would drop the observation instead of leaving nan\n",
    "    #Therefore, take merged[valid] and merge back again to original\n",
    "    new_merged = df.merge(merged[valid].drop(['start','end'],axis=1), how='left', on=[on, date] + other_byvars)\n",
    "    new_merged = new_merged.reset_index(drop=True)\n",
    "    \n",
    "    if 'PERMNO' in get:\n",
    "        #Dsenames has no record of which permno is the primary link when a firm has multiple share classes.\n",
    "        #To get this information, we must merge ccmxpf_linktable. We want to keep only primary links.\n",
    "        dups = new_merged[[date, on] + other_byvars].duplicated(keep=False) #series of True or False of whether duplicated row\n",
    "        if dups.any(): #this means we got more than one permno for a single period/firm/byvars\n",
    "            duplicated = new_merged[dups].reset_index() #puts index in a column for later use\n",
    "            not_duplicated = new_merged[~dups]\n",
    "            \n",
    "            #Take duplicated, merge to ccmxpf_linktable to get gvkey, and the ones which do not have gvkeys are\n",
    "            #the non-primary links\n",
    "            with_gvkey = get_gvkey_or_permno(duplicated, date) #default is to get gvkey with permno\n",
    "            removed_duplicates = with_gvkey[~pd.isnull(with_gvkey['GVKEY'])].drop('GVKEY', axis=1)\n",
    "            \n",
    "            #Set index back\n",
    "            removed_duplicates.set_index('index', inplace=True)\n",
    "            \n",
    "            #Now append back together and sort\n",
    "            full = not_duplicated.append(removed_duplicates)\n",
    "            new_merged = full.sort_index()\n",
    "    \n",
    "    return new_merged\n",
    "\n",
    "a = merge_dsenames(dse_df, other_byvars='byvar')\n",
    "a\n",
    "# dero.pandas.to_copy_paste(a.drop('TICKER',axis=1))"
   ]
  },
  {
   "cell_type": "code",
   "execution_count": 111,
   "metadata": {
    "collapsed": false
   },
   "outputs": [
    {
     "data": {
      "text/html": [
       "<div>\n",
       "<table border=\"1\" class=\"dataframe\">\n",
       "  <thead>\n",
       "    <tr style=\"text-align: right;\">\n",
       "      <th></th>\n",
       "      <th>Date</th>\n",
       "      <th>TICKER</th>\n",
       "      <th>byvar</th>\n",
       "      <th>PERMNO</th>\n",
       "      <th>GVKEY</th>\n",
       "    </tr>\n",
       "  </thead>\n",
       "  <tbody>\n",
       "    <tr>\n",
       "      <th>1</th>\n",
       "      <td>2010-01-03</td>\n",
       "      <td>AAN</td>\n",
       "      <td>a</td>\n",
       "      <td>78049.0</td>\n",
       "      <td>1076.0</td>\n",
       "    </tr>\n",
       "  </tbody>\n",
       "</table>\n",
       "</div>"
      ],
      "text/plain": [
       "        Date TICKER byvar   PERMNO   GVKEY\n",
       "1 2010-01-03    AAN     a  78049.0  1076.0"
      ]
     },
     "execution_count": 111,
     "metadata": {},
     "output_type": "execute_result"
    }
   ],
   "source": [
    "dups = a[['Date','TICKER', 'byvar']].duplicated(keep=False)\n",
    "d = a[['Date','TICKER', 'byvar','PERMNO']][dups]\n",
    "e = get_gvkey_or_permno(d, 'Date')\n",
    "e[~pd.isnull(e['GVKEY'])]"
   ]
  },
  {
   "cell_type": "code",
   "execution_count": 4,
   "metadata": {
    "collapsed": false
   },
   "outputs": [
    {
     "ename": "NameError",
     "evalue": "name 'a' is not defined",
     "traceback": [
      "\u001b[1;31m---------------------------------------------------------------------------\u001b[0m",
      "\u001b[1;31mNameError\u001b[0m                                 Traceback (most recent call last)",
      "\u001b[1;32m<ipython-input-4-c0e4e1b4f96c>\u001b[0m in \u001b[0;36m<module>\u001b[1;34m()\u001b[0m\n\u001b[0;32m     47\u001b[0m     \u001b[1;32mreturn\u001b[0m \u001b[0mnew_merged\u001b[0m\u001b[1;33m\u001b[0m\u001b[0m\n\u001b[0;32m     48\u001b[0m \u001b[1;33m\u001b[0m\u001b[0m\n\u001b[1;32m---> 49\u001b[1;33m \u001b[0mget_gvkey_or_permno\u001b[0m\u001b[1;33m(\u001b[0m\u001b[0ma\u001b[0m\u001b[1;33m,\u001b[0m \u001b[0mdatevar\u001b[0m\u001b[1;33m=\u001b[0m\u001b[1;34m'Date'\u001b[0m\u001b[1;33m,\u001b[0m \u001b[0mother_byvars\u001b[0m\u001b[1;33m=\u001b[0m\u001b[1;34m'byvar'\u001b[0m\u001b[1;33m)\u001b[0m\u001b[1;33m\u001b[0m\u001b[0m\n\u001b[0m",
      "\u001b[1;31mNameError\u001b[0m: name 'a' is not defined"
     ],
     "output_type": "error"
    }
   ],
   "source": [
    "def get_gvkey_or_permno(df, datevar, get='GVKEY', other_byvars=None,\n",
    "                        crsp_dir=r'C:\\Users\\derobertisna.UFAD\\Desktop\\Data\\CRSP'):\n",
    "    \"\"\"\n",
    "    Takes a dataframe containing either GVKEY or PERMNO and merges to the CRSP linktable to get the other one.\n",
    "    \"\"\"    \n",
    "    if get == 'GVKEY':\n",
    "        rename_get = 'gvkey'\n",
    "        l_on = 'PERMNO'\n",
    "        r_on = 'lpermno'\n",
    "    elif get == 'PERMNO':\n",
    "        rename_get = 'lpermno'\n",
    "        l_on = 'GVKEY'\n",
    "        r_on = 'gvkey'\n",
    "    else:\n",
    "        raise ValueError('Need get=\"GVKEY\" or \"PERMNO\"')\n",
    "        \n",
    "    #Make other byvars a list\n",
    "    if not other_byvars:\n",
    "        other_byvars = []\n",
    "    if isinstance(other_byvars, str):\n",
    "        other_byvars = [other_byvars]\n",
    "    assert isinstance(other_byvars, list)\n",
    "    \n",
    "    link_name = 'ccmxpf_linktable.sas7bdat'\n",
    "    link_path = os.path.join(crsp_dir, link_name)\n",
    "    \n",
    "    link = load_sas(link_path)\n",
    "    link['linkdt'] = convert_sas_date_to_pandas_date(link['linkdt'])\n",
    "    link['linkenddt'] = convert_sas_date_to_pandas_date(link['linkenddt'])\n",
    "    #If end date is missing, that means link is still active. Make end date today.\n",
    "    link['linkenddt'] = link['linkenddt'].fillna(datetime.date.today())\n",
    "    \n",
    "    #Remove links with no permno so that they don't match to nans in the input df\n",
    "    link.dropna(subset=['lpermno'], inplace=True)\n",
    "    \n",
    "    merged = df.merge(link[['lpermno','gvkey', 'linkdt', 'linkenddt','linkprim']], how='left', left_on=l_on, right_on=r_on)\n",
    "\n",
    "    valid = (merged[datevar] >= merged.linkdt) & \\\n",
    "            (merged[datevar] <= merged.linkenddt) & \\\n",
    "            (merged.linkprim == 'P')\n",
    "        \n",
    "    merged = merged[valid].drop(['linkdt','linkenddt', 'linkprim', r_on], axis=1).drop_duplicates()\n",
    "    merged.rename(columns={rename_get:get}, inplace=True)\n",
    "    \n",
    "    #Now merge back to the original again to ensure that rows are not deleted\n",
    "    new_merged = df.merge(merged[['PERMNO','GVKEY', datevar] + other_byvars],\n",
    "                          how='left', on=[l_on, datevar] + other_byvars)\n",
    "    \n",
    "    return new_merged\n",
    "\n",
    "get_gvkey_or_permno(a, datevar='Date', other_byvars='byvar')"
   ]
  },
  {
   "cell_type": "code",
   "execution_count": 84,
   "metadata": {
    "collapsed": false
   },
   "outputs": [
    {
     "name": "stdout",
     "output_type": "stream",
     "text": [
      "> c:\\anaconda3\\lib\\site-packages\\pandas\\indexes\\base.py(483)_scalar_data_error()\n",
      "-> repr(data)))\n",
      "(Pdb) u\n",
      "> c:\\anaconda3\\lib\\site-packages\\pandas\\indexes\\base.py(268)__new__()\n",
      "-> cls._scalar_data_error(data)\n",
      "(Pdb) u\n",
      "> c:\\anaconda3\\lib\\site-packages\\pandas\\indexes\\base.py(3409)_ensure_index()\n",
      "-> return Index(index_like)\n",
      "(Pdb) u\n",
      "> c:\\anaconda3\\lib\\site-packages\\pandas\\indexes\\base.py(2066)get_indexer()\n",
      "-> target = _ensure_index(target)\n",
      "(Pdb) u\n",
      "> c:\\anaconda3\\lib\\site-packages\\pandas\\indexes\\base.py(2197)get_indexer_for()\n",
      "-> return self.get_indexer(target, **kwargs)\n",
      "(Pdb) u\n",
      "> c:\\anaconda3\\lib\\site-packages\\pandas\\core\\frame.py(3007)dropna()\n",
      "-> indices = ax.get_indexer_for(subset)\n",
      "(Pdb) u\n",
      "> <ipython-input-83-b200c6dead32>(26)get_gvkey_or_permno()\n",
      "-> link.dropna(subset='lpermno', inplace=True)\n",
      "(Pdb) link.head(\n",
      "*** SyntaxError: unexpected EOF while parsing\n",
      "(Pdb) link.head()\n",
      "   gvkey linkprim liid linktype  lpermno  lpermco  USEDFLAG     linkdt  \\\n",
      "0   1000        C  00X       NU      NaN      NaN      -1.0 1961-01-01   \n",
      "1   1000        P   01       NU      NaN      NaN      -1.0 1970-09-30   \n",
      "2   1000        P   01       LU  25881.0  23369.0       1.0 1970-11-13   \n",
      "3   1001        C  00X       NU      NaN      NaN      -1.0 1978-01-01   \n",
      "4   1001        P   01       LU  10015.0   6398.0       1.0 1983-09-20   \n",
      "\n",
      "   linkenddt  \n",
      "0 1970-09-29  \n",
      "1 1970-11-12  \n",
      "2 1978-06-30  \n",
      "3 1983-09-19  \n",
      "4 1986-07-31  \n",
      "(Pdb) q\n"
     ]
    }
   ],
   "source": [
    "import pdb; pdb.pm()"
   ]
  },
  {
   "cell_type": "code",
   "execution_count": 82,
   "metadata": {
    "collapsed": false
   },
   "outputs": [
    {
     "name": "stdout",
     "output_type": "stream",
     "text": [
      "pd.DataFrame(data = [\n",
      "('a', Timestamp('2000-01-01 00:00:00'), 'ADM', 10516.0, 1722),\n",
      "('a', Timestamp('2000-01-02 00:00:00'), 'ADM', 10516.0, 1722),\n",
      "('a', Timestamp('2000-01-03 00:00:00'), 'ADM', 10516.0, 1722),\n",
      "('a', Timestamp('2000-01-04 00:00:00'), 'ADM', 10516.0, 1722),\n",
      "('b', Timestamp('2000-01-01 00:00:00'), 'ADM', 10516.0, 1722),\n",
      "('b', Timestamp('2000-01-02 00:00:00'), 'ADM', 10516.0, 1722),\n",
      "('b', Timestamp('2000-01-03 00:00:00'), 'ADM', 10516.0, 1722),\n",
      "('b', Timestamp('2000-01-04 00:00:00'), 'ADM', 10516.0, 1722),\n",
      "('a', Timestamp('2010-01-03 00:00:00'), 'AAN', 78049.0, 1076),\n",
      "('a', Timestamp('2011-01-04 00:00:00'), 'AAN', 10517.0, 1076),\n",
      "], columns = ['byvar', 'Date', 'TICKER', 'PERMNO', 'GVKEY'])\n"
     ]
    }
   ],
   "source": [
    "from numpy import nan\n",
    "b = dero.data.get_gvkey_or_permno(a, datevar='Date')\n",
    "dero.pandas.to_copy_paste(b[~pd.isnull(b['PERMNO'])].reset_index(drop=True))"
   ]
  },
  {
   "cell_type": "code",
   "execution_count": 25,
   "metadata": {
    "collapsed": false
   },
   "outputs": [
    {
     "name": "stderr",
     "output_type": "stream",
     "text": [
      "C:\\Users\\derobertisna.UFAD\\Dropbox\\Python\\Dero\\dero\\pandas.py:493: UserWarning: Boolean Series key will be reindexed to match DataFrame index.\n",
      "  rows = df[(outdf[groupvar] >= low_cut) & (df[groupvar] <= high_cut)].index\n"
     ]
    },
    {
     "data": {
      "text/html": [
       "<div>\n",
       "<table border=\"1\" class=\"dataframe\">\n",
       "  <thead>\n",
       "    <tr style=\"text-align: right;\">\n",
       "      <th></th>\n",
       "      <th>portfolio</th>\n",
       "      <th>byvar</th>\n",
       "      <th>RET</th>\n",
       "      <th>RET_wavg</th>\n",
       "    </tr>\n",
       "  </thead>\n",
       "  <tbody>\n",
       "    <tr>\n",
       "      <th>0</th>\n",
       "      <td>1</td>\n",
       "      <td>a</td>\n",
       "      <td>1.025</td>\n",
       "      <td>1.025</td>\n",
       "    </tr>\n",
       "    <tr>\n",
       "      <th>1</th>\n",
       "      <td>1</td>\n",
       "      <td>b</td>\n",
       "      <td>1.055</td>\n",
       "      <td>1.055</td>\n",
       "    </tr>\n",
       "    <tr>\n",
       "      <th>2</th>\n",
       "      <td>2</td>\n",
       "      <td>a</td>\n",
       "      <td>1.105</td>\n",
       "      <td>1.120</td>\n",
       "    </tr>\n",
       "    <tr>\n",
       "      <th>3</th>\n",
       "      <td>2</td>\n",
       "      <td>b</td>\n",
       "      <td>1.075</td>\n",
       "      <td>1.075</td>\n",
       "    </tr>\n",
       "  </tbody>\n",
       "</table>\n",
       "</div>"
      ],
      "text/plain": [
       "   portfolio byvar    RET  RET_wavg\n",
       "0          1     a  1.025     1.025\n",
       "1          1     b  1.055     1.055\n",
       "2          2     a  1.105     1.120\n",
       "3          2     b  1.075     1.075"
      ]
     },
     "execution_count": 25,
     "metadata": {},
     "output_type": "execute_result"
    }
   ],
   "source": [
    "avgs, ports = dero.pandas.portfolio_averages(df_weight, 'RET', 'RET', ngroups=2, byvars='byvar', wtvar='weight')\n",
    "avgs"
   ]
  },
  {
   "cell_type": "code",
   "execution_count": 26,
   "metadata": {
    "collapsed": false
   },
   "outputs": [
    {
     "data": {
      "text/html": [
       "<div>\n",
       "<table border=\"1\" class=\"dataframe\">\n",
       "  <thead>\n",
       "    <tr style=\"text-align: right;\">\n",
       "      <th></th>\n",
       "      <th>PERMNO</th>\n",
       "      <th>byvar</th>\n",
       "      <th>Date</th>\n",
       "      <th>RET</th>\n",
       "      <th>weight</th>\n",
       "      <th>portfolio</th>\n",
       "    </tr>\n",
       "  </thead>\n",
       "  <tbody>\n",
       "    <tr>\n",
       "      <th>0</th>\n",
       "      <td>10516</td>\n",
       "      <td>a</td>\n",
       "      <td>1/1/2000</td>\n",
       "      <td>1.01</td>\n",
       "      <td>0</td>\n",
       "      <td>1</td>\n",
       "    </tr>\n",
       "    <tr>\n",
       "      <th>1</th>\n",
       "      <td>10516</td>\n",
       "      <td>a</td>\n",
       "      <td>1/2/2000</td>\n",
       "      <td>1.02</td>\n",
       "      <td>1</td>\n",
       "      <td>1</td>\n",
       "    </tr>\n",
       "    <tr>\n",
       "      <th>2</th>\n",
       "      <td>10516</td>\n",
       "      <td>a</td>\n",
       "      <td>1/3/2000</td>\n",
       "      <td>1.03</td>\n",
       "      <td>1</td>\n",
       "      <td>1</td>\n",
       "    </tr>\n",
       "    <tr>\n",
       "      <th>3</th>\n",
       "      <td>10516</td>\n",
       "      <td>a</td>\n",
       "      <td>1/4/2000</td>\n",
       "      <td>1.04</td>\n",
       "      <td>0</td>\n",
       "      <td>1</td>\n",
       "    </tr>\n",
       "    <tr>\n",
       "      <th>4</th>\n",
       "      <td>10516</td>\n",
       "      <td>b</td>\n",
       "      <td>1/1/2000</td>\n",
       "      <td>1.05</td>\n",
       "      <td>1</td>\n",
       "      <td>1</td>\n",
       "    </tr>\n",
       "    <tr>\n",
       "      <th>5</th>\n",
       "      <td>10516</td>\n",
       "      <td>b</td>\n",
       "      <td>1/2/2000</td>\n",
       "      <td>1.06</td>\n",
       "      <td>1</td>\n",
       "      <td>1</td>\n",
       "    </tr>\n",
       "    <tr>\n",
       "      <th>6</th>\n",
       "      <td>10516</td>\n",
       "      <td>b</td>\n",
       "      <td>1/3/2000</td>\n",
       "      <td>1.07</td>\n",
       "      <td>1</td>\n",
       "      <td>2</td>\n",
       "    </tr>\n",
       "    <tr>\n",
       "      <th>7</th>\n",
       "      <td>10516</td>\n",
       "      <td>b</td>\n",
       "      <td>1/4/2000</td>\n",
       "      <td>1.08</td>\n",
       "      <td>1</td>\n",
       "      <td>2</td>\n",
       "    </tr>\n",
       "    <tr>\n",
       "      <th>8</th>\n",
       "      <td>10517</td>\n",
       "      <td>a</td>\n",
       "      <td>1/1/2000</td>\n",
       "      <td>1.09</td>\n",
       "      <td>0</td>\n",
       "      <td>2</td>\n",
       "    </tr>\n",
       "    <tr>\n",
       "      <th>9</th>\n",
       "      <td>10517</td>\n",
       "      <td>a</td>\n",
       "      <td>1/2/2000</td>\n",
       "      <td>1.10</td>\n",
       "      <td>0</td>\n",
       "      <td>2</td>\n",
       "    </tr>\n",
       "    <tr>\n",
       "      <th>10</th>\n",
       "      <td>10517</td>\n",
       "      <td>a</td>\n",
       "      <td>1/3/2000</td>\n",
       "      <td>1.11</td>\n",
       "      <td>0</td>\n",
       "      <td>2</td>\n",
       "    </tr>\n",
       "    <tr>\n",
       "      <th>11</th>\n",
       "      <td>10517</td>\n",
       "      <td>a</td>\n",
       "      <td>1/4/2000</td>\n",
       "      <td>1.12</td>\n",
       "      <td>1</td>\n",
       "      <td>2</td>\n",
       "    </tr>\n",
       "  </tbody>\n",
       "</table>\n",
       "</div>"
      ],
      "text/plain": [
       "    PERMNO byvar      Date   RET  weight  portfolio\n",
       "0    10516     a  1/1/2000  1.01       0          1\n",
       "1    10516     a  1/2/2000  1.02       1          1\n",
       "2    10516     a  1/3/2000  1.03       1          1\n",
       "3    10516     a  1/4/2000  1.04       0          1\n",
       "4    10516     b  1/1/2000  1.05       1          1\n",
       "5    10516     b  1/2/2000  1.06       1          1\n",
       "6    10516     b  1/3/2000  1.07       1          2\n",
       "7    10516     b  1/4/2000  1.08       1          2\n",
       "8    10517     a  1/1/2000  1.09       0          2\n",
       "9    10517     a  1/2/2000  1.10       0          2\n",
       "10   10517     a  1/3/2000  1.11       0          2\n",
       "11   10517     a  1/4/2000  1.12       1          2"
      ]
     },
     "execution_count": 26,
     "metadata": {},
     "output_type": "execute_result"
    }
   ],
   "source": [
    "ports"
   ]
  },
  {
   "cell_type": "code",
   "execution_count": 27,
   "metadata": {
    "collapsed": false
   },
   "outputs": [
    {
     "name": "stdout",
     "output_type": "stream",
     "text": [
      "pd.DataFrame(data = [\n",
      "(1, 'a', 1.0250000000000001, 1.025),\n",
      "(1, 'b', 1.0550000000000002, 1.0550000000000002),\n",
      "(2, 'a', 1.1050000000000002, 1.12),\n",
      "(2, 'b', 1.0750000000000002, 1.0750000000000002),\n",
      "], columns = ['portfolio', 'byvar', 'RET', 'RET_wavg'])\n"
     ]
    }
   ],
   "source": [
    "dero.pandas.to_copy_paste(avgs)"
   ]
  },
  {
   "cell_type": "code",
   "execution_count": 34,
   "metadata": {
    "collapsed": false
   },
   "outputs": [
    {
     "name": "stdout",
     "output_type": "stream",
     "text": [
      "> c:\\anaconda3\\lib\\site-packages\\dateutil\\relativedelta.py(351)__add__()\n",
      "-> raise TypeError(\"unsupported type for add operation\")\n",
      "(Pdb) u\n",
      "> c:\\anaconda3\\lib\\site-packages\\dateutil\\relativedelta.py(393)__radd__()\n",
      "-> return self.__add__(other)\n",
      "(Pdb) u\n",
      "> c:\\users\\derobertisna.ufad\\dropbox\\python\\dero\\dero\\pandas.py(118)<listcomp>()\n",
      "-> df[newdate] = [date + time_shift(int(shift)) for date, shift in zip(df[datevar],df[shiftvar])]\n",
      "(Pdb) u\n",
      "> c:\\users\\derobertisna.ufad\\dropbox\\python\\dero\\dero\\pandas.py(118)_expand_time()\n",
      "-> df[newdate] = [date + time_shift(int(shift)) for date, shift in zip(df[datevar],df[shiftvar])]\n",
      "(Pdb) u\n",
      "> c:\\users\\derobertisna.ufad\\dropbox\\python\\dero\\dero\\pandas.py(69)expand_time()\n",
      "-> return _expand_time(df, **kwargs)\n",
      "(Pdb) u\n",
      "> c:\\users\\derobertisna.ufad\\dropbox\\python\\dero\\dero\\data.py(293)get_crsp()\n",
      "-> long_df = expand_time(long_df, datevar=newdate, freq=freq, time=prior_wind, newdate='Window Date', shiftvar='Wind')\n",
      "(Pdb) newdate\n",
      "'Date'\n",
      "(Pdb) prior_wind\n",
      "[0, -1, -2, -3, -4, -5, -6, -7, -8, -9, -10]\n",
      "(Pdb) q\n"
     ]
    }
   ],
   "source": [
    "import pdb; pdb.pm()"
   ]
  },
  {
   "cell_type": "code",
   "execution_count": 36,
   "metadata": {
    "collapsed": false
   },
   "outputs": [
    {
     "name": "stdout",
     "output_type": "stream",
     "text": [
      "2016-05-29 17:41:34: Initializing get_crsp function\n",
      "2016-05-29 17:41:34: All inputs: \n",
      "2016-05-29 17:41:34: {'abret': 4, 'log': <function get_crsp.<locals>.log at 0x000000F92E1D41E0>, 'includecoef': False, 'wide': True, 'df':     PERMNO byvar       Date   RET\n",
      "0    10516     a 2000-01-01  1.01\n",
      "1    10516     a 2000-01-02  1.02\n",
      "2    10516     a 2000-01-03  1.03\n",
      "3    10516     a 2000-01-04  1.04\n",
      "4    10516     b 2000-01-01  1.05\n",
      "5    10516     b 2000-01-02  1.06\n",
      "6    10516     b 2000-01-03  1.07\n",
      "7    10516     b 2000-01-04  1.08\n",
      "8    10517     a 2000-01-01  1.09\n",
      "9    10517     a 2000-01-02  1.10\n",
      "10   10517     a 2000-01-03  1.11\n",
      "11   10517     a 2000-01-04  1.12, 'date': 'Date', 'cumret': False, 'other_byvars': 'byvar', '_get_crsp': <function get_crsp.<locals>._get_crsp at 0x000000F92E1D42F0>, 'get': 'RET', 'time': None, 'drop_first': False, 'crsp_dir': 'C:\\\\Users\\\\derobertisna.UFAD\\\\Desktop\\\\Data\\\\CRSP', 'debug': True, 'freq': 'm', 'window': 10, 'coid': 'PERMNO', 'includefac': False}\n",
      "2016-05-29 17:41:34: Generating key.\n",
      "2016-05-29 17:41:34: Abret detected.\n",
      "2016-05-29 17:41:34: Creating abret window periods.\n",
      "2016-05-29 17:41:34: Initializing expand_time for periods [0, -1, -2, -3, -4, -5, -6, -7, -8, -9, -10].\n",
      "2016-05-29 17:41:34: Calculating number of rows.\n",
      "2016-05-29 17:41:34: Calculating number of duplicates.\n",
      "2016-05-29 17:41:34: Duplicating observations 10 times.\n",
      "2016-05-29 17:41:34: Duplicated.\n",
      "2016-05-29 17:41:34: Creating shift variable.\n",
      "2016-05-29 17:41:34: Creating shifted date.\n",
      "2016-05-29 17:41:34: expand_time completed.\n",
      "2016-05-29 17:41:34: Merging with CRSP to get abret window data as well as regular data.\n",
      "2016-05-29 17:41:34: Loading CRSP dataframe...\n",
      "2016-05-29 17:41:34: Loaded.\n",
      "2016-05-29 17:41:34: Converting SAS date to Pandas format.\n",
      "2016-05-29 17:41:34: Converted.\n",
      "2016-05-29 17:41:34: Merging CRSP to dataframe.\n",
      "2016-05-29 17:41:34: Completed merge.\n",
      "2016-05-29 17:41:34: Getting Fama-French factors\n",
      "2016-05-29 17:41:34: Running regressions\n",
      "2016-05-29 17:41:34: Dropping unneeded observations (abret window dates).\n",
      "2016-05-29 17:41:34: Reshaping long to wide.\n"
     ]
    },
    {
     "data": {
      "text/html": [
       "<div>\n",
       "<table border=\"1\" class=\"dataframe\">\n",
       "  <thead>\n",
       "    <tr style=\"text-align: right;\">\n",
       "      <th></th>\n",
       "      <th>PERMNO</th>\n",
       "      <th>byvar</th>\n",
       "      <th>Date</th>\n",
       "      <th>RET_old</th>\n",
       "      <th>RET</th>\n",
       "      <th>ABRET</th>\n",
       "    </tr>\n",
       "  </thead>\n",
       "  <tbody>\n",
       "    <tr>\n",
       "      <th>0</th>\n",
       "      <td>10516</td>\n",
       "      <td>a</td>\n",
       "      <td>2000-01-01</td>\n",
       "      <td>1.01</td>\n",
       "      <td>-0.030928</td>\n",
       "      <td>0.001891</td>\n",
       "    </tr>\n",
       "    <tr>\n",
       "      <th>1</th>\n",
       "      <td>10516</td>\n",
       "      <td>a</td>\n",
       "      <td>2000-01-02</td>\n",
       "      <td>1.02</td>\n",
       "      <td>-0.030928</td>\n",
       "      <td>0.001891</td>\n",
       "    </tr>\n",
       "    <tr>\n",
       "      <th>2</th>\n",
       "      <td>10516</td>\n",
       "      <td>a</td>\n",
       "      <td>2000-01-03</td>\n",
       "      <td>1.03</td>\n",
       "      <td>-0.030928</td>\n",
       "      <td>0.001891</td>\n",
       "    </tr>\n",
       "    <tr>\n",
       "      <th>3</th>\n",
       "      <td>10516</td>\n",
       "      <td>a</td>\n",
       "      <td>2000-01-04</td>\n",
       "      <td>1.04</td>\n",
       "      <td>-0.030928</td>\n",
       "      <td>0.001891</td>\n",
       "    </tr>\n",
       "    <tr>\n",
       "      <th>4</th>\n",
       "      <td>10516</td>\n",
       "      <td>b</td>\n",
       "      <td>2000-01-01</td>\n",
       "      <td>1.05</td>\n",
       "      <td>-0.030928</td>\n",
       "      <td>0.001891</td>\n",
       "    </tr>\n",
       "    <tr>\n",
       "      <th>5</th>\n",
       "      <td>10516</td>\n",
       "      <td>b</td>\n",
       "      <td>2000-01-02</td>\n",
       "      <td>1.06</td>\n",
       "      <td>-0.030928</td>\n",
       "      <td>0.001891</td>\n",
       "    </tr>\n",
       "    <tr>\n",
       "      <th>6</th>\n",
       "      <td>10516</td>\n",
       "      <td>b</td>\n",
       "      <td>2000-01-03</td>\n",
       "      <td>1.07</td>\n",
       "      <td>-0.030928</td>\n",
       "      <td>0.001891</td>\n",
       "    </tr>\n",
       "    <tr>\n",
       "      <th>7</th>\n",
       "      <td>10516</td>\n",
       "      <td>b</td>\n",
       "      <td>2000-01-04</td>\n",
       "      <td>1.08</td>\n",
       "      <td>-0.030928</td>\n",
       "      <td>0.001891</td>\n",
       "    </tr>\n",
       "    <tr>\n",
       "      <th>8</th>\n",
       "      <td>10517</td>\n",
       "      <td>a</td>\n",
       "      <td>2000-01-01</td>\n",
       "      <td>1.09</td>\n",
       "      <td>-0.078767</td>\n",
       "      <td>-0.036282</td>\n",
       "    </tr>\n",
       "    <tr>\n",
       "      <th>9</th>\n",
       "      <td>10517</td>\n",
       "      <td>a</td>\n",
       "      <td>2000-01-02</td>\n",
       "      <td>1.10</td>\n",
       "      <td>-0.078767</td>\n",
       "      <td>-0.036282</td>\n",
       "    </tr>\n",
       "    <tr>\n",
       "      <th>10</th>\n",
       "      <td>10517</td>\n",
       "      <td>a</td>\n",
       "      <td>2000-01-03</td>\n",
       "      <td>1.11</td>\n",
       "      <td>-0.078767</td>\n",
       "      <td>-0.036282</td>\n",
       "    </tr>\n",
       "    <tr>\n",
       "      <th>11</th>\n",
       "      <td>10517</td>\n",
       "      <td>a</td>\n",
       "      <td>2000-01-04</td>\n",
       "      <td>1.12</td>\n",
       "      <td>-0.078767</td>\n",
       "      <td>-0.036282</td>\n",
       "    </tr>\n",
       "  </tbody>\n",
       "</table>\n",
       "</div>"
      ],
      "text/plain": [
       "    PERMNO byvar       Date  RET_old       RET     ABRET\n",
       "0    10516     a 2000-01-01     1.01 -0.030928  0.001891\n",
       "1    10516     a 2000-01-02     1.02 -0.030928  0.001891\n",
       "2    10516     a 2000-01-03     1.03 -0.030928  0.001891\n",
       "3    10516     a 2000-01-04     1.04 -0.030928  0.001891\n",
       "4    10516     b 2000-01-01     1.05 -0.030928  0.001891\n",
       "5    10516     b 2000-01-02     1.06 -0.030928  0.001891\n",
       "6    10516     b 2000-01-03     1.07 -0.030928  0.001891\n",
       "7    10516     b 2000-01-04     1.08 -0.030928  0.001891\n",
       "8    10517     a 2000-01-01     1.09 -0.078767 -0.036282\n",
       "9    10517     a 2000-01-02     1.10 -0.078767 -0.036282\n",
       "10   10517     a 2000-01-03     1.11 -0.078767 -0.036282\n",
       "11   10517     a 2000-01-04     1.12 -0.078767 -0.036282"
      ]
     },
     "execution_count": 36,
     "metadata": {},
     "output_type": "execute_result"
    }
   ],
   "source": [
    "df['Date'] = pd.to_datetime(df['Date'])\n",
    "dero.data.get_crsp(df, get='RET', abret=4, window=10, other_byvars='byvar', debug=True)"
   ]
  },
  {
   "cell_type": "code",
   "execution_count": 28,
   "metadata": {
    "collapsed": false
   },
   "outputs": [
    {
     "name": "stdout",
     "output_type": "stream",
     "text": [
      "<class 'pandas.core.frame.DataFrame'>\n",
      "RangeIndex: 12 entries, 0 to 11\n",
      "Data columns (total 8 columns):\n",
      "PERMNO    12 non-null int64\n",
      "byvar     12 non-null object\n",
      "Date      12 non-null datetime64[ns]\n",
      "RET       12 non-null float64\n",
      "Year      12 non-null int64\n",
      "Month     12 non-null int64\n",
      "PRC       12 non-null float64\n",
      "SHROUT    12 non-null float64\n",
      "dtypes: datetime64[ns](1), float64(3), int64(3), object(1)\n",
      "memory usage: 848.0+ bytes\n"
     ]
    }
   ],
   "source": [
    "from pandas import Timestamp\n",
    "b = pd.DataFrame(data = [\n",
    "(10516, 'a', Timestamp('2000-01-01 00:00:00'), 1.01, 2000, 1, 11.75, 608360.0),\n",
    "(10516, 'a', Timestamp('2000-01-02 00:00:00'), 1.02, 2000, 1, 11.75, 608360.0),\n",
    "(10516, 'a', Timestamp('2000-01-03 00:00:00'), 1.03, 2000, 1, 11.75, 608360.0),\n",
    "(10516, 'a', Timestamp('2000-01-04 00:00:00'), 1.04, 2000, 1, 11.75, 608360.0),\n",
    "(10516, 'b', Timestamp('2000-01-01 00:00:00'), 1.05, 2000, 1, 11.75, 608360.0),\n",
    "(10516, 'b', Timestamp('2000-01-02 00:00:00'), 1.06, 2000, 1, 11.75, 608360.0),\n",
    "(10516, 'b', Timestamp('2000-01-03 00:00:00'), 1.07, 2000, 1, 11.75, 608360.0),\n",
    "(10516, 'b', Timestamp('2000-01-04 00:00:00'), 1.08, 2000, 1, 11.75, 608360.0),\n",
    "(10517, 'a', Timestamp('2000-01-01 00:00:00'), 1.09, 2000, 1, -16.8125, 3830.0),\n",
    "(10517, 'a', Timestamp('2000-01-02 00:00:00'), 1.1, 2000, 1, -16.8125, 3830.0),\n",
    "(10517, 'a', Timestamp('2000-01-03 00:00:00'), 1.11, 2000, 1, -16.8125, 3830.0),\n",
    "(10517, 'a', Timestamp('2000-01-04 00:00:00'), 1.12, 2000, 1, -16.8125, 3830.0),\n",
    "], columns = ['PERMNO', 'byvar', 'Date', 'RET', 'Year', 'Month', 'PRC', 'SHROUT'])\n",
    "b.info()"
   ]
  },
  {
   "cell_type": "code",
   "execution_count": 14,
   "metadata": {
    "collapsed": true
   },
   "outputs": [],
   "source": [
    "import random\n",
    "df2 = df.copy()\n",
    "df2['extra var'] = [i for i in range(len(df2))]"
   ]
  },
  {
   "cell_type": "code",
   "execution_count": 15,
   "metadata": {
    "collapsed": false
   },
   "outputs": [
    {
     "data": {
      "text/html": [
       "<div>\n",
       "<table border=\"1\" class=\"dataframe\">\n",
       "  <thead>\n",
       "    <tr style=\"text-align: right;\">\n",
       "      <th></th>\n",
       "      <th>PERMNO</th>\n",
       "      <th>byvar</th>\n",
       "      <th>Date</th>\n",
       "      <th>RET</th>\n",
       "      <th>extra var</th>\n",
       "    </tr>\n",
       "  </thead>\n",
       "  <tbody>\n",
       "    <tr>\n",
       "      <th>0</th>\n",
       "      <td>10516</td>\n",
       "      <td>a</td>\n",
       "      <td>1/1/2000</td>\n",
       "      <td>1.01</td>\n",
       "      <td>0</td>\n",
       "    </tr>\n",
       "    <tr>\n",
       "      <th>1</th>\n",
       "      <td>10516</td>\n",
       "      <td>a</td>\n",
       "      <td>1/2/2000</td>\n",
       "      <td>1.02</td>\n",
       "      <td>1</td>\n",
       "    </tr>\n",
       "    <tr>\n",
       "      <th>2</th>\n",
       "      <td>10516</td>\n",
       "      <td>a</td>\n",
       "      <td>1/3/2000</td>\n",
       "      <td>1.03</td>\n",
       "      <td>2</td>\n",
       "    </tr>\n",
       "    <tr>\n",
       "      <th>3</th>\n",
       "      <td>10516</td>\n",
       "      <td>a</td>\n",
       "      <td>1/4/2000</td>\n",
       "      <td>1.04</td>\n",
       "      <td>3</td>\n",
       "    </tr>\n",
       "    <tr>\n",
       "      <th>4</th>\n",
       "      <td>10516</td>\n",
       "      <td>b</td>\n",
       "      <td>1/1/2000</td>\n",
       "      <td>1.05</td>\n",
       "      <td>4</td>\n",
       "    </tr>\n",
       "    <tr>\n",
       "      <th>5</th>\n",
       "      <td>10516</td>\n",
       "      <td>b</td>\n",
       "      <td>1/2/2000</td>\n",
       "      <td>1.06</td>\n",
       "      <td>5</td>\n",
       "    </tr>\n",
       "    <tr>\n",
       "      <th>6</th>\n",
       "      <td>10516</td>\n",
       "      <td>b</td>\n",
       "      <td>1/3/2000</td>\n",
       "      <td>1.07</td>\n",
       "      <td>6</td>\n",
       "    </tr>\n",
       "    <tr>\n",
       "      <th>7</th>\n",
       "      <td>10516</td>\n",
       "      <td>b</td>\n",
       "      <td>1/4/2000</td>\n",
       "      <td>1.08</td>\n",
       "      <td>7</td>\n",
       "    </tr>\n",
       "    <tr>\n",
       "      <th>8</th>\n",
       "      <td>10517</td>\n",
       "      <td>a</td>\n",
       "      <td>1/1/2000</td>\n",
       "      <td>1.09</td>\n",
       "      <td>8</td>\n",
       "    </tr>\n",
       "    <tr>\n",
       "      <th>9</th>\n",
       "      <td>10517</td>\n",
       "      <td>a</td>\n",
       "      <td>1/2/2000</td>\n",
       "      <td>1.10</td>\n",
       "      <td>9</td>\n",
       "    </tr>\n",
       "    <tr>\n",
       "      <th>10</th>\n",
       "      <td>10517</td>\n",
       "      <td>a</td>\n",
       "      <td>1/3/2000</td>\n",
       "      <td>1.11</td>\n",
       "      <td>10</td>\n",
       "    </tr>\n",
       "    <tr>\n",
       "      <th>11</th>\n",
       "      <td>10517</td>\n",
       "      <td>a</td>\n",
       "      <td>1/4/2000</td>\n",
       "      <td>1.12</td>\n",
       "      <td>11</td>\n",
       "    </tr>\n",
       "  </tbody>\n",
       "</table>\n",
       "</div>"
      ],
      "text/plain": [
       "    PERMNO byvar      Date   RET  extra var\n",
       "0    10516     a  1/1/2000  1.01          0\n",
       "1    10516     a  1/2/2000  1.02          1\n",
       "2    10516     a  1/3/2000  1.03          2\n",
       "3    10516     a  1/4/2000  1.04          3\n",
       "4    10516     b  1/1/2000  1.05          4\n",
       "5    10516     b  1/2/2000  1.06          5\n",
       "6    10516     b  1/3/2000  1.07          6\n",
       "7    10516     b  1/4/2000  1.08          7\n",
       "8    10517     a  1/1/2000  1.09          8\n",
       "9    10517     a  1/2/2000  1.10          9\n",
       "10   10517     a  1/3/2000  1.11         10\n",
       "11   10517     a  1/4/2000  1.12         11"
      ]
     },
     "execution_count": 15,
     "metadata": {},
     "output_type": "execute_result"
    }
   ],
   "source": [
    "df2"
   ]
  },
  {
   "cell_type": "code",
   "execution_count": 21,
   "metadata": {
    "collapsed": false
   },
   "outputs": [
    {
     "name": "stdout",
     "output_type": "stream",
     "text": [
      "pd.DataFrame(data = [\n",
      "(10516, 'a', '1/1/2000', 1.01, 1.02, 1.03, 1.04),\n",
      "(10516, 'a', '1/2/2000', 1.01, 1.02, 1.03, 1.04),\n",
      "(10516, 'a', '1/3/2000', 1.01, 1.02, 1.03, 1.04),\n",
      "(10516, 'a', '1/4/2000', 1.01, 1.02, 1.03, 1.04),\n",
      "(10516, 'b', '1/1/2000', 1.05, 1.06, 1.07, 1.08),\n",
      "(10516, 'b', '1/2/2000', 1.05, 1.06, 1.07, 1.08),\n",
      "(10516, 'b', '1/3/2000', 1.05, 1.06, 1.07, 1.08),\n",
      "(10516, 'b', '1/4/2000', 1.05, 1.06, 1.07, 1.08),\n",
      "(10517, 'a', '1/1/2000', 1.09, 1.1, 1.11, 1.12),\n",
      "(10517, 'a', '1/2/2000', 1.09, 1.1, 1.11, 1.12),\n",
      "(10517, 'a', '1/3/2000', 1.09, 1.1, 1.11, 1.12),\n",
      "(10517, 'a', '1/4/2000', 1.09, 1.1, 1.11, 1.12),\n",
      "], columns = ['PERMNO', 'byvar', 'Date', 'RET0', 'RET1', 'RET2', 'RET3'])\n"
     ]
    }
   ],
   "source": [
    "a = dero.pandas.long_to_wide(df, ['PERMNO', 'byvar'], 'RET' )#, colindex='Date')\n",
    "dero.pandas.to_copy_paste(a)"
   ]
  },
  {
   "cell_type": "code",
   "execution_count": 13,
   "metadata": {
    "collapsed": false
   },
   "outputs": [
    {
     "name": "stdout",
     "output_type": "stream",
     "text": [
      "> c:\\anaconda3\\lib\\site-packages\\pandas\\core\\reshape.py(139)_make_selectors()\n",
      "-> raise ValueError('Index contains duplicate entries, '\n",
      "(Pdb) u\n",
      "> c:\\anaconda3\\lib\\site-packages\\pandas\\core\\reshape.py(101)__init__()\n",
      "-> self._make_selectors()\n",
      "(Pdb) u\n",
      "> c:\\anaconda3\\lib\\site-packages\\pandas\\core\\reshape.py(407)unstack()\n",
      "-> fill_value=fill_value)\n",
      "(Pdb) u\n",
      "> c:\\anaconda3\\lib\\site-packages\\pandas\\core\\series.py(2043)unstack()\n",
      "-> return unstack(self, level, fill_value)\n",
      "(Pdb) u\n",
      "> c:\\anaconda3\\lib\\site-packages\\pandas\\core\\reshape.py(332)pivot()\n",
      "-> return indexed.unstack(columns)\n",
      "(Pdb) u\n",
      "> c:\\anaconda3\\lib\\site-packages\\pandas\\core\\frame.py(3846)pivot()\n",
      "-> return pivot(self, index=index, columns=columns, values=values)\n",
      "(Pdb) u\n",
      "> c:\\users\\derobertisna.ufad\\dropbox\\python\\dero\\dero\\pandas.py(386)long_to_wide()\n",
      "-> raw_wide = df.pivot(index='__key__', columns=colindex, values=value)\n",
      "(Pdb) df\n",
      "    PERMNO byvar      Date   RET  extra var  __key__\n",
      "0    10516     a  1/1/2000  1.01          0  10516_a\n",
      "1    10516     a  1/2/2000  1.02          1  10516_a\n",
      "2    10516     a  1/2/2000  1.02          2  10516_a\n",
      "3    10516     a  1/3/2000  1.03          3  10516_a\n",
      "4    10516     a  1/4/2000  1.04          4  10516_a\n",
      "5    10516     b  1/1/2000  1.05          5  10516_b\n",
      "6    10516     b  1/2/2000  1.06          6  10516_b\n",
      "7    10516     b  1/3/2000  1.07          7  10516_b\n",
      "8    10516     b  1/4/2000  1.08          8  10516_b\n",
      "9    10517     a  1/1/2000  1.09          9  10517_a\n",
      "10   10517     a  1/2/2000  1.10         10  10517_a\n",
      "11   10517     a  1/3/2000  1.11         11  10517_a\n",
      "12   10517     a  1/4/2000  1.12         12  10517_a\n",
      "(Pdb) q\n"
     ]
    }
   ],
   "source": [
    "import pdb\n",
    "pdb.pm()"
   ]
  },
  {
   "cell_type": "code",
   "execution_count": 8,
   "metadata": {
    "collapsed": false
   },
   "outputs": [
    {
     "data": {
      "text/plain": [
       "False"
      ]
     },
     "execution_count": 8,
     "metadata": {},
     "output_type": "execute_result"
    }
   ],
   "source": [
    "df.duplicated().any()"
   ]
  },
  {
   "cell_type": "code",
   "execution_count": 9,
   "metadata": {
    "collapsed": true
   },
   "outputs": [],
   "source": [
    "a = df.iterrows()\n",
    "b = next(a)"
   ]
  },
  {
   "cell_type": "code",
   "execution_count": 8,
   "metadata": {
    "collapsed": false
   },
   "outputs": [
    {
     "data": {
      "text/html": [
       "<div>\n",
       "<table border=\"1\" class=\"dataframe\">\n",
       "  <thead>\n",
       "    <tr style=\"text-align: right;\">\n",
       "      <th></th>\n",
       "      <th>PERMNO</th>\n",
       "      <th>byvar</th>\n",
       "      <th>RET1/1/2000</th>\n",
       "      <th>RET1/2/2000</th>\n",
       "      <th>RET1/3/2000</th>\n",
       "      <th>RET1/4/2000</th>\n",
       "    </tr>\n",
       "  </thead>\n",
       "  <tbody>\n",
       "    <tr>\n",
       "      <th>0</th>\n",
       "      <td>10516</td>\n",
       "      <td>a</td>\n",
       "      <td>1.01</td>\n",
       "      <td>1.02</td>\n",
       "      <td>1.03</td>\n",
       "      <td>1.04</td>\n",
       "    </tr>\n",
       "    <tr>\n",
       "      <th>1</th>\n",
       "      <td>10516</td>\n",
       "      <td>b</td>\n",
       "      <td>1.05</td>\n",
       "      <td>1.06</td>\n",
       "      <td>1.07</td>\n",
       "      <td>1.08</td>\n",
       "    </tr>\n",
       "    <tr>\n",
       "      <th>2</th>\n",
       "      <td>10517</td>\n",
       "      <td>a</td>\n",
       "      <td>1.09</td>\n",
       "      <td>1.10</td>\n",
       "      <td>1.11</td>\n",
       "      <td>1.12</td>\n",
       "    </tr>\n",
       "  </tbody>\n",
       "</table>\n",
       "</div>"
      ],
      "text/plain": [
       "   PERMNO byvar  RET1/1/2000  RET1/2/2000  RET1/3/2000  RET1/4/2000\n",
       "0   10516     a         1.01         1.02         1.03         1.04\n",
       "1   10516     b         1.05         1.06         1.07         1.08\n",
       "2   10517     a         1.09         1.10         1.11         1.12"
      ]
     },
     "execution_count": 8,
     "metadata": {},
     "output_type": "execute_result"
    }
   ],
   "source": [
    "a"
   ]
  },
  {
   "cell_type": "code",
   "execution_count": 7,
   "metadata": {
    "collapsed": false
   },
   "outputs": [
    {
     "name": "stdout",
     "output_type": "stream",
     "text": [
      "pd.DataFrame(data = [\n",
      "(10516, 'a', 1.01, 1.02, 1.03, 1.04),\n",
      "(10516, 'b', 1.05, 1.06, 1.07, 1.08),\n",
      "(10517, 'a', 1.09, 1.1, 1.11, 1.12),\n",
      "], columns = ['PERMNO', 'byvar', 'RET1/1/2000', 'RET1/2/2000', 'RET1/3/2000', 'RET1/4/2000'])\n"
     ]
    }
   ],
   "source": [
    "dero.pandas.to_copy_paste(a)"
   ]
  },
  {
   "cell_type": "code",
   "execution_count": 7,
   "metadata": {
    "collapsed": false
   },
   "outputs": [
    {
     "name": "stdout",
     "output_type": "stream",
     "text": [
      "['PERMNO', 'byvar', 'Date', 'RET']\n"
     ]
    }
   ],
   "source": [
    "print([i for i in df.columns])"
   ]
  },
  {
   "cell_type": "code",
   "execution_count": 54,
   "metadata": {
    "collapsed": false
   },
   "outputs": [
    {
     "data": {
      "text/plain": [
       "array([1, 10516, 'a', '1/2/2000', 1.02], dtype=object)"
      ]
     },
     "execution_count": 54,
     "metadata": {},
     "output_type": "execute_result"
    }
   ],
   "source": [
    "import numpy as np\n",
    "d = c.values\n",
    "d = np.insert(d, 0, 1)\n",
    "d"
   ]
  },
  {
   "cell_type": "code",
   "execution_count": 29,
   "metadata": {
    "collapsed": true
   },
   "outputs": [],
   "source": [
    "a = df.iterrows()"
   ]
  },
  {
   "cell_type": "code",
   "execution_count": 31,
   "metadata": {
    "collapsed": false
   },
   "outputs": [],
   "source": [
    "b = next(a)"
   ]
  },
  {
   "cell_type": "code",
   "execution_count": 36,
   "metadata": {
    "collapsed": false
   },
   "outputs": [],
   "source": [
    "c = b[1]\n",
    "c?"
   ]
  },
  {
   "cell_type": "code",
   "execution_count": 42,
   "metadata": {
    "collapsed": false
   },
   "outputs": [
    {
     "data": {
      "text/plain": [
       "[0, 1, 2, 3, 4, 5, 6, 7, 8, 9, 10, 11]"
      ]
     },
     "execution_count": 42,
     "metadata": {},
     "output_type": "execute_result"
    }
   ],
   "source": [
    "[row[0] for row in df.iterrows()]"
   ]
  },
  {
   "cell_type": "code",
   "execution_count": 41,
   "metadata": {
    "collapsed": false
   },
   "outputs": [
    {
     "data": {
      "text/plain": [
       "[(10516, 'a', '1/1/2000', 1.01),\n",
       " (10516, 'a', '1/2/2000', 1.02),\n",
       " (10516, 'a', '1/3/2000', 1.03),\n",
       " (10516, 'a', '1/4/2000', 1.04),\n",
       " (10516, 'b', '1/1/2000', 1.05),\n",
       " (10516, 'b', '1/2/2000', 1.06),\n",
       " (10516, 'b', '1/3/2000', 1.07),\n",
       " (10516, 'b', '1/4/2000', 1.08),\n",
       " (10517, 'a', '1/1/2000', 1.09),\n",
       " (10517, 'a', '1/2/2000', 1.1),\n",
       " (10517, 'a', '1/3/2000', 1.11),\n",
       " (10517, 'a', '1/4/2000', 1.12)]"
      ]
     },
     "execution_count": 41,
     "metadata": {},
     "output_type": "execute_result"
    }
   ],
   "source": [
    "[tuple(row[1].values) for row in df.iterrows()]"
   ]
  },
  {
   "cell_type": "code",
   "execution_count": 22,
   "metadata": {
    "collapsed": false
   },
   "outputs": [
    {
     "data": {
      "text/plain": [
       "(1.06, 1)"
      ]
     },
     "execution_count": 22,
     "metadata": {},
     "output_type": "execute_result"
    }
   ],
   "source": [
    "(1.06000000000000001, 1)"
   ]
  },
  {
   "cell_type": "code",
   "execution_count": 15,
   "metadata": {
    "collapsed": false
   },
   "outputs": [
    {
     "name": "stdout",
     "output_type": "stream",
     "text": [
      "> <ipython-input-14-55b4ea73ba63>(23)to_copy_paste()\n",
      "-> out += val\n",
      "(Pdb) val\n",
      "1.01\n",
      "(Pdb) out\n",
      "[10516, 'a']\n",
      "(Pdb) q.\n"
     ]
    }
   ],
   "source": [
    "import pdb; pdb.pm()"
   ]
  },
  {
   "cell_type": "code",
   "execution_count": 7,
   "metadata": {
    "collapsed": false
   },
   "outputs": [
    {
     "ename": "OSError",
     "evalue": "exception: access violation writing 0x0000000000000000",
     "traceback": [
      "\u001b[1;31m---------------------------------------------------------------------------\u001b[0m",
      "\u001b[1;31mOSError\u001b[0m                                   Traceback (most recent call last)",
      "\u001b[1;32m<ipython-input-7-0a43e3df1899>\u001b[0m in \u001b[0;36m<module>\u001b[1;34m()\u001b[0m\n\u001b[1;32m----> 1\u001b[1;33m \u001b[0ma\u001b[0m\u001b[1;33m.\u001b[0m\u001b[0mto_clipboard\u001b[0m\u001b[1;33m(\u001b[0m\u001b[1;33m)\u001b[0m\u001b[1;33m\u001b[0m\u001b[0m\n\u001b[0m",
      "\u001b[1;32mC:\\Anaconda3\\lib\\site-packages\\pandas\\core\\generic.py\u001b[0m in \u001b[0;36mto_clipboard\u001b[1;34m(self, excel, sep, **kwargs)\u001b[0m\n\u001b[0;32m   1200\u001b[0m         \"\"\"\n\u001b[0;32m   1201\u001b[0m         \u001b[1;32mfrom\u001b[0m \u001b[0mpandas\u001b[0m\u001b[1;33m.\u001b[0m\u001b[0mio\u001b[0m \u001b[1;32mimport\u001b[0m \u001b[0mclipboard\u001b[0m\u001b[1;33m\u001b[0m\u001b[0m\n\u001b[1;32m-> 1202\u001b[1;33m         \u001b[0mclipboard\u001b[0m\u001b[1;33m.\u001b[0m\u001b[0mto_clipboard\u001b[0m\u001b[1;33m(\u001b[0m\u001b[0mself\u001b[0m\u001b[1;33m,\u001b[0m \u001b[0mexcel\u001b[0m\u001b[1;33m=\u001b[0m\u001b[0mexcel\u001b[0m\u001b[1;33m,\u001b[0m \u001b[0msep\u001b[0m\u001b[1;33m=\u001b[0m\u001b[0msep\u001b[0m\u001b[1;33m,\u001b[0m \u001b[1;33m**\u001b[0m\u001b[0mkwargs\u001b[0m\u001b[1;33m)\u001b[0m\u001b[1;33m\u001b[0m\u001b[0m\n\u001b[0m\u001b[0;32m   1203\u001b[0m \u001b[1;33m\u001b[0m\u001b[0m\n\u001b[0;32m   1204\u001b[0m     \u001b[1;32mdef\u001b[0m \u001b[0mto_xarray\u001b[0m\u001b[1;33m(\u001b[0m\u001b[0mself\u001b[0m\u001b[1;33m)\u001b[0m\u001b[1;33m:\u001b[0m\u001b[1;33m\u001b[0m\u001b[0m\n",
      "\u001b[1;32mC:\\Anaconda3\\lib\\site-packages\\pandas\\io\\clipboard.py\u001b[0m in \u001b[0;36mto_clipboard\u001b[1;34m(obj, excel, sep, **kwargs)\u001b[0m\n\u001b[0;32m     96\u001b[0m     \u001b[1;32melse\u001b[0m\u001b[1;33m:\u001b[0m\u001b[1;33m\u001b[0m\u001b[0m\n\u001b[0;32m     97\u001b[0m         \u001b[0mobjstr\u001b[0m \u001b[1;33m=\u001b[0m \u001b[0mstr\u001b[0m\u001b[1;33m(\u001b[0m\u001b[0mobj\u001b[0m\u001b[1;33m)\u001b[0m\u001b[1;33m\u001b[0m\u001b[0m\n\u001b[1;32m---> 98\u001b[1;33m     \u001b[0mclipboard_set\u001b[0m\u001b[1;33m(\u001b[0m\u001b[0mobjstr\u001b[0m\u001b[1;33m)\u001b[0m\u001b[1;33m\u001b[0m\u001b[0m\n\u001b[0m",
      "\u001b[1;32mC:\\Anaconda3\\lib\\site-packages\\pandas\\util\\clipboard.py\u001b[0m in \u001b[0;36m_copyWindows\u001b[1;34m(text)\u001b[0m\n\u001b[0;32m     83\u001b[0m                                  len(text.encode('utf-16-le')) + 2)\n\u001b[0;32m     84\u001b[0m     \u001b[0mpchData\u001b[0m \u001b[1;33m=\u001b[0m \u001b[0md\u001b[0m\u001b[1;33m.\u001b[0m\u001b[0mkernel32\u001b[0m\u001b[1;33m.\u001b[0m\u001b[0mGlobalLock\u001b[0m\u001b[1;33m(\u001b[0m\u001b[0mhCd\u001b[0m\u001b[1;33m)\u001b[0m\u001b[1;33m\u001b[0m\u001b[0m\n\u001b[1;32m---> 85\u001b[1;33m     \u001b[0mctypes\u001b[0m\u001b[1;33m.\u001b[0m\u001b[0mcdll\u001b[0m\u001b[1;33m.\u001b[0m\u001b[0mmsvcrt\u001b[0m\u001b[1;33m.\u001b[0m\u001b[0mwcscpy\u001b[0m\u001b[1;33m(\u001b[0m\u001b[0mctypes\u001b[0m\u001b[1;33m.\u001b[0m\u001b[0mc_wchar_p\u001b[0m\u001b[1;33m(\u001b[0m\u001b[0mpchData\u001b[0m\u001b[1;33m)\u001b[0m\u001b[1;33m,\u001b[0m \u001b[0mtext\u001b[0m\u001b[1;33m)\u001b[0m\u001b[1;33m\u001b[0m\u001b[0m\n\u001b[0m\u001b[0;32m     86\u001b[0m     \u001b[0md\u001b[0m\u001b[1;33m.\u001b[0m\u001b[0mkernel32\u001b[0m\u001b[1;33m.\u001b[0m\u001b[0mGlobalUnlock\u001b[0m\u001b[1;33m(\u001b[0m\u001b[0mhCd\u001b[0m\u001b[1;33m)\u001b[0m\u001b[1;33m\u001b[0m\u001b[0m\n\u001b[0;32m     87\u001b[0m     \u001b[0md\u001b[0m\u001b[1;33m.\u001b[0m\u001b[0muser32\u001b[0m\u001b[1;33m.\u001b[0m\u001b[0mSetClipboardData\u001b[0m\u001b[1;33m(\u001b[0m\u001b[0mCF_UNICODETEXT\u001b[0m\u001b[1;33m,\u001b[0m \u001b[0mhCd\u001b[0m\u001b[1;33m)\u001b[0m\u001b[1;33m\u001b[0m\u001b[0m\n",
      "\u001b[1;31mOSError\u001b[0m: exception: access violation writing 0x0000000000000000"
     ],
     "output_type": "error"
    }
   ],
   "source": [
    "a.to_clipboard()"
   ]
  },
  {
   "cell_type": "code",
   "execution_count": 4,
   "metadata": {
    "collapsed": false
   },
   "outputs": [
    {
     "name": "stdout",
     "output_type": "stream",
     "text": [
      "2016-05-27 17:31:44: Initializing cumulate.\n",
      "2016-05-27 17:31:44: Creating by groups.\n"
     ]
    }
   ],
   "source": [
    "cum_df = dero.pandas.cumulate(df, 'RET', method='between', periodvar='Date', byvars=['PERMNO','byvar'], time=[1,3])"
   ]
  },
  {
   "cell_type": "code",
   "execution_count": 5,
   "metadata": {
    "collapsed": true
   },
   "outputs": [],
   "source": [
    "expect_df = pd.DataFrame([\n",
    "                                (10516, 'a', '1/1/2000', 1.01, 1.01),\n",
    "                                (10516, 'a', '1/2/2000', 1.02, 1.02),\n",
    "                                (10516, 'a', '1/3/2000', 1.03, 1.03),\n",
    "                                (10516, 'a', '1/4/2000', 1.04, 1.0712),\n",
    "                                (10516, 'b', '1/1/2000', 1.05, 1.05),\n",
    "                                (10516, 'b', '1/2/2000', 1.06, 1.06),\n",
    "                                (10516, 'b', '1/3/2000', 1.07, 1.07),\n",
    "                                (10516, 'b', '1/4/2000', 1.08, 1.1556),\n",
    "                                (10517, 'a', '1/1/2000', 1.09, 1.09),\n",
    "                                (10517, 'a', '1/2/2000', 1.10, 1.10),\n",
    "                                (10517, 'a', '1/3/2000', 1.11, 1.11),\n",
    "                                (10517, 'a', '1/4/2000', 1.12, 1.2432),\n",
    "                                ], columns = ['PERMNO','byvar','Date', 'RET', 'cum_RET'])"
   ]
  },
  {
   "cell_type": "code",
   "execution_count": 18,
   "metadata": {
    "collapsed": false
   },
   "outputs": [],
   "source": [
    "cum_df['cum_RET'] = cum_df['cum_RET'].astype('float64')"
   ]
  },
  {
   "cell_type": "code",
   "execution_count": 29,
   "metadata": {
    "collapsed": true
   },
   "outputs": [],
   "source": [
    "pd.util.testing.SimpleMock?"
   ]
  },
  {
   "cell_type": "code",
   "execution_count": 32,
   "metadata": {
    "collapsed": false
   },
   "outputs": [],
   "source": [
    "assert_frame_equal?"
   ]
  },
  {
   "cell_type": "code",
   "execution_count": 17,
   "metadata": {
    "collapsed": false
   },
   "outputs": [
    {
     "data": {
      "text/plain": [
       "PERMNO       int64\n",
       "byvar       object\n",
       "Date        object\n",
       "RET        float64\n",
       "cum_RET    float64\n",
       "dtype: object"
      ]
     },
     "execution_count": 17,
     "metadata": {},
     "output_type": "execute_result"
    }
   ],
   "source": [
    "expect_df.dtypes"
   ]
  },
  {
   "cell_type": "code",
   "execution_count": 6,
   "metadata": {
    "collapsed": false
   },
   "outputs": [],
   "source": [
    "byvars = ['PERMNO','byvar']\n",
    "out = groupby_merge(df, byvars, 'max', subset='RET')"
   ]
  },
  {
   "cell_type": "code",
   "execution_count": 11,
   "metadata": {
    "collapsed": true
   },
   "outputs": [],
   "source": [
    "round?"
   ]
  },
  {
   "cell_type": "code",
   "execution_count": 18,
   "metadata": {
    "collapsed": false
   },
   "outputs": [
    {
     "data": {
      "text/plain": [
       "1.07"
      ]
     },
     "execution_count": 18,
     "metadata": {},
     "output_type": "execute_result"
    }
   ],
   "source": [
    "round(1.070001, 2)"
   ]
  },
  {
   "cell_type": "code",
   "execution_count": 19,
   "metadata": {
    "collapsed": false
   },
   "outputs": [
    {
     "data": {
      "text/plain": [
       "[(10516, 'a', '1/1/2000', 1.01, 1.04),\n",
       " (10516, 'a', '1/2/2000', 1.02, 1.04),\n",
       " (10516, 'a', '1/3/2000', 1.03, 1.04),\n",
       " (10516, 'a', '1/4/2000', 1.04, 1.04),\n",
       " (10516, 'b', '1/1/2000', 1.05, 1.0800000000000001),\n",
       " (10516, 'b', '1/2/2000', 1.0600000000000001, 1.0800000000000001),\n",
       " (10516, 'b', '1/3/2000', 1.0700000000000001, 1.0800000000000001),\n",
       " (10516, 'b', '1/4/2000', 1.0800000000000001, 1.0800000000000001),\n",
       " (10517, 'a', '1/1/2000', 1.0900000000000001, 1.1200000000000001),\n",
       " (10517, 'a', '1/2/2000', 1.1000000000000001, 1.1200000000000001),\n",
       " (10517, 'a', '1/3/2000', 1.1100000000000001, 1.1200000000000001),\n",
       " (10517, 'a', '1/4/2000', 1.1200000000000001, 1.1200000000000001)]"
      ]
     },
     "execution_count": 19,
     "metadata": {},
     "output_type": "execute_result"
    }
   ],
   "source": [
    "tups = list(out.itertuples(name=None))\n",
    "[tup[1:-1] + (round(tup[-1], 2),) for tup in tups]"
   ]
  },
  {
   "cell_type": "code",
   "execution_count": null,
   "metadata": {
    "collapsed": true
   },
   "outputs": [],
   "source": [
    "dero.pandas.cumulate(df, 'RET', 'between', shiftvar='Date', \n",
    "                                      byvars=['PERMNO','byvar'], time=[1,3])"
   ]
  },
  {
   "cell_type": "code",
   "execution_count": 25,
   "metadata": {
    "collapsed": false
   },
   "outputs": [
    {
     "data": {
      "text/html": [
       "<div>\n",
       "<table border=\"1\" class=\"dataframe\">\n",
       "  <thead>\n",
       "    <tr style=\"text-align: right;\">\n",
       "      <th></th>\n",
       "      <th>PERMNO</th>\n",
       "      <th>byvar</th>\n",
       "      <th>Date</th>\n",
       "      <th>RET</th>\n",
       "    </tr>\n",
       "  </thead>\n",
       "  <tbody>\n",
       "    <tr>\n",
       "      <th>0</th>\n",
       "      <td>10516</td>\n",
       "      <td>a</td>\n",
       "      <td>1/1/2000</td>\n",
       "      <td>1.01</td>\n",
       "    </tr>\n",
       "    <tr>\n",
       "      <th>1</th>\n",
       "      <td>10516</td>\n",
       "      <td>a</td>\n",
       "      <td>1/2/2000</td>\n",
       "      <td>1.02</td>\n",
       "    </tr>\n",
       "    <tr>\n",
       "      <th>2</th>\n",
       "      <td>10516</td>\n",
       "      <td>a</td>\n",
       "      <td>1/3/2000</td>\n",
       "      <td>1.03</td>\n",
       "    </tr>\n",
       "    <tr>\n",
       "      <th>3</th>\n",
       "      <td>10516</td>\n",
       "      <td>a</td>\n",
       "      <td>1/4/2000</td>\n",
       "      <td>1.04</td>\n",
       "    </tr>\n",
       "    <tr>\n",
       "      <th>4</th>\n",
       "      <td>10516</td>\n",
       "      <td>b</td>\n",
       "      <td>1/1/2000</td>\n",
       "      <td>1.05</td>\n",
       "    </tr>\n",
       "    <tr>\n",
       "      <th>5</th>\n",
       "      <td>10516</td>\n",
       "      <td>b</td>\n",
       "      <td>1/2/2000</td>\n",
       "      <td>1.06</td>\n",
       "    </tr>\n",
       "    <tr>\n",
       "      <th>6</th>\n",
       "      <td>10516</td>\n",
       "      <td>b</td>\n",
       "      <td>1/3/2000</td>\n",
       "      <td>1.07</td>\n",
       "    </tr>\n",
       "    <tr>\n",
       "      <th>7</th>\n",
       "      <td>10516</td>\n",
       "      <td>b</td>\n",
       "      <td>1/4/2000</td>\n",
       "      <td>1.08</td>\n",
       "    </tr>\n",
       "    <tr>\n",
       "      <th>8</th>\n",
       "      <td>10517</td>\n",
       "      <td>a</td>\n",
       "      <td>1/1/2000</td>\n",
       "      <td>1.09</td>\n",
       "    </tr>\n",
       "    <tr>\n",
       "      <th>9</th>\n",
       "      <td>10517</td>\n",
       "      <td>a</td>\n",
       "      <td>1/2/2000</td>\n",
       "      <td>1.10</td>\n",
       "    </tr>\n",
       "    <tr>\n",
       "      <th>10</th>\n",
       "      <td>10517</td>\n",
       "      <td>a</td>\n",
       "      <td>1/3/2000</td>\n",
       "      <td>1.11</td>\n",
       "    </tr>\n",
       "    <tr>\n",
       "      <th>11</th>\n",
       "      <td>10517</td>\n",
       "      <td>a</td>\n",
       "      <td>1/4/2000</td>\n",
       "      <td>1.12</td>\n",
       "    </tr>\n",
       "  </tbody>\n",
       "</table>\n",
       "</div>"
      ],
      "text/plain": [
       "    PERMNO byvar      Date   RET\n",
       "0    10516     a  1/1/2000  1.01\n",
       "1    10516     a  1/2/2000  1.02\n",
       "2    10516     a  1/3/2000  1.03\n",
       "3    10516     a  1/4/2000  1.04\n",
       "4    10516     b  1/1/2000  1.05\n",
       "5    10516     b  1/2/2000  1.06\n",
       "6    10516     b  1/3/2000  1.07\n",
       "7    10516     b  1/4/2000  1.08\n",
       "8    10517     a  1/1/2000  1.09\n",
       "9    10517     a  1/2/2000  1.10\n",
       "10   10517     a  1/3/2000  1.11\n",
       "11   10517     a  1/4/2000  1.12"
      ]
     },
     "execution_count": 25,
     "metadata": {},
     "output_type": "execute_result"
    }
   ],
   "source": [
    "df"
   ]
  },
  {
   "cell_type": "code",
   "execution_count": 26,
   "metadata": {
    "collapsed": false
   },
   "outputs": [
    {
     "data": {
      "text/plain": [
       "{(10516, 'a'): [0, 1, 2, 3],\n",
       " (10516, 'b'): [4, 5, 6, 7],\n",
       " (10517, 'a'): [8, 9, 10, 11]}"
      ]
     },
     "execution_count": 26,
     "metadata": {},
     "output_type": "execute_result"
    }
   ],
   "source": [
    "test = df.groupby(['PERMNO','byvar']).groups\n",
    "test"
   ]
  },
  {
   "cell_type": "code",
   "execution_count": 30,
   "metadata": {
    "collapsed": false
   },
   "outputs": [],
   "source": [
    "import dero"
   ]
  },
  {
   "cell_type": "code",
   "execution_count": 51,
   "metadata": {
    "collapsed": false
   },
   "outputs": [
    {
     "data": {
      "text/plain": [
       "<module 'dero' from 'c:\\\\users\\\\derobertisna.ufad\\\\dropbox\\\\python\\\\dero\\\\dero\\\\__init__.py'>"
      ]
     },
     "execution_count": 51,
     "metadata": {},
     "output_type": "execute_result"
    }
   ],
   "source": [
    "import imp; imp.reload(dero)"
   ]
  },
  {
   "cell_type": "code",
   "execution_count": 21,
   "metadata": {
    "collapsed": false
   },
   "outputs": [],
   "source": [
    "a = df.groupby(['PERMNO','byvar']).transform(lambda x: x)\n",
    "a.columns = [col + '_a' for col in a.columns]"
   ]
  },
  {
   "cell_type": "code",
   "execution_count": 22,
   "metadata": {
    "collapsed": false
   },
   "outputs": [
    {
     "data": {
      "text/html": [
       "<div>\n",
       "<table border=\"1\" class=\"dataframe\">\n",
       "  <thead>\n",
       "    <tr style=\"text-align: right;\">\n",
       "      <th></th>\n",
       "      <th>PERMNO</th>\n",
       "      <th>byvar</th>\n",
       "      <th>Date</th>\n",
       "      <th>RET</th>\n",
       "      <th>Date_a</th>\n",
       "      <th>RET_a</th>\n",
       "    </tr>\n",
       "  </thead>\n",
       "  <tbody>\n",
       "    <tr>\n",
       "      <th>0</th>\n",
       "      <td>10516</td>\n",
       "      <td>a</td>\n",
       "      <td>1/1/2000</td>\n",
       "      <td>1.01</td>\n",
       "      <td>1/1/2000</td>\n",
       "      <td>1.01</td>\n",
       "    </tr>\n",
       "    <tr>\n",
       "      <th>1</th>\n",
       "      <td>10516</td>\n",
       "      <td>a</td>\n",
       "      <td>1/2/2000</td>\n",
       "      <td>1.02</td>\n",
       "      <td>1/2/2000</td>\n",
       "      <td>1.02</td>\n",
       "    </tr>\n",
       "    <tr>\n",
       "      <th>2</th>\n",
       "      <td>10516</td>\n",
       "      <td>a</td>\n",
       "      <td>1/3/2000</td>\n",
       "      <td>1.03</td>\n",
       "      <td>1/3/2000</td>\n",
       "      <td>1.03</td>\n",
       "    </tr>\n",
       "    <tr>\n",
       "      <th>3</th>\n",
       "      <td>10516</td>\n",
       "      <td>a</td>\n",
       "      <td>1/4/2000</td>\n",
       "      <td>1.04</td>\n",
       "      <td>1/4/2000</td>\n",
       "      <td>1.04</td>\n",
       "    </tr>\n",
       "    <tr>\n",
       "      <th>4</th>\n",
       "      <td>10516</td>\n",
       "      <td>b</td>\n",
       "      <td>1/1/2000</td>\n",
       "      <td>1.05</td>\n",
       "      <td>1/1/2000</td>\n",
       "      <td>1.05</td>\n",
       "    </tr>\n",
       "    <tr>\n",
       "      <th>5</th>\n",
       "      <td>10516</td>\n",
       "      <td>b</td>\n",
       "      <td>1/2/2000</td>\n",
       "      <td>1.06</td>\n",
       "      <td>1/2/2000</td>\n",
       "      <td>1.06</td>\n",
       "    </tr>\n",
       "    <tr>\n",
       "      <th>6</th>\n",
       "      <td>10516</td>\n",
       "      <td>b</td>\n",
       "      <td>1/3/2000</td>\n",
       "      <td>1.07</td>\n",
       "      <td>1/3/2000</td>\n",
       "      <td>1.07</td>\n",
       "    </tr>\n",
       "    <tr>\n",
       "      <th>7</th>\n",
       "      <td>10516</td>\n",
       "      <td>b</td>\n",
       "      <td>1/4/2000</td>\n",
       "      <td>1.08</td>\n",
       "      <td>1/4/2000</td>\n",
       "      <td>1.08</td>\n",
       "    </tr>\n",
       "    <tr>\n",
       "      <th>8</th>\n",
       "      <td>10517</td>\n",
       "      <td>a</td>\n",
       "      <td>1/1/2000</td>\n",
       "      <td>1.09</td>\n",
       "      <td>1/1/2000</td>\n",
       "      <td>1.09</td>\n",
       "    </tr>\n",
       "    <tr>\n",
       "      <th>9</th>\n",
       "      <td>10517</td>\n",
       "      <td>a</td>\n",
       "      <td>1/2/2000</td>\n",
       "      <td>1.10</td>\n",
       "      <td>1/2/2000</td>\n",
       "      <td>1.10</td>\n",
       "    </tr>\n",
       "    <tr>\n",
       "      <th>10</th>\n",
       "      <td>10517</td>\n",
       "      <td>a</td>\n",
       "      <td>1/3/2000</td>\n",
       "      <td>1.11</td>\n",
       "      <td>1/3/2000</td>\n",
       "      <td>1.11</td>\n",
       "    </tr>\n",
       "    <tr>\n",
       "      <th>11</th>\n",
       "      <td>10517</td>\n",
       "      <td>a</td>\n",
       "      <td>1/4/2000</td>\n",
       "      <td>1.12</td>\n",
       "      <td>1/4/2000</td>\n",
       "      <td>1.12</td>\n",
       "    </tr>\n",
       "  </tbody>\n",
       "</table>\n",
       "</div>"
      ],
      "text/plain": [
       "    PERMNO byvar      Date   RET    Date_a  RET_a\n",
       "0    10516     a  1/1/2000  1.01  1/1/2000   1.01\n",
       "1    10516     a  1/2/2000  1.02  1/2/2000   1.02\n",
       "2    10516     a  1/3/2000  1.03  1/3/2000   1.03\n",
       "3    10516     a  1/4/2000  1.04  1/4/2000   1.04\n",
       "4    10516     b  1/1/2000  1.05  1/1/2000   1.05\n",
       "5    10516     b  1/2/2000  1.06  1/2/2000   1.06\n",
       "6    10516     b  1/3/2000  1.07  1/3/2000   1.07\n",
       "7    10516     b  1/4/2000  1.08  1/4/2000   1.08\n",
       "8    10517     a  1/1/2000  1.09  1/1/2000   1.09\n",
       "9    10517     a  1/2/2000  1.10  1/2/2000   1.10\n",
       "10   10517     a  1/3/2000  1.11  1/3/2000   1.11\n",
       "11   10517     a  1/4/2000  1.12  1/4/2000   1.12"
      ]
     },
     "execution_count": 22,
     "metadata": {},
     "output_type": "execute_result"
    }
   ],
   "source": [
    "pd.concat([df,a], axis=1)"
   ]
  },
  {
   "cell_type": "code",
   "execution_count": null,
   "metadata": {
    "collapsed": true
   },
   "outputs": [],
   "source": [
    "df_nan_byvar = pd.DataFrame(data = [\n",
    "                                ('a', 1),\n",
    "                                (nan, 2),\n",
    "                                ('b', 3),\n",
    "                                ('b', 4),\n",
    "                                ], columns = ['byvar', 'val'])"
   ]
  },
  {
   "cell_type": "code",
   "execution_count": 11,
   "metadata": {
    "collapsed": false
   },
   "outputs": [
    {
     "data": {
      "text/html": [
       "<div>\n",
       "<table border=\"1\" class=\"dataframe\">\n",
       "  <thead>\n",
       "    <tr style=\"text-align: right;\">\n",
       "      <th></th>\n",
       "      <th></th>\n",
       "      <th>RET</th>\n",
       "    </tr>\n",
       "    <tr>\n",
       "      <th>PERMNO</th>\n",
       "      <th>byvar</th>\n",
       "      <th></th>\n",
       "    </tr>\n",
       "  </thead>\n",
       "  <tbody>\n",
       "    <tr>\n",
       "      <th rowspan=\"2\" valign=\"top\">10516</th>\n",
       "      <th>a</th>\n",
       "      <td>4.10</td>\n",
       "    </tr>\n",
       "    <tr>\n",
       "      <th>b</th>\n",
       "      <td>4.26</td>\n",
       "    </tr>\n",
       "    <tr>\n",
       "      <th>10517</th>\n",
       "      <th>a</th>\n",
       "      <td>4.42</td>\n",
       "    </tr>\n",
       "  </tbody>\n",
       "</table>\n",
       "</div>"
      ],
      "text/plain": [
       "               RET\n",
       "PERMNO byvar      \n",
       "10516  a      4.10\n",
       "       b      4.26\n",
       "10517  a      4.42"
      ]
     },
     "execution_count": 11,
     "metadata": {},
     "output_type": "execute_result"
    }
   ],
   "source": [
    "df.groupby(['PERMNO','byvar']).sum()"
   ]
  },
  {
   "cell_type": "code",
   "execution_count": 14,
   "metadata": {
    "collapsed": true
   },
   "outputs": [],
   "source": [
    "df.sort_values?"
   ]
  },
  {
   "cell_type": "code",
   "execution_count": 15,
   "metadata": {
    "collapsed": false
   },
   "outputs": [],
   "source": [
    "from dero.pandas import groupby_merge\n",
    "\n",
    "\n",
    "a = groupby_index(df, ['PERMNO','byvar'], sortvars='Date')\n",
    "a['group_index'] += 1"
   ]
  },
  {
   "cell_type": "code",
   "execution_count": 24,
   "metadata": {
    "collapsed": false
   },
   "outputs": [
    {
     "ename": "NameError",
     "evalue": "name 'funcb' is not defined",
     "traceback": [
      "\u001b[1;31m---------------------------------------------------------------------------\u001b[0m",
      "\u001b[1;31mNameError\u001b[0m                                 Traceback (most recent call last)",
      "\u001b[1;32m<ipython-input-24-79c5632f83aa>\u001b[0m in \u001b[0;36m<module>\u001b[1;34m()\u001b[0m\n\u001b[0;32m      6\u001b[0m     \u001b[1;32mreturn\u001b[0m \u001b[0mfuncb\u001b[0m\u001b[1;33m(\u001b[0m\u001b[0ma\u001b[0m\u001b[1;33m)\u001b[0m \u001b[1;33m+\u001b[0m \u001b[1;36m1\u001b[0m\u001b[1;33m\u001b[0m\u001b[0m\n\u001b[0;32m      7\u001b[0m \u001b[1;33m\u001b[0m\u001b[0m\n\u001b[1;32m----> 8\u001b[1;33m \u001b[0mfuncb\u001b[0m\u001b[1;33m(\u001b[0m\u001b[1;36m1\u001b[0m\u001b[1;33m)\u001b[0m\u001b[1;33m\u001b[0m\u001b[0m\n\u001b[0m",
      "\u001b[1;31mNameError\u001b[0m: name 'funcb' is not defined"
     ],
     "output_type": "error"
    }
   ],
   "source": [
    "def funca(a):\n",
    "    \n",
    "    def funcb(b):\n",
    "        return b + 1\n",
    "    \n",
    "    return funcb(a) + 1\n",
    "\n",
    "funcb(1)"
   ]
  },
  {
   "cell_type": "code",
   "execution_count": 70,
   "metadata": {
    "collapsed": false
   },
   "outputs": [
    {
     "data": {
      "text/plain": [
       "[[0], [1], [2, 3]]"
      ]
     },
     "execution_count": 70,
     "metadata": {},
     "output_type": "execute_result"
    }
   ],
   "source": [
    "#need to add from itertools import chain\n",
    "\n",
    "def create_windows(periods, method='between', time=[1,3]):\n",
    "    if method.lower() == 'first':\n",
    "        windows = [[0]]\n",
    "        windows += [[i for i in range(1, len(periods))]]\n",
    "        return windows\n",
    "    elif method.lower() == 'between':\n",
    "        windows = [[0]]\n",
    "        t_bot = 0\n",
    "        for i, t in enumerate(time): #pick each element of time\n",
    "            if t == 0: continue #already added zero\n",
    "            windows.append([i for i in range(t_bot + 1, t + 1)])\n",
    "            t_bot = t\n",
    "        #The last window is all the leftover periods after finishing time\n",
    "        extra_windows = [[i for i, per in enumerate(periods) if i not in chain.from_iterable(windows)]]\n",
    "        if extra_windows != [[]]: #don't want to add empty window\n",
    "            windows += extra_windows\n",
    "        return windows\n",
    "    elif method.lower() == 'zero':\n",
    "        windows = []\n",
    "        windows.append(periods[:periods.index(0) + 1]) #add times before 0, as well as 0\n",
    "        windows.append([0]) #add 0\n",
    "        windows.append(periods[periods.index(0) + 1:]) #add times after 0\n",
    "        return windows\n",
    "    \n",
    "create_windows(['1/1/2000','1/2/2000','1/3/2000','1/4/2000'], method='between', time=[1,3])"
   ]
  },
  {
   "cell_type": "code",
   "execution_count": 136,
   "metadata": {
    "collapsed": false
   },
   "outputs": [
    {
     "data": {
      "text/plain": [
       "[0, 1, 2, 2]"
      ]
     },
     "execution_count": 136,
     "metadata": {},
     "output_type": "execute_result"
    }
   ],
   "source": [
    "def window_mapping(col):\n",
    "    windows = create_windows(col)\n",
    "    return [n for i in range(len(col.index)) for n, window in enumerate(windows) if i in window]\n",
    "\n",
    "b = pd.Series(['1/1/2000','1/2/2000','1/3/2000','1/4/2000'])\n",
    "window_mapping(b)"
   ]
  },
  {
   "cell_type": "code",
   "execution_count": 78,
   "metadata": {
    "collapsed": false
   },
   "outputs": [
    {
     "data": {
      "text/plain": [
       "0"
      ]
     },
     "execution_count": 78,
     "metadata": {},
     "output_type": "execute_result"
    }
   ],
   "source": [
    "[[0], [1], [2, 3]].index([0])"
   ]
  },
  {
   "cell_type": "code",
   "execution_count": 76,
   "metadata": {
    "collapsed": false
   },
   "outputs": [
    {
     "data": {
      "text/plain": [
       "[0, 1, 2]"
      ]
     },
     "execution_count": 76,
     "metadata": {},
     "output_type": "execute_result"
    }
   ],
   "source": [
    ""
   ]
  },
  {
   "cell_type": "code",
   "execution_count": 42,
   "metadata": {
    "collapsed": false
   },
   "outputs": [
    {
     "data": {
      "text/plain": [
       "[3]"
      ]
     },
     "execution_count": 42,
     "metadata": {},
     "output_type": "execute_result"
    }
   ],
   "source": [
    "periods = ['1/1/2000','1/2/2000','1/3/2000','1/4/2000']\n",
    "windows = [[0], [1, 2]]\n",
    "\n",
    "[i for i, per in enumerate(periods) if i not in chain.from_iterable(windows)]"
   ]
  },
  {
   "cell_type": "code",
   "execution_count": 36,
   "metadata": {
    "collapsed": false
   },
   "outputs": [
    {
     "name": "stdout",
     "output_type": "stream",
     "text": [
      "0\n"
     ]
    }
   ],
   "source": [
    "for i in range(1):\n",
    "    print(i)"
   ]
  },
  {
   "cell_type": "code",
   "execution_count": 32,
   "metadata": {
    "collapsed": false
   },
   "outputs": [
    {
     "data": {
      "text/plain": [
       "[0, 1, [2, 3, [4, 5, 6]]]"
      ]
     },
     "execution_count": 32,
     "metadata": {},
     "output_type": "execute_result"
    }
   ],
   "source": [
    "from itertools import chain\n",
    "list(chain.from_iterable([[0],[1,[2,3,[4,5,6]]]]))"
   ]
  },
  {
   "cell_type": "code",
   "execution_count": 21,
   "metadata": {
    "collapsed": false
   },
   "outputs": [
    {
     "data": {
      "text/plain": [
       "[(10516, 'a', '1/1/2000', 1.01, 1, 0),\n",
       " (10516, 'a', '1/2/2000', 1.02, 2, 1),\n",
       " (10516, 'a', '1/3/2000', 1.03, 3, 1),\n",
       " (10516, 'a', '1/4/2000', 1.04, 4, 2),\n",
       " (10516, 'b', '1/1/2000', 1.05, 1, 0),\n",
       " (10516, 'b', '1/2/2000', 1.0600000000000001, 2, 1),\n",
       " (10516, 'b', '1/3/2000', 1.0700000000000001, 3, 1),\n",
       " (10516, 'b', '1/4/2000', 1.0800000000000001, 4, 2),\n",
       " (10517, 'a', '1/1/2000', 1.0900000000000001, 1, 0),\n",
       " (10517, 'a', '1/2/2000', 1.1000000000000001, 2, 1),\n",
       " (10517, 'a', '1/3/2000', 1.1100000000000001, 3, 1),\n",
       " (10517, 'a', '1/4/2000', 1.1200000000000001, 4, 2)]"
      ]
     },
     "execution_count": 21,
     "metadata": {},
     "output_type": "execute_result"
    }
   ],
   "source": [
    "windows = [[1],[2,3],[4]]\n",
    "a['map'] = a['group_index'].apply(lambda x: [x in window for window in windows].index(True))\n",
    "list([tup[1:] for tup in a.itertuples(name=None)])"
   ]
  },
  {
   "cell_type": "code",
   "execution_count": 69,
   "metadata": {
    "collapsed": false
   },
   "outputs": [
    {
     "data": {
      "text/html": [
       "<div>\n",
       "<table border=\"1\" class=\"dataframe\">\n",
       "  <thead>\n",
       "    <tr style=\"text-align: right;\">\n",
       "      <th></th>\n",
       "      <th>PERMNO</th>\n",
       "      <th>byvar</th>\n",
       "      <th>Date</th>\n",
       "      <th>RET</th>\n",
       "      <th>group_index</th>\n",
       "      <th>map</th>\n",
       "    </tr>\n",
       "  </thead>\n",
       "  <tbody>\n",
       "    <tr>\n",
       "      <th>0</th>\n",
       "      <td>10516</td>\n",
       "      <td>a</td>\n",
       "      <td>1/1/2000</td>\n",
       "      <td>1.01</td>\n",
       "      <td>0</td>\n",
       "      <td>0</td>\n",
       "    </tr>\n",
       "    <tr>\n",
       "      <th>1</th>\n",
       "      <td>10516</td>\n",
       "      <td>a</td>\n",
       "      <td>1/2/2000</td>\n",
       "      <td>1.02</td>\n",
       "      <td>1</td>\n",
       "      <td>1</td>\n",
       "    </tr>\n",
       "    <tr>\n",
       "      <th>2</th>\n",
       "      <td>10516</td>\n",
       "      <td>a</td>\n",
       "      <td>1/3/2000</td>\n",
       "      <td>1.03</td>\n",
       "      <td>2</td>\n",
       "      <td>1</td>\n",
       "    </tr>\n",
       "    <tr>\n",
       "      <th>3</th>\n",
       "      <td>10516</td>\n",
       "      <td>a</td>\n",
       "      <td>1/4/2000</td>\n",
       "      <td>1.04</td>\n",
       "      <td>3</td>\n",
       "      <td>2</td>\n",
       "    </tr>\n",
       "    <tr>\n",
       "      <th>4</th>\n",
       "      <td>10516</td>\n",
       "      <td>b</td>\n",
       "      <td>1/1/2000</td>\n",
       "      <td>1.05</td>\n",
       "      <td>0</td>\n",
       "      <td>0</td>\n",
       "    </tr>\n",
       "    <tr>\n",
       "      <th>5</th>\n",
       "      <td>10516</td>\n",
       "      <td>b</td>\n",
       "      <td>1/2/2000</td>\n",
       "      <td>1.06</td>\n",
       "      <td>1</td>\n",
       "      <td>1</td>\n",
       "    </tr>\n",
       "    <tr>\n",
       "      <th>6</th>\n",
       "      <td>10516</td>\n",
       "      <td>b</td>\n",
       "      <td>1/3/2000</td>\n",
       "      <td>1.07</td>\n",
       "      <td>2</td>\n",
       "      <td>1</td>\n",
       "    </tr>\n",
       "    <tr>\n",
       "      <th>7</th>\n",
       "      <td>10516</td>\n",
       "      <td>b</td>\n",
       "      <td>1/4/2000</td>\n",
       "      <td>1.08</td>\n",
       "      <td>3</td>\n",
       "      <td>2</td>\n",
       "    </tr>\n",
       "    <tr>\n",
       "      <th>8</th>\n",
       "      <td>10517</td>\n",
       "      <td>a</td>\n",
       "      <td>1/1/2000</td>\n",
       "      <td>1.09</td>\n",
       "      <td>0</td>\n",
       "      <td>0</td>\n",
       "    </tr>\n",
       "    <tr>\n",
       "      <th>9</th>\n",
       "      <td>10517</td>\n",
       "      <td>a</td>\n",
       "      <td>1/2/2000</td>\n",
       "      <td>1.10</td>\n",
       "      <td>1</td>\n",
       "      <td>1</td>\n",
       "    </tr>\n",
       "    <tr>\n",
       "      <th>10</th>\n",
       "      <td>10517</td>\n",
       "      <td>a</td>\n",
       "      <td>1/3/2000</td>\n",
       "      <td>1.11</td>\n",
       "      <td>2</td>\n",
       "      <td>1</td>\n",
       "    </tr>\n",
       "    <tr>\n",
       "      <th>11</th>\n",
       "      <td>10517</td>\n",
       "      <td>a</td>\n",
       "      <td>1/4/2000</td>\n",
       "      <td>1.12</td>\n",
       "      <td>3</td>\n",
       "      <td>2</td>\n",
       "    </tr>\n",
       "  </tbody>\n",
       "</table>\n",
       "</div>"
      ],
      "text/plain": [
       "    PERMNO byvar      Date   RET  group_index  map\n",
       "0    10516     a  1/1/2000  1.01            0    0\n",
       "1    10516     a  1/2/2000  1.02            1    1\n",
       "2    10516     a  1/3/2000  1.03            2    1\n",
       "3    10516     a  1/4/2000  1.04            3    2\n",
       "4    10516     b  1/1/2000  1.05            0    0\n",
       "5    10516     b  1/2/2000  1.06            1    1\n",
       "6    10516     b  1/3/2000  1.07            2    1\n",
       "7    10516     b  1/4/2000  1.08            3    2\n",
       "8    10517     a  1/1/2000  1.09            0    0\n",
       "9    10517     a  1/2/2000  1.10            1    1\n",
       "10   10517     a  1/3/2000  1.11            2    1\n",
       "11   10517     a  1/4/2000  1.12            3    2"
      ]
     },
     "execution_count": 69,
     "metadata": {},
     "output_type": "execute_result"
    }
   ],
   "source": [
    "a['group_index'] -= 1\n",
    "a"
   ]
  },
  {
   "cell_type": "code",
   "execution_count": 99,
   "metadata": {
    "collapsed": false
   },
   "outputs": [
    {
     "data": {
      "text/plain": [
       "{(10516, 'a'): array([0, 1, 2, 3]),\n",
       " (10516, 'b'): array([4, 5, 6, 7]),\n",
       " (10517, 'a'): array([ 8,  9, 10, 11])}"
      ]
     },
     "execution_count": 99,
     "metadata": {},
     "output_type": "execute_result"
    }
   ],
   "source": [
    "a.groupby(['PERMNO','byvar']).indices"
   ]
  },
  {
   "cell_type": "code",
   "execution_count": 137,
   "metadata": {
    "collapsed": false
   },
   "outputs": [
    {
     "data": {
      "text/plain": [
       "0     0\n",
       "1     1\n",
       "2     2\n",
       "3     2\n",
       "4     0\n",
       "5     1\n",
       "6     2\n",
       "7     2\n",
       "8     0\n",
       "9     1\n",
       "10    2\n",
       "11    2\n",
       "Name: Date, dtype: object"
      ]
     },
     "execution_count": 137,
     "metadata": {},
     "output_type": "execute_result"
    }
   ],
   "source": [
    "a.groupby(['PERMNO','byvar'])['Date'].transform(window_mapping)"
   ]
  },
  {
   "cell_type": "code",
   "execution_count": null,
   "metadata": {
    "collapsed": true
   },
   "outputs": [],
   "source": [
    ""
   ]
  },
  {
   "cell_type": "code",
   "execution_count": 141,
   "metadata": {
    "collapsed": false
   },
   "outputs": [
    {
     "data": {
      "text/html": [
       "<div>\n",
       "<table border=\"1\" class=\"dataframe\">\n",
       "  <thead>\n",
       "    <tr style=\"text-align: right;\">\n",
       "      <th></th>\n",
       "      <th>PERMNO</th>\n",
       "      <th>byvar</th>\n",
       "      <th>Date</th>\n",
       "      <th>RET</th>\n",
       "      <th>Date_transform</th>\n",
       "    </tr>\n",
       "  </thead>\n",
       "  <tbody>\n",
       "    <tr>\n",
       "      <th>0</th>\n",
       "      <td>10516</td>\n",
       "      <td>a</td>\n",
       "      <td>1/1/2000</td>\n",
       "      <td>1.01</td>\n",
       "      <td>0</td>\n",
       "    </tr>\n",
       "    <tr>\n",
       "      <th>1</th>\n",
       "      <td>10516</td>\n",
       "      <td>a</td>\n",
       "      <td>1/2/2000</td>\n",
       "      <td>1.02</td>\n",
       "      <td>1</td>\n",
       "    </tr>\n",
       "    <tr>\n",
       "      <th>2</th>\n",
       "      <td>10516</td>\n",
       "      <td>a</td>\n",
       "      <td>1/3/2000</td>\n",
       "      <td>1.03</td>\n",
       "      <td>2</td>\n",
       "    </tr>\n",
       "    <tr>\n",
       "      <th>3</th>\n",
       "      <td>10516</td>\n",
       "      <td>a</td>\n",
       "      <td>1/4/2000</td>\n",
       "      <td>1.04</td>\n",
       "      <td>2</td>\n",
       "    </tr>\n",
       "    <tr>\n",
       "      <th>4</th>\n",
       "      <td>10516</td>\n",
       "      <td>b</td>\n",
       "      <td>1/1/2000</td>\n",
       "      <td>1.05</td>\n",
       "      <td>0</td>\n",
       "    </tr>\n",
       "    <tr>\n",
       "      <th>5</th>\n",
       "      <td>10516</td>\n",
       "      <td>b</td>\n",
       "      <td>1/2/2000</td>\n",
       "      <td>1.06</td>\n",
       "      <td>1</td>\n",
       "    </tr>\n",
       "    <tr>\n",
       "      <th>6</th>\n",
       "      <td>10516</td>\n",
       "      <td>b</td>\n",
       "      <td>1/3/2000</td>\n",
       "      <td>1.07</td>\n",
       "      <td>2</td>\n",
       "    </tr>\n",
       "    <tr>\n",
       "      <th>7</th>\n",
       "      <td>10516</td>\n",
       "      <td>b</td>\n",
       "      <td>1/4/2000</td>\n",
       "      <td>1.08</td>\n",
       "      <td>2</td>\n",
       "    </tr>\n",
       "    <tr>\n",
       "      <th>8</th>\n",
       "      <td>10517</td>\n",
       "      <td>a</td>\n",
       "      <td>1/1/2000</td>\n",
       "      <td>1.09</td>\n",
       "      <td>0</td>\n",
       "    </tr>\n",
       "    <tr>\n",
       "      <th>9</th>\n",
       "      <td>10517</td>\n",
       "      <td>a</td>\n",
       "      <td>1/2/2000</td>\n",
       "      <td>1.10</td>\n",
       "      <td>1</td>\n",
       "    </tr>\n",
       "    <tr>\n",
       "      <th>10</th>\n",
       "      <td>10517</td>\n",
       "      <td>a</td>\n",
       "      <td>1/3/2000</td>\n",
       "      <td>1.11</td>\n",
       "      <td>2</td>\n",
       "    </tr>\n",
       "    <tr>\n",
       "      <th>11</th>\n",
       "      <td>10517</td>\n",
       "      <td>a</td>\n",
       "      <td>1/4/2000</td>\n",
       "      <td>1.12</td>\n",
       "      <td>2</td>\n",
       "    </tr>\n",
       "  </tbody>\n",
       "</table>\n",
       "</div>"
      ],
      "text/plain": [
       "    PERMNO byvar      Date   RET  Date_transform\n",
       "0    10516     a  1/1/2000  1.01               0\n",
       "1    10516     a  1/2/2000  1.02               1\n",
       "2    10516     a  1/3/2000  1.03               2\n",
       "3    10516     a  1/4/2000  1.04               2\n",
       "4    10516     b  1/1/2000  1.05               0\n",
       "5    10516     b  1/2/2000  1.06               1\n",
       "6    10516     b  1/3/2000  1.07               2\n",
       "7    10516     b  1/4/2000  1.08               2\n",
       "8    10517     a  1/1/2000  1.09               0\n",
       "9    10517     a  1/2/2000  1.10               1\n",
       "10   10517     a  1/3/2000  1.11               2\n",
       "11   10517     a  1/4/2000  1.12               2"
      ]
     },
     "execution_count": 141,
     "metadata": {},
     "output_type": "execute_result"
    }
   ],
   "source": [
    "dero.pandas.groupby_merge(df, ['PERMNO','byvar'], 'transform', (window_mapping), subset='Date')"
   ]
  },
  {
   "cell_type": "code",
   "execution_count": 122,
   "metadata": {
    "collapsed": true
   },
   "outputs": [],
   "source": [
    "def print_col(col):\n",
    "    print('Type: ', type(col))\n",
    "    print('Col:\\n', col)\n",
    "    print('\\n\\n')\n",
    "    return col"
   ]
  },
  {
   "cell_type": "code",
   "execution_count": 117,
   "metadata": {
    "collapsed": false
   },
   "outputs": [
    {
     "data": {
      "text/html": [
       "<div>\n",
       "<table border=\"1\" class=\"dataframe\">\n",
       "  <thead>\n",
       "    <tr style=\"text-align: right;\">\n",
       "      <th></th>\n",
       "      <th>group</th>\n",
       "      <th>num1</th>\n",
       "      <th>num2</th>\n",
       "    </tr>\n",
       "  </thead>\n",
       "  <tbody>\n",
       "    <tr>\n",
       "      <th>0</th>\n",
       "      <td>a</td>\n",
       "      <td>1</td>\n",
       "      <td>2</td>\n",
       "    </tr>\n",
       "    <tr>\n",
       "      <th>1</th>\n",
       "      <td>a</td>\n",
       "      <td>2</td>\n",
       "      <td>3</td>\n",
       "    </tr>\n",
       "    <tr>\n",
       "      <th>2</th>\n",
       "      <td>b</td>\n",
       "      <td>3</td>\n",
       "      <td>2</td>\n",
       "    </tr>\n",
       "    <tr>\n",
       "      <th>3</th>\n",
       "      <td>b</td>\n",
       "      <td>2</td>\n",
       "      <td>4</td>\n",
       "    </tr>\n",
       "  </tbody>\n",
       "</table>\n",
       "</div>"
      ],
      "text/plain": [
       "  group  num1  num2\n",
       "0     a     1     2\n",
       "1     a     2     3\n",
       "2     b     3     2\n",
       "3     b     2     4"
      ]
     },
     "execution_count": 117,
     "metadata": {},
     "output_type": "execute_result"
    }
   ],
   "source": [
    "c"
   ]
  },
  {
   "cell_type": "code",
   "execution_count": 124,
   "metadata": {
    "collapsed": false
   },
   "outputs": [
    {
     "name": "stdout",
     "output_type": "stream",
     "text": [
      "Type:  <class 'pandas.core.series.Series'>\n",
      "Col:\n",
      " 0    1\n",
      "1    2\n",
      "Name: a, dtype: int64\n",
      "\n",
      "\n",
      "\n",
      "Type:  <class 'pandas.core.series.Series'>\n",
      "Col:\n",
      " 2    3\n",
      "3    2\n",
      "Name: b, dtype: int64\n",
      "\n",
      "\n",
      "\n"
     ]
    },
    {
     "data": {
      "text/plain": [
       "0    1\n",
       "1    2\n",
       "2    3\n",
       "3    2\n",
       "Name: num1, dtype: int64"
      ]
     },
     "execution_count": 124,
     "metadata": {},
     "output_type": "execute_result"
    }
   ],
   "source": [
    "c = pd.DataFrame([('a',1,2),('a',2,3),('b',3,2),('b',2,4)], columns=['group','num1','num2'])\n",
    "c.groupby('group')['num1'].transform(print_col)"
   ]
  },
  {
   "cell_type": "code",
   "execution_count": 128,
   "metadata": {
    "collapsed": false
   },
   "outputs": [
    {
     "name": "stdout",
     "output_type": "stream",
     "text": [
      "Type:  <class 'pandas.core.series.Series'>\n",
      "Col:\n",
      " 0    1/1/2000\n",
      "1    1/2/2000\n",
      "2    1/3/2000\n",
      "3    1/4/2000\n",
      "Name: (10516, a), dtype: object\n",
      "\n",
      "\n",
      "\n",
      "Type:  <class 'pandas.core.series.Series'>\n",
      "Col:\n",
      " 4    1/1/2000\n",
      "5    1/2/2000\n",
      "6    1/3/2000\n",
      "7    1/4/2000\n",
      "Name: (10516, b), dtype: object\n",
      "\n",
      "\n",
      "\n",
      "Type:  <class 'pandas.core.series.Series'>\n",
      "Col:\n",
      " 8     1/1/2000\n",
      "9     1/2/2000\n",
      "10    1/3/2000\n",
      "11    1/4/2000\n",
      "Name: (10517, a), dtype: object\n",
      "\n",
      "\n",
      "\n"
     ]
    },
    {
     "data": {
      "text/plain": [
       "0     1/1/2000\n",
       "1     1/2/2000\n",
       "2     1/3/2000\n",
       "3     1/4/2000\n",
       "4     1/1/2000\n",
       "5     1/2/2000\n",
       "6     1/3/2000\n",
       "7     1/4/2000\n",
       "8     1/1/2000\n",
       "9     1/2/2000\n",
       "10    1/3/2000\n",
       "11    1/4/2000\n",
       "Name: Date, dtype: object"
      ]
     },
     "execution_count": 128,
     "metadata": {},
     "output_type": "execute_result"
    }
   ],
   "source": [
    "a.groupby(['PERMNO','byvar'])['Date'].transform(print_col)"
   ]
  },
  {
   "cell_type": "code",
   "execution_count": 64,
   "metadata": {
    "collapsed": false
   },
   "outputs": [
    {
     "data": {
      "text/plain": [
       "0     [[0], [1], [2, 3], [4, 5, 6, 7]]\n",
       "1     [[0], [1], [2, 3], [4, 5, 6, 7]]\n",
       "2     [[0], [1], [2, 3], [4, 5, 6, 7]]\n",
       "3     [[0], [1], [2, 3], [4, 5, 6, 7]]\n",
       "4     [[0], [1], [2, 3], [4, 5, 6, 7]]\n",
       "5     [[0], [1], [2, 3], [4, 5, 6, 7]]\n",
       "6     [[0], [1], [2, 3], [4, 5, 6, 7]]\n",
       "7     [[0], [1], [2, 3], [4, 5, 6, 7]]\n",
       "8     [[0], [1], [2, 3], [4, 5, 6, 7]]\n",
       "9     [[0], [1], [2, 3], [4, 5, 6, 7]]\n",
       "10    [[0], [1], [2, 3], [4, 5, 6, 7]]\n",
       "11    [[0], [1], [2, 3], [4, 5, 6, 7]]\n",
       "Name: Date, dtype: object"
      ]
     },
     "execution_count": 64,
     "metadata": {},
     "output_type": "execute_result"
    }
   ],
   "source": [
    "a['Date'].apply(create_windows)"
   ]
  },
  {
   "cell_type": "code",
   "execution_count": 55,
   "metadata": {
    "collapsed": false
   },
   "outputs": [
    {
     "data": {
      "text/plain": [
       "[[0], [1, 2], [3]]"
      ]
     },
     "execution_count": 55,
     "metadata": {},
     "output_type": "execute_result"
    }
   ],
   "source": [
    "#need to add from itertools import chain\n",
    "\n",
    "def create_windows(periods, method, time):\n",
    "    if method.lower() == 'first':\n",
    "#             windows = [[periods[0]]]\n",
    "#             if len(time) == 2:\n",
    "#                 windows += [[periods[1]]]\n",
    "#             elif len(time) > 2:\n",
    "#                 windows += [periods[1:]]\n",
    "#             return windows\n",
    "        windows = [[0]]\n",
    "        windows += [[i for i in range(1, len(periods))]]\n",
    "        return windows\n",
    "    elif method.lower() == 'between':\n",
    "        windows = []\n",
    "        for i, t in enumerate(time): #pick each element of time\n",
    "            if i == 0:\n",
    "                windows.append([0]) #first window for between is always just first return alone\n",
    "                t_bot = 0\n",
    "            else:\n",
    "                windows.append([i for i in range(t_bot + 1, t + 1)])\n",
    "                t_bot = t\n",
    "        #The last window is all the leftover periods after finishing time\n",
    "        extra_windows = [[i for i, per in enumerate(periods) if i not in chain.from_iterable(windows)]]\n",
    "        if extra_windows != [[]]: #don't want to add empty window\n",
    "            windows += extra_windows\n",
    "        return windows\n",
    "    elif method.lower() == 'zero':\n",
    "        windows = []\n",
    "        windows.append(periods[:periods.index(0) + 1]) #add times before 0, as well as 0\n",
    "        windows.append([0]) #add 0\n",
    "        windows.append(periods[periods.index(0) + 1:]) #add times after 0\n",
    "        return windows\n",
    "    \n",
    "create_windows(['1/1/2000','1/2/2000','1/3/2000','1/4/2000'], method='between', time=[1,2])"
   ]
  },
  {
   "cell_type": "code",
   "execution_count": 3,
   "metadata": {
    "collapsed": true
   },
   "outputs": [],
   "source": [
    "dero.pandas.groupby_merge?"
   ]
  },
  {
   "cell_type": "code",
   "execution_count": 7,
   "metadata": {
    "collapsed": false
   },
   "outputs": [
    {
     "data": {
      "text/html": [
       "<div>\n",
       "<table border=\"1\" class=\"dataframe\">\n",
       "  <thead>\n",
       "    <tr style=\"text-align: right;\">\n",
       "      <th></th>\n",
       "      <th>PERMNO</th>\n",
       "      <th>byvar</th>\n",
       "      <th>Date</th>\n",
       "      <th>RET</th>\n",
       "      <th>RET_transform</th>\n",
       "    </tr>\n",
       "  </thead>\n",
       "  <tbody>\n",
       "    <tr>\n",
       "      <th>0</th>\n",
       "      <td>10516</td>\n",
       "      <td>a</td>\n",
       "      <td>1/1/2000</td>\n",
       "      <td>1.01</td>\n",
       "      <td>0</td>\n",
       "    </tr>\n",
       "    <tr>\n",
       "      <th>1</th>\n",
       "      <td>10516</td>\n",
       "      <td>a</td>\n",
       "      <td>1/2/2000</td>\n",
       "      <td>1.02</td>\n",
       "      <td>1</td>\n",
       "    </tr>\n",
       "    <tr>\n",
       "      <th>2</th>\n",
       "      <td>10516</td>\n",
       "      <td>a</td>\n",
       "      <td>1/3/2000</td>\n",
       "      <td>1.03</td>\n",
       "      <td>2</td>\n",
       "    </tr>\n",
       "    <tr>\n",
       "      <th>3</th>\n",
       "      <td>10516</td>\n",
       "      <td>a</td>\n",
       "      <td>1/4/2000</td>\n",
       "      <td>1.04</td>\n",
       "      <td>3</td>\n",
       "    </tr>\n",
       "    <tr>\n",
       "      <th>4</th>\n",
       "      <td>10516</td>\n",
       "      <td>b</td>\n",
       "      <td>1/1/2000</td>\n",
       "      <td>1.05</td>\n",
       "      <td>0</td>\n",
       "    </tr>\n",
       "    <tr>\n",
       "      <th>5</th>\n",
       "      <td>10516</td>\n",
       "      <td>b</td>\n",
       "      <td>1/2/2000</td>\n",
       "      <td>1.06</td>\n",
       "      <td>1</td>\n",
       "    </tr>\n",
       "    <tr>\n",
       "      <th>6</th>\n",
       "      <td>10516</td>\n",
       "      <td>b</td>\n",
       "      <td>1/3/2000</td>\n",
       "      <td>1.07</td>\n",
       "      <td>2</td>\n",
       "    </tr>\n",
       "    <tr>\n",
       "      <th>7</th>\n",
       "      <td>10516</td>\n",
       "      <td>b</td>\n",
       "      <td>1/4/2000</td>\n",
       "      <td>1.08</td>\n",
       "      <td>3</td>\n",
       "    </tr>\n",
       "    <tr>\n",
       "      <th>8</th>\n",
       "      <td>10517</td>\n",
       "      <td>a</td>\n",
       "      <td>1/1/2000</td>\n",
       "      <td>1.09</td>\n",
       "      <td>0</td>\n",
       "    </tr>\n",
       "    <tr>\n",
       "      <th>9</th>\n",
       "      <td>10517</td>\n",
       "      <td>a</td>\n",
       "      <td>1/2/2000</td>\n",
       "      <td>1.10</td>\n",
       "      <td>1</td>\n",
       "    </tr>\n",
       "    <tr>\n",
       "      <th>10</th>\n",
       "      <td>10517</td>\n",
       "      <td>a</td>\n",
       "      <td>1/3/2000</td>\n",
       "      <td>1.11</td>\n",
       "      <td>2</td>\n",
       "    </tr>\n",
       "    <tr>\n",
       "      <th>11</th>\n",
       "      <td>10517</td>\n",
       "      <td>a</td>\n",
       "      <td>1/4/2000</td>\n",
       "      <td>1.12</td>\n",
       "      <td>3</td>\n",
       "    </tr>\n",
       "  </tbody>\n",
       "</table>\n",
       "</div>"
      ],
      "text/plain": [
       "    PERMNO byvar      Date   RET  RET_transform\n",
       "0    10516     a  1/1/2000  1.01              0\n",
       "1    10516     a  1/2/2000  1.02              1\n",
       "2    10516     a  1/3/2000  1.03              2\n",
       "3    10516     a  1/4/2000  1.04              3\n",
       "4    10516     b  1/1/2000  1.05              0\n",
       "5    10516     b  1/2/2000  1.06              1\n",
       "6    10516     b  1/3/2000  1.07              2\n",
       "7    10516     b  1/4/2000  1.08              3\n",
       "8    10517     a  1/1/2000  1.09              0\n",
       "9    10517     a  1/2/2000  1.10              1\n",
       "10   10517     a  1/3/2000  1.11              2\n",
       "11   10517     a  1/4/2000  1.12              3"
      ]
     },
     "execution_count": 7,
     "metadata": {},
     "output_type": "execute_result"
    }
   ],
   "source": [
    "dero.pandas.groupby_merge(df, ['PERMNO', 'byvar'], 'transform', (lambda x: [i for i in range(len(x))]), subset=['RET'])"
   ]
  },
  {
   "cell_type": "code",
   "execution_count": 41,
   "metadata": {
    "collapsed": false
   },
   "outputs": [
    {
     "data": {
      "text/html": [
       "<div>\n",
       "<table border=\"1\" class=\"dataframe\">\n",
       "  <thead>\n",
       "    <tr style=\"text-align: right;\">\n",
       "      <th></th>\n",
       "      <th>Date</th>\n",
       "      <th>RET</th>\n",
       "    </tr>\n",
       "  </thead>\n",
       "  <tbody>\n",
       "    <tr>\n",
       "      <th>0</th>\n",
       "      <td>0</td>\n",
       "      <td>0</td>\n",
       "    </tr>\n",
       "    <tr>\n",
       "      <th>1</th>\n",
       "      <td>1</td>\n",
       "      <td>1</td>\n",
       "    </tr>\n",
       "    <tr>\n",
       "      <th>2</th>\n",
       "      <td>2</td>\n",
       "      <td>2</td>\n",
       "    </tr>\n",
       "    <tr>\n",
       "      <th>3</th>\n",
       "      <td>3</td>\n",
       "      <td>3</td>\n",
       "    </tr>\n",
       "    <tr>\n",
       "      <th>4</th>\n",
       "      <td>0</td>\n",
       "      <td>0</td>\n",
       "    </tr>\n",
       "    <tr>\n",
       "      <th>5</th>\n",
       "      <td>1</td>\n",
       "      <td>1</td>\n",
       "    </tr>\n",
       "    <tr>\n",
       "      <th>6</th>\n",
       "      <td>2</td>\n",
       "      <td>2</td>\n",
       "    </tr>\n",
       "    <tr>\n",
       "      <th>7</th>\n",
       "      <td>3</td>\n",
       "      <td>3</td>\n",
       "    </tr>\n",
       "    <tr>\n",
       "      <th>8</th>\n",
       "      <td>0</td>\n",
       "      <td>0</td>\n",
       "    </tr>\n",
       "    <tr>\n",
       "      <th>9</th>\n",
       "      <td>1</td>\n",
       "      <td>1</td>\n",
       "    </tr>\n",
       "    <tr>\n",
       "      <th>10</th>\n",
       "      <td>2</td>\n",
       "      <td>2</td>\n",
       "    </tr>\n",
       "    <tr>\n",
       "      <th>11</th>\n",
       "      <td>3</td>\n",
       "      <td>3</td>\n",
       "    </tr>\n",
       "  </tbody>\n",
       "</table>\n",
       "</div>"
      ],
      "text/plain": [
       "    Date  RET\n",
       "0      0    0\n",
       "1      1    1\n",
       "2      2    2\n",
       "3      3    3\n",
       "4      0    0\n",
       "5      1    1\n",
       "6      2    2\n",
       "7      3    3\n",
       "8      0    0\n",
       "9      1    1\n",
       "10     2    2\n",
       "11     3    3"
      ]
     },
     "execution_count": 41,
     "metadata": {},
     "output_type": "execute_result"
    }
   ],
   "source": [
    "df.groupby(['PERMNO','byvar']).transform(lambda x: [i for i in range(len(x))])"
   ]
  },
  {
   "cell_type": "code",
   "execution_count": 27,
   "metadata": {
    "collapsed": false
   },
   "outputs": [
    {
     "data": {
      "text/plain": [
       "{(10516, 'a'): [0, 1, 2, 3],\n",
       " (10516, 'b'): [0, 1, 2, 3],\n",
       " (10517, 'a'): [0, 1, 2, 3]}"
      ]
     },
     "execution_count": 27,
     "metadata": {},
     "output_type": "execute_result"
    }
   ],
   "source": [
    "windows = [[1],[2,3]]\n",
    "\n",
    "for key in test:\n",
    "    by_group_index = [i for i in range(len(test[key]))]\n",
    "    \n",
    "    \n",
    "test"
   ]
  },
  {
   "cell_type": "code",
   "execution_count": 20,
   "metadata": {
    "collapsed": false
   },
   "outputs": [
    {
     "data": {
      "text/html": [
       "<div>\n",
       "<table border=\"1\" class=\"dataframe\">\n",
       "  <thead>\n",
       "    <tr style=\"text-align: right;\">\n",
       "      <th></th>\n",
       "      <th>0</th>\n",
       "      <th>1</th>\n",
       "      <th>2</th>\n",
       "      <th>3</th>\n",
       "    </tr>\n",
       "  </thead>\n",
       "  <tbody>\n",
       "    <tr>\n",
       "      <th>(10516, b)</th>\n",
       "      <td>0</td>\n",
       "      <td>1</td>\n",
       "      <td>2</td>\n",
       "      <td>3</td>\n",
       "    </tr>\n",
       "    <tr>\n",
       "      <th>(10517, a)</th>\n",
       "      <td>0</td>\n",
       "      <td>1</td>\n",
       "      <td>2</td>\n",
       "      <td>3</td>\n",
       "    </tr>\n",
       "    <tr>\n",
       "      <th>(10516, a)</th>\n",
       "      <td>0</td>\n",
       "      <td>1</td>\n",
       "      <td>2</td>\n",
       "      <td>3</td>\n",
       "    </tr>\n",
       "  </tbody>\n",
       "</table>\n",
       "</div>"
      ],
      "text/plain": [
       "            0  1  2  3\n",
       "(10516, b)  0  1  2  3\n",
       "(10517, a)  0  1  2  3\n",
       "(10516, a)  0  1  2  3"
      ]
     },
     "execution_count": 20,
     "metadata": {},
     "output_type": "execute_result"
    }
   ],
   "source": [
    "pd.DataFrame.from_dict(test, orient='index')"
   ]
  },
  {
   "cell_type": "code",
   "execution_count": 21,
   "metadata": {
    "collapsed": false
   },
   "outputs": [
    {
     "data": {
      "text/html": [
       "<div>\n",
       "<table border=\"1\" class=\"dataframe\">\n",
       "  <thead>\n",
       "    <tr style=\"text-align: right;\">\n",
       "      <th></th>\n",
       "      <th>PERMNO</th>\n",
       "      <th>byvar</th>\n",
       "      <th>Date</th>\n",
       "      <th>RET</th>\n",
       "    </tr>\n",
       "  </thead>\n",
       "  <tbody>\n",
       "    <tr>\n",
       "      <th>0</th>\n",
       "      <td>10516</td>\n",
       "      <td>a</td>\n",
       "      <td>1/1/2000</td>\n",
       "      <td>1.01</td>\n",
       "    </tr>\n",
       "    <tr>\n",
       "      <th>1</th>\n",
       "      <td>10516</td>\n",
       "      <td>a</td>\n",
       "      <td>1/2/2000</td>\n",
       "      <td>1.02</td>\n",
       "    </tr>\n",
       "    <tr>\n",
       "      <th>2</th>\n",
       "      <td>10516</td>\n",
       "      <td>a</td>\n",
       "      <td>1/3/2000</td>\n",
       "      <td>1.03</td>\n",
       "    </tr>\n",
       "    <tr>\n",
       "      <th>3</th>\n",
       "      <td>10516</td>\n",
       "      <td>a</td>\n",
       "      <td>1/4/2000</td>\n",
       "      <td>1.04</td>\n",
       "    </tr>\n",
       "    <tr>\n",
       "      <th>4</th>\n",
       "      <td>10516</td>\n",
       "      <td>b</td>\n",
       "      <td>1/1/2000</td>\n",
       "      <td>1.05</td>\n",
       "    </tr>\n",
       "    <tr>\n",
       "      <th>5</th>\n",
       "      <td>10516</td>\n",
       "      <td>b</td>\n",
       "      <td>1/2/2000</td>\n",
       "      <td>1.06</td>\n",
       "    </tr>\n",
       "    <tr>\n",
       "      <th>6</th>\n",
       "      <td>10516</td>\n",
       "      <td>b</td>\n",
       "      <td>1/3/2000</td>\n",
       "      <td>1.07</td>\n",
       "    </tr>\n",
       "    <tr>\n",
       "      <th>7</th>\n",
       "      <td>10516</td>\n",
       "      <td>b</td>\n",
       "      <td>1/4/2000</td>\n",
       "      <td>1.08</td>\n",
       "    </tr>\n",
       "    <tr>\n",
       "      <th>8</th>\n",
       "      <td>10517</td>\n",
       "      <td>a</td>\n",
       "      <td>1/1/2000</td>\n",
       "      <td>1.09</td>\n",
       "    </tr>\n",
       "    <tr>\n",
       "      <th>9</th>\n",
       "      <td>10517</td>\n",
       "      <td>a</td>\n",
       "      <td>1/2/2000</td>\n",
       "      <td>1.10</td>\n",
       "    </tr>\n",
       "    <tr>\n",
       "      <th>10</th>\n",
       "      <td>10517</td>\n",
       "      <td>a</td>\n",
       "      <td>1/3/2000</td>\n",
       "      <td>1.11</td>\n",
       "    </tr>\n",
       "    <tr>\n",
       "      <th>11</th>\n",
       "      <td>10517</td>\n",
       "      <td>a</td>\n",
       "      <td>1/4/2000</td>\n",
       "      <td>1.12</td>\n",
       "    </tr>\n",
       "  </tbody>\n",
       "</table>\n",
       "</div>"
      ],
      "text/plain": [
       "    PERMNO byvar      Date   RET\n",
       "0    10516     a  1/1/2000  1.01\n",
       "1    10516     a  1/2/2000  1.02\n",
       "2    10516     a  1/3/2000  1.03\n",
       "3    10516     a  1/4/2000  1.04\n",
       "4    10516     b  1/1/2000  1.05\n",
       "5    10516     b  1/2/2000  1.06\n",
       "6    10516     b  1/3/2000  1.07\n",
       "7    10516     b  1/4/2000  1.08\n",
       "8    10517     a  1/1/2000  1.09\n",
       "9    10517     a  1/2/2000  1.10\n",
       "10   10517     a  1/3/2000  1.11\n",
       "11   10517     a  1/4/2000  1.12"
      ]
     },
     "execution_count": 21,
     "metadata": {},
     "output_type": "execute_result"
    }
   ],
   "source": [
    "df"
   ]
  },
  {
   "cell_type": "code",
   "execution_count": 36,
   "metadata": {
    "collapsed": false
   },
   "outputs": [
    {
     "data": {
      "text/plain": [
       "0     10516_a\n",
       "1     10516_a\n",
       "2     10516_a\n",
       "3     10516_a\n",
       "4     10516_b\n",
       "5     10516_b\n",
       "6     10516_b\n",
       "7     10516_b\n",
       "8     10517_a\n",
       "9     10517_a\n",
       "10    10517_a\n",
       "11    10517_a\n",
       "dtype: object"
      ]
     },
     "execution_count": 36,
     "metadata": {},
     "output_type": "execute_result"
    }
   ],
   "source": [
    "ks = df[['PERMNO', 'byvar']].apply(lambda x: '_'.join(x.astype(str)), axis=1)\n",
    "ks"
   ]
  },
  {
   "cell_type": "code",
   "execution_count": null,
   "metadata": {
    "collapsed": true
   },
   "outputs": [],
   "source": [
    "def index_by_group(df, byvars, sortvar=None):\n",
    "    \"\"\"\n",
    "    Sorts the dataframe by byvars, then sortvar, then produces a column which contains the integer index\n",
    "    for each row in each group. Each time a new group is started, the value is zero.\n",
    "    \"\"\"\n",
    "    key_series = df[byvars].apply(lambda x: '_'.join(x.astype(str)), axis=1)\n",
    "    \n",
    "    \n",
    "    ###OLD CODE from split\n",
    "    df = df.sort_values(['key', periodvar])\n",
    "    small_df = df[['key'] + cumvars]\n",
    "    arr = small_df.values\n",
    "    splits = []\n",
    "    for i in range(arr.shape[0]):\n",
    "        if i == 0: continue\n",
    "        if arr[i,0] != arr[i-1,0]: #different key\n",
    "            splits.append(i)\n",
    "    return np.split(arr[:,1:], splits)"
   ]
  }
 ],
 "metadata": {
  "kernelspec": {
   "display_name": "Python35",
   "language": "python",
   "name": "python35"
  },
  "language_info": {
   "codemirror_mode": {
    "name": "ipython",
    "version": 3.0
   },
   "file_extension": ".py",
   "mimetype": "text/x-python",
   "name": "python",
   "nbconvert_exporter": "python",
   "pygments_lexer": "ipython3",
   "version": "3.5.1"
  }
 },
 "nbformat": 4,
 "nbformat_minor": 0
}